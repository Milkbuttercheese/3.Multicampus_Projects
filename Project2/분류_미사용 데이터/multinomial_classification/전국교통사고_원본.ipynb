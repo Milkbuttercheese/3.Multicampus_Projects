{
 "cells": [
  {
   "cell_type": "code",
   "execution_count": 1,
   "metadata": {
    "collapsed": true,
    "pycharm": {
     "name": "#%%\n"
    }
   },
   "outputs": [],
   "source": [
    "#데이터 핸들링 라이브러리\n",
    "import pandas as pd\n",
    "import numpy as np\n",
    "#데이터 시각화 라이브러리\n",
    "import seaborn as sns\n",
    "import matplotlib.pyplot as plt\n",
    "import matplotlib as mpl\n",
    "plt.rcParams.update({'font.family':'AppleGothic'})\n",
    "mpl.rc('axes', unicode_minus=False)\n",
    "%config InlineBackend.figure_format = 'retina'"
   ]
  },
  {
   "cell_type": "markdown",
   "source": [
    "## 데이터 전처리 계획\n",
    "1. 데이터 불러오기, 결측치 처리하기\n",
    "2. 상대적으로 중요성이 떨어져보이는 피처 삭제, 필요하면 피처명을 직관적으로 다시 네이밍하기\n",
    "3. 비숫자-문자열 독립변수 인코딩하기\n",
    "4. 데이터 정규화\n",
    "5. 훈련-테스트셋 분리\n",
    "\n",
    "## 모델 학습 계획\n",
    "1. 모델 생성\n",
    "2. Cross_validation을 통한 모델학습\n",
    "3. Accuracy, Precision,Recall, ROC 4개의 지표로 분류모델의 정확도 평가하기"
   ],
   "metadata": {
    "collapsed": false,
    "pycharm": {
     "name": "#%% md\n"
    }
   }
  },
  {
   "cell_type": "code",
   "execution_count": 2,
   "outputs": [
    {
     "name": "stdout",
     "output_type": "stream",
     "text": [
      "데이터 불러오기 및 통합에 걸린 시간은 29.06381106376648 입니다\n"
     ]
    },
    {
     "data": {
      "text/plain": "                    사고번호               사고일시   요일               시군구  사고내용  \\\n0       2021010100100022    2021년 1월 1일 02시  금요일       강원도 양양군 현남면  중상사고   \n1       2021010100100029    2021년 1월 1일 04시  금요일       강원도 횡성군 둔내면  경상사고   \n2       2021010100100040    2021년 1월 1일 08시  금요일       강원도 강릉시 강문동  중상사고   \n3       2021010100100065    2021년 1월 1일 11시  금요일       강원도 강릉시 옥계면  경상사고   \n4       2021010100100089    2021년 1월 1일 13시  금요일       강원도 동해시 천곡동  경상사고   \n...                  ...                ...  ...               ...   ...   \n194089  2021123100100335  2021년 12월 31일 16시  금요일  충청남도 천안시 동남구 광덕면  경상사고   \n194090  2021123100100383  2021년 12월 31일 17시  금요일      충청남도 부여군 장암면  중상사고   \n194091  2021123100100384  2021년 12월 31일 17시  금요일  충청남도 천안시 동남구 청당동  경상사고   \n194092  2021123100100578  2021년 12월 31일 21시  금요일      충청남도 보령시 명천동  경상사고   \n194093  2021123100100631  2021년 12월 31일 23시  금요일      충청남도 예산군 삽교읍  중상사고   \n\n        사망자수  중상자수  경상자수  부상신고자수          사고유형  ... 기상상태        도로형태 가해운전자 차종  \\\n0          0     1     1       0  차량단독 - 공작물충돌  ...   맑음    단일로 - 기타       승용   \n1          0     0     2       0  차량단독 - 공작물충돌  ...   맑음  교차로 - 교차로안       승용   \n2          0     1     0       0    차대사람 - 횡단중  ...   맑음    단일로 - 기타       화물   \n3          0     0     4       0    차대차 - 측면충돌  ...   맑음  교차로 - 교차로안       승용   \n4          0     0     2       0    차대차 - 측면충돌  ...   맑음    단일로 - 기타       승용   \n...      ...   ...   ...     ...           ...  ...  ...         ...      ...   \n194089     0     0     3       0    차대차 - 측면충돌  ...   맑음  교차로 - 교차로안       승용   \n194090     0     1     0       0      차대차 - 추돌  ...   맑음    단일로 - 기타       승용   \n194091     0     0     3       0    차대차 - 측면충돌  ...   맑음    단일로 - 기타       승용   \n194092     0     0     1       0      차대차 - 추돌  ...   맑음     기타 - 기타       승용   \n194093     0     1     0       0     차대사람 - 기타  ...   맑음  교차로 - 교차로안       승용   \n\n       가해운전자 성별 가해운전자 연령 가해운전자 상해정도 피해운전자 차종 피해운전자 성별 피해운전자 연령 피해운전자 상해정도  \n0             여      19세       상해없음      NaN      NaN      NaN        NaN  \n1             남      21세         경상      NaN      NaN      NaN        NaN  \n2             남      53세       상해없음      보행자        여      20세         중상  \n3             남      43세       상해없음       화물        남      49세         경상  \n4             남      62세       상해없음       승용        남      24세         경상  \n...         ...      ...        ...      ...      ...      ...        ...  \n194089        여      32세         경상       승용        남      42세         경상  \n194090        남      24세       상해없음      자전거        남      78세         중상  \n194091        남      25세         경상       승용        남      22세         경상  \n194092        남      59세       상해없음       승용        여      28세         경상  \n194093        남      56세       상해없음      보행자        남      40세         중상  \n\n[194094 rows x 22 columns]",
      "text/html": "<div>\n<style scoped>\n    .dataframe tbody tr th:only-of-type {\n        vertical-align: middle;\n    }\n\n    .dataframe tbody tr th {\n        vertical-align: top;\n    }\n\n    .dataframe thead th {\n        text-align: right;\n    }\n</style>\n<table border=\"1\" class=\"dataframe\">\n  <thead>\n    <tr style=\"text-align: right;\">\n      <th></th>\n      <th>사고번호</th>\n      <th>사고일시</th>\n      <th>요일</th>\n      <th>시군구</th>\n      <th>사고내용</th>\n      <th>사망자수</th>\n      <th>중상자수</th>\n      <th>경상자수</th>\n      <th>부상신고자수</th>\n      <th>사고유형</th>\n      <th>...</th>\n      <th>기상상태</th>\n      <th>도로형태</th>\n      <th>가해운전자 차종</th>\n      <th>가해운전자 성별</th>\n      <th>가해운전자 연령</th>\n      <th>가해운전자 상해정도</th>\n      <th>피해운전자 차종</th>\n      <th>피해운전자 성별</th>\n      <th>피해운전자 연령</th>\n      <th>피해운전자 상해정도</th>\n    </tr>\n  </thead>\n  <tbody>\n    <tr>\n      <th>0</th>\n      <td>2021010100100022</td>\n      <td>2021년 1월 1일 02시</td>\n      <td>금요일</td>\n      <td>강원도 양양군 현남면</td>\n      <td>중상사고</td>\n      <td>0</td>\n      <td>1</td>\n      <td>1</td>\n      <td>0</td>\n      <td>차량단독 - 공작물충돌</td>\n      <td>...</td>\n      <td>맑음</td>\n      <td>단일로 - 기타</td>\n      <td>승용</td>\n      <td>여</td>\n      <td>19세</td>\n      <td>상해없음</td>\n      <td>NaN</td>\n      <td>NaN</td>\n      <td>NaN</td>\n      <td>NaN</td>\n    </tr>\n    <tr>\n      <th>1</th>\n      <td>2021010100100029</td>\n      <td>2021년 1월 1일 04시</td>\n      <td>금요일</td>\n      <td>강원도 횡성군 둔내면</td>\n      <td>경상사고</td>\n      <td>0</td>\n      <td>0</td>\n      <td>2</td>\n      <td>0</td>\n      <td>차량단독 - 공작물충돌</td>\n      <td>...</td>\n      <td>맑음</td>\n      <td>교차로 - 교차로안</td>\n      <td>승용</td>\n      <td>남</td>\n      <td>21세</td>\n      <td>경상</td>\n      <td>NaN</td>\n      <td>NaN</td>\n      <td>NaN</td>\n      <td>NaN</td>\n    </tr>\n    <tr>\n      <th>2</th>\n      <td>2021010100100040</td>\n      <td>2021년 1월 1일 08시</td>\n      <td>금요일</td>\n      <td>강원도 강릉시 강문동</td>\n      <td>중상사고</td>\n      <td>0</td>\n      <td>1</td>\n      <td>0</td>\n      <td>0</td>\n      <td>차대사람 - 횡단중</td>\n      <td>...</td>\n      <td>맑음</td>\n      <td>단일로 - 기타</td>\n      <td>화물</td>\n      <td>남</td>\n      <td>53세</td>\n      <td>상해없음</td>\n      <td>보행자</td>\n      <td>여</td>\n      <td>20세</td>\n      <td>중상</td>\n    </tr>\n    <tr>\n      <th>3</th>\n      <td>2021010100100065</td>\n      <td>2021년 1월 1일 11시</td>\n      <td>금요일</td>\n      <td>강원도 강릉시 옥계면</td>\n      <td>경상사고</td>\n      <td>0</td>\n      <td>0</td>\n      <td>4</td>\n      <td>0</td>\n      <td>차대차 - 측면충돌</td>\n      <td>...</td>\n      <td>맑음</td>\n      <td>교차로 - 교차로안</td>\n      <td>승용</td>\n      <td>남</td>\n      <td>43세</td>\n      <td>상해없음</td>\n      <td>화물</td>\n      <td>남</td>\n      <td>49세</td>\n      <td>경상</td>\n    </tr>\n    <tr>\n      <th>4</th>\n      <td>2021010100100089</td>\n      <td>2021년 1월 1일 13시</td>\n      <td>금요일</td>\n      <td>강원도 동해시 천곡동</td>\n      <td>경상사고</td>\n      <td>0</td>\n      <td>0</td>\n      <td>2</td>\n      <td>0</td>\n      <td>차대차 - 측면충돌</td>\n      <td>...</td>\n      <td>맑음</td>\n      <td>단일로 - 기타</td>\n      <td>승용</td>\n      <td>남</td>\n      <td>62세</td>\n      <td>상해없음</td>\n      <td>승용</td>\n      <td>남</td>\n      <td>24세</td>\n      <td>경상</td>\n    </tr>\n    <tr>\n      <th>...</th>\n      <td>...</td>\n      <td>...</td>\n      <td>...</td>\n      <td>...</td>\n      <td>...</td>\n      <td>...</td>\n      <td>...</td>\n      <td>...</td>\n      <td>...</td>\n      <td>...</td>\n      <td>...</td>\n      <td>...</td>\n      <td>...</td>\n      <td>...</td>\n      <td>...</td>\n      <td>...</td>\n      <td>...</td>\n      <td>...</td>\n      <td>...</td>\n      <td>...</td>\n      <td>...</td>\n    </tr>\n    <tr>\n      <th>194089</th>\n      <td>2021123100100335</td>\n      <td>2021년 12월 31일 16시</td>\n      <td>금요일</td>\n      <td>충청남도 천안시 동남구 광덕면</td>\n      <td>경상사고</td>\n      <td>0</td>\n      <td>0</td>\n      <td>3</td>\n      <td>0</td>\n      <td>차대차 - 측면충돌</td>\n      <td>...</td>\n      <td>맑음</td>\n      <td>교차로 - 교차로안</td>\n      <td>승용</td>\n      <td>여</td>\n      <td>32세</td>\n      <td>경상</td>\n      <td>승용</td>\n      <td>남</td>\n      <td>42세</td>\n      <td>경상</td>\n    </tr>\n    <tr>\n      <th>194090</th>\n      <td>2021123100100383</td>\n      <td>2021년 12월 31일 17시</td>\n      <td>금요일</td>\n      <td>충청남도 부여군 장암면</td>\n      <td>중상사고</td>\n      <td>0</td>\n      <td>1</td>\n      <td>0</td>\n      <td>0</td>\n      <td>차대차 - 추돌</td>\n      <td>...</td>\n      <td>맑음</td>\n      <td>단일로 - 기타</td>\n      <td>승용</td>\n      <td>남</td>\n      <td>24세</td>\n      <td>상해없음</td>\n      <td>자전거</td>\n      <td>남</td>\n      <td>78세</td>\n      <td>중상</td>\n    </tr>\n    <tr>\n      <th>194091</th>\n      <td>2021123100100384</td>\n      <td>2021년 12월 31일 17시</td>\n      <td>금요일</td>\n      <td>충청남도 천안시 동남구 청당동</td>\n      <td>경상사고</td>\n      <td>0</td>\n      <td>0</td>\n      <td>3</td>\n      <td>0</td>\n      <td>차대차 - 측면충돌</td>\n      <td>...</td>\n      <td>맑음</td>\n      <td>단일로 - 기타</td>\n      <td>승용</td>\n      <td>남</td>\n      <td>25세</td>\n      <td>경상</td>\n      <td>승용</td>\n      <td>남</td>\n      <td>22세</td>\n      <td>경상</td>\n    </tr>\n    <tr>\n      <th>194092</th>\n      <td>2021123100100578</td>\n      <td>2021년 12월 31일 21시</td>\n      <td>금요일</td>\n      <td>충청남도 보령시 명천동</td>\n      <td>경상사고</td>\n      <td>0</td>\n      <td>0</td>\n      <td>1</td>\n      <td>0</td>\n      <td>차대차 - 추돌</td>\n      <td>...</td>\n      <td>맑음</td>\n      <td>기타 - 기타</td>\n      <td>승용</td>\n      <td>남</td>\n      <td>59세</td>\n      <td>상해없음</td>\n      <td>승용</td>\n      <td>여</td>\n      <td>28세</td>\n      <td>경상</td>\n    </tr>\n    <tr>\n      <th>194093</th>\n      <td>2021123100100631</td>\n      <td>2021년 12월 31일 23시</td>\n      <td>금요일</td>\n      <td>충청남도 예산군 삽교읍</td>\n      <td>중상사고</td>\n      <td>0</td>\n      <td>1</td>\n      <td>0</td>\n      <td>0</td>\n      <td>차대사람 - 기타</td>\n      <td>...</td>\n      <td>맑음</td>\n      <td>교차로 - 교차로안</td>\n      <td>승용</td>\n      <td>남</td>\n      <td>56세</td>\n      <td>상해없음</td>\n      <td>보행자</td>\n      <td>남</td>\n      <td>40세</td>\n      <td>중상</td>\n    </tr>\n  </tbody>\n</table>\n<p>194094 rows × 22 columns</p>\n</div>"
     },
     "execution_count": 2,
     "metadata": {},
     "output_type": "execute_result"
    }
   ],
   "source": [
    "#1. 데이터 불러오기 from TAAS: http://taas.koroad.or.kr/web/shp/sbm/initGisAnals.do?menuId=WEB_KMP_GIS_TAS\n",
    "## 해당 경로에 있는 .csv 파일명 리스트 가져오기\n",
    "\n",
    "import os\n",
    "import time\n",
    "t_0= time.time()\n",
    "\n",
    "path = './교통사고_2021/'\n",
    "file_list = os.listdir(path)\n",
    "file_list_py = [file for file in file_list if file.endswith('.xls')] ## 파일명 끝이 .xls인 경우\n",
    "\n",
    "## csv 파일들을 DataFrame으로 불러와서 concat\n",
    "\n",
    "death_df = pd.DataFrame()\n",
    "for i in file_list_py:\n",
    "    data = pd.read_html(path + i)\n",
    "    data= data[0]\n",
    "    death_df = pd.concat([death_df,data])\n",
    "\n",
    "death_df = death_df.reset_index(drop = True)\n",
    "print(f'데이터 불러오기 및 통합에 걸린 시간은 {str(time.time()-t_0)} 입니다')\n",
    "death_df"
   ],
   "metadata": {
    "collapsed": false,
    "pycharm": {
     "name": "#%%\n"
    }
   }
  },
  {
   "cell_type": "code",
   "execution_count": 3,
   "outputs": [
    {
     "data": {
      "text/plain": "사고번호          0\n사고일시          0\n요일            0\n시군구           0\n사고내용          0\n사망자수          0\n중상자수          0\n경상자수          0\n부상신고자수        0\n사고유형          0\n법규위반          0\n노면상태          0\n기상상태          0\n도로형태          0\n가해운전자 차종      0\n가해운전자 성별      0\n가해운전자 연령      0\n가해운전자 상해정도    0\n피해운전자 차종      0\n피해운전자 성별      0\n피해운전자 연령      0\n피해운전자 상해정도    0\ndtype: int64"
     },
     "execution_count": 3,
     "metadata": {},
     "output_type": "execute_result"
    }
   ],
   "source": [
    "\"\"\"\n",
    "결측치 확인하기 => 피해운전자의 차종,성별,연령,상해정도를 파악하지 못하는 데이터가 6687건이 존재함\n",
    "원본데이터 194094에 비하면 삭제해도 학습에 영향력을 크게 미치지 못하뿐더러, 이러한 데이터들이\n",
    "특정 편향성을 갖고 존재할 것이라 보기 어렵다(아마도 기록 누락에 의해 이러한 데이터가 존재할 것이기 때문)\n",
    "그렇기 때문에 데이터를 제거해도 될것이라 판단하였음\n",
    "\"\"\"\n",
    "death_df.isnull().sum()\n",
    "death_df.dropna(inplace=True)\n",
    "death_df.isnull().sum()"
   ],
   "metadata": {
    "collapsed": false,
    "pycharm": {
     "name": "#%%\n"
    }
   }
  },
  {
   "cell_type": "code",
   "execution_count": 4,
   "outputs": [
    {
     "name": "stdout",
     "output_type": "stream",
     "text": [
      "<class 'pandas.core.frame.DataFrame'>\n",
      "Int64Index: 187407 entries, 2 to 194093\n",
      "Data columns (total 22 columns):\n",
      " #   Column      Non-Null Count   Dtype \n",
      "---  ------      --------------   ----- \n",
      " 0   사고번호        187407 non-null  int64 \n",
      " 1   사고일시        187407 non-null  object\n",
      " 2   요일          187407 non-null  object\n",
      " 3   시군구         187407 non-null  object\n",
      " 4   사고내용        187407 non-null  object\n",
      " 5   사망자수        187407 non-null  int64 \n",
      " 6   중상자수        187407 non-null  int64 \n",
      " 7   경상자수        187407 non-null  int64 \n",
      " 8   부상신고자수      187407 non-null  int64 \n",
      " 9   사고유형        187407 non-null  object\n",
      " 10  법규위반        187407 non-null  object\n",
      " 11  노면상태        187407 non-null  object\n",
      " 12  기상상태        187407 non-null  object\n",
      " 13  도로형태        187407 non-null  object\n",
      " 14  가해운전자 차종    187407 non-null  object\n",
      " 15  가해운전자 성별    187407 non-null  object\n",
      " 16  가해운전자 연령    187407 non-null  object\n",
      " 17  가해운전자 상해정도  187407 non-null  object\n",
      " 18  피해운전자 차종    187407 non-null  object\n",
      " 19  피해운전자 성별    187407 non-null  object\n",
      " 20  피해운전자 연령    187407 non-null  object\n",
      " 21  피해운전자 상해정도  187407 non-null  object\n",
      "dtypes: int64(5), object(17)\n",
      "memory usage: 32.9+ MB\n",
      "None\n"
     ]
    },
    {
     "data": {
      "text/plain": "               사고번호             사고일시   요일          시군구  사고내용  사망자수  중상자수  \\\n2  2021010100100040  2021년 1월 1일 08시  금요일  강원도 강릉시 강문동  중상사고     0     1   \n3  2021010100100065  2021년 1월 1일 11시  금요일  강원도 강릉시 옥계면  경상사고     0     0   \n4  2021010100100089  2021년 1월 1일 13시  금요일  강원도 동해시 천곡동  경상사고     0     0   \n5  2021010100100123  2021년 1월 1일 15시  금요일  강원도 강릉시 포남동  사망사고     1     0   \n6  2021010100100146  2021년 1월 1일 17시  금요일  강원도 강릉시 옥천동  경상사고     0     0   \n\n   경상자수  부상신고자수        사고유형  ... 기상상태         도로형태 가해운전자 차종 가해운전자 성별 가해운전자 연령  \\\n2     0       0  차대사람 - 횡단중  ...   맑음     단일로 - 기타       화물        남      53세   \n3     4       0  차대차 - 측면충돌  ...   맑음   교차로 - 교차로안       승용        남      43세   \n4     2       0  차대차 - 측면충돌  ...   맑음     단일로 - 기타       승용        남      62세   \n5     0       0  차대차 - 측면충돌  ...   맑음   교차로 - 교차로안      원동기        남      16세   \n6     2       0    차대차 - 추돌  ...   맑음  교차로 - 교차로부근       승용        여      33세   \n\n  가해운전자 상해정도 피해운전자 차종 피해운전자 성별 피해운전자 연령 피해운전자 상해정도  \n2       상해없음      보행자        여      20세         중상  \n3       상해없음       화물        남      49세         경상  \n4       상해없음       승용        남      24세         경상  \n5       상해없음       승용        여      50세       상해없음  \n6       상해없음       승용        남      27세         경상  \n\n[5 rows x 22 columns]",
      "text/html": "<div>\n<style scoped>\n    .dataframe tbody tr th:only-of-type {\n        vertical-align: middle;\n    }\n\n    .dataframe tbody tr th {\n        vertical-align: top;\n    }\n\n    .dataframe thead th {\n        text-align: right;\n    }\n</style>\n<table border=\"1\" class=\"dataframe\">\n  <thead>\n    <tr style=\"text-align: right;\">\n      <th></th>\n      <th>사고번호</th>\n      <th>사고일시</th>\n      <th>요일</th>\n      <th>시군구</th>\n      <th>사고내용</th>\n      <th>사망자수</th>\n      <th>중상자수</th>\n      <th>경상자수</th>\n      <th>부상신고자수</th>\n      <th>사고유형</th>\n      <th>...</th>\n      <th>기상상태</th>\n      <th>도로형태</th>\n      <th>가해운전자 차종</th>\n      <th>가해운전자 성별</th>\n      <th>가해운전자 연령</th>\n      <th>가해운전자 상해정도</th>\n      <th>피해운전자 차종</th>\n      <th>피해운전자 성별</th>\n      <th>피해운전자 연령</th>\n      <th>피해운전자 상해정도</th>\n    </tr>\n  </thead>\n  <tbody>\n    <tr>\n      <th>2</th>\n      <td>2021010100100040</td>\n      <td>2021년 1월 1일 08시</td>\n      <td>금요일</td>\n      <td>강원도 강릉시 강문동</td>\n      <td>중상사고</td>\n      <td>0</td>\n      <td>1</td>\n      <td>0</td>\n      <td>0</td>\n      <td>차대사람 - 횡단중</td>\n      <td>...</td>\n      <td>맑음</td>\n      <td>단일로 - 기타</td>\n      <td>화물</td>\n      <td>남</td>\n      <td>53세</td>\n      <td>상해없음</td>\n      <td>보행자</td>\n      <td>여</td>\n      <td>20세</td>\n      <td>중상</td>\n    </tr>\n    <tr>\n      <th>3</th>\n      <td>2021010100100065</td>\n      <td>2021년 1월 1일 11시</td>\n      <td>금요일</td>\n      <td>강원도 강릉시 옥계면</td>\n      <td>경상사고</td>\n      <td>0</td>\n      <td>0</td>\n      <td>4</td>\n      <td>0</td>\n      <td>차대차 - 측면충돌</td>\n      <td>...</td>\n      <td>맑음</td>\n      <td>교차로 - 교차로안</td>\n      <td>승용</td>\n      <td>남</td>\n      <td>43세</td>\n      <td>상해없음</td>\n      <td>화물</td>\n      <td>남</td>\n      <td>49세</td>\n      <td>경상</td>\n    </tr>\n    <tr>\n      <th>4</th>\n      <td>2021010100100089</td>\n      <td>2021년 1월 1일 13시</td>\n      <td>금요일</td>\n      <td>강원도 동해시 천곡동</td>\n      <td>경상사고</td>\n      <td>0</td>\n      <td>0</td>\n      <td>2</td>\n      <td>0</td>\n      <td>차대차 - 측면충돌</td>\n      <td>...</td>\n      <td>맑음</td>\n      <td>단일로 - 기타</td>\n      <td>승용</td>\n      <td>남</td>\n      <td>62세</td>\n      <td>상해없음</td>\n      <td>승용</td>\n      <td>남</td>\n      <td>24세</td>\n      <td>경상</td>\n    </tr>\n    <tr>\n      <th>5</th>\n      <td>2021010100100123</td>\n      <td>2021년 1월 1일 15시</td>\n      <td>금요일</td>\n      <td>강원도 강릉시 포남동</td>\n      <td>사망사고</td>\n      <td>1</td>\n      <td>0</td>\n      <td>0</td>\n      <td>0</td>\n      <td>차대차 - 측면충돌</td>\n      <td>...</td>\n      <td>맑음</td>\n      <td>교차로 - 교차로안</td>\n      <td>원동기</td>\n      <td>남</td>\n      <td>16세</td>\n      <td>상해없음</td>\n      <td>승용</td>\n      <td>여</td>\n      <td>50세</td>\n      <td>상해없음</td>\n    </tr>\n    <tr>\n      <th>6</th>\n      <td>2021010100100146</td>\n      <td>2021년 1월 1일 17시</td>\n      <td>금요일</td>\n      <td>강원도 강릉시 옥천동</td>\n      <td>경상사고</td>\n      <td>0</td>\n      <td>0</td>\n      <td>2</td>\n      <td>0</td>\n      <td>차대차 - 추돌</td>\n      <td>...</td>\n      <td>맑음</td>\n      <td>교차로 - 교차로부근</td>\n      <td>승용</td>\n      <td>여</td>\n      <td>33세</td>\n      <td>상해없음</td>\n      <td>승용</td>\n      <td>남</td>\n      <td>27세</td>\n      <td>경상</td>\n    </tr>\n  </tbody>\n</table>\n<p>5 rows × 22 columns</p>\n</div>"
     },
     "execution_count": 4,
     "metadata": {},
     "output_type": "execute_result"
    }
   ],
   "source": [
    "#데이터 정보 찾기\n",
    "print(death_df.info())\n",
    "death_df.head()"
   ],
   "metadata": {
    "collapsed": false,
    "pycharm": {
     "name": "#%%\n"
    }
   }
  },
  {
   "cell_type": "code",
   "execution_count": 21,
   "outputs": [
    {
     "data": {
      "text/plain": "0    136117\n2     46659\n1      2140\nName: 사고내용, dtype: int64"
     },
     "execution_count": 21,
     "metadata": {},
     "output_type": "execute_result"
    }
   ],
   "source": [
    "death_df['사고내용'].value_counts()"
   ],
   "metadata": {
    "collapsed": false,
    "pycharm": {
     "name": "#%%\n"
    }
   }
  },
  {
   "cell_type": "code",
   "execution_count": 6,
   "outputs": [],
   "source": [
    "#2.불필요해보이는 컬럼 제거\n",
    "'''\n",
    "사고번호는 각 사고에 대해 일대일 대응되는 key값으로 나중에 데이터를 결합시키는데 사용될 수 있어 보이므로 남겨둠\n",
    "사망자수,중상자수,경상자수,부상신고자는 '피해운전자 상해정도'에 필요한 정보가 담겨있으므로 삭제한다\n",
    "위치정보는 사용하지 않으므로 시군구도 삭제한다\n",
    "\n",
    "'''\n",
    "death_df.drop(['시군구','사망자수','중상자수','경상자수','부상신고자수','노면상태','가해운전자 상해정도','피해운전자 상해정도'],axis=1,inplace=True)\n",
    "\n",
    "## 컬럼 핸들링하기\n",
    "##시간에 따른 시계가 교통사고의 요인중 하나일 수 있으므로 발생년월일시에서 시간만 떼어 새로운 컬럼으로 만듬\n",
    "time_lst= list(death_df['사고일시'])\n",
    "hour_lst=[]\n",
    "for time in time_lst:\n",
    "    hour_lst.append((str(time)[-3:-1]))\n",
    "death_df['사고시각']= hour_lst\n",
    "#사고일시 컬럼은 삭제\n",
    "death_df.drop(['사고일시'],axis=1,inplace=True)\n"
   ],
   "metadata": {
    "collapsed": false,
    "pycharm": {
     "name": "#%%\n"
    }
   }
  },
  {
   "cell_type": "code",
   "execution_count": 7,
   "outputs": [],
   "source": [
    "\n",
    "\n",
    "#피해운전자, 가해운전자 연령 미분류 삭제하기\n",
    "idx= death_df[death_df['피해운전자 연령']=='미분류'].index\n",
    "death_df.drop(idx,inplace=True)\n",
    "idx= death_df[death_df['피해운전자 연령']=='98세 이상'].index\n",
    "death_df.drop(idx,inplace=True)\n",
    "\n",
    "idx2= death_df[death_df['가해운전자 연령']=='미분류'].index\n",
    "death_df.drop(idx2,inplace=True)\n",
    "\n",
    "\n",
    "#나이 컬럼: 숫자단위만 뽑기\n",
    "suspect_lst= list(death_df['가해운전자 연령'])\n",
    "suspect_old= []\n",
    "for old in suspect_lst:\n",
    "    suspect_old.append((old)[:-1])\n",
    "\n",
    "death_df['가해운전자 연령']=suspect_old\n",
    "\n",
    "victim_lst= list(death_df['피해운전자 연령'])\n",
    "victim_old= []\n",
    "for old in victim_lst:\n",
    "    victim_old.append((old)[:-1])\n",
    "death_df['피해운전자 연령']=victim_old\n"
   ],
   "metadata": {
    "collapsed": false,
    "pycharm": {
     "name": "#%%\n"
    }
   }
  },
  {
   "cell_type": "code",
   "execution_count": 8,
   "outputs": [],
   "source": [
    "death_df=death_df.reindex(columns=['사고시각','사고유형','법규위반','기상상태','도로형태','가해운전자 차종','가해운전자 성별','가해운전자 연령','피해운전자 차종'\\\n",
    "                           ,'피해운전자 성별','피해운전자 연령','사고번호','사고내용'])"
   ],
   "metadata": {
    "collapsed": false,
    "pycharm": {
     "name": "#%%\n"
    }
   }
  },
  {
   "cell_type": "code",
   "execution_count": 9,
   "outputs": [],
   "source": [
    "#데이터 자료형 변환: 문자열-> 정수형\n",
    "death_df['사고시각']=death_df['사고시각'].astype('int')\n",
    "death_df['가해운전자 연령']=death_df['가해운전자 연령'].astype('int')\n",
    "death_df['피해운전자 연령']=death_df['피해운전자 연령'].astype('int')"
   ],
   "metadata": {
    "collapsed": false,
    "pycharm": {
     "name": "#%%\n"
    }
   }
  },
  {
   "cell_type": "markdown",
   "source": [
    "![](https://scikit-learn.org/stable/_images/multi_org_chart.png)"
   ],
   "metadata": {
    "collapsed": false,
    "pycharm": {
     "name": "#%% md\n"
    }
   }
  },
  {
   "cell_type": "code",
   "execution_count": 10,
   "outputs": [
    {
     "name": "stdout",
     "output_type": "stream",
     "text": [
      "Object `#우선 의사결정나무와 랜덤포레스트 머신러닝 기법을 활용해보도록 한다. 그러므로 범주형 변수의 인코딩으로 레이블인코딩을 해도 되게 된다` not found.\n"
     ]
    }
   ],
   "source": [
    "?#우선 의사결정나무와 랜덤포레스트 머신러닝 기법을 활용해보도록 한다. 그러므로 범주형 변수의 인코딩으로 레이블인코딩을 해도 되게 된다\n",
    "#3.범주형 변수 인코딩하기\n",
    "#한번만 인코딩해야됨. 두번하면 안됨\n",
    "from sklearn.preprocessing import LabelEncoder\n",
    "\n",
    "categories_backup=[]\n",
    "features=['사고유형','법규위반','기상상태','도로형태','가해운전자 차종','가해운전자 성별','피해운전자 차종','피해운전자 성별','사고내용']\n",
    "for feature in features:\n",
    "    LE= LabelEncoder()\n",
    "    LE= LE.fit( death_df[feature])\n",
    "    #카테고리 백업해두기\n",
    "    categories_backup.append(list(LE.classes_))\n",
    "    #인코딩하기\n",
    "    death_df[feature]= LE.transform(death_df[feature])"
   ],
   "metadata": {
    "collapsed": false,
    "pycharm": {
     "name": "#%%\n"
    }
   }
  },
  {
   "cell_type": "code",
   "execution_count": 11,
   "outputs": [
    {
     "data": {
      "text/plain": "[['차대사람 - 기타',\n  '차대사람 - 길가장자리구역통행중',\n  '차대사람 - 보도통행중',\n  '차대사람 - 차도통행중',\n  '차대사람 - 횡단중',\n  '차대차 - 기타',\n  '차대차 - 정면충돌',\n  '차대차 - 추돌',\n  '차대차 - 측면충돌',\n  '차대차 - 후진중충돌',\n  '철길건널목 - 철길건널목'],\n ['과속',\n  '교차로운행방법위반',\n  '기타',\n  '보행자보호의무위반',\n  '불법유턴',\n  '신호위반',\n  '안전거리미확보',\n  '안전운전불이행',\n  '중앙선침범',\n  '직진우회전진행방해',\n  '차로위반'],\n ['기타', '눈', '맑음', '비', '안개', '흐림'],\n ['교차로 - 교차로부근',\n  '교차로 - 교차로안',\n  '교차로 - 교차로횡단보도내',\n  '기타 - 기타',\n  '단일로 - 고가도로위',\n  '단일로 - 교량',\n  '단일로 - 기타',\n  '단일로 - 지하차도(도로)내',\n  '단일로 - 철길건널목',\n  '단일로 - 터널',\n  '미분류 - 미분류',\n  '주차장 - 주차장'],\n ['개인형이동수단(PM)',\n  '건설기계',\n  '기타불명',\n  '농기계',\n  '사륜오토바이(ATV)',\n  '승용',\n  '승합',\n  '원동기',\n  '이륜',\n  '자전거',\n  '특수',\n  '화물'],\n ['기타불명', '남', '여'],\n ['개인형이동수단(PM)',\n  '건설기계',\n  '기타불명',\n  '농기계',\n  '보행자',\n  '사륜오토바이(ATV)',\n  '승용',\n  '승합',\n  '원동기',\n  '이륜',\n  '자전거',\n  '특수',\n  '화물'],\n ['남', '여'],\n ['경상사고', '사망사고', '중상사고']]"
     },
     "execution_count": 11,
     "metadata": {},
     "output_type": "execute_result"
    }
   ],
   "source": [
    "#백업해둔 카테고리명 다시 한번 확인하기\n",
    "categories_backup"
   ],
   "metadata": {
    "collapsed": false,
    "pycharm": {
     "name": "#%%\n"
    }
   }
  },
  {
   "cell_type": "code",
   "execution_count": 12,
   "outputs": [
    {
     "name": "stderr",
     "output_type": "stream",
     "text": [
      "/Users/wooseongkyun/miniforge3/lib/python3.9/site-packages/lightgbm/sklearn.py:726: UserWarning: 'early_stopping_rounds' argument is deprecated and will be removed in a future release of LightGBM. Pass 'early_stopping()' callback via 'callbacks' argument instead.\n",
      "  _log_warning(\"'early_stopping_rounds' argument is deprecated and will be removed in a future release of LightGBM. \"\n",
      "/Users/wooseongkyun/miniforge3/lib/python3.9/site-packages/lightgbm/sklearn.py:736: UserWarning: 'verbose' argument is deprecated and will be removed in a future release of LightGBM. Pass 'log_evaluation()' callback via 'callbacks' argument instead.\n",
      "  _log_warning(\"'verbose' argument is deprecated and will be removed in a future release of LightGBM. \"\n"
     ]
    },
    {
     "name": "stdout",
     "output_type": "stream",
     "text": [
      "[1]\ttraining's multi_logloss: 0.615762\tvalid_1's multi_logloss: 0.614823\n",
      "[2]\ttraining's multi_logloss: 0.608184\tvalid_1's multi_logloss: 0.607441\n",
      "[3]\ttraining's multi_logloss: 0.601774\tvalid_1's multi_logloss: 0.601169\n",
      "[4]\ttraining's multi_logloss: 0.596288\tvalid_1's multi_logloss: 0.595765\n",
      "[5]\ttraining's multi_logloss: 0.591522\tvalid_1's multi_logloss: 0.591055\n",
      "[6]\ttraining's multi_logloss: 0.587297\tvalid_1's multi_logloss: 0.586987\n",
      "[7]\ttraining's multi_logloss: 0.583621\tvalid_1's multi_logloss: 0.583442\n",
      "[8]\ttraining's multi_logloss: 0.580318\tvalid_1's multi_logloss: 0.580237\n",
      "[9]\ttraining's multi_logloss: 0.577392\tvalid_1's multi_logloss: 0.577518\n",
      "[10]\ttraining's multi_logloss: 0.574773\tvalid_1's multi_logloss: 0.57506\n",
      "[11]\ttraining's multi_logloss: 0.572438\tvalid_1's multi_logloss: 0.572858\n",
      "[12]\ttraining's multi_logloss: 0.570307\tvalid_1's multi_logloss: 0.570835\n",
      "[13]\ttraining's multi_logloss: 0.568379\tvalid_1's multi_logloss: 0.568998\n",
      "[14]\ttraining's multi_logloss: 0.566632\tvalid_1's multi_logloss: 0.567325\n",
      "[15]\ttraining's multi_logloss: 0.565042\tvalid_1's multi_logloss: 0.565824\n",
      "[16]\ttraining's multi_logloss: 0.56357\tvalid_1's multi_logloss: 0.564509\n",
      "[17]\ttraining's multi_logloss: 0.562222\tvalid_1's multi_logloss: 0.563244\n",
      "[18]\ttraining's multi_logloss: 0.560987\tvalid_1's multi_logloss: 0.562156\n",
      "[19]\ttraining's multi_logloss: 0.559889\tvalid_1's multi_logloss: 0.561172\n",
      "[20]\ttraining's multi_logloss: 0.558836\tvalid_1's multi_logloss: 0.560256\n",
      "[21]\ttraining's multi_logloss: 0.557867\tvalid_1's multi_logloss: 0.559409\n",
      "[22]\ttraining's multi_logloss: 0.55694\tvalid_1's multi_logloss: 0.558632\n",
      "[23]\ttraining's multi_logloss: 0.556098\tvalid_1's multi_logloss: 0.557874\n",
      "[24]\ttraining's multi_logloss: 0.555294\tvalid_1's multi_logloss: 0.557189\n",
      "[25]\ttraining's multi_logloss: 0.554561\tvalid_1's multi_logloss: 0.556594\n",
      "[26]\ttraining's multi_logloss: 0.553843\tvalid_1's multi_logloss: 0.556056\n",
      "[27]\ttraining's multi_logloss: 0.553195\tvalid_1's multi_logloss: 0.555516\n",
      "[28]\ttraining's multi_logloss: 0.55258\tvalid_1's multi_logloss: 0.555044\n",
      "[29]\ttraining's multi_logloss: 0.551964\tvalid_1's multi_logloss: 0.554644\n",
      "[30]\ttraining's multi_logloss: 0.551382\tvalid_1's multi_logloss: 0.554171\n",
      "[31]\ttraining's multi_logloss: 0.550859\tvalid_1's multi_logloss: 0.553727\n",
      "[32]\ttraining's multi_logloss: 0.550386\tvalid_1's multi_logloss: 0.553346\n",
      "[33]\ttraining's multi_logloss: 0.549889\tvalid_1's multi_logloss: 0.552965\n",
      "[34]\ttraining's multi_logloss: 0.549399\tvalid_1's multi_logloss: 0.552638\n",
      "[35]\ttraining's multi_logloss: 0.548908\tvalid_1's multi_logloss: 0.552294\n",
      "[36]\ttraining's multi_logloss: 0.548466\tvalid_1's multi_logloss: 0.551991\n",
      "[37]\ttraining's multi_logloss: 0.548023\tvalid_1's multi_logloss: 0.551735\n",
      "[38]\ttraining's multi_logloss: 0.547608\tvalid_1's multi_logloss: 0.551454\n",
      "[39]\ttraining's multi_logloss: 0.547259\tvalid_1's multi_logloss: 0.551222\n",
      "[40]\ttraining's multi_logloss: 0.54679\tvalid_1's multi_logloss: 0.550871\n",
      "[41]\ttraining's multi_logloss: 0.546445\tvalid_1's multi_logloss: 0.550633\n",
      "[42]\ttraining's multi_logloss: 0.546111\tvalid_1's multi_logloss: 0.550431\n",
      "[43]\ttraining's multi_logloss: 0.545728\tvalid_1's multi_logloss: 0.550184\n",
      "[44]\ttraining's multi_logloss: 0.545405\tvalid_1's multi_logloss: 0.549984\n",
      "[45]\ttraining's multi_logloss: 0.545084\tvalid_1's multi_logloss: 0.549773\n",
      "[46]\ttraining's multi_logloss: 0.544743\tvalid_1's multi_logloss: 0.549569\n",
      "[47]\ttraining's multi_logloss: 0.544446\tvalid_1's multi_logloss: 0.549376\n",
      "[48]\ttraining's multi_logloss: 0.54414\tvalid_1's multi_logloss: 0.549175\n",
      "[49]\ttraining's multi_logloss: 0.543827\tvalid_1's multi_logloss: 0.549025\n",
      "[50]\ttraining's multi_logloss: 0.543574\tvalid_1's multi_logloss: 0.548871\n",
      "[51]\ttraining's multi_logloss: 0.543298\tvalid_1's multi_logloss: 0.548727\n",
      "[52]\ttraining's multi_logloss: 0.542999\tvalid_1's multi_logloss: 0.548587\n",
      "[53]\ttraining's multi_logloss: 0.542707\tvalid_1's multi_logloss: 0.548419\n",
      "[54]\ttraining's multi_logloss: 0.542433\tvalid_1's multi_logloss: 0.548333\n",
      "[55]\ttraining's multi_logloss: 0.542159\tvalid_1's multi_logloss: 0.548194\n",
      "[56]\ttraining's multi_logloss: 0.541928\tvalid_1's multi_logloss: 0.548036\n",
      "[57]\ttraining's multi_logloss: 0.541685\tvalid_1's multi_logloss: 0.547898\n",
      "[58]\ttraining's multi_logloss: 0.541456\tvalid_1's multi_logloss: 0.547833\n",
      "[59]\ttraining's multi_logloss: 0.541215\tvalid_1's multi_logloss: 0.547688\n",
      "[60]\ttraining's multi_logloss: 0.54094\tvalid_1's multi_logloss: 0.547601\n",
      "[61]\ttraining's multi_logloss: 0.540708\tvalid_1's multi_logloss: 0.547479\n",
      "[62]\ttraining's multi_logloss: 0.540469\tvalid_1's multi_logloss: 0.547409\n",
      "[63]\ttraining's multi_logloss: 0.540254\tvalid_1's multi_logloss: 0.547356\n",
      "[64]\ttraining's multi_logloss: 0.540007\tvalid_1's multi_logloss: 0.547274\n",
      "[65]\ttraining's multi_logloss: 0.539796\tvalid_1's multi_logloss: 0.547252\n",
      "[66]\ttraining's multi_logloss: 0.539588\tvalid_1's multi_logloss: 0.547183\n",
      "[67]\ttraining's multi_logloss: 0.539356\tvalid_1's multi_logloss: 0.547039\n",
      "[68]\ttraining's multi_logloss: 0.539135\tvalid_1's multi_logloss: 0.546972\n",
      "[69]\ttraining's multi_logloss: 0.538907\tvalid_1's multi_logloss: 0.546886\n",
      "[70]\ttraining's multi_logloss: 0.538719\tvalid_1's multi_logloss: 0.546847\n",
      "[71]\ttraining's multi_logloss: 0.538512\tvalid_1's multi_logloss: 0.546755\n",
      "[72]\ttraining's multi_logloss: 0.538295\tvalid_1's multi_logloss: 0.546669\n",
      "[73]\ttraining's multi_logloss: 0.538078\tvalid_1's multi_logloss: 0.546595\n",
      "[74]\ttraining's multi_logloss: 0.537906\tvalid_1's multi_logloss: 0.546543\n",
      "[75]\ttraining's multi_logloss: 0.537709\tvalid_1's multi_logloss: 0.546482\n",
      "[76]\ttraining's multi_logloss: 0.53753\tvalid_1's multi_logloss: 0.546411\n",
      "[77]\ttraining's multi_logloss: 0.537357\tvalid_1's multi_logloss: 0.546355\n",
      "[78]\ttraining's multi_logloss: 0.537164\tvalid_1's multi_logloss: 0.546281\n",
      "[79]\ttraining's multi_logloss: 0.536981\tvalid_1's multi_logloss: 0.546283\n",
      "[80]\ttraining's multi_logloss: 0.536771\tvalid_1's multi_logloss: 0.54623\n",
      "[81]\ttraining's multi_logloss: 0.536598\tvalid_1's multi_logloss: 0.546196\n",
      "[82]\ttraining's multi_logloss: 0.536435\tvalid_1's multi_logloss: 0.54616\n",
      "[83]\ttraining's multi_logloss: 0.536264\tvalid_1's multi_logloss: 0.546113\n",
      "[84]\ttraining's multi_logloss: 0.536097\tvalid_1's multi_logloss: 0.546066\n",
      "[85]\ttraining's multi_logloss: 0.535906\tvalid_1's multi_logloss: 0.546008\n",
      "[86]\ttraining's multi_logloss: 0.535748\tvalid_1's multi_logloss: 0.545963\n",
      "[87]\ttraining's multi_logloss: 0.53559\tvalid_1's multi_logloss: 0.545924\n",
      "[88]\ttraining's multi_logloss: 0.535434\tvalid_1's multi_logloss: 0.545927\n",
      "[89]\ttraining's multi_logloss: 0.535284\tvalid_1's multi_logloss: 0.545888\n",
      "[90]\ttraining's multi_logloss: 0.535137\tvalid_1's multi_logloss: 0.545885\n",
      "[91]\ttraining's multi_logloss: 0.534999\tvalid_1's multi_logloss: 0.545869\n",
      "[92]\ttraining's multi_logloss: 0.534856\tvalid_1's multi_logloss: 0.545846\n",
      "[93]\ttraining's multi_logloss: 0.534689\tvalid_1's multi_logloss: 0.545811\n",
      "[94]\ttraining's multi_logloss: 0.534543\tvalid_1's multi_logloss: 0.545816\n",
      "[95]\ttraining's multi_logloss: 0.534403\tvalid_1's multi_logloss: 0.545783\n",
      "[96]\ttraining's multi_logloss: 0.534265\tvalid_1's multi_logloss: 0.545805\n",
      "[97]\ttraining's multi_logloss: 0.534116\tvalid_1's multi_logloss: 0.545752\n",
      "[98]\ttraining's multi_logloss: 0.533927\tvalid_1's multi_logloss: 0.545731\n",
      "[99]\ttraining's multi_logloss: 0.5338\tvalid_1's multi_logloss: 0.545723\n",
      "[100]\ttraining's multi_logloss: 0.533649\tvalid_1's multi_logloss: 0.545717\n",
      "[101]\ttraining's multi_logloss: 0.533528\tvalid_1's multi_logloss: 0.545699\n",
      "[102]\ttraining's multi_logloss: 0.533392\tvalid_1's multi_logloss: 0.545686\n",
      "[103]\ttraining's multi_logloss: 0.533241\tvalid_1's multi_logloss: 0.545639\n",
      "[104]\ttraining's multi_logloss: 0.533132\tvalid_1's multi_logloss: 0.54563\n",
      "[105]\ttraining's multi_logloss: 0.532995\tvalid_1's multi_logloss: 0.545603\n",
      "[106]\ttraining's multi_logloss: 0.532848\tvalid_1's multi_logloss: 0.545569\n",
      "[107]\ttraining's multi_logloss: 0.532715\tvalid_1's multi_logloss: 0.545559\n",
      "[108]\ttraining's multi_logloss: 0.532571\tvalid_1's multi_logloss: 0.545515\n",
      "[109]\ttraining's multi_logloss: 0.53244\tvalid_1's multi_logloss: 0.545506\n",
      "[110]\ttraining's multi_logloss: 0.532315\tvalid_1's multi_logloss: 0.545514\n",
      "[111]\ttraining's multi_logloss: 0.532189\tvalid_1's multi_logloss: 0.545486\n",
      "[112]\ttraining's multi_logloss: 0.532054\tvalid_1's multi_logloss: 0.545519\n",
      "[113]\ttraining's multi_logloss: 0.531937\tvalid_1's multi_logloss: 0.545533\n",
      "[114]\ttraining's multi_logloss: 0.531789\tvalid_1's multi_logloss: 0.545518\n",
      "[115]\ttraining's multi_logloss: 0.53168\tvalid_1's multi_logloss: 0.54552\n",
      "[116]\ttraining's multi_logloss: 0.531559\tvalid_1's multi_logloss: 0.54551\n",
      "[117]\ttraining's multi_logloss: 0.531438\tvalid_1's multi_logloss: 0.545476\n",
      "[118]\ttraining's multi_logloss: 0.531302\tvalid_1's multi_logloss: 0.545452\n",
      "[119]\ttraining's multi_logloss: 0.531199\tvalid_1's multi_logloss: 0.545455\n",
      "[120]\ttraining's multi_logloss: 0.531092\tvalid_1's multi_logloss: 0.545489\n",
      "[121]\ttraining's multi_logloss: 0.530988\tvalid_1's multi_logloss: 0.54548\n",
      "[122]\ttraining's multi_logloss: 0.530858\tvalid_1's multi_logloss: 0.545429\n",
      "[123]\ttraining's multi_logloss: 0.530733\tvalid_1's multi_logloss: 0.545407\n",
      "[124]\ttraining's multi_logloss: 0.530598\tvalid_1's multi_logloss: 0.54541\n",
      "[125]\ttraining's multi_logloss: 0.530502\tvalid_1's multi_logloss: 0.545416\n",
      "[126]\ttraining's multi_logloss: 0.530399\tvalid_1's multi_logloss: 0.545412\n",
      "[127]\ttraining's multi_logloss: 0.530298\tvalid_1's multi_logloss: 0.545411\n",
      "[128]\ttraining's multi_logloss: 0.530177\tvalid_1's multi_logloss: 0.545407\n",
      "[129]\ttraining's multi_logloss: 0.53006\tvalid_1's multi_logloss: 0.545389\n",
      "[130]\ttraining's multi_logloss: 0.529921\tvalid_1's multi_logloss: 0.545393\n",
      "[131]\ttraining's multi_logloss: 0.529797\tvalid_1's multi_logloss: 0.545382\n",
      "[132]\ttraining's multi_logloss: 0.5297\tvalid_1's multi_logloss: 0.545393\n",
      "[133]\ttraining's multi_logloss: 0.529565\tvalid_1's multi_logloss: 0.545407\n",
      "[134]\ttraining's multi_logloss: 0.529462\tvalid_1's multi_logloss: 0.545405\n",
      "[135]\ttraining's multi_logloss: 0.529348\tvalid_1's multi_logloss: 0.545398\n",
      "[136]\ttraining's multi_logloss: 0.529237\tvalid_1's multi_logloss: 0.545399\n",
      "[137]\ttraining's multi_logloss: 0.52913\tvalid_1's multi_logloss: 0.545418\n",
      "[138]\ttraining's multi_logloss: 0.529034\tvalid_1's multi_logloss: 0.545435\n",
      "[139]\ttraining's multi_logloss: 0.528922\tvalid_1's multi_logloss: 0.545445\n",
      "[140]\ttraining's multi_logloss: 0.528787\tvalid_1's multi_logloss: 0.545426\n",
      "[141]\ttraining's multi_logloss: 0.52865\tvalid_1's multi_logloss: 0.545421\n",
      "[142]\ttraining's multi_logloss: 0.528543\tvalid_1's multi_logloss: 0.54542\n",
      "[143]\ttraining's multi_logloss: 0.528409\tvalid_1's multi_logloss: 0.545383\n",
      "[144]\ttraining's multi_logloss: 0.528301\tvalid_1's multi_logloss: 0.545404\n",
      "[145]\ttraining's multi_logloss: 0.528196\tvalid_1's multi_logloss: 0.545427\n",
      "[146]\ttraining's multi_logloss: 0.528074\tvalid_1's multi_logloss: 0.545445\n",
      "[147]\ttraining's multi_logloss: 0.527966\tvalid_1's multi_logloss: 0.545407\n",
      "[148]\ttraining's multi_logloss: 0.52785\tvalid_1's multi_logloss: 0.545392\n",
      "[149]\ttraining's multi_logloss: 0.527718\tvalid_1's multi_logloss: 0.545379\n",
      "[150]\ttraining's multi_logloss: 0.527584\tvalid_1's multi_logloss: 0.545389\n",
      "[151]\ttraining's multi_logloss: 0.527474\tvalid_1's multi_logloss: 0.545412\n",
      "[152]\ttraining's multi_logloss: 0.527382\tvalid_1's multi_logloss: 0.545431\n",
      "[153]\ttraining's multi_logloss: 0.527263\tvalid_1's multi_logloss: 0.545429\n",
      "[154]\ttraining's multi_logloss: 0.52714\tvalid_1's multi_logloss: 0.545448\n",
      "[155]\ttraining's multi_logloss: 0.527033\tvalid_1's multi_logloss: 0.545429\n",
      "[156]\ttraining's multi_logloss: 0.52695\tvalid_1's multi_logloss: 0.545446\n",
      "[157]\ttraining's multi_logloss: 0.526851\tvalid_1's multi_logloss: 0.545455\n",
      "[158]\ttraining's multi_logloss: 0.526721\tvalid_1's multi_logloss: 0.545476\n",
      "[159]\ttraining's multi_logloss: 0.526608\tvalid_1's multi_logloss: 0.545484\n",
      "[160]\ttraining's multi_logloss: 0.526501\tvalid_1's multi_logloss: 0.545489\n",
      "[161]\ttraining's multi_logloss: 0.526378\tvalid_1's multi_logloss: 0.545489\n",
      "[162]\ttraining's multi_logloss: 0.526263\tvalid_1's multi_logloss: 0.545481\n",
      "[163]\ttraining's multi_logloss: 0.52615\tvalid_1's multi_logloss: 0.545483\n",
      "[164]\ttraining's multi_logloss: 0.52607\tvalid_1's multi_logloss: 0.545467\n",
      "[165]\ttraining's multi_logloss: 0.525978\tvalid_1's multi_logloss: 0.545454\n",
      "[166]\ttraining's multi_logloss: 0.525872\tvalid_1's multi_logloss: 0.545473\n",
      "[167]\ttraining's multi_logloss: 0.525756\tvalid_1's multi_logloss: 0.545452\n",
      "[168]\ttraining's multi_logloss: 0.525631\tvalid_1's multi_logloss: 0.545465\n",
      "[169]\ttraining's multi_logloss: 0.525528\tvalid_1's multi_logloss: 0.545452\n",
      "[170]\ttraining's multi_logloss: 0.525413\tvalid_1's multi_logloss: 0.54544\n",
      "[171]\ttraining's multi_logloss: 0.525315\tvalid_1's multi_logloss: 0.545445\n",
      "[172]\ttraining's multi_logloss: 0.525215\tvalid_1's multi_logloss: 0.545442\n",
      "[173]\ttraining's multi_logloss: 0.525133\tvalid_1's multi_logloss: 0.54546\n",
      "[174]\ttraining's multi_logloss: 0.525008\tvalid_1's multi_logloss: 0.545466\n",
      "[175]\ttraining's multi_logloss: 0.524903\tvalid_1's multi_logloss: 0.545453\n",
      "[176]\ttraining's multi_logloss: 0.524812\tvalid_1's multi_logloss: 0.545449\n",
      "[177]\ttraining's multi_logloss: 0.524679\tvalid_1's multi_logloss: 0.545455\n",
      "[178]\ttraining's multi_logloss: 0.52457\tvalid_1's multi_logloss: 0.54545\n",
      "[179]\ttraining's multi_logloss: 0.52449\tvalid_1's multi_logloss: 0.545446\n",
      "[180]\ttraining's multi_logloss: 0.524393\tvalid_1's multi_logloss: 0.54544\n",
      "[181]\ttraining's multi_logloss: 0.524324\tvalid_1's multi_logloss: 0.545457\n",
      "[182]\ttraining's multi_logloss: 0.524215\tvalid_1's multi_logloss: 0.545452\n",
      "[183]\ttraining's multi_logloss: 0.524099\tvalid_1's multi_logloss: 0.545475\n",
      "[184]\ttraining's multi_logloss: 0.523985\tvalid_1's multi_logloss: 0.545479\n",
      "[185]\ttraining's multi_logloss: 0.523876\tvalid_1's multi_logloss: 0.545457\n",
      "[186]\ttraining's multi_logloss: 0.523794\tvalid_1's multi_logloss: 0.545473\n",
      "[187]\ttraining's multi_logloss: 0.523671\tvalid_1's multi_logloss: 0.545463\n",
      "[188]\ttraining's multi_logloss: 0.523563\tvalid_1's multi_logloss: 0.545449\n",
      "[189]\ttraining's multi_logloss: 0.523455\tvalid_1's multi_logloss: 0.545455\n",
      "[190]\ttraining's multi_logloss: 0.523356\tvalid_1's multi_logloss: 0.545418\n",
      "[191]\ttraining's multi_logloss: 0.523254\tvalid_1's multi_logloss: 0.54542\n",
      "[192]\ttraining's multi_logloss: 0.523142\tvalid_1's multi_logloss: 0.54543\n",
      "[193]\ttraining's multi_logloss: 0.523038\tvalid_1's multi_logloss: 0.545438\n",
      "[194]\ttraining's multi_logloss: 0.522951\tvalid_1's multi_logloss: 0.545427\n",
      "[195]\ttraining's multi_logloss: 0.522885\tvalid_1's multi_logloss: 0.545435\n",
      "[196]\ttraining's multi_logloss: 0.522782\tvalid_1's multi_logloss: 0.545408\n",
      "[197]\ttraining's multi_logloss: 0.522714\tvalid_1's multi_logloss: 0.545414\n",
      "[198]\ttraining's multi_logloss: 0.522618\tvalid_1's multi_logloss: 0.545415\n",
      "[199]\ttraining's multi_logloss: 0.522525\tvalid_1's multi_logloss: 0.545411\n"
     ]
    }
   ],
   "source": [
    "#독립변수와 종속변수로 분리하기\n",
    "y= death_df['사고내용']\n",
    "X= death_df.drop(['사고번호','사고내용'],axis=1)\n",
    "\n",
    "#데이터 분할하기\n",
    "from sklearn.model_selection import train_test_split\n",
    "#classification용 모델 라이브러리 가져오기\n",
    "from lightgbm import LGBMClassifier\n",
    "\n",
    "#전체 데이터중 70퍼센트를 학습에 30퍼센트를 테스트 데이터로 분리한다\n",
    "X_train, X_test, y_train, y_test = train_test_split(X,y,test_size=0.3)\n",
    "\n",
    "#위의 학습 데이터중 90퍼센트를 학습 데이터에, 10퍼센트는 검증용 데이터로 분리한다\n",
    "X_tr,X_val,y_tr,y_val= train_test_split(X_train,y_train,test_size=0.1)\n",
    "\n",
    "#n_estimators는 동일하게 400을 설정한다\n",
    "lgbm_wrapper= LGBMClassifier(n_estimators=400,learning_rate=0.05)\n",
    "\n",
    "#lightLGBM은 조기 중단 수행이 가능하다\n",
    "evals= [(X_tr,y_tr),(X_val,y_val)]\n",
    "lgbm_wrapper.fit(X_tr,y_tr,early_stopping_rounds=50,eval_metric='logloss',eval_set=evals,verbose=True)\n",
    "y_pred= lgbm_wrapper.predict(X_test)\n",
    "\n",
    "pred_proba= lgbm_wrapper.predict_proba(X_test)[:,1]"
   ],
   "metadata": {
    "collapsed": false,
    "pycharm": {
     "name": "#%%\n"
    }
   }
  },
  {
   "cell_type": "code",
   "execution_count": 13,
   "outputs": [
    {
     "data": {
      "text/plain": "2         2\n3         0\n4         0\n5         1\n6         0\n         ..\n194089    0\n194090    2\n194091    0\n194092    0\n194093    2\nName: 사고내용, Length: 184916, dtype: int64"
     },
     "execution_count": 13,
     "metadata": {},
     "output_type": "execute_result"
    }
   ],
   "source": [
    "y"
   ],
   "metadata": {
    "collapsed": false,
    "pycharm": {
     "name": "#%%\n"
    }
   }
  },
  {
   "cell_type": "code",
   "execution_count": 14,
   "outputs": [],
   "source": [
    "#하이퍼 파라미터 튜닝하기\n",
    "from hyperopt import hp\n",
    "lgbm_search_space={'num_leaves':hp.quniform('num_leaves',32,64,1),\n",
    "                   'max_depth': hp.quniform('max_depth',100,160,1),\n",
    "                   'min_child_samples':hp.quniform('min_child_samples',60,100,1),\n",
    "                   'subsample':hp.uniform('subsample',0.7,1),\n",
    "                   'learning_rate':hp.uniform('learning_rate',0.01,0.2)\n",
    "                   }\n"
   ],
   "metadata": {
    "collapsed": false,
    "pycharm": {
     "name": "#%%\n"
    }
   }
  },
  {
   "cell_type": "code",
   "execution_count": 15,
   "outputs": [],
   "source": [
    "from sklearn.model_selection import KFold\n",
    "from hyperopt import fmin,tpe,Trials\n",
    "import random\n",
    "\n",
    "def objective_fun(search_space):\n",
    "    lgbm_clf= LGBMClassifier(\n",
    "                             class_weight='balanced',\n",
    "                             n_estimators=100,\n",
    "                             num_leaves=int(search_space['num_leaves']),\n",
    "                             max_depth=int(search_space['max_depth']),\n",
    "                             min_child_samples=int(search_space['min_child_samples']),\n",
    "                             subsample= search_space['subsample'],\n",
    "                             learning_rate=search_space['learning_rate']\n",
    "                             )\n",
    "    #3개의 k-fold 방식으로 평가된 rou_auc를 담는 list\n",
    "    roc_auc_lst =[]\n",
    "\n",
    "    #3개의 k-fold 방식을 적용하기\n",
    "    kf= KFold(n_splits=3)\n",
    "    #X_train을 다시 학습과 검증용 데이터로 분리한다\n",
    "    for tr_idx, val_idx in kf.split(X_train):\n",
    "        #kf.split(X_train)으로 추출된 학습과 검증 idx값으로 학습과 검증 데이터 셋 분리\n",
    "        X_tr,y_tr= X_train.iloc[tr_idx],y_train.iloc[tr_idx]\n",
    "        X_val,y_val=X_train.iloc[val_idx], y_train.iloc[val_idx]\n",
    "\n",
    "        #early stopping은 100회로 설정하고 추출된 학습과 검증 데이터로 lgbm_classfier를 수행한다\n",
    "        lgbm_clf.fit(X_tr,y_tr,early_stopping_rounds=30,eval_metric='auc',eval_set=[(X_tr,y_tr),(X_val,y_val)])\n",
    "\n",
    "        #1로 예측한 확률값 추출 후 roc_auc를 계산하고 평균 roc_auc를 계산하기 위해 list에 결과값을 담는다\n",
    "        score= roc_auc_score(y_val,lgbm_clf.predict_proba(X_val)[:,1])\n",
    "        roc_auc_lst.append(score)\n",
    "\n",
    "    #3개의 K-fold값으로 계산된 roc_auc값의 평균값을 반환하되\n",
    "    #Hyperopt는 목적함수의 최솟값을 위한 입력값을 찾으므로 -1을 곱한 뒤 반환한다\n",
    "    return -1 * np.mean(roc_auc_lst)\n"
   ],
   "metadata": {
    "collapsed": false,
    "pycharm": {
     "name": "#%%\n"
    }
   }
  },
  {
   "cell_type": "code",
   "execution_count": 16,
   "outputs": [
    {
     "name": "stdout",
     "output_type": "stream",
     "text": [
      "  0%|          | 0/50 [00:00<?, ?trial/s, best loss=?]"
     ]
    },
    {
     "name": "stderr",
     "output_type": "stream",
     "text": [
      "/Users/wooseongkyun/miniforge3/lib/python3.9/site-packages/lightgbm/sklearn.py:726: UserWarning: 'early_stopping_rounds' argument is deprecated and will be removed in a future release of LightGBM. Pass 'early_stopping()' callback via 'callbacks' argument instead.\n",
      "  _log_warning(\"'early_stopping_rounds' argument is deprecated and will be removed in a future release of LightGBM. \"\n",
      "\n",
      "[LightGBM] [Fatal] Multiclass objective and metrics don't match\n",
      "job exception: Multiclass objective and metrics don't match\n",
      "\n"
     ]
    },
    {
     "name": "stdout",
     "output_type": "stream",
     "text": [
      "  0%|          | 0/50 [00:00<?, ?trial/s, best loss=?]\n"
     ]
    },
    {
     "ename": "LightGBMError",
     "evalue": "Multiclass objective and metrics don't match",
     "output_type": "error",
     "traceback": [
      "\u001B[0;31m---------------------------------------------------------------------------\u001B[0m",
      "\u001B[0;31mLightGBMError\u001B[0m                             Traceback (most recent call last)",
      "Input \u001B[0;32mIn [16]\u001B[0m, in \u001B[0;36m<cell line: 3>\u001B[0;34m()\u001B[0m\n\u001B[1;32m      1\u001B[0m trials\u001B[38;5;241m=\u001B[39m Trials()\n\u001B[1;32m      2\u001B[0m \u001B[38;5;66;03m#fmin() 함수를 호출, max_evals를 지정된 횟수만큼 반복 후 목적함수의 최솟값을 찾는  최적입력값을 추출한다\u001B[39;00m\n\u001B[0;32m----> 3\u001B[0m best\u001B[38;5;241m=\u001B[39m \u001B[43mfmin\u001B[49m\u001B[43m(\u001B[49m\u001B[43mfn\u001B[49m\u001B[38;5;241;43m=\u001B[39;49m\u001B[43mobjective_fun\u001B[49m\u001B[43m,\u001B[49m\u001B[43mspace\u001B[49m\u001B[38;5;241;43m=\u001B[39;49m\u001B[43mlgbm_search_space\u001B[49m\u001B[43m,\u001B[49m\u001B[43malgo\u001B[49m\u001B[38;5;241;43m=\u001B[39;49m\u001B[43mtpe\u001B[49m\u001B[38;5;241;43m.\u001B[39;49m\u001B[43msuggest\u001B[49m\u001B[43m,\u001B[49m\n\u001B[1;32m      4\u001B[0m \u001B[43m           \u001B[49m\u001B[43mtrials\u001B[49m\u001B[38;5;241;43m=\u001B[39;49m\u001B[43mtrials\u001B[49m\u001B[43m,\u001B[49m\u001B[43mrstate\u001B[49m\u001B[38;5;241;43m=\u001B[39;49m\u001B[43mnp\u001B[49m\u001B[38;5;241;43m.\u001B[39;49m\u001B[43mrandom\u001B[49m\u001B[38;5;241;43m.\u001B[39;49m\u001B[43mdefault_rng\u001B[49m\u001B[43m(\u001B[49m\u001B[43mseed\u001B[49m\u001B[38;5;241;43m=\u001B[39;49m\u001B[38;5;241;43m50\u001B[39;49m\u001B[43m)\u001B[49m\u001B[43m,\u001B[49m\u001B[43mmax_evals\u001B[49m\u001B[38;5;241;43m=\u001B[39;49m\u001B[38;5;241;43m50\u001B[39;49m\u001B[43m)\u001B[49m\n",
      "File \u001B[0;32m~/miniforge3/lib/python3.9/site-packages/hyperopt/fmin.py:540\u001B[0m, in \u001B[0;36mfmin\u001B[0;34m(fn, space, algo, max_evals, timeout, loss_threshold, trials, rstate, allow_trials_fmin, pass_expr_memo_ctrl, catch_eval_exceptions, verbose, return_argmin, points_to_evaluate, max_queue_len, show_progressbar, early_stop_fn, trials_save_file)\u001B[0m\n\u001B[1;32m    537\u001B[0m     fn \u001B[38;5;241m=\u001B[39m __objective_fmin_wrapper(fn)\n\u001B[1;32m    539\u001B[0m \u001B[38;5;28;01mif\u001B[39;00m allow_trials_fmin \u001B[38;5;129;01mand\u001B[39;00m \u001B[38;5;28mhasattr\u001B[39m(trials, \u001B[38;5;124m\"\u001B[39m\u001B[38;5;124mfmin\u001B[39m\u001B[38;5;124m\"\u001B[39m):\n\u001B[0;32m--> 540\u001B[0m     \u001B[38;5;28;01mreturn\u001B[39;00m \u001B[43mtrials\u001B[49m\u001B[38;5;241;43m.\u001B[39;49m\u001B[43mfmin\u001B[49m\u001B[43m(\u001B[49m\n\u001B[1;32m    541\u001B[0m \u001B[43m        \u001B[49m\u001B[43mfn\u001B[49m\u001B[43m,\u001B[49m\n\u001B[1;32m    542\u001B[0m \u001B[43m        \u001B[49m\u001B[43mspace\u001B[49m\u001B[43m,\u001B[49m\n\u001B[1;32m    543\u001B[0m \u001B[43m        \u001B[49m\u001B[43malgo\u001B[49m\u001B[38;5;241;43m=\u001B[39;49m\u001B[43malgo\u001B[49m\u001B[43m,\u001B[49m\n\u001B[1;32m    544\u001B[0m \u001B[43m        \u001B[49m\u001B[43mmax_evals\u001B[49m\u001B[38;5;241;43m=\u001B[39;49m\u001B[43mmax_evals\u001B[49m\u001B[43m,\u001B[49m\n\u001B[1;32m    545\u001B[0m \u001B[43m        \u001B[49m\u001B[43mtimeout\u001B[49m\u001B[38;5;241;43m=\u001B[39;49m\u001B[43mtimeout\u001B[49m\u001B[43m,\u001B[49m\n\u001B[1;32m    546\u001B[0m \u001B[43m        \u001B[49m\u001B[43mloss_threshold\u001B[49m\u001B[38;5;241;43m=\u001B[39;49m\u001B[43mloss_threshold\u001B[49m\u001B[43m,\u001B[49m\n\u001B[1;32m    547\u001B[0m \u001B[43m        \u001B[49m\u001B[43mmax_queue_len\u001B[49m\u001B[38;5;241;43m=\u001B[39;49m\u001B[43mmax_queue_len\u001B[49m\u001B[43m,\u001B[49m\n\u001B[1;32m    548\u001B[0m \u001B[43m        \u001B[49m\u001B[43mrstate\u001B[49m\u001B[38;5;241;43m=\u001B[39;49m\u001B[43mrstate\u001B[49m\u001B[43m,\u001B[49m\n\u001B[1;32m    549\u001B[0m \u001B[43m        \u001B[49m\u001B[43mpass_expr_memo_ctrl\u001B[49m\u001B[38;5;241;43m=\u001B[39;49m\u001B[43mpass_expr_memo_ctrl\u001B[49m\u001B[43m,\u001B[49m\n\u001B[1;32m    550\u001B[0m \u001B[43m        \u001B[49m\u001B[43mverbose\u001B[49m\u001B[38;5;241;43m=\u001B[39;49m\u001B[43mverbose\u001B[49m\u001B[43m,\u001B[49m\n\u001B[1;32m    551\u001B[0m \u001B[43m        \u001B[49m\u001B[43mcatch_eval_exceptions\u001B[49m\u001B[38;5;241;43m=\u001B[39;49m\u001B[43mcatch_eval_exceptions\u001B[49m\u001B[43m,\u001B[49m\n\u001B[1;32m    552\u001B[0m \u001B[43m        \u001B[49m\u001B[43mreturn_argmin\u001B[49m\u001B[38;5;241;43m=\u001B[39;49m\u001B[43mreturn_argmin\u001B[49m\u001B[43m,\u001B[49m\n\u001B[1;32m    553\u001B[0m \u001B[43m        \u001B[49m\u001B[43mshow_progressbar\u001B[49m\u001B[38;5;241;43m=\u001B[39;49m\u001B[43mshow_progressbar\u001B[49m\u001B[43m,\u001B[49m\n\u001B[1;32m    554\u001B[0m \u001B[43m        \u001B[49m\u001B[43mearly_stop_fn\u001B[49m\u001B[38;5;241;43m=\u001B[39;49m\u001B[43mearly_stop_fn\u001B[49m\u001B[43m,\u001B[49m\n\u001B[1;32m    555\u001B[0m \u001B[43m        \u001B[49m\u001B[43mtrials_save_file\u001B[49m\u001B[38;5;241;43m=\u001B[39;49m\u001B[43mtrials_save_file\u001B[49m\u001B[43m,\u001B[49m\n\u001B[1;32m    556\u001B[0m \u001B[43m    \u001B[49m\u001B[43m)\u001B[49m\n\u001B[1;32m    558\u001B[0m \u001B[38;5;28;01mif\u001B[39;00m trials \u001B[38;5;129;01mis\u001B[39;00m \u001B[38;5;28;01mNone\u001B[39;00m:\n\u001B[1;32m    559\u001B[0m     \u001B[38;5;28;01mif\u001B[39;00m os\u001B[38;5;241m.\u001B[39mpath\u001B[38;5;241m.\u001B[39mexists(trials_save_file):\n",
      "File \u001B[0;32m~/miniforge3/lib/python3.9/site-packages/hyperopt/base.py:671\u001B[0m, in \u001B[0;36mTrials.fmin\u001B[0;34m(self, fn, space, algo, max_evals, timeout, loss_threshold, max_queue_len, rstate, verbose, pass_expr_memo_ctrl, catch_eval_exceptions, return_argmin, show_progressbar, early_stop_fn, trials_save_file)\u001B[0m\n\u001B[1;32m    666\u001B[0m \u001B[38;5;66;03m# -- Stop-gap implementation!\u001B[39;00m\n\u001B[1;32m    667\u001B[0m \u001B[38;5;66;03m#    fmin should have been a Trials method in the first place\u001B[39;00m\n\u001B[1;32m    668\u001B[0m \u001B[38;5;66;03m#    but for now it's still sitting in another file.\u001B[39;00m\n\u001B[1;32m    669\u001B[0m \u001B[38;5;28;01mfrom\u001B[39;00m \u001B[38;5;21;01m.\u001B[39;00m\u001B[38;5;21;01mfmin\u001B[39;00m \u001B[38;5;28;01mimport\u001B[39;00m fmin\n\u001B[0;32m--> 671\u001B[0m \u001B[38;5;28;01mreturn\u001B[39;00m \u001B[43mfmin\u001B[49m\u001B[43m(\u001B[49m\n\u001B[1;32m    672\u001B[0m \u001B[43m    \u001B[49m\u001B[43mfn\u001B[49m\u001B[43m,\u001B[49m\n\u001B[1;32m    673\u001B[0m \u001B[43m    \u001B[49m\u001B[43mspace\u001B[49m\u001B[43m,\u001B[49m\n\u001B[1;32m    674\u001B[0m \u001B[43m    \u001B[49m\u001B[43malgo\u001B[49m\u001B[38;5;241;43m=\u001B[39;49m\u001B[43malgo\u001B[49m\u001B[43m,\u001B[49m\n\u001B[1;32m    675\u001B[0m \u001B[43m    \u001B[49m\u001B[43mmax_evals\u001B[49m\u001B[38;5;241;43m=\u001B[39;49m\u001B[43mmax_evals\u001B[49m\u001B[43m,\u001B[49m\n\u001B[1;32m    676\u001B[0m \u001B[43m    \u001B[49m\u001B[43mtimeout\u001B[49m\u001B[38;5;241;43m=\u001B[39;49m\u001B[43mtimeout\u001B[49m\u001B[43m,\u001B[49m\n\u001B[1;32m    677\u001B[0m \u001B[43m    \u001B[49m\u001B[43mloss_threshold\u001B[49m\u001B[38;5;241;43m=\u001B[39;49m\u001B[43mloss_threshold\u001B[49m\u001B[43m,\u001B[49m\n\u001B[1;32m    678\u001B[0m \u001B[43m    \u001B[49m\u001B[43mtrials\u001B[49m\u001B[38;5;241;43m=\u001B[39;49m\u001B[38;5;28;43mself\u001B[39;49m\u001B[43m,\u001B[49m\n\u001B[1;32m    679\u001B[0m \u001B[43m    \u001B[49m\u001B[43mrstate\u001B[49m\u001B[38;5;241;43m=\u001B[39;49m\u001B[43mrstate\u001B[49m\u001B[43m,\u001B[49m\n\u001B[1;32m    680\u001B[0m \u001B[43m    \u001B[49m\u001B[43mverbose\u001B[49m\u001B[38;5;241;43m=\u001B[39;49m\u001B[43mverbose\u001B[49m\u001B[43m,\u001B[49m\n\u001B[1;32m    681\u001B[0m \u001B[43m    \u001B[49m\u001B[43mmax_queue_len\u001B[49m\u001B[38;5;241;43m=\u001B[39;49m\u001B[43mmax_queue_len\u001B[49m\u001B[43m,\u001B[49m\n\u001B[1;32m    682\u001B[0m \u001B[43m    \u001B[49m\u001B[43mallow_trials_fmin\u001B[49m\u001B[38;5;241;43m=\u001B[39;49m\u001B[38;5;28;43;01mFalse\u001B[39;49;00m\u001B[43m,\u001B[49m\u001B[43m  \u001B[49m\u001B[38;5;66;43;03m# -- prevent recursion\u001B[39;49;00m\n\u001B[1;32m    683\u001B[0m \u001B[43m    \u001B[49m\u001B[43mpass_expr_memo_ctrl\u001B[49m\u001B[38;5;241;43m=\u001B[39;49m\u001B[43mpass_expr_memo_ctrl\u001B[49m\u001B[43m,\u001B[49m\n\u001B[1;32m    684\u001B[0m \u001B[43m    \u001B[49m\u001B[43mcatch_eval_exceptions\u001B[49m\u001B[38;5;241;43m=\u001B[39;49m\u001B[43mcatch_eval_exceptions\u001B[49m\u001B[43m,\u001B[49m\n\u001B[1;32m    685\u001B[0m \u001B[43m    \u001B[49m\u001B[43mreturn_argmin\u001B[49m\u001B[38;5;241;43m=\u001B[39;49m\u001B[43mreturn_argmin\u001B[49m\u001B[43m,\u001B[49m\n\u001B[1;32m    686\u001B[0m \u001B[43m    \u001B[49m\u001B[43mshow_progressbar\u001B[49m\u001B[38;5;241;43m=\u001B[39;49m\u001B[43mshow_progressbar\u001B[49m\u001B[43m,\u001B[49m\n\u001B[1;32m    687\u001B[0m \u001B[43m    \u001B[49m\u001B[43mearly_stop_fn\u001B[49m\u001B[38;5;241;43m=\u001B[39;49m\u001B[43mearly_stop_fn\u001B[49m\u001B[43m,\u001B[49m\n\u001B[1;32m    688\u001B[0m \u001B[43m    \u001B[49m\u001B[43mtrials_save_file\u001B[49m\u001B[38;5;241;43m=\u001B[39;49m\u001B[43mtrials_save_file\u001B[49m\u001B[43m,\u001B[49m\n\u001B[1;32m    689\u001B[0m \u001B[43m\u001B[49m\u001B[43m)\u001B[49m\n",
      "File \u001B[0;32m~/miniforge3/lib/python3.9/site-packages/hyperopt/fmin.py:586\u001B[0m, in \u001B[0;36mfmin\u001B[0;34m(fn, space, algo, max_evals, timeout, loss_threshold, trials, rstate, allow_trials_fmin, pass_expr_memo_ctrl, catch_eval_exceptions, verbose, return_argmin, points_to_evaluate, max_queue_len, show_progressbar, early_stop_fn, trials_save_file)\u001B[0m\n\u001B[1;32m    583\u001B[0m rval\u001B[38;5;241m.\u001B[39mcatch_eval_exceptions \u001B[38;5;241m=\u001B[39m catch_eval_exceptions\n\u001B[1;32m    585\u001B[0m \u001B[38;5;66;03m# next line is where the fmin is actually executed\u001B[39;00m\n\u001B[0;32m--> 586\u001B[0m \u001B[43mrval\u001B[49m\u001B[38;5;241;43m.\u001B[39;49m\u001B[43mexhaust\u001B[49m\u001B[43m(\u001B[49m\u001B[43m)\u001B[49m\n\u001B[1;32m    588\u001B[0m \u001B[38;5;28;01mif\u001B[39;00m return_argmin:\n\u001B[1;32m    589\u001B[0m     \u001B[38;5;28;01mif\u001B[39;00m \u001B[38;5;28mlen\u001B[39m(trials\u001B[38;5;241m.\u001B[39mtrials) \u001B[38;5;241m==\u001B[39m \u001B[38;5;241m0\u001B[39m:\n",
      "File \u001B[0;32m~/miniforge3/lib/python3.9/site-packages/hyperopt/fmin.py:364\u001B[0m, in \u001B[0;36mFMinIter.exhaust\u001B[0;34m(self)\u001B[0m\n\u001B[1;32m    362\u001B[0m \u001B[38;5;28;01mdef\u001B[39;00m \u001B[38;5;21mexhaust\u001B[39m(\u001B[38;5;28mself\u001B[39m):\n\u001B[1;32m    363\u001B[0m     n_done \u001B[38;5;241m=\u001B[39m \u001B[38;5;28mlen\u001B[39m(\u001B[38;5;28mself\u001B[39m\u001B[38;5;241m.\u001B[39mtrials)\n\u001B[0;32m--> 364\u001B[0m     \u001B[38;5;28;43mself\u001B[39;49m\u001B[38;5;241;43m.\u001B[39;49m\u001B[43mrun\u001B[49m\u001B[43m(\u001B[49m\u001B[38;5;28;43mself\u001B[39;49m\u001B[38;5;241;43m.\u001B[39;49m\u001B[43mmax_evals\u001B[49m\u001B[43m \u001B[49m\u001B[38;5;241;43m-\u001B[39;49m\u001B[43m \u001B[49m\u001B[43mn_done\u001B[49m\u001B[43m,\u001B[49m\u001B[43m \u001B[49m\u001B[43mblock_until_done\u001B[49m\u001B[38;5;241;43m=\u001B[39;49m\u001B[38;5;28;43mself\u001B[39;49m\u001B[38;5;241;43m.\u001B[39;49m\u001B[43masynchronous\u001B[49m\u001B[43m)\u001B[49m\n\u001B[1;32m    365\u001B[0m     \u001B[38;5;28mself\u001B[39m\u001B[38;5;241m.\u001B[39mtrials\u001B[38;5;241m.\u001B[39mrefresh()\n\u001B[1;32m    366\u001B[0m     \u001B[38;5;28;01mreturn\u001B[39;00m \u001B[38;5;28mself\u001B[39m\n",
      "File \u001B[0;32m~/miniforge3/lib/python3.9/site-packages/hyperopt/fmin.py:300\u001B[0m, in \u001B[0;36mFMinIter.run\u001B[0;34m(self, N, block_until_done)\u001B[0m\n\u001B[1;32m    297\u001B[0m     time\u001B[38;5;241m.\u001B[39msleep(\u001B[38;5;28mself\u001B[39m\u001B[38;5;241m.\u001B[39mpoll_interval_secs)\n\u001B[1;32m    298\u001B[0m \u001B[38;5;28;01melse\u001B[39;00m:\n\u001B[1;32m    299\u001B[0m     \u001B[38;5;66;03m# -- loop over trials and do the jobs directly\u001B[39;00m\n\u001B[0;32m--> 300\u001B[0m     \u001B[38;5;28;43mself\u001B[39;49m\u001B[38;5;241;43m.\u001B[39;49m\u001B[43mserial_evaluate\u001B[49m\u001B[43m(\u001B[49m\u001B[43m)\u001B[49m\n\u001B[1;32m    302\u001B[0m \u001B[38;5;28mself\u001B[39m\u001B[38;5;241m.\u001B[39mtrials\u001B[38;5;241m.\u001B[39mrefresh()\n\u001B[1;32m    303\u001B[0m \u001B[38;5;28;01mif\u001B[39;00m \u001B[38;5;28mself\u001B[39m\u001B[38;5;241m.\u001B[39mtrials_save_file \u001B[38;5;241m!=\u001B[39m \u001B[38;5;124m\"\u001B[39m\u001B[38;5;124m\"\u001B[39m:\n",
      "File \u001B[0;32m~/miniforge3/lib/python3.9/site-packages/hyperopt/fmin.py:178\u001B[0m, in \u001B[0;36mFMinIter.serial_evaluate\u001B[0;34m(self, N)\u001B[0m\n\u001B[1;32m    176\u001B[0m ctrl \u001B[38;5;241m=\u001B[39m base\u001B[38;5;241m.\u001B[39mCtrl(\u001B[38;5;28mself\u001B[39m\u001B[38;5;241m.\u001B[39mtrials, current_trial\u001B[38;5;241m=\u001B[39mtrial)\n\u001B[1;32m    177\u001B[0m \u001B[38;5;28;01mtry\u001B[39;00m:\n\u001B[0;32m--> 178\u001B[0m     result \u001B[38;5;241m=\u001B[39m \u001B[38;5;28;43mself\u001B[39;49m\u001B[38;5;241;43m.\u001B[39;49m\u001B[43mdomain\u001B[49m\u001B[38;5;241;43m.\u001B[39;49m\u001B[43mevaluate\u001B[49m\u001B[43m(\u001B[49m\u001B[43mspec\u001B[49m\u001B[43m,\u001B[49m\u001B[43m \u001B[49m\u001B[43mctrl\u001B[49m\u001B[43m)\u001B[49m\n\u001B[1;32m    179\u001B[0m \u001B[38;5;28;01mexcept\u001B[39;00m \u001B[38;5;167;01mException\u001B[39;00m \u001B[38;5;28;01mas\u001B[39;00m e:\n\u001B[1;32m    180\u001B[0m     logger\u001B[38;5;241m.\u001B[39merror(\u001B[38;5;124m\"\u001B[39m\u001B[38;5;124mjob exception: \u001B[39m\u001B[38;5;132;01m%s\u001B[39;00m\u001B[38;5;124m\"\u001B[39m \u001B[38;5;241m%\u001B[39m \u001B[38;5;28mstr\u001B[39m(e))\n",
      "File \u001B[0;32m~/miniforge3/lib/python3.9/site-packages/hyperopt/base.py:892\u001B[0m, in \u001B[0;36mDomain.evaluate\u001B[0;34m(self, config, ctrl, attach_attachments)\u001B[0m\n\u001B[1;32m    883\u001B[0m \u001B[38;5;28;01melse\u001B[39;00m:\n\u001B[1;32m    884\u001B[0m     \u001B[38;5;66;03m# -- the \"work\" of evaluating `config` can be written\u001B[39;00m\n\u001B[1;32m    885\u001B[0m     \u001B[38;5;66;03m#    either into the pyll part (self.expr)\u001B[39;00m\n\u001B[1;32m    886\u001B[0m     \u001B[38;5;66;03m#    or the normal Python part (self.fn)\u001B[39;00m\n\u001B[1;32m    887\u001B[0m     pyll_rval \u001B[38;5;241m=\u001B[39m pyll\u001B[38;5;241m.\u001B[39mrec_eval(\n\u001B[1;32m    888\u001B[0m         \u001B[38;5;28mself\u001B[39m\u001B[38;5;241m.\u001B[39mexpr,\n\u001B[1;32m    889\u001B[0m         memo\u001B[38;5;241m=\u001B[39mmemo,\n\u001B[1;32m    890\u001B[0m         print_node_on_error\u001B[38;5;241m=\u001B[39m\u001B[38;5;28mself\u001B[39m\u001B[38;5;241m.\u001B[39mrec_eval_print_node_on_error,\n\u001B[1;32m    891\u001B[0m     )\n\u001B[0;32m--> 892\u001B[0m     rval \u001B[38;5;241m=\u001B[39m \u001B[38;5;28;43mself\u001B[39;49m\u001B[38;5;241;43m.\u001B[39;49m\u001B[43mfn\u001B[49m\u001B[43m(\u001B[49m\u001B[43mpyll_rval\u001B[49m\u001B[43m)\u001B[49m\n\u001B[1;32m    894\u001B[0m \u001B[38;5;28;01mif\u001B[39;00m \u001B[38;5;28misinstance\u001B[39m(rval, (\u001B[38;5;28mfloat\u001B[39m, \u001B[38;5;28mint\u001B[39m, np\u001B[38;5;241m.\u001B[39mnumber)):\n\u001B[1;32m    895\u001B[0m     dict_rval \u001B[38;5;241m=\u001B[39m {\u001B[38;5;124m\"\u001B[39m\u001B[38;5;124mloss\u001B[39m\u001B[38;5;124m\"\u001B[39m: \u001B[38;5;28mfloat\u001B[39m(rval), \u001B[38;5;124m\"\u001B[39m\u001B[38;5;124mstatus\u001B[39m\u001B[38;5;124m\"\u001B[39m: STATUS_OK}\n",
      "Input \u001B[0;32mIn [15]\u001B[0m, in \u001B[0;36mobjective_fun\u001B[0;34m(search_space)\u001B[0m\n\u001B[1;32m     24\u001B[0m X_val,y_val\u001B[38;5;241m=\u001B[39mX_train\u001B[38;5;241m.\u001B[39miloc[val_idx], y_train\u001B[38;5;241m.\u001B[39miloc[val_idx]\n\u001B[1;32m     26\u001B[0m \u001B[38;5;66;03m#early stopping은 100회로 설정하고 추출된 학습과 검증 데이터로 lgbm_classfier를 수행한다\u001B[39;00m\n\u001B[0;32m---> 27\u001B[0m \u001B[43mlgbm_clf\u001B[49m\u001B[38;5;241;43m.\u001B[39;49m\u001B[43mfit\u001B[49m\u001B[43m(\u001B[49m\u001B[43mX_tr\u001B[49m\u001B[43m,\u001B[49m\u001B[43my_tr\u001B[49m\u001B[43m,\u001B[49m\u001B[43mearly_stopping_rounds\u001B[49m\u001B[38;5;241;43m=\u001B[39;49m\u001B[38;5;241;43m30\u001B[39;49m\u001B[43m,\u001B[49m\u001B[43meval_metric\u001B[49m\u001B[38;5;241;43m=\u001B[39;49m\u001B[38;5;124;43m'\u001B[39;49m\u001B[38;5;124;43mauc\u001B[39;49m\u001B[38;5;124;43m'\u001B[39;49m\u001B[43m,\u001B[49m\u001B[43meval_set\u001B[49m\u001B[38;5;241;43m=\u001B[39;49m\u001B[43m[\u001B[49m\u001B[43m(\u001B[49m\u001B[43mX_tr\u001B[49m\u001B[43m,\u001B[49m\u001B[43my_tr\u001B[49m\u001B[43m)\u001B[49m\u001B[43m,\u001B[49m\u001B[43m(\u001B[49m\u001B[43mX_val\u001B[49m\u001B[43m,\u001B[49m\u001B[43my_val\u001B[49m\u001B[43m)\u001B[49m\u001B[43m]\u001B[49m\u001B[43m)\u001B[49m\n\u001B[1;32m     29\u001B[0m \u001B[38;5;66;03m#1로 예측한 확률값 추출 후 roc_auc를 계산하고 평균 roc_auc를 계산하기 위해 list에 결과값을 담는다\u001B[39;00m\n\u001B[1;32m     30\u001B[0m score\u001B[38;5;241m=\u001B[39m roc_auc_score(y_val,lgbm_clf\u001B[38;5;241m.\u001B[39mpredict_proba(X_val)[:,\u001B[38;5;241m1\u001B[39m])\n",
      "File \u001B[0;32m~/miniforge3/lib/python3.9/site-packages/lightgbm/sklearn.py:967\u001B[0m, in \u001B[0;36mLGBMClassifier.fit\u001B[0;34m(self, X, y, sample_weight, init_score, eval_set, eval_names, eval_sample_weight, eval_class_weight, eval_init_score, eval_metric, early_stopping_rounds, verbose, feature_name, categorical_feature, callbacks, init_model)\u001B[0m\n\u001B[1;32m    964\u001B[0m         \u001B[38;5;28;01melse\u001B[39;00m:\n\u001B[1;32m    965\u001B[0m             valid_sets[i] \u001B[38;5;241m=\u001B[39m (valid_x, \u001B[38;5;28mself\u001B[39m\u001B[38;5;241m.\u001B[39m_le\u001B[38;5;241m.\u001B[39mtransform(valid_y))\n\u001B[0;32m--> 967\u001B[0m \u001B[38;5;28;43msuper\u001B[39;49m\u001B[43m(\u001B[49m\u001B[43m)\u001B[49m\u001B[38;5;241;43m.\u001B[39;49m\u001B[43mfit\u001B[49m\u001B[43m(\u001B[49m\u001B[43mX\u001B[49m\u001B[43m,\u001B[49m\u001B[43m \u001B[49m\u001B[43m_y\u001B[49m\u001B[43m,\u001B[49m\u001B[43m \u001B[49m\u001B[43msample_weight\u001B[49m\u001B[38;5;241;43m=\u001B[39;49m\u001B[43msample_weight\u001B[49m\u001B[43m,\u001B[49m\u001B[43m \u001B[49m\u001B[43minit_score\u001B[49m\u001B[38;5;241;43m=\u001B[39;49m\u001B[43minit_score\u001B[49m\u001B[43m,\u001B[49m\u001B[43m \u001B[49m\u001B[43meval_set\u001B[49m\u001B[38;5;241;43m=\u001B[39;49m\u001B[43mvalid_sets\u001B[49m\u001B[43m,\u001B[49m\n\u001B[1;32m    968\u001B[0m \u001B[43m            \u001B[49m\u001B[43meval_names\u001B[49m\u001B[38;5;241;43m=\u001B[39;49m\u001B[43meval_names\u001B[49m\u001B[43m,\u001B[49m\u001B[43m \u001B[49m\u001B[43meval_sample_weight\u001B[49m\u001B[38;5;241;43m=\u001B[39;49m\u001B[43meval_sample_weight\u001B[49m\u001B[43m,\u001B[49m\n\u001B[1;32m    969\u001B[0m \u001B[43m            \u001B[49m\u001B[43meval_class_weight\u001B[49m\u001B[38;5;241;43m=\u001B[39;49m\u001B[43meval_class_weight\u001B[49m\u001B[43m,\u001B[49m\u001B[43m \u001B[49m\u001B[43meval_init_score\u001B[49m\u001B[38;5;241;43m=\u001B[39;49m\u001B[43meval_init_score\u001B[49m\u001B[43m,\u001B[49m\n\u001B[1;32m    970\u001B[0m \u001B[43m            \u001B[49m\u001B[43meval_metric\u001B[49m\u001B[38;5;241;43m=\u001B[39;49m\u001B[43meval_metric\u001B[49m\u001B[43m,\u001B[49m\u001B[43m \u001B[49m\u001B[43mearly_stopping_rounds\u001B[49m\u001B[38;5;241;43m=\u001B[39;49m\u001B[43mearly_stopping_rounds\u001B[49m\u001B[43m,\u001B[49m\n\u001B[1;32m    971\u001B[0m \u001B[43m            \u001B[49m\u001B[43mverbose\u001B[49m\u001B[38;5;241;43m=\u001B[39;49m\u001B[43mverbose\u001B[49m\u001B[43m,\u001B[49m\u001B[43m \u001B[49m\u001B[43mfeature_name\u001B[49m\u001B[38;5;241;43m=\u001B[39;49m\u001B[43mfeature_name\u001B[49m\u001B[43m,\u001B[49m\u001B[43m \u001B[49m\u001B[43mcategorical_feature\u001B[49m\u001B[38;5;241;43m=\u001B[39;49m\u001B[43mcategorical_feature\u001B[49m\u001B[43m,\u001B[49m\n\u001B[1;32m    972\u001B[0m \u001B[43m            \u001B[49m\u001B[43mcallbacks\u001B[49m\u001B[38;5;241;43m=\u001B[39;49m\u001B[43mcallbacks\u001B[49m\u001B[43m,\u001B[49m\u001B[43m \u001B[49m\u001B[43minit_model\u001B[49m\u001B[38;5;241;43m=\u001B[39;49m\u001B[43minit_model\u001B[49m\u001B[43m)\u001B[49m\n\u001B[1;32m    973\u001B[0m \u001B[38;5;28;01mreturn\u001B[39;00m \u001B[38;5;28mself\u001B[39m\n",
      "File \u001B[0;32m~/miniforge3/lib/python3.9/site-packages/lightgbm/sklearn.py:748\u001B[0m, in \u001B[0;36mLGBMModel.fit\u001B[0;34m(self, X, y, sample_weight, init_score, group, eval_set, eval_names, eval_sample_weight, eval_class_weight, eval_init_score, eval_group, eval_metric, early_stopping_rounds, verbose, feature_name, categorical_feature, callbacks, init_model)\u001B[0m\n\u001B[1;32m    745\u001B[0m evals_result \u001B[38;5;241m=\u001B[39m {}\n\u001B[1;32m    746\u001B[0m callbacks\u001B[38;5;241m.\u001B[39mappend(record_evaluation(evals_result))\n\u001B[0;32m--> 748\u001B[0m \u001B[38;5;28mself\u001B[39m\u001B[38;5;241m.\u001B[39m_Booster \u001B[38;5;241m=\u001B[39m \u001B[43mtrain\u001B[49m\u001B[43m(\u001B[49m\n\u001B[1;32m    749\u001B[0m \u001B[43m    \u001B[49m\u001B[43mparams\u001B[49m\u001B[38;5;241;43m=\u001B[39;49m\u001B[43mparams\u001B[49m\u001B[43m,\u001B[49m\n\u001B[1;32m    750\u001B[0m \u001B[43m    \u001B[49m\u001B[43mtrain_set\u001B[49m\u001B[38;5;241;43m=\u001B[39;49m\u001B[43mtrain_set\u001B[49m\u001B[43m,\u001B[49m\n\u001B[1;32m    751\u001B[0m \u001B[43m    \u001B[49m\u001B[43mnum_boost_round\u001B[49m\u001B[38;5;241;43m=\u001B[39;49m\u001B[38;5;28;43mself\u001B[39;49m\u001B[38;5;241;43m.\u001B[39;49m\u001B[43mn_estimators\u001B[49m\u001B[43m,\u001B[49m\n\u001B[1;32m    752\u001B[0m \u001B[43m    \u001B[49m\u001B[43mvalid_sets\u001B[49m\u001B[38;5;241;43m=\u001B[39;49m\u001B[43mvalid_sets\u001B[49m\u001B[43m,\u001B[49m\n\u001B[1;32m    753\u001B[0m \u001B[43m    \u001B[49m\u001B[43mvalid_names\u001B[49m\u001B[38;5;241;43m=\u001B[39;49m\u001B[43meval_names\u001B[49m\u001B[43m,\u001B[49m\n\u001B[1;32m    754\u001B[0m \u001B[43m    \u001B[49m\u001B[43mfobj\u001B[49m\u001B[38;5;241;43m=\u001B[39;49m\u001B[38;5;28;43mself\u001B[39;49m\u001B[38;5;241;43m.\u001B[39;49m\u001B[43m_fobj\u001B[49m\u001B[43m,\u001B[49m\n\u001B[1;32m    755\u001B[0m \u001B[43m    \u001B[49m\u001B[43mfeval\u001B[49m\u001B[38;5;241;43m=\u001B[39;49m\u001B[43meval_metrics_callable\u001B[49m\u001B[43m,\u001B[49m\n\u001B[1;32m    756\u001B[0m \u001B[43m    \u001B[49m\u001B[43minit_model\u001B[49m\u001B[38;5;241;43m=\u001B[39;49m\u001B[43minit_model\u001B[49m\u001B[43m,\u001B[49m\n\u001B[1;32m    757\u001B[0m \u001B[43m    \u001B[49m\u001B[43mfeature_name\u001B[49m\u001B[38;5;241;43m=\u001B[39;49m\u001B[43mfeature_name\u001B[49m\u001B[43m,\u001B[49m\n\u001B[1;32m    758\u001B[0m \u001B[43m    \u001B[49m\u001B[43mcallbacks\u001B[49m\u001B[38;5;241;43m=\u001B[39;49m\u001B[43mcallbacks\u001B[49m\n\u001B[1;32m    759\u001B[0m \u001B[43m\u001B[49m\u001B[43m)\u001B[49m\n\u001B[1;32m    761\u001B[0m \u001B[38;5;28;01mif\u001B[39;00m evals_result:\n\u001B[1;32m    762\u001B[0m     \u001B[38;5;28mself\u001B[39m\u001B[38;5;241m.\u001B[39m_evals_result \u001B[38;5;241m=\u001B[39m evals_result\n",
      "File \u001B[0;32m~/miniforge3/lib/python3.9/site-packages/lightgbm/engine.py:271\u001B[0m, in \u001B[0;36mtrain\u001B[0;34m(params, train_set, num_boost_round, valid_sets, valid_names, fobj, feval, init_model, feature_name, categorical_feature, early_stopping_rounds, evals_result, verbose_eval, learning_rates, keep_training_booster, callbacks)\u001B[0m\n\u001B[1;32m    269\u001B[0m \u001B[38;5;66;03m# construct booster\u001B[39;00m\n\u001B[1;32m    270\u001B[0m \u001B[38;5;28;01mtry\u001B[39;00m:\n\u001B[0;32m--> 271\u001B[0m     booster \u001B[38;5;241m=\u001B[39m \u001B[43mBooster\u001B[49m\u001B[43m(\u001B[49m\u001B[43mparams\u001B[49m\u001B[38;5;241;43m=\u001B[39;49m\u001B[43mparams\u001B[49m\u001B[43m,\u001B[49m\u001B[43m \u001B[49m\u001B[43mtrain_set\u001B[49m\u001B[38;5;241;43m=\u001B[39;49m\u001B[43mtrain_set\u001B[49m\u001B[43m)\u001B[49m\n\u001B[1;32m    272\u001B[0m     \u001B[38;5;28;01mif\u001B[39;00m is_valid_contain_train:\n\u001B[1;32m    273\u001B[0m         booster\u001B[38;5;241m.\u001B[39mset_train_data_name(train_data_name)\n",
      "File \u001B[0;32m~/miniforge3/lib/python3.9/site-packages/lightgbm/basic.py:2605\u001B[0m, in \u001B[0;36mBooster.__init__\u001B[0;34m(self, params, train_set, model_file, model_str, silent)\u001B[0m\n\u001B[1;32m   2598\u001B[0m     \u001B[38;5;28mself\u001B[39m\u001B[38;5;241m.\u001B[39mset_network(\n\u001B[1;32m   2599\u001B[0m         machines\u001B[38;5;241m=\u001B[39mmachines,\n\u001B[1;32m   2600\u001B[0m         local_listen_port\u001B[38;5;241m=\u001B[39mparams[\u001B[38;5;124m\"\u001B[39m\u001B[38;5;124mlocal_listen_port\u001B[39m\u001B[38;5;124m\"\u001B[39m],\n\u001B[1;32m   2601\u001B[0m         listen_time_out\u001B[38;5;241m=\u001B[39mparams\u001B[38;5;241m.\u001B[39mget(\u001B[38;5;124m\"\u001B[39m\u001B[38;5;124mtime_out\u001B[39m\u001B[38;5;124m\"\u001B[39m, \u001B[38;5;241m120\u001B[39m),\n\u001B[1;32m   2602\u001B[0m         num_machines\u001B[38;5;241m=\u001B[39mparams[\u001B[38;5;124m\"\u001B[39m\u001B[38;5;124mnum_machines\u001B[39m\u001B[38;5;124m\"\u001B[39m]\n\u001B[1;32m   2603\u001B[0m     )\n\u001B[1;32m   2604\u001B[0m \u001B[38;5;66;03m# construct booster object\u001B[39;00m\n\u001B[0;32m-> 2605\u001B[0m \u001B[43mtrain_set\u001B[49m\u001B[38;5;241;43m.\u001B[39;49m\u001B[43mconstruct\u001B[49m\u001B[43m(\u001B[49m\u001B[43m)\u001B[49m\n\u001B[1;32m   2606\u001B[0m \u001B[38;5;66;03m# copy the parameters from train_set\u001B[39;00m\n\u001B[1;32m   2607\u001B[0m params\u001B[38;5;241m.\u001B[39mupdate(train_set\u001B[38;5;241m.\u001B[39mget_params())\n",
      "File \u001B[0;32m~/miniforge3/lib/python3.9/site-packages/lightgbm/basic.py:1815\u001B[0m, in \u001B[0;36mDataset.construct\u001B[0;34m(self)\u001B[0m\n\u001B[1;32m   1812\u001B[0m             \u001B[38;5;28mself\u001B[39m\u001B[38;5;241m.\u001B[39m_set_init_score_by_predictor(\u001B[38;5;28mself\u001B[39m\u001B[38;5;241m.\u001B[39m_predictor, \u001B[38;5;28mself\u001B[39m\u001B[38;5;241m.\u001B[39mdata, used_indices)\n\u001B[1;32m   1813\u001B[0m \u001B[38;5;28;01melse\u001B[39;00m:\n\u001B[1;32m   1814\u001B[0m     \u001B[38;5;66;03m# create train\u001B[39;00m\n\u001B[0;32m-> 1815\u001B[0m     \u001B[38;5;28;43mself\u001B[39;49m\u001B[38;5;241;43m.\u001B[39;49m\u001B[43m_lazy_init\u001B[49m\u001B[43m(\u001B[49m\u001B[38;5;28;43mself\u001B[39;49m\u001B[38;5;241;43m.\u001B[39;49m\u001B[43mdata\u001B[49m\u001B[43m,\u001B[49m\u001B[43m \u001B[49m\u001B[43mlabel\u001B[49m\u001B[38;5;241;43m=\u001B[39;49m\u001B[38;5;28;43mself\u001B[39;49m\u001B[38;5;241;43m.\u001B[39;49m\u001B[43mlabel\u001B[49m\u001B[43m,\u001B[49m\n\u001B[1;32m   1816\u001B[0m \u001B[43m                    \u001B[49m\u001B[43mweight\u001B[49m\u001B[38;5;241;43m=\u001B[39;49m\u001B[38;5;28;43mself\u001B[39;49m\u001B[38;5;241;43m.\u001B[39;49m\u001B[43mweight\u001B[49m\u001B[43m,\u001B[49m\u001B[43m \u001B[49m\u001B[43mgroup\u001B[49m\u001B[38;5;241;43m=\u001B[39;49m\u001B[38;5;28;43mself\u001B[39;49m\u001B[38;5;241;43m.\u001B[39;49m\u001B[43mgroup\u001B[49m\u001B[43m,\u001B[49m\n\u001B[1;32m   1817\u001B[0m \u001B[43m                    \u001B[49m\u001B[43minit_score\u001B[49m\u001B[38;5;241;43m=\u001B[39;49m\u001B[38;5;28;43mself\u001B[39;49m\u001B[38;5;241;43m.\u001B[39;49m\u001B[43minit_score\u001B[49m\u001B[43m,\u001B[49m\u001B[43m \u001B[49m\u001B[43mpredictor\u001B[49m\u001B[38;5;241;43m=\u001B[39;49m\u001B[38;5;28;43mself\u001B[39;49m\u001B[38;5;241;43m.\u001B[39;49m\u001B[43m_predictor\u001B[49m\u001B[43m,\u001B[49m\n\u001B[1;32m   1818\u001B[0m \u001B[43m                    \u001B[49m\u001B[43msilent\u001B[49m\u001B[38;5;241;43m=\u001B[39;49m\u001B[38;5;28;43mself\u001B[39;49m\u001B[38;5;241;43m.\u001B[39;49m\u001B[43msilent\u001B[49m\u001B[43m,\u001B[49m\u001B[43m \u001B[49m\u001B[43mfeature_name\u001B[49m\u001B[38;5;241;43m=\u001B[39;49m\u001B[38;5;28;43mself\u001B[39;49m\u001B[38;5;241;43m.\u001B[39;49m\u001B[43mfeature_name\u001B[49m\u001B[43m,\u001B[49m\n\u001B[1;32m   1819\u001B[0m \u001B[43m                    \u001B[49m\u001B[43mcategorical_feature\u001B[49m\u001B[38;5;241;43m=\u001B[39;49m\u001B[38;5;28;43mself\u001B[39;49m\u001B[38;5;241;43m.\u001B[39;49m\u001B[43mcategorical_feature\u001B[49m\u001B[43m,\u001B[49m\u001B[43m \u001B[49m\u001B[43mparams\u001B[49m\u001B[38;5;241;43m=\u001B[39;49m\u001B[38;5;28;43mself\u001B[39;49m\u001B[38;5;241;43m.\u001B[39;49m\u001B[43mparams\u001B[49m\u001B[43m)\u001B[49m\n\u001B[1;32m   1820\u001B[0m \u001B[38;5;28;01mif\u001B[39;00m \u001B[38;5;28mself\u001B[39m\u001B[38;5;241m.\u001B[39mfree_raw_data:\n\u001B[1;32m   1821\u001B[0m     \u001B[38;5;28mself\u001B[39m\u001B[38;5;241m.\u001B[39mdata \u001B[38;5;241m=\u001B[39m \u001B[38;5;28;01mNone\u001B[39;00m\n",
      "File \u001B[0;32m~/miniforge3/lib/python3.9/site-packages/lightgbm/basic.py:1538\u001B[0m, in \u001B[0;36mDataset._lazy_init\u001B[0;34m(self, data, label, reference, weight, group, init_score, predictor, silent, feature_name, categorical_feature, params)\u001B[0m\n\u001B[1;32m   1536\u001B[0m     \u001B[38;5;28mself\u001B[39m\u001B[38;5;241m.\u001B[39m__init_from_csc(data, params_str, ref_dataset)\n\u001B[1;32m   1537\u001B[0m \u001B[38;5;28;01melif\u001B[39;00m \u001B[38;5;28misinstance\u001B[39m(data, np\u001B[38;5;241m.\u001B[39mndarray):\n\u001B[0;32m-> 1538\u001B[0m     \u001B[38;5;28;43mself\u001B[39;49m\u001B[38;5;241;43m.\u001B[39;49m\u001B[43m__init_from_np2d\u001B[49m\u001B[43m(\u001B[49m\u001B[43mdata\u001B[49m\u001B[43m,\u001B[49m\u001B[43m \u001B[49m\u001B[43mparams_str\u001B[49m\u001B[43m,\u001B[49m\u001B[43m \u001B[49m\u001B[43mref_dataset\u001B[49m\u001B[43m)\u001B[49m\n\u001B[1;32m   1539\u001B[0m \u001B[38;5;28;01melif\u001B[39;00m \u001B[38;5;28misinstance\u001B[39m(data, \u001B[38;5;28mlist\u001B[39m) \u001B[38;5;129;01mand\u001B[39;00m \u001B[38;5;28mlen\u001B[39m(data) \u001B[38;5;241m>\u001B[39m \u001B[38;5;241m0\u001B[39m:\n\u001B[1;32m   1540\u001B[0m     \u001B[38;5;28;01mif\u001B[39;00m \u001B[38;5;28mall\u001B[39m(\u001B[38;5;28misinstance\u001B[39m(x, np\u001B[38;5;241m.\u001B[39mndarray) \u001B[38;5;28;01mfor\u001B[39;00m x \u001B[38;5;129;01min\u001B[39;00m data):\n",
      "File \u001B[0;32m~/miniforge3/lib/python3.9/site-packages/lightgbm/basic.py:1659\u001B[0m, in \u001B[0;36mDataset.__init_from_np2d\u001B[0;34m(self, mat, params_str, ref_dataset)\u001B[0m\n\u001B[1;32m   1656\u001B[0m     data \u001B[38;5;241m=\u001B[39m np\u001B[38;5;241m.\u001B[39marray(mat\u001B[38;5;241m.\u001B[39mreshape(mat\u001B[38;5;241m.\u001B[39msize), dtype\u001B[38;5;241m=\u001B[39mnp\u001B[38;5;241m.\u001B[39mfloat32)\n\u001B[1;32m   1658\u001B[0m ptr_data, type_ptr_data, _ \u001B[38;5;241m=\u001B[39m c_float_array(data)\n\u001B[0;32m-> 1659\u001B[0m \u001B[43m_safe_call\u001B[49m\u001B[43m(\u001B[49m\u001B[43m_LIB\u001B[49m\u001B[38;5;241;43m.\u001B[39;49m\u001B[43mLGBM_DatasetCreateFromMat\u001B[49m\u001B[43m(\u001B[49m\n\u001B[1;32m   1660\u001B[0m \u001B[43m    \u001B[49m\u001B[43mptr_data\u001B[49m\u001B[43m,\u001B[49m\n\u001B[1;32m   1661\u001B[0m \u001B[43m    \u001B[49m\u001B[43mctypes\u001B[49m\u001B[38;5;241;43m.\u001B[39;49m\u001B[43mc_int\u001B[49m\u001B[43m(\u001B[49m\u001B[43mtype_ptr_data\u001B[49m\u001B[43m)\u001B[49m\u001B[43m,\u001B[49m\n\u001B[1;32m   1662\u001B[0m \u001B[43m    \u001B[49m\u001B[43mctypes\u001B[49m\u001B[38;5;241;43m.\u001B[39;49m\u001B[43mc_int32\u001B[49m\u001B[43m(\u001B[49m\u001B[43mmat\u001B[49m\u001B[38;5;241;43m.\u001B[39;49m\u001B[43mshape\u001B[49m\u001B[43m[\u001B[49m\u001B[38;5;241;43m0\u001B[39;49m\u001B[43m]\u001B[49m\u001B[43m)\u001B[49m\u001B[43m,\u001B[49m\n\u001B[1;32m   1663\u001B[0m \u001B[43m    \u001B[49m\u001B[43mctypes\u001B[49m\u001B[38;5;241;43m.\u001B[39;49m\u001B[43mc_int32\u001B[49m\u001B[43m(\u001B[49m\u001B[43mmat\u001B[49m\u001B[38;5;241;43m.\u001B[39;49m\u001B[43mshape\u001B[49m\u001B[43m[\u001B[49m\u001B[38;5;241;43m1\u001B[39;49m\u001B[43m]\u001B[49m\u001B[43m)\u001B[49m\u001B[43m,\u001B[49m\n\u001B[1;32m   1664\u001B[0m \u001B[43m    \u001B[49m\u001B[43mctypes\u001B[49m\u001B[38;5;241;43m.\u001B[39;49m\u001B[43mc_int\u001B[49m\u001B[43m(\u001B[49m\u001B[43mC_API_IS_ROW_MAJOR\u001B[49m\u001B[43m)\u001B[49m\u001B[43m,\u001B[49m\n\u001B[1;32m   1665\u001B[0m \u001B[43m    \u001B[49m\u001B[43mc_str\u001B[49m\u001B[43m(\u001B[49m\u001B[43mparams_str\u001B[49m\u001B[43m)\u001B[49m\u001B[43m,\u001B[49m\n\u001B[1;32m   1666\u001B[0m \u001B[43m    \u001B[49m\u001B[43mref_dataset\u001B[49m\u001B[43m,\u001B[49m\n\u001B[1;32m   1667\u001B[0m \u001B[43m    \u001B[49m\u001B[43mctypes\u001B[49m\u001B[38;5;241;43m.\u001B[39;49m\u001B[43mbyref\u001B[49m\u001B[43m(\u001B[49m\u001B[38;5;28;43mself\u001B[39;49m\u001B[38;5;241;43m.\u001B[39;49m\u001B[43mhandle\u001B[49m\u001B[43m)\u001B[49m\u001B[43m)\u001B[49m\u001B[43m)\u001B[49m\n\u001B[1;32m   1668\u001B[0m \u001B[38;5;28;01mreturn\u001B[39;00m \u001B[38;5;28mself\u001B[39m\n",
      "File \u001B[0;32m~/miniforge3/lib/python3.9/site-packages/lightgbm/basic.py:125\u001B[0m, in \u001B[0;36m_safe_call\u001B[0;34m(ret)\u001B[0m\n\u001B[1;32m    117\u001B[0m \u001B[38;5;124;03m\"\"\"Check the return value from C API call.\u001B[39;00m\n\u001B[1;32m    118\u001B[0m \n\u001B[1;32m    119\u001B[0m \u001B[38;5;124;03mParameters\u001B[39;00m\n\u001B[0;32m   (...)\u001B[0m\n\u001B[1;32m    122\u001B[0m \u001B[38;5;124;03m    The return value from C API calls.\u001B[39;00m\n\u001B[1;32m    123\u001B[0m \u001B[38;5;124;03m\"\"\"\u001B[39;00m\n\u001B[1;32m    124\u001B[0m \u001B[38;5;28;01mif\u001B[39;00m ret \u001B[38;5;241m!=\u001B[39m \u001B[38;5;241m0\u001B[39m:\n\u001B[0;32m--> 125\u001B[0m     \u001B[38;5;28;01mraise\u001B[39;00m LightGBMError(_LIB\u001B[38;5;241m.\u001B[39mLGBM_GetLastError()\u001B[38;5;241m.\u001B[39mdecode(\u001B[38;5;124m'\u001B[39m\u001B[38;5;124mutf-8\u001B[39m\u001B[38;5;124m'\u001B[39m))\n",
      "\u001B[0;31mLightGBMError\u001B[0m: Multiclass objective and metrics don't match"
     ]
    }
   ],
   "source": [
    "trials= Trials()\n",
    "#fmin() 함수를 호출, max_evals를 지정된 횟수만큼 반복 후 목적함수의 최솟값을 찾는  최적입력값을 추출한다\n",
    "best= fmin(fn=objective_fun,space=lgbm_search_space,algo=tpe.suggest,\n",
    "           trials=trials,rstate=np.random.default_rng(seed=50),max_evals=50)\n",
    "\n"
   ],
   "metadata": {
    "collapsed": false,
    "pycharm": {
     "name": "#%%\n"
    }
   }
  },
  {
   "cell_type": "code",
   "execution_count": null,
   "outputs": [],
   "source": [
    "from sklearn.metrics import accuracy_score, precision_score, recall_score, confusion_matrix,roc_auc_score\n",
    "\n",
    "\n",
    "print('오차 행렬 값은: \\n',confusion_matrix(y_test,y_pred))\n",
    "print(f'accuracy 스코어는 {accuracy_score(y_test,y_pred):.5f} 입니다')\n",
    "print(f\"precision 스코어는 {precision_score(y_test,y_pred,average='macro'):.5f}\")\n",
    "print(f\"recall 스코어는 {recall_score(y_test,y_pred,average='macro'):.5f}\")\n"
   ],
   "metadata": {
    "collapsed": false,
    "pycharm": {
     "name": "#%%\n"
    }
   }
  },
  {
   "cell_type": "code",
   "execution_count": null,
   "outputs": [],
   "source": [],
   "metadata": {
    "collapsed": false,
    "pycharm": {
     "name": "#%%\n"
    }
   }
  }
 ],
 "metadata": {
  "kernelspec": {
   "display_name": "Python 3",
   "language": "python",
   "name": "python3"
  },
  "language_info": {
   "codemirror_mode": {
    "name": "ipython",
    "version": 2
   },
   "file_extension": ".py",
   "mimetype": "text/x-python",
   "name": "python",
   "nbconvert_exporter": "python",
   "pygments_lexer": "ipython2",
   "version": "2.7.6"
  }
 },
 "nbformat": 4,
 "nbformat_minor": 0
}