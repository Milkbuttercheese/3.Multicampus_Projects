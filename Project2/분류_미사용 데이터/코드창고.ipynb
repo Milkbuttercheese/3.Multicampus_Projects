{
 "cells": [
  {
   "cell_type": "code",
   "execution_count": null,
   "metadata": {
    "collapsed": true,
    "pycharm": {
     "name": "#%%\n"
    }
   },
   "outputs": [],
   "source": []
  },
  {
   "cell_type": "code",
   "execution_count": null,
   "outputs": [],
   "source": [
    "\n",
    "# from pyproj import CRS, Transformer\n",
    "# import pandas as pd\n",
    "#\n",
    "# def project_array(coord, before_coord, after_coord):\n",
    "#     #coord가 DataFrame 타입으로 들어오는 경우 넘파이로 변환시켜서 데이터를 처리시키기\n",
    "#     #그냥 numpy인 경우엔 상관없다\n",
    "#     coord= coord.to_numpy()\n",
    "#\n",
    "#     transformer= Transformer.from_crs(before_coord,after_coord)\n",
    "#     after_x,after_y= transformer.transform(coord[:,0],coord[:,1])\n",
    "#     after_df= pd.DataFrame(after_x,after_y)\n",
    "#     after_df.reset_index(inplace=True)\n",
    "#     after_df.columns=['경도','위도']\n",
    "#     after_df= after_df[['위도','경도']]\n",
    "#     return after_df\n",
    "\n",
    "\n",
    "# # EPS: 4166,4326: 전세계를 나타낼 때 쓰이는 표준적인 좌표계\n",
    "# # GRS80,EPSG:5185,5186 현재 국토지리정보원 표준: 2002년 이후에 국토지리정보원 지형도에서 사용중인 좌표계\n",
    "# GRS80X_coords=VDS_df[['GRS80X좌표값','GRS80Y좌표값']]\n",
    "# coord_df= project_array(GRS80X_coords,'EPSG:5180','EPSG:4326')\n",
    "# VDS_df[['GRS80X좌표값','GRS80Y좌표값']]=coord_df\n",
    "# VDS_df.rename({'GRS80X좌표값':'위도','GRS80Y좌표값':'경도'},axis=1,inplace=True)\n",
    "# VDS_df.drop(['VDS_ID','차로_ID'],axis=1,inplace=True)\n",
    "# VDS_df와"
   ],
   "metadata": {
    "collapsed": false,
    "pycharm": {
     "name": "#%%\n"
    }
   }
  }
 ],
 "metadata": {
  "kernelspec": {
   "display_name": "Python 3",
   "language": "python",
   "name": "python3"
  },
  "language_info": {
   "codemirror_mode": {
    "name": "ipython",
    "version": 2
   },
   "file_extension": ".py",
   "mimetype": "text/x-python",
   "name": "python",
   "nbconvert_exporter": "python",
   "pygments_lexer": "ipython2",
   "version": "2.7.6"
  }
 },
 "nbformat": 4,
 "nbformat_minor": 0
}