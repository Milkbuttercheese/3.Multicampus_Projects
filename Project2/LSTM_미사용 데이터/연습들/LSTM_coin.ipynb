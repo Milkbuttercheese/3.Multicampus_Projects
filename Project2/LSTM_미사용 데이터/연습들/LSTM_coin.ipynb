{
 "nbformat": 4,
 "nbformat_minor": 0,
 "metadata": {
  "accelerator": "GPU",
  "colab": {
   "name": "Adaboost-GRU_crypto.ipynb",
   "provenance": [],
   "collapsed_sections": [],
   "machine_shape": "hm",
   "authorship_tag": "ABX9TyMd0jOF24xFeJMxHjAD2STZ"
  },
  "kernelspec": {
   "display_name": "Python 3",
   "name": "python3"
  },
  "language_info": {
   "name": "python"
  }
 },
 "cells": [
  {
   "cell_type": "markdown",
   "metadata": {
    "id": "0Hdp752jaZ0T",
    "pycharm": {
     "name": "#%% md\n"
    }
   },
   "source": [
    "# Default Setting"
   ]
  },
  {
   "cell_type": "markdown",
   "metadata": {
    "id": "9u4ey8c0cRHp",
    "pycharm": {
     "name": "#%% md\n"
    }
   },
   "source": [
    "Executed in Colab pro environment.\n",
    "\n",
    "* ML Framework\n",
    "   - Python 3.7.10\n",
    "   - Tensorflow 2.5.0\n",
    "\n",
    "* Hardware\n",
    "   - RAM: 12.7G \n",
    "   - CPU: Intel(R) Xeon(R) CPU @ 2.30GHz (1core)\n",
    "   - GPU: Tesla P100-PCIE-16GB"
   ]
  },
  {
   "cell_type": "markdown",
   "metadata": {
    "id": "4jLTRYPxgd6e",
    "pycharm": {
     "name": "#%% md\n"
    }
   },
   "source": [
    "# 0. import packages"
   ]
  },
  {
   "cell_type": "code",
   "metadata": {
    "id": "VdQN_EyWgm_7",
    "executionInfo": {
     "status": "ok",
     "timestamp": 1622374855615,
     "user_tz": -540,
     "elapsed": 3302,
     "user": {
      "displayName": "‍차지수(학부학생/사회과학대학 언론홍보영상학)",
      "photoUrl": "",
      "userId": "01051544767581313229"
     }
    },
    "pycharm": {
     "name": "#%%\n"
    }
   },
   "source": [
    "# 빗썸 가상화폐 데이터 모듈\n",
    "!pip install -q pybithumb"
   ],
   "execution_count": 1,
   "outputs": []
  },
  {
   "cell_type": "code",
   "metadata": {
    "id": "GSaG1Ilbi5lB",
    "executionInfo": {
     "status": "ok",
     "timestamp": 1622374857515,
     "user_tz": -540,
     "elapsed": 1903,
     "user": {
      "displayName": "‍차지수(학부학생/사회과학대학 언론홍보영상학)",
      "photoUrl": "",
      "userId": "01051544767581313229"
     }
    },
    "pycharm": {
     "name": "#%%\n"
    }
   },
   "source": [
    "import numpy as np\n",
    "import pandas as pd\n",
    "import time\n",
    "from tqdm import tqdm\n",
    "import pybithumb\n",
    "import matplotlib.pyplot as plt\n",
    "from sklearn.preprocessing import MinMaxScaler\n",
    "from sklearn.model_selection import train_test_split\n",
    "from tensorflow.keras import Sequential\n",
    "from tensorflow.keras.layers import Dense, GRU, Dropout, LSTM, InputLayer\n",
    "from tensorflow.keras.wrappers.scikit_learn import KerasRegressor\n",
    "from sklearn.ensemble import AdaBoostRegressor"
   ],
   "execution_count": 2,
   "outputs": []
  },
  {
   "cell_type": "markdown",
   "metadata": {
    "id": "YwaN7tb9gXhs",
    "pycharm": {
     "name": "#%% md\n"
    }
   },
   "source": [
    "## Data Preprocessing\n",
    "- pybithumb.get_ohlcv: 빗섬의 현재 거래중인 가상화폐의 시계열 데이터를 얻어올 수 있다\n",
    "- 제공되는 데이터는 측정시각,시가,종가,고가,저가,볼륨이다"
   ]
  },
  {
   "cell_type": "code",
   "metadata": {
    "id": "76xu0w0uVYhj",
    "executionInfo": {
     "status": "ok",
     "timestamp": 1622374857911,
     "user_tz": -540,
     "elapsed": 398,
     "user": {
      "displayName": "‍차지수(학부학생/사회과학대학 언론홍보영상학)",
      "photoUrl": "",
      "userId": "01051544767581313229"
     }
    },
    "pycharm": {
     "name": "#%%\n"
    }
   },
   "source": [
    "mydf = pybithumb.get_ohlcv(\"ETH\",interval='hour').reset_index()"
   ],
   "execution_count": 3,
   "outputs": []
  },
  {
   "cell_type": "code",
   "metadata": {
    "colab": {
     "base_uri": "https://localhost:8080/",
     "height": 204
    },
    "id": "0aUWEJiO0y2m",
    "executionInfo": {
     "status": "ok",
     "timestamp": 1622374857911,
     "user_tz": -540,
     "elapsed": 11,
     "user": {
      "displayName": "‍차지수(학부학생/사회과학대학 언론홍보영상학)",
      "photoUrl": "",
      "userId": "01051544767581313229"
     }
    },
    "outputId": "51cb01c0-34bc-4e2d-cd01-ac079e0578fd",
    "pycharm": {
     "name": "#%%\n"
    }
   },
   "source": [
    "mydf.head()"
   ],
   "execution_count": 4,
   "outputs": [
    {
     "data": {
      "text/plain": "                 time       open       high        low      close       volume\n0 2022-01-15 17:00:00  4025000.0  4036000.0  4023000.0  4023000.0   373.662813\n1 2022-01-15 18:00:00  4023000.0  4046000.0  4020000.0  4044000.0   416.052102\n2 2022-01-15 19:00:00  4041000.0  4052000.0  4033000.0  4035000.0   454.511447\n3 2022-01-15 20:00:00  4034000.0  4036000.0  4022000.0  4027000.0   309.148546\n4 2022-01-15 21:00:00  4028000.0  4033000.0  3970000.0  3991000.0  1575.333207",
      "text/html": "<div>\n<style scoped>\n    .dataframe tbody tr th:only-of-type {\n        vertical-align: middle;\n    }\n\n    .dataframe tbody tr th {\n        vertical-align: top;\n    }\n\n    .dataframe thead th {\n        text-align: right;\n    }\n</style>\n<table border=\"1\" class=\"dataframe\">\n  <thead>\n    <tr style=\"text-align: right;\">\n      <th></th>\n      <th>time</th>\n      <th>open</th>\n      <th>high</th>\n      <th>low</th>\n      <th>close</th>\n      <th>volume</th>\n    </tr>\n  </thead>\n  <tbody>\n    <tr>\n      <th>0</th>\n      <td>2022-01-15 17:00:00</td>\n      <td>4025000.0</td>\n      <td>4036000.0</td>\n      <td>4023000.0</td>\n      <td>4023000.0</td>\n      <td>373.662813</td>\n    </tr>\n    <tr>\n      <th>1</th>\n      <td>2022-01-15 18:00:00</td>\n      <td>4023000.0</td>\n      <td>4046000.0</td>\n      <td>4020000.0</td>\n      <td>4044000.0</td>\n      <td>416.052102</td>\n    </tr>\n    <tr>\n      <th>2</th>\n      <td>2022-01-15 19:00:00</td>\n      <td>4041000.0</td>\n      <td>4052000.0</td>\n      <td>4033000.0</td>\n      <td>4035000.0</td>\n      <td>454.511447</td>\n    </tr>\n    <tr>\n      <th>3</th>\n      <td>2022-01-15 20:00:00</td>\n      <td>4034000.0</td>\n      <td>4036000.0</td>\n      <td>4022000.0</td>\n      <td>4027000.0</td>\n      <td>309.148546</td>\n    </tr>\n    <tr>\n      <th>4</th>\n      <td>2022-01-15 21:00:00</td>\n      <td>4028000.0</td>\n      <td>4033000.0</td>\n      <td>3970000.0</td>\n      <td>3991000.0</td>\n      <td>1575.333207</td>\n    </tr>\n  </tbody>\n</table>\n</div>"
     },
     "execution_count": 4,
     "metadata": {},
     "output_type": "execute_result"
    }
   ]
  },
  {
   "cell_type": "code",
   "metadata": {
    "id": "yDx2k1TqmvkK",
    "executionInfo": {
     "status": "ok",
     "timestamp": 1622374857912,
     "user_tz": -540,
     "elapsed": 8,
     "user": {
      "displayName": "‍차지수(학부학생/사회과학대학 언론홍보영상학)",
      "photoUrl": "",
      "userId": "01051544767581313229"
     }
    },
    "pycharm": {
     "name": "#%%\n"
    }
   },
   "source": [
    "plt.rcParams[\"figure.figsize\"] = (15,10)"
   ],
   "execution_count": 5,
   "outputs": []
  },
  {
   "cell_type": "code",
   "metadata": {
    "colab": {
     "base_uri": "https://localhost:8080/",
     "height": 624
    },
    "id": "c_rRfzmMjLzJ",
    "executionInfo": {
     "status": "ok",
     "timestamp": 1622374858356,
     "user_tz": -540,
     "elapsed": 452,
     "user": {
      "displayName": "‍차지수(학부학생/사회과학대학 언론홍보영상학)",
      "photoUrl": "",
      "userId": "01051544767581313229"
     }
    },
    "outputId": "4f17413f-ddae-4edb-bf92-69f7ba371da9",
    "pycharm": {
     "name": "#%%\n"
    }
   },
   "source": [
    "plt.plot(mydf['open'])\n",
    "plt.title('ETH')"
   ],
   "execution_count": 6,
   "outputs": [
    {
     "data": {
      "text/plain": "Text(0.5, 1.0, 'ETH')"
     },
     "execution_count": 6,
     "metadata": {},
     "output_type": "execute_result"
    },
    {
     "data": {
      "text/plain": "<Figure size 432x288 with 1 Axes>",
      "image/png": "[encoded data removed]"
     },
     "metadata": {
      "needs_background": "light"
     },
     "output_type": "display_data"
    }
   ]
  },
  {
   "cell_type": "code",
   "metadata": {
    "id": "KDmXCipdvkZt",
    "executionInfo": {
     "status": "ok",
     "timestamp": 1622374858357,
     "user_tz": -540,
     "elapsed": 8,
     "user": {
      "displayName": "‍차지수(학부학생/사회과학대학 언론홍보영상학)",
      "photoUrl": "",
      "userId": "01051544767581313229"
     }
    },
    "pycharm": {
     "name": "#%%\n"
    }
   },
   "source": [
    "def preprocess(series, window_size=None, scaling=True):\n",
    "\n",
    "    if window_size!=None:\n",
    "        series = series.rolling(window_size, min_periods=0).mean()\n",
    "    array = np.array(series)\n",
    "    \n",
    "    if scaling==True:\n",
    "        scaler = MinMaxScaler()\n",
    "        training_data = scaler.fit_transform(array.reshape(-1,1))\n",
    "    else:\n",
    "        scaler = None\n",
    "\n",
    "    return training_data, scaler"
   ],
   "execution_count": 7,
   "outputs": []
  },
  {
   "cell_type": "code",
   "metadata": {
    "id": "pD-LXGYddHBv",
    "executionInfo": {
     "status": "ok",
     "timestamp": 1622374858357,
     "user_tz": -540,
     "elapsed": 8,
     "user": {
      "displayName": "‍차지수(학부학생/사회과학대학 언론홍보영상학)",
      "photoUrl": "",
      "userId": "01051544767581313229"
     }
    },
    "pycharm": {
     "name": "#%%\n"
    }
   },
   "source": [
    "'''\n",
    "- X는 t개의 time-step으로 이루어진 벡터\n",
    "- 데이터의 순서를 보존하기 위해 train_test_split을 시행할 때 반드시 shuffle= False를 입력해야한다\n",
    "'''\n",
    "def make_dataset(training_data, t, h=0, test_size=0.2):\n",
    "    \n",
    "    X_train = []\n",
    "    y_train = []\n",
    "    for i in range(t, len(training_data)-h):\n",
    "        X_train.append(training_data[i-t:i])\n",
    "        y_train.append(training_data[i+h])\n",
    "    X = np.array(X_train)\n",
    "    y = np.array(y_train)\n",
    "\n",
    "    X_train,X_test,y_train,y_test = train_test_split(X, y, test_size=test_size, shuffle=False)\n",
    "\n",
    "    return X_train,X_test,y_train,y_test"
   ],
   "execution_count": 8,
   "outputs": []
  },
  {
   "cell_type": "code",
   "metadata": {
    "id": "Ja18LLvgwFw6",
    "executionInfo": {
     "status": "ok",
     "timestamp": 1622374858359,
     "user_tz": -540,
     "elapsed": 9,
     "user": {
      "displayName": "‍차지수(학부학생/사회과학대학 언론홍보영상학)",
      "photoUrl": "",
      "userId": "01051544767581313229"
     }
    },
    "pycharm": {
     "name": "#%%\n"
    }
   },
   "source": [
    "training_data, scaler = preprocess(mydf['open'], window_size=10)"
   ],
   "execution_count": 9,
   "outputs": []
  },
  {
   "cell_type": "code",
   "metadata": {
    "id": "qvhx8d_YhZPf",
    "executionInfo": {
     "status": "ok",
     "timestamp": 1622374858359,
     "user_tz": -540,
     "elapsed": 8,
     "user": {
      "displayName": "‍차지수(학부학생/사회과학대학 언론홍보영상학)",
      "photoUrl": "",
      "userId": "01051544767581313229"
     }
    },
    "pycharm": {
     "name": "#%%\n"
    }
   },
   "source": [
    "X_train,X_test,y_train,y_test = make_dataset(training_data, t = 168)"
   ],
   "execution_count": 10,
   "outputs": []
  },
  {
   "cell_type": "markdown",
   "metadata": {
    "id": "LU6COe313FG_",
    "pycharm": {
     "name": "#%% md\n"
    }
   },
   "source": [
    "# MAE, MSE, RMSE: 시계열 데이터의 평가 지표들\n",
    "- MAE(Mean Absolute Error):\n",
    "    - $\\sum_{i}|y_i-\\hat{y_i}|$\n",
    "- MSE(Mean Square Error)\n",
    "    - $\\sum_{i}(y_i-\\hat{y_i})^2$\n",
    "- RMSE(Root Mean Square Error)\n",
    "    - $\\sqrt{\\sum_{i}(y_i-\\hat{y_i})^2}$"
   ]
  },
  {
   "cell_type": "code",
   "metadata": {
    "id": "JSBXDTkK3Hj1",
    "executionInfo": {
     "status": "ok",
     "timestamp": 1622374858360,
     "user_tz": -540,
     "elapsed": 9,
     "user": {
      "displayName": "‍차지수(학부학생/사회과학대학 언론홍보영상학)",
      "photoUrl": "",
      "userId": "01051544767581313229"
     }
    },
    "pycharm": {
     "name": "#%%\n"
    }
   },
   "source": [
    "def MAE(y_true, y_pred):\n",
    "    return \"{:.2e}\".format(np.mean(np.abs(y_true-y_pred)))\n",
    "\n",
    "def MSE(y_true, y_pred):\n",
    "    return \"{:.2e}\".format(np.mean(np.square(y_true-y_pred)))\n",
    "\n",
    "def RMSE(y_true, y_pred):\n",
    "    return \"{:.2e}\".format(np.sqrt(np.mean(np.square(y_true-y_pred))))"
   ],
   "execution_count": 11,
   "outputs": []
  },
  {
   "cell_type": "markdown",
   "metadata": {
    "id": "G2Ep7eHWpvH2",
    "pycharm": {
     "name": "#%% md\n"
    }
   },
   "source": [
    "# GRU-adaboost FIT"
   ]
  },
  {
   "cell_type": "code",
   "metadata": {
    "id": "pzvx8uQAdekA",
    "executionInfo": {
     "status": "ok",
     "timestamp": 1622374859431,
     "user_tz": -540,
     "elapsed": 1079,
     "user": {
      "displayName": "‍차지수(학부학생/사회과학대학 언론홍보영상학)",
      "photoUrl": "",
      "userId": "01051544767581313229"
     }
    },
    "pycharm": {
     "name": "#%%\n"
    }
   },
   "source": [
    "model = Sequential()\n",
    "model.add(InputLayer(input_shape=(X_train.shape[1],1)))\n",
    "model.add(GRU(units=128))\n",
    "model.add(Dropout(0.5))\n",
    "model.add(Dense(units=1))"
   ],
   "execution_count": 12,
   "outputs": [
    {
     "name": "stdout",
     "output_type": "stream",
     "text": [
      "Metal device set to: Apple M1\n"
     ]
    },
    {
     "name": "stderr",
     "output_type": "stream",
     "text": [
      "2022-08-12 21:55:40.086121: I tensorflow/core/common_runtime/pluggable_device/pluggable_device_factory.cc:305] Could not identify NUMA node of platform GPU ID 0, defaulting to 0. Your kernel may not have been built with NUMA support.\n",
      "2022-08-12 21:55:40.086396: I tensorflow/core/common_runtime/pluggable_device/pluggable_device_factory.cc:271] Created TensorFlow device (/job:localhost/replica:0/task:0/device:GPU:0 with 0 MB memory) -> physical PluggableDevice (device: 0, name: METAL, pci bus id: <undefined>)\n"
     ]
    }
   ]
  },
  {
   "cell_type": "code",
   "metadata": {
    "id": "5o5U7e6uemqe",
    "executionInfo": {
     "status": "ok",
     "timestamp": 1622374859431,
     "user_tz": -540,
     "elapsed": 7,
     "user": {
      "displayName": "‍차지수(학부학생/사회과학대학 언론홍보영상학)",
      "photoUrl": "",
      "userId": "01051544767581313229"
     }
    },
    "pycharm": {
     "name": "#%%\n"
    }
   },
   "source": [
    "model.compile(loss='mean_squared_error', optimizer='adam')"
   ],
   "execution_count": 13,
   "outputs": []
  },
  {
   "cell_type": "code",
   "metadata": {
    "id": "1rgZh7rVfWbS",
    "executionInfo": {
     "status": "ok",
     "timestamp": 1622374859432,
     "user_tz": -540,
     "elapsed": 7,
     "user": {
      "displayName": "‍차지수(학부학생/사회과학대학 언론홍보영상학)",
      "photoUrl": "",
      "userId": "01051544767581313229"
     }
    },
    "pycharm": {
     "name": "#%%\n"
    }
   },
   "source": [
    "# adaboost\n",
    "GRU_Predictors = KerasRegressor(build_fn=lambda:model, epochs=20, batch_size=30)\n",
    "final_model = AdaBoostRegressor(GRU_Predictors, n_estimators=5, random_state=42)"
   ],
   "execution_count": 14,
   "outputs": [
    {
     "name": "stderr",
     "output_type": "stream",
     "text": [
      "/var/folders/m9/0vsmjxhd7q30k5mzw0bk58hh0000gn/T/ipykernel_76400/3498737679.py:2: DeprecationWarning: KerasRegressor is deprecated, use Sci-Keras (https://github.com/adriangb/scikeras) instead. See https://www.adriangb.com/scikeras/stable/migration.html for help migrating.\n",
      "  GRU_Predictors = KerasRegressor(build_fn=lambda:model, epochs=20, batch_size=30)\n"
     ]
    }
   ]
  },
  {
   "cell_type": "code",
   "metadata": {
    "colab": {
     "base_uri": "https://localhost:8080/"
    },
    "id": "hH0N9R-Lgwcm",
    "executionInfo": {
     "status": "ok",
     "timestamp": 1622374943039,
     "user_tz": -540,
     "elapsed": 83613,
     "user": {
      "displayName": "‍차지수(학부학생/사회과학대학 언론홍보영상학)",
      "photoUrl": "",
      "userId": "01051544767581313229"
     }
    },
    "outputId": "378ced05-326a-469f-f201-580a5393d6c2",
    "pycharm": {
     "name": "#%%\n"
    }
   },
   "source": [
    "final_model.fit(X_train,y_train)"
   ],
   "execution_count": 15,
   "outputs": [
    {
     "name": "stdout",
     "output_type": "stream",
     "text": [
      "Epoch 1/20\n"
     ]
    },
    {
     "name": "stderr",
     "output_type": "stream",
     "text": [
      "/Users/wooseongkyun/miniforge3/lib/python3.9/site-packages/sklearn/utils/validation.py:1111: DataConversionWarning: A column-vector y was passed when a 1d array was expected. Please change the shape of y to (n_samples, ), for example using ravel().\n",
      "  y = column_or_1d(y, warn=True)\n",
      "2022-08-12 21:55:41.073534: W tensorflow/core/platform/profile_utils/cpu_utils.cc:128] Failed to get CPU frequency: 0 Hz\n",
      "2022-08-12 21:55:41.617484: I tensorflow/core/grappler/optimizers/custom_graph_optimizer_registry.cc:113] Plugin optimizer for device_type GPU is enabled.\n",
      "2022-08-12 21:55:41.772212: I tensorflow/core/grappler/optimizers/custom_graph_optimizer_registry.cc:113] Plugin optimizer for device_type GPU is enabled.\n",
      "2022-08-12 21:55:43.837836: I tensorflow/core/grappler/optimizers/custom_graph_optimizer_registry.cc:113] Plugin optimizer for device_type GPU is enabled.\n"
     ]
    },
    {
     "name": "stdout",
     "output_type": "stream",
     "text": [
      "129/129 [==============================] - 10s 43ms/step - loss: 0.0142\n",
      "Epoch 2/20\n",
      "129/129 [==============================] - 5s 37ms/step - loss: 1.3317e-04\n",
      "Epoch 3/20\n",
      "129/129 [==============================] - 5s 38ms/step - loss: 8.0096e-05\n",
      "Epoch 4/20\n",
      "129/129 [==============================] - 5s 38ms/step - loss: 6.3976e-05\n",
      "Epoch 5/20\n",
      "129/129 [==============================] - 5s 38ms/step - loss: 5.5301e-05\n",
      "Epoch 6/20\n",
      "129/129 [==============================] - 5s 40ms/step - loss: 5.5112e-05\n",
      "Epoch 7/20\n",
      "129/129 [==============================] - 5s 38ms/step - loss: 4.9707e-05\n",
      "Epoch 8/20\n",
      "129/129 [==============================] - 5s 37ms/step - loss: 4.5370e-05\n",
      "Epoch 9/20\n",
      "129/129 [==============================] - 5s 39ms/step - loss: 4.6178e-05\n",
      "Epoch 10/20\n",
      "129/129 [==============================] - 5s 38ms/step - loss: 4.0921e-05\n",
      "Epoch 11/20\n",
      "129/129 [==============================] - 5s 37ms/step - loss: 4.0989e-05\n",
      "Epoch 12/20\n",
      "129/129 [==============================] - 5s 37ms/step - loss: 3.7983e-05\n",
      "Epoch 13/20\n",
      "129/129 [==============================] - 5s 37ms/step - loss: 3.7399e-05\n",
      "Epoch 14/20\n",
      "129/129 [==============================] - 5s 37ms/step - loss: 3.9210e-05\n",
      "Epoch 15/20\n",
      "129/129 [==============================] - 5s 39ms/step - loss: 3.6969e-05\n",
      "Epoch 16/20\n",
      "129/129 [==============================] - 5s 37ms/step - loss: 3.6104e-05\n",
      "Epoch 17/20\n",
      "129/129 [==============================] - 5s 37ms/step - loss: 3.8841e-05\n",
      "Epoch 18/20\n",
      "129/129 [==============================] - 5s 38ms/step - loss: 3.1719e-05\n",
      "Epoch 19/20\n",
      "129/129 [==============================] - 5s 39ms/step - loss: 3.3096e-05\n",
      "Epoch 20/20\n",
      "129/129 [==============================] - 5s 38ms/step - loss: 3.5384e-05\n"
     ]
    },
    {
     "name": "stderr",
     "output_type": "stream",
     "text": [
      "2022-08-12 21:57:24.180653: I tensorflow/core/grappler/optimizers/custom_graph_optimizer_registry.cc:113] Plugin optimizer for device_type GPU is enabled.\n",
      "2022-08-12 21:57:24.222441: I tensorflow/core/grappler/optimizers/custom_graph_optimizer_registry.cc:113] Plugin optimizer for device_type GPU is enabled.\n"
     ]
    },
    {
     "name": "stdout",
     "output_type": "stream",
     "text": [
      "129/129 [==============================] - 3s 19ms/step\n",
      "Epoch 1/20\n",
      "129/129 [==============================] - 5s 39ms/step - loss: 3.4321e-05\n",
      "Epoch 2/20\n",
      "129/129 [==============================] - 5s 39ms/step - loss: 2.7702e-05\n",
      "Epoch 3/20\n",
      "129/129 [==============================] - 5s 37ms/step - loss: 2.9648e-05\n",
      "Epoch 4/20\n",
      "129/129 [==============================] - 5s 41ms/step - loss: 2.9675e-05\n",
      "Epoch 5/20\n",
      "129/129 [==============================] - 5s 40ms/step - loss: 2.6397e-05\n",
      "Epoch 6/20\n",
      "129/129 [==============================] - 5s 38ms/step - loss: 3.0007e-05\n",
      "Epoch 7/20\n",
      "129/129 [==============================] - 5s 39ms/step - loss: 2.6944e-05\n",
      "Epoch 8/20\n",
      "129/129 [==============================] - 5s 42ms/step - loss: 2.6205e-05\n",
      "Epoch 9/20\n",
      "129/129 [==============================] - 5s 40ms/step - loss: 2.4671e-05\n",
      "Epoch 10/20\n",
      "129/129 [==============================] - 5s 38ms/step - loss: 2.4684e-05\n",
      "Epoch 11/20\n",
      "129/129 [==============================] - 5s 37ms/step - loss: 2.3103e-05\n",
      "Epoch 12/20\n",
      "129/129 [==============================] - 6s 43ms/step - loss: 2.8807e-05\n",
      "Epoch 13/20\n",
      "129/129 [==============================] - 5s 39ms/step - loss: 2.4163e-05\n",
      "Epoch 14/20\n",
      "129/129 [==============================] - 5s 38ms/step - loss: 2.2935e-05\n",
      "Epoch 15/20\n",
      "129/129 [==============================] - 5s 39ms/step - loss: 2.4148e-05\n",
      "Epoch 16/20\n",
      "129/129 [==============================] - 5s 39ms/step - loss: 2.4773e-05\n",
      "Epoch 17/20\n",
      "129/129 [==============================] - 5s 37ms/step - loss: 2.2584e-05\n",
      "Epoch 18/20\n",
      "129/129 [==============================] - 5s 37ms/step - loss: 1.8591e-05\n",
      "Epoch 19/20\n",
      "129/129 [==============================] - 5s 38ms/step - loss: 1.9520e-05\n",
      "Epoch 20/20\n",
      "129/129 [==============================] - 5s 39ms/step - loss: 1.7975e-05\n",
      "129/129 [==============================] - 2s 17ms/step\n"
     ]
    },
    {
     "data": {
      "text/plain": "AdaBoostRegressor(base_estimator=<keras.wrappers.scikit_learn.KerasRegressor object at 0x1679c4e80>,\n                  n_estimators=5, random_state=42)",
      "text/html": "<style>#sk-container-id-1 {color: black;background-color: white;}#sk-container-id-1 pre{padding: 0;}#sk-container-id-1 div.sk-toggleable {background-color: white;}#sk-container-id-1 label.sk-toggleable__label {cursor: pointer;display: block;width: 100%;margin-bottom: 0;padding: 0.3em;box-sizing: border-box;text-align: center;}#sk-container-id-1 label.sk-toggleable__label-arrow:before {content: \"▸\";float: left;margin-right: 0.25em;color: #696969;}#sk-container-id-1 label.sk-toggleable__label-arrow:hover:before {color: black;}#sk-container-id-1 div.sk-estimator:hover label.sk-toggleable__label-arrow:before {color: black;}#sk-container-id-1 div.sk-toggleable__content {max-height: 0;max-width: 0;overflow: hidden;text-align: left;background-color: #f0f8ff;}#sk-container-id-1 div.sk-toggleable__content pre {margin: 0.2em;color: black;border-radius: 0.25em;background-color: #f0f8ff;}#sk-container-id-1 input.sk-toggleable__control:checked~div.sk-toggleable__content {max-height: 200px;max-width: 100%;overflow: auto;}#sk-container-id-1 input.sk-toggleable__control:checked~label.sk-toggleable__label-arrow:before {content: \"▾\";}#sk-container-id-1 div.sk-estimator input.sk-toggleable__control:checked~label.sk-toggleable__label {background-color: #d4ebff;}#sk-container-id-1 div.sk-label input.sk-toggleable__control:checked~label.sk-toggleable__label {background-color: #d4ebff;}#sk-container-id-1 input.sk-hidden--visually {border: 0;clip: rect(1px 1px 1px 1px);clip: rect(1px, 1px, 1px, 1px);height: 1px;margin: -1px;overflow: hidden;padding: 0;position: absolute;width: 1px;}#sk-container-id-1 div.sk-estimator {font-family: monospace;background-color: #f0f8ff;border: 1px dotted black;border-radius: 0.25em;box-sizing: border-box;margin-bottom: 0.5em;}#sk-container-id-1 div.sk-estimator:hover {background-color: #d4ebff;}#sk-container-id-1 div.sk-parallel-item::after {content: \"\";width: 100%;border-bottom: 1px solid gray;flex-grow: 1;}#sk-container-id-1 div.sk-label:hover label.sk-toggleable__label {background-color: #d4ebff;}#sk-container-id-1 div.sk-serial::before {content: \"\";position: absolute;border-left: 1px solid gray;box-sizing: border-box;top: 0;bottom: 0;left: 50%;z-index: 0;}#sk-container-id-1 div.sk-serial {display: flex;flex-direction: column;align-items: center;background-color: white;padding-right: 0.2em;padding-left: 0.2em;position: relative;}#sk-container-id-1 div.sk-item {position: relative;z-index: 1;}#sk-container-id-1 div.sk-parallel {display: flex;align-items: stretch;justify-content: center;background-color: white;position: relative;}#sk-container-id-1 div.sk-item::before, #sk-container-id-1 div.sk-parallel-item::before {content: \"\";position: absolute;border-left: 1px solid gray;box-sizing: border-box;top: 0;bottom: 0;left: 50%;z-index: -1;}#sk-container-id-1 div.sk-parallel-item {display: flex;flex-direction: column;z-index: 1;position: relative;background-color: white;}#sk-container-id-1 div.sk-parallel-item:first-child::after {align-self: flex-end;width: 50%;}#sk-container-id-1 div.sk-parallel-item:last-child::after {align-self: flex-start;width: 50%;}#sk-container-id-1 div.sk-parallel-item:only-child::after {width: 0;}#sk-container-id-1 div.sk-dashed-wrapped {border: 1px dashed gray;margin: 0 0.4em 0.5em 0.4em;box-sizing: border-box;padding-bottom: 0.4em;background-color: white;}#sk-container-id-1 div.sk-label label {font-family: monospace;font-weight: bold;display: inline-block;line-height: 1.2em;}#sk-container-id-1 div.sk-label-container {text-align: center;}#sk-container-id-1 div.sk-container {/* jupyter's `normalize.less` sets `[hidden] { display: none; }` but bootstrap.min.css set `[hidden] { display: none !important; }` so we also need the `!important` here to be able to override the default hidden behavior on the sphinx rendered scikit-learn.org. See: https://github.com/scikit-learn/scikit-learn/issues/21755 */display: inline-block !important;position: relative;}#sk-container-id-1 div.sk-text-repr-fallback {display: none;}</style><div id=\"sk-container-id-1\" class=\"sk-top-container\"><div class=\"sk-text-repr-fallback\"><pre>AdaBoostRegressor(base_estimator=&lt;keras.wrappers.scikit_learn.KerasRegressor object at 0x1679c4e80&gt;,\n                  n_estimators=5, random_state=42)</pre><b>In a Jupyter environment, please rerun this cell to show the HTML representation or trust the notebook. <br />On GitHub, the HTML representation is unable to render, please try loading this page with nbviewer.org.</b></div><div class=\"sk-container\" hidden><div class=\"sk-item sk-dashed-wrapped\"><div class=\"sk-label-container\"><div class=\"sk-label sk-toggleable\"><input class=\"sk-toggleable__control sk-hidden--visually\" id=\"sk-estimator-id-1\" type=\"checkbox\" ><label for=\"sk-estimator-id-1\" class=\"sk-toggleable__label sk-toggleable__label-arrow\">AdaBoostRegressor</label><div class=\"sk-toggleable__content\"><pre>AdaBoostRegressor(base_estimator=&lt;keras.wrappers.scikit_learn.KerasRegressor object at 0x1679c4e80&gt;,\n                  n_estimators=5, random_state=42)</pre></div></div></div><div class=\"sk-parallel\"><div class=\"sk-parallel-item\"><div class=\"sk-item\"><div class=\"sk-label-container\"><div class=\"sk-label sk-toggleable\"><input class=\"sk-toggleable__control sk-hidden--visually\" id=\"sk-estimator-id-2\" type=\"checkbox\" ><label for=\"sk-estimator-id-2\" class=\"sk-toggleable__label sk-toggleable__label-arrow\">base_estimator: KerasRegressor</label><div class=\"sk-toggleable__content\"><pre>&lt;keras.wrappers.scikit_learn.KerasRegressor object at 0x1679c4e80&gt;</pre></div></div></div><div class=\"sk-serial\"><div class=\"sk-item\"><div class=\"sk-estimator sk-toggleable\"><input class=\"sk-toggleable__control sk-hidden--visually\" id=\"sk-estimator-id-3\" type=\"checkbox\" ><label for=\"sk-estimator-id-3\" class=\"sk-toggleable__label sk-toggleable__label-arrow\">KerasRegressor</label><div class=\"sk-toggleable__content\"><pre>&lt;keras.wrappers.scikit_learn.KerasRegressor object at 0x1679c4e80&gt;</pre></div></div></div></div></div></div></div></div></div></div>"
     },
     "execution_count": 15,
     "metadata": {},
     "output_type": "execute_result"
    }
   ]
  },
  {
   "cell_type": "code",
   "metadata": {
    "id": "-jzrCMOYwpKh",
    "executionInfo": {
     "status": "ok",
     "timestamp": 1622374943409,
     "user_tz": -540,
     "elapsed": 382,
     "user": {
      "displayName": "‍차지수(학부학생/사회과학대학 언론홍보영상학)",
      "photoUrl": "",
      "userId": "01051544767581313229"
     }
    },
    "pycharm": {
     "name": "#%%\n"
    }
   },
   "source": [
    "preds = final_model.predict(X_test)\n",
    "preds = scaler.inverse_transform(preds.reshape(-1,1))\n",
    "preds_series = np.hstack([mydf['open'][:-len(preds)], preds.squeeze(1)])"
   ],
   "execution_count": 16,
   "outputs": [
    {
     "name": "stdout",
     "output_type": "stream",
     "text": [
      "33/33 [==============================] - 1s 40ms/step\n"
     ]
    }
   ]
  },
  {
   "cell_type": "code",
   "metadata": {
    "id": "53UPU833qavt",
    "colab": {
     "base_uri": "https://localhost:8080/",
     "height": 607
    },
    "executionInfo": {
     "status": "ok",
     "timestamp": 1622374943982,
     "user_tz": -540,
     "elapsed": 575,
     "user": {
      "displayName": "‍차지수(학부학생/사회과학대학 언론홍보영상학)",
      "photoUrl": "",
      "userId": "01051544767581313229"
     }
    },
    "outputId": "443fe8e0-88d5-472d-9dc9-50637d84ab56",
    "pycharm": {
     "name": "#%%\n"
    }
   },
   "source": [
    "plt.plot(preds_series, label='prediction')\n",
    "plt.plot(mydf['open'], label='true')\n",
    "plt.axvline(x=len(mydf['open'])-len(preds), color='r')\n",
    "plt.legend()\n",
    "plt.title('Adaboost-GRU FIT')\n",
    "plt.show()"
   ],
   "execution_count": 17,
   "outputs": [
    {
     "data": {
      "text/plain": "<Figure size 432x288 with 1 Axes>",
      "image/png": "[encoded data removed]"
     },
     "metadata": {
      "needs_background": "light"
     },
     "output_type": "display_data"
    }
   ]
  },
  {
   "cell_type": "code",
   "metadata": {
    "id": "KXu12zit4A_7",
    "executionInfo": {
     "status": "ok",
     "timestamp": 1622374943983,
     "user_tz": -540,
     "elapsed": 12,
     "user": {
      "displayName": "‍차지수(학부학생/사회과학대학 언론홍보영상학)",
      "photoUrl": "",
      "userId": "01051544767581313229"
     }
    },
    "pycharm": {
     "name": "#%%\n"
    }
   },
   "source": [
    "y_true = mydf['open'][-len(preds):]\n",
    "y_pred = preds.squeeze(1)"
   ],
   "execution_count": 18,
   "outputs": []
  },
  {
   "cell_type": "code",
   "metadata": {
    "id": "VdOs3kYLnPuH",
    "colab": {
     "base_uri": "https://localhost:8080/"
    },
    "executionInfo": {
     "status": "ok",
     "timestamp": 1622374943983,
     "user_tz": -540,
     "elapsed": 11,
     "user": {
      "displayName": "‍차지수(학부학생/사회과학대학 언론홍보영상학)",
      "photoUrl": "",
      "userId": "01051544767581313229"
     }
    },
    "outputId": "61ab01b1-4c30-4cf7-b868-db8942066b7d",
    "pycharm": {
     "name": "#%%\n"
    }
   },
   "source": [
    "print(MAE(y_true, y_pred))\n",
    "print(MSE(y_true, y_pred))\n",
    "print(RMSE(y_true, y_pred))"
   ],
   "execution_count": 19,
   "outputs": [
    {
     "name": "stdout",
     "output_type": "stream",
     "text": [
      "4.08e+04\n",
      "2.73e+09\n",
      "5.23e+04\n"
     ]
    }
   ]
  },
  {
   "cell_type": "markdown",
   "metadata": {
    "id": "ChLTsGkev1iY",
    "pycharm": {
     "name": "#%% md\n"
    }
   },
   "source": [
    "# LSTM-adaboost FIT"
   ]
  },
  {
   "cell_type": "code",
   "metadata": {
    "id": "V1DIz3MLv06Y",
    "executionInfo": {
     "status": "ok",
     "timestamp": 1622374944689,
     "user_tz": -540,
     "elapsed": 711,
     "user": {
      "displayName": "‍차지수(학부학생/사회과학대학 언론홍보영상학)",
      "photoUrl": "",
      "userId": "01051544767581313229"
     }
    },
    "pycharm": {
     "name": "#%%\n"
    }
   },
   "source": [
    "model = Sequential()\n",
    "model.add(InputLayer(input_shape=(X_train.shape[1],1)))\n",
    "model.add(LSTM(units=128))\n",
    "model.add(Dropout(0.5))\n",
    "model.add(Dense(units=1))"
   ],
   "execution_count": 20,
   "outputs": []
  },
  {
   "cell_type": "code",
   "metadata": {
    "id": "tvnU6m43v7K8",
    "executionInfo": {
     "status": "ok",
     "timestamp": 1622374944690,
     "user_tz": -540,
     "elapsed": 6,
     "user": {
      "displayName": "‍차지수(학부학생/사회과학대학 언론홍보영상학)",
      "photoUrl": "",
      "userId": "01051544767581313229"
     }
    },
    "pycharm": {
     "name": "#%%\n"
    }
   },
   "source": [
    "model.compile(loss='mean_squared_error', optimizer='adam')"
   ],
   "execution_count": 21,
   "outputs": []
  },
  {
   "cell_type": "code",
   "metadata": {
    "id": "klgbFooOv-pf",
    "executionInfo": {
     "status": "ok",
     "timestamp": 1622374944690,
     "user_tz": -540,
     "elapsed": 5,
     "user": {
      "displayName": "‍차지수(학부학생/사회과학대학 언론홍보영상학)",
      "photoUrl": "",
      "userId": "01051544767581313229"
     }
    },
    "pycharm": {
     "name": "#%%\n"
    }
   },
   "source": [
    "LSTM_Predictors = KerasRegressor(build_fn=lambda:model, epochs=20, batch_size=30)\n",
    "final_model = AdaBoostRegressor(LSTM_Predictors, n_estimators=5, random_state=42)"
   ],
   "execution_count": 22,
   "outputs": [
    {
     "name": "stderr",
     "output_type": "stream",
     "text": [
      "/var/folders/m9/0vsmjxhd7q30k5mzw0bk58hh0000gn/T/ipykernel_76400/1043731966.py:1: DeprecationWarning: KerasRegressor is deprecated, use Sci-Keras (https://github.com/adriangb/scikeras) instead. See https://www.adriangb.com/scikeras/stable/migration.html for help migrating.\n",
      "  LSTM_Predictors = KerasRegressor(build_fn=lambda:model, epochs=20, batch_size=30)\n"
     ]
    }
   ]
  },
  {
   "cell_type": "code",
   "metadata": {
    "colab": {
     "base_uri": "https://localhost:8080/"
    },
    "id": "vBdhcghNwAbO",
    "executionInfo": {
     "status": "ok",
     "timestamp": 1622375061986,
     "user_tz": -540,
     "elapsed": 117300,
     "user": {
      "displayName": "‍차지수(학부학생/사회과학대학 언론홍보영상학)",
      "photoUrl": "",
      "userId": "01051544767581313229"
     }
    },
    "outputId": "52467ba6-c301-4537-ce9d-44e94f229118",
    "pycharm": {
     "name": "#%%\n"
    }
   },
   "source": [
    "final_model.fit(X_train,y_train)"
   ],
   "execution_count": 23,
   "outputs": [
    {
     "name": "stdout",
     "output_type": "stream",
     "text": [
      "Epoch 1/20\n"
     ]
    },
    {
     "name": "stderr",
     "output_type": "stream",
     "text": [
      "/Users/wooseongkyun/miniforge3/lib/python3.9/site-packages/sklearn/utils/validation.py:1111: DataConversionWarning: A column-vector y was passed when a 1d array was expected. Please change the shape of y to (n_samples, ), for example using ravel().\n",
      "  y = column_or_1d(y, warn=True)\n",
      "2022-08-12 21:59:12.016784: I tensorflow/core/grappler/optimizers/custom_graph_optimizer_registry.cc:113] Plugin optimizer for device_type GPU is enabled.\n",
      "2022-08-12 21:59:12.329139: I tensorflow/core/grappler/optimizers/custom_graph_optimizer_registry.cc:113] Plugin optimizer for device_type GPU is enabled.\n",
      "2022-08-12 21:59:13.588618: I tensorflow/core/grappler/optimizers/custom_graph_optimizer_registry.cc:113] Plugin optimizer for device_type GPU is enabled.\n"
     ]
    },
    {
     "name": "stdout",
     "output_type": "stream",
     "text": [
      "129/129 [==============================] - 8s 38ms/step - loss: 0.0168\n",
      "Epoch 2/20\n",
      "129/129 [==============================] - 5s 36ms/step - loss: 1.9338e-04\n",
      "Epoch 3/20\n",
      "129/129 [==============================] - 4s 32ms/step - loss: 1.5532e-04\n",
      "Epoch 4/20\n",
      "129/129 [==============================] - 4s 34ms/step - loss: 1.4816e-04\n",
      "Epoch 5/20\n",
      "129/129 [==============================] - 4s 34ms/step - loss: 1.3987e-04\n",
      "Epoch 6/20\n",
      "129/129 [==============================] - 4s 32ms/step - loss: 1.3889e-04\n",
      "Epoch 7/20\n",
      "129/129 [==============================] - 4s 32ms/step - loss: 1.3513e-04\n",
      "Epoch 8/20\n",
      "129/129 [==============================] - 4s 32ms/step - loss: 1.1784e-04\n",
      "Epoch 9/20\n",
      "129/129 [==============================] - 4s 32ms/step - loss: 1.3040e-04\n",
      "Epoch 10/20\n",
      "129/129 [==============================] - 4s 33ms/step - loss: 1.2399e-04\n",
      "Epoch 11/20\n",
      "129/129 [==============================] - 4s 32ms/step - loss: 1.0811e-04\n",
      "Epoch 12/20\n",
      "129/129 [==============================] - 4s 32ms/step - loss: 1.0402e-04\n",
      "Epoch 13/20\n",
      "129/129 [==============================] - 4s 32ms/step - loss: 9.7610e-05\n",
      "Epoch 14/20\n",
      "129/129 [==============================] - 4s 33ms/step - loss: 9.9305e-05\n",
      "Epoch 15/20\n",
      "129/129 [==============================] - 4s 33ms/step - loss: 8.7721e-05\n",
      "Epoch 16/20\n",
      "129/129 [==============================] - 4s 33ms/step - loss: 8.6030e-05\n",
      "Epoch 17/20\n",
      "129/129 [==============================] - 4s 32ms/step - loss: 7.8417e-05\n",
      "Epoch 18/20\n",
      "129/129 [==============================] - 4s 32ms/step - loss: 7.5425e-05\n",
      "Epoch 19/20\n",
      "129/129 [==============================] - 4s 32ms/step - loss: 7.0411e-05\n",
      "Epoch 20/20\n",
      "129/129 [==============================] - 4s 33ms/step - loss: 8.0796e-05\n"
     ]
    },
    {
     "name": "stderr",
     "output_type": "stream",
     "text": [
      "2022-08-12 22:00:40.087930: I tensorflow/core/grappler/optimizers/custom_graph_optimizer_registry.cc:113] Plugin optimizer for device_type GPU is enabled.\n",
      "2022-08-12 22:00:40.133866: I tensorflow/core/grappler/optimizers/custom_graph_optimizer_registry.cc:113] Plugin optimizer for device_type GPU is enabled.\n"
     ]
    },
    {
     "name": "stdout",
     "output_type": "stream",
     "text": [
      "129/129 [==============================] - 3s 20ms/step\n",
      "Epoch 1/20\n",
      "129/129 [==============================] - 4s 34ms/step - loss: 6.9918e-05\n",
      "Epoch 2/20\n",
      "129/129 [==============================] - 4s 33ms/step - loss: 6.3604e-05\n",
      "Epoch 3/20\n",
      "129/129 [==============================] - 4s 34ms/step - loss: 6.1253e-05\n",
      "Epoch 4/20\n",
      "129/129 [==============================] - 4s 35ms/step - loss: 6.1018e-05\n",
      "Epoch 5/20\n",
      "129/129 [==============================] - 4s 33ms/step - loss: 6.0795e-05\n",
      "Epoch 6/20\n",
      "129/129 [==============================] - 4s 32ms/step - loss: 5.2257e-05\n",
      "Epoch 7/20\n",
      "129/129 [==============================] - 4s 33ms/step - loss: 6.2115e-05\n",
      "Epoch 8/20\n",
      "129/129 [==============================] - 4s 33ms/step - loss: 5.8149e-05\n",
      "Epoch 9/20\n",
      "129/129 [==============================] - 4s 32ms/step - loss: 4.5623e-05\n",
      "Epoch 10/20\n",
      "129/129 [==============================] - 4s 33ms/step - loss: 4.5957e-05\n",
      "Epoch 11/20\n",
      "129/129 [==============================] - 4s 34ms/step - loss: 4.7036e-05\n",
      "Epoch 12/20\n",
      "129/129 [==============================] - 5s 35ms/step - loss: 4.2622e-05\n",
      "Epoch 13/20\n",
      "129/129 [==============================] - 5s 36ms/step - loss: 4.5600e-05\n",
      "Epoch 14/20\n",
      "129/129 [==============================] - 5s 39ms/step - loss: 4.1079e-05\n",
      "Epoch 15/20\n",
      "129/129 [==============================] - 4s 35ms/step - loss: 4.3011e-05\n",
      "Epoch 16/20\n",
      "129/129 [==============================] - 4s 34ms/step - loss: 4.4443e-05\n",
      "Epoch 17/20\n",
      "129/129 [==============================] - 5s 36ms/step - loss: 3.6807e-05\n",
      "Epoch 18/20\n",
      "129/129 [==============================] - 5s 37ms/step - loss: 3.1543e-05\n",
      "Epoch 19/20\n",
      "129/129 [==============================] - 4s 33ms/step - loss: 2.9652e-05\n",
      "Epoch 20/20\n",
      "129/129 [==============================] - 4s 34ms/step - loss: 3.0029e-05\n",
      "129/129 [==============================] - 2s 19ms/step\n"
     ]
    },
    {
     "data": {
      "text/plain": "AdaBoostRegressor(base_estimator=<keras.wrappers.scikit_learn.KerasRegressor object at 0x139cd7850>,\n                  n_estimators=5, random_state=42)",
      "text/html": "<style>#sk-container-id-2 {color: black;background-color: white;}#sk-container-id-2 pre{padding: 0;}#sk-container-id-2 div.sk-toggleable {background-color: white;}#sk-container-id-2 label.sk-toggleable__label {cursor: pointer;display: block;width: 100%;margin-bottom: 0;padding: 0.3em;box-sizing: border-box;text-align: center;}#sk-container-id-2 label.sk-toggleable__label-arrow:before {content: \"▸\";float: left;margin-right: 0.25em;color: #696969;}#sk-container-id-2 label.sk-toggleable__label-arrow:hover:before {color: black;}#sk-container-id-2 div.sk-estimator:hover label.sk-toggleable__label-arrow:before {color: black;}#sk-container-id-2 div.sk-toggleable__content {max-height: 0;max-width: 0;overflow: hidden;text-align: left;background-color: #f0f8ff;}#sk-container-id-2 div.sk-toggleable__content pre {margin: 0.2em;color: black;border-radius: 0.25em;background-color: #f0f8ff;}#sk-container-id-2 input.sk-toggleable__control:checked~div.sk-toggleable__content {max-height: 200px;max-width: 100%;overflow: auto;}#sk-container-id-2 input.sk-toggleable__control:checked~label.sk-toggleable__label-arrow:before {content: \"▾\";}#sk-container-id-2 div.sk-estimator input.sk-toggleable__control:checked~label.sk-toggleable__label {background-color: #d4ebff;}#sk-container-id-2 div.sk-label input.sk-toggleable__control:checked~label.sk-toggleable__label {background-color: #d4ebff;}#sk-container-id-2 input.sk-hidden--visually {border: 0;clip: rect(1px 1px 1px 1px);clip: rect(1px, 1px, 1px, 1px);height: 1px;margin: -1px;overflow: hidden;padding: 0;position: absolute;width: 1px;}#sk-container-id-2 div.sk-estimator {font-family: monospace;background-color: #f0f8ff;border: 1px dotted black;border-radius: 0.25em;box-sizing: border-box;margin-bottom: 0.5em;}#sk-container-id-2 div.sk-estimator:hover {background-color: #d4ebff;}#sk-container-id-2 div.sk-parallel-item::after {content: \"\";width: 100%;border-bottom: 1px solid gray;flex-grow: 1;}#sk-container-id-2 div.sk-label:hover label.sk-toggleable__label {background-color: #d4ebff;}#sk-container-id-2 div.sk-serial::before {content: \"\";position: absolute;border-left: 1px solid gray;box-sizing: border-box;top: 0;bottom: 0;left: 50%;z-index: 0;}#sk-container-id-2 div.sk-serial {display: flex;flex-direction: column;align-items: center;background-color: white;padding-right: 0.2em;padding-left: 0.2em;position: relative;}#sk-container-id-2 div.sk-item {position: relative;z-index: 1;}#sk-container-id-2 div.sk-parallel {display: flex;align-items: stretch;justify-content: center;background-color: white;position: relative;}#sk-container-id-2 div.sk-item::before, #sk-container-id-2 div.sk-parallel-item::before {content: \"\";position: absolute;border-left: 1px solid gray;box-sizing: border-box;top: 0;bottom: 0;left: 50%;z-index: -1;}#sk-container-id-2 div.sk-parallel-item {display: flex;flex-direction: column;z-index: 1;position: relative;background-color: white;}#sk-container-id-2 div.sk-parallel-item:first-child::after {align-self: flex-end;width: 50%;}#sk-container-id-2 div.sk-parallel-item:last-child::after {align-self: flex-start;width: 50%;}#sk-container-id-2 div.sk-parallel-item:only-child::after {width: 0;}#sk-container-id-2 div.sk-dashed-wrapped {border: 1px dashed gray;margin: 0 0.4em 0.5em 0.4em;box-sizing: border-box;padding-bottom: 0.4em;background-color: white;}#sk-container-id-2 div.sk-label label {font-family: monospace;font-weight: bold;display: inline-block;line-height: 1.2em;}#sk-container-id-2 div.sk-label-container {text-align: center;}#sk-container-id-2 div.sk-container {/* jupyter's `normalize.less` sets `[hidden] { display: none; }` but bootstrap.min.css set `[hidden] { display: none !important; }` so we also need the `!important` here to be able to override the default hidden behavior on the sphinx rendered scikit-learn.org. See: https://github.com/scikit-learn/scikit-learn/issues/21755 */display: inline-block !important;position: relative;}#sk-container-id-2 div.sk-text-repr-fallback {display: none;}</style><div id=\"sk-container-id-2\" class=\"sk-top-container\"><div class=\"sk-text-repr-fallback\"><pre>AdaBoostRegressor(base_estimator=&lt;keras.wrappers.scikit_learn.KerasRegressor object at 0x139cd7850&gt;,\n                  n_estimators=5, random_state=42)</pre><b>In a Jupyter environment, please rerun this cell to show the HTML representation or trust the notebook. <br />On GitHub, the HTML representation is unable to render, please try loading this page with nbviewer.org.</b></div><div class=\"sk-container\" hidden><div class=\"sk-item sk-dashed-wrapped\"><div class=\"sk-label-container\"><div class=\"sk-label sk-toggleable\"><input class=\"sk-toggleable__control sk-hidden--visually\" id=\"sk-estimator-id-4\" type=\"checkbox\" ><label for=\"sk-estimator-id-4\" class=\"sk-toggleable__label sk-toggleable__label-arrow\">AdaBoostRegressor</label><div class=\"sk-toggleable__content\"><pre>AdaBoostRegressor(base_estimator=&lt;keras.wrappers.scikit_learn.KerasRegressor object at 0x139cd7850&gt;,\n                  n_estimators=5, random_state=42)</pre></div></div></div><div class=\"sk-parallel\"><div class=\"sk-parallel-item\"><div class=\"sk-item\"><div class=\"sk-label-container\"><div class=\"sk-label sk-toggleable\"><input class=\"sk-toggleable__control sk-hidden--visually\" id=\"sk-estimator-id-5\" type=\"checkbox\" ><label for=\"sk-estimator-id-5\" class=\"sk-toggleable__label sk-toggleable__label-arrow\">base_estimator: KerasRegressor</label><div class=\"sk-toggleable__content\"><pre>&lt;keras.wrappers.scikit_learn.KerasRegressor object at 0x139cd7850&gt;</pre></div></div></div><div class=\"sk-serial\"><div class=\"sk-item\"><div class=\"sk-estimator sk-toggleable\"><input class=\"sk-toggleable__control sk-hidden--visually\" id=\"sk-estimator-id-6\" type=\"checkbox\" ><label for=\"sk-estimator-id-6\" class=\"sk-toggleable__label sk-toggleable__label-arrow\">KerasRegressor</label><div class=\"sk-toggleable__content\"><pre>&lt;keras.wrappers.scikit_learn.KerasRegressor object at 0x139cd7850&gt;</pre></div></div></div></div></div></div></div></div></div></div>"
     },
     "execution_count": 23,
     "metadata": {},
     "output_type": "execute_result"
    }
   ]
  },
  {
   "cell_type": "code",
   "metadata": {
    "id": "pFAqE7ZUwE69",
    "executionInfo": {
     "status": "ok",
     "timestamp": 1622375063214,
     "user_tz": -540,
     "elapsed": 1237,
     "user": {
      "displayName": "‍차지수(학부학생/사회과학대학 언론홍보영상학)",
      "photoUrl": "",
      "userId": "01051544767581313229"
     }
    },
    "pycharm": {
     "name": "#%%\n"
    }
   },
   "source": [
    "preds = final_model.predict(X_test)\n",
    "preds = scaler.inverse_transform(preds.reshape(-1,1))\n",
    "preds_series = np.hstack([mydf['open'][:-len(preds)], preds.squeeze(1)])"
   ],
   "execution_count": 24,
   "outputs": [
    {
     "name": "stdout",
     "output_type": "stream",
     "text": [
      "33/33 [==============================] - 1s 27ms/step\n"
     ]
    }
   ]
  },
  {
   "cell_type": "code",
   "metadata": {
    "colab": {
     "base_uri": "https://localhost:8080/",
     "height": 607
    },
    "id": "E6oJ3Imx_R74",
    "executionInfo": {
     "status": "ok",
     "timestamp": 1622375063215,
     "user_tz": -540,
     "elapsed": 13,
     "user": {
      "displayName": "‍차지수(학부학생/사회과학대학 언론홍보영상학)",
      "photoUrl": "",
      "userId": "01051544767581313229"
     }
    },
    "outputId": "6b3c2e37-e358-432b-d263-03731ab675c0",
    "pycharm": {
     "name": "#%%\n"
    }
   },
   "source": [
    "plt.plot(preds_series, label='prediction')\n",
    "plt.plot(mydf['open'], label='true')\n",
    "plt.axvline(x=len(mydf['open'])-len(preds), color='r')\n",
    "plt.legend()\n",
    "plt.title('Adaboost-LSTM FIT')\n",
    "plt.show()"
   ],
   "execution_count": 25,
   "outputs": [
    {
     "data": {
      "text/plain": "<Figure size 432x288 with 1 Axes>",
      "image/png": "[encoded data removed]"
     },
     "metadata": {
      "needs_background": "light"
     },
     "output_type": "display_data"
    }
   ]
  },
  {
   "cell_type": "code",
   "metadata": {
    "id": "4z0k-cOv_UQr",
    "executionInfo": {
     "status": "ok",
     "timestamp": 1622375063215,
     "user_tz": -540,
     "elapsed": 9,
     "user": {
      "displayName": "‍차지수(학부학생/사회과학대학 언론홍보영상학)",
      "photoUrl": "",
      "userId": "01051544767581313229"
     }
    },
    "pycharm": {
     "name": "#%%\n"
    }
   },
   "source": [
    "y_true = mydf['open'][-len(preds):]\n",
    "y_pred = preds.squeeze(1)"
   ],
   "execution_count": 26,
   "outputs": []
  },
  {
   "cell_type": "code",
   "metadata": {
    "colab": {
     "base_uri": "https://localhost:8080/"
    },
    "id": "jLHVuUbN4u6R",
    "executionInfo": {
     "status": "ok",
     "timestamp": 1622375063571,
     "user_tz": -540,
     "elapsed": 364,
     "user": {
      "displayName": "‍차지수(학부학생/사회과학대학 언론홍보영상학)",
      "photoUrl": "",
      "userId": "01051544767581313229"
     }
    },
    "outputId": "f771855a-c08e-4e15-dfe1-a3e65a83e48a",
    "pycharm": {
     "name": "#%%\n"
    }
   },
   "source": [
    "print(MAE(y_true, y_pred))\n",
    "print(MSE(y_true, y_pred))\n",
    "print(RMSE(y_true, y_pred))"
   ],
   "execution_count": 27,
   "outputs": [
    {
     "name": "stdout",
     "output_type": "stream",
     "text": [
      "4.44e+04\n",
      "3.21e+09\n",
      "5.66e+04\n"
     ]
    }
   ]
  },
  {
   "cell_type": "markdown",
   "metadata": {
    "id": "PEjpMr53R-D5",
    "pycharm": {
     "name": "#%% md\n"
    }
   },
   "source": [
    "# GRU Fit"
   ]
  },
  {
   "cell_type": "code",
   "metadata": {
    "id": "A8URo_aiR492",
    "executionInfo": {
     "status": "ok",
     "timestamp": 1622375063571,
     "user_tz": -540,
     "elapsed": 5,
     "user": {
      "displayName": "‍차지수(학부학생/사회과학대학 언론홍보영상학)",
      "photoUrl": "",
      "userId": "01051544767581313229"
     }
    },
    "pycharm": {
     "name": "#%%\n"
    }
   },
   "source": [
    "model = Sequential()\n",
    "model.add(InputLayer(input_shape=(X_train.shape[1],1)))\n",
    "model.add(GRU(units=128))\n",
    "model.add(Dropout(0.5))\n",
    "model.add(Dense(units=1))"
   ],
   "execution_count": 28,
   "outputs": []
  },
  {
   "cell_type": "code",
   "metadata": {
    "id": "1jlXOdS7SOmJ",
    "executionInfo": {
     "status": "ok",
     "timestamp": 1622375063572,
     "user_tz": -540,
     "elapsed": 5,
     "user": {
      "displayName": "‍차지수(학부학생/사회과학대학 언론홍보영상학)",
      "photoUrl": "",
      "userId": "01051544767581313229"
     }
    },
    "pycharm": {
     "name": "#%%\n"
    }
   },
   "source": [
    "model.compile(loss='mean_squared_error', optimizer='adam')"
   ],
   "execution_count": 29,
   "outputs": []
  },
  {
   "cell_type": "code",
   "metadata": {
    "colab": {
     "base_uri": "https://localhost:8080/"
    },
    "id": "SGye99MeSOym",
    "executionInfo": {
     "status": "ok",
     "timestamp": 1622375082696,
     "user_tz": -540,
     "elapsed": 19128,
     "user": {
      "displayName": "‍차지수(학부학생/사회과학대학 언론홍보영상학)",
      "photoUrl": "",
      "userId": "01051544767581313229"
     }
    },
    "outputId": "c27479c8-7c45-4a46-fa9a-be0d2e867dc4",
    "pycharm": {
     "name": "#%%\n"
    }
   },
   "source": [
    "model.fit(X_train,y_train,batch_size=30,epochs=20,validation_split=0.2)"
   ],
   "execution_count": 30,
   "outputs": [
    {
     "name": "stdout",
     "output_type": "stream",
     "text": [
      "Epoch 1/20\n"
     ]
    },
    {
     "name": "stderr",
     "output_type": "stream",
     "text": [
      "2022-08-12 22:02:15.321830: I tensorflow/core/grappler/optimizers/custom_graph_optimizer_registry.cc:113] Plugin optimizer for device_type GPU is enabled.\n",
      "2022-08-12 22:02:15.489312: I tensorflow/core/grappler/optimizers/custom_graph_optimizer_registry.cc:113] Plugin optimizer for device_type GPU is enabled.\n",
      "2022-08-12 22:02:15.863029: I tensorflow/core/grappler/optimizers/custom_graph_optimizer_registry.cc:113] Plugin optimizer for device_type GPU is enabled.\n"
     ]
    },
    {
     "name": "stdout",
     "output_type": "stream",
     "text": [
      "104/104 [==============================] - ETA: 0s - loss: 0.0330"
     ]
    },
    {
     "name": "stderr",
     "output_type": "stream",
     "text": [
      "2022-08-12 22:02:22.356789: I tensorflow/core/grappler/optimizers/custom_graph_optimizer_registry.cc:113] Plugin optimizer for device_type GPU is enabled.\n",
      "2022-08-12 22:02:22.405434: I tensorflow/core/grappler/optimizers/custom_graph_optimizer_registry.cc:113] Plugin optimizer for device_type GPU is enabled.\n"
     ]
    },
    {
     "name": "stdout",
     "output_type": "stream",
     "text": [
      "104/104 [==============================] - 9s 70ms/step - loss: 0.0330 - val_loss: 0.0126\n",
      "Epoch 2/20\n",
      "104/104 [==============================] - 5s 44ms/step - loss: 6.7870e-04 - val_loss: 0.0016\n",
      "Epoch 3/20\n",
      "104/104 [==============================] - 5s 46ms/step - loss: 1.3404e-04 - val_loss: 3.3566e-04\n",
      "Epoch 4/20\n",
      "104/104 [==============================] - 5s 47ms/step - loss: 1.3305e-04 - val_loss: 2.2993e-04\n",
      "Epoch 5/20\n",
      "104/104 [==============================] - 5s 47ms/step - loss: 1.0777e-04 - val_loss: 2.2449e-04\n",
      "Epoch 6/20\n",
      "104/104 [==============================] - 5s 47ms/step - loss: 9.6881e-05 - val_loss: 1.9296e-04\n",
      "Epoch 7/20\n",
      "104/104 [==============================] - 5s 45ms/step - loss: 9.0447e-05 - val_loss: 1.5312e-04\n",
      "Epoch 8/20\n",
      "104/104 [==============================] - 5s 45ms/step - loss: 8.2792e-05 - val_loss: 1.5591e-04\n",
      "Epoch 9/20\n",
      "104/104 [==============================] - 5s 44ms/step - loss: 8.1867e-05 - val_loss: 1.6585e-04\n",
      "Epoch 10/20\n",
      "104/104 [==============================] - 5s 46ms/step - loss: 7.3747e-05 - val_loss: 1.3706e-04\n",
      "Epoch 11/20\n",
      "104/104 [==============================] - 5s 46ms/step - loss: 6.7311e-05 - val_loss: 1.0417e-04\n",
      "Epoch 12/20\n",
      "104/104 [==============================] - 5s 46ms/step - loss: 6.7218e-05 - val_loss: 8.7224e-05\n",
      "Epoch 13/20\n",
      "104/104 [==============================] - 5s 47ms/step - loss: 6.6944e-05 - val_loss: 7.5843e-05\n",
      "Epoch 14/20\n",
      "104/104 [==============================] - 5s 45ms/step - loss: 5.9864e-05 - val_loss: 6.6607e-05\n",
      "Epoch 15/20\n",
      "104/104 [==============================] - 5s 48ms/step - loss: 5.4101e-05 - val_loss: 6.3110e-05\n",
      "Epoch 16/20\n",
      "104/104 [==============================] - 5s 50ms/step - loss: 5.3819e-05 - val_loss: 4.9265e-05\n",
      "Epoch 17/20\n",
      "104/104 [==============================] - 5s 47ms/step - loss: 5.4829e-05 - val_loss: 4.3105e-05\n",
      "Epoch 18/20\n",
      "104/104 [==============================] - 5s 47ms/step - loss: 5.5968e-05 - val_loss: 3.6606e-05\n",
      "Epoch 19/20\n",
      "104/104 [==============================] - 5s 52ms/step - loss: 4.9395e-05 - val_loss: 3.2555e-05\n",
      "Epoch 20/20\n",
      "104/104 [==============================] - 5s 47ms/step - loss: 4.6693e-05 - val_loss: 3.1677e-05\n"
     ]
    },
    {
     "data": {
      "text/plain": "<keras.callbacks.History at 0x17692a520>"
     },
     "execution_count": 30,
     "metadata": {},
     "output_type": "execute_result"
    }
   ]
  },
  {
   "cell_type": "code",
   "metadata": {
    "id": "eoFIAvnkSQ5-",
    "executionInfo": {
     "status": "ok",
     "timestamp": 1622375083329,
     "user_tz": -540,
     "elapsed": 644,
     "user": {
      "displayName": "‍차지수(학부학생/사회과학대학 언론홍보영상학)",
      "photoUrl": "",
      "userId": "01051544767581313229"
     }
    },
    "pycharm": {
     "name": "#%%\n"
    }
   },
   "source": [
    "preds = model.predict(X_test)\n",
    "preds = scaler.inverse_transform(preds.reshape(-1,1))\n",
    "preds_series = np.hstack([mydf['open'][:-len(preds)], preds.squeeze(1)])"
   ],
   "execution_count": 31,
   "outputs": [
    {
     "name": "stderr",
     "output_type": "stream",
     "text": [
      "2022-08-12 22:03:56.124602: I tensorflow/core/grappler/optimizers/custom_graph_optimizer_registry.cc:113] Plugin optimizer for device_type GPU is enabled.\n",
      "2022-08-12 22:03:56.160927: I tensorflow/core/grappler/optimizers/custom_graph_optimizer_registry.cc:113] Plugin optimizer for device_type GPU is enabled.\n"
     ]
    },
    {
     "name": "stdout",
     "output_type": "stream",
     "text": [
      "31/31 [==============================] - 2s 28ms/step\n"
     ]
    }
   ]
  },
  {
   "cell_type": "code",
   "metadata": {
    "colab": {
     "base_uri": "https://localhost:8080/",
     "height": 607
    },
    "id": "Mt0b9XDjS569",
    "executionInfo": {
     "status": "ok",
     "timestamp": 1622375083870,
     "user_tz": -540,
     "elapsed": 544,
     "user": {
      "displayName": "‍차지수(학부학생/사회과학대학 언론홍보영상학)",
      "photoUrl": "",
      "userId": "01051544767581313229"
     }
    },
    "outputId": "2a80cdfd-d63e-47d0-ffbe-ab92b314ff85",
    "pycharm": {
     "name": "#%%\n"
    }
   },
   "source": [
    "plt.plot(preds_series, label='prediction')\n",
    "plt.plot(mydf['open'], label='true')\n",
    "plt.axvline(x=len(mydf['open'])-len(preds), color='r')\n",
    "plt.legend()\n",
    "plt.title('GRU FIT')\n",
    "plt.show()"
   ],
   "execution_count": 32,
   "outputs": [
    {
     "data": {
      "text/plain": "<Figure size 432x288 with 1 Axes>",
      "image/png": "[encoded data removed]"
     },
     "metadata": {
      "needs_background": "light"
     },
     "output_type": "display_data"
    }
   ]
  },
  {
   "cell_type": "code",
   "metadata": {
    "id": "vJXUW20sS76C",
    "executionInfo": {
     "status": "ok",
     "timestamp": 1622375083871,
     "user_tz": -540,
     "elapsed": 9,
     "user": {
      "displayName": "‍차지수(학부학생/사회과학대학 언론홍보영상학)",
      "photoUrl": "",
      "userId": "01051544767581313229"
     }
    },
    "pycharm": {
     "name": "#%%\n"
    }
   },
   "source": [
    "y_true = mydf['open'][-len(preds):]\n",
    "y_pred = preds.squeeze(1)"
   ],
   "execution_count": 33,
   "outputs": []
  },
  {
   "cell_type": "code",
   "metadata": {
    "colab": {
     "base_uri": "https://localhost:8080/"
    },
    "id": "ODmO7Uy259Ch",
    "executionInfo": {
     "status": "ok",
     "timestamp": 1622375083871,
     "user_tz": -540,
     "elapsed": 8,
     "user": {
      "displayName": "‍차지수(학부학생/사회과학대학 언론홍보영상학)",
      "photoUrl": "",
      "userId": "01051544767581313229"
     }
    },
    "outputId": "53e68ca6-a1b6-4338-f6dc-f1f811e8fc0c",
    "pycharm": {
     "name": "#%%\n"
    }
   },
   "source": [
    "print(MAE(y_true, y_pred))\n",
    "print(MSE(y_true, y_pred))\n",
    "print(RMSE(y_true, y_pred))"
   ],
   "execution_count": 34,
   "outputs": [
    {
     "name": "stdout",
     "output_type": "stream",
     "text": [
      "3.31e+04\n",
      "2.06e+09\n",
      "4.54e+04\n"
     ]
    }
   ]
  },
  {
   "cell_type": "markdown",
   "metadata": {
    "id": "8CDPs_g1TJAj",
    "pycharm": {
     "name": "#%% md\n"
    }
   },
   "source": [
    "# LSTM FIT"
   ]
  },
  {
   "cell_type": "code",
   "metadata": {
    "id": "_c8koubDTKm9",
    "executionInfo": {
     "status": "ok",
     "timestamp": 1622375084488,
     "user_tz": -540,
     "elapsed": 622,
     "user": {
      "displayName": "‍차지수(학부학생/사회과학대학 언론홍보영상학)",
      "photoUrl": "",
      "userId": "01051544767581313229"
     }
    },
    "pycharm": {
     "name": "#%%\n"
    }
   },
   "source": [
    "model = Sequential()\n",
    "model.add(InputLayer(input_shape=(X_train.shape[1],1)))\n",
    "model.add(LSTM(units=128))\n",
    "model.add(Dropout(0.5))\n",
    "model.add(Dense(units=1))"
   ],
   "execution_count": 35,
   "outputs": []
  },
  {
   "cell_type": "code",
   "metadata": {
    "id": "_WzpeH4TTM2v",
    "executionInfo": {
     "status": "ok",
     "timestamp": 1622375084489,
     "user_tz": -540,
     "elapsed": 4,
     "user": {
      "displayName": "‍차지수(학부학생/사회과학대학 언론홍보영상학)",
      "photoUrl": "",
      "userId": "01051544767581313229"
     }
    },
    "pycharm": {
     "name": "#%%\n"
    }
   },
   "source": [
    "model.compile(loss='mean_squared_error', optimizer='adam')"
   ],
   "execution_count": 36,
   "outputs": []
  },
  {
   "cell_type": "code",
   "metadata": {
    "colab": {
     "base_uri": "https://localhost:8080/"
    },
    "id": "IprzuxYYTN9w",
    "executionInfo": {
     "status": "ok",
     "timestamp": 1622375106989,
     "user_tz": -540,
     "elapsed": 22503,
     "user": {
      "displayName": "‍차지수(학부학생/사회과학대학 언론홍보영상학)",
      "photoUrl": "",
      "userId": "01051544767581313229"
     }
    },
    "outputId": "02646a1f-86da-4fdf-b3e7-32abe0970b0b",
    "pycharm": {
     "name": "#%%\n"
    }
   },
   "source": [
    "model.fit(X_train,y_train,batch_size=30,epochs=20,validation_split=0.2)"
   ],
   "execution_count": 37,
   "outputs": [
    {
     "name": "stdout",
     "output_type": "stream",
     "text": [
      "Epoch 1/20\n"
     ]
    },
    {
     "name": "stderr",
     "output_type": "stream",
     "text": [
      "2022-08-12 22:03:58.103580: I tensorflow/core/grappler/optimizers/custom_graph_optimizer_registry.cc:113] Plugin optimizer for device_type GPU is enabled.\n",
      "2022-08-12 22:03:58.219933: I tensorflow/core/grappler/optimizers/custom_graph_optimizer_registry.cc:113] Plugin optimizer for device_type GPU is enabled.\n",
      "2022-08-12 22:03:58.454501: I tensorflow/core/grappler/optimizers/custom_graph_optimizer_registry.cc:113] Plugin optimizer for device_type GPU is enabled.\n"
     ]
    },
    {
     "name": "stdout",
     "output_type": "stream",
     "text": [
      "104/104 [==============================] - ETA: 0s - loss: 0.0183"
     ]
    },
    {
     "name": "stderr",
     "output_type": "stream",
     "text": [
      "2022-08-12 22:04:03.998186: I tensorflow/core/grappler/optimizers/custom_graph_optimizer_registry.cc:113] Plugin optimizer for device_type GPU is enabled.\n",
      "2022-08-12 22:04:04.041250: I tensorflow/core/grappler/optimizers/custom_graph_optimizer_registry.cc:113] Plugin optimizer for device_type GPU is enabled.\n"
     ]
    },
    {
     "name": "stdout",
     "output_type": "stream",
     "text": [
      "104/104 [==============================] - 7s 60ms/step - loss: 0.0183 - val_loss: 0.0029\n",
      "Epoch 2/20\n",
      "104/104 [==============================] - 4s 43ms/step - loss: 2.6151e-04 - val_loss: 9.7927e-04\n",
      "Epoch 3/20\n",
      "104/104 [==============================] - 4s 41ms/step - loss: 2.0767e-04 - val_loss: 8.4637e-04\n",
      "Epoch 4/20\n",
      "104/104 [==============================] - 4s 43ms/step - loss: 2.1023e-04 - val_loss: 7.9190e-04\n",
      "Epoch 5/20\n",
      "104/104 [==============================] - 4s 41ms/step - loss: 1.9994e-04 - val_loss: 6.3229e-04\n",
      "Epoch 6/20\n",
      "104/104 [==============================] - 5s 44ms/step - loss: 1.9070e-04 - val_loss: 4.9199e-04\n",
      "Epoch 7/20\n",
      "104/104 [==============================] - 4s 43ms/step - loss: 1.7767e-04 - val_loss: 4.8953e-04\n",
      "Epoch 8/20\n",
      "104/104 [==============================] - 5s 45ms/step - loss: 1.7679e-04 - val_loss: 3.5911e-04\n",
      "Epoch 9/20\n",
      "104/104 [==============================] - 5s 45ms/step - loss: 1.5702e-04 - val_loss: 3.0753e-04\n",
      "Epoch 10/20\n",
      "104/104 [==============================] - 4s 43ms/step - loss: 1.4287e-04 - val_loss: 2.6861e-04\n",
      "Epoch 11/20\n",
      "104/104 [==============================] - 4s 42ms/step - loss: 1.4292e-04 - val_loss: 2.5127e-04\n",
      "Epoch 12/20\n",
      "104/104 [==============================] - 4s 39ms/step - loss: 1.2420e-04 - val_loss: 2.1119e-04\n",
      "Epoch 13/20\n",
      "104/104 [==============================] - 4s 41ms/step - loss: 1.2894e-04 - val_loss: 2.0063e-04\n",
      "Epoch 14/20\n",
      "104/104 [==============================] - 4s 42ms/step - loss: 1.2498e-04 - val_loss: 1.9517e-04\n",
      "Epoch 15/20\n",
      "104/104 [==============================] - 4s 40ms/step - loss: 1.1913e-04 - val_loss: 1.5432e-04\n",
      "Epoch 16/20\n",
      "104/104 [==============================] - 5s 45ms/step - loss: 1.1949e-04 - val_loss: 1.4237e-04\n",
      "Epoch 17/20\n",
      "104/104 [==============================] - 5s 44ms/step - loss: 1.2294e-04 - val_loss: 1.4217e-04\n",
      "Epoch 18/20\n",
      "104/104 [==============================] - 4s 41ms/step - loss: 1.1115e-04 - val_loss: 1.5509e-04\n",
      "Epoch 19/20\n",
      "104/104 [==============================] - 5s 48ms/step - loss: 1.0144e-04 - val_loss: 1.6209e-04\n",
      "Epoch 20/20\n",
      "104/104 [==============================] - 5s 43ms/step - loss: 1.0075e-04 - val_loss: 1.2768e-04\n"
     ]
    },
    {
     "data": {
      "text/plain": "<keras.callbacks.History at 0x2829319a0>"
     },
     "execution_count": 37,
     "metadata": {},
     "output_type": "execute_result"
    }
   ]
  },
  {
   "cell_type": "code",
   "metadata": {
    "id": "1-Uriaf2TPUE",
    "executionInfo": {
     "status": "ok",
     "timestamp": 1622375107680,
     "user_tz": -540,
     "elapsed": 703,
     "user": {
      "displayName": "‍차지수(학부학생/사회과학대학 언론홍보영상학)",
      "photoUrl": "",
      "userId": "01051544767581313229"
     }
    },
    "pycharm": {
     "name": "#%%\n"
    }
   },
   "source": [
    "preds = model.predict(X_test)\n",
    "preds = scaler.inverse_transform(preds.reshape(-1,1))\n",
    "preds_series = np.hstack([mydf['open'][:-len(preds)], preds.squeeze(1)])"
   ],
   "execution_count": 38,
   "outputs": [
    {
     "name": "stderr",
     "output_type": "stream",
     "text": [
      "2022-08-12 22:05:29.811299: I tensorflow/core/grappler/optimizers/custom_graph_optimizer_registry.cc:113] Plugin optimizer for device_type GPU is enabled.\n",
      "2022-08-12 22:05:29.855815: I tensorflow/core/grappler/optimizers/custom_graph_optimizer_registry.cc:113] Plugin optimizer for device_type GPU is enabled.\n"
     ]
    },
    {
     "name": "stdout",
     "output_type": "stream",
     "text": [
      "31/31 [==============================] - 1s 25ms/step\n"
     ]
    }
   ]
  },
  {
   "cell_type": "code",
   "metadata": {
    "colab": {
     "base_uri": "https://localhost:8080/",
     "height": 607
    },
    "id": "P8VSu7ZkTo9M",
    "executionInfo": {
     "status": "ok",
     "timestamp": 1622375107681,
     "user_tz": -540,
     "elapsed": 13,
     "user": {
      "displayName": "‍차지수(학부학생/사회과학대학 언론홍보영상학)",
      "photoUrl": "",
      "userId": "01051544767581313229"
     }
    },
    "outputId": "0cd37922-ef7d-4a1e-8e0d-dacef981ee23",
    "pycharm": {
     "name": "#%%\n"
    }
   },
   "source": [
    "plt.plot(preds_series, label='prediction')\n",
    "plt.plot(mydf['open'], label='true')\n",
    "plt.axvline(x=len(mydf['open'])-len(preds), color='r')\n",
    "plt.legend()\n",
    "plt.title('LSTM FIT')\n",
    "plt.show()"
   ],
   "execution_count": 39,
   "outputs": [
    {
     "data": {
      "text/plain": "<Figure size 432x288 with 1 Axes>",
      "image/png": "[encoded data removed]"
     },
     "metadata": {
      "needs_background": "light"
     },
     "output_type": "display_data"
    }
   ]
  },
  {
   "cell_type": "code",
   "metadata": {
    "id": "sqXaD7CNTrq3",
    "executionInfo": {
     "status": "ok",
     "timestamp": 1622375107681,
     "user_tz": -540,
     "elapsed": 11,
     "user": {
      "displayName": "‍차지수(학부학생/사회과학대학 언론홍보영상학)",
      "photoUrl": "",
      "userId": "01051544767581313229"
     }
    },
    "pycharm": {
     "name": "#%%\n"
    }
   },
   "source": [
    "y_true = mydf['open'][-len(preds):]\n",
    "y_pred = preds.squeeze(1)"
   ],
   "execution_count": 40,
   "outputs": []
  },
  {
   "cell_type": "code",
   "metadata": {
    "colab": {
     "base_uri": "https://localhost:8080/"
    },
    "id": "9wpds5i_1zIj",
    "executionInfo": {
     "status": "ok",
     "timestamp": 1622375107682,
     "user_tz": -540,
     "elapsed": 11,
     "user": {
      "displayName": "‍차지수(학부학생/사회과학대학 언론홍보영상학)",
      "photoUrl": "",
      "userId": "01051544767581313229"
     }
    },
    "outputId": "f4b84801-b350-41d0-f3d8-22fb0887925d",
    "pycharm": {
     "name": "#%%\n"
    }
   },
   "source": [
    "print(MAE(y_true, y_pred))\n",
    "print(MSE(y_true, y_pred))\n",
    "print(RMSE(y_true, y_pred))"
   ],
   "execution_count": 41,
   "outputs": [
    {
     "name": "stdout",
     "output_type": "stream",
     "text": [
      "4.19e+04\n",
      "2.95e+09\n",
      "5.43e+04\n"
     ]
    }
   ]
  },
  {
   "cell_type": "code",
   "metadata": {
    "id": "1SF1cJgo0cbx",
    "executionInfo": {
     "status": "ok",
     "timestamp": 1622375107682,
     "user_tz": -540,
     "elapsed": 8,
     "user": {
      "displayName": "‍차지수(학부학생/사회과학대학 언론홍보영상학)",
      "photoUrl": "",
      "userId": "01051544767581313229"
     }
    },
    "pycharm": {
     "name": "#%%\n"
    }
   },
   "source": [],
   "execution_count": 41,
   "outputs": []
  }
 ]
}