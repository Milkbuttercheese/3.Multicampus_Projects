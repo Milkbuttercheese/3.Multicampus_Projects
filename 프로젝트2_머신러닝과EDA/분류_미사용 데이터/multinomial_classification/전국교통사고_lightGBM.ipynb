{
 "cells": [
  {
   "cell_type": "code",
   "execution_count": 26,
   "metadata": {
    "collapsed": true,
    "pycharm": {
     "name": "#%%\n"
    }
   },
   "outputs": [],
   "source": [
    "#데이터 핸들링 라이브러리\n",
    "import pandas as pd\n",
    "import numpy as np\n",
    "#데이터 시각화 라이브러리\n",
    "import seaborn as sns\n",
    "import matplotlib.pyplot as plt\n",
    "import matplotlib as mpl\n",
    "plt.rcParams.update({'font.family':'AppleGothic'})\n",
    "mpl.rc('axes', unicode_minus=False)\n",
    "%config InlineBackend.figure_format = 'retina'"
   ]
  },
  {
   "cell_type": "markdown",
   "source": [
    "## 데이터 전처리 계획\n",
    "1. 데이터 불러오기, 결측치 처리하기\n",
    "2. 상대적으로 중요성이 떨어져보이는 피처 삭제, 필요하면 피처명을 직관적으로 다시 네이밍하기\n",
    "3. 비숫자-문자열 독립변수 인코딩하기\n",
    "4. 데이터 정규화\n",
    "5. 훈련-테스트셋 분리\n",
    "\n",
    "## 모델 학습 계획\n",
    "1. 모델 생성\n",
    "2. Cross_validation을 통한 모델학습\n",
    "3. Accuracy, Precision,Recall, ROC 4개의 지표로 분류모델의 정확도 평가하기"
   ],
   "metadata": {
    "collapsed": false,
    "pycharm": {
     "name": "#%% md\n"
    }
   }
  },
  {
   "cell_type": "code",
   "execution_count": 27,
   "outputs": [
    {
     "name": "stdout",
     "output_type": "stream",
     "text": [
      "데이터 불러오기 및 통합에 걸린 시간은 32.162724018096924 입니다\n"
     ]
    },
    {
     "data": {
      "text/plain": "                    사고번호               사고일시   요일               시군구  사고내용  \\\n0       2021010100100022    2021년 1월 1일 02시  금요일       강원도 양양군 현남면  중상사고   \n1       2021010100100029    2021년 1월 1일 04시  금요일       강원도 횡성군 둔내면  경상사고   \n2       2021010100100040    2021년 1월 1일 08시  금요일       강원도 강릉시 강문동  중상사고   \n3       2021010100100065    2021년 1월 1일 11시  금요일       강원도 강릉시 옥계면  경상사고   \n4       2021010100100089    2021년 1월 1일 13시  금요일       강원도 동해시 천곡동  경상사고   \n...                  ...                ...  ...               ...   ...   \n194089  2021123100100335  2021년 12월 31일 16시  금요일  충청남도 천안시 동남구 광덕면  경상사고   \n194090  2021123100100383  2021년 12월 31일 17시  금요일      충청남도 부여군 장암면  중상사고   \n194091  2021123100100384  2021년 12월 31일 17시  금요일  충청남도 천안시 동남구 청당동  경상사고   \n194092  2021123100100578  2021년 12월 31일 21시  금요일      충청남도 보령시 명천동  경상사고   \n194093  2021123100100631  2021년 12월 31일 23시  금요일      충청남도 예산군 삽교읍  중상사고   \n\n        사망자수  중상자수  경상자수  부상신고자수          사고유형  ... 기상상태        도로형태 가해운전자 차종  \\\n0          0     1     1       0  차량단독 - 공작물충돌  ...   맑음    단일로 - 기타       승용   \n1          0     0     2       0  차량단독 - 공작물충돌  ...   맑음  교차로 - 교차로안       승용   \n2          0     1     0       0    차대사람 - 횡단중  ...   맑음    단일로 - 기타       화물   \n3          0     0     4       0    차대차 - 측면충돌  ...   맑음  교차로 - 교차로안       승용   \n4          0     0     2       0    차대차 - 측면충돌  ...   맑음    단일로 - 기타       승용   \n...      ...   ...   ...     ...           ...  ...  ...         ...      ...   \n194089     0     0     3       0    차대차 - 측면충돌  ...   맑음  교차로 - 교차로안       승용   \n194090     0     1     0       0      차대차 - 추돌  ...   맑음    단일로 - 기타       승용   \n194091     0     0     3       0    차대차 - 측면충돌  ...   맑음    단일로 - 기타       승용   \n194092     0     0     1       0      차대차 - 추돌  ...   맑음     기타 - 기타       승용   \n194093     0     1     0       0     차대사람 - 기타  ...   맑음  교차로 - 교차로안       승용   \n\n       가해운전자 성별 가해운전자 연령 가해운전자 상해정도 피해운전자 차종 피해운전자 성별 피해운전자 연령 피해운전자 상해정도  \n0             여      19세       상해없음      NaN      NaN      NaN        NaN  \n1             남      21세         경상      NaN      NaN      NaN        NaN  \n2             남      53세       상해없음      보행자        여      20세         중상  \n3             남      43세       상해없음       화물        남      49세         경상  \n4             남      62세       상해없음       승용        남      24세         경상  \n...         ...      ...        ...      ...      ...      ...        ...  \n194089        여      32세         경상       승용        남      42세         경상  \n194090        남      24세       상해없음      자전거        남      78세         중상  \n194091        남      25세         경상       승용        남      22세         경상  \n194092        남      59세       상해없음       승용        여      28세         경상  \n194093        남      56세       상해없음      보행자        남      40세         중상  \n\n[194094 rows x 22 columns]",
      "text/html": "<div>\n<style scoped>\n    .dataframe tbody tr th:only-of-type {\n        vertical-align: middle;\n    }\n\n    .dataframe tbody tr th {\n        vertical-align: top;\n    }\n\n    .dataframe thead th {\n        text-align: right;\n    }\n</style>\n<table border=\"1\" class=\"dataframe\">\n  <thead>\n    <tr style=\"text-align: right;\">\n      <th></th>\n      <th>사고번호</th>\n      <th>사고일시</th>\n      <th>요일</th>\n      <th>시군구</th>\n      <th>사고내용</th>\n      <th>사망자수</th>\n      <th>중상자수</th>\n      <th>경상자수</th>\n      <th>부상신고자수</th>\n      <th>사고유형</th>\n      <th>...</th>\n      <th>기상상태</th>\n      <th>도로형태</th>\n      <th>가해운전자 차종</th>\n      <th>가해운전자 성별</th>\n      <th>가해운전자 연령</th>\n      <th>가해운전자 상해정도</th>\n      <th>피해운전자 차종</th>\n      <th>피해운전자 성별</th>\n      <th>피해운전자 연령</th>\n      <th>피해운전자 상해정도</th>\n    </tr>\n  </thead>\n  <tbody>\n    <tr>\n      <th>0</th>\n      <td>2021010100100022</td>\n      <td>2021년 1월 1일 02시</td>\n      <td>금요일</td>\n      <td>강원도 양양군 현남면</td>\n      <td>중상사고</td>\n      <td>0</td>\n      <td>1</td>\n      <td>1</td>\n      <td>0</td>\n      <td>차량단독 - 공작물충돌</td>\n      <td>...</td>\n      <td>맑음</td>\n      <td>단일로 - 기타</td>\n      <td>승용</td>\n      <td>여</td>\n      <td>19세</td>\n      <td>상해없음</td>\n      <td>NaN</td>\n      <td>NaN</td>\n      <td>NaN</td>\n      <td>NaN</td>\n    </tr>\n    <tr>\n      <th>1</th>\n      <td>2021010100100029</td>\n      <td>2021년 1월 1일 04시</td>\n      <td>금요일</td>\n      <td>강원도 횡성군 둔내면</td>\n      <td>경상사고</td>\n      <td>0</td>\n      <td>0</td>\n      <td>2</td>\n      <td>0</td>\n      <td>차량단독 - 공작물충돌</td>\n      <td>...</td>\n      <td>맑음</td>\n      <td>교차로 - 교차로안</td>\n      <td>승용</td>\n      <td>남</td>\n      <td>21세</td>\n      <td>경상</td>\n      <td>NaN</td>\n      <td>NaN</td>\n      <td>NaN</td>\n      <td>NaN</td>\n    </tr>\n    <tr>\n      <th>2</th>\n      <td>2021010100100040</td>\n      <td>2021년 1월 1일 08시</td>\n      <td>금요일</td>\n      <td>강원도 강릉시 강문동</td>\n      <td>중상사고</td>\n      <td>0</td>\n      <td>1</td>\n      <td>0</td>\n      <td>0</td>\n      <td>차대사람 - 횡단중</td>\n      <td>...</td>\n      <td>맑음</td>\n      <td>단일로 - 기타</td>\n      <td>화물</td>\n      <td>남</td>\n      <td>53세</td>\n      <td>상해없음</td>\n      <td>보행자</td>\n      <td>여</td>\n      <td>20세</td>\n      <td>중상</td>\n    </tr>\n    <tr>\n      <th>3</th>\n      <td>2021010100100065</td>\n      <td>2021년 1월 1일 11시</td>\n      <td>금요일</td>\n      <td>강원도 강릉시 옥계면</td>\n      <td>경상사고</td>\n      <td>0</td>\n      <td>0</td>\n      <td>4</td>\n      <td>0</td>\n      <td>차대차 - 측면충돌</td>\n      <td>...</td>\n      <td>맑음</td>\n      <td>교차로 - 교차로안</td>\n      <td>승용</td>\n      <td>남</td>\n      <td>43세</td>\n      <td>상해없음</td>\n      <td>화물</td>\n      <td>남</td>\n      <td>49세</td>\n      <td>경상</td>\n    </tr>\n    <tr>\n      <th>4</th>\n      <td>2021010100100089</td>\n      <td>2021년 1월 1일 13시</td>\n      <td>금요일</td>\n      <td>강원도 동해시 천곡동</td>\n      <td>경상사고</td>\n      <td>0</td>\n      <td>0</td>\n      <td>2</td>\n      <td>0</td>\n      <td>차대차 - 측면충돌</td>\n      <td>...</td>\n      <td>맑음</td>\n      <td>단일로 - 기타</td>\n      <td>승용</td>\n      <td>남</td>\n      <td>62세</td>\n      <td>상해없음</td>\n      <td>승용</td>\n      <td>남</td>\n      <td>24세</td>\n      <td>경상</td>\n    </tr>\n    <tr>\n      <th>...</th>\n      <td>...</td>\n      <td>...</td>\n      <td>...</td>\n      <td>...</td>\n      <td>...</td>\n      <td>...</td>\n      <td>...</td>\n      <td>...</td>\n      <td>...</td>\n      <td>...</td>\n      <td>...</td>\n      <td>...</td>\n      <td>...</td>\n      <td>...</td>\n      <td>...</td>\n      <td>...</td>\n      <td>...</td>\n      <td>...</td>\n      <td>...</td>\n      <td>...</td>\n      <td>...</td>\n    </tr>\n    <tr>\n      <th>194089</th>\n      <td>2021123100100335</td>\n      <td>2021년 12월 31일 16시</td>\n      <td>금요일</td>\n      <td>충청남도 천안시 동남구 광덕면</td>\n      <td>경상사고</td>\n      <td>0</td>\n      <td>0</td>\n      <td>3</td>\n      <td>0</td>\n      <td>차대차 - 측면충돌</td>\n      <td>...</td>\n      <td>맑음</td>\n      <td>교차로 - 교차로안</td>\n      <td>승용</td>\n      <td>여</td>\n      <td>32세</td>\n      <td>경상</td>\n      <td>승용</td>\n      <td>남</td>\n      <td>42세</td>\n      <td>경상</td>\n    </tr>\n    <tr>\n      <th>194090</th>\n      <td>2021123100100383</td>\n      <td>2021년 12월 31일 17시</td>\n      <td>금요일</td>\n      <td>충청남도 부여군 장암면</td>\n      <td>중상사고</td>\n      <td>0</td>\n      <td>1</td>\n      <td>0</td>\n      <td>0</td>\n      <td>차대차 - 추돌</td>\n      <td>...</td>\n      <td>맑음</td>\n      <td>단일로 - 기타</td>\n      <td>승용</td>\n      <td>남</td>\n      <td>24세</td>\n      <td>상해없음</td>\n      <td>자전거</td>\n      <td>남</td>\n      <td>78세</td>\n      <td>중상</td>\n    </tr>\n    <tr>\n      <th>194091</th>\n      <td>2021123100100384</td>\n      <td>2021년 12월 31일 17시</td>\n      <td>금요일</td>\n      <td>충청남도 천안시 동남구 청당동</td>\n      <td>경상사고</td>\n      <td>0</td>\n      <td>0</td>\n      <td>3</td>\n      <td>0</td>\n      <td>차대차 - 측면충돌</td>\n      <td>...</td>\n      <td>맑음</td>\n      <td>단일로 - 기타</td>\n      <td>승용</td>\n      <td>남</td>\n      <td>25세</td>\n      <td>경상</td>\n      <td>승용</td>\n      <td>남</td>\n      <td>22세</td>\n      <td>경상</td>\n    </tr>\n    <tr>\n      <th>194092</th>\n      <td>2021123100100578</td>\n      <td>2021년 12월 31일 21시</td>\n      <td>금요일</td>\n      <td>충청남도 보령시 명천동</td>\n      <td>경상사고</td>\n      <td>0</td>\n      <td>0</td>\n      <td>1</td>\n      <td>0</td>\n      <td>차대차 - 추돌</td>\n      <td>...</td>\n      <td>맑음</td>\n      <td>기타 - 기타</td>\n      <td>승용</td>\n      <td>남</td>\n      <td>59세</td>\n      <td>상해없음</td>\n      <td>승용</td>\n      <td>여</td>\n      <td>28세</td>\n      <td>경상</td>\n    </tr>\n    <tr>\n      <th>194093</th>\n      <td>2021123100100631</td>\n      <td>2021년 12월 31일 23시</td>\n      <td>금요일</td>\n      <td>충청남도 예산군 삽교읍</td>\n      <td>중상사고</td>\n      <td>0</td>\n      <td>1</td>\n      <td>0</td>\n      <td>0</td>\n      <td>차대사람 - 기타</td>\n      <td>...</td>\n      <td>맑음</td>\n      <td>교차로 - 교차로안</td>\n      <td>승용</td>\n      <td>남</td>\n      <td>56세</td>\n      <td>상해없음</td>\n      <td>보행자</td>\n      <td>남</td>\n      <td>40세</td>\n      <td>중상</td>\n    </tr>\n  </tbody>\n</table>\n<p>194094 rows × 22 columns</p>\n</div>"
     },
     "execution_count": 27,
     "metadata": {},
     "output_type": "execute_result"
    }
   ],
   "source": [
    "#1. 데이터 불러오기 from TAAS: http://taas.koroad.or.kr/web/shp/sbm/initGisAnals.do?menuId=WEB_KMP_GIS_TAS\n",
    "## 해당 경로에 있는 .csv 파일명 리스트 가져오기\n",
    "\n",
    "import os\n",
    "import time\n",
    "t_0= time.time()\n",
    "\n",
    "path = './교통사고_2021/'\n",
    "file_list = os.listdir(path)\n",
    "file_list_py = [file for file in file_list if file.endswith('.xls')] ## 파일명 끝이 .xls인 경우\n",
    "\n",
    "## csv 파일들을 DataFrame으로 불러와서 concat\n",
    "\n",
    "death_df = pd.DataFrame()\n",
    "for i in file_list_py:\n",
    "    data = pd.read_html(path + i)\n",
    "    data= data[0]\n",
    "    death_df = pd.concat([death_df,data])\n",
    "\n",
    "death_df = death_df.reset_index(drop = True)\n",
    "print(f'데이터 불러오기 및 통합에 걸린 시간은 {str(time.time()-t_0)} 입니다')\n",
    "death_df"
   ],
   "metadata": {
    "collapsed": false,
    "pycharm": {
     "name": "#%%\n"
    }
   }
  },
  {
   "cell_type": "code",
   "execution_count": 28,
   "outputs": [
    {
     "data": {
      "text/plain": "사고번호          0\n사고일시          0\n요일            0\n시군구           0\n사고내용          0\n사망자수          0\n중상자수          0\n경상자수          0\n부상신고자수        0\n사고유형          0\n법규위반          0\n노면상태          0\n기상상태          0\n도로형태          0\n가해운전자 차종      0\n가해운전자 성별      0\n가해운전자 연령      0\n가해운전자 상해정도    0\n피해운전자 차종      0\n피해운전자 성별      0\n피해운전자 연령      0\n피해운전자 상해정도    0\ndtype: int64"
     },
     "execution_count": 28,
     "metadata": {},
     "output_type": "execute_result"
    }
   ],
   "source": [
    "\"\"\"\n",
    "결측치 확인하기 => 피해운전자의 차종,성별,연령,상해정도를 파악하지 못하는 데이터가 6687건이 존재함\n",
    "원본데이터 194094에 비하면 삭제해도 학습에 영향력을 크게 미치지 못하뿐더러, 이러한 데이터들이\n",
    "특정 편향성을 갖고 존재할 것이라 보기 어렵다(아마도 기록 누락에 의해 이러한 데이터가 존재할 것이기 때문)\n",
    "그렇기 때문에 데이터를 제거해도 될것이라 판단하였음\n",
    "\"\"\"\n",
    "death_df.isnull().sum()\n",
    "death_df.dropna(inplace=True)\n",
    "death_df.isnull().sum()"
   ],
   "metadata": {
    "collapsed": false,
    "pycharm": {
     "name": "#%%\n"
    }
   }
  },
  {
   "cell_type": "code",
   "execution_count": 29,
   "outputs": [
    {
     "name": "stdout",
     "output_type": "stream",
     "text": [
      "<class 'pandas.core.frame.DataFrame'>\n",
      "Int64Index: 187407 entries, 2 to 194093\n",
      "Data columns (total 22 columns):\n",
      " #   Column      Non-Null Count   Dtype \n",
      "---  ------      --------------   ----- \n",
      " 0   사고번호        187407 non-null  int64 \n",
      " 1   사고일시        187407 non-null  object\n",
      " 2   요일          187407 non-null  object\n",
      " 3   시군구         187407 non-null  object\n",
      " 4   사고내용        187407 non-null  object\n",
      " 5   사망자수        187407 non-null  int64 \n",
      " 6   중상자수        187407 non-null  int64 \n",
      " 7   경상자수        187407 non-null  int64 \n",
      " 8   부상신고자수      187407 non-null  int64 \n",
      " 9   사고유형        187407 non-null  object\n",
      " 10  법규위반        187407 non-null  object\n",
      " 11  노면상태        187407 non-null  object\n",
      " 12  기상상태        187407 non-null  object\n",
      " 13  도로형태        187407 non-null  object\n",
      " 14  가해운전자 차종    187407 non-null  object\n",
      " 15  가해운전자 성별    187407 non-null  object\n",
      " 16  가해운전자 연령    187407 non-null  object\n",
      " 17  가해운전자 상해정도  187407 non-null  object\n",
      " 18  피해운전자 차종    187407 non-null  object\n",
      " 19  피해운전자 성별    187407 non-null  object\n",
      " 20  피해운전자 연령    187407 non-null  object\n",
      " 21  피해운전자 상해정도  187407 non-null  object\n",
      "dtypes: int64(5), object(17)\n",
      "memory usage: 32.9+ MB\n",
      "None\n"
     ]
    },
    {
     "data": {
      "text/plain": "               사고번호             사고일시   요일          시군구  사고내용  사망자수  중상자수  \\\n2  2021010100100040  2021년 1월 1일 08시  금요일  강원도 강릉시 강문동  중상사고     0     1   \n3  2021010100100065  2021년 1월 1일 11시  금요일  강원도 강릉시 옥계면  경상사고     0     0   \n4  2021010100100089  2021년 1월 1일 13시  금요일  강원도 동해시 천곡동  경상사고     0     0   \n5  2021010100100123  2021년 1월 1일 15시  금요일  강원도 강릉시 포남동  사망사고     1     0   \n6  2021010100100146  2021년 1월 1일 17시  금요일  강원도 강릉시 옥천동  경상사고     0     0   \n\n   경상자수  부상신고자수        사고유형  ... 기상상태         도로형태 가해운전자 차종 가해운전자 성별 가해운전자 연령  \\\n2     0       0  차대사람 - 횡단중  ...   맑음     단일로 - 기타       화물        남      53세   \n3     4       0  차대차 - 측면충돌  ...   맑음   교차로 - 교차로안       승용        남      43세   \n4     2       0  차대차 - 측면충돌  ...   맑음     단일로 - 기타       승용        남      62세   \n5     0       0  차대차 - 측면충돌  ...   맑음   교차로 - 교차로안      원동기        남      16세   \n6     2       0    차대차 - 추돌  ...   맑음  교차로 - 교차로부근       승용        여      33세   \n\n  가해운전자 상해정도 피해운전자 차종 피해운전자 성별 피해운전자 연령 피해운전자 상해정도  \n2       상해없음      보행자        여      20세         중상  \n3       상해없음       화물        남      49세         경상  \n4       상해없음       승용        남      24세         경상  \n5       상해없음       승용        여      50세       상해없음  \n6       상해없음       승용        남      27세         경상  \n\n[5 rows x 22 columns]",
      "text/html": "<div>\n<style scoped>\n    .dataframe tbody tr th:only-of-type {\n        vertical-align: middle;\n    }\n\n    .dataframe tbody tr th {\n        vertical-align: top;\n    }\n\n    .dataframe thead th {\n        text-align: right;\n    }\n</style>\n<table border=\"1\" class=\"dataframe\">\n  <thead>\n    <tr style=\"text-align: right;\">\n      <th></th>\n      <th>사고번호</th>\n      <th>사고일시</th>\n      <th>요일</th>\n      <th>시군구</th>\n      <th>사고내용</th>\n      <th>사망자수</th>\n      <th>중상자수</th>\n      <th>경상자수</th>\n      <th>부상신고자수</th>\n      <th>사고유형</th>\n      <th>...</th>\n      <th>기상상태</th>\n      <th>도로형태</th>\n      <th>가해운전자 차종</th>\n      <th>가해운전자 성별</th>\n      <th>가해운전자 연령</th>\n      <th>가해운전자 상해정도</th>\n      <th>피해운전자 차종</th>\n      <th>피해운전자 성별</th>\n      <th>피해운전자 연령</th>\n      <th>피해운전자 상해정도</th>\n    </tr>\n  </thead>\n  <tbody>\n    <tr>\n      <th>2</th>\n      <td>2021010100100040</td>\n      <td>2021년 1월 1일 08시</td>\n      <td>금요일</td>\n      <td>강원도 강릉시 강문동</td>\n      <td>중상사고</td>\n      <td>0</td>\n      <td>1</td>\n      <td>0</td>\n      <td>0</td>\n      <td>차대사람 - 횡단중</td>\n      <td>...</td>\n      <td>맑음</td>\n      <td>단일로 - 기타</td>\n      <td>화물</td>\n      <td>남</td>\n      <td>53세</td>\n      <td>상해없음</td>\n      <td>보행자</td>\n      <td>여</td>\n      <td>20세</td>\n      <td>중상</td>\n    </tr>\n    <tr>\n      <th>3</th>\n      <td>2021010100100065</td>\n      <td>2021년 1월 1일 11시</td>\n      <td>금요일</td>\n      <td>강원도 강릉시 옥계면</td>\n      <td>경상사고</td>\n      <td>0</td>\n      <td>0</td>\n      <td>4</td>\n      <td>0</td>\n      <td>차대차 - 측면충돌</td>\n      <td>...</td>\n      <td>맑음</td>\n      <td>교차로 - 교차로안</td>\n      <td>승용</td>\n      <td>남</td>\n      <td>43세</td>\n      <td>상해없음</td>\n      <td>화물</td>\n      <td>남</td>\n      <td>49세</td>\n      <td>경상</td>\n    </tr>\n    <tr>\n      <th>4</th>\n      <td>2021010100100089</td>\n      <td>2021년 1월 1일 13시</td>\n      <td>금요일</td>\n      <td>강원도 동해시 천곡동</td>\n      <td>경상사고</td>\n      <td>0</td>\n      <td>0</td>\n      <td>2</td>\n      <td>0</td>\n      <td>차대차 - 측면충돌</td>\n      <td>...</td>\n      <td>맑음</td>\n      <td>단일로 - 기타</td>\n      <td>승용</td>\n      <td>남</td>\n      <td>62세</td>\n      <td>상해없음</td>\n      <td>승용</td>\n      <td>남</td>\n      <td>24세</td>\n      <td>경상</td>\n    </tr>\n    <tr>\n      <th>5</th>\n      <td>2021010100100123</td>\n      <td>2021년 1월 1일 15시</td>\n      <td>금요일</td>\n      <td>강원도 강릉시 포남동</td>\n      <td>사망사고</td>\n      <td>1</td>\n      <td>0</td>\n      <td>0</td>\n      <td>0</td>\n      <td>차대차 - 측면충돌</td>\n      <td>...</td>\n      <td>맑음</td>\n      <td>교차로 - 교차로안</td>\n      <td>원동기</td>\n      <td>남</td>\n      <td>16세</td>\n      <td>상해없음</td>\n      <td>승용</td>\n      <td>여</td>\n      <td>50세</td>\n      <td>상해없음</td>\n    </tr>\n    <tr>\n      <th>6</th>\n      <td>2021010100100146</td>\n      <td>2021년 1월 1일 17시</td>\n      <td>금요일</td>\n      <td>강원도 강릉시 옥천동</td>\n      <td>경상사고</td>\n      <td>0</td>\n      <td>0</td>\n      <td>2</td>\n      <td>0</td>\n      <td>차대차 - 추돌</td>\n      <td>...</td>\n      <td>맑음</td>\n      <td>교차로 - 교차로부근</td>\n      <td>승용</td>\n      <td>여</td>\n      <td>33세</td>\n      <td>상해없음</td>\n      <td>승용</td>\n      <td>남</td>\n      <td>27세</td>\n      <td>경상</td>\n    </tr>\n  </tbody>\n</table>\n<p>5 rows × 22 columns</p>\n</div>"
     },
     "execution_count": 29,
     "metadata": {},
     "output_type": "execute_result"
    }
   ],
   "source": [
    "#데이터 정보 찾기\n",
    "print(death_df.info())\n",
    "death_df.head()"
   ],
   "metadata": {
    "collapsed": false,
    "pycharm": {
     "name": "#%%\n"
    }
   }
  },
  {
   "cell_type": "code",
   "execution_count": 30,
   "outputs": [
    {
     "data": {
      "text/plain": "경상사고    138186\n중상사고     47072\n사망사고      2149\nName: 사고내용, dtype: int64"
     },
     "execution_count": 30,
     "metadata": {},
     "output_type": "execute_result"
    }
   ],
   "source": [
    "death_df['사고내용'].value_counts()"
   ],
   "metadata": {
    "collapsed": false,
    "pycharm": {
     "name": "#%%\n"
    }
   }
  },
  {
   "cell_type": "code",
   "execution_count": 31,
   "outputs": [],
   "source": [
    "#2.불필요해보이는 컬럼 제거\n",
    "'''\n",
    "사고번호는 각 사고에 대해 일대일 대응되는 key값으로 나중에 데이터를 결합시키는데 사용될 수 있어 보이므로 남겨둠\n",
    "사망자수,중상자수,경상자수,부상신고자는 '피해운전자 상해정도'에 필요한 정보가 담겨있으므로 삭제한다\n",
    "위치정보는 사용하지 않으므로 시군구도 삭제한다\n",
    "성별도 유의미한 정보가 될수도 있으나 상대적인 중요도가 떨어지다고 판단되어 삭제한다\n",
    "'''\n",
    "death_df.drop(['시군구','사망자수','중상자수','경상자수','부상신고자수','노면상태','가해운전자 상해정도','피해운전자 상해정도','가해운전자 성별','피해운전자 성별'],axis=1,\n",
    "              inplace=True)\n",
    "\n",
    "## 컬럼 핸들링하기\n",
    "##시간에 따른 시계가 교통사고의 요인중 하나일 수 있으므로 발생년월일시에서 시간만 떼어 새로운 컬럼으로 만듬\n",
    "time_lst= list(death_df['사고일시'])\n",
    "hour_lst=[]\n",
    "for time in time_lst:\n",
    "    hour_lst.append((str(time)[-3:-1]))\n",
    "death_df['사고시각']= hour_lst\n",
    "#사고일시 컬럼은 삭제\n",
    "death_df.drop(['사고일시'],axis=1,inplace=True)\n"
   ],
   "metadata": {
    "collapsed": false,
    "pycharm": {
     "name": "#%%\n"
    }
   }
  },
  {
   "cell_type": "code",
   "execution_count": 32,
   "outputs": [],
   "source": [
    "#피해운전자, 가해운전자 연령 미분류 삭제하기\n",
    "idx= death_df[death_df['피해운전자 연령']=='미분류'].index\n",
    "death_df.drop(idx,inplace=True)\n",
    "idx= death_df[death_df['피해운전자 연령']=='98세 이상'].index\n",
    "death_df.drop(idx,inplace=True)\n",
    "\n",
    "idx2= death_df[death_df['가해운전자 연령']=='미분류'].index\n",
    "death_df.drop(idx2,inplace=True)\n",
    "\n",
    "\n",
    "#나이 컬럼: 숫자단위만 뽑기\n",
    "suspect_lst= list(death_df['가해운전자 연령'])\n",
    "suspect_old= []\n",
    "for old in suspect_lst:\n",
    "    suspect_old.append(str((old))[:-1])\n",
    "\n",
    "death_df['가해운전자 연령']=suspect_old\n",
    "\n",
    "victim_lst= list(death_df['피해운전자 연령'])\n",
    "victim_old= []\n",
    "for old in victim_lst:\n",
    "    victim_old.append(str((old))[:-1])\n",
    "death_df['피해운전자 연령']=victim_old\n"
   ],
   "metadata": {
    "collapsed": false,
    "pycharm": {
     "name": "#%%\n"
    }
   }
  },
  {
   "cell_type": "code",
   "execution_count": 33,
   "outputs": [],
   "source": [
    "death_df=death_df.reindex(columns=['사고시각','사고유형','법규위반','기상상태','도로형태','가해운전자 차종','가해운전자 연령','피해운전자 차종','피해운전자 연령','사고번호','사고내용'])"
   ],
   "metadata": {
    "collapsed": false,
    "pycharm": {
     "name": "#%%\n"
    }
   }
  },
  {
   "cell_type": "code",
   "execution_count": 34,
   "outputs": [],
   "source": [
    "#데이터 자료형 변환: 문자열-> 정수형\n",
    "# death_df['사고시각']=death_df['사고시각'].astype('int')\n",
    "# death_df['가해운전자 연령']=death_df['가해운전자 연령'].astype('int')\n",
    "# death_df['피해운전자 연령']=death_df['피해운전자 연령'].astype('int')"
   ],
   "metadata": {
    "collapsed": false,
    "pycharm": {
     "name": "#%%\n"
    }
   }
  },
  {
   "cell_type": "markdown",
   "source": [
    "![](https://scikit-learn.org/stable/_images/multi_org_chart.png)"
   ],
   "metadata": {
    "collapsed": false,
    "pycharm": {
     "name": "#%% md\n"
    }
   }
  },
  {
   "cell_type": "code",
   "execution_count": 35,
   "outputs": [],
   "source": [
    "#3.범주형 변수 인코딩하기:원 핫 인코딩을 하도록 한다\n",
    "#한번만 인코딩해야됨. 두번하면 안됨\n",
    "# from sklearn.preprocessing import LabelEncoder,OneHotEncoder\n",
    "#\n",
    "# categories_backup=[]\n",
    "# features=['사고시각','사고유형','법규위반','기상상태','도로형태','가해운전자 차종','피해운전자 차종','사고내용', '가해운전자 연령','피해운전자 연령']\n",
    "# features= np.array(features).reshape(-1,1)\n",
    "# for feature in features:\n",
    "#     OHE= OneHotEncoder()\n",
    "#     OHE.fit(death_df[feature])\n",
    "#     #카테고리 백업해두기\n",
    "#     categories_backup.append(OHE.categories_)\n",
    "#     #인코딩하기\n",
    "#     death_df[feature]= OHE.transform(death_df[feature])\n",
    "# death_df"
   ],
   "metadata": {
    "collapsed": false,
    "pycharm": {
     "name": "#%%\n"
    }
   }
  },
  {
   "cell_type": "code",
   "execution_count": 36,
   "outputs": [],
   "source": [
    "features=['사고시각','사고유형','법규위반','기상상태','도로형태','가해운전자 차종','피해운전자 차종','사고내용', '가해운전자 연령','피해운전자 연령']\n",
    "encoded_df= pd.get_dummies(data=death_df,columns=features,prefix=features)"
   ],
   "metadata": {
    "collapsed": false,
    "pycharm": {
     "name": "#%%\n"
    }
   }
  },
  {
   "cell_type": "code",
   "execution_count": 37,
   "outputs": [
    {
     "data": {
      "text/plain": "                    사고번호  사고시각_00  사고시각_01  사고시각_02  사고시각_03  사고시각_04  \\\n2       2021010100100040        0        0        0        0        0   \n3       2021010100100065        0        0        0        0        0   \n4       2021010100100089        0        0        0        0        0   \n5       2021010100100123        0        0        0        0        0   \n6       2021010100100146        0        0        0        0        0   \n...                  ...      ...      ...      ...      ...      ...   \n194089  2021123100100335        0        0        0        0        0   \n194090  2021123100100383        0        0        0        0        0   \n194091  2021123100100384        0        0        0        0        0   \n194092  2021123100100578        0        0        0        0        0   \n194093  2021123100100631        0        0        0        0        0   \n\n        사고시각_05  사고시각_06  사고시각_07  사고시각_08  ...  피해운전자 연령_89  피해운전자 연령_9  \\\n2             0        0        0        1  ...            0           0   \n3             0        0        0        0  ...            0           0   \n4             0        0        0        0  ...            0           0   \n5             0        0        0        0  ...            0           0   \n6             0        0        0        0  ...            0           0   \n...         ...      ...      ...      ...  ...          ...         ...   \n194089        0        0        0        0  ...            0           0   \n194090        0        0        0        0  ...            0           0   \n194091        0        0        0        0  ...            0           0   \n194092        0        0        0        0  ...            0           0   \n194093        0        0        0        0  ...            0           0   \n\n        피해운전자 연령_90  피해운전자 연령_91  피해운전자 연령_92  피해운전자 연령_93  피해운전자 연령_94  \\\n2                 0            0            0            0            0   \n3                 0            0            0            0            0   \n4                 0            0            0            0            0   \n5                 0            0            0            0            0   \n6                 0            0            0            0            0   \n...             ...          ...          ...          ...          ...   \n194089            0            0            0            0            0   \n194090            0            0            0            0            0   \n194091            0            0            0            0            0   \n194092            0            0            0            0            0   \n194093            0            0            0            0            0   \n\n        피해운전자 연령_95  피해운전자 연령_96  피해운전자 연령_97  \n2                 0            0            0  \n3                 0            0            0  \n4                 0            0            0  \n5                 0            0            0  \n6                 0            0            0  \n...             ...          ...          ...  \n194089            0            0            0  \n194090            0            0            0  \n194091            0            0            0  \n194092            0            0            0  \n194093            0            0            0  \n\n[184916 rows x 284 columns]",
      "text/html": "<div>\n<style scoped>\n    .dataframe tbody tr th:only-of-type {\n        vertical-align: middle;\n    }\n\n    .dataframe tbody tr th {\n        vertical-align: top;\n    }\n\n    .dataframe thead th {\n        text-align: right;\n    }\n</style>\n<table border=\"1\" class=\"dataframe\">\n  <thead>\n    <tr style=\"text-align: right;\">\n      <th></th>\n      <th>사고번호</th>\n      <th>사고시각_00</th>\n      <th>사고시각_01</th>\n      <th>사고시각_02</th>\n      <th>사고시각_03</th>\n      <th>사고시각_04</th>\n      <th>사고시각_05</th>\n      <th>사고시각_06</th>\n      <th>사고시각_07</th>\n      <th>사고시각_08</th>\n      <th>...</th>\n      <th>피해운전자 연령_89</th>\n      <th>피해운전자 연령_9</th>\n      <th>피해운전자 연령_90</th>\n      <th>피해운전자 연령_91</th>\n      <th>피해운전자 연령_92</th>\n      <th>피해운전자 연령_93</th>\n      <th>피해운전자 연령_94</th>\n      <th>피해운전자 연령_95</th>\n      <th>피해운전자 연령_96</th>\n      <th>피해운전자 연령_97</th>\n    </tr>\n  </thead>\n  <tbody>\n    <tr>\n      <th>2</th>\n      <td>2021010100100040</td>\n      <td>0</td>\n      <td>0</td>\n      <td>0</td>\n      <td>0</td>\n      <td>0</td>\n      <td>0</td>\n      <td>0</td>\n      <td>0</td>\n      <td>1</td>\n      <td>...</td>\n      <td>0</td>\n      <td>0</td>\n      <td>0</td>\n      <td>0</td>\n      <td>0</td>\n      <td>0</td>\n      <td>0</td>\n      <td>0</td>\n      <td>0</td>\n      <td>0</td>\n    </tr>\n    <tr>\n      <th>3</th>\n      <td>2021010100100065</td>\n      <td>0</td>\n      <td>0</td>\n      <td>0</td>\n      <td>0</td>\n      <td>0</td>\n      <td>0</td>\n      <td>0</td>\n      <td>0</td>\n      <td>0</td>\n      <td>...</td>\n      <td>0</td>\n      <td>0</td>\n      <td>0</td>\n      <td>0</td>\n      <td>0</td>\n      <td>0</td>\n      <td>0</td>\n      <td>0</td>\n      <td>0</td>\n      <td>0</td>\n    </tr>\n    <tr>\n      <th>4</th>\n      <td>2021010100100089</td>\n      <td>0</td>\n      <td>0</td>\n      <td>0</td>\n      <td>0</td>\n      <td>0</td>\n      <td>0</td>\n      <td>0</td>\n      <td>0</td>\n      <td>0</td>\n      <td>...</td>\n      <td>0</td>\n      <td>0</td>\n      <td>0</td>\n      <td>0</td>\n      <td>0</td>\n      <td>0</td>\n      <td>0</td>\n      <td>0</td>\n      <td>0</td>\n      <td>0</td>\n    </tr>\n    <tr>\n      <th>5</th>\n      <td>2021010100100123</td>\n      <td>0</td>\n      <td>0</td>\n      <td>0</td>\n      <td>0</td>\n      <td>0</td>\n      <td>0</td>\n      <td>0</td>\n      <td>0</td>\n      <td>0</td>\n      <td>...</td>\n      <td>0</td>\n      <td>0</td>\n      <td>0</td>\n      <td>0</td>\n      <td>0</td>\n      <td>0</td>\n      <td>0</td>\n      <td>0</td>\n      <td>0</td>\n      <td>0</td>\n    </tr>\n    <tr>\n      <th>6</th>\n      <td>2021010100100146</td>\n      <td>0</td>\n      <td>0</td>\n      <td>0</td>\n      <td>0</td>\n      <td>0</td>\n      <td>0</td>\n      <td>0</td>\n      <td>0</td>\n      <td>0</td>\n      <td>...</td>\n      <td>0</td>\n      <td>0</td>\n      <td>0</td>\n      <td>0</td>\n      <td>0</td>\n      <td>0</td>\n      <td>0</td>\n      <td>0</td>\n      <td>0</td>\n      <td>0</td>\n    </tr>\n    <tr>\n      <th>...</th>\n      <td>...</td>\n      <td>...</td>\n      <td>...</td>\n      <td>...</td>\n      <td>...</td>\n      <td>...</td>\n      <td>...</td>\n      <td>...</td>\n      <td>...</td>\n      <td>...</td>\n      <td>...</td>\n      <td>...</td>\n      <td>...</td>\n      <td>...</td>\n      <td>...</td>\n      <td>...</td>\n      <td>...</td>\n      <td>...</td>\n      <td>...</td>\n      <td>...</td>\n      <td>...</td>\n    </tr>\n    <tr>\n      <th>194089</th>\n      <td>2021123100100335</td>\n      <td>0</td>\n      <td>0</td>\n      <td>0</td>\n      <td>0</td>\n      <td>0</td>\n      <td>0</td>\n      <td>0</td>\n      <td>0</td>\n      <td>0</td>\n      <td>...</td>\n      <td>0</td>\n      <td>0</td>\n      <td>0</td>\n      <td>0</td>\n      <td>0</td>\n      <td>0</td>\n      <td>0</td>\n      <td>0</td>\n      <td>0</td>\n      <td>0</td>\n    </tr>\n    <tr>\n      <th>194090</th>\n      <td>2021123100100383</td>\n      <td>0</td>\n      <td>0</td>\n      <td>0</td>\n      <td>0</td>\n      <td>0</td>\n      <td>0</td>\n      <td>0</td>\n      <td>0</td>\n      <td>0</td>\n      <td>...</td>\n      <td>0</td>\n      <td>0</td>\n      <td>0</td>\n      <td>0</td>\n      <td>0</td>\n      <td>0</td>\n      <td>0</td>\n      <td>0</td>\n      <td>0</td>\n      <td>0</td>\n    </tr>\n    <tr>\n      <th>194091</th>\n      <td>2021123100100384</td>\n      <td>0</td>\n      <td>0</td>\n      <td>0</td>\n      <td>0</td>\n      <td>0</td>\n      <td>0</td>\n      <td>0</td>\n      <td>0</td>\n      <td>0</td>\n      <td>...</td>\n      <td>0</td>\n      <td>0</td>\n      <td>0</td>\n      <td>0</td>\n      <td>0</td>\n      <td>0</td>\n      <td>0</td>\n      <td>0</td>\n      <td>0</td>\n      <td>0</td>\n    </tr>\n    <tr>\n      <th>194092</th>\n      <td>2021123100100578</td>\n      <td>0</td>\n      <td>0</td>\n      <td>0</td>\n      <td>0</td>\n      <td>0</td>\n      <td>0</td>\n      <td>0</td>\n      <td>0</td>\n      <td>0</td>\n      <td>...</td>\n      <td>0</td>\n      <td>0</td>\n      <td>0</td>\n      <td>0</td>\n      <td>0</td>\n      <td>0</td>\n      <td>0</td>\n      <td>0</td>\n      <td>0</td>\n      <td>0</td>\n    </tr>\n    <tr>\n      <th>194093</th>\n      <td>2021123100100631</td>\n      <td>0</td>\n      <td>0</td>\n      <td>0</td>\n      <td>0</td>\n      <td>0</td>\n      <td>0</td>\n      <td>0</td>\n      <td>0</td>\n      <td>0</td>\n      <td>...</td>\n      <td>0</td>\n      <td>0</td>\n      <td>0</td>\n      <td>0</td>\n      <td>0</td>\n      <td>0</td>\n      <td>0</td>\n      <td>0</td>\n      <td>0</td>\n      <td>0</td>\n    </tr>\n  </tbody>\n</table>\n<p>184916 rows × 284 columns</p>\n</div>"
     },
     "execution_count": 37,
     "metadata": {},
     "output_type": "execute_result"
    }
   ],
   "source": [
    "encoded_df"
   ],
   "metadata": {
    "collapsed": false,
    "pycharm": {
     "name": "#%%\n"
    }
   }
  },
  {
   "cell_type": "code",
   "execution_count": 38,
   "outputs": [],
   "source": [
    "#독립변수와 종속변수로 분리하기\n",
    "y= 0* encoded_df['사고내용_경상사고'] + 1* encoded_df['사고내용_중상사고'] + 2*encoded_df['사고내용_사망사고']\n",
    "X= encoded_df.drop(['사고번호','사고내용_경상사고','사고내용_중상사고','사고내용_사망사고'],axis=1)\n",
    "\n",
    "#데이터 분할하기\n",
    "from sklearn.model_selection import train_test_split\n",
    "\n",
    "#전체 데이터중 70퍼센트를 학습에 30퍼센트를 테스트 데이터로 분리한다\n",
    "X_train, X_test, y_train, y_test = train_test_split(X,y,test_size=0.2)"
   ],
   "metadata": {
    "collapsed": false,
    "pycharm": {
     "name": "#%%\n"
    }
   }
  },
  {
   "cell_type": "code",
   "execution_count": 51,
   "outputs": [],
   "source": [
    "import optuna  # pip install optuna\n",
    "from sklearn.metrics import log_loss\n",
    "from sklearn.model_selection import StratifiedKFold\n",
    "\n",
    "def objective(trial, X, y):\n",
    "    param_grid = {}  # to be filled in later\n",
    "    cv = StratifiedKFold(n_splits=5, shuffle=True, random_state=1121218)\n",
    "\n",
    "    cv_scores = np.empty(5)\n",
    "    for idx, (train_idx, test_idx) in enumerate(cv.split(X, y)):\n",
    "        X_train, X_test = X.iloc[train_idx], X.iloc[test_idx]\n",
    "        y_train, y_test = y[train_idx], y[test_idx]\n",
    "\n",
    "        model = lgbm.LGBMClassifier(objective=\"multiclass\", **param_grid)\n",
    "        model.fit(\n",
    "            X_train,\n",
    "            y_train,\n",
    "            eval_set=[(X_test, y_test)],\n",
    "            eval_metric=\"multi_logloss\",\n",
    "            early_stopping_rounds=100,\n",
    "        )\n",
    "        preds = model.predict_proba(X_test)\n",
    "        cv_scores[idx] = preds\n",
    "\n",
    "    return np.mean(cv_scores)\n",
    "\n"
   ],
   "metadata": {
    "collapsed": false,
    "pycharm": {
     "name": "#%%\n"
    }
   }
  },
  {
   "cell_type": "code",
   "execution_count": 50,
   "outputs": [
    {
     "name": "stdout",
     "output_type": "stream",
     "text": [
      "Collecting package metadata (current_repodata.json): done\r\n",
      "Solving environment: done\r\n",
      "\r\n",
      "## Package Plan ##\r\n",
      "\r\n",
      "  environment location: /Users/wooseongkyun/miniforge3\r\n",
      "\r\n",
      "  added / updated specs:\r\n",
      "    - optuna\r\n",
      "\r\n",
      "\r\n",
      "The following packages will be downloaded:\r\n",
      "\r\n",
      "    package                    |            build\r\n",
      "    ---------------------------|-----------------\r\n",
      "    alembic-1.8.1              |     pyhd8ed1ab_0         137 KB  conda-forge\r\n",
      "    autopage-0.5.1             |     pyhd8ed1ab_0          26 KB  conda-forge\r\n",
      "    cliff-3.10.1               |     pyhd8ed1ab_0          53 KB  conda-forge\r\n",
      "    cmaes-0.8.2                |     pyh44b312d_0          16 KB  conda-forge\r\n",
      "    cmd2-2.4.2                 |   py39h2804cbe_0         211 KB  conda-forge\r\n",
      "    colorlog-6.6.0             |   py39h2804cbe_1          17 KB  conda-forge\r\n",
      "    greenlet-1.1.2             |   py39h0ef5a74_2          87 KB  conda-forge\r\n",
      "    mako-1.2.1                 |     pyhd8ed1ab_0          61 KB  conda-forge\r\n",
      "    optuna-2.10.1              |     pyhd8ed1ab_0         179 KB  conda-forge\r\n",
      "    pbr-5.9.0                  |     pyhd8ed1ab_0          72 KB  conda-forge\r\n",
      "    prettytable-3.3.0          |     pyhd8ed1ab_0          26 KB  conda-forge\r\n",
      "    pyperclip-1.8.2            |     pyhd8ed1ab_2          14 KB  conda-forge\r\n",
      "    pyyaml-6.0                 |   py39hb18efdd_4         166 KB  conda-forge\r\n",
      "    sqlalchemy-1.4.39          |   py39h9eb174b_0         2.4 MB  conda-forge\r\n",
      "    stevedore-4.0.0            |     pyhd8ed1ab_0          31 KB  conda-forge\r\n",
      "    ------------------------------------------------------------\r\n",
      "                                           Total:         3.4 MB\r\n",
      "\r\n",
      "The following NEW packages will be INSTALLED:\r\n",
      "\r\n",
      "  alembic            conda-forge/noarch::alembic-1.8.1-pyhd8ed1ab_0\r\n",
      "  autopage           conda-forge/noarch::autopage-0.5.1-pyhd8ed1ab_0\r\n",
      "  cliff              conda-forge/noarch::cliff-3.10.1-pyhd8ed1ab_0\r\n",
      "  cmaes              conda-forge/noarch::cmaes-0.8.2-pyh44b312d_0\r\n",
      "  cmd2               conda-forge/osx-arm64::cmd2-2.4.2-py39h2804cbe_0\r\n",
      "  colorlog           conda-forge/osx-arm64::colorlog-6.6.0-py39h2804cbe_1\r\n",
      "  greenlet           conda-forge/osx-arm64::greenlet-1.1.2-py39h0ef5a74_2\r\n",
      "  mako               conda-forge/noarch::mako-1.2.1-pyhd8ed1ab_0\r\n",
      "  optuna             conda-forge/noarch::optuna-2.10.1-pyhd8ed1ab_0\r\n",
      "  pbr                conda-forge/noarch::pbr-5.9.0-pyhd8ed1ab_0\r\n",
      "  prettytable        conda-forge/noarch::prettytable-3.3.0-pyhd8ed1ab_0\r\n",
      "  pyperclip          conda-forge/noarch::pyperclip-1.8.2-pyhd8ed1ab_2\r\n",
      "  pyyaml             conda-forge/osx-arm64::pyyaml-6.0-py39hb18efdd_4\r\n",
      "  sqlalchemy         conda-forge/osx-arm64::sqlalchemy-1.4.39-py39h9eb174b_0\r\n",
      "  stevedore          conda-forge/noarch::stevedore-4.0.0-pyhd8ed1ab_0\r\n",
      "\r\n",
      "\r\n",
      "\r\n",
      "Downloading and Extracting Packages\r\n",
      "optuna-2.10.1        | 179 KB    | ##################################### | 100% \r\n",
      "greenlet-1.1.2       | 87 KB     | ##################################### | 100% \r\n",
      "prettytable-3.3.0    | 26 KB     | ##################################### | 100% \r\n",
      "cliff-3.10.1         | 53 KB     | ##################################### | 100% \r\n",
      "autopage-0.5.1       | 26 KB     | ##################################### | 100% \r\n",
      "pbr-5.9.0            | 72 KB     | ##################################### | 100% \r\n",
      "cmaes-0.8.2          | 16 KB     | ##################################### | 100% \r\n",
      "mako-1.2.1           | 61 KB     | ##################################### | 100% \r\n",
      "pyyaml-6.0           | 166 KB    | ##################################### | 100% \r\n",
      "pyperclip-1.8.2      | 14 KB     | ##################################### | 100% \r\n",
      "alembic-1.8.1        | 137 KB    | ##################################### | 100% \r\n",
      "cmd2-2.4.2           | 211 KB    | ##################################### | 100% \r\n",
      "stevedore-4.0.0      | 31 KB     | ##################################### | 100% \r\n",
      "sqlalchemy-1.4.39    | 2.4 MB    | ##################################### | 100% \r\n",
      "colorlog-6.6.0       | 17 KB     | ##################################### | 100% \r\n",
      "Preparing transaction: done\r\n",
      "Verifying transaction: done\r\n",
      "Executing transaction: done\r\n",
      "\n",
      "Note: you may need to restart the kernel to use updated packages.\n"
     ]
    }
   ],
   "source": [
    "conda install optuna"
   ],
   "metadata": {
    "collapsed": false,
    "pycharm": {
     "name": "#%%\n"
    }
   }
  },
  {
   "cell_type": "code",
   "execution_count": 45,
   "outputs": [
    {
     "name": "stdout",
     "output_type": "stream",
     "text": [
      "  0%|          | 0/50 [00:00<?, ?trial/s, best loss=?]"
     ]
    },
    {
     "name": "stderr",
     "output_type": "stream",
     "text": [
      "/Users/wooseongkyun/miniforge3/lib/python3.9/site-packages/lightgbm/sklearn.py:726: UserWarning: 'early_stopping_rounds' argument is deprecated and will be removed in a future release of LightGBM. Pass 'early_stopping()' callback via 'callbacks' argument instead.\n",
      "  _log_warning(\"'early_stopping_rounds' argument is deprecated and will be removed in a future release of LightGBM. \"\n",
      "\n",
      "[LightGBM] [Fatal] Multiclass objective and metrics don't match\n",
      "job exception: Multiclass objective and metrics don't match\n",
      "\n"
     ]
    },
    {
     "name": "stdout",
     "output_type": "stream",
     "text": [
      "  0%|          | 0/50 [00:00<?, ?trial/s, best loss=?]\n"
     ]
    },
    {
     "ename": "LightGBMError",
     "evalue": "Multiclass objective and metrics don't match",
     "output_type": "error",
     "traceback": [
      "\u001B[0;31m---------------------------------------------------------------------------\u001B[0m",
      "\u001B[0;31mLightGBMError\u001B[0m                             Traceback (most recent call last)",
      "Input \u001B[0;32mIn [45]\u001B[0m, in \u001B[0;36m<cell line: 58>\u001B[0;34m()\u001B[0m\n\u001B[1;32m     56\u001B[0m trials\u001B[38;5;241m=\u001B[39m Trials()\n\u001B[1;32m     57\u001B[0m \u001B[38;5;66;03m#fmin() 함수를 호출, max_evals를 지정된 횟수만큼 반복 후 목적함수의 최솟값을 찾는  최적입력값을 추출한다\u001B[39;00m\n\u001B[0;32m---> 58\u001B[0m best\u001B[38;5;241m=\u001B[39m \u001B[43mfmin\u001B[49m\u001B[43m(\u001B[49m\u001B[43mfn\u001B[49m\u001B[38;5;241;43m=\u001B[39;49m\u001B[43mobjective_fun\u001B[49m\u001B[43m,\u001B[49m\u001B[43mspace\u001B[49m\u001B[38;5;241;43m=\u001B[39;49m\u001B[43mlgbm_search_space\u001B[49m\u001B[43m,\u001B[49m\u001B[43malgo\u001B[49m\u001B[38;5;241;43m=\u001B[39;49m\u001B[43mtpe\u001B[49m\u001B[38;5;241;43m.\u001B[39;49m\u001B[43msuggest\u001B[49m\u001B[43m,\u001B[49m\n\u001B[1;32m     59\u001B[0m \u001B[43m           \u001B[49m\u001B[43mtrials\u001B[49m\u001B[38;5;241;43m=\u001B[39;49m\u001B[43mtrials\u001B[49m\u001B[43m,\u001B[49m\u001B[43mrstate\u001B[49m\u001B[38;5;241;43m=\u001B[39;49m\u001B[43mnp\u001B[49m\u001B[38;5;241;43m.\u001B[39;49m\u001B[43mrandom\u001B[49m\u001B[38;5;241;43m.\u001B[39;49m\u001B[43mdefault_rng\u001B[49m\u001B[43m(\u001B[49m\u001B[43mseed\u001B[49m\u001B[38;5;241;43m=\u001B[39;49m\u001B[38;5;241;43m50\u001B[39;49m\u001B[43m)\u001B[49m\u001B[43m,\u001B[49m\u001B[43mmax_evals\u001B[49m\u001B[38;5;241;43m=\u001B[39;49m\u001B[38;5;241;43m50\u001B[39;49m\u001B[43m)\u001B[49m\n",
      "File \u001B[0;32m~/miniforge3/lib/python3.9/site-packages/hyperopt/fmin.py:540\u001B[0m, in \u001B[0;36mfmin\u001B[0;34m(fn, space, algo, max_evals, timeout, loss_threshold, trials, rstate, allow_trials_fmin, pass_expr_memo_ctrl, catch_eval_exceptions, verbose, return_argmin, points_to_evaluate, max_queue_len, show_progressbar, early_stop_fn, trials_save_file)\u001B[0m\n\u001B[1;32m    537\u001B[0m     fn \u001B[38;5;241m=\u001B[39m __objective_fmin_wrapper(fn)\n\u001B[1;32m    539\u001B[0m \u001B[38;5;28;01mif\u001B[39;00m allow_trials_fmin \u001B[38;5;129;01mand\u001B[39;00m \u001B[38;5;28mhasattr\u001B[39m(trials, \u001B[38;5;124m\"\u001B[39m\u001B[38;5;124mfmin\u001B[39m\u001B[38;5;124m\"\u001B[39m):\n\u001B[0;32m--> 540\u001B[0m     \u001B[38;5;28;01mreturn\u001B[39;00m \u001B[43mtrials\u001B[49m\u001B[38;5;241;43m.\u001B[39;49m\u001B[43mfmin\u001B[49m\u001B[43m(\u001B[49m\n\u001B[1;32m    541\u001B[0m \u001B[43m        \u001B[49m\u001B[43mfn\u001B[49m\u001B[43m,\u001B[49m\n\u001B[1;32m    542\u001B[0m \u001B[43m        \u001B[49m\u001B[43mspace\u001B[49m\u001B[43m,\u001B[49m\n\u001B[1;32m    543\u001B[0m \u001B[43m        \u001B[49m\u001B[43malgo\u001B[49m\u001B[38;5;241;43m=\u001B[39;49m\u001B[43malgo\u001B[49m\u001B[43m,\u001B[49m\n\u001B[1;32m    544\u001B[0m \u001B[43m        \u001B[49m\u001B[43mmax_evals\u001B[49m\u001B[38;5;241;43m=\u001B[39;49m\u001B[43mmax_evals\u001B[49m\u001B[43m,\u001B[49m\n\u001B[1;32m    545\u001B[0m \u001B[43m        \u001B[49m\u001B[43mtimeout\u001B[49m\u001B[38;5;241;43m=\u001B[39;49m\u001B[43mtimeout\u001B[49m\u001B[43m,\u001B[49m\n\u001B[1;32m    546\u001B[0m \u001B[43m        \u001B[49m\u001B[43mloss_threshold\u001B[49m\u001B[38;5;241;43m=\u001B[39;49m\u001B[43mloss_threshold\u001B[49m\u001B[43m,\u001B[49m\n\u001B[1;32m    547\u001B[0m \u001B[43m        \u001B[49m\u001B[43mmax_queue_len\u001B[49m\u001B[38;5;241;43m=\u001B[39;49m\u001B[43mmax_queue_len\u001B[49m\u001B[43m,\u001B[49m\n\u001B[1;32m    548\u001B[0m \u001B[43m        \u001B[49m\u001B[43mrstate\u001B[49m\u001B[38;5;241;43m=\u001B[39;49m\u001B[43mrstate\u001B[49m\u001B[43m,\u001B[49m\n\u001B[1;32m    549\u001B[0m \u001B[43m        \u001B[49m\u001B[43mpass_expr_memo_ctrl\u001B[49m\u001B[38;5;241;43m=\u001B[39;49m\u001B[43mpass_expr_memo_ctrl\u001B[49m\u001B[43m,\u001B[49m\n\u001B[1;32m    550\u001B[0m \u001B[43m        \u001B[49m\u001B[43mverbose\u001B[49m\u001B[38;5;241;43m=\u001B[39;49m\u001B[43mverbose\u001B[49m\u001B[43m,\u001B[49m\n\u001B[1;32m    551\u001B[0m \u001B[43m        \u001B[49m\u001B[43mcatch_eval_exceptions\u001B[49m\u001B[38;5;241;43m=\u001B[39;49m\u001B[43mcatch_eval_exceptions\u001B[49m\u001B[43m,\u001B[49m\n\u001B[1;32m    552\u001B[0m \u001B[43m        \u001B[49m\u001B[43mreturn_argmin\u001B[49m\u001B[38;5;241;43m=\u001B[39;49m\u001B[43mreturn_argmin\u001B[49m\u001B[43m,\u001B[49m\n\u001B[1;32m    553\u001B[0m \u001B[43m        \u001B[49m\u001B[43mshow_progressbar\u001B[49m\u001B[38;5;241;43m=\u001B[39;49m\u001B[43mshow_progressbar\u001B[49m\u001B[43m,\u001B[49m\n\u001B[1;32m    554\u001B[0m \u001B[43m        \u001B[49m\u001B[43mearly_stop_fn\u001B[49m\u001B[38;5;241;43m=\u001B[39;49m\u001B[43mearly_stop_fn\u001B[49m\u001B[43m,\u001B[49m\n\u001B[1;32m    555\u001B[0m \u001B[43m        \u001B[49m\u001B[43mtrials_save_file\u001B[49m\u001B[38;5;241;43m=\u001B[39;49m\u001B[43mtrials_save_file\u001B[49m\u001B[43m,\u001B[49m\n\u001B[1;32m    556\u001B[0m \u001B[43m    \u001B[49m\u001B[43m)\u001B[49m\n\u001B[1;32m    558\u001B[0m \u001B[38;5;28;01mif\u001B[39;00m trials \u001B[38;5;129;01mis\u001B[39;00m \u001B[38;5;28;01mNone\u001B[39;00m:\n\u001B[1;32m    559\u001B[0m     \u001B[38;5;28;01mif\u001B[39;00m os\u001B[38;5;241m.\u001B[39mpath\u001B[38;5;241m.\u001B[39mexists(trials_save_file):\n",
      "File \u001B[0;32m~/miniforge3/lib/python3.9/site-packages/hyperopt/base.py:671\u001B[0m, in \u001B[0;36mTrials.fmin\u001B[0;34m(self, fn, space, algo, max_evals, timeout, loss_threshold, max_queue_len, rstate, verbose, pass_expr_memo_ctrl, catch_eval_exceptions, return_argmin, show_progressbar, early_stop_fn, trials_save_file)\u001B[0m\n\u001B[1;32m    666\u001B[0m \u001B[38;5;66;03m# -- Stop-gap implementation!\u001B[39;00m\n\u001B[1;32m    667\u001B[0m \u001B[38;5;66;03m#    fmin should have been a Trials method in the first place\u001B[39;00m\n\u001B[1;32m    668\u001B[0m \u001B[38;5;66;03m#    but for now it's still sitting in another file.\u001B[39;00m\n\u001B[1;32m    669\u001B[0m \u001B[38;5;28;01mfrom\u001B[39;00m \u001B[38;5;21;01m.\u001B[39;00m\u001B[38;5;21;01mfmin\u001B[39;00m \u001B[38;5;28;01mimport\u001B[39;00m fmin\n\u001B[0;32m--> 671\u001B[0m \u001B[38;5;28;01mreturn\u001B[39;00m \u001B[43mfmin\u001B[49m\u001B[43m(\u001B[49m\n\u001B[1;32m    672\u001B[0m \u001B[43m    \u001B[49m\u001B[43mfn\u001B[49m\u001B[43m,\u001B[49m\n\u001B[1;32m    673\u001B[0m \u001B[43m    \u001B[49m\u001B[43mspace\u001B[49m\u001B[43m,\u001B[49m\n\u001B[1;32m    674\u001B[0m \u001B[43m    \u001B[49m\u001B[43malgo\u001B[49m\u001B[38;5;241;43m=\u001B[39;49m\u001B[43malgo\u001B[49m\u001B[43m,\u001B[49m\n\u001B[1;32m    675\u001B[0m \u001B[43m    \u001B[49m\u001B[43mmax_evals\u001B[49m\u001B[38;5;241;43m=\u001B[39;49m\u001B[43mmax_evals\u001B[49m\u001B[43m,\u001B[49m\n\u001B[1;32m    676\u001B[0m \u001B[43m    \u001B[49m\u001B[43mtimeout\u001B[49m\u001B[38;5;241;43m=\u001B[39;49m\u001B[43mtimeout\u001B[49m\u001B[43m,\u001B[49m\n\u001B[1;32m    677\u001B[0m \u001B[43m    \u001B[49m\u001B[43mloss_threshold\u001B[49m\u001B[38;5;241;43m=\u001B[39;49m\u001B[43mloss_threshold\u001B[49m\u001B[43m,\u001B[49m\n\u001B[1;32m    678\u001B[0m \u001B[43m    \u001B[49m\u001B[43mtrials\u001B[49m\u001B[38;5;241;43m=\u001B[39;49m\u001B[38;5;28;43mself\u001B[39;49m\u001B[43m,\u001B[49m\n\u001B[1;32m    679\u001B[0m \u001B[43m    \u001B[49m\u001B[43mrstate\u001B[49m\u001B[38;5;241;43m=\u001B[39;49m\u001B[43mrstate\u001B[49m\u001B[43m,\u001B[49m\n\u001B[1;32m    680\u001B[0m \u001B[43m    \u001B[49m\u001B[43mverbose\u001B[49m\u001B[38;5;241;43m=\u001B[39;49m\u001B[43mverbose\u001B[49m\u001B[43m,\u001B[49m\n\u001B[1;32m    681\u001B[0m \u001B[43m    \u001B[49m\u001B[43mmax_queue_len\u001B[49m\u001B[38;5;241;43m=\u001B[39;49m\u001B[43mmax_queue_len\u001B[49m\u001B[43m,\u001B[49m\n\u001B[1;32m    682\u001B[0m \u001B[43m    \u001B[49m\u001B[43mallow_trials_fmin\u001B[49m\u001B[38;5;241;43m=\u001B[39;49m\u001B[38;5;28;43;01mFalse\u001B[39;49;00m\u001B[43m,\u001B[49m\u001B[43m  \u001B[49m\u001B[38;5;66;43;03m# -- prevent recursion\u001B[39;49;00m\n\u001B[1;32m    683\u001B[0m \u001B[43m    \u001B[49m\u001B[43mpass_expr_memo_ctrl\u001B[49m\u001B[38;5;241;43m=\u001B[39;49m\u001B[43mpass_expr_memo_ctrl\u001B[49m\u001B[43m,\u001B[49m\n\u001B[1;32m    684\u001B[0m \u001B[43m    \u001B[49m\u001B[43mcatch_eval_exceptions\u001B[49m\u001B[38;5;241;43m=\u001B[39;49m\u001B[43mcatch_eval_exceptions\u001B[49m\u001B[43m,\u001B[49m\n\u001B[1;32m    685\u001B[0m \u001B[43m    \u001B[49m\u001B[43mreturn_argmin\u001B[49m\u001B[38;5;241;43m=\u001B[39;49m\u001B[43mreturn_argmin\u001B[49m\u001B[43m,\u001B[49m\n\u001B[1;32m    686\u001B[0m \u001B[43m    \u001B[49m\u001B[43mshow_progressbar\u001B[49m\u001B[38;5;241;43m=\u001B[39;49m\u001B[43mshow_progressbar\u001B[49m\u001B[43m,\u001B[49m\n\u001B[1;32m    687\u001B[0m \u001B[43m    \u001B[49m\u001B[43mearly_stop_fn\u001B[49m\u001B[38;5;241;43m=\u001B[39;49m\u001B[43mearly_stop_fn\u001B[49m\u001B[43m,\u001B[49m\n\u001B[1;32m    688\u001B[0m \u001B[43m    \u001B[49m\u001B[43mtrials_save_file\u001B[49m\u001B[38;5;241;43m=\u001B[39;49m\u001B[43mtrials_save_file\u001B[49m\u001B[43m,\u001B[49m\n\u001B[1;32m    689\u001B[0m \u001B[43m\u001B[49m\u001B[43m)\u001B[49m\n",
      "File \u001B[0;32m~/miniforge3/lib/python3.9/site-packages/hyperopt/fmin.py:586\u001B[0m, in \u001B[0;36mfmin\u001B[0;34m(fn, space, algo, max_evals, timeout, loss_threshold, trials, rstate, allow_trials_fmin, pass_expr_memo_ctrl, catch_eval_exceptions, verbose, return_argmin, points_to_evaluate, max_queue_len, show_progressbar, early_stop_fn, trials_save_file)\u001B[0m\n\u001B[1;32m    583\u001B[0m rval\u001B[38;5;241m.\u001B[39mcatch_eval_exceptions \u001B[38;5;241m=\u001B[39m catch_eval_exceptions\n\u001B[1;32m    585\u001B[0m \u001B[38;5;66;03m# next line is where the fmin is actually executed\u001B[39;00m\n\u001B[0;32m--> 586\u001B[0m \u001B[43mrval\u001B[49m\u001B[38;5;241;43m.\u001B[39;49m\u001B[43mexhaust\u001B[49m\u001B[43m(\u001B[49m\u001B[43m)\u001B[49m\n\u001B[1;32m    588\u001B[0m \u001B[38;5;28;01mif\u001B[39;00m return_argmin:\n\u001B[1;32m    589\u001B[0m     \u001B[38;5;28;01mif\u001B[39;00m \u001B[38;5;28mlen\u001B[39m(trials\u001B[38;5;241m.\u001B[39mtrials) \u001B[38;5;241m==\u001B[39m \u001B[38;5;241m0\u001B[39m:\n",
      "File \u001B[0;32m~/miniforge3/lib/python3.9/site-packages/hyperopt/fmin.py:364\u001B[0m, in \u001B[0;36mFMinIter.exhaust\u001B[0;34m(self)\u001B[0m\n\u001B[1;32m    362\u001B[0m \u001B[38;5;28;01mdef\u001B[39;00m \u001B[38;5;21mexhaust\u001B[39m(\u001B[38;5;28mself\u001B[39m):\n\u001B[1;32m    363\u001B[0m     n_done \u001B[38;5;241m=\u001B[39m \u001B[38;5;28mlen\u001B[39m(\u001B[38;5;28mself\u001B[39m\u001B[38;5;241m.\u001B[39mtrials)\n\u001B[0;32m--> 364\u001B[0m     \u001B[38;5;28;43mself\u001B[39;49m\u001B[38;5;241;43m.\u001B[39;49m\u001B[43mrun\u001B[49m\u001B[43m(\u001B[49m\u001B[38;5;28;43mself\u001B[39;49m\u001B[38;5;241;43m.\u001B[39;49m\u001B[43mmax_evals\u001B[49m\u001B[43m \u001B[49m\u001B[38;5;241;43m-\u001B[39;49m\u001B[43m \u001B[49m\u001B[43mn_done\u001B[49m\u001B[43m,\u001B[49m\u001B[43m \u001B[49m\u001B[43mblock_until_done\u001B[49m\u001B[38;5;241;43m=\u001B[39;49m\u001B[38;5;28;43mself\u001B[39;49m\u001B[38;5;241;43m.\u001B[39;49m\u001B[43masynchronous\u001B[49m\u001B[43m)\u001B[49m\n\u001B[1;32m    365\u001B[0m     \u001B[38;5;28mself\u001B[39m\u001B[38;5;241m.\u001B[39mtrials\u001B[38;5;241m.\u001B[39mrefresh()\n\u001B[1;32m    366\u001B[0m     \u001B[38;5;28;01mreturn\u001B[39;00m \u001B[38;5;28mself\u001B[39m\n",
      "File \u001B[0;32m~/miniforge3/lib/python3.9/site-packages/hyperopt/fmin.py:300\u001B[0m, in \u001B[0;36mFMinIter.run\u001B[0;34m(self, N, block_until_done)\u001B[0m\n\u001B[1;32m    297\u001B[0m     time\u001B[38;5;241m.\u001B[39msleep(\u001B[38;5;28mself\u001B[39m\u001B[38;5;241m.\u001B[39mpoll_interval_secs)\n\u001B[1;32m    298\u001B[0m \u001B[38;5;28;01melse\u001B[39;00m:\n\u001B[1;32m    299\u001B[0m     \u001B[38;5;66;03m# -- loop over trials and do the jobs directly\u001B[39;00m\n\u001B[0;32m--> 300\u001B[0m     \u001B[38;5;28;43mself\u001B[39;49m\u001B[38;5;241;43m.\u001B[39;49m\u001B[43mserial_evaluate\u001B[49m\u001B[43m(\u001B[49m\u001B[43m)\u001B[49m\n\u001B[1;32m    302\u001B[0m \u001B[38;5;28mself\u001B[39m\u001B[38;5;241m.\u001B[39mtrials\u001B[38;5;241m.\u001B[39mrefresh()\n\u001B[1;32m    303\u001B[0m \u001B[38;5;28;01mif\u001B[39;00m \u001B[38;5;28mself\u001B[39m\u001B[38;5;241m.\u001B[39mtrials_save_file \u001B[38;5;241m!=\u001B[39m \u001B[38;5;124m\"\u001B[39m\u001B[38;5;124m\"\u001B[39m:\n",
      "File \u001B[0;32m~/miniforge3/lib/python3.9/site-packages/hyperopt/fmin.py:178\u001B[0m, in \u001B[0;36mFMinIter.serial_evaluate\u001B[0;34m(self, N)\u001B[0m\n\u001B[1;32m    176\u001B[0m ctrl \u001B[38;5;241m=\u001B[39m base\u001B[38;5;241m.\u001B[39mCtrl(\u001B[38;5;28mself\u001B[39m\u001B[38;5;241m.\u001B[39mtrials, current_trial\u001B[38;5;241m=\u001B[39mtrial)\n\u001B[1;32m    177\u001B[0m \u001B[38;5;28;01mtry\u001B[39;00m:\n\u001B[0;32m--> 178\u001B[0m     result \u001B[38;5;241m=\u001B[39m \u001B[38;5;28;43mself\u001B[39;49m\u001B[38;5;241;43m.\u001B[39;49m\u001B[43mdomain\u001B[49m\u001B[38;5;241;43m.\u001B[39;49m\u001B[43mevaluate\u001B[49m\u001B[43m(\u001B[49m\u001B[43mspec\u001B[49m\u001B[43m,\u001B[49m\u001B[43m \u001B[49m\u001B[43mctrl\u001B[49m\u001B[43m)\u001B[49m\n\u001B[1;32m    179\u001B[0m \u001B[38;5;28;01mexcept\u001B[39;00m \u001B[38;5;167;01mException\u001B[39;00m \u001B[38;5;28;01mas\u001B[39;00m e:\n\u001B[1;32m    180\u001B[0m     logger\u001B[38;5;241m.\u001B[39merror(\u001B[38;5;124m\"\u001B[39m\u001B[38;5;124mjob exception: \u001B[39m\u001B[38;5;132;01m%s\u001B[39;00m\u001B[38;5;124m\"\u001B[39m \u001B[38;5;241m%\u001B[39m \u001B[38;5;28mstr\u001B[39m(e))\n",
      "File \u001B[0;32m~/miniforge3/lib/python3.9/site-packages/hyperopt/base.py:892\u001B[0m, in \u001B[0;36mDomain.evaluate\u001B[0;34m(self, config, ctrl, attach_attachments)\u001B[0m\n\u001B[1;32m    883\u001B[0m \u001B[38;5;28;01melse\u001B[39;00m:\n\u001B[1;32m    884\u001B[0m     \u001B[38;5;66;03m# -- the \"work\" of evaluating `config` can be written\u001B[39;00m\n\u001B[1;32m    885\u001B[0m     \u001B[38;5;66;03m#    either into the pyll part (self.expr)\u001B[39;00m\n\u001B[1;32m    886\u001B[0m     \u001B[38;5;66;03m#    or the normal Python part (self.fn)\u001B[39;00m\n\u001B[1;32m    887\u001B[0m     pyll_rval \u001B[38;5;241m=\u001B[39m pyll\u001B[38;5;241m.\u001B[39mrec_eval(\n\u001B[1;32m    888\u001B[0m         \u001B[38;5;28mself\u001B[39m\u001B[38;5;241m.\u001B[39mexpr,\n\u001B[1;32m    889\u001B[0m         memo\u001B[38;5;241m=\u001B[39mmemo,\n\u001B[1;32m    890\u001B[0m         print_node_on_error\u001B[38;5;241m=\u001B[39m\u001B[38;5;28mself\u001B[39m\u001B[38;5;241m.\u001B[39mrec_eval_print_node_on_error,\n\u001B[1;32m    891\u001B[0m     )\n\u001B[0;32m--> 892\u001B[0m     rval \u001B[38;5;241m=\u001B[39m \u001B[38;5;28;43mself\u001B[39;49m\u001B[38;5;241;43m.\u001B[39;49m\u001B[43mfn\u001B[49m\u001B[43m(\u001B[49m\u001B[43mpyll_rval\u001B[49m\u001B[43m)\u001B[49m\n\u001B[1;32m    894\u001B[0m \u001B[38;5;28;01mif\u001B[39;00m \u001B[38;5;28misinstance\u001B[39m(rval, (\u001B[38;5;28mfloat\u001B[39m, \u001B[38;5;28mint\u001B[39m, np\u001B[38;5;241m.\u001B[39mnumber)):\n\u001B[1;32m    895\u001B[0m     dict_rval \u001B[38;5;241m=\u001B[39m {\u001B[38;5;124m\"\u001B[39m\u001B[38;5;124mloss\u001B[39m\u001B[38;5;124m\"\u001B[39m: \u001B[38;5;28mfloat\u001B[39m(rval), \u001B[38;5;124m\"\u001B[39m\u001B[38;5;124mstatus\u001B[39m\u001B[38;5;124m\"\u001B[39m: STATUS_OK}\n",
      "Input \u001B[0;32mIn [45]\u001B[0m, in \u001B[0;36mobjective_fun\u001B[0;34m(search_space)\u001B[0m\n\u001B[1;32m     43\u001B[0m X_val,y_val\u001B[38;5;241m=\u001B[39mX_train\u001B[38;5;241m.\u001B[39miloc[val_idx], y_train\u001B[38;5;241m.\u001B[39miloc[val_idx]\n\u001B[1;32m     45\u001B[0m \u001B[38;5;66;03m#early stopping은 100회로 설정하고 추출된 학습과 검증 데이터로 lgbm_classfier를 수행한다\u001B[39;00m\n\u001B[0;32m---> 46\u001B[0m \u001B[43mlgbm_clf\u001B[49m\u001B[38;5;241;43m.\u001B[39;49m\u001B[43mfit\u001B[49m\u001B[43m(\u001B[49m\u001B[43mX_tr\u001B[49m\u001B[43m,\u001B[49m\u001B[43my_tr\u001B[49m\u001B[43m,\u001B[49m\u001B[43mearly_stopping_rounds\u001B[49m\u001B[38;5;241;43m=\u001B[39;49m\u001B[38;5;241;43m30\u001B[39;49m\u001B[43m,\u001B[49m\u001B[43meval_metric\u001B[49m\u001B[38;5;241;43m=\u001B[39;49m\u001B[38;5;124;43m'\u001B[39;49m\u001B[38;5;124;43mauc\u001B[39;49m\u001B[38;5;124;43m'\u001B[39;49m\u001B[43m,\u001B[49m\u001B[43meval_set\u001B[49m\u001B[38;5;241;43m=\u001B[39;49m\u001B[43m[\u001B[49m\u001B[43m(\u001B[49m\u001B[43mX_tr\u001B[49m\u001B[43m,\u001B[49m\u001B[43my_tr\u001B[49m\u001B[43m)\u001B[49m\u001B[43m,\u001B[49m\u001B[43m(\u001B[49m\u001B[43mX_val\u001B[49m\u001B[43m,\u001B[49m\u001B[43my_val\u001B[49m\u001B[43m)\u001B[49m\u001B[43m]\u001B[49m\u001B[43m)\u001B[49m\n\u001B[1;32m     48\u001B[0m \u001B[38;5;66;03m#1로 예측한 확률값 추출 후 roc_auc를 계산하고 평균 roc_auc를 계산하기 위해 list에 결과값을 담는다\u001B[39;00m\n\u001B[1;32m     49\u001B[0m score\u001B[38;5;241m=\u001B[39m roc_auc_score(y_val,lgbm_clf\u001B[38;5;241m.\u001B[39mpredict_proba(X_val)[:,\u001B[38;5;241m1\u001B[39m])\n",
      "File \u001B[0;32m~/miniforge3/lib/python3.9/site-packages/lightgbm/sklearn.py:967\u001B[0m, in \u001B[0;36mLGBMClassifier.fit\u001B[0;34m(self, X, y, sample_weight, init_score, eval_set, eval_names, eval_sample_weight, eval_class_weight, eval_init_score, eval_metric, early_stopping_rounds, verbose, feature_name, categorical_feature, callbacks, init_model)\u001B[0m\n\u001B[1;32m    964\u001B[0m         \u001B[38;5;28;01melse\u001B[39;00m:\n\u001B[1;32m    965\u001B[0m             valid_sets[i] \u001B[38;5;241m=\u001B[39m (valid_x, \u001B[38;5;28mself\u001B[39m\u001B[38;5;241m.\u001B[39m_le\u001B[38;5;241m.\u001B[39mtransform(valid_y))\n\u001B[0;32m--> 967\u001B[0m \u001B[38;5;28;43msuper\u001B[39;49m\u001B[43m(\u001B[49m\u001B[43m)\u001B[49m\u001B[38;5;241;43m.\u001B[39;49m\u001B[43mfit\u001B[49m\u001B[43m(\u001B[49m\u001B[43mX\u001B[49m\u001B[43m,\u001B[49m\u001B[43m \u001B[49m\u001B[43m_y\u001B[49m\u001B[43m,\u001B[49m\u001B[43m \u001B[49m\u001B[43msample_weight\u001B[49m\u001B[38;5;241;43m=\u001B[39;49m\u001B[43msample_weight\u001B[49m\u001B[43m,\u001B[49m\u001B[43m \u001B[49m\u001B[43minit_score\u001B[49m\u001B[38;5;241;43m=\u001B[39;49m\u001B[43minit_score\u001B[49m\u001B[43m,\u001B[49m\u001B[43m \u001B[49m\u001B[43meval_set\u001B[49m\u001B[38;5;241;43m=\u001B[39;49m\u001B[43mvalid_sets\u001B[49m\u001B[43m,\u001B[49m\n\u001B[1;32m    968\u001B[0m \u001B[43m            \u001B[49m\u001B[43meval_names\u001B[49m\u001B[38;5;241;43m=\u001B[39;49m\u001B[43meval_names\u001B[49m\u001B[43m,\u001B[49m\u001B[43m \u001B[49m\u001B[43meval_sample_weight\u001B[49m\u001B[38;5;241;43m=\u001B[39;49m\u001B[43meval_sample_weight\u001B[49m\u001B[43m,\u001B[49m\n\u001B[1;32m    969\u001B[0m \u001B[43m            \u001B[49m\u001B[43meval_class_weight\u001B[49m\u001B[38;5;241;43m=\u001B[39;49m\u001B[43meval_class_weight\u001B[49m\u001B[43m,\u001B[49m\u001B[43m \u001B[49m\u001B[43meval_init_score\u001B[49m\u001B[38;5;241;43m=\u001B[39;49m\u001B[43meval_init_score\u001B[49m\u001B[43m,\u001B[49m\n\u001B[1;32m    970\u001B[0m \u001B[43m            \u001B[49m\u001B[43meval_metric\u001B[49m\u001B[38;5;241;43m=\u001B[39;49m\u001B[43meval_metric\u001B[49m\u001B[43m,\u001B[49m\u001B[43m \u001B[49m\u001B[43mearly_stopping_rounds\u001B[49m\u001B[38;5;241;43m=\u001B[39;49m\u001B[43mearly_stopping_rounds\u001B[49m\u001B[43m,\u001B[49m\n\u001B[1;32m    971\u001B[0m \u001B[43m            \u001B[49m\u001B[43mverbose\u001B[49m\u001B[38;5;241;43m=\u001B[39;49m\u001B[43mverbose\u001B[49m\u001B[43m,\u001B[49m\u001B[43m \u001B[49m\u001B[43mfeature_name\u001B[49m\u001B[38;5;241;43m=\u001B[39;49m\u001B[43mfeature_name\u001B[49m\u001B[43m,\u001B[49m\u001B[43m \u001B[49m\u001B[43mcategorical_feature\u001B[49m\u001B[38;5;241;43m=\u001B[39;49m\u001B[43mcategorical_feature\u001B[49m\u001B[43m,\u001B[49m\n\u001B[1;32m    972\u001B[0m \u001B[43m            \u001B[49m\u001B[43mcallbacks\u001B[49m\u001B[38;5;241;43m=\u001B[39;49m\u001B[43mcallbacks\u001B[49m\u001B[43m,\u001B[49m\u001B[43m \u001B[49m\u001B[43minit_model\u001B[49m\u001B[38;5;241;43m=\u001B[39;49m\u001B[43minit_model\u001B[49m\u001B[43m)\u001B[49m\n\u001B[1;32m    973\u001B[0m \u001B[38;5;28;01mreturn\u001B[39;00m \u001B[38;5;28mself\u001B[39m\n",
      "File \u001B[0;32m~/miniforge3/lib/python3.9/site-packages/lightgbm/sklearn.py:748\u001B[0m, in \u001B[0;36mLGBMModel.fit\u001B[0;34m(self, X, y, sample_weight, init_score, group, eval_set, eval_names, eval_sample_weight, eval_class_weight, eval_init_score, eval_group, eval_metric, early_stopping_rounds, verbose, feature_name, categorical_feature, callbacks, init_model)\u001B[0m\n\u001B[1;32m    745\u001B[0m evals_result \u001B[38;5;241m=\u001B[39m {}\n\u001B[1;32m    746\u001B[0m callbacks\u001B[38;5;241m.\u001B[39mappend(record_evaluation(evals_result))\n\u001B[0;32m--> 748\u001B[0m \u001B[38;5;28mself\u001B[39m\u001B[38;5;241m.\u001B[39m_Booster \u001B[38;5;241m=\u001B[39m \u001B[43mtrain\u001B[49m\u001B[43m(\u001B[49m\n\u001B[1;32m    749\u001B[0m \u001B[43m    \u001B[49m\u001B[43mparams\u001B[49m\u001B[38;5;241;43m=\u001B[39;49m\u001B[43mparams\u001B[49m\u001B[43m,\u001B[49m\n\u001B[1;32m    750\u001B[0m \u001B[43m    \u001B[49m\u001B[43mtrain_set\u001B[49m\u001B[38;5;241;43m=\u001B[39;49m\u001B[43mtrain_set\u001B[49m\u001B[43m,\u001B[49m\n\u001B[1;32m    751\u001B[0m \u001B[43m    \u001B[49m\u001B[43mnum_boost_round\u001B[49m\u001B[38;5;241;43m=\u001B[39;49m\u001B[38;5;28;43mself\u001B[39;49m\u001B[38;5;241;43m.\u001B[39;49m\u001B[43mn_estimators\u001B[49m\u001B[43m,\u001B[49m\n\u001B[1;32m    752\u001B[0m \u001B[43m    \u001B[49m\u001B[43mvalid_sets\u001B[49m\u001B[38;5;241;43m=\u001B[39;49m\u001B[43mvalid_sets\u001B[49m\u001B[43m,\u001B[49m\n\u001B[1;32m    753\u001B[0m \u001B[43m    \u001B[49m\u001B[43mvalid_names\u001B[49m\u001B[38;5;241;43m=\u001B[39;49m\u001B[43meval_names\u001B[49m\u001B[43m,\u001B[49m\n\u001B[1;32m    754\u001B[0m \u001B[43m    \u001B[49m\u001B[43mfobj\u001B[49m\u001B[38;5;241;43m=\u001B[39;49m\u001B[38;5;28;43mself\u001B[39;49m\u001B[38;5;241;43m.\u001B[39;49m\u001B[43m_fobj\u001B[49m\u001B[43m,\u001B[49m\n\u001B[1;32m    755\u001B[0m \u001B[43m    \u001B[49m\u001B[43mfeval\u001B[49m\u001B[38;5;241;43m=\u001B[39;49m\u001B[43meval_metrics_callable\u001B[49m\u001B[43m,\u001B[49m\n\u001B[1;32m    756\u001B[0m \u001B[43m    \u001B[49m\u001B[43minit_model\u001B[49m\u001B[38;5;241;43m=\u001B[39;49m\u001B[43minit_model\u001B[49m\u001B[43m,\u001B[49m\n\u001B[1;32m    757\u001B[0m \u001B[43m    \u001B[49m\u001B[43mfeature_name\u001B[49m\u001B[38;5;241;43m=\u001B[39;49m\u001B[43mfeature_name\u001B[49m\u001B[43m,\u001B[49m\n\u001B[1;32m    758\u001B[0m \u001B[43m    \u001B[49m\u001B[43mcallbacks\u001B[49m\u001B[38;5;241;43m=\u001B[39;49m\u001B[43mcallbacks\u001B[49m\n\u001B[1;32m    759\u001B[0m \u001B[43m\u001B[49m\u001B[43m)\u001B[49m\n\u001B[1;32m    761\u001B[0m \u001B[38;5;28;01mif\u001B[39;00m evals_result:\n\u001B[1;32m    762\u001B[0m     \u001B[38;5;28mself\u001B[39m\u001B[38;5;241m.\u001B[39m_evals_result \u001B[38;5;241m=\u001B[39m evals_result\n",
      "File \u001B[0;32m~/miniforge3/lib/python3.9/site-packages/lightgbm/engine.py:271\u001B[0m, in \u001B[0;36mtrain\u001B[0;34m(params, train_set, num_boost_round, valid_sets, valid_names, fobj, feval, init_model, feature_name, categorical_feature, early_stopping_rounds, evals_result, verbose_eval, learning_rates, keep_training_booster, callbacks)\u001B[0m\n\u001B[1;32m    269\u001B[0m \u001B[38;5;66;03m# construct booster\u001B[39;00m\n\u001B[1;32m    270\u001B[0m \u001B[38;5;28;01mtry\u001B[39;00m:\n\u001B[0;32m--> 271\u001B[0m     booster \u001B[38;5;241m=\u001B[39m \u001B[43mBooster\u001B[49m\u001B[43m(\u001B[49m\u001B[43mparams\u001B[49m\u001B[38;5;241;43m=\u001B[39;49m\u001B[43mparams\u001B[49m\u001B[43m,\u001B[49m\u001B[43m \u001B[49m\u001B[43mtrain_set\u001B[49m\u001B[38;5;241;43m=\u001B[39;49m\u001B[43mtrain_set\u001B[49m\u001B[43m)\u001B[49m\n\u001B[1;32m    272\u001B[0m     \u001B[38;5;28;01mif\u001B[39;00m is_valid_contain_train:\n\u001B[1;32m    273\u001B[0m         booster\u001B[38;5;241m.\u001B[39mset_train_data_name(train_data_name)\n",
      "File \u001B[0;32m~/miniforge3/lib/python3.9/site-packages/lightgbm/basic.py:2605\u001B[0m, in \u001B[0;36mBooster.__init__\u001B[0;34m(self, params, train_set, model_file, model_str, silent)\u001B[0m\n\u001B[1;32m   2598\u001B[0m     \u001B[38;5;28mself\u001B[39m\u001B[38;5;241m.\u001B[39mset_network(\n\u001B[1;32m   2599\u001B[0m         machines\u001B[38;5;241m=\u001B[39mmachines,\n\u001B[1;32m   2600\u001B[0m         local_listen_port\u001B[38;5;241m=\u001B[39mparams[\u001B[38;5;124m\"\u001B[39m\u001B[38;5;124mlocal_listen_port\u001B[39m\u001B[38;5;124m\"\u001B[39m],\n\u001B[1;32m   2601\u001B[0m         listen_time_out\u001B[38;5;241m=\u001B[39mparams\u001B[38;5;241m.\u001B[39mget(\u001B[38;5;124m\"\u001B[39m\u001B[38;5;124mtime_out\u001B[39m\u001B[38;5;124m\"\u001B[39m, \u001B[38;5;241m120\u001B[39m),\n\u001B[1;32m   2602\u001B[0m         num_machines\u001B[38;5;241m=\u001B[39mparams[\u001B[38;5;124m\"\u001B[39m\u001B[38;5;124mnum_machines\u001B[39m\u001B[38;5;124m\"\u001B[39m]\n\u001B[1;32m   2603\u001B[0m     )\n\u001B[1;32m   2604\u001B[0m \u001B[38;5;66;03m# construct booster object\u001B[39;00m\n\u001B[0;32m-> 2605\u001B[0m \u001B[43mtrain_set\u001B[49m\u001B[38;5;241;43m.\u001B[39;49m\u001B[43mconstruct\u001B[49m\u001B[43m(\u001B[49m\u001B[43m)\u001B[49m\n\u001B[1;32m   2606\u001B[0m \u001B[38;5;66;03m# copy the parameters from train_set\u001B[39;00m\n\u001B[1;32m   2607\u001B[0m params\u001B[38;5;241m.\u001B[39mupdate(train_set\u001B[38;5;241m.\u001B[39mget_params())\n",
      "File \u001B[0;32m~/miniforge3/lib/python3.9/site-packages/lightgbm/basic.py:1815\u001B[0m, in \u001B[0;36mDataset.construct\u001B[0;34m(self)\u001B[0m\n\u001B[1;32m   1812\u001B[0m             \u001B[38;5;28mself\u001B[39m\u001B[38;5;241m.\u001B[39m_set_init_score_by_predictor(\u001B[38;5;28mself\u001B[39m\u001B[38;5;241m.\u001B[39m_predictor, \u001B[38;5;28mself\u001B[39m\u001B[38;5;241m.\u001B[39mdata, used_indices)\n\u001B[1;32m   1813\u001B[0m \u001B[38;5;28;01melse\u001B[39;00m:\n\u001B[1;32m   1814\u001B[0m     \u001B[38;5;66;03m# create train\u001B[39;00m\n\u001B[0;32m-> 1815\u001B[0m     \u001B[38;5;28;43mself\u001B[39;49m\u001B[38;5;241;43m.\u001B[39;49m\u001B[43m_lazy_init\u001B[49m\u001B[43m(\u001B[49m\u001B[38;5;28;43mself\u001B[39;49m\u001B[38;5;241;43m.\u001B[39;49m\u001B[43mdata\u001B[49m\u001B[43m,\u001B[49m\u001B[43m \u001B[49m\u001B[43mlabel\u001B[49m\u001B[38;5;241;43m=\u001B[39;49m\u001B[38;5;28;43mself\u001B[39;49m\u001B[38;5;241;43m.\u001B[39;49m\u001B[43mlabel\u001B[49m\u001B[43m,\u001B[49m\n\u001B[1;32m   1816\u001B[0m \u001B[43m                    \u001B[49m\u001B[43mweight\u001B[49m\u001B[38;5;241;43m=\u001B[39;49m\u001B[38;5;28;43mself\u001B[39;49m\u001B[38;5;241;43m.\u001B[39;49m\u001B[43mweight\u001B[49m\u001B[43m,\u001B[49m\u001B[43m \u001B[49m\u001B[43mgroup\u001B[49m\u001B[38;5;241;43m=\u001B[39;49m\u001B[38;5;28;43mself\u001B[39;49m\u001B[38;5;241;43m.\u001B[39;49m\u001B[43mgroup\u001B[49m\u001B[43m,\u001B[49m\n\u001B[1;32m   1817\u001B[0m \u001B[43m                    \u001B[49m\u001B[43minit_score\u001B[49m\u001B[38;5;241;43m=\u001B[39;49m\u001B[38;5;28;43mself\u001B[39;49m\u001B[38;5;241;43m.\u001B[39;49m\u001B[43minit_score\u001B[49m\u001B[43m,\u001B[49m\u001B[43m \u001B[49m\u001B[43mpredictor\u001B[49m\u001B[38;5;241;43m=\u001B[39;49m\u001B[38;5;28;43mself\u001B[39;49m\u001B[38;5;241;43m.\u001B[39;49m\u001B[43m_predictor\u001B[49m\u001B[43m,\u001B[49m\n\u001B[1;32m   1818\u001B[0m \u001B[43m                    \u001B[49m\u001B[43msilent\u001B[49m\u001B[38;5;241;43m=\u001B[39;49m\u001B[38;5;28;43mself\u001B[39;49m\u001B[38;5;241;43m.\u001B[39;49m\u001B[43msilent\u001B[49m\u001B[43m,\u001B[49m\u001B[43m \u001B[49m\u001B[43mfeature_name\u001B[49m\u001B[38;5;241;43m=\u001B[39;49m\u001B[38;5;28;43mself\u001B[39;49m\u001B[38;5;241;43m.\u001B[39;49m\u001B[43mfeature_name\u001B[49m\u001B[43m,\u001B[49m\n\u001B[1;32m   1819\u001B[0m \u001B[43m                    \u001B[49m\u001B[43mcategorical_feature\u001B[49m\u001B[38;5;241;43m=\u001B[39;49m\u001B[38;5;28;43mself\u001B[39;49m\u001B[38;5;241;43m.\u001B[39;49m\u001B[43mcategorical_feature\u001B[49m\u001B[43m,\u001B[49m\u001B[43m \u001B[49m\u001B[43mparams\u001B[49m\u001B[38;5;241;43m=\u001B[39;49m\u001B[38;5;28;43mself\u001B[39;49m\u001B[38;5;241;43m.\u001B[39;49m\u001B[43mparams\u001B[49m\u001B[43m)\u001B[49m\n\u001B[1;32m   1820\u001B[0m \u001B[38;5;28;01mif\u001B[39;00m \u001B[38;5;28mself\u001B[39m\u001B[38;5;241m.\u001B[39mfree_raw_data:\n\u001B[1;32m   1821\u001B[0m     \u001B[38;5;28mself\u001B[39m\u001B[38;5;241m.\u001B[39mdata \u001B[38;5;241m=\u001B[39m \u001B[38;5;28;01mNone\u001B[39;00m\n",
      "File \u001B[0;32m~/miniforge3/lib/python3.9/site-packages/lightgbm/basic.py:1538\u001B[0m, in \u001B[0;36mDataset._lazy_init\u001B[0;34m(self, data, label, reference, weight, group, init_score, predictor, silent, feature_name, categorical_feature, params)\u001B[0m\n\u001B[1;32m   1536\u001B[0m     \u001B[38;5;28mself\u001B[39m\u001B[38;5;241m.\u001B[39m__init_from_csc(data, params_str, ref_dataset)\n\u001B[1;32m   1537\u001B[0m \u001B[38;5;28;01melif\u001B[39;00m \u001B[38;5;28misinstance\u001B[39m(data, np\u001B[38;5;241m.\u001B[39mndarray):\n\u001B[0;32m-> 1538\u001B[0m     \u001B[38;5;28;43mself\u001B[39;49m\u001B[38;5;241;43m.\u001B[39;49m\u001B[43m__init_from_np2d\u001B[49m\u001B[43m(\u001B[49m\u001B[43mdata\u001B[49m\u001B[43m,\u001B[49m\u001B[43m \u001B[49m\u001B[43mparams_str\u001B[49m\u001B[43m,\u001B[49m\u001B[43m \u001B[49m\u001B[43mref_dataset\u001B[49m\u001B[43m)\u001B[49m\n\u001B[1;32m   1539\u001B[0m \u001B[38;5;28;01melif\u001B[39;00m \u001B[38;5;28misinstance\u001B[39m(data, \u001B[38;5;28mlist\u001B[39m) \u001B[38;5;129;01mand\u001B[39;00m \u001B[38;5;28mlen\u001B[39m(data) \u001B[38;5;241m>\u001B[39m \u001B[38;5;241m0\u001B[39m:\n\u001B[1;32m   1540\u001B[0m     \u001B[38;5;28;01mif\u001B[39;00m \u001B[38;5;28mall\u001B[39m(\u001B[38;5;28misinstance\u001B[39m(x, np\u001B[38;5;241m.\u001B[39mndarray) \u001B[38;5;28;01mfor\u001B[39;00m x \u001B[38;5;129;01min\u001B[39;00m data):\n",
      "File \u001B[0;32m~/miniforge3/lib/python3.9/site-packages/lightgbm/basic.py:1659\u001B[0m, in \u001B[0;36mDataset.__init_from_np2d\u001B[0;34m(self, mat, params_str, ref_dataset)\u001B[0m\n\u001B[1;32m   1656\u001B[0m     data \u001B[38;5;241m=\u001B[39m np\u001B[38;5;241m.\u001B[39marray(mat\u001B[38;5;241m.\u001B[39mreshape(mat\u001B[38;5;241m.\u001B[39msize), dtype\u001B[38;5;241m=\u001B[39mnp\u001B[38;5;241m.\u001B[39mfloat32)\n\u001B[1;32m   1658\u001B[0m ptr_data, type_ptr_data, _ \u001B[38;5;241m=\u001B[39m c_float_array(data)\n\u001B[0;32m-> 1659\u001B[0m \u001B[43m_safe_call\u001B[49m\u001B[43m(\u001B[49m\u001B[43m_LIB\u001B[49m\u001B[38;5;241;43m.\u001B[39;49m\u001B[43mLGBM_DatasetCreateFromMat\u001B[49m\u001B[43m(\u001B[49m\n\u001B[1;32m   1660\u001B[0m \u001B[43m    \u001B[49m\u001B[43mptr_data\u001B[49m\u001B[43m,\u001B[49m\n\u001B[1;32m   1661\u001B[0m \u001B[43m    \u001B[49m\u001B[43mctypes\u001B[49m\u001B[38;5;241;43m.\u001B[39;49m\u001B[43mc_int\u001B[49m\u001B[43m(\u001B[49m\u001B[43mtype_ptr_data\u001B[49m\u001B[43m)\u001B[49m\u001B[43m,\u001B[49m\n\u001B[1;32m   1662\u001B[0m \u001B[43m    \u001B[49m\u001B[43mctypes\u001B[49m\u001B[38;5;241;43m.\u001B[39;49m\u001B[43mc_int32\u001B[49m\u001B[43m(\u001B[49m\u001B[43mmat\u001B[49m\u001B[38;5;241;43m.\u001B[39;49m\u001B[43mshape\u001B[49m\u001B[43m[\u001B[49m\u001B[38;5;241;43m0\u001B[39;49m\u001B[43m]\u001B[49m\u001B[43m)\u001B[49m\u001B[43m,\u001B[49m\n\u001B[1;32m   1663\u001B[0m \u001B[43m    \u001B[49m\u001B[43mctypes\u001B[49m\u001B[38;5;241;43m.\u001B[39;49m\u001B[43mc_int32\u001B[49m\u001B[43m(\u001B[49m\u001B[43mmat\u001B[49m\u001B[38;5;241;43m.\u001B[39;49m\u001B[43mshape\u001B[49m\u001B[43m[\u001B[49m\u001B[38;5;241;43m1\u001B[39;49m\u001B[43m]\u001B[49m\u001B[43m)\u001B[49m\u001B[43m,\u001B[49m\n\u001B[1;32m   1664\u001B[0m \u001B[43m    \u001B[49m\u001B[43mctypes\u001B[49m\u001B[38;5;241;43m.\u001B[39;49m\u001B[43mc_int\u001B[49m\u001B[43m(\u001B[49m\u001B[43mC_API_IS_ROW_MAJOR\u001B[49m\u001B[43m)\u001B[49m\u001B[43m,\u001B[49m\n\u001B[1;32m   1665\u001B[0m \u001B[43m    \u001B[49m\u001B[43mc_str\u001B[49m\u001B[43m(\u001B[49m\u001B[43mparams_str\u001B[49m\u001B[43m)\u001B[49m\u001B[43m,\u001B[49m\n\u001B[1;32m   1666\u001B[0m \u001B[43m    \u001B[49m\u001B[43mref_dataset\u001B[49m\u001B[43m,\u001B[49m\n\u001B[1;32m   1667\u001B[0m \u001B[43m    \u001B[49m\u001B[43mctypes\u001B[49m\u001B[38;5;241;43m.\u001B[39;49m\u001B[43mbyref\u001B[49m\u001B[43m(\u001B[49m\u001B[38;5;28;43mself\u001B[39;49m\u001B[38;5;241;43m.\u001B[39;49m\u001B[43mhandle\u001B[49m\u001B[43m)\u001B[49m\u001B[43m)\u001B[49m\u001B[43m)\u001B[49m\n\u001B[1;32m   1668\u001B[0m \u001B[38;5;28;01mreturn\u001B[39;00m \u001B[38;5;28mself\u001B[39m\n",
      "File \u001B[0;32m~/miniforge3/lib/python3.9/site-packages/lightgbm/basic.py:125\u001B[0m, in \u001B[0;36m_safe_call\u001B[0;34m(ret)\u001B[0m\n\u001B[1;32m    117\u001B[0m \u001B[38;5;124;03m\"\"\"Check the return value from C API call.\u001B[39;00m\n\u001B[1;32m    118\u001B[0m \n\u001B[1;32m    119\u001B[0m \u001B[38;5;124;03mParameters\u001B[39;00m\n\u001B[0;32m   (...)\u001B[0m\n\u001B[1;32m    122\u001B[0m \u001B[38;5;124;03m    The return value from C API calls.\u001B[39;00m\n\u001B[1;32m    123\u001B[0m \u001B[38;5;124;03m\"\"\"\u001B[39;00m\n\u001B[1;32m    124\u001B[0m \u001B[38;5;28;01mif\u001B[39;00m ret \u001B[38;5;241m!=\u001B[39m \u001B[38;5;241m0\u001B[39m:\n\u001B[0;32m--> 125\u001B[0m     \u001B[38;5;28;01mraise\u001B[39;00m LightGBMError(_LIB\u001B[38;5;241m.\u001B[39mLGBM_GetLastError()\u001B[38;5;241m.\u001B[39mdecode(\u001B[38;5;124m'\u001B[39m\u001B[38;5;124mutf-8\u001B[39m\u001B[38;5;124m'\u001B[39m))\n",
      "\u001B[0;31mLightGBMError\u001B[0m: Multiclass objective and metrics don't match"
     ]
    }
   ],
   "source": [
    "# from lightgbm import LGBMClassifier\n",
    "# from sklearn.metrics import roc_auc_score\n",
    "# from hyperopt import fmin,tpe, Trials\n",
    "# #위의 학습 데이터중 90퍼센트를 학습 데이터에, 10퍼센트는 검증용 데이터로 분리한다\n",
    "# X_tr,X_val,y_tr,y_val= train_test_split(X_train,y_train,test_size=0.1)\n",
    "#\n",
    "# #하이퍼 파라미터 튜닝하기\n",
    "# from hyperopt import hp\n",
    "# lgbm_search_space={\n",
    "#                    'objective':'multiclass',\n",
    "#                    'metric' : 'multi_logloss',\n",
    "#                    'num_leaves':hp.quniform('num_leaves',32,64,1),\n",
    "#                    'max_depth': hp.quniform('max_depth',100,160,1),\n",
    "#                    'min_child_samples':hp.quniform('min_child_samples',60,100,1),\n",
    "#                    'subsample':hp.uniform('subsample',0.7,1),\n",
    "#                    'learning_rate':hp.uniform('learning_rate',0.01,0.2)\n",
    "#                    }\n",
    "#\n",
    "# from sklearn.model_selection import KFold\n",
    "# from hyperopt import fmin,tpe,Trials\n",
    "# import random\n",
    "#\n",
    "# def objective_fun(search_space):\n",
    "#     lgbm_clf= LGBMClassifier(\n",
    "#\n",
    "#         n_estimators=100,\n",
    "#         objective='multiclass',\n",
    "#         num_leaves=int(search_space['num_leaves']),\n",
    "#         max_depth=int(search_space['max_depth']),\n",
    "#         min_child_samples=int(search_space['min_child_samples']),\n",
    "#         subsample= search_space['subsample'],\n",
    "#         learning_rate=search_space['learning_rate']\n",
    "#     )\n",
    "#     #3개의 k-fold 방식으로 평가된 rou_auc를 담는 list\n",
    "#     roc_auc_lst =[]\n",
    "#\n",
    "#     #3개의 k-fold 방식을 적용하기\n",
    "#     kf= KFold(n_splits=3)\n",
    "#     #X_train을 다시 학습과 검증용 데이터로 분리한다\n",
    "#     for tr_idx, val_idx in kf.split(X_train):\n",
    "#         #kf.split(X_train)으로 추출된 학습과 검증 idx값으로 학습과 검증 데이터 셋 분리\n",
    "#         X_tr,y_tr= X_train.iloc[tr_idx],y_train.iloc[tr_idx]\n",
    "#         X_val,y_val=X_train.iloc[val_idx], y_train.iloc[val_idx]\n",
    "#\n",
    "#         #early stopping은 100회로 설정하고 추출된 학습과 검증 데이터로 lgbm_classfier를 수행한다\n",
    "#         lgbm_clf.fit(X_tr,y_tr,early_stopping_rounds=30,eval_metric='auc',eval_set=[(X_tr,y_tr),(X_val,y_val)])\n",
    "#\n",
    "#         #1로 예측한 확률값 추출 후 roc_auc를 계산하고 평균 roc_auc를 계산하기 위해 list에 결과값을 담는다\n",
    "#         score= roc_auc_score(y_val,lgbm_clf.predict_proba(X_val)[:,1])\n",
    "#         roc_auc_lst.append(score)\n",
    "#\n",
    "#     #3개의 K-fold값으로 계산된 roc_auc값의 평균값을 반환하되\n",
    "#     #Hyperopt는 목적함수의 최솟값을 위한 입력값을 찾으므로 -1을 곱한 뒤 반환한다\n",
    "#     return -1 * np.mean(roc_auc_lst)\n",
    "#\n",
    "# trials= Trials()\n",
    "# #fmin() 함수를 호출, max_evals를 지정된 횟수만큼 반복 후 목적함수의 최솟값을 찾는  최적입력값을 추출한다\n",
    "# best= fmin(fn=objective_fun,space=lgbm_search_space,algo=tpe.suggest,\n",
    "#            trials=trials,rstate=np.random.default_rng(seed=50),max_evals=50)\n",
    "#\n",
    "#\n"
   ],
   "metadata": {
    "collapsed": false,
    "pycharm": {
     "name": "#%%\n"
    }
   }
  },
  {
   "cell_type": "code",
   "execution_count": null,
   "outputs": [],
   "source": [
    "# from sklearn.metrics import accuracy_score, precision_score, recall_score, confusion_matrix,roc_auc_score\n",
    "# from sklearn.ensemble import RandomForestClassifier\n",
    "# from sklearn.model_selection import GridSearchCV\n",
    "#\n",
    "#\n",
    "# #독립변수와 종속변수로 분리하기\n",
    "# y= death_df['사고내용']\n",
    "# X= death_df.drop(['사고번호','사고내용','가해운전자 성별','피해운전자 성별'],axis=1)\n",
    "#\n",
    "# #데이터 분할하기\n",
    "# from sklearn.model_selection import train_test_split\n",
    "# #classification용 모델 라이브러리 가져오기\n",
    "# from lightgbm import LGBMClassifier\n",
    "#\n",
    "# #전체 데이터중 70퍼센트를 학습에 30퍼센트를 테스트 데이터로 분리한다\n",
    "# X_train, X_test, y_train, y_test = train_test_split(X,y,test_size=0.3)\n",
    "#\n",
    "# params={\n",
    "#     'max_depth':[8,16,24],\n",
    "#     'min_samples_leaf':[1,6,12],\n",
    "#     'min_samples_split':[2,6,16]\n",
    "# }\n",
    "#\n",
    "# #RandomForestCLassifier 객체 생성후 GridSearchCV 수행\n",
    "# rf_clf= RandomForestClassifier(n_estimators=100,random_state=0,n_jobs=-1)\n",
    "# grid_cv= GridSearchCV(rf_clf, param_grid=params, cv=2, n_jobs=-1)\n",
    "# grid_cv.fit(X_train,y_train)\n",
    "#\n",
    "# print('최적 하이퍼 파라미터는 :',grid_cv.best_params_)\n",
    "# print('최고 예측 정확도는',grid_cv.best_score_)"
   ],
   "metadata": {
    "collapsed": false,
    "pycharm": {
     "name": "#%%\n"
    }
   }
  },
  {
   "cell_type": "code",
   "execution_count": null,
   "outputs": [],
   "source": [
    "# #하이퍼 파라미터 튜닝하기\n",
    "# from hyperopt import hp\n",
    "# lgbm_search_space={'num_leaves':hp.quniform('num_leaves',32,64,1),\n",
    "#                    'max_depth': hp.quniform('max_depth',100,160,1),\n",
    "#                    'min_child_samples':hp.quniform('min_child_samples',60,100,1),\n",
    "#                    'subsample':hp.uniform('subsample',0.7,1),\n",
    "#                    'learning_rate':hp.uniform('learning_rate',0.01,0.2)\n",
    "#                    }\n"
   ],
   "metadata": {
    "collapsed": false,
    "pycharm": {
     "name": "#%%\n"
    }
   }
  },
  {
   "cell_type": "code",
   "execution_count": null,
   "outputs": [],
   "source": [
    "# from sklearn.model_selection import KFold\n",
    "# from hyperopt import fmin,tpe,Trials\n",
    "# import random\n",
    "#\n",
    "# def objective_fun(search_space):\n",
    "#     lgbm_clf= LGBMClassifier(\n",
    "#                              class_weight='balanced',\n",
    "#                              n_estimators=100,\n",
    "#                              num_leaves=int(search_space['num_leaves']),\n",
    "#                              max_depth=int(search_space['max_depth']),\n",
    "#                              min_child_samples=int(search_space['min_child_samples']),\n",
    "#                              subsample= search_space['subsample'],\n",
    "#                              learning_rate=search_space['learning_rate']\n",
    "#                              )\n",
    "#     #3개의 k-fold 방식으로 평가된 rou_auc를 담는 list\n",
    "#     roc_auc_lst =[]\n",
    "#\n",
    "#     #3개의 k-fold 방식을 적용하기\n",
    "#     kf= KFold(n_splits=3)\n",
    "#     #X_train을 다시 학습과 검증용 데이터로 분리한다\n",
    "#     for tr_idx, val_idx in kf.split(X_train):\n",
    "#         #kf.split(X_train)으로 추출된 학습과 검증 idx값으로 학습과 검증 데이터 셋 분리\n",
    "#         X_tr,y_tr= X_train.iloc[tr_idx],y_train.iloc[tr_idx]\n",
    "#         X_val,y_val=X_train.iloc[val_idx], y_train.iloc[val_idx]\n",
    "#\n",
    "#         #early stopping은 100회로 설정하고 추출된 학습과 검증 데이터로 lgbm_classfier를 수행한다\n",
    "#         lgbm_clf.fit(X_tr,y_tr,early_stopping_rounds=30,eval_metric='auc',eval_set=[(X_tr,y_tr),(X_val,y_val)])\n",
    "#\n",
    "#         #1로 예측한 확률값 추출 후 roc_auc를 계산하고 평균 roc_auc를 계산하기 위해 list에 결과값을 담는다\n",
    "#         score= roc_auc_score(y_val,lgbm_clf.predict_proba(X_val)[:,1])\n",
    "#         roc_auc_lst.append(score)\n",
    "#\n",
    "#     #3개의 K-fold값으로 계산된 roc_auc값의 평균값을 반환하되\n",
    "#     #Hyperopt는 목적함수의 최솟값을 위한 입력값을 찾으므로 -1을 곱한 뒤 반환한다\n",
    "#     return -1 * np.mean(roc_auc_lst)\n"
   ],
   "metadata": {
    "collapsed": false,
    "pycharm": {
     "name": "#%%\n"
    }
   }
  },
  {
   "cell_type": "code",
   "execution_count": null,
   "outputs": [],
   "source": [
    "# trials= Trials()\n",
    "# #fmin() 함수를 호출, max_evals를 지정된 횟수만큼 반복 후 목적함수의 최솟값을 찾는  최적입력값을 추출한다\n",
    "# best= fmin(fn=objective_fun,space=lgbm_search_space,algo=tpe.suggest,\n",
    "#            trials=trials,rstate=np.random.default_rng(seed=50),max_evals=50)\n",
    "#\n"
   ],
   "metadata": {
    "collapsed": false,
    "pycharm": {
     "name": "#%%\n"
    }
   }
  },
  {
   "cell_type": "code",
   "execution_count": null,
   "outputs": [],
   "source": [
    "# from sklearn.metrics import accuracy_score, precision_score, recall_score, confusion_matrix,roc_auc_score\n",
    "#\n",
    "#\n",
    "# print('오차 행렬 값은: \\n',confusion_matrix(y_test,y_pred))\n",
    "# print(f'accuracy 스코어는 {accuracy_score(y_test,y_pred):.5f} 입니다')\n",
    "# print(f\"precision 스코어는 {precision_score(y_test,y_pred,average='macro'):.5f}\")\n",
    "# print(f\"recall 스코어는 {recall_score(y_test,y_pred,average='macro'):.5f}\")\n"
   ],
   "metadata": {
    "collapsed": false,
    "pycharm": {
     "name": "#%%\n"
    }
   }
  },
  {
   "cell_type": "code",
   "execution_count": null,
   "outputs": [],
   "source": [],
   "metadata": {
    "collapsed": false,
    "pycharm": {
     "name": "#%%\n"
    }
   }
  }
 ],
 "metadata": {
  "kernelspec": {
   "display_name": "Python 3",
   "language": "python",
   "name": "python3"
  },
  "language_info": {
   "codemirror_mode": {
    "name": "ipython",
    "version": 2
   },
   "file_extension": ".py",
   "mimetype": "text/x-python",
   "name": "python",
   "nbconvert_exporter": "python",
   "pygments_lexer": "ipython2",
   "version": "2.7.6"
  }
 },
 "nbformat": 4,
 "nbformat_minor": 0
}