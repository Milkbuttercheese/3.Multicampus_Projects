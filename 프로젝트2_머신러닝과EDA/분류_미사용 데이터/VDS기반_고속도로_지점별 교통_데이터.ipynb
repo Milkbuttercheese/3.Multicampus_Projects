{
 "cells": [
  {
   "cell_type": "code",
   "execution_count": 283,
   "outputs": [],
   "source": [
    "#데이터 핸들링 라이브러리\n",
    "import numpy as np\n",
    "import pandas as pd"
   ],
   "metadata": {
    "collapsed": false,
    "pycharm": {
     "name": "#%%\n"
    }
   }
  },
  {
   "cell_type": "markdown",
   "source": [
    "## 컬럼명 | 오리지날 =>변경\n",
    "- SUM_YRMTHDAT =>집계일\n",
    "   - 집계일자(YYYYMMDD, Y : 년 M : 달 D : 일)\n",
    "- SUM_HR=>집계시\n",
    "   - 집계시(hh, h : 시)\n",
    "- VDS_CD=>VDS_ID\n",
    "   - VDS(차량 감지 시스템) 장비의 고유 ID\n",
    "- COCT_CD=>차로_ID\n",
    "    - 차로 유형 구분 코드\n",
    "- TRFFCVLM=>단위시간당_자동차_보행자수\n",
    "    - 단위 시간 당 일정 지점을 통과하는 자동차, 자전거 보행자 등의 수\n",
    "- OCCPNCY=>차량점거율\n",
    "    - 도로별 차량 점유율\n",
    "- SPD_AVG =>평균속도\n",
    "    - 평균 속도\n",
    "- NMLT_CSCNT => 정상_데이터수\n",
    "    - 오류가 없는 정상인 데이터의 총 건수\n",
    "- REVISN_CSCNT => 보정_데이터수\n",
    "    - 보정 작업이 진행되었던 데이터의 총 건수\n",
    "- LAST_CHANGE_DAYHMINSEC: 최종변경시각\n",
    "    -Last_Chanage_Hour:\t 최종변경시각"
   ],
   "metadata": {
    "collapsed": false,
    "pycharm": {
     "name": "#%% md\n"
    }
   }
  },
  {
   "cell_type": "code",
   "execution_count": 284,
   "outputs": [
    {
     "name": "stdout",
     "output_type": "stream",
     "text": [
      "데이터 불러오기 및 통합에 걸린 시간은 0.12446427345275879 입니다\n",
      "<class 'pandas.core.frame.DataFrame'>\n",
      "RangeIndex: 97232 entries, 0 to 97231\n",
      "Data columns (total 18 columns):\n",
      " #   Column                  Non-Null Count  Dtype  \n",
      "---  ------                  --------------  -----  \n",
      " 0   SUM_YRMTH               24364 non-null  float64\n",
      " 1   VDS_CD                  24364 non-null  object \n",
      " 2   COCT_CD                 24364 non-null  float64\n",
      " 3   TRFFCVLM                24364 non-null  float64\n",
      " 4   OCCPNCY                 24364 non-null  float64\n",
      " 5   SPD_AVG                 24364 non-null  float64\n",
      " 6   NMLT_CSCNT              24364 non-null  float64\n",
      " 7   REVISN_CSCNT            24364 non-null  float64\n",
      " 8   LAST_CHANGE_DAYHMINSEC  24364 non-null  float64\n",
      " 9   AGGR_YM                 72868 non-null  float64\n",
      " 10  VDS_ID                  72868 non-null  object \n",
      " 11  ROAD_KIND_TP_SE_CD      72868 non-null  float64\n",
      " 12  VMTC                    72868 non-null  float64\n",
      " 13  SHARE                   72868 non-null  float64\n",
      " 14  AVRG_VE                 72868 non-null  float64\n",
      " 15  NORMAL_CNT              72868 non-null  float64\n",
      " 16  REVISION_CNT            72868 non-null  float64\n",
      " 17  LAST_CHANGE_TIME        72868 non-null  float64\n",
      "dtypes: float64(16), object(2)\n",
      "memory usage: 13.4+ MB\n"
     ]
    }
   ],
   "source": [
    "## 해당 경로에 있는 .csv 파일명 리스트 가져오기\n",
    "\n",
    "import os\n",
    "import time\n",
    "t_0= time.time()\n",
    "\n",
    "path = './VDS_데이터/'\n",
    "file_list = os.listdir(path)\n",
    "file_list_py = [file for file in file_list if file.endswith('.csv')] ## 파일명 끝이 .csv인 경우\n",
    "\n",
    "## csv 파일들을 DataFrame으로 불러와서 concat\n",
    "\n",
    "VDS_df = pd.DataFrame()\n",
    "for i in file_list_py:\n",
    "    data = pd.read_csv(path + i)\n",
    "    VDS_df = pd.concat([VDS_df,data])\n",
    "\n",
    "VDS_df = VDS_df.reset_index(drop = True)\n",
    "print(f'데이터 불러오기 및 통합에 걸린 시간은 {str(time.time()-t_0)} 입니다')\n",
    "VDS_df.info()"
   ],
   "metadata": {
    "collapsed": false,
    "pycharm": {
     "name": "#%%\n"
    }
   }
  },
  {
   "cell_type": "code",
   "execution_count": 285,
   "outputs": [
    {
     "name": "stderr",
     "output_type": "stream",
     "text": [
      "/var/folders/m9/0vsmjxhd7q30k5mzw0bk58hh0000gn/T/ipykernel_5892/4043482667.py:9: SettingWithCopyWarning: \n",
      "A value is trying to be set on a copy of a slice from a DataFrame\n",
      "\n",
      "See the caveats in the documentation: https://pandas.pydata.org/pandas-docs/stable/user_guide/indexing.html#returning-a-view-versus-a-copy\n",
      "  now_name_df.dropna(inplace=True)\n",
      "/var/folders/m9/0vsmjxhd7q30k5mzw0bk58hh0000gn/T/ipykernel_5892/4043482667.py:15: SettingWithCopyWarning: \n",
      "A value is trying to be set on a copy of a slice from a DataFrame\n",
      "\n",
      "See the caveats in the documentation: https://pandas.pydata.org/pandas-docs/stable/user_guide/indexing.html#returning-a-view-versus-a-copy\n",
      "  old_name_df.dropna(inplace=True)\n"
     ]
    }
   ],
   "source": [
    "#현재 VSD_DF는 2021.10월을 경계로 컬럼명이 변경되어 옆으로 쌓이는 현상이 발생했다\n",
    "#명칭은 변경되었지만 새로운 데이터 컬럼이 추가되거나 데이터 순서가 변경된 것은 아니므로\n",
    "VDS_df.columns\n",
    "\n",
    "#현재 컬럼명 데이터\n",
    "now_col_name=['SUM_YRMTH','VDS_CD','COCT_CD','TRFFCVLM','OCCPNCY','SPD_AVG','NMLT_CSCNT','REVISN_CSCNT',\n",
    "              'LAST_CHANGE_DAYHMINSEC']\n",
    "now_name_df=VDS_df[now_col_name]\n",
    "now_name_df.dropna(inplace=True)\n",
    "\n",
    "#과거 컬럼명 데이터\n",
    "old_col_name=['AGGR_YM','VDS_ID','ROAD_KIND_TP_SE_CD','VMTC','SHARE','AVRG_VE','NORMAL_CNT','REVISION_CNT',\n",
    "              'LAST_CHANGE_TIME']\n",
    "old_name_df= VDS_df[old_col_name]\n",
    "old_name_df.dropna(inplace=True)\n",
    "old_name_df.columns= now_col_name\n",
    "\n",
    "VDS_df= pd.concat([old_name_df,now_name_df]).sort_values(by='SUM_YRMTH')"
   ],
   "metadata": {
    "collapsed": false,
    "pycharm": {
     "name": "#%%\n"
    }
   }
  },
  {
   "cell_type": "code",
   "execution_count": 286,
   "outputs": [
    {
     "data": {
      "text/plain": "            집계일        VDS_ID  차로_ID  단위시간당_자동차와보행자_수  차량점거율    평균속도  정상_데이터수  \\\n0      202102.0  0010VDE00100    1.0        1026214.0   1.90   84.53  79470.0   \n1      202102.0  0520VDE03700    1.0         592743.0   2.92  108.40  79781.0   \n2      202102.0  0520VDE03600    1.0             -1.0  -1.00   -1.00  79781.0   \n3      202102.0  0520VDE03500    1.0         604691.0   2.92  109.01  79781.0   \n4      202102.0  0520VDE03400    1.0         605059.0   3.10  101.38  79781.0   \n...         ...           ...    ...              ...    ...     ...      ...   \n97227  202202.0  0520VDS01100    1.0         706038.0   5.29   97.39  80513.0   \n97228  202202.0  0520VDS01200    1.0         704518.0   4.74   94.89  80513.0   \n97229  202202.0  0520VDS01300    1.0         709232.0   4.56   97.93  80513.0   \n97230  202202.0  0520VDE06200    1.0         267271.0   1.48  110.40  80513.0   \n97231  202202.0  0010VDE00600    1.0             -1.0  -1.00   -1.00      0.0   \n\n       보정_데이터수        최종변경시각  \n0        587.0  2.021030e+13  \n1          0.0  2.021030e+13  \n2          0.0  2.021030e+13  \n3          0.0  2.021030e+13  \n4          0.0  2.021030e+13  \n...        ...           ...  \n97227      0.0  2.022030e+13  \n97228      0.0  2.022030e+13  \n97229      0.0  2.022030e+13  \n97230      0.0  2.022030e+13  \n97231      0.0  2.022030e+13  \n\n[97232 rows x 9 columns]",
      "text/html": "<div>\n<style scoped>\n    .dataframe tbody tr th:only-of-type {\n        vertical-align: middle;\n    }\n\n    .dataframe tbody tr th {\n        vertical-align: top;\n    }\n\n    .dataframe thead th {\n        text-align: right;\n    }\n</style>\n<table border=\"1\" class=\"dataframe\">\n  <thead>\n    <tr style=\"text-align: right;\">\n      <th></th>\n      <th>집계일</th>\n      <th>VDS_ID</th>\n      <th>차로_ID</th>\n      <th>단위시간당_자동차와보행자_수</th>\n      <th>차량점거율</th>\n      <th>평균속도</th>\n      <th>정상_데이터수</th>\n      <th>보정_데이터수</th>\n      <th>최종변경시각</th>\n    </tr>\n  </thead>\n  <tbody>\n    <tr>\n      <th>0</th>\n      <td>202102.0</td>\n      <td>0010VDE00100</td>\n      <td>1.0</td>\n      <td>1026214.0</td>\n      <td>1.90</td>\n      <td>84.53</td>\n      <td>79470.0</td>\n      <td>587.0</td>\n      <td>2.021030e+13</td>\n    </tr>\n    <tr>\n      <th>1</th>\n      <td>202102.0</td>\n      <td>0520VDE03700</td>\n      <td>1.0</td>\n      <td>592743.0</td>\n      <td>2.92</td>\n      <td>108.40</td>\n      <td>79781.0</td>\n      <td>0.0</td>\n      <td>2.021030e+13</td>\n    </tr>\n    <tr>\n      <th>2</th>\n      <td>202102.0</td>\n      <td>0520VDE03600</td>\n      <td>1.0</td>\n      <td>-1.0</td>\n      <td>-1.00</td>\n      <td>-1.00</td>\n      <td>79781.0</td>\n      <td>0.0</td>\n      <td>2.021030e+13</td>\n    </tr>\n    <tr>\n      <th>3</th>\n      <td>202102.0</td>\n      <td>0520VDE03500</td>\n      <td>1.0</td>\n      <td>604691.0</td>\n      <td>2.92</td>\n      <td>109.01</td>\n      <td>79781.0</td>\n      <td>0.0</td>\n      <td>2.021030e+13</td>\n    </tr>\n    <tr>\n      <th>4</th>\n      <td>202102.0</td>\n      <td>0520VDE03400</td>\n      <td>1.0</td>\n      <td>605059.0</td>\n      <td>3.10</td>\n      <td>101.38</td>\n      <td>79781.0</td>\n      <td>0.0</td>\n      <td>2.021030e+13</td>\n    </tr>\n    <tr>\n      <th>...</th>\n      <td>...</td>\n      <td>...</td>\n      <td>...</td>\n      <td>...</td>\n      <td>...</td>\n      <td>...</td>\n      <td>...</td>\n      <td>...</td>\n      <td>...</td>\n    </tr>\n    <tr>\n      <th>97227</th>\n      <td>202202.0</td>\n      <td>0520VDS01100</td>\n      <td>1.0</td>\n      <td>706038.0</td>\n      <td>5.29</td>\n      <td>97.39</td>\n      <td>80513.0</td>\n      <td>0.0</td>\n      <td>2.022030e+13</td>\n    </tr>\n    <tr>\n      <th>97228</th>\n      <td>202202.0</td>\n      <td>0520VDS01200</td>\n      <td>1.0</td>\n      <td>704518.0</td>\n      <td>4.74</td>\n      <td>94.89</td>\n      <td>80513.0</td>\n      <td>0.0</td>\n      <td>2.022030e+13</td>\n    </tr>\n    <tr>\n      <th>97229</th>\n      <td>202202.0</td>\n      <td>0520VDS01300</td>\n      <td>1.0</td>\n      <td>709232.0</td>\n      <td>4.56</td>\n      <td>97.93</td>\n      <td>80513.0</td>\n      <td>0.0</td>\n      <td>2.022030e+13</td>\n    </tr>\n    <tr>\n      <th>97230</th>\n      <td>202202.0</td>\n      <td>0520VDE06200</td>\n      <td>1.0</td>\n      <td>267271.0</td>\n      <td>1.48</td>\n      <td>110.40</td>\n      <td>80513.0</td>\n      <td>0.0</td>\n      <td>2.022030e+13</td>\n    </tr>\n    <tr>\n      <th>97231</th>\n      <td>202202.0</td>\n      <td>0010VDE00600</td>\n      <td>1.0</td>\n      <td>-1.0</td>\n      <td>-1.00</td>\n      <td>-1.00</td>\n      <td>0.0</td>\n      <td>0.0</td>\n      <td>2.022030e+13</td>\n    </tr>\n  </tbody>\n</table>\n<p>97232 rows × 9 columns</p>\n</div>"
     },
     "execution_count": 286,
     "metadata": {},
     "output_type": "execute_result"
    }
   ],
   "source": [
    "### 새로운 컬럼명 지정해주기\n",
    "new_col_name=['집계일','VDS_ID','차로_ID','단위시간당_자동차와보행자_수','차량점거율','평균속도','정상_데이터수',\n",
    "              '보정_데이터수','최종변경시각']\n",
    "VDS_df.columns= new_col_name\n",
    "\n",
    "#재배열한 데이터를 다시 인덱싱하기\n",
    "VDS_df.reset_index(inplace=True)\n",
    "VDS_df.drop(['index'],axis=1,inplace=True)\n",
    "VDS_df"
   ],
   "metadata": {
    "collapsed": false,
    "pycharm": {
     "name": "#%%\n"
    }
   }
  },
  {
   "cell_type": "code",
   "execution_count": 287,
   "outputs": [
    {
     "name": "stdout",
     "output_type": "stream",
     "text": [
      "<class 'pandas.core.frame.DataFrame'>\n",
      "RangeIndex: 97232 entries, 0 to 97231\n",
      "Data columns (total 9 columns):\n",
      " #   Column           Non-Null Count  Dtype  \n",
      "---  ------           --------------  -----  \n",
      " 0   집계일              97232 non-null  float64\n",
      " 1   VDS_ID           97232 non-null  object \n",
      " 2   차로_ID            97232 non-null  float64\n",
      " 3   단위시간당_자동차와보행자_수  97232 non-null  float64\n",
      " 4   차량점거율            97232 non-null  float64\n",
      " 5   평균속도             97232 non-null  float64\n",
      " 6   정상_데이터수          97232 non-null  float64\n",
      " 7   보정_데이터수          97232 non-null  float64\n",
      " 8   최종변경시각           97232 non-null  float64\n",
      "dtypes: float64(8), object(1)\n",
      "memory usage: 6.7+ MB\n",
      "None\n"
     ]
    },
    {
     "data": {
      "text/plain": "                   count          mean           std           min  \\\n집계일              97232.0  2.021225e+05  3.550944e+01  2.021020e+05   \n차로_ID            97232.0  1.051115e+00  2.202331e-01  1.000000e+00   \n단위시간당_자동차와보행자_수  97232.0  5.846947e+05  5.456674e+05 -1.000000e+00   \n차량점거율            97232.0  3.440718e+00  3.367836e+00 -1.000000e+00   \n평균속도             97232.0  8.545110e+01  3.290416e+01 -1.000000e+00   \n정상_데이터수          97232.0  7.235969e+04  2.812999e+04  0.000000e+00   \n보정_데이터수          97232.0  1.678521e+03  5.707797e+03  0.000000e+00   \n최종변경시각           97232.0  2.021309e+13  4.119915e+09  2.021030e+13   \n\n                          25%           50%           75%           max  \n집계일              2.021050e+05  2.021080e+05  2.021120e+05  2.022020e+05  \n차로_ID            1.000000e+00  1.000000e+00  1.000000e+00  2.000000e+00  \n단위시간당_자동차와보행자_수  2.101520e+05  4.791600e+05  7.776768e+05  7.106895e+06  \n차량점거율            1.850000e+00  3.040000e+00  4.520000e+00  9.567000e+01  \n평균속도             8.863000e+01  9.658000e+01  1.024300e+02  1.655000e+02  \n정상_데이터수          7.700600e+04  8.575400e+04  8.860000e+04  1.386540e+05  \n보정_데이터수          0.000000e+00  4.900000e+01  6.300000e+02  5.398400e+04  \n최종변경시각           2.021060e+13  2.021090e+13  2.022010e+13  2.022030e+13  ",
      "text/html": "<div>\n<style scoped>\n    .dataframe tbody tr th:only-of-type {\n        vertical-align: middle;\n    }\n\n    .dataframe tbody tr th {\n        vertical-align: top;\n    }\n\n    .dataframe thead th {\n        text-align: right;\n    }\n</style>\n<table border=\"1\" class=\"dataframe\">\n  <thead>\n    <tr style=\"text-align: right;\">\n      <th></th>\n      <th>count</th>\n      <th>mean</th>\n      <th>std</th>\n      <th>min</th>\n      <th>25%</th>\n      <th>50%</th>\n      <th>75%</th>\n      <th>max</th>\n    </tr>\n  </thead>\n  <tbody>\n    <tr>\n      <th>집계일</th>\n      <td>97232.0</td>\n      <td>2.021225e+05</td>\n      <td>3.550944e+01</td>\n      <td>2.021020e+05</td>\n      <td>2.021050e+05</td>\n      <td>2.021080e+05</td>\n      <td>2.021120e+05</td>\n      <td>2.022020e+05</td>\n    </tr>\n    <tr>\n      <th>차로_ID</th>\n      <td>97232.0</td>\n      <td>1.051115e+00</td>\n      <td>2.202331e-01</td>\n      <td>1.000000e+00</td>\n      <td>1.000000e+00</td>\n      <td>1.000000e+00</td>\n      <td>1.000000e+00</td>\n      <td>2.000000e+00</td>\n    </tr>\n    <tr>\n      <th>단위시간당_자동차와보행자_수</th>\n      <td>97232.0</td>\n      <td>5.846947e+05</td>\n      <td>5.456674e+05</td>\n      <td>-1.000000e+00</td>\n      <td>2.101520e+05</td>\n      <td>4.791600e+05</td>\n      <td>7.776768e+05</td>\n      <td>7.106895e+06</td>\n    </tr>\n    <tr>\n      <th>차량점거율</th>\n      <td>97232.0</td>\n      <td>3.440718e+00</td>\n      <td>3.367836e+00</td>\n      <td>-1.000000e+00</td>\n      <td>1.850000e+00</td>\n      <td>3.040000e+00</td>\n      <td>4.520000e+00</td>\n      <td>9.567000e+01</td>\n    </tr>\n    <tr>\n      <th>평균속도</th>\n      <td>97232.0</td>\n      <td>8.545110e+01</td>\n      <td>3.290416e+01</td>\n      <td>-1.000000e+00</td>\n      <td>8.863000e+01</td>\n      <td>9.658000e+01</td>\n      <td>1.024300e+02</td>\n      <td>1.655000e+02</td>\n    </tr>\n    <tr>\n      <th>정상_데이터수</th>\n      <td>97232.0</td>\n      <td>7.235969e+04</td>\n      <td>2.812999e+04</td>\n      <td>0.000000e+00</td>\n      <td>7.700600e+04</td>\n      <td>8.575400e+04</td>\n      <td>8.860000e+04</td>\n      <td>1.386540e+05</td>\n    </tr>\n    <tr>\n      <th>보정_데이터수</th>\n      <td>97232.0</td>\n      <td>1.678521e+03</td>\n      <td>5.707797e+03</td>\n      <td>0.000000e+00</td>\n      <td>0.000000e+00</td>\n      <td>4.900000e+01</td>\n      <td>6.300000e+02</td>\n      <td>5.398400e+04</td>\n    </tr>\n    <tr>\n      <th>최종변경시각</th>\n      <td>97232.0</td>\n      <td>2.021309e+13</td>\n      <td>4.119915e+09</td>\n      <td>2.021030e+13</td>\n      <td>2.021060e+13</td>\n      <td>2.021090e+13</td>\n      <td>2.022010e+13</td>\n      <td>2.022030e+13</td>\n    </tr>\n  </tbody>\n</table>\n</div>"
     },
     "execution_count": 287,
     "metadata": {},
     "output_type": "execute_result"
    }
   ],
   "source": [
    "# VDS 데이터 셋의 정보 확인하기\n",
    "print(VDS_df.info())\n",
    "df_stats= VDS_df.describe().T\n",
    "df_stats"
   ],
   "metadata": {
    "collapsed": false,
    "pycharm": {
     "name": "#%%\n"
    }
   }
  },
  {
   "cell_type": "code",
   "execution_count": 288,
   "outputs": [
    {
     "data": {
      "text/plain": "집계일                0\nVDS_ID             0\n차로_ID              0\n단위시간당_자동차와보행자_수    0\n차량점거율              0\n평균속도               0\n정상_데이터수            0\n보정_데이터수            0\n최종변경시각             0\ndtype: int64"
     },
     "execution_count": 288,
     "metadata": {},
     "output_type": "execute_result"
    }
   ],
   "source": [
    "#결측치 확인\n",
    "VDS_df.isnull().sum()"
   ],
   "metadata": {
    "collapsed": false,
    "pycharm": {
     "name": "#%%\n"
    }
   }
  },
  {
   "cell_type": "code",
   "execution_count": 289,
   "outputs": [],
   "source": [
    "#상대적으로 중요도가 적어보이는 컬럼 삭제\n",
    "VDS_df.drop(['정상_데이터수','보정_데이터수','최종변경시각'],axis=1,inplace=True)\n"
   ],
   "metadata": {
    "collapsed": false,
    "pycharm": {
     "name": "#%%\n"
    }
   }
  },
  {
   "cell_type": "code",
   "execution_count": 290,
   "outputs": [
    {
     "data": {
      "text/plain": "                집계일  단위시간당_자동차와보행자_수      차량점거율        평균속도\n차로_ID                                                      \n1.0    1.864822e+10     5.656105e+10  312481.28  7894693.49\n2.0    1.004550e+09     2.899833e+08   22066.61   413888.31",
      "text/html": "<div>\n<style scoped>\n    .dataframe tbody tr th:only-of-type {\n        vertical-align: middle;\n    }\n\n    .dataframe tbody tr th {\n        vertical-align: top;\n    }\n\n    .dataframe thead th {\n        text-align: right;\n    }\n</style>\n<table border=\"1\" class=\"dataframe\">\n  <thead>\n    <tr style=\"text-align: right;\">\n      <th></th>\n      <th>집계일</th>\n      <th>단위시간당_자동차와보행자_수</th>\n      <th>차량점거율</th>\n      <th>평균속도</th>\n    </tr>\n    <tr>\n      <th>차로_ID</th>\n      <th></th>\n      <th></th>\n      <th></th>\n      <th></th>\n    </tr>\n  </thead>\n  <tbody>\n    <tr>\n      <th>1.0</th>\n      <td>1.864822e+10</td>\n      <td>5.656105e+10</td>\n      <td>312481.28</td>\n      <td>7894693.49</td>\n    </tr>\n    <tr>\n      <th>2.0</th>\n      <td>1.004550e+09</td>\n      <td>2.899833e+08</td>\n      <td>22066.61</td>\n      <td>413888.31</td>\n    </tr>\n  </tbody>\n</table>\n</div>"
     },
     "execution_count": 290,
     "metadata": {},
     "output_type": "execute_result"
    }
   ],
   "source": [
    "VDS_df.groupby('차로_ID').sum()"
   ],
   "metadata": {
    "collapsed": false,
    "pycharm": {
     "name": "#%%\n"
    }
   }
  },
  {
   "cell_type": "code",
   "execution_count": 291,
   "outputs": [],
   "source": [
    "#데이터 정의서 불러오기\n",
    "lable_def= pd.read_csv('./VDS_고속도로_데이터정의서 00.11.27.csv',header=1)"
   ],
   "metadata": {
    "collapsed": false,
    "pycharm": {
     "name": "#%%\n"
    }
   }
  },
  {
   "cell_type": "code",
   "execution_count": 292,
   "outputs": [
    {
     "data": {
      "text/plain": "             VDS_ID      GRS80X좌표값      GRS80Y좌표값\n0      0010VDE00100  390524.290125  296459.942624\n1      0010VDE00200  390589.576852  296535.747996\n2      0010VDE00300  390654.863578  296611.553368\n3      0010VDE00400  390720.150305  296687.358740\n4      0010VDE00500  390785.437032  296763.164111\n...             ...            ...            ...\n45949           NaN  402773.478106  300965.275385\n45950           NaN  402794.523435  301062.975344\n45951           NaN  402812.316043  301161.379729\n45952           NaN  402829.419219  301259.899480\n45953           NaN  402840.037096  301337.359488\n\n[45954 rows x 3 columns]",
      "text/html": "<div>\n<style scoped>\n    .dataframe tbody tr th:only-of-type {\n        vertical-align: middle;\n    }\n\n    .dataframe tbody tr th {\n        vertical-align: top;\n    }\n\n    .dataframe thead th {\n        text-align: right;\n    }\n</style>\n<table border=\"1\" class=\"dataframe\">\n  <thead>\n    <tr style=\"text-align: right;\">\n      <th></th>\n      <th>VDS_ID</th>\n      <th>GRS80X좌표값</th>\n      <th>GRS80Y좌표값</th>\n    </tr>\n  </thead>\n  <tbody>\n    <tr>\n      <th>0</th>\n      <td>0010VDE00100</td>\n      <td>390524.290125</td>\n      <td>296459.942624</td>\n    </tr>\n    <tr>\n      <th>1</th>\n      <td>0010VDE00200</td>\n      <td>390589.576852</td>\n      <td>296535.747996</td>\n    </tr>\n    <tr>\n      <th>2</th>\n      <td>0010VDE00300</td>\n      <td>390654.863578</td>\n      <td>296611.553368</td>\n    </tr>\n    <tr>\n      <th>3</th>\n      <td>0010VDE00400</td>\n      <td>390720.150305</td>\n      <td>296687.358740</td>\n    </tr>\n    <tr>\n      <th>4</th>\n      <td>0010VDE00500</td>\n      <td>390785.437032</td>\n      <td>296763.164111</td>\n    </tr>\n    <tr>\n      <th>...</th>\n      <td>...</td>\n      <td>...</td>\n      <td>...</td>\n    </tr>\n    <tr>\n      <th>45949</th>\n      <td>NaN</td>\n      <td>402773.478106</td>\n      <td>300965.275385</td>\n    </tr>\n    <tr>\n      <th>45950</th>\n      <td>NaN</td>\n      <td>402794.523435</td>\n      <td>301062.975344</td>\n    </tr>\n    <tr>\n      <th>45951</th>\n      <td>NaN</td>\n      <td>402812.316043</td>\n      <td>301161.379729</td>\n    </tr>\n    <tr>\n      <th>45952</th>\n      <td>NaN</td>\n      <td>402829.419219</td>\n      <td>301259.899480</td>\n    </tr>\n    <tr>\n      <th>45953</th>\n      <td>NaN</td>\n      <td>402840.037096</td>\n      <td>301337.359488</td>\n    </tr>\n  </tbody>\n</table>\n<p>45954 rows × 3 columns</p>\n</div>"
     },
     "execution_count": 292,
     "metadata": {},
     "output_type": "execute_result"
    }
   ],
   "source": [
    "lable_def"
   ],
   "metadata": {
    "collapsed": false,
    "pycharm": {
     "name": "#%%\n"
    }
   }
  },
  {
   "cell_type": "code",
   "execution_count": 293,
   "outputs": [
    {
     "data": {
      "text/plain": "            집계일        VDS_ID  차로_ID  단위시간당_자동차와보행자_수  차량점거율   평균속도  \\\n0      202102.0  0010VDE00100    1.0        1026214.0   1.90  84.53   \n1      202103.0  0010VDE00100    1.0        1131073.0   1.87  84.32   \n2      202104.0  0010VDE00100    1.0        1116602.0   1.91  84.37   \n3      202105.0  0010VDE00100    1.0        1175789.0   1.93  83.98   \n4      202106.0  0010VDE00100    1.0        1125649.0   1.91  83.87   \n...         ...           ...    ...              ...    ...    ...   \n94020  202109.0  0170VDE00025    1.0        1192235.0  11.98  84.65   \n94021  202110.0  0170VDE00025    1.0        1271618.0  13.12  86.16   \n94022  202112.0  0170VDE00025    1.0        1151903.0  11.10  86.65   \n94023  202201.0  0170VDE00025    1.0        1109754.0  10.14  88.44   \n94024  202202.0  0170VDE00025    1.0         990693.0   8.05  91.78   \n\n           GRS80X좌표값      GRS80Y좌표값  \n0      390524.290125  296459.942624  \n1      390524.290125  296459.942624  \n2      390524.290125  296459.942624  \n3      390524.290125  296459.942624  \n4      390524.290125  296459.942624  \n...              ...            ...  \n94020  283778.161955  402439.124189  \n94021  283778.161955  402439.124189  \n94022  283778.161955  402439.124189  \n94023  283778.161955  402439.124189  \n94024  283778.161955  402439.124189  \n\n[94025 rows x 8 columns]",
      "text/html": "<div>\n<style scoped>\n    .dataframe tbody tr th:only-of-type {\n        vertical-align: middle;\n    }\n\n    .dataframe tbody tr th {\n        vertical-align: top;\n    }\n\n    .dataframe thead th {\n        text-align: right;\n    }\n</style>\n<table border=\"1\" class=\"dataframe\">\n  <thead>\n    <tr style=\"text-align: right;\">\n      <th></th>\n      <th>집계일</th>\n      <th>VDS_ID</th>\n      <th>차로_ID</th>\n      <th>단위시간당_자동차와보행자_수</th>\n      <th>차량점거율</th>\n      <th>평균속도</th>\n      <th>GRS80X좌표값</th>\n      <th>GRS80Y좌표값</th>\n    </tr>\n  </thead>\n  <tbody>\n    <tr>\n      <th>0</th>\n      <td>202102.0</td>\n      <td>0010VDE00100</td>\n      <td>1.0</td>\n      <td>1026214.0</td>\n      <td>1.90</td>\n      <td>84.53</td>\n      <td>390524.290125</td>\n      <td>296459.942624</td>\n    </tr>\n    <tr>\n      <th>1</th>\n      <td>202103.0</td>\n      <td>0010VDE00100</td>\n      <td>1.0</td>\n      <td>1131073.0</td>\n      <td>1.87</td>\n      <td>84.32</td>\n      <td>390524.290125</td>\n      <td>296459.942624</td>\n    </tr>\n    <tr>\n      <th>2</th>\n      <td>202104.0</td>\n      <td>0010VDE00100</td>\n      <td>1.0</td>\n      <td>1116602.0</td>\n      <td>1.91</td>\n      <td>84.37</td>\n      <td>390524.290125</td>\n      <td>296459.942624</td>\n    </tr>\n    <tr>\n      <th>3</th>\n      <td>202105.0</td>\n      <td>0010VDE00100</td>\n      <td>1.0</td>\n      <td>1175789.0</td>\n      <td>1.93</td>\n      <td>83.98</td>\n      <td>390524.290125</td>\n      <td>296459.942624</td>\n    </tr>\n    <tr>\n      <th>4</th>\n      <td>202106.0</td>\n      <td>0010VDE00100</td>\n      <td>1.0</td>\n      <td>1125649.0</td>\n      <td>1.91</td>\n      <td>83.87</td>\n      <td>390524.290125</td>\n      <td>296459.942624</td>\n    </tr>\n    <tr>\n      <th>...</th>\n      <td>...</td>\n      <td>...</td>\n      <td>...</td>\n      <td>...</td>\n      <td>...</td>\n      <td>...</td>\n      <td>...</td>\n      <td>...</td>\n    </tr>\n    <tr>\n      <th>94020</th>\n      <td>202109.0</td>\n      <td>0170VDE00025</td>\n      <td>1.0</td>\n      <td>1192235.0</td>\n      <td>11.98</td>\n      <td>84.65</td>\n      <td>283778.161955</td>\n      <td>402439.124189</td>\n    </tr>\n    <tr>\n      <th>94021</th>\n      <td>202110.0</td>\n      <td>0170VDE00025</td>\n      <td>1.0</td>\n      <td>1271618.0</td>\n      <td>13.12</td>\n      <td>86.16</td>\n      <td>283778.161955</td>\n      <td>402439.124189</td>\n    </tr>\n    <tr>\n      <th>94022</th>\n      <td>202112.0</td>\n      <td>0170VDE00025</td>\n      <td>1.0</td>\n      <td>1151903.0</td>\n      <td>11.10</td>\n      <td>86.65</td>\n      <td>283778.161955</td>\n      <td>402439.124189</td>\n    </tr>\n    <tr>\n      <th>94023</th>\n      <td>202201.0</td>\n      <td>0170VDE00025</td>\n      <td>1.0</td>\n      <td>1109754.0</td>\n      <td>10.14</td>\n      <td>88.44</td>\n      <td>283778.161955</td>\n      <td>402439.124189</td>\n    </tr>\n    <tr>\n      <th>94024</th>\n      <td>202202.0</td>\n      <td>0170VDE00025</td>\n      <td>1.0</td>\n      <td>990693.0</td>\n      <td>8.05</td>\n      <td>91.78</td>\n      <td>283778.161955</td>\n      <td>402439.124189</td>\n    </tr>\n  </tbody>\n</table>\n<p>94025 rows × 8 columns</p>\n</div>"
     },
     "execution_count": 293,
     "metadata": {},
     "output_type": "execute_result"
    }
   ],
   "source": [
    "# VDS_ID를 key값으로 하여 VDS_df와 label_df를 결합시킨다.\n",
    "VDS_df=pd.merge(VDS_df,lable_def,how='inner',on='VDS_ID')\n",
    "VDS_df"
   ],
   "metadata": {
    "collapsed": false,
    "pycharm": {
     "name": "#%%\n"
    }
   }
  },
  {
   "cell_type": "code",
   "execution_count": 294,
   "outputs": [],
   "source": [
    "from pyproj import CRS, Transformer\n",
    "import pandas as pd\n",
    "\n",
    "def project_array(coord, before_coord, after_coord):\n",
    "    #coord가 DataFrame 타입으로 들어오는 경우 넘파이로 변환시켜서 데이터를 처리시키기\n",
    "    #그냥 numpy인 경우엔 상관없다\n",
    "    coord= coord.to_numpy()\n",
    "\n",
    "    transformer= Transformer.from_crs(before_coord,after_coord)\n",
    "    after_x,after_y= transformer.transform(coord[:,0],coord[:,1])\n",
    "    after_df= pd.DataFrame(after_x,after_y)\n",
    "    after_df.reset_index(inplace=True)\n",
    "    after_df.columns=['경도','위도']\n",
    "    after_df= after_df[['위도','경도']]\n",
    "    return after_df\n",
    "\n",
    "\n",
    "# EPS: 4166,4326: 전세계를 나타낼 때 쓰이는 표준적인 좌표계\n",
    "# GRS80,EPSG:5185,5186 현재 국토지리정보원 표준: 2002년 이후에 국토지리정보원 지형도에서 사용중인 좌표계\n",
    "GRS80X_coords=VDS_df[['GRS80X좌표값','GRS80Y좌표값']]\n",
    "coord_df= project_array(GRS80X_coords,'EPSG:5180','EPSG:4326')\n",
    "VDS_df[['GRS80X좌표값','GRS80Y좌표값']]=coord_df\n",
    "VDS_df.rename({'GRS80X좌표값':'위도','GRS80Y좌표값':'경도'},axis=1,inplace=True)\n",
    "VDS_df.drop(['VDS_ID','차로_ID'],axis=1,inplace=True)"
   ],
   "metadata": {
    "collapsed": false,
    "pycharm": {
     "name": "#%%\n"
    }
   }
  },
  {
   "cell_type": "code",
   "execution_count": 295,
   "outputs": [],
   "source": [
    "#한국도로공사 GRS80 위치정보를 담은 데이터셋 불러오기\n",
    "# GRS80_df=pd.read_csv('/Users/wooseongkyun/코드_아카이브/프로젝트2_데이터전처리/ETC_S0_07_04_557329 2.csv',encoding='euc-kr')\n",
    "# VDS_df=pd.merge(VDS_df,GRS80_df,how='inner',on=['GRS80X좌표값','GRS80Y좌표값'])\n",
    "# VDS_df.drop(['GRS80X좌표값','GRS80Y좌표값'],axis=1,inplace=True)\n",
    "# VDS_df.rename({'X좌표값':'위도','Y좌표값':'경도'},axis=1,inplace=True)"
   ],
   "metadata": {
    "collapsed": false,
    "pycharm": {
     "name": "#%%\n"
    }
   }
  },
  {
   "cell_type": "code",
   "execution_count": 296,
   "outputs": [
    {
     "data": {
      "text/plain": "         집계일  단위시간당_자동차와보행자_수  차량점거율    평균속도         위도          경도\n0   202102.0        1026214.0   1.90   84.53  37.008670  126.083783\n1   202103.0        1131073.0   1.87   84.32  37.008670  126.083783\n2   202104.0        1116602.0   1.91   84.37  37.008670  126.083783\n3   202105.0        1175789.0   1.93   83.98  37.008670  126.083783\n4   202106.0        1125649.0   1.91   83.87  37.008670  126.083783\n5   202107.0        1140172.0   1.88   82.82  37.008670  126.083783\n6   202108.0        1111045.0   1.85   82.20  37.008670  126.083783\n7   202109.0        1134199.0   1.93   82.81  37.008670  126.083783\n8   202110.0        1187299.0   1.95   83.15  37.008670  126.083783\n9   202112.0        1127113.0   1.87   83.67  37.008670  126.083783\n10  202201.0        1098605.0   1.84   83.53  37.008670  126.083783\n11  202202.0         974922.0   1.81   84.00  37.008670  126.083783\n12  202102.0         592743.0   2.92  108.40  35.689744  125.616041\n13  202103.0         577745.0   2.62  109.96  35.689744  125.616041\n14  202104.0         650759.0   2.83  110.66  35.689744  125.616041\n15  202105.0         707297.0   3.01  109.86  35.689744  125.616041\n16  202106.0         686709.0   2.99  111.05  35.689744  125.616041\n17  202107.0         713643.0   3.17  110.09  35.689744  125.616041\n18  202108.0         676778.0   3.26  109.01  35.689744  125.616041\n19  202109.0         703871.0   3.16  109.32  35.689744  125.616041",
      "text/html": "<div>\n<style scoped>\n    .dataframe tbody tr th:only-of-type {\n        vertical-align: middle;\n    }\n\n    .dataframe tbody tr th {\n        vertical-align: top;\n    }\n\n    .dataframe thead th {\n        text-align: right;\n    }\n</style>\n<table border=\"1\" class=\"dataframe\">\n  <thead>\n    <tr style=\"text-align: right;\">\n      <th></th>\n      <th>집계일</th>\n      <th>단위시간당_자동차와보행자_수</th>\n      <th>차량점거율</th>\n      <th>평균속도</th>\n      <th>위도</th>\n      <th>경도</th>\n    </tr>\n  </thead>\n  <tbody>\n    <tr>\n      <th>0</th>\n      <td>202102.0</td>\n      <td>1026214.0</td>\n      <td>1.90</td>\n      <td>84.53</td>\n      <td>37.008670</td>\n      <td>126.083783</td>\n    </tr>\n    <tr>\n      <th>1</th>\n      <td>202103.0</td>\n      <td>1131073.0</td>\n      <td>1.87</td>\n      <td>84.32</td>\n      <td>37.008670</td>\n      <td>126.083783</td>\n    </tr>\n    <tr>\n      <th>2</th>\n      <td>202104.0</td>\n      <td>1116602.0</td>\n      <td>1.91</td>\n      <td>84.37</td>\n      <td>37.008670</td>\n      <td>126.083783</td>\n    </tr>\n    <tr>\n      <th>3</th>\n      <td>202105.0</td>\n      <td>1175789.0</td>\n      <td>1.93</td>\n      <td>83.98</td>\n      <td>37.008670</td>\n      <td>126.083783</td>\n    </tr>\n    <tr>\n      <th>4</th>\n      <td>202106.0</td>\n      <td>1125649.0</td>\n      <td>1.91</td>\n      <td>83.87</td>\n      <td>37.008670</td>\n      <td>126.083783</td>\n    </tr>\n    <tr>\n      <th>5</th>\n      <td>202107.0</td>\n      <td>1140172.0</td>\n      <td>1.88</td>\n      <td>82.82</td>\n      <td>37.008670</td>\n      <td>126.083783</td>\n    </tr>\n    <tr>\n      <th>6</th>\n      <td>202108.0</td>\n      <td>1111045.0</td>\n      <td>1.85</td>\n      <td>82.20</td>\n      <td>37.008670</td>\n      <td>126.083783</td>\n    </tr>\n    <tr>\n      <th>7</th>\n      <td>202109.0</td>\n      <td>1134199.0</td>\n      <td>1.93</td>\n      <td>82.81</td>\n      <td>37.008670</td>\n      <td>126.083783</td>\n    </tr>\n    <tr>\n      <th>8</th>\n      <td>202110.0</td>\n      <td>1187299.0</td>\n      <td>1.95</td>\n      <td>83.15</td>\n      <td>37.008670</td>\n      <td>126.083783</td>\n    </tr>\n    <tr>\n      <th>9</th>\n      <td>202112.0</td>\n      <td>1127113.0</td>\n      <td>1.87</td>\n      <td>83.67</td>\n      <td>37.008670</td>\n      <td>126.083783</td>\n    </tr>\n    <tr>\n      <th>10</th>\n      <td>202201.0</td>\n      <td>1098605.0</td>\n      <td>1.84</td>\n      <td>83.53</td>\n      <td>37.008670</td>\n      <td>126.083783</td>\n    </tr>\n    <tr>\n      <th>11</th>\n      <td>202202.0</td>\n      <td>974922.0</td>\n      <td>1.81</td>\n      <td>84.00</td>\n      <td>37.008670</td>\n      <td>126.083783</td>\n    </tr>\n    <tr>\n      <th>12</th>\n      <td>202102.0</td>\n      <td>592743.0</td>\n      <td>2.92</td>\n      <td>108.40</td>\n      <td>35.689744</td>\n      <td>125.616041</td>\n    </tr>\n    <tr>\n      <th>13</th>\n      <td>202103.0</td>\n      <td>577745.0</td>\n      <td>2.62</td>\n      <td>109.96</td>\n      <td>35.689744</td>\n      <td>125.616041</td>\n    </tr>\n    <tr>\n      <th>14</th>\n      <td>202104.0</td>\n      <td>650759.0</td>\n      <td>2.83</td>\n      <td>110.66</td>\n      <td>35.689744</td>\n      <td>125.616041</td>\n    </tr>\n    <tr>\n      <th>15</th>\n      <td>202105.0</td>\n      <td>707297.0</td>\n      <td>3.01</td>\n      <td>109.86</td>\n      <td>35.689744</td>\n      <td>125.616041</td>\n    </tr>\n    <tr>\n      <th>16</th>\n      <td>202106.0</td>\n      <td>686709.0</td>\n      <td>2.99</td>\n      <td>111.05</td>\n      <td>35.689744</td>\n      <td>125.616041</td>\n    </tr>\n    <tr>\n      <th>17</th>\n      <td>202107.0</td>\n      <td>713643.0</td>\n      <td>3.17</td>\n      <td>110.09</td>\n      <td>35.689744</td>\n      <td>125.616041</td>\n    </tr>\n    <tr>\n      <th>18</th>\n      <td>202108.0</td>\n      <td>676778.0</td>\n      <td>3.26</td>\n      <td>109.01</td>\n      <td>35.689744</td>\n      <td>125.616041</td>\n    </tr>\n    <tr>\n      <th>19</th>\n      <td>202109.0</td>\n      <td>703871.0</td>\n      <td>3.16</td>\n      <td>109.32</td>\n      <td>35.689744</td>\n      <td>125.616041</td>\n    </tr>\n  </tbody>\n</table>\n</div>"
     },
     "execution_count": 296,
     "metadata": {},
     "output_type": "execute_result"
    }
   ],
   "source": [
    "VDS_df.head(20)\n",
    "\n"
   ],
   "metadata": {
    "collapsed": false,
    "pycharm": {
     "name": "#%%\n"
    }
   }
  },
  {
   "cell_type": "code",
   "execution_count": 297,
   "outputs": [],
   "source": [
    "#맵제작에 필요한 모듈\n",
    "import folium\n",
    "from folium.plugins import MarkerCluster\n",
    "from folium import plugins\n",
    "\n",
    "#좌표값\n",
    "latitude= np.array(VDS_df['위도']).tolist();\n",
    "longitude=np.array(VDS_df['경도']).tolist();\n",
    "\n",
    "#지도 만들기\n",
    "my_location=[37.55,126.98]\n",
    "VDS_map = folium.Map(location=my_location, zoom_start=12.0,\n",
    "                    tiles=None, control_scale=True)\n",
    "folium.TileLayer('openstreetmap', name='구분').add_to(VDS_map);\n",
    "\n",
    "#마커 클러스터\n",
    "marker_cluster = MarkerCluster().add_to(VDS_map)\n",
    "\n",
    "for i in range(len(latitude)):\n",
    "    folium.Marker(\n",
    "        location = [latitude[i],longitude[i]],\n",
    "        icon=folium.Icon(color='cadetblue',icon='ok')\n",
    "    ).add_to(marker_cluster)\n",
    "\n",
    "#지도저장\n",
    "VDS_map.save('./VDS_시각화2.html');\n"
   ],
   "metadata": {
    "collapsed": false,
    "pycharm": {
     "name": "#%%\n"
    }
   }
  },
  {
   "cell_type": "code",
   "execution_count": 298,
   "outputs": [
    {
     "data": {
      "text/plain": "[126.08378255683847,\n 126.08378255683847,\n 126.08378255683847,\n 126.08378255683847,\n 126.08378255683847,\n 126.08378255683847,\n 126.08378255683847,\n 126.08378255683847,\n 126.08378255683847,\n 126.08378255683847,\n 126.08378255683847,\n 126.08378255683847,\n 125.61604110428748,\n 125.61604110428748,\n 125.61604110428748,\n 125.61604110428748,\n 125.61604110428748,\n 125.61604110428748,\n 125.61604110428748,\n 125.61604110428748,\n 125.61604110428748,\n 125.61604110428748,\n 125.61604110428748,\n 125.61604110428748,\n 125.61562055211606,\n 125.61562055211606,\n 125.61562055211606,\n 125.61562055211606,\n 125.61562055211606,\n 125.61562055211606,\n 125.61562055211606,\n 125.61562055211606,\n 125.61562055211606,\n 125.61562055211606,\n 125.61562055211606,\n 125.61562055211606,\n 125.61514948513155,\n 125.61514948513155,\n 125.61514948513155,\n 125.61514948513155,\n 125.61514948513155,\n 125.61514948513155,\n 125.61514948513155,\n 125.61514948513155,\n 125.61514948513155,\n 125.61514948513155,\n 125.61514948513155,\n 125.61514948513155,\n 125.61462908184343,\n 125.61462908184343,\n 125.61462908184343,\n 125.61462908184343,\n 125.61462908184343,\n 125.61462908184343,\n 125.61462908184343,\n 125.61462908184343,\n 125.61462908184343,\n 125.61462908184343,\n 125.61462908184343,\n 125.61462908184343,\n 125.61406064402698,\n 125.61406064402698,\n 125.61406064402698,\n 125.61406064402698,\n 125.61406064402698,\n 125.61406064402698,\n 125.61406064402698,\n 125.61406064402698,\n 125.61406064402698,\n 125.61406064402698,\n 125.61406064402698,\n 125.61406064402698,\n 125.61346472160677,\n 125.61346472160677,\n 125.61346472160677,\n 125.61346472160677,\n 125.61346472160677,\n 125.61346472160677,\n 125.61346472160677,\n 125.61346472160677,\n 125.61346472160677,\n 125.61346472160677,\n 125.61346472160677,\n 125.61346472160677,\n 125.6128686284911,\n 125.6128686284911,\n 125.6128686284911,\n 125.6128686284911,\n 125.6128686284911,\n 125.6128686284911,\n 125.6128686284911,\n 125.6128686284911,\n 125.6128686284911,\n 125.6128686284911,\n 125.6128686284911,\n 125.6128686284911,\n 125.61227254672771,\n 125.61227254672771,\n 125.61227254672771,\n 125.61227254672771,\n 125.61227254672771,\n 125.61227254672771,\n 125.61227254672771,\n 125.61227254672771,\n 125.61227254672771,\n 125.61227254672771,\n 125.61227254672771,\n 125.61227254672771,\n 125.61167647633808,\n 125.61167647633808,\n 125.61167647633808,\n 125.61167647633808,\n 125.61167647633808,\n 125.61167647633808,\n 125.61167647633808,\n 125.61167647633808,\n 125.61167647633808,\n 125.61167647633808,\n 125.61167647633808,\n 125.61167647633808,\n 125.61108041727768,\n 125.61108041727768,\n 125.61108041727768,\n 125.61108041727768,\n 125.61108041727768,\n 125.61108041727768,\n 125.61108041727768,\n 125.61108041727768,\n 125.61108041727768,\n 125.61108041727768,\n 125.61108041727768,\n 125.61108041727768,\n 125.61048436956794,\n 125.61048436956794,\n 125.61048436956794,\n 125.61048436956794,\n 125.61048436956794,\n 125.61048436956794,\n 125.61048436956794,\n 125.61048436956794,\n 125.61048436956794,\n 125.61048436956794,\n 125.61048436956794,\n 125.61048436956794,\n 125.6098883331533,\n 125.6098883331533,\n 125.6098883331533,\n 125.6098883331533,\n 125.6098883331533,\n 125.6098883331533,\n 125.6098883331533,\n 125.6098883331533,\n 125.6098883331533,\n 125.6098883331533,\n 125.6098883331533,\n 125.6098883331533,\n 125.60929230814335,\n 125.60929230814335,\n 125.60929230814335,\n 125.60929230814335,\n 125.60929230814335,\n 125.60929230814335,\n 125.60929230814335,\n 125.60929230814335,\n 125.60929230814335,\n 125.60929230814335,\n 125.60929230814335,\n 125.60929230814335,\n 125.6086962944384,\n 125.6086962944384,\n 125.6086962944384,\n 125.6086962944384,\n 125.6086962944384,\n 125.6086962944384,\n 125.6086962944384,\n 125.6086962944384,\n 125.6086962944384,\n 125.6086962944384,\n 125.6086962944384,\n 125.6086962944384,\n 125.60810029221396,\n 125.60810029221396,\n 125.60810029221396,\n 125.60810029221396,\n 125.60810029221396,\n 125.60810029221396,\n 125.60810029221396,\n 125.60810029221396,\n 125.60810029221396,\n 125.60810029221396,\n 125.60810029221396,\n 125.60810029221396,\n 125.60750430124942,\n 125.60750430124942,\n 125.60750430124942,\n 125.60750430124942,\n 125.60750430124942,\n 125.60750430124942,\n 125.60750430124942,\n 125.60750430124942,\n 125.60750430124942,\n 125.60750430124942,\n 125.60750430124942,\n 125.60750430124942,\n 125.60690832158834,\n 125.60690832158834,\n 125.60690832158834,\n 125.60690832158834,\n 125.60690832158834,\n 125.60690832158834,\n 125.60690832158834,\n 125.60690832158834,\n 125.60690832158834,\n 125.60690832158834,\n 125.60690832158834,\n 125.60690832158834,\n 125.60631235332912,\n 125.60631235332912,\n 125.60631235332912,\n 125.60631235332912,\n 125.60631235332912,\n 125.60631235332912,\n 125.60631235332912,\n 125.60631235332912,\n 125.60631235332912,\n 125.60631235332912,\n 125.60631235332912,\n 125.60631235332912,\n 125.60571639633882,\n 125.60571639633882,\n 125.60571639633882,\n 125.60571639633882,\n 125.60571639633882,\n 125.60571639633882,\n 125.60571639633882,\n 125.60571639633882,\n 125.60571639633882,\n 125.60571639633882,\n 125.60571639633882,\n 125.60571639633882,\n 125.60512089944956,\n 125.60512089944956,\n 125.60512089944956,\n 125.60512089944956,\n 125.60512089944956,\n 125.60512089944956,\n 125.60512089944956,\n 125.60512089944956,\n 125.60512089944956,\n 125.60512089944956,\n 125.60512089944956,\n 125.60512089944956,\n 125.60452588268197,\n 125.60452588268197,\n 125.60452588268197,\n 125.60452588268197,\n 125.60452588268197,\n 125.60452588268197,\n 125.60452588268197,\n 125.60452588268197,\n 125.60452588268197,\n 125.60452588268197,\n 125.60452588268197,\n 125.60452588268197,\n 125.60394569918098,\n 125.60394569918098,\n 125.60394569918098,\n 125.60394569918098,\n 125.60394569918098,\n 125.60394569918098,\n 125.60394569918098,\n 125.60394569918098,\n 125.60394569918098,\n 125.60394569918098,\n 125.60394569918098,\n 125.60394569918098,\n 125.60338523119574,\n 125.60338523119574,\n 125.60338523119574,\n 125.60338523119574,\n 125.60338523119574,\n 125.60338523119574,\n 125.60338523119574,\n 125.60338523119574,\n 125.60338523119574,\n 125.60338523119574,\n 125.60338523119574,\n 125.60338523119574,\n 125.60284472169482,\n 125.60284472169482,\n 125.60284472169482,\n 125.60284472169482,\n 125.60284472169482,\n 125.60284472169482,\n 125.60284472169482,\n 125.60284472169482,\n 125.60284472169482,\n 125.60284472169482,\n 125.60284472169482,\n 125.60284472169482,\n 125.60232440469856,\n 125.60232440469856,\n 125.60232440469856,\n 125.60232440469856,\n 125.60232440469856,\n 125.60232440469856,\n 125.60232440469856,\n 125.60232440469856,\n 125.60232440469856,\n 125.60232440469856,\n 125.60232440469856,\n 125.60232440469856,\n 125.6018234861443,\n 125.6018234861443,\n 125.6018234861443,\n 125.6018234861443,\n 125.6018234861443,\n 125.6018234861443,\n 125.6018234861443,\n 125.6018234861443,\n 125.6018234861443,\n 125.6018234861443,\n 125.6018234861443,\n 125.6018234861443,\n 125.60132739215878,\n 125.60132739215878,\n 125.60132739215878,\n 125.60132739215878,\n 125.60132739215878,\n 125.60132739215878,\n 125.60132739215878,\n 125.60132739215878,\n 125.60132739215878,\n 125.60132739215878,\n 125.60132739215878,\n 125.60132739215878,\n 125.61641008905329,\n 125.61641008905329,\n 125.61641008905329,\n 125.61641008905329,\n 125.61641008905329,\n 125.61641008905329,\n 125.61641008905329,\n 125.61641008905329,\n 125.61641008905329,\n 125.61641008905329,\n 125.61641008905329,\n 125.61641008905329,\n 125.60083130818245,\n 125.60083130818245,\n 125.60083130818245,\n 125.60083130818245,\n 125.60083130818245,\n 125.60083130818245,\n 125.60083130818245,\n 125.60083130818245,\n 125.60083130818245,\n 125.60083130818245,\n 125.60083130818245,\n 125.60083130818245,\n 125.61672658288622,\n 125.61672658288622,\n 125.61672658288622,\n 125.61672658288622,\n 125.61672658288622,\n 125.61672658288622,\n 125.61672658288622,\n 125.61672658288622,\n 125.61672658288622,\n 125.61672658288622,\n 125.61672658288622,\n 125.61672658288622,\n 125.61719905990118,\n 125.61719905990118,\n 125.61719905990118,\n 125.61719905990118,\n 125.61719905990118,\n 125.61719905990118,\n 125.61719905990118,\n 125.61719905990118,\n 125.61719905990118,\n 125.61719905990118,\n 125.61719905990118,\n 125.61719905990118,\n 125.62019549324862,\n 125.62019549324862,\n 125.62019549324862,\n 125.62019549324862,\n 125.62019549324862,\n 125.62019549324862,\n 125.62019549324862,\n 125.62019549324862,\n 125.62019549324862,\n 125.62019549324862,\n 125.62019549324862,\n 125.62019549324862,\n 125.61987092325809,\n 125.61987092325809,\n 125.61987092325809,\n 125.61987092325809,\n 125.61987092325809,\n 125.61987092325809,\n 125.61987092325809,\n 125.61987092325809,\n 125.61987092325809,\n 125.61987092325809,\n 125.61987092325809,\n 125.61987092325809,\n 125.61955835948481,\n 125.61955835948481,\n 125.61955835948481,\n 125.61955835948481,\n 125.61955835948481,\n 125.61955835948481,\n 125.61955835948481,\n 125.61955835948481,\n 125.61955835948481,\n 125.61955835948481,\n 125.61955835948481,\n 125.61955835948481,\n 125.61924600378701,\n 125.61924600378701,\n 125.61924600378701,\n 125.61924600378701,\n 125.61924600378701,\n 125.61924600378701,\n 125.61924600378701,\n 125.61924600378701,\n 125.61924600378701,\n 125.61924600378701,\n 125.61924600378701,\n 125.61924600378701,\n 125.61893365510785,\n 125.61893365510785,\n 125.61893365510785,\n 125.61893365510785,\n 125.61893365510785,\n 125.61893365510785,\n 125.61893365510785,\n 125.61893365510785,\n 125.61893365510785,\n 125.61893365510785,\n 125.61893365510785,\n 125.61893365510785,\n 125.61862131317135,\n 125.61862131317135,\n 125.61862131317135,\n 125.61862131317135,\n 125.61862131317135,\n 125.61862131317135,\n 125.61862131317135,\n 125.61862131317135,\n 125.61862131317135,\n 125.61862131317135,\n 125.61862131317135,\n 125.61862131317135,\n 125.61830855809389,\n 125.61830855809389,\n 125.61830855809389,\n 125.61830855809389,\n 125.61830855809389,\n 125.61830855809389,\n 125.61830855809389,\n 125.61830855809389,\n 125.61830855809389,\n 125.61830855809389,\n 125.61830855809389,\n 125.61830855809389,\n 125.61799634551652,\n 125.61799634551652,\n 125.61799634551652,\n 125.61799634551652,\n 125.61799634551652,\n 125.61799634551652,\n 125.61799634551652,\n 125.61799634551652,\n 125.61799634551652,\n 125.61799634551652,\n 125.61799634551652,\n 125.61799634551652,\n 125.61768413989881,\n 125.61768413989881,\n 125.61768413989881,\n 125.61768413989881,\n 125.61768413989881,\n 125.61768413989881,\n 125.61768413989881,\n 125.61768413989881,\n 125.61768413989881,\n 125.61768413989881,\n 125.61768413989881,\n 125.61768413989881,\n 125.61737194105284,\n 125.61737194105284,\n 125.61737194105284,\n 125.61737194105284,\n 125.61737194105284,\n 125.61737194105284,\n 125.61737194105284,\n 125.61737194105284,\n 125.61737194105284,\n 125.61737194105284,\n 125.61737194105284,\n 125.61737194105284,\n 125.61706002851825,\n 125.61706002851825,\n 125.61706002851825,\n 125.61706002851825,\n 125.61706002851825,\n 125.61706002851825,\n 125.61706002851825,\n 125.61706002851825,\n 125.61706002851825,\n 125.61706002851825,\n 125.61706002851825,\n 125.61706002851825,\n 125.61676239056094,\n 125.61676239056094,\n 125.61676239056094,\n 125.61676239056094,\n 125.61676239056094,\n 125.61676239056094,\n 125.61676239056094,\n 125.61676239056094,\n 125.61676239056094,\n 125.61676239056094,\n 125.61676239056094,\n 125.61676239056094,\n 125.61651302097955,\n 125.61651302097955,\n 125.61651302097955,\n 125.61651302097955,\n 125.61651302097955,\n 125.61651302097955,\n 125.61651302097955,\n 125.61651302097955,\n 125.61651302097955,\n 125.61651302097955,\n 125.61651302097955,\n 125.61651302097955,\n 125.61634664896387,\n 125.61634664896387,\n 125.61634664896387,\n 125.61634664896387,\n 125.61634664896387,\n 125.61634664896387,\n 125.61634664896387,\n 125.61634664896387,\n 125.61634664896387,\n 125.61634664896387,\n 125.61634664896387,\n 125.61634664896387,\n 125.61628003655917,\n 125.61628003655917,\n 125.61628003655917,\n 125.61628003655917,\n 125.61628003655917,\n 125.61628003655917,\n 125.61628003655917,\n 125.61628003655917,\n 125.61628003655917,\n 125.61628003655917,\n 125.61628003655917,\n 125.61628003655917,\n 125.61631321148431,\n 125.61631321148431,\n 125.61631321148431,\n 125.61631321148431,\n 125.61631321148431,\n 125.61631321148431,\n 125.61631321148431,\n 125.61631321148431,\n 125.61631321148431,\n 125.61631321148431,\n 125.61631321148431,\n 125.61631321148431,\n 125.61642893139157,\n 125.61642893139157,\n 125.61642893139157,\n 125.61642893139157,\n 125.61642893139157,\n 125.61642893139157,\n 125.61642893139157,\n 125.61642893139157,\n 125.61642893139157,\n 125.61642893139157,\n 125.61642893139157,\n 125.61642893139157,\n 125.61659148506546,\n 125.61659148506546,\n 125.61659148506546,\n 125.61659148506546,\n 125.61659148506546,\n 125.61659148506546,\n 125.61659148506546,\n 125.61659148506546,\n 125.61659148506546,\n 125.61659148506546,\n 125.61659148506546,\n 125.61659148506546,\n 125.61676672420836,\n 125.61676672420836,\n 125.61676672420836,\n 125.61676672420836,\n 125.61676672420836,\n 125.61676672420836,\n 125.61676672420836,\n 125.61676672420836,\n 125.61676672420836,\n 125.61676672420836,\n 125.61676672420836,\n 125.61676672420836,\n 125.61694210972178,\n 125.61694210972178,\n 125.61694210972178,\n 125.61694210972178,\n 125.61694210972178,\n 125.61694210972178,\n 125.61694210972178,\n 125.61694210972178,\n 125.61694210972178,\n 125.61694210972178,\n 125.61694210972178,\n 125.61694210972178,\n 125.61711749320713,\n 125.61711749320713,\n 125.61711749320713,\n 125.61711749320713,\n 125.61711749320713,\n 125.61711749320713,\n 125.61711749320713,\n 125.61711749320713,\n 125.61711749320713,\n 125.61711749320713,\n 125.61711749320713,\n 125.61711749320713,\n 125.61730203928748,\n 125.61730203928748,\n 125.61730203928748,\n 125.61730203928748,\n 125.61730203928748,\n 125.61730203928748,\n 125.61730203928748,\n 125.61730203928748,\n 125.61730203928748,\n 125.61730203928748,\n 125.61730203928748,\n 125.61730203928748,\n 125.6174226607021,\n 125.6174226607021,\n 125.6174226607021,\n 125.6174226607021,\n 125.6174226607021,\n 125.6174226607021,\n 125.6174226607021,\n 125.6174226607021,\n 125.6174226607021,\n 125.6174226607021,\n 125.6174226607021,\n 125.6174226607021,\n 125.61748824693782,\n 125.61748824693782,\n 125.61748824693782,\n 125.61748824693782,\n 125.61748824693782,\n 125.61748824693782,\n 125.61748824693782,\n 125.61748824693782,\n 125.61748824693782,\n 125.61748824693782,\n 125.61748824693782,\n 125.61748824693782,\n 125.6174986351525,\n 125.6174986351525,\n 125.6174986351525,\n 125.6174986351525,\n 125.6174986351525,\n 125.6174986351525,\n 125.6174986351525,\n 125.6174986351525,\n 125.6174986351525,\n 125.6174986351525,\n 125.6174986351525,\n 125.6174986351525,\n 125.6174538011842,\n 125.6174538011842,\n 125.6174538011842,\n 125.6174538011842,\n 125.6174538011842,\n 125.6174538011842,\n 125.6174538011842,\n 125.6174538011842,\n 125.6174538011842,\n 125.6174538011842,\n 125.6174538011842,\n 125.6174538011842,\n 125.61735385886543,\n 125.61735385886543,\n 125.61735385886543,\n 125.61735385886543,\n 125.61735385886543,\n 125.61735385886543,\n 125.61735385886543,\n 125.61735385886543,\n 125.61735385886543,\n 125.61735385886543,\n 125.61735385886543,\n 125.61735385886543,\n 125.61698979297472,\n 125.61698979297472,\n 125.61698979297472,\n 125.61698979297472,\n 125.61698979297472,\n 125.61698979297472,\n 125.61698979297472,\n 125.61698979297472,\n 125.61698979297472,\n 125.61698979297472,\n 125.61698979297472,\n 125.61698979297472,\n 125.60033523430269,\n 125.60033523430269,\n 125.60033523430269,\n 125.60033523430269,\n 125.60033523430269,\n 125.60033523430269,\n 125.60033523430269,\n 125.60033523430269,\n 125.60033523430269,\n 125.60033523430269,\n 125.60033523430269,\n 125.60033523430269,\n 125.59983917043097,\n 125.59983917043097,\n 125.59983917043097,\n 125.59983917043097,\n 125.59983917043097,\n 125.59983917043097,\n 125.59983917043097,\n 125.59983917043097,\n 125.59983917043097,\n 125.59983917043097,\n 125.59983917043097,\n 125.59983917043097,\n 125.59934311669885,\n 125.59934311669885,\n 125.59934311669885,\n 125.59934311669885,\n 125.59934311669885,\n 125.59934311669885,\n 125.59934311669885,\n 125.59934311669885,\n 125.59934311669885,\n 125.59934311669885,\n 125.59934311669885,\n 125.59934311669885,\n 125.5769371485117,\n 125.5769371485117,\n 125.5769371485117,\n 125.5769371485117,\n 125.5769371485117,\n 125.5769371485117,\n 125.5769371485117,\n 125.5769371485117,\n 125.5769371485117,\n 125.5769371485117,\n 125.5769371485117,\n 125.5769371485117,\n 125.57627250925745,\n 125.57627250925745,\n 125.57627250925745,\n 125.57627250925745,\n 125.57627250925745,\n 125.57627250925745,\n 125.57627250925745,\n 125.57627250925745,\n 125.57627250925745,\n 125.57627250925745,\n 125.57627250925745,\n 125.57627250925745,\n 125.57560788195103,\n 125.57560788195103,\n 125.57560788195103,\n 125.57560788195103,\n 125.57560788195103,\n 125.57560788195103,\n 125.57560788195103,\n 125.57560788195103,\n 125.57560788195103,\n 125.57560788195103,\n 125.57560788195103,\n 125.57560788195103,\n 125.57494326661407,\n 125.57494326661407,\n 125.57494326661407,\n 125.57494326661407,\n 125.57494326661407,\n 125.57494326661407,\n 125.57494326661407,\n 125.57494326661407,\n 125.57494326661407,\n 125.57494326661407,\n 125.57494326661407,\n 125.57494326661407,\n 125.574278663235,\n 125.574278663235,\n 125.574278663235,\n 125.574278663235,\n 125.574278663235,\n 125.574278663235,\n 125.574278663235,\n 125.574278663235,\n 125.574278663235,\n 125.574278663235,\n 125.574278663235,\n 125.574278663235,\n 125.57361407180234,\n 125.57361407180234,\n 125.57361407180234,\n 125.57361407180234,\n 125.57361407180234,\n 125.57361407180234,\n 125.57361407180234,\n 125.57361407180234,\n 125.57361407180234,\n 125.57361407180234,\n 125.57361407180234,\n 125.57361407180234,\n 125.57294949233756,\n 125.57294949233756,\n 125.57294949233756,\n 125.57294949233756,\n 125.57294949233756,\n 125.57294949233756,\n 125.57294949233756,\n 125.57294949233756,\n 125.57294949233756,\n 125.57294949233756,\n 125.57294949233756,\n 125.57294949233756,\n 125.57228492482906,\n 125.57228492482906,\n 125.57228492482906,\n 125.57228492482906,\n 125.57228492482906,\n 125.57228492482906,\n 125.57228492482906,\n 125.57228492482906,\n 125.57228492482906,\n 125.57228492482906,\n 125.57228492482906,\n 125.57228492482906,\n 125.57160602008949,\n 125.57160602008949,\n 125.57160602008949,\n 125.57160602008949,\n 125.57160602008949,\n 125.57160602008949,\n 125.57160602008949,\n 125.57160602008949,\n 125.57160602008949,\n 125.57160602008949,\n 125.57160602008949,\n 125.57160602008949,\n 125.57088522774943,\n 125.57088522774943,\n 125.57088522774943,\n 125.57088522774943,\n 125.57088522774943,\n 125.57088522774943,\n 125.57088522774943,\n 125.57088522774943,\n 125.57088522774943,\n 125.57088522774943,\n 125.57088522774943,\n 125.57088522774943,\n 125.57012356109759,\n 125.57012356109759,\n 125.57012356109759,\n 125.57012356109759,\n 125.57012356109759,\n 125.57012356109759,\n 125.57012356109759,\n 125.57012356109759,\n 125.57012356109759,\n 125.57012356109759,\n 125.57012356109759,\n 125.57012356109759,\n 125.56932292396594,\n 125.56932292396594,\n 125.56932292396594,\n 125.56932292396594,\n 125.56932292396594,\n 125.56932292396594,\n 125.56932292396594,\n 125.56932292396594,\n 125.56932292396594,\n 125.56932292396594,\n 125.56932292396594,\n 125.56932292396594,\n 125.56848531740846,\n 125.56848531740846,\n 125.56848531740846,\n 125.56848531740846,\n 125.56848531740846,\n 125.56848531740846,\n 125.56848531740846,\n 125.56848531740846,\n 125.56848531740846,\n 125.56848531740846,\n 125.56848531740846,\n 125.56848531740846,\n 125.56761283471798,\n 125.56761283471798,\n 125.56761283471798,\n 125.56761283471798,\n 125.56761283471798,\n 125.56761283471798,\n 125.56761283471798,\n 125.56761283471798,\n 125.56761283471798,\n 125.56761283471798,\n 125.56761283471798,\n 125.56761283471798,\n 125.5667076561711,\n 125.5667076561711,\n 125.5667076561711,\n 125.5667076561711,\n 125.5667076561711,\n 125.5667076561711,\n 125.5667076561711,\n 125.5667076561711,\n 125.5667076561711,\n 125.5667076561711,\n 125.5667076561711,\n 125.5667076561711,\n 125.56577204357802,\n 125.56577204357802,\n 125.56577204357802,\n 125.56577204357802,\n 125.56577204357802,\n 125.56577204357802,\n 125.56577204357802,\n 125.56577204357802,\n 125.56577204357802,\n 125.56577204357802,\n 125.56577204357802,\n 125.56577204357802,\n 125.5648136895252,\n 125.5648136895252,\n 125.5648136895252,\n 125.5648136895252,\n 125.5648136895252,\n 125.5648136895252,\n 125.5648136895252,\n 125.5648136895252,\n 125.5648136895252,\n 125.5648136895252,\n 125.5648136895252,\n 125.5648136895252,\n 125.56385349203667,\n 125.56385349203667,\n 125.56385349203667,\n 125.56385349203667,\n 125.56385349203667,\n 125.56385349203667,\n 125.56385349203667,\n 125.56385349203667,\n 125.56385349203667,\n 125.56385349203667,\n 125.56385349203667,\n 125.56385349203667,\n 125.56289330511454,\n 125.56289330511454,\n 125.56289330511454,\n 125.56289330511454,\n 125.56289330511454,\n 125.56289330511454,\n 125.56289330511454,\n 125.56289330511454,\n 125.56289330511454,\n 125.56289330511454,\n 125.56289330511454,\n 125.56289330511454,\n 125.56193312875871,\n 125.56193312875871,\n 125.56193312875871,\n 125.56193312875871,\n 125.56193312875871,\n 125.56193312875871,\n 125.56193312875871,\n 125.56193312875871,\n 125.56193312875871,\n 125.56193312875871,\n 125.56193312875871,\n 125.56193312875871,\n 125.56097296298033,\n 125.56097296298033,\n 125.56097296298033,\n 125.56097296298033,\n ...]"
     },
     "execution_count": 298,
     "metadata": {},
     "output_type": "execute_result"
    }
   ],
   "source": [
    "longitude"
   ],
   "metadata": {
    "collapsed": false,
    "pycharm": {
     "name": "#%%\n"
    }
   }
  },
  {
   "cell_type": "code",
   "execution_count": 298,
   "outputs": [],
   "source": [],
   "metadata": {
    "collapsed": false,
    "pycharm": {
     "name": "#%%\n"
    }
   }
  }
 ],
 "metadata": {
  "kernelspec": {
   "display_name": "Python 3",
   "language": "python",
   "name": "python3"
  },
  "language_info": {
   "codemirror_mode": {
    "name": "ipython",
    "version": 2
   },
   "file_extension": ".py",
   "mimetype": "text/x-python",
   "name": "python",
   "nbconvert_exporter": "python",
   "pygments_lexer": "ipython2",
   "version": "2.7.6"
  }
 },
 "nbformat": 4,
 "nbformat_minor": 0
}