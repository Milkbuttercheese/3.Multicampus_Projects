{
 "cells": [
  {
   "cell_type": "code",
   "execution_count": 1,
   "metadata": {
    "collapsed": true,
    "pycharm": {
     "name": "#%%\n"
    }
   },
   "outputs": [],
   "source": [
    "#데이터 핸들링 라이브러리\n",
    "import pandas as pd\n",
    "import numpy as np\n",
    "#데이터 시각화 라이브러리\n",
    "import seaborn as sns\n",
    "import matplotlib.pyplot as plt\n",
    "import matplotlib as mpl\n",
    "plt.rcParams.update({'font.family':'AppleGothic'})\n",
    "mpl.rc('axes', unicode_minus=False)\n",
    "%config InlineBackend.figure_format = 'retina'"
   ]
  },
  {
   "cell_type": "markdown",
   "source": [
    "## 데이터 전처리 계획\n",
    "1. 데이터 불러오기, 결측치 처리하기\n",
    "2. 상대적으로 중요성이 떨어져보이는 피처 삭제, 필요하면 피처명을 직관적으로 다시 네이밍하기\n",
    "3. 비숫자-문자열 독립변수 인코딩하기\n",
    "4. 데이터 정규화\n",
    "5. 훈련-테스트셋 분리\n",
    "\n",
    "## 모델 학습 계획\n",
    "1. 모델 생성\n",
    "2. Cross_validation을 통한 모델학습\n",
    "3. Accuracy, Precision,Recall, ROC 4개의 지표로 분류모델의 정확도 평가하기"
   ],
   "metadata": {
    "collapsed": false,
    "pycharm": {
     "name": "#%% md\n"
    }
   }
  },
  {
   "cell_type": "code",
   "execution_count": 2,
   "outputs": [
    {
     "name": "stdout",
     "output_type": "stream",
     "text": [
      "데이터 불러오기 및 통합에 걸린 시간은 30.65006113052368 입니다\n"
     ]
    },
    {
     "data": {
      "text/plain": "                    사고번호               사고일시   요일               시군구  사고내용  \\\n0       2021010100100022    2021년 1월 1일 02시  금요일       강원도 양양군 현남면  중상사고   \n1       2021010100100029    2021년 1월 1일 04시  금요일       강원도 횡성군 둔내면  경상사고   \n2       2021010100100040    2021년 1월 1일 08시  금요일       강원도 강릉시 강문동  중상사고   \n3       2021010100100065    2021년 1월 1일 11시  금요일       강원도 강릉시 옥계면  경상사고   \n4       2021010100100089    2021년 1월 1일 13시  금요일       강원도 동해시 천곡동  경상사고   \n...                  ...                ...  ...               ...   ...   \n194089  2021123100100335  2021년 12월 31일 16시  금요일  충청남도 천안시 동남구 광덕면  경상사고   \n194090  2021123100100383  2021년 12월 31일 17시  금요일      충청남도 부여군 장암면  중상사고   \n194091  2021123100100384  2021년 12월 31일 17시  금요일  충청남도 천안시 동남구 청당동  경상사고   \n194092  2021123100100578  2021년 12월 31일 21시  금요일      충청남도 보령시 명천동  경상사고   \n194093  2021123100100631  2021년 12월 31일 23시  금요일      충청남도 예산군 삽교읍  중상사고   \n\n        사망자수  중상자수  경상자수  부상신고자수          사고유형  ... 기상상태        도로형태 가해운전자 차종  \\\n0          0     1     1       0  차량단독 - 공작물충돌  ...   맑음    단일로 - 기타       승용   \n1          0     0     2       0  차량단독 - 공작물충돌  ...   맑음  교차로 - 교차로안       승용   \n2          0     1     0       0    차대사람 - 횡단중  ...   맑음    단일로 - 기타       화물   \n3          0     0     4       0    차대차 - 측면충돌  ...   맑음  교차로 - 교차로안       승용   \n4          0     0     2       0    차대차 - 측면충돌  ...   맑음    단일로 - 기타       승용   \n...      ...   ...   ...     ...           ...  ...  ...         ...      ...   \n194089     0     0     3       0    차대차 - 측면충돌  ...   맑음  교차로 - 교차로안       승용   \n194090     0     1     0       0      차대차 - 추돌  ...   맑음    단일로 - 기타       승용   \n194091     0     0     3       0    차대차 - 측면충돌  ...   맑음    단일로 - 기타       승용   \n194092     0     0     1       0      차대차 - 추돌  ...   맑음     기타 - 기타       승용   \n194093     0     1     0       0     차대사람 - 기타  ...   맑음  교차로 - 교차로안       승용   \n\n       가해운전자 성별 가해운전자 연령 가해운전자 상해정도 피해운전자 차종 피해운전자 성별 피해운전자 연령 피해운전자 상해정도  \n0             여      19세       상해없음      NaN      NaN      NaN        NaN  \n1             남      21세         경상      NaN      NaN      NaN        NaN  \n2             남      53세       상해없음      보행자        여      20세         중상  \n3             남      43세       상해없음       화물        남      49세         경상  \n4             남      62세       상해없음       승용        남      24세         경상  \n...         ...      ...        ...      ...      ...      ...        ...  \n194089        여      32세         경상       승용        남      42세         경상  \n194090        남      24세       상해없음      자전거        남      78세         중상  \n194091        남      25세         경상       승용        남      22세         경상  \n194092        남      59세       상해없음       승용        여      28세         경상  \n194093        남      56세       상해없음      보행자        남      40세         중상  \n\n[194094 rows x 22 columns]",
      "text/html": "<div>\n<style scoped>\n    .dataframe tbody tr th:only-of-type {\n        vertical-align: middle;\n    }\n\n    .dataframe tbody tr th {\n        vertical-align: top;\n    }\n\n    .dataframe thead th {\n        text-align: right;\n    }\n</style>\n<table border=\"1\" class=\"dataframe\">\n  <thead>\n    <tr style=\"text-align: right;\">\n      <th></th>\n      <th>사고번호</th>\n      <th>사고일시</th>\n      <th>요일</th>\n      <th>시군구</th>\n      <th>사고내용</th>\n      <th>사망자수</th>\n      <th>중상자수</th>\n      <th>경상자수</th>\n      <th>부상신고자수</th>\n      <th>사고유형</th>\n      <th>...</th>\n      <th>기상상태</th>\n      <th>도로형태</th>\n      <th>가해운전자 차종</th>\n      <th>가해운전자 성별</th>\n      <th>가해운전자 연령</th>\n      <th>가해운전자 상해정도</th>\n      <th>피해운전자 차종</th>\n      <th>피해운전자 성별</th>\n      <th>피해운전자 연령</th>\n      <th>피해운전자 상해정도</th>\n    </tr>\n  </thead>\n  <tbody>\n    <tr>\n      <th>0</th>\n      <td>2021010100100022</td>\n      <td>2021년 1월 1일 02시</td>\n      <td>금요일</td>\n      <td>강원도 양양군 현남면</td>\n      <td>중상사고</td>\n      <td>0</td>\n      <td>1</td>\n      <td>1</td>\n      <td>0</td>\n      <td>차량단독 - 공작물충돌</td>\n      <td>...</td>\n      <td>맑음</td>\n      <td>단일로 - 기타</td>\n      <td>승용</td>\n      <td>여</td>\n      <td>19세</td>\n      <td>상해없음</td>\n      <td>NaN</td>\n      <td>NaN</td>\n      <td>NaN</td>\n      <td>NaN</td>\n    </tr>\n    <tr>\n      <th>1</th>\n      <td>2021010100100029</td>\n      <td>2021년 1월 1일 04시</td>\n      <td>금요일</td>\n      <td>강원도 횡성군 둔내면</td>\n      <td>경상사고</td>\n      <td>0</td>\n      <td>0</td>\n      <td>2</td>\n      <td>0</td>\n      <td>차량단독 - 공작물충돌</td>\n      <td>...</td>\n      <td>맑음</td>\n      <td>교차로 - 교차로안</td>\n      <td>승용</td>\n      <td>남</td>\n      <td>21세</td>\n      <td>경상</td>\n      <td>NaN</td>\n      <td>NaN</td>\n      <td>NaN</td>\n      <td>NaN</td>\n    </tr>\n    <tr>\n      <th>2</th>\n      <td>2021010100100040</td>\n      <td>2021년 1월 1일 08시</td>\n      <td>금요일</td>\n      <td>강원도 강릉시 강문동</td>\n      <td>중상사고</td>\n      <td>0</td>\n      <td>1</td>\n      <td>0</td>\n      <td>0</td>\n      <td>차대사람 - 횡단중</td>\n      <td>...</td>\n      <td>맑음</td>\n      <td>단일로 - 기타</td>\n      <td>화물</td>\n      <td>남</td>\n      <td>53세</td>\n      <td>상해없음</td>\n      <td>보행자</td>\n      <td>여</td>\n      <td>20세</td>\n      <td>중상</td>\n    </tr>\n    <tr>\n      <th>3</th>\n      <td>2021010100100065</td>\n      <td>2021년 1월 1일 11시</td>\n      <td>금요일</td>\n      <td>강원도 강릉시 옥계면</td>\n      <td>경상사고</td>\n      <td>0</td>\n      <td>0</td>\n      <td>4</td>\n      <td>0</td>\n      <td>차대차 - 측면충돌</td>\n      <td>...</td>\n      <td>맑음</td>\n      <td>교차로 - 교차로안</td>\n      <td>승용</td>\n      <td>남</td>\n      <td>43세</td>\n      <td>상해없음</td>\n      <td>화물</td>\n      <td>남</td>\n      <td>49세</td>\n      <td>경상</td>\n    </tr>\n    <tr>\n      <th>4</th>\n      <td>2021010100100089</td>\n      <td>2021년 1월 1일 13시</td>\n      <td>금요일</td>\n      <td>강원도 동해시 천곡동</td>\n      <td>경상사고</td>\n      <td>0</td>\n      <td>0</td>\n      <td>2</td>\n      <td>0</td>\n      <td>차대차 - 측면충돌</td>\n      <td>...</td>\n      <td>맑음</td>\n      <td>단일로 - 기타</td>\n      <td>승용</td>\n      <td>남</td>\n      <td>62세</td>\n      <td>상해없음</td>\n      <td>승용</td>\n      <td>남</td>\n      <td>24세</td>\n      <td>경상</td>\n    </tr>\n    <tr>\n      <th>...</th>\n      <td>...</td>\n      <td>...</td>\n      <td>...</td>\n      <td>...</td>\n      <td>...</td>\n      <td>...</td>\n      <td>...</td>\n      <td>...</td>\n      <td>...</td>\n      <td>...</td>\n      <td>...</td>\n      <td>...</td>\n      <td>...</td>\n      <td>...</td>\n      <td>...</td>\n      <td>...</td>\n      <td>...</td>\n      <td>...</td>\n      <td>...</td>\n      <td>...</td>\n      <td>...</td>\n    </tr>\n    <tr>\n      <th>194089</th>\n      <td>2021123100100335</td>\n      <td>2021년 12월 31일 16시</td>\n      <td>금요일</td>\n      <td>충청남도 천안시 동남구 광덕면</td>\n      <td>경상사고</td>\n      <td>0</td>\n      <td>0</td>\n      <td>3</td>\n      <td>0</td>\n      <td>차대차 - 측면충돌</td>\n      <td>...</td>\n      <td>맑음</td>\n      <td>교차로 - 교차로안</td>\n      <td>승용</td>\n      <td>여</td>\n      <td>32세</td>\n      <td>경상</td>\n      <td>승용</td>\n      <td>남</td>\n      <td>42세</td>\n      <td>경상</td>\n    </tr>\n    <tr>\n      <th>194090</th>\n      <td>2021123100100383</td>\n      <td>2021년 12월 31일 17시</td>\n      <td>금요일</td>\n      <td>충청남도 부여군 장암면</td>\n      <td>중상사고</td>\n      <td>0</td>\n      <td>1</td>\n      <td>0</td>\n      <td>0</td>\n      <td>차대차 - 추돌</td>\n      <td>...</td>\n      <td>맑음</td>\n      <td>단일로 - 기타</td>\n      <td>승용</td>\n      <td>남</td>\n      <td>24세</td>\n      <td>상해없음</td>\n      <td>자전거</td>\n      <td>남</td>\n      <td>78세</td>\n      <td>중상</td>\n    </tr>\n    <tr>\n      <th>194091</th>\n      <td>2021123100100384</td>\n      <td>2021년 12월 31일 17시</td>\n      <td>금요일</td>\n      <td>충청남도 천안시 동남구 청당동</td>\n      <td>경상사고</td>\n      <td>0</td>\n      <td>0</td>\n      <td>3</td>\n      <td>0</td>\n      <td>차대차 - 측면충돌</td>\n      <td>...</td>\n      <td>맑음</td>\n      <td>단일로 - 기타</td>\n      <td>승용</td>\n      <td>남</td>\n      <td>25세</td>\n      <td>경상</td>\n      <td>승용</td>\n      <td>남</td>\n      <td>22세</td>\n      <td>경상</td>\n    </tr>\n    <tr>\n      <th>194092</th>\n      <td>2021123100100578</td>\n      <td>2021년 12월 31일 21시</td>\n      <td>금요일</td>\n      <td>충청남도 보령시 명천동</td>\n      <td>경상사고</td>\n      <td>0</td>\n      <td>0</td>\n      <td>1</td>\n      <td>0</td>\n      <td>차대차 - 추돌</td>\n      <td>...</td>\n      <td>맑음</td>\n      <td>기타 - 기타</td>\n      <td>승용</td>\n      <td>남</td>\n      <td>59세</td>\n      <td>상해없음</td>\n      <td>승용</td>\n      <td>여</td>\n      <td>28세</td>\n      <td>경상</td>\n    </tr>\n    <tr>\n      <th>194093</th>\n      <td>2021123100100631</td>\n      <td>2021년 12월 31일 23시</td>\n      <td>금요일</td>\n      <td>충청남도 예산군 삽교읍</td>\n      <td>중상사고</td>\n      <td>0</td>\n      <td>1</td>\n      <td>0</td>\n      <td>0</td>\n      <td>차대사람 - 기타</td>\n      <td>...</td>\n      <td>맑음</td>\n      <td>교차로 - 교차로안</td>\n      <td>승용</td>\n      <td>남</td>\n      <td>56세</td>\n      <td>상해없음</td>\n      <td>보행자</td>\n      <td>남</td>\n      <td>40세</td>\n      <td>중상</td>\n    </tr>\n  </tbody>\n</table>\n<p>194094 rows × 22 columns</p>\n</div>"
     },
     "execution_count": 2,
     "metadata": {},
     "output_type": "execute_result"
    }
   ],
   "source": [
    "#1. 데이터 불러오기 from TAAS: http://taas.koroad.or.kr/web/shp/sbm/initGisAnals.do?menuId=WEB_KMP_GIS_TAS\n",
    "## 해당 경로에 있는 .csv 파일명 리스트 가져오기\n",
    "\n",
    "import os\n",
    "import time\n",
    "t_0= time.time()\n",
    "\n",
    "path = './교통사고_2021/'\n",
    "file_list = os.listdir(path)\n",
    "file_list_py = [file for file in file_list if file.endswith('.xls')] ## 파일명 끝이 .xls인 경우\n",
    "\n",
    "## csv 파일들을 DataFrame으로 불러와서 concat\n",
    "\n",
    "death_df = pd.DataFrame()\n",
    "for i in file_list_py:\n",
    "    data = pd.read_html(path + i)\n",
    "    data= data[0]\n",
    "    death_df = pd.concat([death_df,data])\n",
    "\n",
    "death_df = death_df.reset_index(drop = True)\n",
    "print(f'데이터 불러오기 및 통합에 걸린 시간은 {str(time.time()-t_0)} 입니다')\n",
    "death_df"
   ],
   "metadata": {
    "collapsed": false,
    "pycharm": {
     "name": "#%%\n"
    }
   }
  },
  {
   "cell_type": "code",
   "execution_count": 3,
   "outputs": [
    {
     "data": {
      "text/plain": "사고번호          0\n사고일시          0\n요일            0\n시군구           0\n사고내용          0\n사망자수          0\n중상자수          0\n경상자수          0\n부상신고자수        0\n사고유형          0\n법규위반          0\n노면상태          0\n기상상태          0\n도로형태          0\n가해운전자 차종      0\n가해운전자 성별      0\n가해운전자 연령      0\n가해운전자 상해정도    0\n피해운전자 차종      0\n피해운전자 성별      0\n피해운전자 연령      0\n피해운전자 상해정도    0\ndtype: int64"
     },
     "execution_count": 3,
     "metadata": {},
     "output_type": "execute_result"
    }
   ],
   "source": [
    "\"\"\"\n",
    "결측치 확인하기 => 피해운전자의 차종,성별,연령,상해정도를 파악하지 못하는 데이터가 6687건이 존재함\n",
    "원본데이터 194094에 비하면 삭제해도 학습에 영향력을 크게 미치지 못하뿐더러, 이러한 데이터들이\n",
    "특정 편향성을 갖고 존재할 것이라 보기 어렵다(아마도 기록 누락에 의해 이러한 데이터가 존재할 것이기 때문)\n",
    "그렇기 때문에 데이터를 제거해도 될것이라 판단하였음\n",
    "\"\"\"\n",
    "death_df.isnull().sum()\n",
    "death_df.dropna(inplace=True)\n",
    "death_df.isnull().sum()"
   ],
   "metadata": {
    "collapsed": false,
    "pycharm": {
     "name": "#%%\n"
    }
   }
  },
  {
   "cell_type": "code",
   "execution_count": 5,
   "outputs": [
    {
     "name": "stdout",
     "output_type": "stream",
     "text": [
      "<class 'pandas.core.frame.DataFrame'>\n",
      "Int64Index: 187407 entries, 2 to 194093\n",
      "Data columns (total 22 columns):\n",
      " #   Column      Non-Null Count   Dtype \n",
      "---  ------      --------------   ----- \n",
      " 0   사고번호        187407 non-null  int64 \n",
      " 1   사고일시        187407 non-null  object\n",
      " 2   요일          187407 non-null  object\n",
      " 3   시군구         187407 non-null  object\n",
      " 4   사고내용        187407 non-null  object\n",
      " 5   사망자수        187407 non-null  int64 \n",
      " 6   중상자수        187407 non-null  int64 \n",
      " 7   경상자수        187407 non-null  int64 \n",
      " 8   부상신고자수      187407 non-null  int64 \n",
      " 9   사고유형        187407 non-null  object\n",
      " 10  법규위반        187407 non-null  object\n",
      " 11  노면상태        187407 non-null  object\n",
      " 12  기상상태        187407 non-null  object\n",
      " 13  도로형태        187407 non-null  object\n",
      " 14  가해운전자 차종    187407 non-null  object\n",
      " 15  가해운전자 성별    187407 non-null  object\n",
      " 16  가해운전자 연령    187407 non-null  object\n",
      " 17  가해운전자 상해정도  187407 non-null  object\n",
      " 18  피해운전자 차종    187407 non-null  object\n",
      " 19  피해운전자 성별    187407 non-null  object\n",
      " 20  피해운전자 연령    187407 non-null  object\n",
      " 21  피해운전자 상해정도  187407 non-null  object\n",
      "dtypes: int64(5), object(17)\n",
      "memory usage: 32.9+ MB\n",
      "None\n"
     ]
    },
    {
     "data": {
      "text/plain": "               사고번호             사고일시   요일          시군구  사고내용  사망자수  중상자수  \\\n2  2021010100100040  2021년 1월 1일 08시  금요일  강원도 강릉시 강문동  중상사고     0     1   \n3  2021010100100065  2021년 1월 1일 11시  금요일  강원도 강릉시 옥계면  경상사고     0     0   \n4  2021010100100089  2021년 1월 1일 13시  금요일  강원도 동해시 천곡동  경상사고     0     0   \n5  2021010100100123  2021년 1월 1일 15시  금요일  강원도 강릉시 포남동  사망사고     1     0   \n6  2021010100100146  2021년 1월 1일 17시  금요일  강원도 강릉시 옥천동  경상사고     0     0   \n\n   경상자수  부상신고자수        사고유형  ... 기상상태         도로형태 가해운전자 차종 가해운전자 성별 가해운전자 연령  \\\n2     0       0  차대사람 - 횡단중  ...   맑음     단일로 - 기타       화물        남      53세   \n3     4       0  차대차 - 측면충돌  ...   맑음   교차로 - 교차로안       승용        남      43세   \n4     2       0  차대차 - 측면충돌  ...   맑음     단일로 - 기타       승용        남      62세   \n5     0       0  차대차 - 측면충돌  ...   맑음   교차로 - 교차로안      원동기        남      16세   \n6     2       0    차대차 - 추돌  ...   맑음  교차로 - 교차로부근       승용        여      33세   \n\n  가해운전자 상해정도 피해운전자 차종 피해운전자 성별 피해운전자 연령 피해운전자 상해정도  \n2       상해없음      보행자        여      20세         중상  \n3       상해없음       화물        남      49세         경상  \n4       상해없음       승용        남      24세         경상  \n5       상해없음       승용        여      50세       상해없음  \n6       상해없음       승용        남      27세         경상  \n\n[5 rows x 22 columns]",
      "text/html": "<div>\n<style scoped>\n    .dataframe tbody tr th:only-of-type {\n        vertical-align: middle;\n    }\n\n    .dataframe tbody tr th {\n        vertical-align: top;\n    }\n\n    .dataframe thead th {\n        text-align: right;\n    }\n</style>\n<table border=\"1\" class=\"dataframe\">\n  <thead>\n    <tr style=\"text-align: right;\">\n      <th></th>\n      <th>사고번호</th>\n      <th>사고일시</th>\n      <th>요일</th>\n      <th>시군구</th>\n      <th>사고내용</th>\n      <th>사망자수</th>\n      <th>중상자수</th>\n      <th>경상자수</th>\n      <th>부상신고자수</th>\n      <th>사고유형</th>\n      <th>...</th>\n      <th>기상상태</th>\n      <th>도로형태</th>\n      <th>가해운전자 차종</th>\n      <th>가해운전자 성별</th>\n      <th>가해운전자 연령</th>\n      <th>가해운전자 상해정도</th>\n      <th>피해운전자 차종</th>\n      <th>피해운전자 성별</th>\n      <th>피해운전자 연령</th>\n      <th>피해운전자 상해정도</th>\n    </tr>\n  </thead>\n  <tbody>\n    <tr>\n      <th>2</th>\n      <td>2021010100100040</td>\n      <td>2021년 1월 1일 08시</td>\n      <td>금요일</td>\n      <td>강원도 강릉시 강문동</td>\n      <td>중상사고</td>\n      <td>0</td>\n      <td>1</td>\n      <td>0</td>\n      <td>0</td>\n      <td>차대사람 - 횡단중</td>\n      <td>...</td>\n      <td>맑음</td>\n      <td>단일로 - 기타</td>\n      <td>화물</td>\n      <td>남</td>\n      <td>53세</td>\n      <td>상해없음</td>\n      <td>보행자</td>\n      <td>여</td>\n      <td>20세</td>\n      <td>중상</td>\n    </tr>\n    <tr>\n      <th>3</th>\n      <td>2021010100100065</td>\n      <td>2021년 1월 1일 11시</td>\n      <td>금요일</td>\n      <td>강원도 강릉시 옥계면</td>\n      <td>경상사고</td>\n      <td>0</td>\n      <td>0</td>\n      <td>4</td>\n      <td>0</td>\n      <td>차대차 - 측면충돌</td>\n      <td>...</td>\n      <td>맑음</td>\n      <td>교차로 - 교차로안</td>\n      <td>승용</td>\n      <td>남</td>\n      <td>43세</td>\n      <td>상해없음</td>\n      <td>화물</td>\n      <td>남</td>\n      <td>49세</td>\n      <td>경상</td>\n    </tr>\n    <tr>\n      <th>4</th>\n      <td>2021010100100089</td>\n      <td>2021년 1월 1일 13시</td>\n      <td>금요일</td>\n      <td>강원도 동해시 천곡동</td>\n      <td>경상사고</td>\n      <td>0</td>\n      <td>0</td>\n      <td>2</td>\n      <td>0</td>\n      <td>차대차 - 측면충돌</td>\n      <td>...</td>\n      <td>맑음</td>\n      <td>단일로 - 기타</td>\n      <td>승용</td>\n      <td>남</td>\n      <td>62세</td>\n      <td>상해없음</td>\n      <td>승용</td>\n      <td>남</td>\n      <td>24세</td>\n      <td>경상</td>\n    </tr>\n    <tr>\n      <th>5</th>\n      <td>2021010100100123</td>\n      <td>2021년 1월 1일 15시</td>\n      <td>금요일</td>\n      <td>강원도 강릉시 포남동</td>\n      <td>사망사고</td>\n      <td>1</td>\n      <td>0</td>\n      <td>0</td>\n      <td>0</td>\n      <td>차대차 - 측면충돌</td>\n      <td>...</td>\n      <td>맑음</td>\n      <td>교차로 - 교차로안</td>\n      <td>원동기</td>\n      <td>남</td>\n      <td>16세</td>\n      <td>상해없음</td>\n      <td>승용</td>\n      <td>여</td>\n      <td>50세</td>\n      <td>상해없음</td>\n    </tr>\n    <tr>\n      <th>6</th>\n      <td>2021010100100146</td>\n      <td>2021년 1월 1일 17시</td>\n      <td>금요일</td>\n      <td>강원도 강릉시 옥천동</td>\n      <td>경상사고</td>\n      <td>0</td>\n      <td>0</td>\n      <td>2</td>\n      <td>0</td>\n      <td>차대차 - 추돌</td>\n      <td>...</td>\n      <td>맑음</td>\n      <td>교차로 - 교차로부근</td>\n      <td>승용</td>\n      <td>여</td>\n      <td>33세</td>\n      <td>상해없음</td>\n      <td>승용</td>\n      <td>남</td>\n      <td>27세</td>\n      <td>경상</td>\n    </tr>\n  </tbody>\n</table>\n<p>5 rows × 22 columns</p>\n</div>"
     },
     "execution_count": 5,
     "metadata": {},
     "output_type": "execute_result"
    }
   ],
   "source": [
    "#데이터 정보 찾기\n",
    "print(death_df.info())\n",
    "death_df.head()"
   ],
   "metadata": {
    "collapsed": false,
    "pycharm": {
     "name": "#%%\n"
    }
   }
  },
  {
   "cell_type": "code",
   "execution_count": 115,
   "outputs": [],
   "source": [
    "#2.상대적으로 덜 중요해 보이는 피처 삭제하기\n",
    "\n",
    "'''\n",
    "1. 2021년도 전국교통사고통계에서 '당사자종별_1당_대분류','당사자종별_2당_대분류'에 해당하는 위치에\n",
    "'가해자_당사자종별', '피해자_당사자종별'이 있었다는 점과\n",
    "2. death_df.groupby('당사자종별_2당_대분류').describe()에서만 보행자가 카테고리로 존재하는것으로 비추어보아\n",
    "'당사자종별_1당_대분류','당사자종별_2당_대분류' = '가해자_당사자종별', '피해자_당사자종별' 이라고 판단하였음\n",
    "'''\n",
    "\n",
    "death_df.drop(['요일','발생위치X_UTMK','발생위치Y_UTMK'],axis=1,inplace=True)\n",
    "death_df.groupby('당사자종별_2당_대분류').describe()\n",
    "death_df.rename({'당사자종별_1당_대분류':'가해자_당사자종별','당사자종별_2당_대분류':'피해자_당사자종별'},axis=1,inplace=True)\n"
   ],
   "metadata": {
    "collapsed": false,
    "pycharm": {
     "name": "#%%\n"
    }
   }
  },
  {
   "cell_type": "code",
   "execution_count": 116,
   "outputs": [
    {
     "data": {
      "text/plain": "           발생년월일시  주야 요일  사망자수  사상자수  중상자수  경상자수  부상신고자수 발생지시도 발생지시군구  ...  \\\n0      2012010101  야간  일     1     1     0     0       0    서울    은평구  ...   \n1      2012010101  야간  일     1     6     5     0       0    전북    정읍시  ...   \n2      2012010108  주간  일     1     1     0     0       0    충남    청양군  ...   \n3      2012010110  주간  일     2     2     0     0       0    경남    합천군  ...   \n4      2012010103  야간  일     1     1     0     0       0    경북    예천군  ...   \n...           ...  .. ..   ...   ...   ...   ...     ...   ...    ...  ...   \n39939  2021112608  주간  금     1     1     0     0       0    경기    평택시  ...   \n39940  2021112717  주간  토     1     1     0     0       0    경기    평택시  ...   \n39941  2021120711  주간  화     1     1     0     0       0    경기    평택시  ...   \n39942  2021123121  야간  금     1     1     0     0       0    강원    양구군  ...   \n39943  2021122601  야간  일     1     1     0     0       0    강원    홍천군  ...   \n\n      사고유형_중분류     사고유형         법규위반 도로형태_대분류   도로형태 가해자_당사자종별 피해자_당사자종별  \\\n0        차도통행중    차도통행중  안전운전 의무 불이행      단일로  기타단일로       승용차       보행자   \n1         정면충돌     정면충돌       중앙선 침범      단일로  기타단일로       승용차       승용차   \n2        공작물충돌    공작물충돌  안전운전 의무 불이행      단일로  기타단일로       승용차        없음   \n3         측면충돌     측면충돌           과속      교차로   교차로내       승합차       승용차   \n4         도로이탈  도로이탈 추락  안전운전 의무 불이행      단일로  기타단일로       승용차        없음   \n...        ...      ...          ...      ...    ...       ...       ...   \n39939       기타       기타  안전운전 의무 불이행      교차로   교차로내       승용차       보행자   \n39940       기타       기타  안전운전 의무 불이행      단일로  기타단일로       승용차       자전거   \n39941       추돌       추돌  안전운전 의무 불이행       기타     기타       화물차       화물차   \n39942       전복       전복       중앙선 침범      단일로  기타단일로       승용차        없음   \n39943     도로이탈  도로이탈 추락  안전운전 의무 불이행      단일로  기타단일로       화물차        없음   \n\n               경도         위도  발생시각  \n0      126.931890  37.612680     1  \n1      126.909523  35.633956     1  \n2      126.830281  36.491268     8  \n3      128.155984  35.733503    10  \n4      128.284180  36.506769     3  \n...           ...        ...   ...  \n39939  127.057882  37.081528     8  \n39940  127.136562  36.998521    17  \n39941  126.926540  36.963284    11  \n39942  127.985386  38.097913    21  \n39943  127.594217  37.687089     1  \n\n[39944 rows x 21 columns]",
      "text/html": "<div>\n<style scoped>\n    .dataframe tbody tr th:only-of-type {\n        vertical-align: middle;\n    }\n\n    .dataframe tbody tr th {\n        vertical-align: top;\n    }\n\n    .dataframe thead th {\n        text-align: right;\n    }\n</style>\n<table border=\"1\" class=\"dataframe\">\n  <thead>\n    <tr style=\"text-align: right;\">\n      <th></th>\n      <th>발생년월일시</th>\n      <th>주야</th>\n      <th>요일</th>\n      <th>사망자수</th>\n      <th>사상자수</th>\n      <th>중상자수</th>\n      <th>경상자수</th>\n      <th>부상신고자수</th>\n      <th>발생지시도</th>\n      <th>발생지시군구</th>\n      <th>...</th>\n      <th>사고유형_중분류</th>\n      <th>사고유형</th>\n      <th>법규위반</th>\n      <th>도로형태_대분류</th>\n      <th>도로형태</th>\n      <th>가해자_당사자종별</th>\n      <th>피해자_당사자종별</th>\n      <th>경도</th>\n      <th>위도</th>\n      <th>발생시각</th>\n    </tr>\n  </thead>\n  <tbody>\n    <tr>\n      <th>0</th>\n      <td>2012010101</td>\n      <td>야간</td>\n      <td>일</td>\n      <td>1</td>\n      <td>1</td>\n      <td>0</td>\n      <td>0</td>\n      <td>0</td>\n      <td>서울</td>\n      <td>은평구</td>\n      <td>...</td>\n      <td>차도통행중</td>\n      <td>차도통행중</td>\n      <td>안전운전 의무 불이행</td>\n      <td>단일로</td>\n      <td>기타단일로</td>\n      <td>승용차</td>\n      <td>보행자</td>\n      <td>126.931890</td>\n      <td>37.612680</td>\n      <td>1</td>\n    </tr>\n    <tr>\n      <th>1</th>\n      <td>2012010101</td>\n      <td>야간</td>\n      <td>일</td>\n      <td>1</td>\n      <td>6</td>\n      <td>5</td>\n      <td>0</td>\n      <td>0</td>\n      <td>전북</td>\n      <td>정읍시</td>\n      <td>...</td>\n      <td>정면충돌</td>\n      <td>정면충돌</td>\n      <td>중앙선 침범</td>\n      <td>단일로</td>\n      <td>기타단일로</td>\n      <td>승용차</td>\n      <td>승용차</td>\n      <td>126.909523</td>\n      <td>35.633956</td>\n      <td>1</td>\n    </tr>\n    <tr>\n      <th>2</th>\n      <td>2012010108</td>\n      <td>주간</td>\n      <td>일</td>\n      <td>1</td>\n      <td>1</td>\n      <td>0</td>\n      <td>0</td>\n      <td>0</td>\n      <td>충남</td>\n      <td>청양군</td>\n      <td>...</td>\n      <td>공작물충돌</td>\n      <td>공작물충돌</td>\n      <td>안전운전 의무 불이행</td>\n      <td>단일로</td>\n      <td>기타단일로</td>\n      <td>승용차</td>\n      <td>없음</td>\n      <td>126.830281</td>\n      <td>36.491268</td>\n      <td>8</td>\n    </tr>\n    <tr>\n      <th>3</th>\n      <td>2012010110</td>\n      <td>주간</td>\n      <td>일</td>\n      <td>2</td>\n      <td>2</td>\n      <td>0</td>\n      <td>0</td>\n      <td>0</td>\n      <td>경남</td>\n      <td>합천군</td>\n      <td>...</td>\n      <td>측면충돌</td>\n      <td>측면충돌</td>\n      <td>과속</td>\n      <td>교차로</td>\n      <td>교차로내</td>\n      <td>승합차</td>\n      <td>승용차</td>\n      <td>128.155984</td>\n      <td>35.733503</td>\n      <td>10</td>\n    </tr>\n    <tr>\n      <th>4</th>\n      <td>2012010103</td>\n      <td>야간</td>\n      <td>일</td>\n      <td>1</td>\n      <td>1</td>\n      <td>0</td>\n      <td>0</td>\n      <td>0</td>\n      <td>경북</td>\n      <td>예천군</td>\n      <td>...</td>\n      <td>도로이탈</td>\n      <td>도로이탈 추락</td>\n      <td>안전운전 의무 불이행</td>\n      <td>단일로</td>\n      <td>기타단일로</td>\n      <td>승용차</td>\n      <td>없음</td>\n      <td>128.284180</td>\n      <td>36.506769</td>\n      <td>3</td>\n    </tr>\n    <tr>\n      <th>...</th>\n      <td>...</td>\n      <td>...</td>\n      <td>...</td>\n      <td>...</td>\n      <td>...</td>\n      <td>...</td>\n      <td>...</td>\n      <td>...</td>\n      <td>...</td>\n      <td>...</td>\n      <td>...</td>\n      <td>...</td>\n      <td>...</td>\n      <td>...</td>\n      <td>...</td>\n      <td>...</td>\n      <td>...</td>\n      <td>...</td>\n      <td>...</td>\n      <td>...</td>\n      <td>...</td>\n    </tr>\n    <tr>\n      <th>39939</th>\n      <td>2021112608</td>\n      <td>주간</td>\n      <td>금</td>\n      <td>1</td>\n      <td>1</td>\n      <td>0</td>\n      <td>0</td>\n      <td>0</td>\n      <td>경기</td>\n      <td>평택시</td>\n      <td>...</td>\n      <td>기타</td>\n      <td>기타</td>\n      <td>안전운전 의무 불이행</td>\n      <td>교차로</td>\n      <td>교차로내</td>\n      <td>승용차</td>\n      <td>보행자</td>\n      <td>127.057882</td>\n      <td>37.081528</td>\n      <td>8</td>\n    </tr>\n    <tr>\n      <th>39940</th>\n      <td>2021112717</td>\n      <td>주간</td>\n      <td>토</td>\n      <td>1</td>\n      <td>1</td>\n      <td>0</td>\n      <td>0</td>\n      <td>0</td>\n      <td>경기</td>\n      <td>평택시</td>\n      <td>...</td>\n      <td>기타</td>\n      <td>기타</td>\n      <td>안전운전 의무 불이행</td>\n      <td>단일로</td>\n      <td>기타단일로</td>\n      <td>승용차</td>\n      <td>자전거</td>\n      <td>127.136562</td>\n      <td>36.998521</td>\n      <td>17</td>\n    </tr>\n    <tr>\n      <th>39941</th>\n      <td>2021120711</td>\n      <td>주간</td>\n      <td>화</td>\n      <td>1</td>\n      <td>1</td>\n      <td>0</td>\n      <td>0</td>\n      <td>0</td>\n      <td>경기</td>\n      <td>평택시</td>\n      <td>...</td>\n      <td>추돌</td>\n      <td>추돌</td>\n      <td>안전운전 의무 불이행</td>\n      <td>기타</td>\n      <td>기타</td>\n      <td>화물차</td>\n      <td>화물차</td>\n      <td>126.926540</td>\n      <td>36.963284</td>\n      <td>11</td>\n    </tr>\n    <tr>\n      <th>39942</th>\n      <td>2021123121</td>\n      <td>야간</td>\n      <td>금</td>\n      <td>1</td>\n      <td>1</td>\n      <td>0</td>\n      <td>0</td>\n      <td>0</td>\n      <td>강원</td>\n      <td>양구군</td>\n      <td>...</td>\n      <td>전복</td>\n      <td>전복</td>\n      <td>중앙선 침범</td>\n      <td>단일로</td>\n      <td>기타단일로</td>\n      <td>승용차</td>\n      <td>없음</td>\n      <td>127.985386</td>\n      <td>38.097913</td>\n      <td>21</td>\n    </tr>\n    <tr>\n      <th>39943</th>\n      <td>2021122601</td>\n      <td>야간</td>\n      <td>일</td>\n      <td>1</td>\n      <td>1</td>\n      <td>0</td>\n      <td>0</td>\n      <td>0</td>\n      <td>강원</td>\n      <td>홍천군</td>\n      <td>...</td>\n      <td>도로이탈</td>\n      <td>도로이탈 추락</td>\n      <td>안전운전 의무 불이행</td>\n      <td>단일로</td>\n      <td>기타단일로</td>\n      <td>화물차</td>\n      <td>없음</td>\n      <td>127.594217</td>\n      <td>37.687089</td>\n      <td>1</td>\n    </tr>\n  </tbody>\n</table>\n<p>39944 rows × 21 columns</p>\n</div>"
     },
     "execution_count": 116,
     "metadata": {},
     "output_type": "execute_result"
    }
   ],
   "source": [
    "#시간에 따른 시계가 교통사고의 요인중 하나일 수 있으므로 발생년월일시에서 시간만 떼어 새로운 컬럼으로 만듬\n",
    "time_lst= list(death_df['발생년월일시'])\n",
    "hour_lst=[]\n",
    "for time in time_lst:\n",
    "    hour_lst.append(int(str(time)[-2:]))\n",
    "\n",
    "death_df['발생시각']= hour_lst\n",
    "death_df"
   ],
   "metadata": {
    "collapsed": false,
    "pycharm": {
     "name": "#%%\n"
    }
   }
  },
  {
   "cell_type": "code",
   "execution_count": 131,
   "outputs": [
    {
     "data": {
      "text/plain": "           발생년월일시  주야  요일  사망자수  사상자수  중상자수  경상자수  부상신고자수 발생지시도 발생지시군구  ...  \\\n0      2012010101  야간   4     1     1     0     0       0    서울    은평구  ...   \n1      2012010101  야간   4     1     6     5     0       0    전북    정읍시  ...   \n2      2012010108  주간   4     1     1     0     0       0    충남    청양군  ...   \n3      2012010110  주간   4     2     2     0     0       0    경남    합천군  ...   \n4      2012010103  야간   4     1     1     0     0       0    경북    예천군  ...   \n...           ...  ..  ..   ...   ...   ...   ...     ...   ...    ...  ...   \n39939  2021112608  주간   0     1     1     0     0       0    경기    평택시  ...   \n39940  2021112717  주간   5     1     1     0     0       0    경기    평택시  ...   \n39941  2021120711  주간   6     1     1     0     0       0    경기    평택시  ...   \n39942  2021123121  야간   0     1     1     0     0       0    강원    양구군  ...   \n39943  2021122601  야간   4     1     1     0     0       0    강원    홍천군  ...   \n\n      사고유형 법규위반  도로형태_대분류  도로형태 가해자_당사자종별  피해자_당사자종별          경도         위도  \\\n0       16    6       단일로     7         6          4  126.931890  37.612680   \n1       10    7       단일로     7         6          7  126.909523  35.633956   \n2        1    6       단일로     7         6          9  126.830281  36.491268   \n3       19    0       교차로     2         7          7  128.155984  35.733503   \n4        5    6       단일로     7         6          9  128.284180  36.506769   \n...    ...  ...       ...   ...       ...        ...         ...        ...   \n39939    2    6       교차로     2         6          4  127.057882  37.081528   \n39940    2    6       단일로     7         6         13  127.136562  36.998521   \n39941   18    6        기타     5        12         15  126.926540  36.963284   \n39942    9    7       단일로     7         6          9  127.985386  38.097913   \n39943    5    6       단일로     7        12          9  127.594217  37.687089   \n\n       발생시각  심각도  \n0         1    2  \n1         1    2  \n2         8    2  \n3        10    2  \n4         3    2  \n...     ...  ...  \n39939     8    2  \n39940    17    2  \n39941    11    2  \n39942    21    2  \n39943     1    2  \n\n[39944 rows x 22 columns]",
      "text/html": "<div>\n<style scoped>\n    .dataframe tbody tr th:only-of-type {\n        vertical-align: middle;\n    }\n\n    .dataframe tbody tr th {\n        vertical-align: top;\n    }\n\n    .dataframe thead th {\n        text-align: right;\n    }\n</style>\n<table border=\"1\" class=\"dataframe\">\n  <thead>\n    <tr style=\"text-align: right;\">\n      <th></th>\n      <th>발생년월일시</th>\n      <th>주야</th>\n      <th>요일</th>\n      <th>사망자수</th>\n      <th>사상자수</th>\n      <th>중상자수</th>\n      <th>경상자수</th>\n      <th>부상신고자수</th>\n      <th>발생지시도</th>\n      <th>발생지시군구</th>\n      <th>...</th>\n      <th>사고유형</th>\n      <th>법규위반</th>\n      <th>도로형태_대분류</th>\n      <th>도로형태</th>\n      <th>가해자_당사자종별</th>\n      <th>피해자_당사자종별</th>\n      <th>경도</th>\n      <th>위도</th>\n      <th>발생시각</th>\n      <th>심각도</th>\n    </tr>\n  </thead>\n  <tbody>\n    <tr>\n      <th>0</th>\n      <td>2012010101</td>\n      <td>야간</td>\n      <td>4</td>\n      <td>1</td>\n      <td>1</td>\n      <td>0</td>\n      <td>0</td>\n      <td>0</td>\n      <td>서울</td>\n      <td>은평구</td>\n      <td>...</td>\n      <td>16</td>\n      <td>6</td>\n      <td>단일로</td>\n      <td>7</td>\n      <td>6</td>\n      <td>4</td>\n      <td>126.931890</td>\n      <td>37.612680</td>\n      <td>1</td>\n      <td>2</td>\n    </tr>\n    <tr>\n      <th>1</th>\n      <td>2012010101</td>\n      <td>야간</td>\n      <td>4</td>\n      <td>1</td>\n      <td>6</td>\n      <td>5</td>\n      <td>0</td>\n      <td>0</td>\n      <td>전북</td>\n      <td>정읍시</td>\n      <td>...</td>\n      <td>10</td>\n      <td>7</td>\n      <td>단일로</td>\n      <td>7</td>\n      <td>6</td>\n      <td>7</td>\n      <td>126.909523</td>\n      <td>35.633956</td>\n      <td>1</td>\n      <td>2</td>\n    </tr>\n    <tr>\n      <th>2</th>\n      <td>2012010108</td>\n      <td>주간</td>\n      <td>4</td>\n      <td>1</td>\n      <td>1</td>\n      <td>0</td>\n      <td>0</td>\n      <td>0</td>\n      <td>충남</td>\n      <td>청양군</td>\n      <td>...</td>\n      <td>1</td>\n      <td>6</td>\n      <td>단일로</td>\n      <td>7</td>\n      <td>6</td>\n      <td>9</td>\n      <td>126.830281</td>\n      <td>36.491268</td>\n      <td>8</td>\n      <td>2</td>\n    </tr>\n    <tr>\n      <th>3</th>\n      <td>2012010110</td>\n      <td>주간</td>\n      <td>4</td>\n      <td>2</td>\n      <td>2</td>\n      <td>0</td>\n      <td>0</td>\n      <td>0</td>\n      <td>경남</td>\n      <td>합천군</td>\n      <td>...</td>\n      <td>19</td>\n      <td>0</td>\n      <td>교차로</td>\n      <td>2</td>\n      <td>7</td>\n      <td>7</td>\n      <td>128.155984</td>\n      <td>35.733503</td>\n      <td>10</td>\n      <td>2</td>\n    </tr>\n    <tr>\n      <th>4</th>\n      <td>2012010103</td>\n      <td>야간</td>\n      <td>4</td>\n      <td>1</td>\n      <td>1</td>\n      <td>0</td>\n      <td>0</td>\n      <td>0</td>\n      <td>경북</td>\n      <td>예천군</td>\n      <td>...</td>\n      <td>5</td>\n      <td>6</td>\n      <td>단일로</td>\n      <td>7</td>\n      <td>6</td>\n      <td>9</td>\n      <td>128.284180</td>\n      <td>36.506769</td>\n      <td>3</td>\n      <td>2</td>\n    </tr>\n    <tr>\n      <th>...</th>\n      <td>...</td>\n      <td>...</td>\n      <td>...</td>\n      <td>...</td>\n      <td>...</td>\n      <td>...</td>\n      <td>...</td>\n      <td>...</td>\n      <td>...</td>\n      <td>...</td>\n      <td>...</td>\n      <td>...</td>\n      <td>...</td>\n      <td>...</td>\n      <td>...</td>\n      <td>...</td>\n      <td>...</td>\n      <td>...</td>\n      <td>...</td>\n      <td>...</td>\n      <td>...</td>\n    </tr>\n    <tr>\n      <th>39939</th>\n      <td>2021112608</td>\n      <td>주간</td>\n      <td>0</td>\n      <td>1</td>\n      <td>1</td>\n      <td>0</td>\n      <td>0</td>\n      <td>0</td>\n      <td>경기</td>\n      <td>평택시</td>\n      <td>...</td>\n      <td>2</td>\n      <td>6</td>\n      <td>교차로</td>\n      <td>2</td>\n      <td>6</td>\n      <td>4</td>\n      <td>127.057882</td>\n      <td>37.081528</td>\n      <td>8</td>\n      <td>2</td>\n    </tr>\n    <tr>\n      <th>39940</th>\n      <td>2021112717</td>\n      <td>주간</td>\n      <td>5</td>\n      <td>1</td>\n      <td>1</td>\n      <td>0</td>\n      <td>0</td>\n      <td>0</td>\n      <td>경기</td>\n      <td>평택시</td>\n      <td>...</td>\n      <td>2</td>\n      <td>6</td>\n      <td>단일로</td>\n      <td>7</td>\n      <td>6</td>\n      <td>13</td>\n      <td>127.136562</td>\n      <td>36.998521</td>\n      <td>17</td>\n      <td>2</td>\n    </tr>\n    <tr>\n      <th>39941</th>\n      <td>2021120711</td>\n      <td>주간</td>\n      <td>6</td>\n      <td>1</td>\n      <td>1</td>\n      <td>0</td>\n      <td>0</td>\n      <td>0</td>\n      <td>경기</td>\n      <td>평택시</td>\n      <td>...</td>\n      <td>18</td>\n      <td>6</td>\n      <td>기타</td>\n      <td>5</td>\n      <td>12</td>\n      <td>15</td>\n      <td>126.926540</td>\n      <td>36.963284</td>\n      <td>11</td>\n      <td>2</td>\n    </tr>\n    <tr>\n      <th>39942</th>\n      <td>2021123121</td>\n      <td>야간</td>\n      <td>0</td>\n      <td>1</td>\n      <td>1</td>\n      <td>0</td>\n      <td>0</td>\n      <td>0</td>\n      <td>강원</td>\n      <td>양구군</td>\n      <td>...</td>\n      <td>9</td>\n      <td>7</td>\n      <td>단일로</td>\n      <td>7</td>\n      <td>6</td>\n      <td>9</td>\n      <td>127.985386</td>\n      <td>38.097913</td>\n      <td>21</td>\n      <td>2</td>\n    </tr>\n    <tr>\n      <th>39943</th>\n      <td>2021122601</td>\n      <td>야간</td>\n      <td>4</td>\n      <td>1</td>\n      <td>1</td>\n      <td>0</td>\n      <td>0</td>\n      <td>0</td>\n      <td>강원</td>\n      <td>홍천군</td>\n      <td>...</td>\n      <td>5</td>\n      <td>6</td>\n      <td>단일로</td>\n      <td>7</td>\n      <td>12</td>\n      <td>9</td>\n      <td>127.594217</td>\n      <td>37.687089</td>\n      <td>1</td>\n      <td>2</td>\n    </tr>\n  </tbody>\n</table>\n<p>39944 rows × 22 columns</p>\n</div>"
     },
     "execution_count": 131,
     "metadata": {},
     "output_type": "execute_result"
    }
   ],
   "source": [
    "#무엇을 예측할 것인가?\n",
    "'''\n",
    "이번 분석에서 예측하고자 하는것은 사상자의 수가 아니다. 피해자와 가해자가 얼마나 탑승하였는지는 몇몇 피처들과의 상관관계가\n",
    "있을 수 있으나 강력할 것이라 기대하기는 어렵다. 그보다는 교통사고의 심각한 정도를 확인하고자 한다.\n",
    "그에 대한 기준으로 사망자수,중상자수,경상자수 컬럼을 활용한다. 새로운 '심각도' 컬럼,y로 0:경상자_존재,1:중상자_존재,2:사상자_존재로 한다\n",
    "사망자,중상자,경상자가 존재할 경우 2번에, 중상자,경상자가 존재할 경우 1번에 분류하도록 한다\n",
    "'''\n",
    "casualties= death_df[['사망자수','중상자수','경상자수']]\n",
    "for i in range(len(casualties)):\n",
    "    if casualties['사망자수'][i] != 0:\n",
    "        death_df['심각도']=2\n",
    "    elif casualties['중상자수'][i] !=0:\n",
    "        death_df['심각도']=1\n",
    "    else:\n",
    "        death_df['심각도']=0\n",
    "\n",
    "death_df\n"
   ],
   "metadata": {
    "collapsed": false,
    "pycharm": {
     "name": "#%%\n"
    }
   }
  },
  {
   "cell_type": "code",
   "execution_count": 117,
   "outputs": [],
   "source": [
    "#우선 의사결정나무와 랜덤포레스트 머신러닝 기법을 활용해보도록 한다. 그러므로 범주형 변수의 인코딩으로 레이블인코딩을 해도 되게 된다\n",
    "#3.범주형 변수 인코딩하기\n",
    "#한번만 인코딩해야됨. 두번하면 안됨\n",
    "from sklearn.preprocessing import LabelEncoder\n",
    "\n",
    "categories_backup=[]\n",
    "features=['요일','사고유형','법규위반','도로형태','가해자_당사자종별','피해자_당사자종별']\n",
    "for feature in features:\n",
    "    LE= LabelEncoder()\n",
    "    LE= LE.fit( death_df[feature])\n",
    "    #카테고리 백업해두기\n",
    "    categories_backup.append(list(LE.classes_))\n",
    "    #인코딩하기\n",
    "    death_df[feature]= LE.transform(death_df[feature])"
   ],
   "metadata": {
    "collapsed": false,
    "pycharm": {
     "name": "#%%\n"
    }
   }
  },
  {
   "cell_type": "code",
   "execution_count": 118,
   "outputs": [
    {
     "data": {
      "text/plain": "[['금', '목', '수', '월', '일', '토', '화'],\n ['경보기 무시',\n  '공작물충돌',\n  '기타',\n  '길가장자리구역통행중',\n  '도로이탈 기타',\n  '도로이탈 추락',\n  '보도통행중',\n  '전도',\n  '전도전복',\n  '전복',\n  '정면충돌',\n  '주/정차차량 충돌',\n  '주정차중 추돌',\n  '직전진행',\n  '진행중 추돌',\n  '차단기돌파',\n  '차도통행중',\n  '철길건널목',\n  '추돌',\n  '측면충돌',\n  '횡단중',\n  '후진중충돌'],\n ['과속',\n  '교차로 통행방법 위반',\n  '기타',\n  '보행자 보호의무 위반',\n  '신호위반',\n  '안전거리 미확보',\n  '안전운전 의무 불이행',\n  '중앙선 침범'],\n ['고가도로위',\n  '교량위',\n  '교차로내',\n  '교차로부근',\n  '교차로횡단보도내',\n  '기타',\n  '기타/불명',\n  '기타단일로',\n  '불명',\n  '주차장',\n  '지하차도(도로)내',\n  '철길건널목',\n  '터널안',\n  '횡단보도부근',\n  '횡단보도상'],\n ['개인형이동수단(PM)',\n  '건설기계',\n  '기타',\n  '농기계',\n  '불명',\n  '사륜오토바이(ATV)',\n  '승용차',\n  '승합차',\n  '원동기장치자전거',\n  '이륜차',\n  '자전거',\n  '특수차',\n  '화물차'],\n ['개인형이동수단(PM)',\n  '건설기계',\n  '기타',\n  '농기계',\n  '보행자',\n  '불명',\n  '사륜오토바이(ATV)',\n  '승용차',\n  '승합차',\n  '없음',\n  '열차',\n  '원동기장치자전거',\n  '이륜차',\n  '자전거',\n  '특수차',\n  '화물차']]"
     },
     "execution_count": 118,
     "metadata": {},
     "output_type": "execute_result"
    }
   ],
   "source": [
    "#백업해둔 카테고리명 다시 한번 확인하기\n",
    "categories_backup"
   ],
   "metadata": {
    "collapsed": false,
    "pycharm": {
     "name": "#%%\n"
    }
   }
  },
  {
   "cell_type": "code",
   "execution_count": 120,
   "outputs": [],
   "source": [
    "X=death_df[['발생시각','사고유형','법규위반','도로형태','가해자_당사자종별','피해자_당사자종별']]\n",
    "y_casualty=death_df['사상자수']"
   ],
   "metadata": {
    "collapsed": false,
    "pycharm": {
     "name": "#%%\n"
    }
   }
  },
  {
   "cell_type": "code",
   "execution_count": 121,
   "outputs": [
    {
     "data": {
      "text/plain": "       발생시각  사고유형  법규위반  도로형태  가해자_당사자종별  피해자_당사자종별\n0         1    16     6     7          6          4\n1         1    10     7     7          6          7\n2         8     1     6     7          6          9\n3        10    19     0     2          7          7\n4         3     5     6     7          6          9\n...     ...   ...   ...   ...        ...        ...\n39939     8     2     6     2          6          4\n39940    17     2     6     7          6         13\n39941    11    18     6     5         12         15\n39942    21     9     7     7          6          9\n39943     1     5     6     7         12          9\n\n[39944 rows x 6 columns]",
      "text/html": "<div>\n<style scoped>\n    .dataframe tbody tr th:only-of-type {\n        vertical-align: middle;\n    }\n\n    .dataframe tbody tr th {\n        vertical-align: top;\n    }\n\n    .dataframe thead th {\n        text-align: right;\n    }\n</style>\n<table border=\"1\" class=\"dataframe\">\n  <thead>\n    <tr style=\"text-align: right;\">\n      <th></th>\n      <th>발생시각</th>\n      <th>사고유형</th>\n      <th>법규위반</th>\n      <th>도로형태</th>\n      <th>가해자_당사자종별</th>\n      <th>피해자_당사자종별</th>\n    </tr>\n  </thead>\n  <tbody>\n    <tr>\n      <th>0</th>\n      <td>1</td>\n      <td>16</td>\n      <td>6</td>\n      <td>7</td>\n      <td>6</td>\n      <td>4</td>\n    </tr>\n    <tr>\n      <th>1</th>\n      <td>1</td>\n      <td>10</td>\n      <td>7</td>\n      <td>7</td>\n      <td>6</td>\n      <td>7</td>\n    </tr>\n    <tr>\n      <th>2</th>\n      <td>8</td>\n      <td>1</td>\n      <td>6</td>\n      <td>7</td>\n      <td>6</td>\n      <td>9</td>\n    </tr>\n    <tr>\n      <th>3</th>\n      <td>10</td>\n      <td>19</td>\n      <td>0</td>\n      <td>2</td>\n      <td>7</td>\n      <td>7</td>\n    </tr>\n    <tr>\n      <th>4</th>\n      <td>3</td>\n      <td>5</td>\n      <td>6</td>\n      <td>7</td>\n      <td>6</td>\n      <td>9</td>\n    </tr>\n    <tr>\n      <th>...</th>\n      <td>...</td>\n      <td>...</td>\n      <td>...</td>\n      <td>...</td>\n      <td>...</td>\n      <td>...</td>\n    </tr>\n    <tr>\n      <th>39939</th>\n      <td>8</td>\n      <td>2</td>\n      <td>6</td>\n      <td>2</td>\n      <td>6</td>\n      <td>4</td>\n    </tr>\n    <tr>\n      <th>39940</th>\n      <td>17</td>\n      <td>2</td>\n      <td>6</td>\n      <td>7</td>\n      <td>6</td>\n      <td>13</td>\n    </tr>\n    <tr>\n      <th>39941</th>\n      <td>11</td>\n      <td>18</td>\n      <td>6</td>\n      <td>5</td>\n      <td>12</td>\n      <td>15</td>\n    </tr>\n    <tr>\n      <th>39942</th>\n      <td>21</td>\n      <td>9</td>\n      <td>7</td>\n      <td>7</td>\n      <td>6</td>\n      <td>9</td>\n    </tr>\n    <tr>\n      <th>39943</th>\n      <td>1</td>\n      <td>5</td>\n      <td>6</td>\n      <td>7</td>\n      <td>12</td>\n      <td>9</td>\n    </tr>\n  </tbody>\n</table>\n<p>39944 rows × 6 columns</p>\n</div>"
     },
     "execution_count": 121,
     "metadata": {},
     "output_type": "execute_result"
    }
   ],
   "source": [
    "X"
   ],
   "metadata": {
    "collapsed": false,
    "pycharm": {
     "name": "#%%\n"
    }
   }
  },
  {
   "cell_type": "code",
   "execution_count": null,
   "outputs": [],
   "source": [],
   "metadata": {
    "collapsed": false,
    "pycharm": {
     "name": "#%%\n"
    }
   }
  }
 ],
 "metadata": {
  "kernelspec": {
   "display_name": "Python 3",
   "language": "python",
   "name": "python3"
  },
  "language_info": {
   "codemirror_mode": {
    "name": "ipython",
    "version": 2
   },
   "file_extension": ".py",
   "mimetype": "text/x-python",
   "name": "python",
   "nbconvert_exporter": "python",
   "pygments_lexer": "ipython2",
   "version": "2.7.6"
  }
 },
 "nbformat": 4,
 "nbformat_minor": 0
}