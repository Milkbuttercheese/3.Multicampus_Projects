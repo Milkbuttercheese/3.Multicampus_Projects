{
 "cells": [
  {
   "cell_type": "code",
   "execution_count": 1,
   "metadata": {
    "collapsed": true,
    "pycharm": {
     "name": "#%%\n"
    }
   },
   "outputs": [],
   "source": [
    "#데이터 핸들링 라이브러리\n",
    "import pandas as pd\n",
    "import numpy as np\n",
    "#데이터 시각화 라이브러리\n",
    "import seaborn as sns\n",
    "import matplotlib.pyplot as plt\n",
    "import matplotlib as mpl\n",
    "plt.rcParams.update({'font.family':'AppleGothic'})\n",
    "mpl.rc('axes', unicode_minus=False)\n",
    "%config InlineBackend.figure_format = 'retina'"
   ]
  },
  {
   "cell_type": "markdown",
   "source": [
    "## 데이터 전처리 계획\n",
    "1. 데이터 불러오기, 결측치 처리하기\n",
    "2. 상대적으로 중요성이 떨어져보이는 피처 삭제, 필요하면 피처명을 직관적으로 다시 네이밍하기\n",
    "3. 비숫자-문자열 독립변수 인코딩하기\n",
    "4. 데이터 정규화\n",
    "5. 훈련-테스트셋 분리\n",
    "\n",
    "## 모델 학습 계획\n",
    "1. 모델 생성\n",
    "2. Cross_validation을 통한 모델학습\n",
    "3. Accuracy, Precision,Recall, ROC 4개의 지표로 분류모델의 정확도 평가하기"
   ],
   "metadata": {
    "collapsed": false,
    "pycharm": {
     "name": "#%% md\n"
    }
   }
  },
  {
   "cell_type": "code",
   "execution_count": 7,
   "outputs": [
    {
     "name": "stdout",
     "output_type": "stream",
     "text": [
      "데이터 불러오기 및 통합에 걸린 시간은 30.195999145507812 입니다\n"
     ]
    }
   ],
   "source": [
    "#1. 데이터 불러오기 from TAAS: http://taas.koroad.or.kr/web/shp/sbm/initGisAnals.do?menuId=WEB_KMP_GIS_TAS\n",
    "## 해당 경로에 있는 .csv 파일명 리스트 가져오기\n",
    "\n",
    "import os\n",
    "import time\n",
    "t_0= time.time()\n",
    "\n",
    "path = '../교통사고_2021/'\n",
    "file_list = os.listdir(path)\n",
    "file_list_py = [file for file in file_list if file.endswith('.xls')] ## 파일명 끝이 .xls인 경우\n",
    "\n",
    "## csv 파일들을 DataFrame으로 불러와서 concat\n",
    "\n",
    "death_df_org = pd.DataFrame()\n",
    "for i in file_list_py:\n",
    "    data = pd.read_html(path + i)\n",
    "    data= data[0]\n",
    "    death_df_org = pd.concat([death_df_org,data])\n",
    "\n",
    "death_df_org = death_df_org.reset_index(drop = True)\n",
    "print(f'데이터 불러오기 및 통합에 걸린 시간은 {str(time.time()-t_0)} 입니다')\n",
    "death_df= death_df_org.copy()"
   ],
   "metadata": {
    "collapsed": false,
    "pycharm": {
     "name": "#%%\n"
    }
   }
  },
  {
   "cell_type": "code",
   "execution_count": 8,
   "outputs": [
    {
     "data": {
      "text/plain": "사고번호          0\n사고일시          0\n요일            0\n시군구           0\n사고내용          0\n사망자수          0\n중상자수          0\n경상자수          0\n부상신고자수        0\n사고유형          0\n법규위반          0\n노면상태          0\n기상상태          0\n도로형태          0\n가해운전자 차종      0\n가해운전자 성별      0\n가해운전자 연령      0\n가해운전자 상해정도    0\n피해운전자 차종      0\n피해운전자 성별      0\n피해운전자 연령      0\n피해운전자 상해정도    0\ndtype: int64"
     },
     "execution_count": 8,
     "metadata": {},
     "output_type": "execute_result"
    }
   ],
   "source": [
    "\"\"\"\n",
    "결측치 확인하기 => 피해운전자의 차종,성별,연령,상해정도를 파악하지 못하는 데이터가 6687건이 존재함\n",
    "원본데이터 194094에 비하면 삭제해도 학습에 영향력을 크게 미치지 못할 뿐더러, 이러한 데이터들이\n",
    "특정 편향성을 갖고 존재할 것이라 보기 어렵다(아마도 기록 누락에 의해 이러한 데이터가 존재할 것이기 때문)\n",
    "그렇기 때문에 데이터를 제거해도 될것이라 판단하였음\n",
    "\"\"\"\n",
    "death_df.isnull().sum()\n",
    "death_df.dropna(inplace=True)\n",
    "death_df.isnull().sum()"
   ],
   "metadata": {
    "collapsed": false,
    "pycharm": {
     "name": "#%%\n"
    }
   }
  },
  {
   "cell_type": "code",
   "execution_count": 9,
   "outputs": [
    {
     "name": "stdout",
     "output_type": "stream",
     "text": [
      "<class 'pandas.core.frame.DataFrame'>\n",
      "Int64Index: 187407 entries, 2 to 194093\n",
      "Data columns (total 22 columns):\n",
      " #   Column      Non-Null Count   Dtype \n",
      "---  ------      --------------   ----- \n",
      " 0   사고번호        187407 non-null  int64 \n",
      " 1   사고일시        187407 non-null  object\n",
      " 2   요일          187407 non-null  object\n",
      " 3   시군구         187407 non-null  object\n",
      " 4   사고내용        187407 non-null  object\n",
      " 5   사망자수        187407 non-null  int64 \n",
      " 6   중상자수        187407 non-null  int64 \n",
      " 7   경상자수        187407 non-null  int64 \n",
      " 8   부상신고자수      187407 non-null  int64 \n",
      " 9   사고유형        187407 non-null  object\n",
      " 10  법규위반        187407 non-null  object\n",
      " 11  노면상태        187407 non-null  object\n",
      " 12  기상상태        187407 non-null  object\n",
      " 13  도로형태        187407 non-null  object\n",
      " 14  가해운전자 차종    187407 non-null  object\n",
      " 15  가해운전자 성별    187407 non-null  object\n",
      " 16  가해운전자 연령    187407 non-null  object\n",
      " 17  가해운전자 상해정도  187407 non-null  object\n",
      " 18  피해운전자 차종    187407 non-null  object\n",
      " 19  피해운전자 성별    187407 non-null  object\n",
      " 20  피해운전자 연령    187407 non-null  object\n",
      " 21  피해운전자 상해정도  187407 non-null  object\n",
      "dtypes: int64(5), object(17)\n",
      "memory usage: 32.9+ MB\n",
      "None\n"
     ]
    },
    {
     "data": {
      "text/plain": "               사고번호             사고일시   요일          시군구  사고내용  사망자수  중상자수  \\\n2  2021010100100040  2021년 1월 1일 08시  금요일  강원도 강릉시 강문동  중상사고     0     1   \n3  2021010100100065  2021년 1월 1일 11시  금요일  강원도 강릉시 옥계면  경상사고     0     0   \n4  2021010100100089  2021년 1월 1일 13시  금요일  강원도 동해시 천곡동  경상사고     0     0   \n5  2021010100100123  2021년 1월 1일 15시  금요일  강원도 강릉시 포남동  사망사고     1     0   \n6  2021010100100146  2021년 1월 1일 17시  금요일  강원도 강릉시 옥천동  경상사고     0     0   \n\n   경상자수  부상신고자수        사고유형  ... 기상상태         도로형태 가해운전자 차종 가해운전자 성별 가해운전자 연령  \\\n2     0       0  차대사람 - 횡단중  ...   맑음     단일로 - 기타       화물        남      53세   \n3     4       0  차대차 - 측면충돌  ...   맑음   교차로 - 교차로안       승용        남      43세   \n4     2       0  차대차 - 측면충돌  ...   맑음     단일로 - 기타       승용        남      62세   \n5     0       0  차대차 - 측면충돌  ...   맑음   교차로 - 교차로안      원동기        남      16세   \n6     2       0    차대차 - 추돌  ...   맑음  교차로 - 교차로부근       승용        여      33세   \n\n  가해운전자 상해정도 피해운전자 차종 피해운전자 성별 피해운전자 연령 피해운전자 상해정도  \n2       상해없음      보행자        여      20세         중상  \n3       상해없음       화물        남      49세         경상  \n4       상해없음       승용        남      24세         경상  \n5       상해없음       승용        여      50세       상해없음  \n6       상해없음       승용        남      27세         경상  \n\n[5 rows x 22 columns]",
      "text/html": "<div>\n<style scoped>\n    .dataframe tbody tr th:only-of-type {\n        vertical-align: middle;\n    }\n\n    .dataframe tbody tr th {\n        vertical-align: top;\n    }\n\n    .dataframe thead th {\n        text-align: right;\n    }\n</style>\n<table border=\"1\" class=\"dataframe\">\n  <thead>\n    <tr style=\"text-align: right;\">\n      <th></th>\n      <th>사고번호</th>\n      <th>사고일시</th>\n      <th>요일</th>\n      <th>시군구</th>\n      <th>사고내용</th>\n      <th>사망자수</th>\n      <th>중상자수</th>\n      <th>경상자수</th>\n      <th>부상신고자수</th>\n      <th>사고유형</th>\n      <th>...</th>\n      <th>기상상태</th>\n      <th>도로형태</th>\n      <th>가해운전자 차종</th>\n      <th>가해운전자 성별</th>\n      <th>가해운전자 연령</th>\n      <th>가해운전자 상해정도</th>\n      <th>피해운전자 차종</th>\n      <th>피해운전자 성별</th>\n      <th>피해운전자 연령</th>\n      <th>피해운전자 상해정도</th>\n    </tr>\n  </thead>\n  <tbody>\n    <tr>\n      <th>2</th>\n      <td>2021010100100040</td>\n      <td>2021년 1월 1일 08시</td>\n      <td>금요일</td>\n      <td>강원도 강릉시 강문동</td>\n      <td>중상사고</td>\n      <td>0</td>\n      <td>1</td>\n      <td>0</td>\n      <td>0</td>\n      <td>차대사람 - 횡단중</td>\n      <td>...</td>\n      <td>맑음</td>\n      <td>단일로 - 기타</td>\n      <td>화물</td>\n      <td>남</td>\n      <td>53세</td>\n      <td>상해없음</td>\n      <td>보행자</td>\n      <td>여</td>\n      <td>20세</td>\n      <td>중상</td>\n    </tr>\n    <tr>\n      <th>3</th>\n      <td>2021010100100065</td>\n      <td>2021년 1월 1일 11시</td>\n      <td>금요일</td>\n      <td>강원도 강릉시 옥계면</td>\n      <td>경상사고</td>\n      <td>0</td>\n      <td>0</td>\n      <td>4</td>\n      <td>0</td>\n      <td>차대차 - 측면충돌</td>\n      <td>...</td>\n      <td>맑음</td>\n      <td>교차로 - 교차로안</td>\n      <td>승용</td>\n      <td>남</td>\n      <td>43세</td>\n      <td>상해없음</td>\n      <td>화물</td>\n      <td>남</td>\n      <td>49세</td>\n      <td>경상</td>\n    </tr>\n    <tr>\n      <th>4</th>\n      <td>2021010100100089</td>\n      <td>2021년 1월 1일 13시</td>\n      <td>금요일</td>\n      <td>강원도 동해시 천곡동</td>\n      <td>경상사고</td>\n      <td>0</td>\n      <td>0</td>\n      <td>2</td>\n      <td>0</td>\n      <td>차대차 - 측면충돌</td>\n      <td>...</td>\n      <td>맑음</td>\n      <td>단일로 - 기타</td>\n      <td>승용</td>\n      <td>남</td>\n      <td>62세</td>\n      <td>상해없음</td>\n      <td>승용</td>\n      <td>남</td>\n      <td>24세</td>\n      <td>경상</td>\n    </tr>\n    <tr>\n      <th>5</th>\n      <td>2021010100100123</td>\n      <td>2021년 1월 1일 15시</td>\n      <td>금요일</td>\n      <td>강원도 강릉시 포남동</td>\n      <td>사망사고</td>\n      <td>1</td>\n      <td>0</td>\n      <td>0</td>\n      <td>0</td>\n      <td>차대차 - 측면충돌</td>\n      <td>...</td>\n      <td>맑음</td>\n      <td>교차로 - 교차로안</td>\n      <td>원동기</td>\n      <td>남</td>\n      <td>16세</td>\n      <td>상해없음</td>\n      <td>승용</td>\n      <td>여</td>\n      <td>50세</td>\n      <td>상해없음</td>\n    </tr>\n    <tr>\n      <th>6</th>\n      <td>2021010100100146</td>\n      <td>2021년 1월 1일 17시</td>\n      <td>금요일</td>\n      <td>강원도 강릉시 옥천동</td>\n      <td>경상사고</td>\n      <td>0</td>\n      <td>0</td>\n      <td>2</td>\n      <td>0</td>\n      <td>차대차 - 추돌</td>\n      <td>...</td>\n      <td>맑음</td>\n      <td>교차로 - 교차로부근</td>\n      <td>승용</td>\n      <td>여</td>\n      <td>33세</td>\n      <td>상해없음</td>\n      <td>승용</td>\n      <td>남</td>\n      <td>27세</td>\n      <td>경상</td>\n    </tr>\n  </tbody>\n</table>\n<p>5 rows × 22 columns</p>\n</div>"
     },
     "execution_count": 9,
     "metadata": {},
     "output_type": "execute_result"
    }
   ],
   "source": [
    "#데이터 정보 찾기\n",
    "print(death_df.info())\n",
    "death_df.head()"
   ],
   "metadata": {
    "collapsed": false,
    "pycharm": {
     "name": "#%%\n"
    }
   }
  },
  {
   "cell_type": "markdown",
   "source": [
    "## 종속변수의 카테고리 비율 확인하기\n",
    "- 전체 교통사고중 사망사고의 비율은 약 1.15%로, 낮은 비율을 차지하고 있다"
   ],
   "metadata": {
    "collapsed": false,
    "pycharm": {
     "name": "#%% md\n"
    }
   }
  },
  {
   "cell_type": "code",
   "execution_count": 10,
   "outputs": [
    {
     "name": "stdout",
     "output_type": "stream",
     "text": [
      "경상사고    138186\n",
      "중상사고     47072\n",
      "사망사고      2149\n",
      "Name: 사고내용, dtype: int64\n",
      "전체 사고중 사망사고의 비율은 0.0114670209757373 입니다\n"
     ]
    }
   ],
   "source": [
    "print(death_df['사고내용'].value_counts())\n",
    "ratio=2149/(138186+47072+2149)\n",
    "print(f'전체 사고중 사망사고의 비율은 {str(ratio)} 입니다')"
   ],
   "metadata": {
    "collapsed": false,
    "pycharm": {
     "name": "#%%\n"
    }
   }
  },
  {
   "cell_type": "markdown",
   "source": [
    "## 컬럼 핸들링하기\n",
    "- 불필요해보이는 컬럼 제거하기\n",
    "    1. 사고번호는 각 사고에 대해 일대일 대응되는 key값으로 나중에 데이터를 결합시키는데 사용될 수 있어 보이나, 일단\n",
    "    지금 당장 사용되지 않으므로 삭제한다\n",
    "    2. 사망자수,중상자수,경상자수,부상신고자는 '피해운전자 상해정도'에 필요한 정보가 담겨있으므로 삭제한다\n",
    "    3. 위치정보는 사용하지 않으므로 시군구도 삭제한다\n",
    "- 종속변수 '사고내용'에서 사망자를 1, 중상,경상을 0으로 하는 새로운 종속변수열을 만들기\n",
    "- 발생년월시에서 시간만 떼어내고, 정수형으로 데이터 변환하고, 22~06시를 야간, 그외 시간을 주간으로 분류하는 데이터 프레임 열 만들기\n",
    "- 피해운전자, 가해운전자 연령에서 '세' 단위 떼어내고 정수형으로 데이터 변환하기"
   ],
   "metadata": {
    "collapsed": false,
    "pycharm": {
     "name": "#%% md\n"
    }
   }
  },
  {
   "cell_type": "code",
   "execution_count": 11,
   "outputs": [
    {
     "data": {
      "text/plain": "                    사고번호               사고일시   요일               시군구  사고내용  \\\n2       2021010100100040    2021년 1월 1일 08시  금요일       강원도 강릉시 강문동  중상사고   \n3       2021010100100065    2021년 1월 1일 11시  금요일       강원도 강릉시 옥계면  경상사고   \n4       2021010100100089    2021년 1월 1일 13시  금요일       강원도 동해시 천곡동  경상사고   \n5       2021010100100123    2021년 1월 1일 15시  금요일       강원도 강릉시 포남동  사망사고   \n6       2021010100100146    2021년 1월 1일 17시  금요일       강원도 강릉시 옥천동  경상사고   \n...                  ...                ...  ...               ...   ...   \n194089  2021123100100335  2021년 12월 31일 16시  금요일  충청남도 천안시 동남구 광덕면  경상사고   \n194090  2021123100100383  2021년 12월 31일 17시  금요일      충청남도 부여군 장암면  중상사고   \n194091  2021123100100384  2021년 12월 31일 17시  금요일  충청남도 천안시 동남구 청당동  경상사고   \n194092  2021123100100578  2021년 12월 31일 21시  금요일      충청남도 보령시 명천동  경상사고   \n194093  2021123100100631  2021년 12월 31일 23시  금요일      충청남도 예산군 삽교읍  중상사고   \n\n        사망자수  중상자수  경상자수  부상신고자수        사고유형  ...         도로형태 가해운전자 차종  \\\n2          0     1     0       0  차대사람 - 횡단중  ...     단일로 - 기타       화물   \n3          0     0     4       0  차대차 - 측면충돌  ...   교차로 - 교차로안       승용   \n4          0     0     2       0  차대차 - 측면충돌  ...     단일로 - 기타       승용   \n5          1     0     0       0  차대차 - 측면충돌  ...   교차로 - 교차로안      원동기   \n6          0     0     2       0    차대차 - 추돌  ...  교차로 - 교차로부근       승용   \n...      ...   ...   ...     ...         ...  ...          ...      ...   \n194089     0     0     3       0  차대차 - 측면충돌  ...   교차로 - 교차로안       승용   \n194090     0     1     0       0    차대차 - 추돌  ...     단일로 - 기타       승용   \n194091     0     0     3       0  차대차 - 측면충돌  ...     단일로 - 기타       승용   \n194092     0     0     1       0    차대차 - 추돌  ...      기타 - 기타       승용   \n194093     0     1     0       0   차대사람 - 기타  ...   교차로 - 교차로안       승용   \n\n       가해운전자 성별 가해운전자 연령 가해운전자 상해정도 피해운전자 차종 피해운전자 성별 피해운전자 연령 피해운전자 상해정도  \\\n2             남      53세       상해없음      보행자        여      20세         중상   \n3             남      43세       상해없음       화물        남      49세         경상   \n4             남      62세       상해없음       승용        남      24세         경상   \n5             남      16세       상해없음       승용        여      50세       상해없음   \n6             여      33세       상해없음       승용        남      27세         경상   \n...         ...      ...        ...      ...      ...      ...        ...   \n194089        여      32세         경상       승용        남      42세         경상   \n194090        남      24세       상해없음      자전거        남      78세         중상   \n194091        남      25세         경상       승용        남      22세         경상   \n194092        남      59세       상해없음       승용        여      28세         경상   \n194093        남      56세       상해없음      보행자        남      40세         중상   \n\n       사망사고여부  \n2       False  \n3       False  \n4       False  \n5        True  \n6       False  \n...       ...  \n194089  False  \n194090  False  \n194091  False  \n194092  False  \n194093  False  \n\n[187407 rows x 23 columns]",
      "text/html": "<div>\n<style scoped>\n    .dataframe tbody tr th:only-of-type {\n        vertical-align: middle;\n    }\n\n    .dataframe tbody tr th {\n        vertical-align: top;\n    }\n\n    .dataframe thead th {\n        text-align: right;\n    }\n</style>\n<table border=\"1\" class=\"dataframe\">\n  <thead>\n    <tr style=\"text-align: right;\">\n      <th></th>\n      <th>사고번호</th>\n      <th>사고일시</th>\n      <th>요일</th>\n      <th>시군구</th>\n      <th>사고내용</th>\n      <th>사망자수</th>\n      <th>중상자수</th>\n      <th>경상자수</th>\n      <th>부상신고자수</th>\n      <th>사고유형</th>\n      <th>...</th>\n      <th>도로형태</th>\n      <th>가해운전자 차종</th>\n      <th>가해운전자 성별</th>\n      <th>가해운전자 연령</th>\n      <th>가해운전자 상해정도</th>\n      <th>피해운전자 차종</th>\n      <th>피해운전자 성별</th>\n      <th>피해운전자 연령</th>\n      <th>피해운전자 상해정도</th>\n      <th>사망사고여부</th>\n    </tr>\n  </thead>\n  <tbody>\n    <tr>\n      <th>2</th>\n      <td>2021010100100040</td>\n      <td>2021년 1월 1일 08시</td>\n      <td>금요일</td>\n      <td>강원도 강릉시 강문동</td>\n      <td>중상사고</td>\n      <td>0</td>\n      <td>1</td>\n      <td>0</td>\n      <td>0</td>\n      <td>차대사람 - 횡단중</td>\n      <td>...</td>\n      <td>단일로 - 기타</td>\n      <td>화물</td>\n      <td>남</td>\n      <td>53세</td>\n      <td>상해없음</td>\n      <td>보행자</td>\n      <td>여</td>\n      <td>20세</td>\n      <td>중상</td>\n      <td>False</td>\n    </tr>\n    <tr>\n      <th>3</th>\n      <td>2021010100100065</td>\n      <td>2021년 1월 1일 11시</td>\n      <td>금요일</td>\n      <td>강원도 강릉시 옥계면</td>\n      <td>경상사고</td>\n      <td>0</td>\n      <td>0</td>\n      <td>4</td>\n      <td>0</td>\n      <td>차대차 - 측면충돌</td>\n      <td>...</td>\n      <td>교차로 - 교차로안</td>\n      <td>승용</td>\n      <td>남</td>\n      <td>43세</td>\n      <td>상해없음</td>\n      <td>화물</td>\n      <td>남</td>\n      <td>49세</td>\n      <td>경상</td>\n      <td>False</td>\n    </tr>\n    <tr>\n      <th>4</th>\n      <td>2021010100100089</td>\n      <td>2021년 1월 1일 13시</td>\n      <td>금요일</td>\n      <td>강원도 동해시 천곡동</td>\n      <td>경상사고</td>\n      <td>0</td>\n      <td>0</td>\n      <td>2</td>\n      <td>0</td>\n      <td>차대차 - 측면충돌</td>\n      <td>...</td>\n      <td>단일로 - 기타</td>\n      <td>승용</td>\n      <td>남</td>\n      <td>62세</td>\n      <td>상해없음</td>\n      <td>승용</td>\n      <td>남</td>\n      <td>24세</td>\n      <td>경상</td>\n      <td>False</td>\n    </tr>\n    <tr>\n      <th>5</th>\n      <td>2021010100100123</td>\n      <td>2021년 1월 1일 15시</td>\n      <td>금요일</td>\n      <td>강원도 강릉시 포남동</td>\n      <td>사망사고</td>\n      <td>1</td>\n      <td>0</td>\n      <td>0</td>\n      <td>0</td>\n      <td>차대차 - 측면충돌</td>\n      <td>...</td>\n      <td>교차로 - 교차로안</td>\n      <td>원동기</td>\n      <td>남</td>\n      <td>16세</td>\n      <td>상해없음</td>\n      <td>승용</td>\n      <td>여</td>\n      <td>50세</td>\n      <td>상해없음</td>\n      <td>True</td>\n    </tr>\n    <tr>\n      <th>6</th>\n      <td>2021010100100146</td>\n      <td>2021년 1월 1일 17시</td>\n      <td>금요일</td>\n      <td>강원도 강릉시 옥천동</td>\n      <td>경상사고</td>\n      <td>0</td>\n      <td>0</td>\n      <td>2</td>\n      <td>0</td>\n      <td>차대차 - 추돌</td>\n      <td>...</td>\n      <td>교차로 - 교차로부근</td>\n      <td>승용</td>\n      <td>여</td>\n      <td>33세</td>\n      <td>상해없음</td>\n      <td>승용</td>\n      <td>남</td>\n      <td>27세</td>\n      <td>경상</td>\n      <td>False</td>\n    </tr>\n    <tr>\n      <th>...</th>\n      <td>...</td>\n      <td>...</td>\n      <td>...</td>\n      <td>...</td>\n      <td>...</td>\n      <td>...</td>\n      <td>...</td>\n      <td>...</td>\n      <td>...</td>\n      <td>...</td>\n      <td>...</td>\n      <td>...</td>\n      <td>...</td>\n      <td>...</td>\n      <td>...</td>\n      <td>...</td>\n      <td>...</td>\n      <td>...</td>\n      <td>...</td>\n      <td>...</td>\n      <td>...</td>\n    </tr>\n    <tr>\n      <th>194089</th>\n      <td>2021123100100335</td>\n      <td>2021년 12월 31일 16시</td>\n      <td>금요일</td>\n      <td>충청남도 천안시 동남구 광덕면</td>\n      <td>경상사고</td>\n      <td>0</td>\n      <td>0</td>\n      <td>3</td>\n      <td>0</td>\n      <td>차대차 - 측면충돌</td>\n      <td>...</td>\n      <td>교차로 - 교차로안</td>\n      <td>승용</td>\n      <td>여</td>\n      <td>32세</td>\n      <td>경상</td>\n      <td>승용</td>\n      <td>남</td>\n      <td>42세</td>\n      <td>경상</td>\n      <td>False</td>\n    </tr>\n    <tr>\n      <th>194090</th>\n      <td>2021123100100383</td>\n      <td>2021년 12월 31일 17시</td>\n      <td>금요일</td>\n      <td>충청남도 부여군 장암면</td>\n      <td>중상사고</td>\n      <td>0</td>\n      <td>1</td>\n      <td>0</td>\n      <td>0</td>\n      <td>차대차 - 추돌</td>\n      <td>...</td>\n      <td>단일로 - 기타</td>\n      <td>승용</td>\n      <td>남</td>\n      <td>24세</td>\n      <td>상해없음</td>\n      <td>자전거</td>\n      <td>남</td>\n      <td>78세</td>\n      <td>중상</td>\n      <td>False</td>\n    </tr>\n    <tr>\n      <th>194091</th>\n      <td>2021123100100384</td>\n      <td>2021년 12월 31일 17시</td>\n      <td>금요일</td>\n      <td>충청남도 천안시 동남구 청당동</td>\n      <td>경상사고</td>\n      <td>0</td>\n      <td>0</td>\n      <td>3</td>\n      <td>0</td>\n      <td>차대차 - 측면충돌</td>\n      <td>...</td>\n      <td>단일로 - 기타</td>\n      <td>승용</td>\n      <td>남</td>\n      <td>25세</td>\n      <td>경상</td>\n      <td>승용</td>\n      <td>남</td>\n      <td>22세</td>\n      <td>경상</td>\n      <td>False</td>\n    </tr>\n    <tr>\n      <th>194092</th>\n      <td>2021123100100578</td>\n      <td>2021년 12월 31일 21시</td>\n      <td>금요일</td>\n      <td>충청남도 보령시 명천동</td>\n      <td>경상사고</td>\n      <td>0</td>\n      <td>0</td>\n      <td>1</td>\n      <td>0</td>\n      <td>차대차 - 추돌</td>\n      <td>...</td>\n      <td>기타 - 기타</td>\n      <td>승용</td>\n      <td>남</td>\n      <td>59세</td>\n      <td>상해없음</td>\n      <td>승용</td>\n      <td>여</td>\n      <td>28세</td>\n      <td>경상</td>\n      <td>False</td>\n    </tr>\n    <tr>\n      <th>194093</th>\n      <td>2021123100100631</td>\n      <td>2021년 12월 31일 23시</td>\n      <td>금요일</td>\n      <td>충청남도 예산군 삽교읍</td>\n      <td>중상사고</td>\n      <td>0</td>\n      <td>1</td>\n      <td>0</td>\n      <td>0</td>\n      <td>차대사람 - 기타</td>\n      <td>...</td>\n      <td>교차로 - 교차로안</td>\n      <td>승용</td>\n      <td>남</td>\n      <td>56세</td>\n      <td>상해없음</td>\n      <td>보행자</td>\n      <td>남</td>\n      <td>40세</td>\n      <td>중상</td>\n      <td>False</td>\n    </tr>\n  </tbody>\n</table>\n<p>187407 rows × 23 columns</p>\n</div>"
     },
     "execution_count": 11,
     "metadata": {},
     "output_type": "execute_result"
    }
   ],
   "source": [
    "# 경상,중상사고는 0, 사망사고는 1로 라벨링한다\n",
    "index1= death_df['사고내용']=='사망사고'\n",
    "death_df['사망사고여부']=index1\n",
    "death_df\n"
   ],
   "metadata": {
    "collapsed": false,
    "pycharm": {
     "name": "#%%\n"
    }
   }
  },
  {
   "cell_type": "code",
   "execution_count": 12,
   "outputs": [],
   "source": [
    "#불필요해보이는 컬럼 제거\n",
    "death_df.drop(['사고번호','시군구','사망자수','중상자수',\n",
    "               '경상자수','부상신고자수','노면상태','가해운전자 상해정도','피해운전자 상해정도','사고내용'],axis=1,inplace=True)\n",
    "\n",
    "##시간에 따른 시계가 교통사고의 요인중 하나일 수 있으므로 발생년월일시에서 시간만 떼어 새로운 컬럼으로 만듬\n",
    "time_lst= list(death_df['사고일시'])\n",
    "hour_lst=[]\n",
    "for time in time_lst:\n",
    "    hour_lst.append((str(time)[-3:-1]))\n",
    "death_df['사고시각']= hour_lst\n",
    "#사고일시 컬럼은 삭제\n",
    "death_df.drop(['사고일시'],axis=1,inplace=True)\n",
    "\n",
    "#피해운전자, 가해운전자 연령 미분류 삭제하기\n",
    "idx= death_df[death_df['피해운전자 연령']=='미분류'].index\n",
    "death_df.drop(idx,inplace=True)\n",
    "idx= death_df[death_df['피해운전자 연령']=='98세 이상'].index\n",
    "death_df.drop(idx,inplace=True)\n",
    "\n",
    "idx2= death_df[death_df['가해운전자 연령']=='미분류'].index\n",
    "death_df.drop(idx2,inplace=True)\n",
    "\n",
    "#나이 컬럼: 숫자단위만 뽑기\n",
    "suspect_lst= list(death_df['가해운전자 연령'])\n",
    "suspect_old= []\n",
    "for old in suspect_lst:\n",
    "    suspect_old.append((old)[:-1])\n",
    "\n",
    "death_df['가해운전자 연령']=suspect_old\n",
    "\n",
    "victim_lst= list(death_df['피해운전자 연령'])\n",
    "victim_old= []\n",
    "for old in victim_lst:\n",
    "    victim_old.append((old)[:-1])\n",
    "death_df['피해운전자 연령']=victim_old\n",
    "\n"
   ],
   "metadata": {
    "collapsed": false,
    "pycharm": {
     "name": "#%%\n"
    }
   }
  },
  {
   "cell_type": "code",
   "execution_count": 13,
   "outputs": [],
   "source": [
    "index2= death_df['사고시각']=='22','23','24','1','2','3','4','5','6'\n",
    "death_df['야간여부']=index2[0]\n",
    "death_df.drop(['사고시각'],axis=1,inplace=True)"
   ],
   "metadata": {
    "collapsed": false,
    "pycharm": {
     "name": "#%%\n"
    }
   }
  },
  {
   "cell_type": "code",
   "execution_count": 14,
   "outputs": [],
   "source": [
    "death_df=death_df.reindex(columns=['야간여부','사고유형','법규위반','기상상태','도로형태',\n",
    "                                   '가해운전자 차종','가해운전자 성별','가해운전자 연령',\n",
    "                                   '피해운전자 차종','피해운전자 성별','피해운전자 연령','사망사고여부'])"
   ],
   "metadata": {
    "collapsed": false,
    "pycharm": {
     "name": "#%%\n"
    }
   }
  },
  {
   "cell_type": "code",
   "execution_count": 15,
   "outputs": [],
   "source": [
    "#데이터 자료형 변환: 문자열-> 정수형\n",
    "death_df['가해운전자 연령']=death_df['가해운전자 연령'].astype('int')\n",
    "death_df['피해운전자 연령']=death_df['피해운전자 연령'].astype('int')"
   ],
   "metadata": {
    "collapsed": false,
    "pycharm": {
     "name": "#%%\n"
    }
   }
  },
  {
   "cell_type": "code",
   "execution_count": 16,
   "outputs": [
    {
     "data": {
      "text/plain": "         야간여부        사고유형       법규위반 기상상태         도로형태 가해운전자 차종 가해운전자 성별  \\\n2       False  차대사람 - 횡단중  보행자보호의무위반   맑음     단일로 - 기타       화물        남   \n3       False  차대차 - 측면충돌       신호위반   맑음   교차로 - 교차로안       승용        남   \n4       False  차대차 - 측면충돌         기타   맑음     단일로 - 기타       승용        남   \n5       False  차대차 - 측면충돌    안전운전불이행   맑음   교차로 - 교차로안      원동기        남   \n6       False    차대차 - 추돌    안전운전불이행   맑음  교차로 - 교차로부근       승용        여   \n...       ...         ...        ...  ...          ...      ...      ...   \n194089  False  차대차 - 측면충돌       신호위반   맑음   교차로 - 교차로안       승용        여   \n194090  False    차대차 - 추돌    안전운전불이행   맑음     단일로 - 기타       승용        남   \n194091  False  차대차 - 측면충돌    안전운전불이행   맑음     단일로 - 기타       승용        남   \n194092  False    차대차 - 추돌         기타   맑음      기타 - 기타       승용        남   \n194093  False   차대사람 - 기타    안전운전불이행   맑음   교차로 - 교차로안       승용        남   \n\n        가해운전자 연령 피해운전자 차종 피해운전자 성별  피해운전자 연령  사망사고여부  \n2             53      보행자        여        20   False  \n3             43       화물        남        49   False  \n4             62       승용        남        24   False  \n5             16       승용        여        50    True  \n6             33       승용        남        27   False  \n...          ...      ...      ...       ...     ...  \n194089        32       승용        남        42   False  \n194090        24      자전거        남        78   False  \n194091        25       승용        남        22   False  \n194092        59       승용        여        28   False  \n194093        56      보행자        남        40   False  \n\n[184916 rows x 12 columns]",
      "text/html": "<div>\n<style scoped>\n    .dataframe tbody tr th:only-of-type {\n        vertical-align: middle;\n    }\n\n    .dataframe tbody tr th {\n        vertical-align: top;\n    }\n\n    .dataframe thead th {\n        text-align: right;\n    }\n</style>\n<table border=\"1\" class=\"dataframe\">\n  <thead>\n    <tr style=\"text-align: right;\">\n      <th></th>\n      <th>야간여부</th>\n      <th>사고유형</th>\n      <th>법규위반</th>\n      <th>기상상태</th>\n      <th>도로형태</th>\n      <th>가해운전자 차종</th>\n      <th>가해운전자 성별</th>\n      <th>가해운전자 연령</th>\n      <th>피해운전자 차종</th>\n      <th>피해운전자 성별</th>\n      <th>피해운전자 연령</th>\n      <th>사망사고여부</th>\n    </tr>\n  </thead>\n  <tbody>\n    <tr>\n      <th>2</th>\n      <td>False</td>\n      <td>차대사람 - 횡단중</td>\n      <td>보행자보호의무위반</td>\n      <td>맑음</td>\n      <td>단일로 - 기타</td>\n      <td>화물</td>\n      <td>남</td>\n      <td>53</td>\n      <td>보행자</td>\n      <td>여</td>\n      <td>20</td>\n      <td>False</td>\n    </tr>\n    <tr>\n      <th>3</th>\n      <td>False</td>\n      <td>차대차 - 측면충돌</td>\n      <td>신호위반</td>\n      <td>맑음</td>\n      <td>교차로 - 교차로안</td>\n      <td>승용</td>\n      <td>남</td>\n      <td>43</td>\n      <td>화물</td>\n      <td>남</td>\n      <td>49</td>\n      <td>False</td>\n    </tr>\n    <tr>\n      <th>4</th>\n      <td>False</td>\n      <td>차대차 - 측면충돌</td>\n      <td>기타</td>\n      <td>맑음</td>\n      <td>단일로 - 기타</td>\n      <td>승용</td>\n      <td>남</td>\n      <td>62</td>\n      <td>승용</td>\n      <td>남</td>\n      <td>24</td>\n      <td>False</td>\n    </tr>\n    <tr>\n      <th>5</th>\n      <td>False</td>\n      <td>차대차 - 측면충돌</td>\n      <td>안전운전불이행</td>\n      <td>맑음</td>\n      <td>교차로 - 교차로안</td>\n      <td>원동기</td>\n      <td>남</td>\n      <td>16</td>\n      <td>승용</td>\n      <td>여</td>\n      <td>50</td>\n      <td>True</td>\n    </tr>\n    <tr>\n      <th>6</th>\n      <td>False</td>\n      <td>차대차 - 추돌</td>\n      <td>안전운전불이행</td>\n      <td>맑음</td>\n      <td>교차로 - 교차로부근</td>\n      <td>승용</td>\n      <td>여</td>\n      <td>33</td>\n      <td>승용</td>\n      <td>남</td>\n      <td>27</td>\n      <td>False</td>\n    </tr>\n    <tr>\n      <th>...</th>\n      <td>...</td>\n      <td>...</td>\n      <td>...</td>\n      <td>...</td>\n      <td>...</td>\n      <td>...</td>\n      <td>...</td>\n      <td>...</td>\n      <td>...</td>\n      <td>...</td>\n      <td>...</td>\n      <td>...</td>\n    </tr>\n    <tr>\n      <th>194089</th>\n      <td>False</td>\n      <td>차대차 - 측면충돌</td>\n      <td>신호위반</td>\n      <td>맑음</td>\n      <td>교차로 - 교차로안</td>\n      <td>승용</td>\n      <td>여</td>\n      <td>32</td>\n      <td>승용</td>\n      <td>남</td>\n      <td>42</td>\n      <td>False</td>\n    </tr>\n    <tr>\n      <th>194090</th>\n      <td>False</td>\n      <td>차대차 - 추돌</td>\n      <td>안전운전불이행</td>\n      <td>맑음</td>\n      <td>단일로 - 기타</td>\n      <td>승용</td>\n      <td>남</td>\n      <td>24</td>\n      <td>자전거</td>\n      <td>남</td>\n      <td>78</td>\n      <td>False</td>\n    </tr>\n    <tr>\n      <th>194091</th>\n      <td>False</td>\n      <td>차대차 - 측면충돌</td>\n      <td>안전운전불이행</td>\n      <td>맑음</td>\n      <td>단일로 - 기타</td>\n      <td>승용</td>\n      <td>남</td>\n      <td>25</td>\n      <td>승용</td>\n      <td>남</td>\n      <td>22</td>\n      <td>False</td>\n    </tr>\n    <tr>\n      <th>194092</th>\n      <td>False</td>\n      <td>차대차 - 추돌</td>\n      <td>기타</td>\n      <td>맑음</td>\n      <td>기타 - 기타</td>\n      <td>승용</td>\n      <td>남</td>\n      <td>59</td>\n      <td>승용</td>\n      <td>여</td>\n      <td>28</td>\n      <td>False</td>\n    </tr>\n    <tr>\n      <th>194093</th>\n      <td>False</td>\n      <td>차대사람 - 기타</td>\n      <td>안전운전불이행</td>\n      <td>맑음</td>\n      <td>교차로 - 교차로안</td>\n      <td>승용</td>\n      <td>남</td>\n      <td>56</td>\n      <td>보행자</td>\n      <td>남</td>\n      <td>40</td>\n      <td>False</td>\n    </tr>\n  </tbody>\n</table>\n<p>184916 rows × 12 columns</p>\n</div>"
     },
     "execution_count": 16,
     "metadata": {},
     "output_type": "execute_result"
    }
   ],
   "source": [
    "death_df"
   ],
   "metadata": {
    "collapsed": false,
    "pycharm": {
     "name": "#%%\n"
    }
   }
  },
  {
   "cell_type": "markdown",
   "source": [
    "![](https://scikit-learn.org/stable/_images/multi_org_chart.png)"
   ],
   "metadata": {
    "collapsed": false,
    "pycharm": {
     "name": "#%% md\n"
    }
   }
  },
  {
   "cell_type": "markdown",
   "source": [
    "## 3.범주형 변수 인코딩하기(한번만 인코딩 해야됨 두번하면 안됨)\n",
    "- 랜덤 포레스트나 트리 기반 알고리즘의 경우 LabelEncdoer를 활용한 인코딩을 하여도 되나, 그 외의 경우 One-Hot Encoding을 하여야 한다\n",
    "- One-Hot Encoding으로 sklearn에도 모듈이 있지만 pd.get_dummies가 사용편의성이 좋은듯\n",
    "- [아 졸려](https://blog.roboflow.com/precision-and-recall/#precision-and-recall-examples)"
   ],
   "metadata": {
    "collapsed": false,
    "pycharm": {
     "name": "#%% md\n"
    }
   }
  },
  {
   "cell_type": "code",
   "execution_count": 17,
   "outputs": [],
   "source": [
    "#features=['야간여부','사고유형','법규위반','기상상태','도로형태','가해운전자 차종','피해운전자 차종','사망사고여부']\n",
    "features=['야간여부','사고유형','법규위반','기상상태','도로형태',\n",
    "         '가해운전자 차종','가해운전자 성별',\n",
    "         '피해운전자 차종','피해운전자 성별','사망사고여부']\n",
    "encoded_df_org= pd.get_dummies(data=death_df,columns=features,prefix=features)\n",
    "encoded_df=encoded_df_org.copy()\n",
    "\n"
   ],
   "metadata": {
    "collapsed": false,
    "pycharm": {
     "name": "#%%\n"
    }
   }
  },
  {
   "cell_type": "code",
   "execution_count": 18,
   "outputs": [],
   "source": [
    "#데이터 분리시키기\n",
    "y=encoded_df['사망사고여부_True']\n",
    "X=encoded_df.drop(['사망사고여부_True','사망사고여부_False'],axis=1)\n",
    "from sklearn.model_selection import train_test_split\n",
    "X_train, X_test, y_train,y_test= train_test_split(X,y,test_size=0.2)\n",
    "\n",
    "#X_train,y_train을 다시 학습과 검증 데이터셋으로 분리\n",
    "X_tr,X_val, y_tr,y_val =train_test_split(X_train,y_train,test_size=0.3,random_state=0)"
   ],
   "metadata": {
    "collapsed": false,
    "pycharm": {
     "name": "#%%\n"
    }
   }
  },
  {
   "cell_type": "markdown",
   "source": [
    "## 머신러닝 모듈 정리해두기"
   ],
   "metadata": {
    "collapsed": false,
    "pycharm": {
     "name": "#%% md\n"
    }
   }
  },
  {
   "cell_type": "code",
   "execution_count": null,
   "outputs": [],
   "source": [
    "#머신러닝 모듈 정리해두기\n",
    "\n",
    "\"\"\"\"Binarizer: 문턱값(threshold)를 설정하여 그 이상값을 입력받으면 1을, 아니면 0을 반환하는 함수.\n",
    "보통 pred_proba란 함수가 특정 카테고리에 대한 확률값을 제공하는 함수인데, 지금 이 예제와 같이 y의 0과 1의 비율이 크게 차이가\n",
    "나는 경우 1에 대한 예측 확률이 크게 작다. 원래는 1에 대한 pred_proba 예측이 0.5이상 일때 1을 예측하는데, Binarizer를 통해\n",
    "1을 예측하기 위한 확률 문턱값을 낮출수 있고, 그를 통해 재현율(실제 1일일때 1을 예측하는 비율)을 높일 수 있다\"\"\"\n",
    "from sklearn.preprocessing import Binarizer\n",
    "\n",
    "#GridSearchCV 라이브러리(HyperParameter를 일일히 대입하여 최적의 파라미터를 찾는 알고리즘)\n",
    "from sklearn.model_selection import GridSearchCV\n",
    "\n",
    "#머신러닝 성능 지표 관련 라이브러리\n",
    "from sklearn.metrics import accuracy_score,precision_score,roc_auc_score,recall_score\n",
    "\n",
    "#머신러닝 Gradient Boost 계열 라이브러리\n",
    "from xgboost import XGBClassifier\n",
    "from lightgbm import LGBMClassifier\n"
   ],
   "metadata": {
    "collapsed": false,
    "pycharm": {
     "name": "#%%\n"
    }
   }
  },
  {
   "cell_type": "code",
   "execution_count": null,
   "outputs": [],
   "source": [
    "#모델4. 랜덤 포레스트\n",
    "from sklearn.ensemble import RandomForestClassifier\n",
    "\n",
    "rf_clf= RandomForestClassifier(random_state=0,max_depth=8)\n",
    "rf_clf.fit(X_train,y_train)\n",
    "y_pred= rf_clf.predict(X_test)\n",
    "y_pred_proba= rf_clf.predict_proba(X_test)[:,1]\n",
    "\n",
    "#모델 평가\n",
    "xgb_roc_val= roc_auc_score(y_test,y_pred_proba)\n",
    "recall_val= recall_score(y_test,y_pred)\n",
    "accuracy_val= accuracy_score(y_test,y_pred)\n",
    "precision_val= precision_score(y_test,y_pred)\n",
    "print('\\n--------------------------------------')\n",
    "#print(f'ROC_AUC는 {xgb_roc_score} 입니다')\n",
    "#print(f'precision_score는 {precision_score} 입니다')\n",
    "print('\\n--------------------------------------')\n",
    "print(f'ROC_AUC는 {xgb_roc_val} 입니다')\n",
    "print(f'precision_score는 {precision_val} 입니다')\n",
    "print(f'recall_score는 {recall_val} 입니다')\n",
    "print(f'accuracy_score는 {accuracy_val} 입니다')\n",
    "print('--------------------------------------')"
   ],
   "metadata": {
    "collapsed": false,
    "pycharm": {
     "name": "#%%\n"
    }
   }
  },
  {
   "cell_type": "code",
   "execution_count": null,
   "outputs": [],
   "source": [
    "# #모델 평가\n",
    "# xgb_roc_score= roc_auc_score(y_test,y_pred_proba)\n",
    "# recall_score= recall_score(y_test,y_pred)\n",
    "# accuracy_score= accuracy_score(y_test,y_pred)\n",
    "# precision_score= precision_score(y_test,y_pred)\n",
    "# print('\\n--------------------------------------')\n",
    "# print(f'ROC_AUC는 {xgb_roc_score} 입니다')\n",
    "# print(f'precision_score는 {precision_score} 입니다')\n",
    "# print(f'recall_score는 {recall_score} 입니다')\n",
    "# print(f'accuracy_score는 {accuracy_score} 입니다')\n",
    "# print('--------------------------------------')\n",
    "# #recall_score가 0.036231884057971016: 대부분을 사망안함 0으로 예측안함으로 다른 지표값들을 높여서 이런 현상이 발생했을 가능성이 높음"
   ],
   "metadata": {
    "collapsed": false,
    "pycharm": {
     "name": "#%%\n"
    }
   }
  }
 ],
 "metadata": {
  "kernelspec": {
   "display_name": "Python 3",
   "language": "python",
   "name": "python3"
  },
  "language_info": {
   "codemirror_mode": {
    "name": "ipython",
    "version": 2
   },
   "file_extension": ".py",
   "mimetype": "text/x-python",
   "name": "python",
   "nbconvert_exporter": "python",
   "pygments_lexer": "ipython2",
   "version": "2.7.6"
  }
 },
 "nbformat": 4,
 "nbformat_minor": 0
}