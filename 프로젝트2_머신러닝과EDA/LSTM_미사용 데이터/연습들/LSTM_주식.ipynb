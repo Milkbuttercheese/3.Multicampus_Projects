{
 "cells": [
  {
   "cell_type": "code",
   "execution_count": 8,
   "metadata": {
    "collapsed": true,
    "pycharm": {
     "name": "#%%\n"
    }
   },
   "outputs": [
    {
     "name": "stdout",
     "output_type": "stream",
     "text": [
      "Number of rows and columns: (1259, 7)\n"
     ]
    },
    {
     "data": {
      "text/plain": "            Date        Open        High         Low       Close   Adj Close  \\\n0     2017-08-14   72.926003   73.531998   72.519997   72.760002   72.760002   \n1     2017-08-15   73.040001   73.098000   71.874001   72.466003   72.466003   \n2     2017-08-16   72.599998   73.300003   72.503998   72.582001   72.582001   \n3     2017-08-17   72.241997   72.660004   70.318001   70.384003   70.384003   \n4     2017-08-18   70.582001   70.800003   69.160004   69.491997   69.491997   \n...          ...         ...         ...         ...         ...         ...   \n1254  2022-08-08  885.000000  915.599976  867.260010  871.270020  871.270020   \n1255  2022-08-09  870.880005  877.190002  838.059998  850.000000  850.000000   \n1256  2022-08-10  891.200012  892.530029  850.109985  883.070007  883.070007   \n1257  2022-08-11  889.539978  894.710022  857.500000  859.890015  859.890015   \n1258  2022-08-12  868.250000  900.479980  855.099976  900.090027  900.090027   \n\n        Volume  \n0     22596000  \n1     15425500  \n2     17069000  \n3     25138500  \n4     27041000  \n...        ...  \n1254  32998000  \n1255  28748200  \n1256  31639600  \n1257  23385000  \n1258  26443300  \n\n[1259 rows x 7 columns]",
      "text/html": "<div>\n<style scoped>\n    .dataframe tbody tr th:only-of-type {\n        vertical-align: middle;\n    }\n\n    .dataframe tbody tr th {\n        vertical-align: top;\n    }\n\n    .dataframe thead th {\n        text-align: right;\n    }\n</style>\n<table border=\"1\" class=\"dataframe\">\n  <thead>\n    <tr style=\"text-align: right;\">\n      <th></th>\n      <th>Date</th>\n      <th>Open</th>\n      <th>High</th>\n      <th>Low</th>\n      <th>Close</th>\n      <th>Adj Close</th>\n      <th>Volume</th>\n    </tr>\n  </thead>\n  <tbody>\n    <tr>\n      <th>0</th>\n      <td>2017-08-14</td>\n      <td>72.926003</td>\n      <td>73.531998</td>\n      <td>72.519997</td>\n      <td>72.760002</td>\n      <td>72.760002</td>\n      <td>22596000</td>\n    </tr>\n    <tr>\n      <th>1</th>\n      <td>2017-08-15</td>\n      <td>73.040001</td>\n      <td>73.098000</td>\n      <td>71.874001</td>\n      <td>72.466003</td>\n      <td>72.466003</td>\n      <td>15425500</td>\n    </tr>\n    <tr>\n      <th>2</th>\n      <td>2017-08-16</td>\n      <td>72.599998</td>\n      <td>73.300003</td>\n      <td>72.503998</td>\n      <td>72.582001</td>\n      <td>72.582001</td>\n      <td>17069000</td>\n    </tr>\n    <tr>\n      <th>3</th>\n      <td>2017-08-17</td>\n      <td>72.241997</td>\n      <td>72.660004</td>\n      <td>70.318001</td>\n      <td>70.384003</td>\n      <td>70.384003</td>\n      <td>25138500</td>\n    </tr>\n    <tr>\n      <th>4</th>\n      <td>2017-08-18</td>\n      <td>70.582001</td>\n      <td>70.800003</td>\n      <td>69.160004</td>\n      <td>69.491997</td>\n      <td>69.491997</td>\n      <td>27041000</td>\n    </tr>\n    <tr>\n      <th>...</th>\n      <td>...</td>\n      <td>...</td>\n      <td>...</td>\n      <td>...</td>\n      <td>...</td>\n      <td>...</td>\n      <td>...</td>\n    </tr>\n    <tr>\n      <th>1254</th>\n      <td>2022-08-08</td>\n      <td>885.000000</td>\n      <td>915.599976</td>\n      <td>867.260010</td>\n      <td>871.270020</td>\n      <td>871.270020</td>\n      <td>32998000</td>\n    </tr>\n    <tr>\n      <th>1255</th>\n      <td>2022-08-09</td>\n      <td>870.880005</td>\n      <td>877.190002</td>\n      <td>838.059998</td>\n      <td>850.000000</td>\n      <td>850.000000</td>\n      <td>28748200</td>\n    </tr>\n    <tr>\n      <th>1256</th>\n      <td>2022-08-10</td>\n      <td>891.200012</td>\n      <td>892.530029</td>\n      <td>850.109985</td>\n      <td>883.070007</td>\n      <td>883.070007</td>\n      <td>31639600</td>\n    </tr>\n    <tr>\n      <th>1257</th>\n      <td>2022-08-11</td>\n      <td>889.539978</td>\n      <td>894.710022</td>\n      <td>857.500000</td>\n      <td>859.890015</td>\n      <td>859.890015</td>\n      <td>23385000</td>\n    </tr>\n    <tr>\n      <th>1258</th>\n      <td>2022-08-12</td>\n      <td>868.250000</td>\n      <td>900.479980</td>\n      <td>855.099976</td>\n      <td>900.090027</td>\n      <td>900.090027</td>\n      <td>26443300</td>\n    </tr>\n  </tbody>\n</table>\n<p>1259 rows × 7 columns</p>\n</div>"
     },
     "execution_count": 8,
     "metadata": {},
     "output_type": "execute_result"
    }
   ],
   "source": [
    "import math\n",
    "import matplotlib.pyplot as plt\n",
    "import keras\n",
    "import pandas as pd\n",
    "import numpy as np\n",
    "from keras.models import Sequential\n",
    "from keras.layers import Dense\n",
    "from keras.layers import LSTM\n",
    "from keras.layers import Dropout\n",
    "from keras.layers import *\n",
    "from sklearn.preprocessing import MinMaxScaler\n",
    "from sklearn.metrics import mean_squared_error\n",
    "from sklearn.metrics import mean_absolute_error\n",
    "from sklearn.model_selection import train_test_split\n",
    "from keras.callbacks import EarlyStopping\n",
    "\n",
    "import tensorflow as tf\n",
    "tf.config.experimental.set_visible_devices([], 'GPU')\n",
    "\n",
    "df=pd.read_csv(\"./LSTM_데이터/TSLA.csv\")\n",
    "print('Number of rows and columns:', df.shape)\n",
    "df"
   ]
  },
  {
   "cell_type": "code",
   "execution_count": 9,
   "outputs": [],
   "source": [
    "#open price를 target value로 한다\n",
    "training_set = df.iloc[:800, 1:2].values\n",
    "test_set = df.iloc[800:, 1:2].values\n",
    "\n",
    "# Feature Scaling\n",
    "sc = MinMaxScaler(feature_range = (0, 1))\n",
    "training_set_scaled = sc.fit_transform(training_set)\n",
    "# Creating a data structure with 60 time-steps and 1 output\n",
    "X_train = []\n",
    "y_train = []\n",
    "for i in range(60, 800):\n",
    "    X_train.append(training_set_scaled[i-60:i, 0])\n",
    "    y_train.append(training_set_scaled[i, 0])\n",
    "X_train, y_train = np.array(X_train), np.array(y_train)\n",
    "X_train = np.reshape(X_train, (X_train.shape[0], X_train.shape[1], 1))\n",
    "#(740, 60, 1)\n",
    "\n"
   ],
   "metadata": {
    "collapsed": false,
    "pycharm": {
     "name": "#%%\n"
    }
   }
  },
  {
   "cell_type": "code",
   "execution_count": 10,
   "outputs": [
    {
     "name": "stdout",
     "output_type": "stream",
     "text": [
      "Epoch 1/100\n",
      "24/24 [==============================] - 3s 42ms/step - loss: 0.0198\n",
      "Epoch 2/100\n",
      "24/24 [==============================] - 1s 47ms/step - loss: 0.0036\n",
      "Epoch 3/100\n",
      "24/24 [==============================] - 1s 42ms/step - loss: 0.0060\n",
      "Epoch 4/100\n",
      "24/24 [==============================] - 1s 43ms/step - loss: 0.0028\n",
      "Epoch 5/100\n",
      "24/24 [==============================] - 1s 47ms/step - loss: 0.0026\n",
      "Epoch 6/100\n",
      "24/24 [==============================] - 1s 46ms/step - loss: 0.0027\n",
      "Epoch 7/100\n",
      "24/24 [==============================] - 1s 49ms/step - loss: 0.0029\n",
      "Epoch 8/100\n",
      "24/24 [==============================] - 1s 47ms/step - loss: 0.0034\n",
      "Epoch 9/100\n",
      "24/24 [==============================] - 1s 46ms/step - loss: 0.0023\n",
      "Epoch 10/100\n",
      "24/24 [==============================] - 1s 46ms/step - loss: 0.0038\n",
      "Epoch 11/100\n",
      "24/24 [==============================] - 1s 46ms/step - loss: 0.0029\n",
      "Epoch 12/100\n",
      "24/24 [==============================] - 1s 48ms/step - loss: 0.0028\n",
      "Epoch 13/100\n",
      "24/24 [==============================] - 1s 49ms/step - loss: 0.0027\n",
      "Epoch 14/100\n",
      "24/24 [==============================] - 1s 47ms/step - loss: 0.0026\n",
      "Epoch 15/100\n",
      "24/24 [==============================] - 1s 48ms/step - loss: 0.0025\n",
      "Epoch 16/100\n",
      "24/24 [==============================] - 1s 47ms/step - loss: 0.0020\n",
      "Epoch 17/100\n",
      "24/24 [==============================] - 1s 47ms/step - loss: 0.0019\n",
      "Epoch 18/100\n",
      "24/24 [==============================] - 1s 48ms/step - loss: 0.0024\n",
      "Epoch 19/100\n",
      "24/24 [==============================] - 1s 47ms/step - loss: 0.0023\n",
      "Epoch 20/100\n",
      "24/24 [==============================] - 1s 47ms/step - loss: 0.0022\n",
      "Epoch 21/100\n",
      "24/24 [==============================] - 1s 47ms/step - loss: 0.0022\n",
      "Epoch 22/100\n",
      "24/24 [==============================] - 1s 47ms/step - loss: 0.0025\n",
      "Epoch 23/100\n",
      "24/24 [==============================] - 1s 49ms/step - loss: 0.0030\n",
      "Epoch 24/100\n",
      "24/24 [==============================] - 1s 47ms/step - loss: 0.0027\n",
      "Epoch 25/100\n",
      "24/24 [==============================] - 1s 47ms/step - loss: 0.0028\n",
      "Epoch 26/100\n",
      "24/24 [==============================] - 1s 46ms/step - loss: 0.0020\n",
      "Epoch 27/100\n",
      "24/24 [==============================] - 1s 46ms/step - loss: 0.0018\n",
      "Epoch 28/100\n",
      "24/24 [==============================] - 1s 48ms/step - loss: 0.0022\n",
      "Epoch 29/100\n",
      "24/24 [==============================] - 1s 46ms/step - loss: 0.0020\n",
      "Epoch 30/100\n",
      "24/24 [==============================] - 1s 46ms/step - loss: 0.0015\n",
      "Epoch 31/100\n",
      "24/24 [==============================] - 1s 46ms/step - loss: 0.0016\n",
      "Epoch 32/100\n",
      "24/24 [==============================] - 1s 46ms/step - loss: 0.0014\n",
      "Epoch 33/100\n",
      "24/24 [==============================] - 1s 48ms/step - loss: 0.0016\n",
      "Epoch 34/100\n",
      "24/24 [==============================] - 1s 46ms/step - loss: 0.0013\n",
      "Epoch 35/100\n",
      "24/24 [==============================] - 1s 46ms/step - loss: 0.0018\n",
      "Epoch 36/100\n",
      "24/24 [==============================] - 1s 46ms/step - loss: 0.0015\n",
      "Epoch 37/100\n",
      "24/24 [==============================] - 1s 46ms/step - loss: 0.0015\n",
      "Epoch 38/100\n",
      "24/24 [==============================] - 1s 47ms/step - loss: 0.0014\n",
      "Epoch 39/100\n",
      "24/24 [==============================] - 1s 47ms/step - loss: 0.0014\n",
      "Epoch 40/100\n",
      "24/24 [==============================] - 1s 46ms/step - loss: 0.0013\n",
      "Epoch 41/100\n",
      "24/24 [==============================] - 1s 46ms/step - loss: 0.0013\n",
      "Epoch 42/100\n",
      "24/24 [==============================] - 1s 46ms/step - loss: 0.0014\n",
      "Epoch 43/100\n",
      "24/24 [==============================] - 1s 47ms/step - loss: 0.0013\n",
      "Epoch 44/100\n",
      "24/24 [==============================] - 1s 47ms/step - loss: 0.0013\n",
      "Epoch 45/100\n",
      "24/24 [==============================] - 1s 46ms/step - loss: 0.0013\n",
      "Epoch 46/100\n",
      "24/24 [==============================] - 1s 46ms/step - loss: 0.0012\n",
      "Epoch 47/100\n",
      "24/24 [==============================] - 1s 46ms/step - loss: 0.0014\n",
      "Epoch 48/100\n",
      "24/24 [==============================] - 1s 47ms/step - loss: 0.0014\n",
      "Epoch 49/100\n",
      "24/24 [==============================] - 1s 47ms/step - loss: 0.0013\n",
      "Epoch 50/100\n",
      "24/24 [==============================] - 1s 49ms/step - loss: 0.0015\n",
      "Epoch 51/100\n",
      "24/24 [==============================] - 1s 46ms/step - loss: 0.0014\n",
      "Epoch 52/100\n",
      "24/24 [==============================] - 1s 46ms/step - loss: 0.0015\n",
      "Epoch 53/100\n",
      "24/24 [==============================] - 1s 46ms/step - loss: 0.0015\n",
      "Epoch 54/100\n",
      "24/24 [==============================] - 1s 48ms/step - loss: 0.0015\n",
      "Epoch 55/100\n",
      "24/24 [==============================] - 1s 46ms/step - loss: 0.0015\n",
      "Epoch 56/100\n",
      "24/24 [==============================] - 1s 47ms/step - loss: 0.0012\n",
      "Epoch 57/100\n",
      "24/24 [==============================] - 1s 46ms/step - loss: 0.0013\n",
      "Epoch 58/100\n",
      "24/24 [==============================] - 1s 46ms/step - loss: 0.0015\n",
      "Epoch 59/100\n",
      "24/24 [==============================] - 1s 48ms/step - loss: 0.0014\n",
      "Epoch 60/100\n",
      "24/24 [==============================] - 1s 46ms/step - loss: 0.0013\n",
      "Epoch 61/100\n",
      "24/24 [==============================] - 1s 46ms/step - loss: 0.0012\n",
      "Epoch 62/100\n",
      "24/24 [==============================] - 1s 46ms/step - loss: 0.0014\n",
      "Epoch 63/100\n",
      "24/24 [==============================] - 1s 46ms/step - loss: 0.0013\n",
      "Epoch 64/100\n",
      "24/24 [==============================] - 1s 48ms/step - loss: 0.0013\n",
      "Epoch 65/100\n",
      "24/24 [==============================] - 1s 46ms/step - loss: 0.0014\n",
      "Epoch 66/100\n",
      "24/24 [==============================] - 1s 47ms/step - loss: 0.0013\n",
      "Epoch 67/100\n",
      "24/24 [==============================] - 1s 46ms/step - loss: 0.0012\n",
      "Epoch 68/100\n",
      "24/24 [==============================] - 1s 46ms/step - loss: 0.0013\n",
      "Epoch 69/100\n",
      "24/24 [==============================] - 1s 48ms/step - loss: 0.0010\n",
      "Epoch 70/100\n",
      "24/24 [==============================] - 1s 47ms/step - loss: 0.0012\n",
      "Epoch 71/100\n",
      "24/24 [==============================] - 1s 46ms/step - loss: 0.0013\n",
      "Epoch 72/100\n",
      "24/24 [==============================] - 1s 46ms/step - loss: 0.0012\n",
      "Epoch 73/100\n",
      "24/24 [==============================] - 1s 46ms/step - loss: 0.0013\n",
      "Epoch 74/100\n",
      "24/24 [==============================] - 1s 47ms/step - loss: 0.0011\n",
      "Epoch 75/100\n",
      "24/24 [==============================] - 1s 47ms/step - loss: 0.0013\n",
      "Epoch 76/100\n",
      "24/24 [==============================] - 1s 46ms/step - loss: 0.0014\n",
      "Epoch 77/100\n",
      "24/24 [==============================] - 1s 46ms/step - loss: 0.0021\n",
      "Epoch 78/100\n",
      "24/24 [==============================] - 1s 46ms/step - loss: 0.0017\n",
      "Epoch 79/100\n",
      "24/24 [==============================] - 1s 47ms/step - loss: 0.0014\n",
      "Epoch 80/100\n",
      "24/24 [==============================] - 1s 47ms/step - loss: 0.0013\n",
      "Epoch 81/100\n",
      "24/24 [==============================] - 1s 46ms/step - loss: 9.8116e-04\n",
      "Epoch 82/100\n",
      "24/24 [==============================] - 1s 46ms/step - loss: 0.0012\n",
      "Epoch 83/100\n",
      "24/24 [==============================] - 1s 46ms/step - loss: 0.0013\n",
      "Epoch 84/100\n",
      "24/24 [==============================] - 1s 46ms/step - loss: 0.0011\n",
      "Epoch 85/100\n",
      "24/24 [==============================] - 1s 48ms/step - loss: 0.0010\n",
      "Epoch 86/100\n",
      "24/24 [==============================] - 1s 46ms/step - loss: 0.0013\n",
      "Epoch 87/100\n",
      "24/24 [==============================] - 1s 46ms/step - loss: 0.0010\n",
      "Epoch 88/100\n",
      "24/24 [==============================] - 1s 47ms/step - loss: 0.0011\n",
      "Epoch 89/100\n",
      "24/24 [==============================] - 1s 46ms/step - loss: 0.0012\n",
      "Epoch 90/100\n",
      "24/24 [==============================] - 1s 48ms/step - loss: 0.0011\n",
      "Epoch 91/100\n",
      "24/24 [==============================] - 1s 46ms/step - loss: 0.0011\n",
      "Epoch 92/100\n",
      "24/24 [==============================] - 1s 46ms/step - loss: 0.0014\n",
      "Epoch 93/100\n",
      "24/24 [==============================] - 1s 46ms/step - loss: 0.0011\n",
      "Epoch 94/100\n",
      "24/24 [==============================] - 1s 46ms/step - loss: 8.7126e-04\n",
      "Epoch 95/100\n",
      "24/24 [==============================] - 1s 47ms/step - loss: 9.4662e-04\n",
      "Epoch 96/100\n",
      "24/24 [==============================] - 1s 46ms/step - loss: 0.0012\n",
      "Epoch 97/100\n",
      "24/24 [==============================] - 1s 46ms/step - loss: 9.8075e-04\n",
      "Epoch 98/100\n",
      "24/24 [==============================] - 1s 46ms/step - loss: 0.0011\n",
      "Epoch 99/100\n",
      "24/24 [==============================] - 1s 46ms/step - loss: 0.0011\n",
      "Epoch 100/100\n",
      "24/24 [==============================] - 1s 47ms/step - loss: 0.0011\n"
     ]
    },
    {
     "data": {
      "text/plain": "<keras.callbacks.History at 0x15edfe190>"
     },
     "execution_count": 10,
     "metadata": {},
     "output_type": "execute_result"
    }
   ],
   "source": [
    "model = Sequential()\n",
    "\n",
    "#Adding the first LSTM layer and some Dropout regularisation\n",
    "model.add(LSTM(units = 50, return_sequences = True, input_shape = (X_train.shape[1], 1)))\n",
    "model.add(Dropout(0.2))\n",
    "\n",
    "# Adding a second LSTM layer and some Dropout regularisation\n",
    "model.add(LSTM(units = 50, return_sequences = True))\n",
    "model.add(Dropout(0.2))\n",
    "\n",
    "# Adding a third LSTM layer and some Dropout regularisation\n",
    "model.add(LSTM(units = 50, return_sequences = True))\n",
    "model.add(Dropout(0.2))\n",
    "\n",
    "# Adding a fourth LSTM layer and some Dropout regularisation\n",
    "model.add(LSTM(units = 50))\n",
    "model.add(Dropout(0.2))\n",
    "\n",
    "# Adding the output layer\n",
    "model.add(Dense(units = 1))\n",
    "\n",
    "# Compiling the RNN\n",
    "model.compile(optimizer = 'adam', loss = 'mean_squared_error')\n",
    "# Fitting the RNN to the Training set\n",
    "model.fit(X_train, y_train, epochs = 100, batch_size = 32)"
   ],
   "metadata": {
    "collapsed": false,
    "pycharm": {
     "name": "#%%\n"
    }
   }
  },
  {
   "cell_type": "code",
   "execution_count": 11,
   "outputs": [
    {
     "name": "stdout",
     "output_type": "stream",
     "text": [
      "(459, 60, 1)\n"
     ]
    }
   ],
   "source": [
    "# Getting the predicted stock price of 2017\n",
    "\n",
    "dataset_train = df.iloc[:800, 1:2]\n",
    "\n",
    "dataset_test = df.iloc[800:, 1:2]\n",
    "\n",
    "dataset_total = pd.concat((dataset_train, dataset_test), axis = 0)\n",
    "\n",
    "inputs = dataset_total[len(dataset_total) - len(dataset_test) - 60:].values\n",
    "\n",
    "inputs = inputs.reshape(-1,1)\n",
    "\n",
    "inputs = sc.transform(inputs)\n",
    "\n",
    "X_test = []\n",
    "\n",
    "for i in range(60, 519):\n",
    "\n",
    "    X_test.append(inputs[i-60:i, 0])\n",
    "\n",
    "X_test = np.array(X_test)\n",
    "\n",
    "X_test = np.reshape(X_test, (X_test.shape[0], X_test.shape[1], 1))\n",
    "\n",
    "print(X_test.shape)\n",
    "\n",
    "# (459, 60, 1)"
   ],
   "metadata": {
    "collapsed": false,
    "pycharm": {
     "name": "#%%\n"
    }
   }
  },
  {
   "cell_type": "code",
   "execution_count": 12,
   "outputs": [
    {
     "name": "stdout",
     "output_type": "stream",
     "text": [
      "15/15 [==============================] - 1s 10ms/step\n"
     ]
    }
   ],
   "source": [
    "\n",
    "predicted_stock_price = model.predict(X_test)\n",
    "\n",
    "predicted_stock_price = sc.inverse_transform(predicted_stock_price)"
   ],
   "metadata": {
    "collapsed": false,
    "pycharm": {
     "name": "#%%\n"
    }
   }
  },
  {
   "cell_type": "code",
   "execution_count": 13,
   "outputs": [
    {
     "data": {
      "text/plain": "<Figure size 432x288 with 1 Axes>",
      "image/png": "[encoded data removed]"
     },
     "metadata": {
      "needs_background": "light"
     },
     "output_type": "display_data"
    }
   ],
   "source": [
    "# Visualising the results\n",
    "\n",
    "plt.plot(df.loc[800:, 'Date'],dataset_test.values, color = 'red', label = 'Real TESLA Stock Price')\n",
    "\n",
    "plt.plot(df.loc[800:, 'Date'],predicted_stock_price, color = 'blue', label = 'Predicted TESLA Stock Price')\n",
    "\n",
    "plt.xticks(np.arange(0,459,50))\n",
    "\n",
    "plt.title('TESLA Stock Price Prediction')\n",
    "\n",
    "plt.xlabel('Time')\n",
    "\n",
    "plt.ylabel('TESLA Stock Price')\n",
    "\n",
    "plt.legend()\n",
    "\n",
    "plt.show()"
   ],
   "metadata": {
    "collapsed": false,
    "pycharm": {
     "name": "#%%\n"
    }
   }
  },
  {
   "cell_type": "code",
   "execution_count": 13,
   "outputs": [],
   "source": [],
   "metadata": {
    "collapsed": false,
    "pycharm": {
     "name": "#%%\n"
    }
   }
  }
 ],
 "metadata": {
  "kernelspec": {
   "display_name": "Python 3",
   "language": "python",
   "name": "python3"
  },
  "language_info": {
   "codemirror_mode": {
    "name": "ipython",
    "version": 2
   },
   "file_extension": ".py",
   "mimetype": "text/x-python",
   "name": "python",
   "nbconvert_exporter": "python",
   "pygments_lexer": "ipython2",
   "version": "2.7.6"
  }
 },
 "nbformat": 4,
 "nbformat_minor": 0
}