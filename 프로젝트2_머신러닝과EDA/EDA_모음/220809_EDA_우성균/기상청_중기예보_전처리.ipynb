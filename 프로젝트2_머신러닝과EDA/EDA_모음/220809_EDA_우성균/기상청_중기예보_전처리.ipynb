{
 "cells": [
  {
   "cell_type": "code",
   "execution_count": 7,
   "metadata": {
    "collapsed": true,
    "pycharm": {
     "name": "#%%\n"
    }
   },
   "outputs": [],
   "source": [
    "#데이터 핸들링 라이브러리\n",
    "import pandas as pd\n",
    "import numpy as np\n",
    "#데이터 시각화 라이브러리\n",
    "import seaborn as sns\n",
    "import matplotlib.pyplot as plt\n",
    "import matplotlib as mpl\n",
    "plt.rcParams.update({'font.family':'AppleGothic'})\n",
    "mpl.rc('axes', unicode_minus=False)\n",
    "%config InlineBackend.figure_format = 'retina'\n",
    "\n",
    "\n",
    "import sys\n",
    "sys.path.append('/Users/wooseongkyun/코드_아카이브/프로젝트2_머신러닝과EDA/binomial_classification/preprocessing_data.py')"
   ]
  },
  {
   "cell_type": "code",
   "execution_count": 8,
   "outputs": [
    {
     "name": "stderr",
     "output_type": "stream",
     "text": [
      "/var/folders/m9/0vsmjxhd7q30k5mzw0bk58hh0000gn/T/ipykernel_67650/2234861246.py:2: DtypeWarning: Columns (4) have mixed types. Specify dtype option on import or set low_memory=False.\n",
      "  weather_df= pd.read_csv('./기상청_중기예보_최근5년데이터.csv',encoding='euc-kr')\n"
     ]
    }
   ],
   "source": [
    "#기후 데이터를 가져오기\n",
    "weather_df= pd.read_csv('./기상청_중기예보_최근5년데이터.csv',encoding='euc-kr')\n",
    "weather_df.drop(['강수확률(%)','발표시각','신뢰도'],axis=1,inplace=True)\n",
    "\n",
    "#각 지역별 면적 데이터 가져오기\n",
    "area_proportion_df=pd.read_csv('./시도별_지역면적.csv',encoding='euc-kr')\n",
    "area_proportion_df=area_proportion_df.iloc[16:]\n",
    "area_proportion_df['2020'] = area_proportion_df['2020'].astype(float)\n",
    "\n",
    "\n",
    "area_proportion_df['2020.1']=area_proportion_df['2020.1'].astype(float) *1/100\n",
    "area_proportion_df.drop('2020',axis=1,inplace=True)\n",
    "area_proportion_df.set_index('남북한별 ',inplace=True)\n",
    "#\n",
    "#\n",
    "#기후데이터에서 지역정보 확인하기\n",
    "weather_df['지역'].value_counts()\n",
    "#weathder_area=['서울.인천.경기','충청북도','충청남도','강원영서','강원영동','전라북도','전라남도','제주도','경상북도','경상남도']\n",
    "\n",
    "#기후데이터 카테고리에 맞게 각 지역별 면적 비율 계산하기\n",
    "seoul_incheon_gyeonggi= float( area_proportion_df.loc[['서울특별시','인천광역시','경기도']].sum().values)\n",
    "chungbuk= area_proportion_df.loc['충청북도'].sum()\n",
    "chungnam_daejeon_sejong= float(area_proportion_df.loc[['충청남도','대전광역시','세종특별자치시']].sum().values)\n",
    "jeonbuk= area_proportion_df.loc['전라북도'].sum()\n",
    "jeonnam_gwangju= float(area_proportion_df.loc[['전라남도','광주광역시']].sum().values)\n",
    "gyeongbuk= area_proportion_df.loc['경상북도'].sum()\n",
    "gyeongnam_busan_ulsan= float(area_proportion_df.loc[['경상남도','부산광역시','울산광역시']].sum().values)\n",
    "jeju=  area_proportion_df.loc['제주특별자치도'].sum()\n"
   ],
   "metadata": {
    "collapsed": false,
    "pycharm": {
     "name": "#%%\n"
    }
   }
  },
  {
   "cell_type": "code",
   "execution_count": 9,
   "outputs": [
    {
     "data": {
      "text/plain": "              지역           예보시각    예보\n0       서울.인천.경기  2017-01-04 오전    맑음\n1       서울.인천.경기  2017-01-04 오후    맑음\n2       서울.인천.경기  2017-01-05 오전  구름조금\n3       서울.인천.경기  2017-01-05 오후  구름조금\n4       서울.인천.경기  2017-01-06 오전  구름많음\n...          ...            ...   ...\n474755      경상남도  2022-01-07 오전    맑음\n474756      경상남도  2022-01-07 오후    맑음\n474757      경상남도  2022-01-08 오전    맑음\n474758      경상남도  2022-01-09 오전    맑음\n474759      경상남도  2022-01-10 오전    맑음\n\n[474760 rows x 3 columns]",
      "text/html": "<div>\n<style scoped>\n    .dataframe tbody tr th:only-of-type {\n        vertical-align: middle;\n    }\n\n    .dataframe tbody tr th {\n        vertical-align: top;\n    }\n\n    .dataframe thead th {\n        text-align: right;\n    }\n</style>\n<table border=\"1\" class=\"dataframe\">\n  <thead>\n    <tr style=\"text-align: right;\">\n      <th></th>\n      <th>지역</th>\n      <th>예보시각</th>\n      <th>예보</th>\n    </tr>\n  </thead>\n  <tbody>\n    <tr>\n      <th>0</th>\n      <td>서울.인천.경기</td>\n      <td>2017-01-04 오전</td>\n      <td>맑음</td>\n    </tr>\n    <tr>\n      <th>1</th>\n      <td>서울.인천.경기</td>\n      <td>2017-01-04 오후</td>\n      <td>맑음</td>\n    </tr>\n    <tr>\n      <th>2</th>\n      <td>서울.인천.경기</td>\n      <td>2017-01-05 오전</td>\n      <td>구름조금</td>\n    </tr>\n    <tr>\n      <th>3</th>\n      <td>서울.인천.경기</td>\n      <td>2017-01-05 오후</td>\n      <td>구름조금</td>\n    </tr>\n    <tr>\n      <th>4</th>\n      <td>서울.인천.경기</td>\n      <td>2017-01-06 오전</td>\n      <td>구름많음</td>\n    </tr>\n    <tr>\n      <th>...</th>\n      <td>...</td>\n      <td>...</td>\n      <td>...</td>\n    </tr>\n    <tr>\n      <th>474755</th>\n      <td>경상남도</td>\n      <td>2022-01-07 오전</td>\n      <td>맑음</td>\n    </tr>\n    <tr>\n      <th>474756</th>\n      <td>경상남도</td>\n      <td>2022-01-07 오후</td>\n      <td>맑음</td>\n    </tr>\n    <tr>\n      <th>474757</th>\n      <td>경상남도</td>\n      <td>2022-01-08 오전</td>\n      <td>맑음</td>\n    </tr>\n    <tr>\n      <th>474758</th>\n      <td>경상남도</td>\n      <td>2022-01-09 오전</td>\n      <td>맑음</td>\n    </tr>\n    <tr>\n      <th>474759</th>\n      <td>경상남도</td>\n      <td>2022-01-10 오전</td>\n      <td>맑음</td>\n    </tr>\n  </tbody>\n</table>\n<p>474760 rows × 3 columns</p>\n</div>"
     },
     "execution_count": 9,
     "metadata": {},
     "output_type": "execute_result"
    }
   ],
   "source": [
    "weather_df"
   ],
   "metadata": {
    "collapsed": false,
    "pycharm": {
     "name": "#%%\n"
    }
   }
  },
  {
   "cell_type": "code",
   "execution_count": 10,
   "outputs": [],
   "source": [
    "#강원도를 시도가 아닌 영동,영서지방으로 구분지었다. 영동,영서를 지리적 구분으로 정의한 데이터값을 불러오면\n",
    "yeongdong_data= pd.read_csv('./영동지방.csv',encoding='euc-kr')\n",
    "yeongdong_data=  yeongdong_data[['시군구(1)','2019']]\n",
    "yeongdong_data.set_index('시군구(1)',inplace=True)\n",
    "yeongdong_data.drop(['시군구(1)','시군구(1)'],axis=0,inplace=True)\n",
    "yeongdong_data['2019'] = yeongdong_data['2019'].astype(float)\n",
    "yeongdong_area = yeongdong_data.sum().values\n",
    "\n",
    "yeongseo_data= pd.read_csv('./영서지방.csv',encoding='euc-kr')\n",
    "yeongseo_data=  yeongseo_data[['시군구(1)','2019']]\n",
    "yeongseo_data.set_index('시군구(1)',inplace=True)\n",
    "yeongseo_data.drop(['시군구(1)','시군구(1)'],axis=0,inplace=True)\n",
    "yeongseo_data['2019'] = yeongseo_data['2019'].astype(float)\n",
    "yeongseo_area = yeongseo_data.sum().values\n",
    "\n",
    "#위의 값을 이용하여 영동과 영서 면적 비율 계산하기\n",
    "yeongdong= float((area_proportion_df.loc['강원도']*(yeongdong_area)/(yeongdong_area+yeongseo_area)).values)\n",
    "yeongseo= float((area_proportion_df.loc['강원도']*(yeongseo_area)/(yeongdong_area+yeongseo_area)).values)"
   ],
   "metadata": {
    "collapsed": false,
    "pycharm": {
     "name": "#%%\n"
    }
   }
  },
  {
   "cell_type": "code",
   "execution_count": 11,
   "outputs": [
    {
     "data": {
      "text/plain": "         지역      상대넓이\n0  서울.인천.경기  0.119000\n1      충청북도  0.074000\n2      충청남도  0.092000\n3      강원영서  0.124035\n4      강원영동  0.043965\n5      전라북도  0.080000\n6      전라남도  0.128000\n7       제주도  0.018000\n8      경상북도  0.190000\n9      경상남도  0.124000",
      "text/html": "<div>\n<style scoped>\n    .dataframe tbody tr th:only-of-type {\n        vertical-align: middle;\n    }\n\n    .dataframe tbody tr th {\n        vertical-align: top;\n    }\n\n    .dataframe thead th {\n        text-align: right;\n    }\n</style>\n<table border=\"1\" class=\"dataframe\">\n  <thead>\n    <tr style=\"text-align: right;\">\n      <th></th>\n      <th>지역</th>\n      <th>상대넓이</th>\n    </tr>\n  </thead>\n  <tbody>\n    <tr>\n      <th>0</th>\n      <td>서울.인천.경기</td>\n      <td>0.119000</td>\n    </tr>\n    <tr>\n      <th>1</th>\n      <td>충청북도</td>\n      <td>0.074000</td>\n    </tr>\n    <tr>\n      <th>2</th>\n      <td>충청남도</td>\n      <td>0.092000</td>\n    </tr>\n    <tr>\n      <th>3</th>\n      <td>강원영서</td>\n      <td>0.124035</td>\n    </tr>\n    <tr>\n      <th>4</th>\n      <td>강원영동</td>\n      <td>0.043965</td>\n    </tr>\n    <tr>\n      <th>5</th>\n      <td>전라북도</td>\n      <td>0.080000</td>\n    </tr>\n    <tr>\n      <th>6</th>\n      <td>전라남도</td>\n      <td>0.128000</td>\n    </tr>\n    <tr>\n      <th>7</th>\n      <td>제주도</td>\n      <td>0.018000</td>\n    </tr>\n    <tr>\n      <th>8</th>\n      <td>경상북도</td>\n      <td>0.190000</td>\n    </tr>\n    <tr>\n      <th>9</th>\n      <td>경상남도</td>\n      <td>0.124000</td>\n    </tr>\n  </tbody>\n</table>\n</div>"
     },
     "execution_count": 11,
     "metadata": {},
     "output_type": "execute_result"
    }
   ],
   "source": [
    "area_df= pd.DataFrame([seoul_incheon_gyeonggi,chungbuk,chungnam_daejeon_sejong,\n",
    "                       yeongseo,yeongdong,jeonbuk,jeonnam_gwangju,\n",
    "                       jeju,gyeongbuk,gyeongnam_busan_ulsan],\n",
    "                      ['서울.인천.경기','충청북도','충청남도','강원영서','강원영동','전라북도',\n",
    "                       '전라남도','제주도','경상북도','경상남도'])\n",
    "area_df.reset_index(inplace=True)\n",
    "area_df.rename({'index':'지역',0:'상대넓이'},axis=1,inplace=True)\n",
    "area_df"
   ],
   "metadata": {
    "collapsed": false,
    "pycharm": {
     "name": "#%%\n"
    }
   }
  },
  {
   "cell_type": "markdown",
   "source": [
    "## 갑자기 든 생각인데 날씨에 대한 영향력을 고려한다면 지역 면적이 아니라 각 지역의 교통량이 가중치가 되어야 하는 것이 아닐까?\n",
    "- 서울시는 매우 작은 영역을 차지하지만 거기에서 이동하는 인구는 몹시 큰것을 생각해봐도 그럿듯이\n",
    "- 일단은 다음에.."
   ],
   "metadata": {
    "collapsed": false,
    "pycharm": {
     "name": "#%% md\n"
    }
   }
  },
  {
   "cell_type": "code",
   "execution_count": 12,
   "outputs": [
    {
     "data": {
      "text/plain": "         2020.1\n남북한별           \n서울특별시     0.006\n부산광역시     0.008\n대구광역시     0.009\n인천광역시     0.011\n광주광역시     0.005\n대전광역시     0.005\n울산광역시     0.011\n세종특별자치시   0.005\n경기도       0.102\n강원도       0.168\n충청북도      0.074\n충청남도      0.082\n전라북도      0.080\n전라남도      0.123\n경상북도      0.190\n경상남도      0.105\n제주특별자치도   0.018",
      "text/html": "<div>\n<style scoped>\n    .dataframe tbody tr th:only-of-type {\n        vertical-align: middle;\n    }\n\n    .dataframe tbody tr th {\n        vertical-align: top;\n    }\n\n    .dataframe thead th {\n        text-align: right;\n    }\n</style>\n<table border=\"1\" class=\"dataframe\">\n  <thead>\n    <tr style=\"text-align: right;\">\n      <th></th>\n      <th>2020.1</th>\n    </tr>\n    <tr>\n      <th>남북한별</th>\n      <th></th>\n    </tr>\n  </thead>\n  <tbody>\n    <tr>\n      <th>서울특별시</th>\n      <td>0.006</td>\n    </tr>\n    <tr>\n      <th>부산광역시</th>\n      <td>0.008</td>\n    </tr>\n    <tr>\n      <th>대구광역시</th>\n      <td>0.009</td>\n    </tr>\n    <tr>\n      <th>인천광역시</th>\n      <td>0.011</td>\n    </tr>\n    <tr>\n      <th>광주광역시</th>\n      <td>0.005</td>\n    </tr>\n    <tr>\n      <th>대전광역시</th>\n      <td>0.005</td>\n    </tr>\n    <tr>\n      <th>울산광역시</th>\n      <td>0.011</td>\n    </tr>\n    <tr>\n      <th>세종특별자치시</th>\n      <td>0.005</td>\n    </tr>\n    <tr>\n      <th>경기도</th>\n      <td>0.102</td>\n    </tr>\n    <tr>\n      <th>강원도</th>\n      <td>0.168</td>\n    </tr>\n    <tr>\n      <th>충청북도</th>\n      <td>0.074</td>\n    </tr>\n    <tr>\n      <th>충청남도</th>\n      <td>0.082</td>\n    </tr>\n    <tr>\n      <th>전라북도</th>\n      <td>0.080</td>\n    </tr>\n    <tr>\n      <th>전라남도</th>\n      <td>0.123</td>\n    </tr>\n    <tr>\n      <th>경상북도</th>\n      <td>0.190</td>\n    </tr>\n    <tr>\n      <th>경상남도</th>\n      <td>0.105</td>\n    </tr>\n    <tr>\n      <th>제주특별자치도</th>\n      <td>0.018</td>\n    </tr>\n  </tbody>\n</table>\n</div>"
     },
     "execution_count": 12,
     "metadata": {},
     "output_type": "execute_result"
    }
   ],
   "source": [
    "area_proportion_df"
   ],
   "metadata": {
    "collapsed": false,
    "pycharm": {
     "name": "#%%\n"
    }
   }
  },
  {
   "cell_type": "code",
   "execution_count": 13,
   "outputs": [
    {
     "data": {
      "text/plain": "                 예보시각    예보   상대넓이\n0       2017-01-04 오전    맑음  0.119\n1       2017-01-04 오후    맑음  0.119\n2       2017-01-05 오전  구름조금  0.119\n3       2017-01-05 오후  구름조금  0.119\n4       2017-01-06 오전  구름많음  0.119\n...               ...   ...    ...\n474755  2022-01-07 오전    맑음  0.124\n474756  2022-01-07 오후    맑음  0.124\n474757  2022-01-08 오전    맑음  0.124\n474758  2022-01-09 오전    맑음  0.124\n474759  2022-01-10 오전    맑음  0.124\n\n[474760 rows x 3 columns]",
      "text/html": "<div>\n<style scoped>\n    .dataframe tbody tr th:only-of-type {\n        vertical-align: middle;\n    }\n\n    .dataframe tbody tr th {\n        vertical-align: top;\n    }\n\n    .dataframe thead th {\n        text-align: right;\n    }\n</style>\n<table border=\"1\" class=\"dataframe\">\n  <thead>\n    <tr style=\"text-align: right;\">\n      <th></th>\n      <th>예보시각</th>\n      <th>예보</th>\n      <th>상대넓이</th>\n    </tr>\n  </thead>\n  <tbody>\n    <tr>\n      <th>0</th>\n      <td>2017-01-04 오전</td>\n      <td>맑음</td>\n      <td>0.119</td>\n    </tr>\n    <tr>\n      <th>1</th>\n      <td>2017-01-04 오후</td>\n      <td>맑음</td>\n      <td>0.119</td>\n    </tr>\n    <tr>\n      <th>2</th>\n      <td>2017-01-05 오전</td>\n      <td>구름조금</td>\n      <td>0.119</td>\n    </tr>\n    <tr>\n      <th>3</th>\n      <td>2017-01-05 오후</td>\n      <td>구름조금</td>\n      <td>0.119</td>\n    </tr>\n    <tr>\n      <th>4</th>\n      <td>2017-01-06 오전</td>\n      <td>구름많음</td>\n      <td>0.119</td>\n    </tr>\n    <tr>\n      <th>...</th>\n      <td>...</td>\n      <td>...</td>\n      <td>...</td>\n    </tr>\n    <tr>\n      <th>474755</th>\n      <td>2022-01-07 오전</td>\n      <td>맑음</td>\n      <td>0.124</td>\n    </tr>\n    <tr>\n      <th>474756</th>\n      <td>2022-01-07 오후</td>\n      <td>맑음</td>\n      <td>0.124</td>\n    </tr>\n    <tr>\n      <th>474757</th>\n      <td>2022-01-08 오전</td>\n      <td>맑음</td>\n      <td>0.124</td>\n    </tr>\n    <tr>\n      <th>474758</th>\n      <td>2022-01-09 오전</td>\n      <td>맑음</td>\n      <td>0.124</td>\n    </tr>\n    <tr>\n      <th>474759</th>\n      <td>2022-01-10 오전</td>\n      <td>맑음</td>\n      <td>0.124</td>\n    </tr>\n  </tbody>\n</table>\n<p>474760 rows × 3 columns</p>\n</div>"
     },
     "execution_count": 13,
     "metadata": {},
     "output_type": "execute_result"
    }
   ],
   "source": [
    "#pd.merge를 통하여 결합시키고. '지역'컬럼 값을 삭제한다\n",
    "df= pd.merge(weather_df,area_df,how='inner',on='지역')\n",
    "df.drop('지역',axis=1,inplace=True)\n",
    "df"
   ],
   "metadata": {
    "collapsed": false,
    "pycharm": {
     "name": "#%%\n"
    }
   }
  },
  {
   "cell_type": "code",
   "execution_count": 14,
   "outputs": [
    {
     "data": {
      "text/plain": "          예보   상대넓이         예보일  오전0_오후1\n0         맑음  0.119  2017-01-04        0\n94953     맑음  0.092  2017-01-04        1\n237381    맑음  0.080  2017-01-04        1\n237393    맑음  0.080  2017-01-04        0\n237394    맑음  0.080  2017-01-04        1\n...      ...    ...         ...      ...\n332331  구름많음  0.128  2022-01-10        0\n379794  구름많음  0.018  2022-01-10        0\n379807    흐림  0.018  2022-01-10        0\n427283    맑음  0.190  2022-01-10        0\n474759    맑음  0.124  2022-01-10        0\n\n[474760 rows x 4 columns]",
      "text/html": "<div>\n<style scoped>\n    .dataframe tbody tr th:only-of-type {\n        vertical-align: middle;\n    }\n\n    .dataframe tbody tr th {\n        vertical-align: top;\n    }\n\n    .dataframe thead th {\n        text-align: right;\n    }\n</style>\n<table border=\"1\" class=\"dataframe\">\n  <thead>\n    <tr style=\"text-align: right;\">\n      <th></th>\n      <th>예보</th>\n      <th>상대넓이</th>\n      <th>예보일</th>\n      <th>오전0_오후1</th>\n    </tr>\n  </thead>\n  <tbody>\n    <tr>\n      <th>0</th>\n      <td>맑음</td>\n      <td>0.119</td>\n      <td>2017-01-04</td>\n      <td>0</td>\n    </tr>\n    <tr>\n      <th>94953</th>\n      <td>맑음</td>\n      <td>0.092</td>\n      <td>2017-01-04</td>\n      <td>1</td>\n    </tr>\n    <tr>\n      <th>237381</th>\n      <td>맑음</td>\n      <td>0.080</td>\n      <td>2017-01-04</td>\n      <td>1</td>\n    </tr>\n    <tr>\n      <th>237393</th>\n      <td>맑음</td>\n      <td>0.080</td>\n      <td>2017-01-04</td>\n      <td>0</td>\n    </tr>\n    <tr>\n      <th>237394</th>\n      <td>맑음</td>\n      <td>0.080</td>\n      <td>2017-01-04</td>\n      <td>1</td>\n    </tr>\n    <tr>\n      <th>...</th>\n      <td>...</td>\n      <td>...</td>\n      <td>...</td>\n      <td>...</td>\n    </tr>\n    <tr>\n      <th>332331</th>\n      <td>구름많음</td>\n      <td>0.128</td>\n      <td>2022-01-10</td>\n      <td>0</td>\n    </tr>\n    <tr>\n      <th>379794</th>\n      <td>구름많음</td>\n      <td>0.018</td>\n      <td>2022-01-10</td>\n      <td>0</td>\n    </tr>\n    <tr>\n      <th>379807</th>\n      <td>흐림</td>\n      <td>0.018</td>\n      <td>2022-01-10</td>\n      <td>0</td>\n    </tr>\n    <tr>\n      <th>427283</th>\n      <td>맑음</td>\n      <td>0.190</td>\n      <td>2022-01-10</td>\n      <td>0</td>\n    </tr>\n    <tr>\n      <th>474759</th>\n      <td>맑음</td>\n      <td>0.124</td>\n      <td>2022-01-10</td>\n      <td>0</td>\n    </tr>\n  </tbody>\n</table>\n<p>474760 rows × 4 columns</p>\n</div>"
     },
     "execution_count": 14,
     "metadata": {},
     "output_type": "execute_result"
    }
   ],
   "source": [
    "AM_PM_lst=[]\n",
    "day_lst=[]\n",
    "\n",
    "date_lst=df['예보시각']\n",
    "for date in date_lst:\n",
    "    splited_date= date.split()\n",
    "    day_lst.append(splited_date[0])\n",
    "    AM_PM_lst.append(splited_date[-1])\n",
    "\n",
    "df['예보일']=day_lst\n",
    "df['오전_오후']=AM_PM_lst\n",
    "\n",
    "#오전오후를 0과 1값으로 표현하기\n",
    "is_PM =df['오전_오후']=='오후'\n",
    "df['오전0_오후1']=is_PM\n",
    "df['오전0_오후1']= df['오전0_오후1'].astype(int)\n",
    "\n",
    "#중복된 데이터정보를 나타내는 열들 삭제하기\n",
    "df.drop(['예보시각','오전_오후'],axis=1,inplace=True)\n",
    "df.sort_values(by='예보일',ascending=True)"
   ],
   "metadata": {
    "collapsed": false,
    "pycharm": {
     "name": "#%%\n"
    }
   }
  },
  {
   "cell_type": "code",
   "execution_count": 34,
   "outputs": [
    {
     "data": {
      "text/plain": "상대넓이   예보일         맑음  흐림  비/눈\n0.018  2021-05-09  1   0   0      26\n       2021-04-14  1   0   0      26\n       2021-04-15  1   0   0      26\n       2021-04-16  1   0   0      26\n       2021-04-18  1   0   0      26\n                                  ..\n0.190  2020-04-12  0   1   0       1\n       2020-05-07  0   0   1       1\n       2020-05-02  0   1   0       1\n       2020-04-27  0   0   1       1\n       2018-05-12  0   0   1       1\nLength: 28253, dtype: int64"
     },
     "execution_count": 34,
     "metadata": {},
     "output_type": "execute_result"
    }
   ],
   "source": [
    "#기상 관측 분류를 원-핫 인코딩하기\n",
    "features=['예보']\n",
    "encoded_df= pd.get_dummies(data=df,columns=features,prefix=features)\n",
    "encoded_df\n",
    "\n",
    "\n",
    "#각 지역별 관측된 기상현상값들을 동일한 가중치(1)로 두고 더하여 전국 날씨값을 계산하기\n",
    "encoded_df2= encoded_df.copy()\n",
    "encoded_df2['맑음']= encoded_df2['예보_맑음']+encoded_df2['예보_구름조금']+encoded_df2['예보_구름많음']\n",
    "encoded_df2['비']=encoded_df2['예보_구름많고 비']+encoded_df2['예보_구름많고 소나기']+\\\n",
    "                  encoded_df2['예보_흐리고 비']+encoded_df2['예보_흐리고 소나기']\n",
    "encoded_df2['흐림']=encoded_df2['예보_흐림']\n",
    "encoded_df2['눈']=encoded_df2['예보_구름많고 눈']+encoded_df2['예보_구름많고 눈/비']+\\\n",
    "                  encoded_df2['예보_구름많고 비/눈']+encoded_df2['예보_흐리고 눈']+\\\n",
    "                  encoded_df2['예보_흐리고 눈/비']+encoded_df2['예보_흐리고 비/눈']\n",
    "\n",
    "encoded_df2['비/눈']=encoded_df2['눈']+encoded_df2['비']\n",
    "encoded_df2= encoded_df2[['예보일','맑음','흐림','비/눈','상대넓이']]\n",
    "encoded_df2.groupby(by='상대넓이').value_counts()"
   ],
   "metadata": {
    "collapsed": false,
    "pycharm": {
     "name": "#%%\n"
    }
   }
  },
  {
   "cell_type": "code",
   "execution_count": 35,
   "outputs": [
    {
     "data": {
      "text/plain": "         지역      상대넓이\n0  서울.인천.경기  0.119000\n1      충청북도  0.074000\n2      충청남도  0.092000\n3      강원영서  0.124035\n4      강원영동  0.043965\n5      전라북도  0.080000\n6      전라남도  0.128000\n7       제주도  0.018000\n8      경상북도  0.190000\n9      경상남도  0.124000",
      "text/html": "<div>\n<style scoped>\n    .dataframe tbody tr th:only-of-type {\n        vertical-align: middle;\n    }\n\n    .dataframe tbody tr th {\n        vertical-align: top;\n    }\n\n    .dataframe thead th {\n        text-align: right;\n    }\n</style>\n<table border=\"1\" class=\"dataframe\">\n  <thead>\n    <tr style=\"text-align: right;\">\n      <th></th>\n      <th>지역</th>\n      <th>상대넓이</th>\n    </tr>\n  </thead>\n  <tbody>\n    <tr>\n      <th>0</th>\n      <td>서울.인천.경기</td>\n      <td>0.119000</td>\n    </tr>\n    <tr>\n      <th>1</th>\n      <td>충청북도</td>\n      <td>0.074000</td>\n    </tr>\n    <tr>\n      <th>2</th>\n      <td>충청남도</td>\n      <td>0.092000</td>\n    </tr>\n    <tr>\n      <th>3</th>\n      <td>강원영서</td>\n      <td>0.124035</td>\n    </tr>\n    <tr>\n      <th>4</th>\n      <td>강원영동</td>\n      <td>0.043965</td>\n    </tr>\n    <tr>\n      <th>5</th>\n      <td>전라북도</td>\n      <td>0.080000</td>\n    </tr>\n    <tr>\n      <th>6</th>\n      <td>전라남도</td>\n      <td>0.128000</td>\n    </tr>\n    <tr>\n      <th>7</th>\n      <td>제주도</td>\n      <td>0.018000</td>\n    </tr>\n    <tr>\n      <th>8</th>\n      <td>경상북도</td>\n      <td>0.190000</td>\n    </tr>\n    <tr>\n      <th>9</th>\n      <td>경상남도</td>\n      <td>0.124000</td>\n    </tr>\n  </tbody>\n</table>\n</div>"
     },
     "execution_count": 35,
     "metadata": {},
     "output_type": "execute_result"
    }
   ],
   "source": [
    "area_df"
   ],
   "metadata": {
    "collapsed": false,
    "pycharm": {
     "name": "#%%\n"
    }
   }
  },
  {
   "cell_type": "code",
   "execution_count": null,
   "outputs": [],
   "source": [],
   "metadata": {
    "collapsed": false,
    "pycharm": {
     "name": "#%%\n"
    }
   }
  }
 ],
 "metadata": {
  "kernelspec": {
   "display_name": "Python 3",
   "language": "python",
   "name": "python3"
  },
  "language_info": {
   "codemirror_mode": {
    "name": "ipython",
    "version": 2
   },
   "file_extension": ".py",
   "mimetype": "text/x-python",
   "name": "python",
   "nbconvert_exporter": "python",
   "pygments_lexer": "ipython2",
   "version": "2.7.6"
  }
 },
 "nbformat": 4,
 "nbformat_minor": 0
}