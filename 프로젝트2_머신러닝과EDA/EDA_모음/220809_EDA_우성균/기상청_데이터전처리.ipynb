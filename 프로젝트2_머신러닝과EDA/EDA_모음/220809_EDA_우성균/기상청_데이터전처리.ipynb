{
 "cells": [
  {
   "cell_type": "code",
   "execution_count": 19,
   "metadata": {
    "collapsed": true,
    "pycharm": {
     "name": "#%%\n"
    }
   },
   "outputs": [],
   "source": [
    "#데이터 핸들링 라이브러리\n",
    "import pandas as pd\n",
    "import numpy as np\n",
    "#데이터 시각화 라이브러리\n",
    "import seaborn as sns\n",
    "import matplotlib.pyplot as plt\n",
    "import matplotlib as mpl\n",
    "plt.rcParams.update({'font.family':'AppleGothic'})\n",
    "mpl.rc('axes', unicode_minus=False)\n",
    "%config InlineBackend.figure_format = 'retina'\n",
    "\n",
    "\n",
    "import sys\n",
    "sys.path.append('/Users/wooseongkyun/코드_아카이브/프로젝트2_머신러닝과EDA/binomial_classification/preprocessing_data.py')"
   ]
  },
  {
   "cell_type": "code",
   "execution_count": 20,
   "outputs": [
    {
     "name": "stderr",
     "output_type": "stream",
     "text": [
      "/var/folders/m9/0vsmjxhd7q30k5mzw0bk58hh0000gn/T/ipykernel_66403/1886206877.py:2: DtypeWarning: Columns (4) have mixed types. Specify dtype option on import or set low_memory=False.\n",
      "  df= pd.read_csv('./기상청_중기예보_최근5년데이터.csv',encoding='euc-kr')\n"
     ]
    }
   ],
   "source": [
    "#기후 데이터를 가져오기\n",
    "df= pd.read_csv('./기상청_중기예보_최근5년데이터.csv',encoding='euc-kr')\n",
    "df.drop(['강수확률(%)','발표시각','신뢰도'],axis=1,inplace=True)"
   ],
   "metadata": {
    "collapsed": false,
    "pycharm": {
     "name": "#%%\n"
    }
   }
  },
  {
   "cell_type": "code",
   "execution_count": 21,
   "outputs": [
    {
     "data": {
      "text/plain": "          예보         예보일\n0         맑음  2017-01-04\n52        맑음  2017-01-04\n53        맑음  2017-01-04\n65        맑음  2017-01-04\n66        맑음  2017-01-04\n...      ...         ...\n474642    맑음  2022-01-10\n474720  구름많음  2022-01-10\n474707  구름많음  2022-01-10\n474746    맑음  2022-01-10\n474759    맑음  2022-01-10\n\n[474760 rows x 2 columns]",
      "text/html": "<div>\n<style scoped>\n    .dataframe tbody tr th:only-of-type {\n        vertical-align: middle;\n    }\n\n    .dataframe tbody tr th {\n        vertical-align: top;\n    }\n\n    .dataframe thead th {\n        text-align: right;\n    }\n</style>\n<table border=\"1\" class=\"dataframe\">\n  <thead>\n    <tr style=\"text-align: right;\">\n      <th></th>\n      <th>예보</th>\n      <th>예보일</th>\n    </tr>\n  </thead>\n  <tbody>\n    <tr>\n      <th>0</th>\n      <td>맑음</td>\n      <td>2017-01-04</td>\n    </tr>\n    <tr>\n      <th>52</th>\n      <td>맑음</td>\n      <td>2017-01-04</td>\n    </tr>\n    <tr>\n      <th>53</th>\n      <td>맑음</td>\n      <td>2017-01-04</td>\n    </tr>\n    <tr>\n      <th>65</th>\n      <td>맑음</td>\n      <td>2017-01-04</td>\n    </tr>\n    <tr>\n      <th>66</th>\n      <td>맑음</td>\n      <td>2017-01-04</td>\n    </tr>\n    <tr>\n      <th>...</th>\n      <td>...</td>\n      <td>...</td>\n    </tr>\n    <tr>\n      <th>474642</th>\n      <td>맑음</td>\n      <td>2022-01-10</td>\n    </tr>\n    <tr>\n      <th>474720</th>\n      <td>구름많음</td>\n      <td>2022-01-10</td>\n    </tr>\n    <tr>\n      <th>474707</th>\n      <td>구름많음</td>\n      <td>2022-01-10</td>\n    </tr>\n    <tr>\n      <th>474746</th>\n      <td>맑음</td>\n      <td>2022-01-10</td>\n    </tr>\n    <tr>\n      <th>474759</th>\n      <td>맑음</td>\n      <td>2022-01-10</td>\n    </tr>\n  </tbody>\n</table>\n<p>474760 rows × 2 columns</p>\n</div>"
     },
     "execution_count": 21,
     "metadata": {},
     "output_type": "execute_result"
    }
   ],
   "source": [
    "AM_PM_lst=[]\n",
    "day_lst=[]\n",
    "\n",
    "date_lst=df['예보시각']\n",
    "for date in date_lst:\n",
    "    splited_date= date.split()\n",
    "    day_lst.append(splited_date[0])\n",
    "    AM_PM_lst.append(splited_date[-1])\n",
    "\n",
    "df['예보일']=day_lst\n",
    "df['오전_오후']=AM_PM_lst\n",
    "\n",
    "#오전오후를 0과 1값으로 표현하기\n",
    "is_PM =df['오전_오후']=='오후'\n",
    "df['오전0_오후1']=is_PM\n",
    "df['오전0_오후1']= df['오전0_오후1'].astype(int)\n",
    "\n",
    "#중복된 데이터정보를 나타내는 열들 삭제하기\n",
    "#계산을 간략화하기 위해 지역에 대한 가중치를 모두 같게함. 그로써 지역에 대한 컬럼을 삭제\n",
    "df.drop(['예보시각','오전_오후','지역','오전0_오후1'],axis=1,inplace=True)\n",
    "df.sort_values(by='예보일',ascending=True)"
   ],
   "metadata": {
    "collapsed": false,
    "pycharm": {
     "name": "#%%\n"
    }
   }
  },
  {
   "cell_type": "code",
   "execution_count": 26,
   "outputs": [
    {
     "data": {
      "text/plain": "예보일         맑음  흐림  비/눈\n2017-01-04  1   0   0       40\n2017-01-05  1   0   0       71\n            0   0   1        9\n2017-01-06  1   0   0      120\n2017-01-07  1   0   0      143\n                          ... \n2022-01-07  0   1   0        1\n2022-01-08  1   0   0       60\n2022-01-09  1   0   0       40\n2022-01-10  1   0   0       19\n            0   1   0        1\nLength: 3587, dtype: int64"
     },
     "execution_count": 26,
     "metadata": {},
     "output_type": "execute_result"
    }
   ],
   "source": [
    "#기상 관측 분류를 원-핫 인코딩하기\n",
    "features=['예보']\n",
    "encoded_df= pd.get_dummies(data=df,columns=features,prefix=None)\n",
    "encoded_df\n",
    "\n",
    "#각 지역별 관측된 기상현상값들을 동일한 가중치(1)로 두고 더하여 전국 날씨값을 계산하기\n",
    "encoded_df2= encoded_df.copy()\n",
    "encoded_df2['맑음']= encoded_df2['예보_맑음']+encoded_df2['예보_구름조금']+encoded_df2['예보_구름많음']\n",
    "encoded_df2['비']=encoded_df2['예보_구름많고 비']+encoded_df2['예보_구름많고 소나기']+\\\n",
    "                  encoded_df2['예보_흐리고 비']+encoded_df2['예보_흐리고 소나기']\n",
    "encoded_df2['흐림']=encoded_df2['예보_흐림']\n",
    "encoded_df2['눈']=encoded_df2['예보_구름많고 눈']+encoded_df2['예보_구름많고 눈/비']+\\\n",
    "                  encoded_df2['예보_구름많고 비/눈']+encoded_df2['예보_흐리고 눈']+\\\n",
    "                  encoded_df2['예보_흐리고 눈/비']+encoded_df2['예보_흐리고 비/눈']\n",
    "\n",
    "encoded_df2['비/눈']=encoded_df2['눈']+encoded_df2['비']\n",
    "encoded_df2= encoded_df2[['예보일','맑음','흐림','비/눈']]\n",
    "encoded_df2.groupby(by='예보일').value_counts()"
   ],
   "metadata": {
    "collapsed": false,
    "pycharm": {
     "name": "#%%\n"
    }
   }
  },
  {
   "cell_type": "code",
   "execution_count": null,
   "outputs": [],
   "source": [
    "#각 지역별 관측된 기상현상값들을 동일한 가중치(1)로 두고 더하여 전국 날씨값을 계산하기\n",
    "evaluated_df= encoded_df.groupby(by='예보일').sum()\n",
    "evaluated_df['맑음']=  evaluated_df['예보_맑음']+evaluated_df['예보_구름조금']+evaluated_df['예보_구름많음']\n",
    "evaluated_df['비']=evaluated_df['예보_구름많고 비']+evaluated_df['예보_구름많고 소나기']+\\\n",
    "                  evaluated_df['예보_흐리고 비']+evaluated_df['예보_흐리고 소나기']\n",
    "evaluated_df['흐림']=evaluated_df['예보_흐림']\n",
    "evaluated_df['눈']=evaluated_df['예보_구름많고 눈']+evaluated_df['예보_구름많고 눈/비']+\\\n",
    "                  evaluated_df['예보_구름많고 비/눈']+evaluated_df['예보_흐리고 눈']+\\\n",
    "                  evaluated_df['예보_흐리고 눈/비']+evaluated_df['예보_흐리고 비/눈']\n",
    "\n",
    "\n",
    "evaluated_df= evaluated_df[['맑음','비','흐림','눈']]\n",
    "evaluated_df"
   ],
   "metadata": {
    "collapsed": false,
    "pycharm": {
     "name": "#%%\n"
    }
   }
  },
  {
   "cell_type": "code",
   "execution_count": null,
   "outputs": [],
   "source": [
    "weather_df=evaluated_df.idxmax(axis=1)\n",
    "weather_lst = list(weather_df.values)"
   ],
   "metadata": {
    "collapsed": false,
    "pycharm": {
     "name": "#%%\n"
    }
   }
  },
  {
   "cell_type": "code",
   "execution_count": null,
   "outputs": [],
   "source": [
    "weather_df=pd.DataFrame(weather_df)\n",
    "weather_df['기상']=weather_lst\n",
    "weather_df.drop(0,axis=1,inplace=True)"
   ],
   "metadata": {
    "collapsed": false,
    "pycharm": {
     "name": "#%%\n"
    }
   }
  },
  {
   "cell_type": "code",
   "execution_count": null,
   "outputs": [],
   "source": [
    "year_lst=[]\n",
    "date_lst=list(weather_df.index)\n",
    "for date in date_lst:\n",
    "    splited_date= str(date)[0:4]\n",
    "    year_lst.append(splited_date)\n",
    "\n",
    "year_lst\n",
    "weather_df['년도']= year_lst\n",
    "\n",
    "weather_category=weather_df.groupby('년도').value_counts()\n",
    "weather_category.loc['2020']\n",
    "weather_category"
   ],
   "metadata": {
    "collapsed": false,
    "pycharm": {
     "name": "#%%\n"
    }
   }
  },
  {
   "cell_type": "code",
   "execution_count": null,
   "outputs": [],
   "source": [
    "weather_category.to_csv(\"기상청_전처리된데이터.csv\", mode='w')"
   ],
   "metadata": {
    "collapsed": false,
    "pycharm": {
     "name": "#%%\n"
    }
   }
  },
  {
   "cell_type": "code",
   "execution_count": null,
   "outputs": [],
   "source": [
    "list(weather_df.index)"
   ],
   "metadata": {
    "collapsed": false,
    "pycharm": {
     "name": "#%%\n"
    }
   }
  },
  {
   "cell_type": "code",
   "execution_count": null,
   "outputs": [],
   "source": [],
   "metadata": {
    "collapsed": false,
    "pycharm": {
     "name": "#%%\n"
    }
   }
  }
 ],
 "metadata": {
  "kernelspec": {
   "display_name": "Python 3",
   "language": "python",
   "name": "python3"
  },
  "language_info": {
   "codemirror_mode": {
    "name": "ipython",
    "version": 2
   },
   "file_extension": ".py",
   "mimetype": "text/x-python",
   "name": "python",
   "nbconvert_exporter": "python",
   "pygments_lexer": "ipython2",
   "version": "2.7.6"
  }
 },
 "nbformat": 4,
 "nbformat_minor": 0
}