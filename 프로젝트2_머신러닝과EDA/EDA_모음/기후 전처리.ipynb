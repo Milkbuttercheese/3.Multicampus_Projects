{
 "cells": [
  {
   "cell_type": "code",
   "execution_count": 1,
   "metadata": {
    "collapsed": true,
    "pycharm": {
     "name": "#%%\n"
    }
   },
   "outputs": [],
   "source": [
    "#데이터 핸들링 라이브러리\n",
    "import pandas as pd\n",
    "import numpy as np\n",
    "#데이터 시각화 라이브러리\n",
    "import seaborn as sns\n",
    "import matplotlib.pyplot as plt\n",
    "import matplotlib as mpl\n",
    "plt.rcParams.update({'font.family':'AppleGothic'})\n",
    "mpl.rc('axes', unicode_minus=False)\n",
    "%config InlineBackend.figure_format = 'retina'\n",
    "\n",
    "\n",
    "#웹 크롤링에 사용될 라이브러리\n",
    "import requests\n",
    "from bs4 import BeautifulSoup\n",
    "from selenium import webdriver\n",
    "from selenium.webdriver.chrome.service import Service\n",
    "from webdriver_manager.chrome import ChromeDriverManager\n",
    "from selenium.webdriver.common.by import By\n",
    "from time import sleep\n",
    "from pprint import pprint\n",
    "\n",
    "#기타\n",
    "import re\n",
    "import json\n",
    "from geopy.geocoders import Nominatim"
   ]
  },
  {
   "cell_type": "code",
   "execution_count": 22,
   "outputs": [
    {
     "name": "stdout",
     "output_type": "stream",
     "text": [
      "데이터 불러오기 및 통합에 걸린 시간은 61.573285818099976 입니다\n"
     ]
    },
    {
     "data": {
      "text/plain": "                    사고번호               사고일시   요일             시군구  사고내용  사망자수  \\\n0       2020010100100011    2020년 1월 1일 00시  수요일   대구광역시 달서구 죽전동  중상사고     0   \n1       2020010100100048    2020년 1월 1일 02시  수요일   대구광역시 달서구 송현동  경상사고     0   \n2       2020010100100071    2020년 1월 1일 05시  수요일    대구광역시 북구 대현동  경상사고     0   \n3       2020010100100072    2020년 1월 1일 05시  수요일  대구광역시 중구 삼덕동1가  경상사고     0   \n4       2020010100100087    2020년 1월 1일 06시  수요일   대구광역시 수성구 두산동  경상사고     0   \n...                  ...                ...  ...             ...   ...   ...   \n412779  2021123100100475  2021년 12월 31일 18시  금요일    울산광역시 북구 호계동  중상사고     0   \n412780  2021123100100476  2021년 12월 31일 18시  금요일    울산광역시 북구 중산동  경상사고     0   \n412781  2021123100100477  2021년 12월 31일 18시  금요일    울산광역시 북구 진장동  경상사고     0   \n412782  2021123100100593  2021년 12월 31일 21시  금요일    울산광역시 남구 야음동  경상사고     0   \n412783  2021123100100620  2021년 12월 31일 22시  금요일    울산광역시 중구 유곡동  중상사고     0   \n\n        중상자수  경상자수  부상신고자수               사고유형  ... 기상상태            도로형태  \\\n0          1     0       0         차대차 - 측면충돌  ...   맑음        단일로 - 기타   \n1          0     1       0         차대차 - 측면충돌  ...   맑음      교차로 - 교차로안   \n2          0     1       0           차대차 - 기타  ...   맑음     교차로 - 교차로부근   \n3          0     1       0  차대사람 - 길가장자리구역통행중  ...   맑음        단일로 - 기타   \n4          0     1       0           차대차 - 기타  ...   맑음        단일로 - 기타   \n...      ...   ...     ...                ...  ...  ...             ...   \n412779     1     0       0         차대사람 - 횡단중  ...   맑음  교차로 - 교차로횡단보도내   \n412780     0     1       0           차대차 - 추돌  ...   맑음        단일로 - 기타   \n412781     0     1       0         차대차 - 측면충돌  ...   맑음        단일로 - 기타   \n412782     0     1       0        차대차 - 후진중충돌  ...   맑음        단일로 - 기타   \n412783     1     2       0           차대차 - 기타  ...   맑음        단일로 - 기타   \n\n       가해운전자 차종 가해운전자 성별 가해운전자 연령 가해운전자 상해정도 피해운전자 차종 피해운전자 성별 피해운전자 연령  \\\n0            승용        남      70세       상해없음       이륜        남      18세   \n1           원동기        남      50세       상해없음       승용        남      26세   \n2          기타불명     기타불명      미분류       기타불명       승용        남      37세   \n3            승용        남      18세       상해없음      보행자        남      21세   \n4            승용        남      45세       상해없음       승용        남      26세   \n...         ...      ...      ...        ...      ...      ...      ...   \n412779       승용        남      33세       상해없음      보행자        남      65세   \n412780       승용        남      38세       상해없음       승용        남      32세   \n412781       승용        남      71세       상해없음       승용        여      30세   \n412782       승용        남      28세       상해없음       이륜        남      17세   \n412783       승용        여      34세       상해없음       승용        여      60세   \n\n       피해운전자 상해정도  \n0              중상  \n1              경상  \n2              경상  \n3              경상  \n4              경상  \n...           ...  \n412779         중상  \n412780         경상  \n412781         경상  \n412782         경상  \n412783         중상  \n\n[412784 rows x 22 columns]",
      "text/html": "<div>\n<style scoped>\n    .dataframe tbody tr th:only-of-type {\n        vertical-align: middle;\n    }\n\n    .dataframe tbody tr th {\n        vertical-align: top;\n    }\n\n    .dataframe thead th {\n        text-align: right;\n    }\n</style>\n<table border=\"1\" class=\"dataframe\">\n  <thead>\n    <tr style=\"text-align: right;\">\n      <th></th>\n      <th>사고번호</th>\n      <th>사고일시</th>\n      <th>요일</th>\n      <th>시군구</th>\n      <th>사고내용</th>\n      <th>사망자수</th>\n      <th>중상자수</th>\n      <th>경상자수</th>\n      <th>부상신고자수</th>\n      <th>사고유형</th>\n      <th>...</th>\n      <th>기상상태</th>\n      <th>도로형태</th>\n      <th>가해운전자 차종</th>\n      <th>가해운전자 성별</th>\n      <th>가해운전자 연령</th>\n      <th>가해운전자 상해정도</th>\n      <th>피해운전자 차종</th>\n      <th>피해운전자 성별</th>\n      <th>피해운전자 연령</th>\n      <th>피해운전자 상해정도</th>\n    </tr>\n  </thead>\n  <tbody>\n    <tr>\n      <th>0</th>\n      <td>2020010100100011</td>\n      <td>2020년 1월 1일 00시</td>\n      <td>수요일</td>\n      <td>대구광역시 달서구 죽전동</td>\n      <td>중상사고</td>\n      <td>0</td>\n      <td>1</td>\n      <td>0</td>\n      <td>0</td>\n      <td>차대차 - 측면충돌</td>\n      <td>...</td>\n      <td>맑음</td>\n      <td>단일로 - 기타</td>\n      <td>승용</td>\n      <td>남</td>\n      <td>70세</td>\n      <td>상해없음</td>\n      <td>이륜</td>\n      <td>남</td>\n      <td>18세</td>\n      <td>중상</td>\n    </tr>\n    <tr>\n      <th>1</th>\n      <td>2020010100100048</td>\n      <td>2020년 1월 1일 02시</td>\n      <td>수요일</td>\n      <td>대구광역시 달서구 송현동</td>\n      <td>경상사고</td>\n      <td>0</td>\n      <td>0</td>\n      <td>1</td>\n      <td>0</td>\n      <td>차대차 - 측면충돌</td>\n      <td>...</td>\n      <td>맑음</td>\n      <td>교차로 - 교차로안</td>\n      <td>원동기</td>\n      <td>남</td>\n      <td>50세</td>\n      <td>상해없음</td>\n      <td>승용</td>\n      <td>남</td>\n      <td>26세</td>\n      <td>경상</td>\n    </tr>\n    <tr>\n      <th>2</th>\n      <td>2020010100100071</td>\n      <td>2020년 1월 1일 05시</td>\n      <td>수요일</td>\n      <td>대구광역시 북구 대현동</td>\n      <td>경상사고</td>\n      <td>0</td>\n      <td>0</td>\n      <td>1</td>\n      <td>0</td>\n      <td>차대차 - 기타</td>\n      <td>...</td>\n      <td>맑음</td>\n      <td>교차로 - 교차로부근</td>\n      <td>기타불명</td>\n      <td>기타불명</td>\n      <td>미분류</td>\n      <td>기타불명</td>\n      <td>승용</td>\n      <td>남</td>\n      <td>37세</td>\n      <td>경상</td>\n    </tr>\n    <tr>\n      <th>3</th>\n      <td>2020010100100072</td>\n      <td>2020년 1월 1일 05시</td>\n      <td>수요일</td>\n      <td>대구광역시 중구 삼덕동1가</td>\n      <td>경상사고</td>\n      <td>0</td>\n      <td>0</td>\n      <td>1</td>\n      <td>0</td>\n      <td>차대사람 - 길가장자리구역통행중</td>\n      <td>...</td>\n      <td>맑음</td>\n      <td>단일로 - 기타</td>\n      <td>승용</td>\n      <td>남</td>\n      <td>18세</td>\n      <td>상해없음</td>\n      <td>보행자</td>\n      <td>남</td>\n      <td>21세</td>\n      <td>경상</td>\n    </tr>\n    <tr>\n      <th>4</th>\n      <td>2020010100100087</td>\n      <td>2020년 1월 1일 06시</td>\n      <td>수요일</td>\n      <td>대구광역시 수성구 두산동</td>\n      <td>경상사고</td>\n      <td>0</td>\n      <td>0</td>\n      <td>1</td>\n      <td>0</td>\n      <td>차대차 - 기타</td>\n      <td>...</td>\n      <td>맑음</td>\n      <td>단일로 - 기타</td>\n      <td>승용</td>\n      <td>남</td>\n      <td>45세</td>\n      <td>상해없음</td>\n      <td>승용</td>\n      <td>남</td>\n      <td>26세</td>\n      <td>경상</td>\n    </tr>\n    <tr>\n      <th>...</th>\n      <td>...</td>\n      <td>...</td>\n      <td>...</td>\n      <td>...</td>\n      <td>...</td>\n      <td>...</td>\n      <td>...</td>\n      <td>...</td>\n      <td>...</td>\n      <td>...</td>\n      <td>...</td>\n      <td>...</td>\n      <td>...</td>\n      <td>...</td>\n      <td>...</td>\n      <td>...</td>\n      <td>...</td>\n      <td>...</td>\n      <td>...</td>\n      <td>...</td>\n      <td>...</td>\n    </tr>\n    <tr>\n      <th>412779</th>\n      <td>2021123100100475</td>\n      <td>2021년 12월 31일 18시</td>\n      <td>금요일</td>\n      <td>울산광역시 북구 호계동</td>\n      <td>중상사고</td>\n      <td>0</td>\n      <td>1</td>\n      <td>0</td>\n      <td>0</td>\n      <td>차대사람 - 횡단중</td>\n      <td>...</td>\n      <td>맑음</td>\n      <td>교차로 - 교차로횡단보도내</td>\n      <td>승용</td>\n      <td>남</td>\n      <td>33세</td>\n      <td>상해없음</td>\n      <td>보행자</td>\n      <td>남</td>\n      <td>65세</td>\n      <td>중상</td>\n    </tr>\n    <tr>\n      <th>412780</th>\n      <td>2021123100100476</td>\n      <td>2021년 12월 31일 18시</td>\n      <td>금요일</td>\n      <td>울산광역시 북구 중산동</td>\n      <td>경상사고</td>\n      <td>0</td>\n      <td>0</td>\n      <td>1</td>\n      <td>0</td>\n      <td>차대차 - 추돌</td>\n      <td>...</td>\n      <td>맑음</td>\n      <td>단일로 - 기타</td>\n      <td>승용</td>\n      <td>남</td>\n      <td>38세</td>\n      <td>상해없음</td>\n      <td>승용</td>\n      <td>남</td>\n      <td>32세</td>\n      <td>경상</td>\n    </tr>\n    <tr>\n      <th>412781</th>\n      <td>2021123100100477</td>\n      <td>2021년 12월 31일 18시</td>\n      <td>금요일</td>\n      <td>울산광역시 북구 진장동</td>\n      <td>경상사고</td>\n      <td>0</td>\n      <td>0</td>\n      <td>1</td>\n      <td>0</td>\n      <td>차대차 - 측면충돌</td>\n      <td>...</td>\n      <td>맑음</td>\n      <td>단일로 - 기타</td>\n      <td>승용</td>\n      <td>남</td>\n      <td>71세</td>\n      <td>상해없음</td>\n      <td>승용</td>\n      <td>여</td>\n      <td>30세</td>\n      <td>경상</td>\n    </tr>\n    <tr>\n      <th>412782</th>\n      <td>2021123100100593</td>\n      <td>2021년 12월 31일 21시</td>\n      <td>금요일</td>\n      <td>울산광역시 남구 야음동</td>\n      <td>경상사고</td>\n      <td>0</td>\n      <td>0</td>\n      <td>1</td>\n      <td>0</td>\n      <td>차대차 - 후진중충돌</td>\n      <td>...</td>\n      <td>맑음</td>\n      <td>단일로 - 기타</td>\n      <td>승용</td>\n      <td>남</td>\n      <td>28세</td>\n      <td>상해없음</td>\n      <td>이륜</td>\n      <td>남</td>\n      <td>17세</td>\n      <td>경상</td>\n    </tr>\n    <tr>\n      <th>412783</th>\n      <td>2021123100100620</td>\n      <td>2021년 12월 31일 22시</td>\n      <td>금요일</td>\n      <td>울산광역시 중구 유곡동</td>\n      <td>중상사고</td>\n      <td>0</td>\n      <td>1</td>\n      <td>2</td>\n      <td>0</td>\n      <td>차대차 - 기타</td>\n      <td>...</td>\n      <td>맑음</td>\n      <td>단일로 - 기타</td>\n      <td>승용</td>\n      <td>여</td>\n      <td>34세</td>\n      <td>상해없음</td>\n      <td>승용</td>\n      <td>여</td>\n      <td>60세</td>\n      <td>중상</td>\n    </tr>\n  </tbody>\n</table>\n<p>412784 rows × 22 columns</p>\n</div>"
     },
     "execution_count": 22,
     "metadata": {},
     "output_type": "execute_result"
    }
   ],
   "source": [
    "#교통사고 데이터 불러오기\n",
    "import sys\n",
    "sys.path.append('/Users/wooseongkyun/코드_아카이브/프로젝트2_머신러닝과EDA/binomial_classification/preprocessing_data.py')\n",
    "from preprocessing_data import f1_read\n",
    "\n",
    "df= f1_read()\n",
    "df"
   ],
   "metadata": {
    "collapsed": false,
    "pycharm": {
     "name": "#%%\n"
    }
   }
  },
  {
   "cell_type": "code",
   "execution_count": 54,
   "outputs": [],
   "source": [
    "location_lst=df['시군구'].tolist()\n",
    "Sido_lst=[]\n",
    "for location in location_lst:\n",
    "     splited_loc= location.split()\n",
    "     Sido_lst.append(splited_loc[0])\n",
    "\n",
    "Sido_lst\n",
    "df['시도']=Sido_lst\n",
    "\n",
    "year_lst=[]\n",
    "date_lst=df['사고일시']\n",
    "for date in date_lst:\n",
    "    splited_date= date.split()\n",
    "    year_lst.append(splited_date[0])\n",
    "\n",
    "year_lst\n",
    "df['년도']=year_lst"
   ],
   "metadata": {
    "collapsed": false,
    "pycharm": {
     "name": "#%%\n"
    }
   }
  },
  {
   "cell_type": "code",
   "execution_count": 55,
   "outputs": [
    {
     "data": {
      "text/plain": "                    사고번호               사고일시   요일             시군구  사고내용  사망자수  \\\n0       2020010100100011    2020년 1월 1일 00시  수요일   대구광역시 달서구 죽전동  중상사고     0   \n1       2020010100100048    2020년 1월 1일 02시  수요일   대구광역시 달서구 송현동  경상사고     0   \n2       2020010100100071    2020년 1월 1일 05시  수요일    대구광역시 북구 대현동  경상사고     0   \n3       2020010100100072    2020년 1월 1일 05시  수요일  대구광역시 중구 삼덕동1가  경상사고     0   \n4       2020010100100087    2020년 1월 1일 06시  수요일   대구광역시 수성구 두산동  경상사고     0   \n...                  ...                ...  ...             ...   ...   ...   \n412779  2021123100100475  2021년 12월 31일 18시  금요일    울산광역시 북구 호계동  중상사고     0   \n412780  2021123100100476  2021년 12월 31일 18시  금요일    울산광역시 북구 중산동  경상사고     0   \n412781  2021123100100477  2021년 12월 31일 18시  금요일    울산광역시 북구 진장동  경상사고     0   \n412782  2021123100100593  2021년 12월 31일 21시  금요일    울산광역시 남구 야음동  경상사고     0   \n412783  2021123100100620  2021년 12월 31일 22시  금요일    울산광역시 중구 유곡동  중상사고     0   \n\n        중상자수  경상자수  부상신고자수               사고유형  ... 가해운전자 차종 가해운전자 성별 가해운전자 연령  \\\n0          1     0       0         차대차 - 측면충돌  ...       승용        남      70세   \n1          0     1       0         차대차 - 측면충돌  ...      원동기        남      50세   \n2          0     1       0           차대차 - 기타  ...     기타불명     기타불명      미분류   \n3          0     1       0  차대사람 - 길가장자리구역통행중  ...       승용        남      18세   \n4          0     1       0           차대차 - 기타  ...       승용        남      45세   \n...      ...   ...     ...                ...  ...      ...      ...      ...   \n412779     1     0       0         차대사람 - 횡단중  ...       승용        남      33세   \n412780     0     1       0           차대차 - 추돌  ...       승용        남      38세   \n412781     0     1       0         차대차 - 측면충돌  ...       승용        남      71세   \n412782     0     1       0        차대차 - 후진중충돌  ...       승용        남      28세   \n412783     1     2       0           차대차 - 기타  ...       승용        여      34세   \n\n       가해운전자 상해정도 피해운전자 차종 피해운전자 성별 피해운전자 연령 피해운전자 상해정도     시도     년도  \n0            상해없음       이륜        남      18세         중상  대구광역시  2020년  \n1            상해없음       승용        남      26세         경상  대구광역시  2020년  \n2            기타불명       승용        남      37세         경상  대구광역시  2020년  \n3            상해없음      보행자        남      21세         경상  대구광역시  2020년  \n4            상해없음       승용        남      26세         경상  대구광역시  2020년  \n...           ...      ...      ...      ...        ...    ...    ...  \n412779       상해없음      보행자        남      65세         중상  울산광역시  2021년  \n412780       상해없음       승용        남      32세         경상  울산광역시  2021년  \n412781       상해없음       승용        여      30세         경상  울산광역시  2021년  \n412782       상해없음       이륜        남      17세         경상  울산광역시  2021년  \n412783       상해없음       승용        여      60세         중상  울산광역시  2021년  \n\n[412784 rows x 24 columns]",
      "text/html": "<div>\n<style scoped>\n    .dataframe tbody tr th:only-of-type {\n        vertical-align: middle;\n    }\n\n    .dataframe tbody tr th {\n        vertical-align: top;\n    }\n\n    .dataframe thead th {\n        text-align: right;\n    }\n</style>\n<table border=\"1\" class=\"dataframe\">\n  <thead>\n    <tr style=\"text-align: right;\">\n      <th></th>\n      <th>사고번호</th>\n      <th>사고일시</th>\n      <th>요일</th>\n      <th>시군구</th>\n      <th>사고내용</th>\n      <th>사망자수</th>\n      <th>중상자수</th>\n      <th>경상자수</th>\n      <th>부상신고자수</th>\n      <th>사고유형</th>\n      <th>...</th>\n      <th>가해운전자 차종</th>\n      <th>가해운전자 성별</th>\n      <th>가해운전자 연령</th>\n      <th>가해운전자 상해정도</th>\n      <th>피해운전자 차종</th>\n      <th>피해운전자 성별</th>\n      <th>피해운전자 연령</th>\n      <th>피해운전자 상해정도</th>\n      <th>시도</th>\n      <th>년도</th>\n    </tr>\n  </thead>\n  <tbody>\n    <tr>\n      <th>0</th>\n      <td>2020010100100011</td>\n      <td>2020년 1월 1일 00시</td>\n      <td>수요일</td>\n      <td>대구광역시 달서구 죽전동</td>\n      <td>중상사고</td>\n      <td>0</td>\n      <td>1</td>\n      <td>0</td>\n      <td>0</td>\n      <td>차대차 - 측면충돌</td>\n      <td>...</td>\n      <td>승용</td>\n      <td>남</td>\n      <td>70세</td>\n      <td>상해없음</td>\n      <td>이륜</td>\n      <td>남</td>\n      <td>18세</td>\n      <td>중상</td>\n      <td>대구광역시</td>\n      <td>2020년</td>\n    </tr>\n    <tr>\n      <th>1</th>\n      <td>2020010100100048</td>\n      <td>2020년 1월 1일 02시</td>\n      <td>수요일</td>\n      <td>대구광역시 달서구 송현동</td>\n      <td>경상사고</td>\n      <td>0</td>\n      <td>0</td>\n      <td>1</td>\n      <td>0</td>\n      <td>차대차 - 측면충돌</td>\n      <td>...</td>\n      <td>원동기</td>\n      <td>남</td>\n      <td>50세</td>\n      <td>상해없음</td>\n      <td>승용</td>\n      <td>남</td>\n      <td>26세</td>\n      <td>경상</td>\n      <td>대구광역시</td>\n      <td>2020년</td>\n    </tr>\n    <tr>\n      <th>2</th>\n      <td>2020010100100071</td>\n      <td>2020년 1월 1일 05시</td>\n      <td>수요일</td>\n      <td>대구광역시 북구 대현동</td>\n      <td>경상사고</td>\n      <td>0</td>\n      <td>0</td>\n      <td>1</td>\n      <td>0</td>\n      <td>차대차 - 기타</td>\n      <td>...</td>\n      <td>기타불명</td>\n      <td>기타불명</td>\n      <td>미분류</td>\n      <td>기타불명</td>\n      <td>승용</td>\n      <td>남</td>\n      <td>37세</td>\n      <td>경상</td>\n      <td>대구광역시</td>\n      <td>2020년</td>\n    </tr>\n    <tr>\n      <th>3</th>\n      <td>2020010100100072</td>\n      <td>2020년 1월 1일 05시</td>\n      <td>수요일</td>\n      <td>대구광역시 중구 삼덕동1가</td>\n      <td>경상사고</td>\n      <td>0</td>\n      <td>0</td>\n      <td>1</td>\n      <td>0</td>\n      <td>차대사람 - 길가장자리구역통행중</td>\n      <td>...</td>\n      <td>승용</td>\n      <td>남</td>\n      <td>18세</td>\n      <td>상해없음</td>\n      <td>보행자</td>\n      <td>남</td>\n      <td>21세</td>\n      <td>경상</td>\n      <td>대구광역시</td>\n      <td>2020년</td>\n    </tr>\n    <tr>\n      <th>4</th>\n      <td>2020010100100087</td>\n      <td>2020년 1월 1일 06시</td>\n      <td>수요일</td>\n      <td>대구광역시 수성구 두산동</td>\n      <td>경상사고</td>\n      <td>0</td>\n      <td>0</td>\n      <td>1</td>\n      <td>0</td>\n      <td>차대차 - 기타</td>\n      <td>...</td>\n      <td>승용</td>\n      <td>남</td>\n      <td>45세</td>\n      <td>상해없음</td>\n      <td>승용</td>\n      <td>남</td>\n      <td>26세</td>\n      <td>경상</td>\n      <td>대구광역시</td>\n      <td>2020년</td>\n    </tr>\n    <tr>\n      <th>...</th>\n      <td>...</td>\n      <td>...</td>\n      <td>...</td>\n      <td>...</td>\n      <td>...</td>\n      <td>...</td>\n      <td>...</td>\n      <td>...</td>\n      <td>...</td>\n      <td>...</td>\n      <td>...</td>\n      <td>...</td>\n      <td>...</td>\n      <td>...</td>\n      <td>...</td>\n      <td>...</td>\n      <td>...</td>\n      <td>...</td>\n      <td>...</td>\n      <td>...</td>\n      <td>...</td>\n    </tr>\n    <tr>\n      <th>412779</th>\n      <td>2021123100100475</td>\n      <td>2021년 12월 31일 18시</td>\n      <td>금요일</td>\n      <td>울산광역시 북구 호계동</td>\n      <td>중상사고</td>\n      <td>0</td>\n      <td>1</td>\n      <td>0</td>\n      <td>0</td>\n      <td>차대사람 - 횡단중</td>\n      <td>...</td>\n      <td>승용</td>\n      <td>남</td>\n      <td>33세</td>\n      <td>상해없음</td>\n      <td>보행자</td>\n      <td>남</td>\n      <td>65세</td>\n      <td>중상</td>\n      <td>울산광역시</td>\n      <td>2021년</td>\n    </tr>\n    <tr>\n      <th>412780</th>\n      <td>2021123100100476</td>\n      <td>2021년 12월 31일 18시</td>\n      <td>금요일</td>\n      <td>울산광역시 북구 중산동</td>\n      <td>경상사고</td>\n      <td>0</td>\n      <td>0</td>\n      <td>1</td>\n      <td>0</td>\n      <td>차대차 - 추돌</td>\n      <td>...</td>\n      <td>승용</td>\n      <td>남</td>\n      <td>38세</td>\n      <td>상해없음</td>\n      <td>승용</td>\n      <td>남</td>\n      <td>32세</td>\n      <td>경상</td>\n      <td>울산광역시</td>\n      <td>2021년</td>\n    </tr>\n    <tr>\n      <th>412781</th>\n      <td>2021123100100477</td>\n      <td>2021년 12월 31일 18시</td>\n      <td>금요일</td>\n      <td>울산광역시 북구 진장동</td>\n      <td>경상사고</td>\n      <td>0</td>\n      <td>0</td>\n      <td>1</td>\n      <td>0</td>\n      <td>차대차 - 측면충돌</td>\n      <td>...</td>\n      <td>승용</td>\n      <td>남</td>\n      <td>71세</td>\n      <td>상해없음</td>\n      <td>승용</td>\n      <td>여</td>\n      <td>30세</td>\n      <td>경상</td>\n      <td>울산광역시</td>\n      <td>2021년</td>\n    </tr>\n    <tr>\n      <th>412782</th>\n      <td>2021123100100593</td>\n      <td>2021년 12월 31일 21시</td>\n      <td>금요일</td>\n      <td>울산광역시 남구 야음동</td>\n      <td>경상사고</td>\n      <td>0</td>\n      <td>0</td>\n      <td>1</td>\n      <td>0</td>\n      <td>차대차 - 후진중충돌</td>\n      <td>...</td>\n      <td>승용</td>\n      <td>남</td>\n      <td>28세</td>\n      <td>상해없음</td>\n      <td>이륜</td>\n      <td>남</td>\n      <td>17세</td>\n      <td>경상</td>\n      <td>울산광역시</td>\n      <td>2021년</td>\n    </tr>\n    <tr>\n      <th>412783</th>\n      <td>2021123100100620</td>\n      <td>2021년 12월 31일 22시</td>\n      <td>금요일</td>\n      <td>울산광역시 중구 유곡동</td>\n      <td>중상사고</td>\n      <td>0</td>\n      <td>1</td>\n      <td>2</td>\n      <td>0</td>\n      <td>차대차 - 기타</td>\n      <td>...</td>\n      <td>승용</td>\n      <td>여</td>\n      <td>34세</td>\n      <td>상해없음</td>\n      <td>승용</td>\n      <td>여</td>\n      <td>60세</td>\n      <td>중상</td>\n      <td>울산광역시</td>\n      <td>2021년</td>\n    </tr>\n  </tbody>\n</table>\n<p>412784 rows × 24 columns</p>\n</div>"
     },
     "execution_count": 55,
     "metadata": {},
     "output_type": "execute_result"
    }
   ],
   "source": [
    "#사용되는 컬럼 정보만 가져오기\n",
    "df= df[['사고일시','시도','기상상태','사고내용','년도']]"
   ],
   "metadata": {
    "collapsed": false,
    "pycharm": {
     "name": "#%%\n"
    }
   }
  },
  {
   "cell_type": "code",
   "execution_count": null,
   "outputs": [],
   "source": [
    "#데이터 전처리하기\n",
    "from preprocessing_data import f5_encdoding_OneHot\n",
    "df= f5_encdoding_OneHot(df,['사고'])"
   ],
   "metadata": {
    "collapsed": false,
    "pycharm": {
     "name": "#%%\n"
    }
   }
  }
 ],
 "metadata": {
  "kernelspec": {
   "display_name": "Python 3",
   "language": "python",
   "name": "python3"
  },
  "language_info": {
   "codemirror_mode": {
    "name": "ipython",
    "version": 2
   },
   "file_extension": ".py",
   "mimetype": "text/x-python",
   "name": "python",
   "nbconvert_exporter": "python",
   "pygments_lexer": "ipython2",
   "version": "2.7.6"
  }
 },
 "nbformat": 4,
 "nbformat_minor": 0
}