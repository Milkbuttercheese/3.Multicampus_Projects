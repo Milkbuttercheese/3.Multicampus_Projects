{
 "cells": [
  {
   "cell_type": "code",
   "execution_count": 3,
   "metadata": {
    "collapsed": true,
    "pycharm": {
     "name": "#%%\n"
    }
   },
   "outputs": [],
   "source": [
    "import pandas as pd\n",
    "import numpy as np\n"
   ]
  },
  {
   "cell_type": "code",
   "execution_count": 67,
   "outputs": [],
   "source": [
    "df = pd.read_csv('한국도로공사_교통사고통계_20201231.csv', encoding='cp949')\n",
    "# 이 데이터는 전체 사고가 아닌 고속도로 통계이므로 다시 찾을 필요가 있음"
   ],
   "metadata": {
    "collapsed": false,
    "pycharm": {
     "name": "#%%\n"
    }
   }
  },
  {
   "cell_type": "code",
   "execution_count": 68,
   "outputs": [],
   "source": [
    "df_accident = df.set_index('연도')"
   ],
   "metadata": {
    "collapsed": false,
    "pycharm": {
     "name": "#%%\n"
    }
   }
  },
  {
   "cell_type": "code",
   "execution_count": 69,
   "outputs": [
    {
     "data": {
      "text/plain": "        사고   사망    부상\n연도                   \n2000  3910  569  2845\n2001  3638  456  2331\n2002  3957  421  2115\n2003  3585  348  1843\n2004  3242  300  1555\n2005  2880  249  1170\n2006  2583  284  1131\n2007  2550  283  1114\n2008  2449  265   955\n2009  2374  248  1031\n2010  2368  353   983\n2011  2640  265  1731\n2012  2600  343  1619\n2013  2496  264  1253\n2014  2395  253  1148\n2015  2251  223  1054\n2016  2195  239  1424\n2017  2145  214   911\n2018  2030  227   858\n2019  1931  176   830\n2020  1834  179   861",
      "text/html": "<div>\n<style scoped>\n    .dataframe tbody tr th:only-of-type {\n        vertical-align: middle;\n    }\n\n    .dataframe tbody tr th {\n        vertical-align: top;\n    }\n\n    .dataframe thead th {\n        text-align: right;\n    }\n</style>\n<table border=\"1\" class=\"dataframe\">\n  <thead>\n    <tr style=\"text-align: right;\">\n      <th></th>\n      <th>사고</th>\n      <th>사망</th>\n      <th>부상</th>\n    </tr>\n    <tr>\n      <th>연도</th>\n      <th></th>\n      <th></th>\n      <th></th>\n    </tr>\n  </thead>\n  <tbody>\n    <tr>\n      <th>2000</th>\n      <td>3910</td>\n      <td>569</td>\n      <td>2845</td>\n    </tr>\n    <tr>\n      <th>2001</th>\n      <td>3638</td>\n      <td>456</td>\n      <td>2331</td>\n    </tr>\n    <tr>\n      <th>2002</th>\n      <td>3957</td>\n      <td>421</td>\n      <td>2115</td>\n    </tr>\n    <tr>\n      <th>2003</th>\n      <td>3585</td>\n      <td>348</td>\n      <td>1843</td>\n    </tr>\n    <tr>\n      <th>2004</th>\n      <td>3242</td>\n      <td>300</td>\n      <td>1555</td>\n    </tr>\n    <tr>\n      <th>2005</th>\n      <td>2880</td>\n      <td>249</td>\n      <td>1170</td>\n    </tr>\n    <tr>\n      <th>2006</th>\n      <td>2583</td>\n      <td>284</td>\n      <td>1131</td>\n    </tr>\n    <tr>\n      <th>2007</th>\n      <td>2550</td>\n      <td>283</td>\n      <td>1114</td>\n    </tr>\n    <tr>\n      <th>2008</th>\n      <td>2449</td>\n      <td>265</td>\n      <td>955</td>\n    </tr>\n    <tr>\n      <th>2009</th>\n      <td>2374</td>\n      <td>248</td>\n      <td>1031</td>\n    </tr>\n    <tr>\n      <th>2010</th>\n      <td>2368</td>\n      <td>353</td>\n      <td>983</td>\n    </tr>\n    <tr>\n      <th>2011</th>\n      <td>2640</td>\n      <td>265</td>\n      <td>1731</td>\n    </tr>\n    <tr>\n      <th>2012</th>\n      <td>2600</td>\n      <td>343</td>\n      <td>1619</td>\n    </tr>\n    <tr>\n      <th>2013</th>\n      <td>2496</td>\n      <td>264</td>\n      <td>1253</td>\n    </tr>\n    <tr>\n      <th>2014</th>\n      <td>2395</td>\n      <td>253</td>\n      <td>1148</td>\n    </tr>\n    <tr>\n      <th>2015</th>\n      <td>2251</td>\n      <td>223</td>\n      <td>1054</td>\n    </tr>\n    <tr>\n      <th>2016</th>\n      <td>2195</td>\n      <td>239</td>\n      <td>1424</td>\n    </tr>\n    <tr>\n      <th>2017</th>\n      <td>2145</td>\n      <td>214</td>\n      <td>911</td>\n    </tr>\n    <tr>\n      <th>2018</th>\n      <td>2030</td>\n      <td>227</td>\n      <td>858</td>\n    </tr>\n    <tr>\n      <th>2019</th>\n      <td>1931</td>\n      <td>176</td>\n      <td>830</td>\n    </tr>\n    <tr>\n      <th>2020</th>\n      <td>1834</td>\n      <td>179</td>\n      <td>861</td>\n    </tr>\n  </tbody>\n</table>\n</div>"
     },
     "execution_count": 69,
     "metadata": {},
     "output_type": "execute_result"
    }
   ],
   "source": [
    "df_accident"
   ],
   "metadata": {
    "collapsed": false,
    "pycharm": {
     "name": "#%%\n"
    }
   }
  },
  {
   "cell_type": "code",
   "execution_count": 70,
   "outputs": [],
   "source": [
    "import matplotlib.pyplot as plt\n",
    "import seaborn as sns\n",
    "import warnings\n",
    "warnings.filterwarnings('ignore')"
   ],
   "metadata": {
    "collapsed": false,
    "pycharm": {
     "name": "#%%\n"
    }
   }
  },
  {
   "cell_type": "code",
   "execution_count": 71,
   "outputs": [],
   "source": [
    "plt.rcParams['font.family'] = 'NanumGothic'"
   ],
   "metadata": {
    "collapsed": false,
    "pycharm": {
     "name": "#%%\n"
    }
   }
  },
  {
   "cell_type": "code",
   "execution_count": 135,
   "outputs": [
    {
     "ename": "TypeError",
     "evalue": "'Series' object is not callable",
     "output_type": "error",
     "traceback": [
      "\u001B[1;31m---------------------------------------------------------------------------\u001B[0m",
      "\u001B[1;31mTypeError\u001B[0m                                 Traceback (most recent call last)",
      "Input \u001B[1;32mIn [135]\u001B[0m, in \u001B[0;36m<cell line: 3>\u001B[1;34m()\u001B[0m\n\u001B[0;32m      1\u001B[0m plt\u001B[38;5;241m.\u001B[39mfigure(figsize\u001B[38;5;241m=\u001B[39m(\u001B[38;5;241m12\u001B[39m, \u001B[38;5;241m8\u001B[39m))\n\u001B[0;32m      2\u001B[0m df_accident\u001B[38;5;241m.\u001B[39mplot(kind\u001B[38;5;241m=\u001B[39m\u001B[38;5;124m'\u001B[39m\u001B[38;5;124mbar\u001B[39m\u001B[38;5;124m'\u001B[39m, y\u001B[38;5;241m=\u001B[39m[\u001B[38;5;124m'\u001B[39m\u001B[38;5;124m사망\u001B[39m\u001B[38;5;124m'\u001B[39m, \u001B[38;5;124m'\u001B[39m\u001B[38;5;124m부상\u001B[39m\u001B[38;5;124m'\u001B[39m], stacked\u001B[38;5;241m=\u001B[39m\u001B[38;5;28;01mTrue\u001B[39;00m, color \u001B[38;5;241m=\u001B[39m [\u001B[38;5;124m'\u001B[39m\u001B[38;5;124mr\u001B[39m\u001B[38;5;124m'\u001B[39m , \u001B[38;5;124m'\u001B[39m\u001B[38;5;124mb\u001B[39m\u001B[38;5;124m'\u001B[39m])\n\u001B[1;32m----> 3\u001B[0m \u001B[43mplt\u001B[49m\u001B[38;5;241;43m.\u001B[39;49m\u001B[43mylabel\u001B[49m\u001B[43m(\u001B[49m\u001B[38;5;124;43m'\u001B[39;49m\u001B[38;5;124;43m사고 건수\u001B[39;49m\u001B[38;5;124;43m'\u001B[39;49m\u001B[43m)\u001B[49m\n\u001B[0;32m      4\u001B[0m plt\u001B[38;5;241m.\u001B[39mtitle(\u001B[38;5;124m'\u001B[39m\u001B[38;5;124m2000~2020사고 건수 변화\u001B[39m\u001B[38;5;124m'\u001B[39m)\n\u001B[0;32m      5\u001B[0m plt\u001B[38;5;241m.\u001B[39mshow()\n",
      "\u001B[1;31mTypeError\u001B[0m: 'Series' object is not callable"
     ]
    },
    {
     "data": {
      "text/plain": "<Figure size 864x576 with 0 Axes>"
     },
     "metadata": {},
     "output_type": "display_data"
    },
    {
     "data": {
      "text/plain": "<Figure size 432x288 with 1 Axes>",
      "image/png": "[encoded data removed]"
     },
     "metadata": {},
     "output_type": "display_data"
    }
   ],
   "source": [
    "plt.figure(figsize=(12, 8))\n",
    "df_accident.plot(kind='bar', y=['사망', '부상'], stacked=True, color = ['r' , 'b'])\n",
    "plt.ylabel('사고 건수')\n",
    "plt.title('2000~2020사고 건수 변화')\n",
    "plt.show()"
   ],
   "metadata": {
    "collapsed": false,
    "pycharm": {
     "name": "#%%\n"
    }
   }
  },
  {
   "cell_type": "markdown",
   "source": [
    "- 사고 대비 사망율\n",
    "- OCED 국가들과 비교"
   ],
   "metadata": {
    "collapsed": false,
    "pycharm": {
     "name": "#%% md\n"
    }
   }
  },
  {
   "cell_type": "markdown",
   "source": [
    "### 사고 대비 사망율"
   ],
   "metadata": {
    "collapsed": false,
    "pycharm": {
     "name": "#%% md\n"
    }
   }
  },
  {
   "cell_type": "code",
   "execution_count": 139,
   "outputs": [],
   "source": [
    "df_accident['사망율'] = df_accident['사망']/df_accident['사고'] * 100"
   ],
   "metadata": {
    "collapsed": false,
    "pycharm": {
     "name": "#%%\n"
    }
   }
  },
  {
   "cell_type": "code",
   "execution_count": 140,
   "outputs": [
    {
     "data": {
      "text/plain": "        사고   사망    부상        사망율\n연도                              \n2000  3910  569  2845  14.552430\n2001  3638  456  2331  12.534360\n2002  3957  421  2115  10.639373\n2003  3585  348  1843   9.707113\n2004  3242  300  1555   9.253547\n2005  2880  249  1170   8.645833\n2006  2583  284  1131  10.994967\n2007  2550  283  1114  11.098039\n2008  2449  265   955  10.820743\n2009  2374  248  1031  10.446504\n2010  2368  353   983  14.907095\n2011  2640  265  1731  10.037879\n2012  2600  343  1619  13.192308\n2013  2496  264  1253  10.576923\n2014  2395  253  1148  10.563674\n2015  2251  223  1054   9.906708\n2016  2195  239  1424  10.888383\n2017  2145  214   911   9.976690\n2018  2030  227   858  11.182266\n2019  1931  176   830   9.114448\n2020  1834  179   861   9.760087",
      "text/html": "<div>\n<style scoped>\n    .dataframe tbody tr th:only-of-type {\n        vertical-align: middle;\n    }\n\n    .dataframe tbody tr th {\n        vertical-align: top;\n    }\n\n    .dataframe thead th {\n        text-align: right;\n    }\n</style>\n<table border=\"1\" class=\"dataframe\">\n  <thead>\n    <tr style=\"text-align: right;\">\n      <th></th>\n      <th>사고</th>\n      <th>사망</th>\n      <th>부상</th>\n      <th>사망율</th>\n    </tr>\n    <tr>\n      <th>연도</th>\n      <th></th>\n      <th></th>\n      <th></th>\n      <th></th>\n    </tr>\n  </thead>\n  <tbody>\n    <tr>\n      <th>2000</th>\n      <td>3910</td>\n      <td>569</td>\n      <td>2845</td>\n      <td>14.552430</td>\n    </tr>\n    <tr>\n      <th>2001</th>\n      <td>3638</td>\n      <td>456</td>\n      <td>2331</td>\n      <td>12.534360</td>\n    </tr>\n    <tr>\n      <th>2002</th>\n      <td>3957</td>\n      <td>421</td>\n      <td>2115</td>\n      <td>10.639373</td>\n    </tr>\n    <tr>\n      <th>2003</th>\n      <td>3585</td>\n      <td>348</td>\n      <td>1843</td>\n      <td>9.707113</td>\n    </tr>\n    <tr>\n      <th>2004</th>\n      <td>3242</td>\n      <td>300</td>\n      <td>1555</td>\n      <td>9.253547</td>\n    </tr>\n    <tr>\n      <th>2005</th>\n      <td>2880</td>\n      <td>249</td>\n      <td>1170</td>\n      <td>8.645833</td>\n    </tr>\n    <tr>\n      <th>2006</th>\n      <td>2583</td>\n      <td>284</td>\n      <td>1131</td>\n      <td>10.994967</td>\n    </tr>\n    <tr>\n      <th>2007</th>\n      <td>2550</td>\n      <td>283</td>\n      <td>1114</td>\n      <td>11.098039</td>\n    </tr>\n    <tr>\n      <th>2008</th>\n      <td>2449</td>\n      <td>265</td>\n      <td>955</td>\n      <td>10.820743</td>\n    </tr>\n    <tr>\n      <th>2009</th>\n      <td>2374</td>\n      <td>248</td>\n      <td>1031</td>\n      <td>10.446504</td>\n    </tr>\n    <tr>\n      <th>2010</th>\n      <td>2368</td>\n      <td>353</td>\n      <td>983</td>\n      <td>14.907095</td>\n    </tr>\n    <tr>\n      <th>2011</th>\n      <td>2640</td>\n      <td>265</td>\n      <td>1731</td>\n      <td>10.037879</td>\n    </tr>\n    <tr>\n      <th>2012</th>\n      <td>2600</td>\n      <td>343</td>\n      <td>1619</td>\n      <td>13.192308</td>\n    </tr>\n    <tr>\n      <th>2013</th>\n      <td>2496</td>\n      <td>264</td>\n      <td>1253</td>\n      <td>10.576923</td>\n    </tr>\n    <tr>\n      <th>2014</th>\n      <td>2395</td>\n      <td>253</td>\n      <td>1148</td>\n      <td>10.563674</td>\n    </tr>\n    <tr>\n      <th>2015</th>\n      <td>2251</td>\n      <td>223</td>\n      <td>1054</td>\n      <td>9.906708</td>\n    </tr>\n    <tr>\n      <th>2016</th>\n      <td>2195</td>\n      <td>239</td>\n      <td>1424</td>\n      <td>10.888383</td>\n    </tr>\n    <tr>\n      <th>2017</th>\n      <td>2145</td>\n      <td>214</td>\n      <td>911</td>\n      <td>9.976690</td>\n    </tr>\n    <tr>\n      <th>2018</th>\n      <td>2030</td>\n      <td>227</td>\n      <td>858</td>\n      <td>11.182266</td>\n    </tr>\n    <tr>\n      <th>2019</th>\n      <td>1931</td>\n      <td>176</td>\n      <td>830</td>\n      <td>9.114448</td>\n    </tr>\n    <tr>\n      <th>2020</th>\n      <td>1834</td>\n      <td>179</td>\n      <td>861</td>\n      <td>9.760087</td>\n    </tr>\n  </tbody>\n</table>\n</div>"
     },
     "execution_count": 140,
     "metadata": {},
     "output_type": "execute_result"
    }
   ],
   "source": [
    "df_accident"
   ],
   "metadata": {
    "collapsed": false,
    "pycharm": {
     "name": "#%%\n"
    }
   }
  },
  {
   "cell_type": "code",
   "execution_count": 150,
   "outputs": [
    {
     "ename": "TypeError",
     "evalue": "'Series' object is not callable",
     "output_type": "error",
     "traceback": [
      "\u001B[1;31m---------------------------------------------------------------------------\u001B[0m",
      "\u001B[1;31mTypeError\u001B[0m                                 Traceback (most recent call last)",
      "Input \u001B[1;32mIn [150]\u001B[0m, in \u001B[0;36m<cell line: 4>\u001B[1;34m()\u001B[0m\n\u001B[0;32m      2\u001B[0m df_accident[\u001B[38;5;124m'\u001B[39m\u001B[38;5;124m사망율\u001B[39m\u001B[38;5;124m'\u001B[39m]\u001B[38;5;241m.\u001B[39mplot(lw\u001B[38;5;241m=\u001B[39m\u001B[38;5;241m3\u001B[39m, color \u001B[38;5;241m=\u001B[39m \u001B[38;5;124m'\u001B[39m\u001B[38;5;124mred\u001B[39m\u001B[38;5;124m'\u001B[39m)\n\u001B[0;32m      3\u001B[0m plt\u001B[38;5;241m.\u001B[39mtitle(\u001B[38;5;124m'\u001B[39m\u001B[38;5;124m전체사고대비 사망사고 발생율(2000~2020)\u001B[39m\u001B[38;5;124m'\u001B[39m, size\u001B[38;5;241m=\u001B[39m\u001B[38;5;241m15\u001B[39m)\n\u001B[1;32m----> 4\u001B[0m \u001B[43mplt\u001B[49m\u001B[38;5;241;43m.\u001B[39;49m\u001B[43mylabel\u001B[49m\u001B[43m(\u001B[49m\u001B[43mylabel\u001B[49m\u001B[38;5;241;43m=\u001B[39;49m\u001B[38;5;124;43m'\u001B[39;49m\u001B[38;5;124;43m사망율\u001B[39;49m\u001B[38;5;124;43m'\u001B[39;49m\u001B[43m)\u001B[49m\n\u001B[0;32m      5\u001B[0m plt\u001B[38;5;241m.\u001B[39mxticks(ticks\u001B[38;5;241m=\u001B[39m[\u001B[38;5;241m2000\u001B[39m, \u001B[38;5;241m2005\u001B[39m, \u001B[38;5;241m2010\u001B[39m, \u001B[38;5;241m2015\u001B[39m, \u001B[38;5;241m2020\u001B[39m])\n\u001B[0;32m      6\u001B[0m plt\u001B[38;5;241m.\u001B[39mshow()\n",
      "\u001B[1;31mTypeError\u001B[0m: 'Series' object is not callable"
     ]
    },
    {
     "data": {
      "text/plain": "<Figure size 864x576 with 1 Axes>",
      "image/png": "[encoded data removed]"
     },
     "metadata": {},
     "output_type": "display_data"
    }
   ],
   "source": [
    "plt.figure(figsize=(12, 8))\n",
    "df_accident['사망율'].plot(lw=3, color = 'red')\n",
    "plt.title('전체사고대비 사망사고 발생율(2000~2020)', size=15)\n",
    "plt.ylabel(ylabel='사망율')\n",
    "plt.xticks(ticks=[2000, 2005, 2010, 2015, 2020])\n",
    "plt.show()"
   ],
   "metadata": {
    "collapsed": false,
    "pycharm": {
     "name": "#%%\n"
    }
   }
  },
  {
   "cell_type": "markdown",
   "source": [
    "### 전체사고 + 사망율"
   ],
   "metadata": {
    "collapsed": false,
    "pycharm": {
     "name": "#%% md\n"
    }
   }
  },
  {
   "cell_type": "markdown",
   "source": [
    "- 지역별 (남해 등)"
   ],
   "metadata": {
    "collapsed": false,
    "pycharm": {
     "name": "#%% md\n"
    }
   }
  },
  {
   "cell_type": "code",
   "execution_count": 73,
   "outputs": [],
   "source": [
    "df_02 = pd.read_excel('자동차 등록대수_20220801.xlsx')"
   ],
   "metadata": {
    "collapsed": false,
    "pycharm": {
     "name": "#%%\n"
    }
   }
  },
  {
   "cell_type": "code",
   "execution_count": 74,
   "outputs": [
    {
     "data": {
      "text/plain": "    Unnamed: 0 Unnamed: 1 Unnamed: 2 Unnamed: 3 Unnamed: 4 Unnamed: 5  \\\n0          NaN        NaN        NaN        NaN        NaN        NaN   \n1          구분1        시도별         전국         전국         전국         전국   \n2          구분1         차종          계          계          계          계   \n3          구분1        용도별         관용        자가용        영업용          계   \n4        1980년         1월        0.0        0.0        0.0        0.0   \n..         ...        ...        ...        ...        ...        ...   \n515      2022년         8월        NaN        NaN        NaN        NaN   \n516      2022년         9월        NaN        NaN        NaN        NaN   \n517      2022년        10월        NaN        NaN        NaN        NaN   \n518      2022년        11월        NaN        NaN        NaN        NaN   \n519      2022년        12월        NaN        NaN        NaN        NaN   \n\n    Unnamed: 6 Unnamed: 7 Unnamed: 8 Unnamed: 9  ... Unnamed: 352  \\\n0          NaN        NaN        NaN        NaN  ...          NaN   \n1           전국         전국         전국         전국  ...          제주도   \n2        승용자동차      승용자동차      승용자동차      승용자동차  ...        승합자동차   \n3           관용        자가용        영업용          계  ...          영업용   \n4          0.0        0.0        0.0        0.0  ...          0.0   \n..         ...        ...        ...        ...  ...          ...   \n515        NaN        NaN        NaN        NaN  ...          NaN   \n516        NaN        NaN        NaN        NaN  ...          NaN   \n517        NaN        NaN        NaN        NaN  ...          NaN   \n518        NaN        NaN        NaN        NaN  ...          NaN   \n519        NaN        NaN        NaN        NaN  ...          NaN   \n\n    Unnamed: 353 Unnamed: 354 Unnamed: 355 Unnamed: 356 Unnamed: 357  \\\n0            NaN          NaN          NaN          NaN          NaN   \n1            제주도          제주도          제주도          제주도          제주도   \n2          승합자동차        화물자동차        화물자동차        화물자동차        화물자동차   \n3              계           관용          자가용          영업용            계   \n4            0.0          0.0          0.0          0.0          0.0   \n..           ...          ...          ...          ...          ...   \n515          NaN          NaN          NaN          NaN          NaN   \n516          NaN          NaN          NaN          NaN          NaN   \n517          NaN          NaN          NaN          NaN          NaN   \n518          NaN          NaN          NaN          NaN          NaN   \n519          NaN          NaN          NaN          NaN          NaN   \n\n    Unnamed: 358 Unnamed: 359 Unnamed: 360 Unnamed: 361  \n0            NaN          NaN          NaN          NaN  \n1            제주도          제주도          제주도          제주도  \n2          특수자동차        특수자동차        특수자동차        특수자동차  \n3             관용          자가용          영업용            계  \n4            0.0          0.0          0.0          0.0  \n..           ...          ...          ...          ...  \n515          NaN          NaN          NaN          NaN  \n516          NaN          NaN          NaN          NaN  \n517          NaN          NaN          NaN          NaN  \n518          NaN          NaN          NaN          NaN  \n519          NaN          NaN          NaN          NaN  \n\n[520 rows x 362 columns]",
      "text/html": "<div>\n<style scoped>\n    .dataframe tbody tr th:only-of-type {\n        vertical-align: middle;\n    }\n\n    .dataframe tbody tr th {\n        vertical-align: top;\n    }\n\n    .dataframe thead th {\n        text-align: right;\n    }\n</style>\n<table border=\"1\" class=\"dataframe\">\n  <thead>\n    <tr style=\"text-align: right;\">\n      <th></th>\n      <th>Unnamed: 0</th>\n      <th>Unnamed: 1</th>\n      <th>Unnamed: 2</th>\n      <th>Unnamed: 3</th>\n      <th>Unnamed: 4</th>\n      <th>Unnamed: 5</th>\n      <th>Unnamed: 6</th>\n      <th>Unnamed: 7</th>\n      <th>Unnamed: 8</th>\n      <th>Unnamed: 9</th>\n      <th>...</th>\n      <th>Unnamed: 352</th>\n      <th>Unnamed: 353</th>\n      <th>Unnamed: 354</th>\n      <th>Unnamed: 355</th>\n      <th>Unnamed: 356</th>\n      <th>Unnamed: 357</th>\n      <th>Unnamed: 358</th>\n      <th>Unnamed: 359</th>\n      <th>Unnamed: 360</th>\n      <th>Unnamed: 361</th>\n    </tr>\n  </thead>\n  <tbody>\n    <tr>\n      <th>0</th>\n      <td>NaN</td>\n      <td>NaN</td>\n      <td>NaN</td>\n      <td>NaN</td>\n      <td>NaN</td>\n      <td>NaN</td>\n      <td>NaN</td>\n      <td>NaN</td>\n      <td>NaN</td>\n      <td>NaN</td>\n      <td>...</td>\n      <td>NaN</td>\n      <td>NaN</td>\n      <td>NaN</td>\n      <td>NaN</td>\n      <td>NaN</td>\n      <td>NaN</td>\n      <td>NaN</td>\n      <td>NaN</td>\n      <td>NaN</td>\n      <td>NaN</td>\n    </tr>\n    <tr>\n      <th>1</th>\n      <td>구분1</td>\n      <td>시도별</td>\n      <td>전국</td>\n      <td>전국</td>\n      <td>전국</td>\n      <td>전국</td>\n      <td>전국</td>\n      <td>전국</td>\n      <td>전국</td>\n      <td>전국</td>\n      <td>...</td>\n      <td>제주도</td>\n      <td>제주도</td>\n      <td>제주도</td>\n      <td>제주도</td>\n      <td>제주도</td>\n      <td>제주도</td>\n      <td>제주도</td>\n      <td>제주도</td>\n      <td>제주도</td>\n      <td>제주도</td>\n    </tr>\n    <tr>\n      <th>2</th>\n      <td>구분1</td>\n      <td>차종</td>\n      <td>계</td>\n      <td>계</td>\n      <td>계</td>\n      <td>계</td>\n      <td>승용자동차</td>\n      <td>승용자동차</td>\n      <td>승용자동차</td>\n      <td>승용자동차</td>\n      <td>...</td>\n      <td>승합자동차</td>\n      <td>승합자동차</td>\n      <td>화물자동차</td>\n      <td>화물자동차</td>\n      <td>화물자동차</td>\n      <td>화물자동차</td>\n      <td>특수자동차</td>\n      <td>특수자동차</td>\n      <td>특수자동차</td>\n      <td>특수자동차</td>\n    </tr>\n    <tr>\n      <th>3</th>\n      <td>구분1</td>\n      <td>용도별</td>\n      <td>관용</td>\n      <td>자가용</td>\n      <td>영업용</td>\n      <td>계</td>\n      <td>관용</td>\n      <td>자가용</td>\n      <td>영업용</td>\n      <td>계</td>\n      <td>...</td>\n      <td>영업용</td>\n      <td>계</td>\n      <td>관용</td>\n      <td>자가용</td>\n      <td>영업용</td>\n      <td>계</td>\n      <td>관용</td>\n      <td>자가용</td>\n      <td>영업용</td>\n      <td>계</td>\n    </tr>\n    <tr>\n      <th>4</th>\n      <td>1980년</td>\n      <td>1월</td>\n      <td>0.0</td>\n      <td>0.0</td>\n      <td>0.0</td>\n      <td>0.0</td>\n      <td>0.0</td>\n      <td>0.0</td>\n      <td>0.0</td>\n      <td>0.0</td>\n      <td>...</td>\n      <td>0.0</td>\n      <td>0.0</td>\n      <td>0.0</td>\n      <td>0.0</td>\n      <td>0.0</td>\n      <td>0.0</td>\n      <td>0.0</td>\n      <td>0.0</td>\n      <td>0.0</td>\n      <td>0.0</td>\n    </tr>\n    <tr>\n      <th>...</th>\n      <td>...</td>\n      <td>...</td>\n      <td>...</td>\n      <td>...</td>\n      <td>...</td>\n      <td>...</td>\n      <td>...</td>\n      <td>...</td>\n      <td>...</td>\n      <td>...</td>\n      <td>...</td>\n      <td>...</td>\n      <td>...</td>\n      <td>...</td>\n      <td>...</td>\n      <td>...</td>\n      <td>...</td>\n      <td>...</td>\n      <td>...</td>\n      <td>...</td>\n      <td>...</td>\n    </tr>\n    <tr>\n      <th>515</th>\n      <td>2022년</td>\n      <td>8월</td>\n      <td>NaN</td>\n      <td>NaN</td>\n      <td>NaN</td>\n      <td>NaN</td>\n      <td>NaN</td>\n      <td>NaN</td>\n      <td>NaN</td>\n      <td>NaN</td>\n      <td>...</td>\n      <td>NaN</td>\n      <td>NaN</td>\n      <td>NaN</td>\n      <td>NaN</td>\n      <td>NaN</td>\n      <td>NaN</td>\n      <td>NaN</td>\n      <td>NaN</td>\n      <td>NaN</td>\n      <td>NaN</td>\n    </tr>\n    <tr>\n      <th>516</th>\n      <td>2022년</td>\n      <td>9월</td>\n      <td>NaN</td>\n      <td>NaN</td>\n      <td>NaN</td>\n      <td>NaN</td>\n      <td>NaN</td>\n      <td>NaN</td>\n      <td>NaN</td>\n      <td>NaN</td>\n      <td>...</td>\n      <td>NaN</td>\n      <td>NaN</td>\n      <td>NaN</td>\n      <td>NaN</td>\n      <td>NaN</td>\n      <td>NaN</td>\n      <td>NaN</td>\n      <td>NaN</td>\n      <td>NaN</td>\n      <td>NaN</td>\n    </tr>\n    <tr>\n      <th>517</th>\n      <td>2022년</td>\n      <td>10월</td>\n      <td>NaN</td>\n      <td>NaN</td>\n      <td>NaN</td>\n      <td>NaN</td>\n      <td>NaN</td>\n      <td>NaN</td>\n      <td>NaN</td>\n      <td>NaN</td>\n      <td>...</td>\n      <td>NaN</td>\n      <td>NaN</td>\n      <td>NaN</td>\n      <td>NaN</td>\n      <td>NaN</td>\n      <td>NaN</td>\n      <td>NaN</td>\n      <td>NaN</td>\n      <td>NaN</td>\n      <td>NaN</td>\n    </tr>\n    <tr>\n      <th>518</th>\n      <td>2022년</td>\n      <td>11월</td>\n      <td>NaN</td>\n      <td>NaN</td>\n      <td>NaN</td>\n      <td>NaN</td>\n      <td>NaN</td>\n      <td>NaN</td>\n      <td>NaN</td>\n      <td>NaN</td>\n      <td>...</td>\n      <td>NaN</td>\n      <td>NaN</td>\n      <td>NaN</td>\n      <td>NaN</td>\n      <td>NaN</td>\n      <td>NaN</td>\n      <td>NaN</td>\n      <td>NaN</td>\n      <td>NaN</td>\n      <td>NaN</td>\n    </tr>\n    <tr>\n      <th>519</th>\n      <td>2022년</td>\n      <td>12월</td>\n      <td>NaN</td>\n      <td>NaN</td>\n      <td>NaN</td>\n      <td>NaN</td>\n      <td>NaN</td>\n      <td>NaN</td>\n      <td>NaN</td>\n      <td>NaN</td>\n      <td>...</td>\n      <td>NaN</td>\n      <td>NaN</td>\n      <td>NaN</td>\n      <td>NaN</td>\n      <td>NaN</td>\n      <td>NaN</td>\n      <td>NaN</td>\n      <td>NaN</td>\n      <td>NaN</td>\n      <td>NaN</td>\n    </tr>\n  </tbody>\n</table>\n<p>520 rows × 362 columns</p>\n</div>"
     },
     "execution_count": 74,
     "metadata": {},
     "output_type": "execute_result"
    }
   ],
   "source": [
    "df_02"
   ],
   "metadata": {
    "collapsed": false,
    "pycharm": {
     "name": "#%%\n"
    }
   }
  },
  {
   "cell_type": "code",
   "execution_count": 75,
   "outputs": [],
   "source": [
    "# 매년 말 기준 12월 컬럼만 남기고 나머지 삭제\n",
    "df_car_registered = df_02[df_02['Unnamed: 1'] == '12월'][['Unnamed: 0', 'Unnamed: 5']]"
   ],
   "metadata": {
    "collapsed": false,
    "pycharm": {
     "name": "#%%\n"
    }
   }
  },
  {
   "cell_type": "code",
   "execution_count": 76,
   "outputs": [],
   "source": [
    "df_car_registered.rename(columns={'Unnamed: 5': '차량 등록대수', 'Unnamed: 0': '연도'}, inplace=True)"
   ],
   "metadata": {
    "collapsed": false,
    "pycharm": {
     "name": "#%%\n"
    }
   }
  },
  {
   "cell_type": "code",
   "execution_count": 82,
   "outputs": [],
   "source": [
    "# 연도에서 '년'을 빼서  int로 형 변환\n",
    "df_car_registered['연도'] = df_car_registered['연도'].str[:-1]"
   ],
   "metadata": {
    "collapsed": false,
    "pycharm": {
     "name": "#%%\n"
    }
   }
  },
  {
   "cell_type": "code",
   "execution_count": 85,
   "outputs": [],
   "source": [
    "# NaN값 제거\n",
    "df_car_registered = df_car_registered.dropna()"
   ],
   "metadata": {
    "collapsed": false,
    "pycharm": {
     "name": "#%%\n"
    }
   }
  },
  {
   "cell_type": "code",
   "execution_count": 87,
   "outputs": [],
   "source": [
    "df_car_registered['연도'] = df_car_registered['연도'].astype('int')"
   ],
   "metadata": {
    "collapsed": false,
    "pycharm": {
     "name": "#%%\n"
    }
   }
  },
  {
   "cell_type": "code",
   "execution_count": 88,
   "outputs": [],
   "source": [
    "df_car_registered = df_car_registered[df_car_registered['연도']>=2000]"
   ],
   "metadata": {
    "collapsed": false,
    "pycharm": {
     "name": "#%%\n"
    }
   }
  },
  {
   "cell_type": "code",
   "execution_count": 90,
   "outputs": [],
   "source": [
    "df_car_registered['차량 등록대수'] = df_car_registered['차량 등록대수'].astype('int')"
   ],
   "metadata": {
    "collapsed": false,
    "pycharm": {
     "name": "#%%\n"
    }
   }
  },
  {
   "cell_type": "code",
   "execution_count": 151,
   "outputs": [
    {
     "ename": "TypeError",
     "evalue": "'Series' object is not callable",
     "output_type": "error",
     "traceback": [
      "\u001B[1;31m---------------------------------------------------------------------------\u001B[0m",
      "\u001B[1;31mTypeError\u001B[0m                                 Traceback (most recent call last)",
      "Input \u001B[1;32mIn [151]\u001B[0m, in \u001B[0;36m<cell line: 3>\u001B[1;34m()\u001B[0m\n\u001B[0;32m      1\u001B[0m plt\u001B[38;5;241m.\u001B[39mfigure()\n\u001B[0;32m      2\u001B[0m df_car_registered\u001B[38;5;241m.\u001B[39mset_index(\u001B[38;5;124m'\u001B[39m\u001B[38;5;124m연도\u001B[39m\u001B[38;5;124m'\u001B[39m)\u001B[38;5;241m.\u001B[39msort_index(ascending\u001B[38;5;241m=\u001B[39m\u001B[38;5;28;01mFalse\u001B[39;00m)\u001B[38;5;241m.\u001B[39mplot(kind \u001B[38;5;241m=\u001B[39m \u001B[38;5;124m'\u001B[39m\u001B[38;5;124mbarh\u001B[39m\u001B[38;5;124m'\u001B[39m)\n\u001B[1;32m----> 3\u001B[0m \u001B[43mplt\u001B[49m\u001B[38;5;241;43m.\u001B[39;49m\u001B[43mxlabel\u001B[49m\u001B[43m(\u001B[49m\u001B[38;5;124;43m'\u001B[39;49m\u001B[38;5;124;43m차량 등록 대수\u001B[39;49m\u001B[38;5;124;43m'\u001B[39;49m\u001B[43m)\u001B[49m\n\u001B[0;32m      4\u001B[0m plt\u001B[38;5;241m.\u001B[39mshow()\n",
      "\u001B[1;31mTypeError\u001B[0m: 'Series' object is not callable"
     ]
    },
    {
     "data": {
      "text/plain": "<Figure size 432x288 with 0 Axes>"
     },
     "metadata": {},
     "output_type": "display_data"
    },
    {
     "data": {
      "text/plain": "<Figure size 432x288 with 1 Axes>",
      "image/png": "[encoded data removed]"
     },
     "metadata": {},
     "output_type": "display_data"
    }
   ],
   "source": [
    "plt.figure()\n",
    "df_car_registered.set_index('연도').sort_index(ascending=False).plot(kind = 'barh')\n",
    "plt.xlabel('차량 등록 대수')\n",
    "plt.show()"
   ],
   "metadata": {
    "collapsed": false,
    "pycharm": {
     "name": "#%%\n"
    }
   }
  },
  {
   "cell_type": "code",
   "execution_count": 152,
   "outputs": [
    {
     "data": {
      "text/plain": "<Figure size 864x576 with 1 Axes>",
      "image/png": "[encoded data removed]"
     },
     "metadata": {},
     "output_type": "display_data"
    }
   ],
   "source": [
    "plt.figure(figsize=(12, 8))\n",
    "df_car = df_car_registered.set_index('연도').sort_index(ascending=False)\n",
    "sns.barplot(x=df_car.index, y='차량 등록대수', data=df_car)\n",
    "plt.xticks(rotation=90)\n",
    "plt.show()"
   ],
   "metadata": {
    "collapsed": false,
    "pycharm": {
     "name": "#%%\n"
    }
   }
  },
  {
   "cell_type": "code",
   "execution_count": 128,
   "outputs": [],
   "source": [
    "df_kind = pd.read_excel('교통수단별 교통사고현황_20220801.xlsx')"
   ],
   "metadata": {
    "collapsed": false,
    "pycharm": {
     "name": "#%%\n"
    }
   }
  },
  {
   "cell_type": "code",
   "execution_count": 129,
   "outputs": [
    {
     "data": {
      "text/plain": "   Unnamed: 0 Unnamed: 1 Unnamed: 2 Unnamed: 3 Unnamed: 4 Unnamed: 5  \\\n0         NaN        NaN        NaN        NaN        NaN        NaN   \n1          구분        자동차        자동차         철도         철도        지하철   \n2          구분       발생건수       사망자수       발생건수       사망자수       발생건수   \n3       1980년   120182.0     5608.0     2136.0      778.0        7.0   \n4       1981년   123373.0     5804.0     1894.0      858.0       15.0   \n5       1982년   141128.0     6110.0     1849.0      755.0        8.0   \n6       1983년   170026.0     6834.0     1932.0      714.0        9.0   \n7       1984년   134335.0     7468.0     1816.0      755.0       13.0   \n8       1985년   146836.0     7522.0     1811.0      738.0       12.0   \n9       1986년   153777.0     7702.0     1845.0      689.0       17.0   \n10      1987년   175661.0     7206.0     1739.0      717.0       31.0   \n11      1988년   225062.0    11563.0     1847.0      697.0       62.0   \n12      1989년   255787.0    12603.0     1812.0      693.0       34.0   \n13      1990년   255303.0    12325.0     1707.0      606.0       33.0   \n14      1991년   265964.0    13429.0     1813.0      588.0       34.0   \n15      1992년   257194.0    11640.0     1694.0      522.0       29.0   \n16      1993년   260921.0    10402.0     1611.0      573.0       20.0   \n17      1994년   266107.0    10087.0     1541.0      478.0       18.0   \n18      1995년   248865.0    10323.0     1344.0      366.0       19.0   \n19      1996년   265052.0    12653.0     1051.0      352.0       29.0   \n20      1997년   246452.0    11603.0      937.0      337.0       27.0   \n21      1998년   239721.0     9057.0      956.0      349.0       48.0   \n22      1999년   275938.0     9353.0      761.0      314.0       54.0   \n23      2000년   290481.0    10236.0      640.0      252.0       48.0   \n24      2001년   260579.0     8097.0      571.0      245.0       60.0   \n25      2002년   231026.0     7222.0      599.0      265.0       56.0   \n26      2003년   240832.0     7212.0      743.0      503.0      103.0   \n27      2004년   220755.0     6563.0      596.0      243.0       88.0   \n28      2005년   214171.0     6376.0      386.0      201.0       92.0   \n29      2006년   213745.0     6327.0      329.0      171.0       79.0   \n30      2007년   211662.0     6166.0      429.0      192.0       83.0   \n31      2008년   215822.0     5870.0      408.0      159.0       63.0   \n32      2009년   231990.0     5838.0      382.0      161.0       60.0   \n33      2010년   226878.0     5505.0      317.0      135.0       17.0   \n34      2011년   221711.0     5229.0      277.0      124.0          -   \n35      2012년   223656.0     5392.0      250.0      108.0          -   \n36      2013년   215354.0     5092.0      232.0       96.0          -   \n37      2014년   223552.0     4762.0      209.0       80.0          -   \n38      2015년   232035.0     4621.0      138.0       76.0          -   \n39      2016년   220917.0     4292.0      123.0       62.0          -   \n40      2017년   216335.0     4185.0      105.0       51.0          -   \n41      2018년   217148.0     3781.0       98.0       40.0          -   \n42      2019년   229600.0     3349.0       72.0       29.0          -   \n43      2020년   209654.0     3081.0       58.0        ...          -   \n\n   Unnamed: 6 Unnamed: 7 Unnamed: 8 Unnamed: 9 Unnamed: 10  \n0         NaN        NaN        NaN        NaN         NaN  \n1         지하철         선박         선박        항공기         항공기  \n2        사망자수       발생건수       사망자수       발생건수        사망자수  \n3         4.0      255.0      147.0        4.0        17.0  \n4         7.0      336.0      123.0        2.0           -  \n5         4.0      301.0       42.0          -           -  \n6         5.0      300.0       74.0        5.0       276.0  \n7         9.0      486.0      143.0        1.0         5.0  \n8         3.0      408.0      242.0        1.0         2.0  \n9        12.0      429.0      175.0        1.0         3.0  \n10        9.0      533.0      477.0        1.0       115.0  \n11       15.0      438.0      309.0        2.0         3.0  \n12       11.0      479.0      194.0        3.0        94.0  \n13       15.0      515.0      154.0        1.0         2.0  \n14       20.0      555.0      153.0        3.0           -  \n15       17.0      476.0      195.0        3.0         1.0  \n16       11.0      529.0      430.0        3.0        73.0  \n17       12.0      699.0      209.0        2.0           -  \n18       12.0      709.0      190.0        0.0           -  \n19       18.0      661.0      147.0        2.0         1.0  \n20       18.0      840.0      227.0        4.0       232.0  \n21       24.0      772.0      143.0        5.0         0.0  \n22       35.0      849.0      164.0        3.0        12.0  \n23       28.0      634.0      149.0        3.0         0.0  \n24       40.0      610.0      174.0        5.0         9.0  \n25       36.0      557.0      185.0        4.0         2.0  \n26      256.0      531.0      119.0        5.0         2.0  \n27       51.0      804.0      205.0        3.0         2.0  \n28       55.0      658.0      186.0        5.0         2.0  \n29       44.0      657.0      134.0        5.0           -  \n30       59.0      566.0      136.0        2.0           -  \n31       39.0      948.0      116.0        4.0         2.0  \n32       34.0     1815.0      148.0        7.0         6.0  \n33        9.0     1627.0      170.0        5.0         1.0  \n34          -     1809.0      158.0        7.0        10.0  \n35          -     1573.0      122.0        5.0         1.0  \n36          -     1093.0      101.0        9.0        10.0  \n37          -     1330.0      467.0        3.0         5.0  \n38          -     2101.0      100.0        3.0           -  \n39          -     2307.0      118.0        8.0         9.0  \n40          -     2582.0      145.0        5.0         2.0  \n41          -     2671.0      102.0        4.0         1.0  \n42          -     2971.0       98.0        3.0         7.0  \n43          -     3156.0      126.0        5.0         3.0  ",
      "text/html": "<div>\n<style scoped>\n    .dataframe tbody tr th:only-of-type {\n        vertical-align: middle;\n    }\n\n    .dataframe tbody tr th {\n        vertical-align: top;\n    }\n\n    .dataframe thead th {\n        text-align: right;\n    }\n</style>\n<table border=\"1\" class=\"dataframe\">\n  <thead>\n    <tr style=\"text-align: right;\">\n      <th></th>\n      <th>Unnamed: 0</th>\n      <th>Unnamed: 1</th>\n      <th>Unnamed: 2</th>\n      <th>Unnamed: 3</th>\n      <th>Unnamed: 4</th>\n      <th>Unnamed: 5</th>\n      <th>Unnamed: 6</th>\n      <th>Unnamed: 7</th>\n      <th>Unnamed: 8</th>\n      <th>Unnamed: 9</th>\n      <th>Unnamed: 10</th>\n    </tr>\n  </thead>\n  <tbody>\n    <tr>\n      <th>0</th>\n      <td>NaN</td>\n      <td>NaN</td>\n      <td>NaN</td>\n      <td>NaN</td>\n      <td>NaN</td>\n      <td>NaN</td>\n      <td>NaN</td>\n      <td>NaN</td>\n      <td>NaN</td>\n      <td>NaN</td>\n      <td>NaN</td>\n    </tr>\n    <tr>\n      <th>1</th>\n      <td>구분</td>\n      <td>자동차</td>\n      <td>자동차</td>\n      <td>철도</td>\n      <td>철도</td>\n      <td>지하철</td>\n      <td>지하철</td>\n      <td>선박</td>\n      <td>선박</td>\n      <td>항공기</td>\n      <td>항공기</td>\n    </tr>\n    <tr>\n      <th>2</th>\n      <td>구분</td>\n      <td>발생건수</td>\n      <td>사망자수</td>\n      <td>발생건수</td>\n      <td>사망자수</td>\n      <td>발생건수</td>\n      <td>사망자수</td>\n      <td>발생건수</td>\n      <td>사망자수</td>\n      <td>발생건수</td>\n      <td>사망자수</td>\n    </tr>\n    <tr>\n      <th>3</th>\n      <td>1980년</td>\n      <td>120182.0</td>\n      <td>5608.0</td>\n      <td>2136.0</td>\n      <td>778.0</td>\n      <td>7.0</td>\n      <td>4.0</td>\n      <td>255.0</td>\n      <td>147.0</td>\n      <td>4.0</td>\n      <td>17.0</td>\n    </tr>\n    <tr>\n      <th>4</th>\n      <td>1981년</td>\n      <td>123373.0</td>\n      <td>5804.0</td>\n      <td>1894.0</td>\n      <td>858.0</td>\n      <td>15.0</td>\n      <td>7.0</td>\n      <td>336.0</td>\n      <td>123.0</td>\n      <td>2.0</td>\n      <td>-</td>\n    </tr>\n    <tr>\n      <th>5</th>\n      <td>1982년</td>\n      <td>141128.0</td>\n      <td>6110.0</td>\n      <td>1849.0</td>\n      <td>755.0</td>\n      <td>8.0</td>\n      <td>4.0</td>\n      <td>301.0</td>\n      <td>42.0</td>\n      <td>-</td>\n      <td>-</td>\n    </tr>\n    <tr>\n      <th>6</th>\n      <td>1983년</td>\n      <td>170026.0</td>\n      <td>6834.0</td>\n      <td>1932.0</td>\n      <td>714.0</td>\n      <td>9.0</td>\n      <td>5.0</td>\n      <td>300.0</td>\n      <td>74.0</td>\n      <td>5.0</td>\n      <td>276.0</td>\n    </tr>\n    <tr>\n      <th>7</th>\n      <td>1984년</td>\n      <td>134335.0</td>\n      <td>7468.0</td>\n      <td>1816.0</td>\n      <td>755.0</td>\n      <td>13.0</td>\n      <td>9.0</td>\n      <td>486.0</td>\n      <td>143.0</td>\n      <td>1.0</td>\n      <td>5.0</td>\n    </tr>\n    <tr>\n      <th>8</th>\n      <td>1985년</td>\n      <td>146836.0</td>\n      <td>7522.0</td>\n      <td>1811.0</td>\n      <td>738.0</td>\n      <td>12.0</td>\n      <td>3.0</td>\n      <td>408.0</td>\n      <td>242.0</td>\n      <td>1.0</td>\n      <td>2.0</td>\n    </tr>\n    <tr>\n      <th>9</th>\n      <td>1986년</td>\n      <td>153777.0</td>\n      <td>7702.0</td>\n      <td>1845.0</td>\n      <td>689.0</td>\n      <td>17.0</td>\n      <td>12.0</td>\n      <td>429.0</td>\n      <td>175.0</td>\n      <td>1.0</td>\n      <td>3.0</td>\n    </tr>\n    <tr>\n      <th>10</th>\n      <td>1987년</td>\n      <td>175661.0</td>\n      <td>7206.0</td>\n      <td>1739.0</td>\n      <td>717.0</td>\n      <td>31.0</td>\n      <td>9.0</td>\n      <td>533.0</td>\n      <td>477.0</td>\n      <td>1.0</td>\n      <td>115.0</td>\n    </tr>\n    <tr>\n      <th>11</th>\n      <td>1988년</td>\n      <td>225062.0</td>\n      <td>11563.0</td>\n      <td>1847.0</td>\n      <td>697.0</td>\n      <td>62.0</td>\n      <td>15.0</td>\n      <td>438.0</td>\n      <td>309.0</td>\n      <td>2.0</td>\n      <td>3.0</td>\n    </tr>\n    <tr>\n      <th>12</th>\n      <td>1989년</td>\n      <td>255787.0</td>\n      <td>12603.0</td>\n      <td>1812.0</td>\n      <td>693.0</td>\n      <td>34.0</td>\n      <td>11.0</td>\n      <td>479.0</td>\n      <td>194.0</td>\n      <td>3.0</td>\n      <td>94.0</td>\n    </tr>\n    <tr>\n      <th>13</th>\n      <td>1990년</td>\n      <td>255303.0</td>\n      <td>12325.0</td>\n      <td>1707.0</td>\n      <td>606.0</td>\n      <td>33.0</td>\n      <td>15.0</td>\n      <td>515.0</td>\n      <td>154.0</td>\n      <td>1.0</td>\n      <td>2.0</td>\n    </tr>\n    <tr>\n      <th>14</th>\n      <td>1991년</td>\n      <td>265964.0</td>\n      <td>13429.0</td>\n      <td>1813.0</td>\n      <td>588.0</td>\n      <td>34.0</td>\n      <td>20.0</td>\n      <td>555.0</td>\n      <td>153.0</td>\n      <td>3.0</td>\n      <td>-</td>\n    </tr>\n    <tr>\n      <th>15</th>\n      <td>1992년</td>\n      <td>257194.0</td>\n      <td>11640.0</td>\n      <td>1694.0</td>\n      <td>522.0</td>\n      <td>29.0</td>\n      <td>17.0</td>\n      <td>476.0</td>\n      <td>195.0</td>\n      <td>3.0</td>\n      <td>1.0</td>\n    </tr>\n    <tr>\n      <th>16</th>\n      <td>1993년</td>\n      <td>260921.0</td>\n      <td>10402.0</td>\n      <td>1611.0</td>\n      <td>573.0</td>\n      <td>20.0</td>\n      <td>11.0</td>\n      <td>529.0</td>\n      <td>430.0</td>\n      <td>3.0</td>\n      <td>73.0</td>\n    </tr>\n    <tr>\n      <th>17</th>\n      <td>1994년</td>\n      <td>266107.0</td>\n      <td>10087.0</td>\n      <td>1541.0</td>\n      <td>478.0</td>\n      <td>18.0</td>\n      <td>12.0</td>\n      <td>699.0</td>\n      <td>209.0</td>\n      <td>2.0</td>\n      <td>-</td>\n    </tr>\n    <tr>\n      <th>18</th>\n      <td>1995년</td>\n      <td>248865.0</td>\n      <td>10323.0</td>\n      <td>1344.0</td>\n      <td>366.0</td>\n      <td>19.0</td>\n      <td>12.0</td>\n      <td>709.0</td>\n      <td>190.0</td>\n      <td>0.0</td>\n      <td>-</td>\n    </tr>\n    <tr>\n      <th>19</th>\n      <td>1996년</td>\n      <td>265052.0</td>\n      <td>12653.0</td>\n      <td>1051.0</td>\n      <td>352.0</td>\n      <td>29.0</td>\n      <td>18.0</td>\n      <td>661.0</td>\n      <td>147.0</td>\n      <td>2.0</td>\n      <td>1.0</td>\n    </tr>\n    <tr>\n      <th>20</th>\n      <td>1997년</td>\n      <td>246452.0</td>\n      <td>11603.0</td>\n      <td>937.0</td>\n      <td>337.0</td>\n      <td>27.0</td>\n      <td>18.0</td>\n      <td>840.0</td>\n      <td>227.0</td>\n      <td>4.0</td>\n      <td>232.0</td>\n    </tr>\n    <tr>\n      <th>21</th>\n      <td>1998년</td>\n      <td>239721.0</td>\n      <td>9057.0</td>\n      <td>956.0</td>\n      <td>349.0</td>\n      <td>48.0</td>\n      <td>24.0</td>\n      <td>772.0</td>\n      <td>143.0</td>\n      <td>5.0</td>\n      <td>0.0</td>\n    </tr>\n    <tr>\n      <th>22</th>\n      <td>1999년</td>\n      <td>275938.0</td>\n      <td>9353.0</td>\n      <td>761.0</td>\n      <td>314.0</td>\n      <td>54.0</td>\n      <td>35.0</td>\n      <td>849.0</td>\n      <td>164.0</td>\n      <td>3.0</td>\n      <td>12.0</td>\n    </tr>\n    <tr>\n      <th>23</th>\n      <td>2000년</td>\n      <td>290481.0</td>\n      <td>10236.0</td>\n      <td>640.0</td>\n      <td>252.0</td>\n      <td>48.0</td>\n      <td>28.0</td>\n      <td>634.0</td>\n      <td>149.0</td>\n      <td>3.0</td>\n      <td>0.0</td>\n    </tr>\n    <tr>\n      <th>24</th>\n      <td>2001년</td>\n      <td>260579.0</td>\n      <td>8097.0</td>\n      <td>571.0</td>\n      <td>245.0</td>\n      <td>60.0</td>\n      <td>40.0</td>\n      <td>610.0</td>\n      <td>174.0</td>\n      <td>5.0</td>\n      <td>9.0</td>\n    </tr>\n    <tr>\n      <th>25</th>\n      <td>2002년</td>\n      <td>231026.0</td>\n      <td>7222.0</td>\n      <td>599.0</td>\n      <td>265.0</td>\n      <td>56.0</td>\n      <td>36.0</td>\n      <td>557.0</td>\n      <td>185.0</td>\n      <td>4.0</td>\n      <td>2.0</td>\n    </tr>\n    <tr>\n      <th>26</th>\n      <td>2003년</td>\n      <td>240832.0</td>\n      <td>7212.0</td>\n      <td>743.0</td>\n      <td>503.0</td>\n      <td>103.0</td>\n      <td>256.0</td>\n      <td>531.0</td>\n      <td>119.0</td>\n      <td>5.0</td>\n      <td>2.0</td>\n    </tr>\n    <tr>\n      <th>27</th>\n      <td>2004년</td>\n      <td>220755.0</td>\n      <td>6563.0</td>\n      <td>596.0</td>\n      <td>243.0</td>\n      <td>88.0</td>\n      <td>51.0</td>\n      <td>804.0</td>\n      <td>205.0</td>\n      <td>3.0</td>\n      <td>2.0</td>\n    </tr>\n    <tr>\n      <th>28</th>\n      <td>2005년</td>\n      <td>214171.0</td>\n      <td>6376.0</td>\n      <td>386.0</td>\n      <td>201.0</td>\n      <td>92.0</td>\n      <td>55.0</td>\n      <td>658.0</td>\n      <td>186.0</td>\n      <td>5.0</td>\n      <td>2.0</td>\n    </tr>\n    <tr>\n      <th>29</th>\n      <td>2006년</td>\n      <td>213745.0</td>\n      <td>6327.0</td>\n      <td>329.0</td>\n      <td>171.0</td>\n      <td>79.0</td>\n      <td>44.0</td>\n      <td>657.0</td>\n      <td>134.0</td>\n      <td>5.0</td>\n      <td>-</td>\n    </tr>\n    <tr>\n      <th>30</th>\n      <td>2007년</td>\n      <td>211662.0</td>\n      <td>6166.0</td>\n      <td>429.0</td>\n      <td>192.0</td>\n      <td>83.0</td>\n      <td>59.0</td>\n      <td>566.0</td>\n      <td>136.0</td>\n      <td>2.0</td>\n      <td>-</td>\n    </tr>\n    <tr>\n      <th>31</th>\n      <td>2008년</td>\n      <td>215822.0</td>\n      <td>5870.0</td>\n      <td>408.0</td>\n      <td>159.0</td>\n      <td>63.0</td>\n      <td>39.0</td>\n      <td>948.0</td>\n      <td>116.0</td>\n      <td>4.0</td>\n      <td>2.0</td>\n    </tr>\n    <tr>\n      <th>32</th>\n      <td>2009년</td>\n      <td>231990.0</td>\n      <td>5838.0</td>\n      <td>382.0</td>\n      <td>161.0</td>\n      <td>60.0</td>\n      <td>34.0</td>\n      <td>1815.0</td>\n      <td>148.0</td>\n      <td>7.0</td>\n      <td>6.0</td>\n    </tr>\n    <tr>\n      <th>33</th>\n      <td>2010년</td>\n      <td>226878.0</td>\n      <td>5505.0</td>\n      <td>317.0</td>\n      <td>135.0</td>\n      <td>17.0</td>\n      <td>9.0</td>\n      <td>1627.0</td>\n      <td>170.0</td>\n      <td>5.0</td>\n      <td>1.0</td>\n    </tr>\n    <tr>\n      <th>34</th>\n      <td>2011년</td>\n      <td>221711.0</td>\n      <td>5229.0</td>\n      <td>277.0</td>\n      <td>124.0</td>\n      <td>-</td>\n      <td>-</td>\n      <td>1809.0</td>\n      <td>158.0</td>\n      <td>7.0</td>\n      <td>10.0</td>\n    </tr>\n    <tr>\n      <th>35</th>\n      <td>2012년</td>\n      <td>223656.0</td>\n      <td>5392.0</td>\n      <td>250.0</td>\n      <td>108.0</td>\n      <td>-</td>\n      <td>-</td>\n      <td>1573.0</td>\n      <td>122.0</td>\n      <td>5.0</td>\n      <td>1.0</td>\n    </tr>\n    <tr>\n      <th>36</th>\n      <td>2013년</td>\n      <td>215354.0</td>\n      <td>5092.0</td>\n      <td>232.0</td>\n      <td>96.0</td>\n      <td>-</td>\n      <td>-</td>\n      <td>1093.0</td>\n      <td>101.0</td>\n      <td>9.0</td>\n      <td>10.0</td>\n    </tr>\n    <tr>\n      <th>37</th>\n      <td>2014년</td>\n      <td>223552.0</td>\n      <td>4762.0</td>\n      <td>209.0</td>\n      <td>80.0</td>\n      <td>-</td>\n      <td>-</td>\n      <td>1330.0</td>\n      <td>467.0</td>\n      <td>3.0</td>\n      <td>5.0</td>\n    </tr>\n    <tr>\n      <th>38</th>\n      <td>2015년</td>\n      <td>232035.0</td>\n      <td>4621.0</td>\n      <td>138.0</td>\n      <td>76.0</td>\n      <td>-</td>\n      <td>-</td>\n      <td>2101.0</td>\n      <td>100.0</td>\n      <td>3.0</td>\n      <td>-</td>\n    </tr>\n    <tr>\n      <th>39</th>\n      <td>2016년</td>\n      <td>220917.0</td>\n      <td>4292.0</td>\n      <td>123.0</td>\n      <td>62.0</td>\n      <td>-</td>\n      <td>-</td>\n      <td>2307.0</td>\n      <td>118.0</td>\n      <td>8.0</td>\n      <td>9.0</td>\n    </tr>\n    <tr>\n      <th>40</th>\n      <td>2017년</td>\n      <td>216335.0</td>\n      <td>4185.0</td>\n      <td>105.0</td>\n      <td>51.0</td>\n      <td>-</td>\n      <td>-</td>\n      <td>2582.0</td>\n      <td>145.0</td>\n      <td>5.0</td>\n      <td>2.0</td>\n    </tr>\n    <tr>\n      <th>41</th>\n      <td>2018년</td>\n      <td>217148.0</td>\n      <td>3781.0</td>\n      <td>98.0</td>\n      <td>40.0</td>\n      <td>-</td>\n      <td>-</td>\n      <td>2671.0</td>\n      <td>102.0</td>\n      <td>4.0</td>\n      <td>1.0</td>\n    </tr>\n    <tr>\n      <th>42</th>\n      <td>2019년</td>\n      <td>229600.0</td>\n      <td>3349.0</td>\n      <td>72.0</td>\n      <td>29.0</td>\n      <td>-</td>\n      <td>-</td>\n      <td>2971.0</td>\n      <td>98.0</td>\n      <td>3.0</td>\n      <td>7.0</td>\n    </tr>\n    <tr>\n      <th>43</th>\n      <td>2020년</td>\n      <td>209654.0</td>\n      <td>3081.0</td>\n      <td>58.0</td>\n      <td>...</td>\n      <td>-</td>\n      <td>-</td>\n      <td>3156.0</td>\n      <td>126.0</td>\n      <td>5.0</td>\n      <td>3.0</td>\n    </tr>\n  </tbody>\n</table>\n</div>"
     },
     "execution_count": 129,
     "metadata": {},
     "output_type": "execute_result"
    }
   ],
   "source": [
    "df_kind"
   ],
   "metadata": {
    "collapsed": false,
    "pycharm": {
     "name": "#%%\n"
    }
   }
  },
  {
   "cell_type": "code",
   "execution_count": 133,
   "outputs": [],
   "source": [
    "df_kind = pd.read_csv('도로교통공단_사고유형별 교통사고 통계_20211231.csv', encoding='cp949')"
   ],
   "metadata": {
    "collapsed": false,
    "pycharm": {
     "name": "#%%\n"
    }
   }
  },
  {
   "cell_type": "code",
   "execution_count": 134,
   "outputs": [
    {
     "data": {
      "text/plain": "   사고유형대분류     사고유형중분류        사고유형   사고건수  사망자수   중상자수   경상자수  부상신고자수\n0     차대사람         횡단중         횡단중  12767   445   5999   6664     458\n1     차대사람       차도통행중       차도통행중   3628   146   1438   2007     183\n2     차대사람  길가장자리구역통행중  길가장자리구역통행중   1973    33    563   1330     121\n3     차대사람       보도통행중       보도통행중   2226    21    745   1455     131\n4     차대사람          기타          기타  14675   333   4887   9139    1062\n5      차대차        정면충돌        정면충돌   7892   205   3539   8837     588\n6      차대차        측면충돌        측면충돌  71687   404  17756  84667    5781\n7      차대차       후진중충돌       후진중충돌   3514     2    304   4172     162\n8      차대차          추돌          추돌  32717   379   7564  47111    2748\n9      차대차          기타          기타  44222   248   9990  49616    3839\n10    차량단독          전도          전도    956    82    384    403     209\n11    차량단독          전복          전복    165    36     87     81      27\n12    차량단독       공작물충돌       공작물충돌   2742   340   1256   1504     532\n13    차량단독   주/정차차량 충돌   주/정차차량 충돌     23     3      7      8       6\n14    차량단독        도로이탈     도로이탈 추락    385    73    199    179      44\n15    차량단독        도로이탈     도로이탈 기타    156    18     73     79      34\n16    차량단독          기타          기타   3401   148   1114   2030     495\n17   철길건널목       철길건널목       철길건널목      1     0      0      1       0",
      "text/html": "<div>\n<style scoped>\n    .dataframe tbody tr th:only-of-type {\n        vertical-align: middle;\n    }\n\n    .dataframe tbody tr th {\n        vertical-align: top;\n    }\n\n    .dataframe thead th {\n        text-align: right;\n    }\n</style>\n<table border=\"1\" class=\"dataframe\">\n  <thead>\n    <tr style=\"text-align: right;\">\n      <th></th>\n      <th>사고유형대분류</th>\n      <th>사고유형중분류</th>\n      <th>사고유형</th>\n      <th>사고건수</th>\n      <th>사망자수</th>\n      <th>중상자수</th>\n      <th>경상자수</th>\n      <th>부상신고자수</th>\n    </tr>\n  </thead>\n  <tbody>\n    <tr>\n      <th>0</th>\n      <td>차대사람</td>\n      <td>횡단중</td>\n      <td>횡단중</td>\n      <td>12767</td>\n      <td>445</td>\n      <td>5999</td>\n      <td>6664</td>\n      <td>458</td>\n    </tr>\n    <tr>\n      <th>1</th>\n      <td>차대사람</td>\n      <td>차도통행중</td>\n      <td>차도통행중</td>\n      <td>3628</td>\n      <td>146</td>\n      <td>1438</td>\n      <td>2007</td>\n      <td>183</td>\n    </tr>\n    <tr>\n      <th>2</th>\n      <td>차대사람</td>\n      <td>길가장자리구역통행중</td>\n      <td>길가장자리구역통행중</td>\n      <td>1973</td>\n      <td>33</td>\n      <td>563</td>\n      <td>1330</td>\n      <td>121</td>\n    </tr>\n    <tr>\n      <th>3</th>\n      <td>차대사람</td>\n      <td>보도통행중</td>\n      <td>보도통행중</td>\n      <td>2226</td>\n      <td>21</td>\n      <td>745</td>\n      <td>1455</td>\n      <td>131</td>\n    </tr>\n    <tr>\n      <th>4</th>\n      <td>차대사람</td>\n      <td>기타</td>\n      <td>기타</td>\n      <td>14675</td>\n      <td>333</td>\n      <td>4887</td>\n      <td>9139</td>\n      <td>1062</td>\n    </tr>\n    <tr>\n      <th>5</th>\n      <td>차대차</td>\n      <td>정면충돌</td>\n      <td>정면충돌</td>\n      <td>7892</td>\n      <td>205</td>\n      <td>3539</td>\n      <td>8837</td>\n      <td>588</td>\n    </tr>\n    <tr>\n      <th>6</th>\n      <td>차대차</td>\n      <td>측면충돌</td>\n      <td>측면충돌</td>\n      <td>71687</td>\n      <td>404</td>\n      <td>17756</td>\n      <td>84667</td>\n      <td>5781</td>\n    </tr>\n    <tr>\n      <th>7</th>\n      <td>차대차</td>\n      <td>후진중충돌</td>\n      <td>후진중충돌</td>\n      <td>3514</td>\n      <td>2</td>\n      <td>304</td>\n      <td>4172</td>\n      <td>162</td>\n    </tr>\n    <tr>\n      <th>8</th>\n      <td>차대차</td>\n      <td>추돌</td>\n      <td>추돌</td>\n      <td>32717</td>\n      <td>379</td>\n      <td>7564</td>\n      <td>47111</td>\n      <td>2748</td>\n    </tr>\n    <tr>\n      <th>9</th>\n      <td>차대차</td>\n      <td>기타</td>\n      <td>기타</td>\n      <td>44222</td>\n      <td>248</td>\n      <td>9990</td>\n      <td>49616</td>\n      <td>3839</td>\n    </tr>\n    <tr>\n      <th>10</th>\n      <td>차량단독</td>\n      <td>전도</td>\n      <td>전도</td>\n      <td>956</td>\n      <td>82</td>\n      <td>384</td>\n      <td>403</td>\n      <td>209</td>\n    </tr>\n    <tr>\n      <th>11</th>\n      <td>차량단독</td>\n      <td>전복</td>\n      <td>전복</td>\n      <td>165</td>\n      <td>36</td>\n      <td>87</td>\n      <td>81</td>\n      <td>27</td>\n    </tr>\n    <tr>\n      <th>12</th>\n      <td>차량단독</td>\n      <td>공작물충돌</td>\n      <td>공작물충돌</td>\n      <td>2742</td>\n      <td>340</td>\n      <td>1256</td>\n      <td>1504</td>\n      <td>532</td>\n    </tr>\n    <tr>\n      <th>13</th>\n      <td>차량단독</td>\n      <td>주/정차차량 충돌</td>\n      <td>주/정차차량 충돌</td>\n      <td>23</td>\n      <td>3</td>\n      <td>7</td>\n      <td>8</td>\n      <td>6</td>\n    </tr>\n    <tr>\n      <th>14</th>\n      <td>차량단독</td>\n      <td>도로이탈</td>\n      <td>도로이탈 추락</td>\n      <td>385</td>\n      <td>73</td>\n      <td>199</td>\n      <td>179</td>\n      <td>44</td>\n    </tr>\n    <tr>\n      <th>15</th>\n      <td>차량단독</td>\n      <td>도로이탈</td>\n      <td>도로이탈 기타</td>\n      <td>156</td>\n      <td>18</td>\n      <td>73</td>\n      <td>79</td>\n      <td>34</td>\n    </tr>\n    <tr>\n      <th>16</th>\n      <td>차량단독</td>\n      <td>기타</td>\n      <td>기타</td>\n      <td>3401</td>\n      <td>148</td>\n      <td>1114</td>\n      <td>2030</td>\n      <td>495</td>\n    </tr>\n    <tr>\n      <th>17</th>\n      <td>철길건널목</td>\n      <td>철길건널목</td>\n      <td>철길건널목</td>\n      <td>1</td>\n      <td>0</td>\n      <td>0</td>\n      <td>1</td>\n      <td>0</td>\n    </tr>\n  </tbody>\n</table>\n</div>"
     },
     "execution_count": 134,
     "metadata": {},
     "output_type": "execute_result"
    }
   ],
   "source": [
    "df_kind"
   ],
   "metadata": {
    "collapsed": false,
    "pycharm": {
     "name": "#%%\n"
    }
   }
  },
  {
   "cell_type": "markdown",
   "source": [
    "# 전체 사고데이터로 다시 특정하기"
   ],
   "metadata": {
    "collapsed": false,
    "pycharm": {
     "name": "#%% md\n"
    }
   }
  },
  {
   "cell_type": "code",
   "execution_count": 163,
   "outputs": [],
   "source": [
    "df001 = pd.read_excel('도로형태별_교통사고(2000년~2004년).xls', header=None)"
   ],
   "metadata": {
    "collapsed": false,
    "pycharm": {
     "name": "#%%\n"
    }
   }
  },
  {
   "cell_type": "code",
   "execution_count": 165,
   "outputs": [],
   "source": [
    "df001 = df001.loc[1:5, 2:].T"
   ],
   "metadata": {
    "collapsed": false,
    "pycharm": {
     "name": "#%%\n"
    }
   }
  },
  {
   "cell_type": "code",
   "execution_count": 168,
   "outputs": [],
   "source": [
    "df001.columns = df001.loc[2]"
   ],
   "metadata": {
    "collapsed": false,
    "pycharm": {
     "name": "#%%\n"
    }
   }
  },
  {
   "cell_type": "code",
   "execution_count": 174,
   "outputs": [],
   "source": [
    "df001.drop(np.nan, axis=1, inplace=True)\n",
    "df001.set_index('기준년도', inplace=True)"
   ],
   "metadata": {
    "collapsed": false,
    "pycharm": {
     "name": "#%%\n"
    }
   }
  },
  {
   "cell_type": "markdown",
   "source": [
    "- 안전장치,\n",
    "- 차종에 따른 변화"
   ],
   "metadata": {
    "collapsed": false,
    "pycharm": {
     "name": "#%% md\n"
    }
   }
  },
  {
   "cell_type": "code",
   "execution_count": 176,
   "outputs": [],
   "source": [
    "df001.drop('기준년도', axis=0, inplace=True)"
   ],
   "metadata": {
    "collapsed": false,
    "pycharm": {
     "name": "#%%\n"
    }
   }
  },
  {
   "cell_type": "code",
   "execution_count": 180,
   "outputs": [
    {
     "name": "stdout",
     "output_type": "stream",
     "text": [
      "2           사고건수     사망자수      부상자수\n",
      "기준년도                               \n",
      "2000.0  290481.0  10236.0  426984.0\n",
      "2001.0  260579.0   8097.0  386539.0\n",
      "2002.0  231026.0   7222.0  348149.0\n",
      "2003.0  240832.0   7212.0  376503.0\n",
      "2004.0  220755.0   6563.0  346987.0\n"
     ]
    }
   ],
   "source": [
    "print(df001)"
   ],
   "metadata": {
    "collapsed": false,
    "pycharm": {
     "name": "#%%\n"
    }
   }
  },
  {
   "cell_type": "code",
   "execution_count": 218,
   "outputs": [],
   "source": [
    "df002 = pd.read_excel('도로형태별_교통사고(2005년~2014년).xls', header=2)\n",
    "df002 = df002.loc[:2, '기준년도':]\n",
    "df002 = df002.transpose()\n",
    "df002.columns = df002.iloc[0]\n",
    "df002.drop('기준년도', axis=0, inplace=True)"
   ],
   "metadata": {
    "collapsed": false,
    "pycharm": {
     "name": "#%%\n"
    }
   }
  },
  {
   "cell_type": "code",
   "execution_count": 219,
   "outputs": [],
   "source": [
    "df003 = pd.read_excel('도로형태별_교통사고(2015년~2020년).xls', header=2)\n",
    "df003 = df003.loc[:2, '기준년도':]\n",
    "df003 = df003.transpose()\n",
    "df003.columns = df003.iloc[0]\n",
    "df003.drop('기준년도', axis=0, inplace=True)"
   ],
   "metadata": {
    "collapsed": false,
    "pycharm": {
     "name": "#%%\n"
    }
   }
  },
  {
   "cell_type": "code",
   "execution_count": 220,
   "outputs": [
    {
     "data": {
      "text/plain": "기준년도    사고건수  사망자수    부상자수\n2015  232035  4621  350400\n2016  220917  4292  331720\n2017  216335  4185  322829\n2018  217148  3781  323037\n2019  229600  3349  341712\n2020  209654  3081  306194",
      "text/html": "<div>\n<style scoped>\n    .dataframe tbody tr th:only-of-type {\n        vertical-align: middle;\n    }\n\n    .dataframe tbody tr th {\n        vertical-align: top;\n    }\n\n    .dataframe thead th {\n        text-align: right;\n    }\n</style>\n<table border=\"1\" class=\"dataframe\">\n  <thead>\n    <tr style=\"text-align: right;\">\n      <th>기준년도</th>\n      <th>사고건수</th>\n      <th>사망자수</th>\n      <th>부상자수</th>\n    </tr>\n  </thead>\n  <tbody>\n    <tr>\n      <th>2015</th>\n      <td>232035</td>\n      <td>4621</td>\n      <td>350400</td>\n    </tr>\n    <tr>\n      <th>2016</th>\n      <td>220917</td>\n      <td>4292</td>\n      <td>331720</td>\n    </tr>\n    <tr>\n      <th>2017</th>\n      <td>216335</td>\n      <td>4185</td>\n      <td>322829</td>\n    </tr>\n    <tr>\n      <th>2018</th>\n      <td>217148</td>\n      <td>3781</td>\n      <td>323037</td>\n    </tr>\n    <tr>\n      <th>2019</th>\n      <td>229600</td>\n      <td>3349</td>\n      <td>341712</td>\n    </tr>\n    <tr>\n      <th>2020</th>\n      <td>209654</td>\n      <td>3081</td>\n      <td>306194</td>\n    </tr>\n  </tbody>\n</table>\n</div>"
     },
     "execution_count": 220,
     "metadata": {},
     "output_type": "execute_result"
    }
   ],
   "source": [
    "df003"
   ],
   "metadata": {
    "collapsed": false,
    "pycharm": {
     "name": "#%%\n"
    }
   }
  },
  {
   "cell_type": "code",
   "execution_count": 221,
   "outputs": [
    {
     "data": {
      "text/plain": "기준년도      사고건수    사망자수      부상자수\n2005    214171    6376    342233\n2006    213745    6327    340229\n2007    211662    6166    335906\n2008    215822    5870    338962\n2009    231990    5838    361875\n2010    226878    5505    352458\n2011    221711    5229    341391\n2012  223656.0  5392.0  344565.0\n2013  215354.0  5092.0  328711.0\n2014  223552.0  4762.0  337497.0",
      "text/html": "<div>\n<style scoped>\n    .dataframe tbody tr th:only-of-type {\n        vertical-align: middle;\n    }\n\n    .dataframe tbody tr th {\n        vertical-align: top;\n    }\n\n    .dataframe thead th {\n        text-align: right;\n    }\n</style>\n<table border=\"1\" class=\"dataframe\">\n  <thead>\n    <tr style=\"text-align: right;\">\n      <th>기준년도</th>\n      <th>사고건수</th>\n      <th>사망자수</th>\n      <th>부상자수</th>\n    </tr>\n  </thead>\n  <tbody>\n    <tr>\n      <th>2005</th>\n      <td>214171</td>\n      <td>6376</td>\n      <td>342233</td>\n    </tr>\n    <tr>\n      <th>2006</th>\n      <td>213745</td>\n      <td>6327</td>\n      <td>340229</td>\n    </tr>\n    <tr>\n      <th>2007</th>\n      <td>211662</td>\n      <td>6166</td>\n      <td>335906</td>\n    </tr>\n    <tr>\n      <th>2008</th>\n      <td>215822</td>\n      <td>5870</td>\n      <td>338962</td>\n    </tr>\n    <tr>\n      <th>2009</th>\n      <td>231990</td>\n      <td>5838</td>\n      <td>361875</td>\n    </tr>\n    <tr>\n      <th>2010</th>\n      <td>226878</td>\n      <td>5505</td>\n      <td>352458</td>\n    </tr>\n    <tr>\n      <th>2011</th>\n      <td>221711</td>\n      <td>5229</td>\n      <td>341391</td>\n    </tr>\n    <tr>\n      <th>2012</th>\n      <td>223656.0</td>\n      <td>5392.0</td>\n      <td>344565.0</td>\n    </tr>\n    <tr>\n      <th>2013</th>\n      <td>215354.0</td>\n      <td>5092.0</td>\n      <td>328711.0</td>\n    </tr>\n    <tr>\n      <th>2014</th>\n      <td>223552.0</td>\n      <td>4762.0</td>\n      <td>337497.0</td>\n    </tr>\n  </tbody>\n</table>\n</div>"
     },
     "execution_count": 221,
     "metadata": {},
     "output_type": "execute_result"
    }
   ],
   "source": [
    "df002"
   ],
   "metadata": {
    "collapsed": false,
    "pycharm": {
     "name": "#%%\n"
    }
   }
  },
  {
   "cell_type": "code",
   "execution_count": 223,
   "outputs": [],
   "source": [
    "df_result = pd.concat([df001, df002, df003])"
   ],
   "metadata": {
    "collapsed": false,
    "pycharm": {
     "name": "#%%\n"
    }
   }
  },
  {
   "cell_type": "code",
   "execution_count": 224,
   "outputs": [
    {
     "data": {
      "text/plain": "            사고건수     사망자수      부상자수\n2000.0  290481.0  10236.0  426984.0\n2001.0  260579.0   8097.0  386539.0\n2002.0  231026.0   7222.0  348149.0\n2003.0  240832.0   7212.0  376503.0\n2004.0  220755.0   6563.0  346987.0\n2005      214171     6376    342233\n2006      213745     6327    340229\n2007      211662     6166    335906\n2008      215822     5870    338962\n2009      231990     5838    361875\n2010      226878     5505    352458\n2011      221711     5229    341391\n2012    223656.0   5392.0  344565.0\n2013    215354.0   5092.0  328711.0\n2014    223552.0   4762.0  337497.0\n2015      232035     4621    350400\n2016      220917     4292    331720\n2017      216335     4185    322829\n2018      217148     3781    323037\n2019      229600     3349    341712\n2020      209654     3081    306194",
      "text/html": "<div>\n<style scoped>\n    .dataframe tbody tr th:only-of-type {\n        vertical-align: middle;\n    }\n\n    .dataframe tbody tr th {\n        vertical-align: top;\n    }\n\n    .dataframe thead th {\n        text-align: right;\n    }\n</style>\n<table border=\"1\" class=\"dataframe\">\n  <thead>\n    <tr style=\"text-align: right;\">\n      <th></th>\n      <th>사고건수</th>\n      <th>사망자수</th>\n      <th>부상자수</th>\n    </tr>\n  </thead>\n  <tbody>\n    <tr>\n      <th>2000.0</th>\n      <td>290481.0</td>\n      <td>10236.0</td>\n      <td>426984.0</td>\n    </tr>\n    <tr>\n      <th>2001.0</th>\n      <td>260579.0</td>\n      <td>8097.0</td>\n      <td>386539.0</td>\n    </tr>\n    <tr>\n      <th>2002.0</th>\n      <td>231026.0</td>\n      <td>7222.0</td>\n      <td>348149.0</td>\n    </tr>\n    <tr>\n      <th>2003.0</th>\n      <td>240832.0</td>\n      <td>7212.0</td>\n      <td>376503.0</td>\n    </tr>\n    <tr>\n      <th>2004.0</th>\n      <td>220755.0</td>\n      <td>6563.0</td>\n      <td>346987.0</td>\n    </tr>\n    <tr>\n      <th>2005</th>\n      <td>214171</td>\n      <td>6376</td>\n      <td>342233</td>\n    </tr>\n    <tr>\n      <th>2006</th>\n      <td>213745</td>\n      <td>6327</td>\n      <td>340229</td>\n    </tr>\n    <tr>\n      <th>2007</th>\n      <td>211662</td>\n      <td>6166</td>\n      <td>335906</td>\n    </tr>\n    <tr>\n      <th>2008</th>\n      <td>215822</td>\n      <td>5870</td>\n      <td>338962</td>\n    </tr>\n    <tr>\n      <th>2009</th>\n      <td>231990</td>\n      <td>5838</td>\n      <td>361875</td>\n    </tr>\n    <tr>\n      <th>2010</th>\n      <td>226878</td>\n      <td>5505</td>\n      <td>352458</td>\n    </tr>\n    <tr>\n      <th>2011</th>\n      <td>221711</td>\n      <td>5229</td>\n      <td>341391</td>\n    </tr>\n    <tr>\n      <th>2012</th>\n      <td>223656.0</td>\n      <td>5392.0</td>\n      <td>344565.0</td>\n    </tr>\n    <tr>\n      <th>2013</th>\n      <td>215354.0</td>\n      <td>5092.0</td>\n      <td>328711.0</td>\n    </tr>\n    <tr>\n      <th>2014</th>\n      <td>223552.0</td>\n      <td>4762.0</td>\n      <td>337497.0</td>\n    </tr>\n    <tr>\n      <th>2015</th>\n      <td>232035</td>\n      <td>4621</td>\n      <td>350400</td>\n    </tr>\n    <tr>\n      <th>2016</th>\n      <td>220917</td>\n      <td>4292</td>\n      <td>331720</td>\n    </tr>\n    <tr>\n      <th>2017</th>\n      <td>216335</td>\n      <td>4185</td>\n      <td>322829</td>\n    </tr>\n    <tr>\n      <th>2018</th>\n      <td>217148</td>\n      <td>3781</td>\n      <td>323037</td>\n    </tr>\n    <tr>\n      <th>2019</th>\n      <td>229600</td>\n      <td>3349</td>\n      <td>341712</td>\n    </tr>\n    <tr>\n      <th>2020</th>\n      <td>209654</td>\n      <td>3081</td>\n      <td>306194</td>\n    </tr>\n  </tbody>\n</table>\n</div>"
     },
     "execution_count": 224,
     "metadata": {},
     "output_type": "execute_result"
    }
   ],
   "source": [
    "df_result"
   ],
   "metadata": {
    "collapsed": false,
    "pycharm": {
     "name": "#%%\n"
    }
   }
  },
  {
   "cell_type": "code",
   "execution_count": 225,
   "outputs": [],
   "source": [
    "for col_name in df_result.columns:\n",
    "    df_result[col_name] = df_result[col_name].astype('int')"
   ],
   "metadata": {
    "collapsed": false,
    "pycharm": {
     "name": "#%%\n"
    }
   }
  },
  {
   "cell_type": "code",
   "execution_count": 227,
   "outputs": [],
   "source": [
    "df_result.index = df_result.index.astype('int')"
   ],
   "metadata": {
    "collapsed": false,
    "pycharm": {
     "name": "#%%\n"
    }
   }
  },
  {
   "cell_type": "code",
   "execution_count": 229,
   "outputs": [],
   "source": [
    "df_result['사망율'] = df_result['사망자수'] / df_result['사고건수'] * 100"
   ],
   "metadata": {
    "collapsed": false,
    "pycharm": {
     "name": "#%%\n"
    }
   }
  },
  {
   "cell_type": "code",
   "execution_count": 230,
   "outputs": [
    {
     "data": {
      "text/plain": "        사고건수   사망자수    부상자수       사망율\n2000  290481  10236  426984  3.523811\n2001  260579   8097  386539  3.107311\n2002  231026   7222  348149  3.126055\n2003  240832   7212  376503  2.994619\n2004  220755   6563  346987  2.972979\n2005  214171   6376  342233  2.977060\n2006  213745   6327  340229  2.960069\n2007  211662   6166  335906  2.913135\n2008  215822   5870  338962  2.719834\n2009  231990   5838  361875  2.516488\n2010  226878   5505  352458  2.426414\n2011  221711   5229  341391  2.358476\n2012  223656   5392  344565  2.410845\n2013  215354   5092  328711  2.364479\n2014  223552   4762  337497  2.130153\n2015  232035   4621  350400  1.991510\n2016  220917   4292  331720  1.942811\n2017  216335   4185  322829  1.934500\n2018  217148   3781  323037  1.741209\n2019  229600   3349  341712  1.458624\n2020  209654   3081  306194  1.469564",
      "text/html": "<div>\n<style scoped>\n    .dataframe tbody tr th:only-of-type {\n        vertical-align: middle;\n    }\n\n    .dataframe tbody tr th {\n        vertical-align: top;\n    }\n\n    .dataframe thead th {\n        text-align: right;\n    }\n</style>\n<table border=\"1\" class=\"dataframe\">\n  <thead>\n    <tr style=\"text-align: right;\">\n      <th></th>\n      <th>사고건수</th>\n      <th>사망자수</th>\n      <th>부상자수</th>\n      <th>사망율</th>\n    </tr>\n  </thead>\n  <tbody>\n    <tr>\n      <th>2000</th>\n      <td>290481</td>\n      <td>10236</td>\n      <td>426984</td>\n      <td>3.523811</td>\n    </tr>\n    <tr>\n      <th>2001</th>\n      <td>260579</td>\n      <td>8097</td>\n      <td>386539</td>\n      <td>3.107311</td>\n    </tr>\n    <tr>\n      <th>2002</th>\n      <td>231026</td>\n      <td>7222</td>\n      <td>348149</td>\n      <td>3.126055</td>\n    </tr>\n    <tr>\n      <th>2003</th>\n      <td>240832</td>\n      <td>7212</td>\n      <td>376503</td>\n      <td>2.994619</td>\n    </tr>\n    <tr>\n      <th>2004</th>\n      <td>220755</td>\n      <td>6563</td>\n      <td>346987</td>\n      <td>2.972979</td>\n    </tr>\n    <tr>\n      <th>2005</th>\n      <td>214171</td>\n      <td>6376</td>\n      <td>342233</td>\n      <td>2.977060</td>\n    </tr>\n    <tr>\n      <th>2006</th>\n      <td>213745</td>\n      <td>6327</td>\n      <td>340229</td>\n      <td>2.960069</td>\n    </tr>\n    <tr>\n      <th>2007</th>\n      <td>211662</td>\n      <td>6166</td>\n      <td>335906</td>\n      <td>2.913135</td>\n    </tr>\n    <tr>\n      <th>2008</th>\n      <td>215822</td>\n      <td>5870</td>\n      <td>338962</td>\n      <td>2.719834</td>\n    </tr>\n    <tr>\n      <th>2009</th>\n      <td>231990</td>\n      <td>5838</td>\n      <td>361875</td>\n      <td>2.516488</td>\n    </tr>\n    <tr>\n      <th>2010</th>\n      <td>226878</td>\n      <td>5505</td>\n      <td>352458</td>\n      <td>2.426414</td>\n    </tr>\n    <tr>\n      <th>2011</th>\n      <td>221711</td>\n      <td>5229</td>\n      <td>341391</td>\n      <td>2.358476</td>\n    </tr>\n    <tr>\n      <th>2012</th>\n      <td>223656</td>\n      <td>5392</td>\n      <td>344565</td>\n      <td>2.410845</td>\n    </tr>\n    <tr>\n      <th>2013</th>\n      <td>215354</td>\n      <td>5092</td>\n      <td>328711</td>\n      <td>2.364479</td>\n    </tr>\n    <tr>\n      <th>2014</th>\n      <td>223552</td>\n      <td>4762</td>\n      <td>337497</td>\n      <td>2.130153</td>\n    </tr>\n    <tr>\n      <th>2015</th>\n      <td>232035</td>\n      <td>4621</td>\n      <td>350400</td>\n      <td>1.991510</td>\n    </tr>\n    <tr>\n      <th>2016</th>\n      <td>220917</td>\n      <td>4292</td>\n      <td>331720</td>\n      <td>1.942811</td>\n    </tr>\n    <tr>\n      <th>2017</th>\n      <td>216335</td>\n      <td>4185</td>\n      <td>322829</td>\n      <td>1.934500</td>\n    </tr>\n    <tr>\n      <th>2018</th>\n      <td>217148</td>\n      <td>3781</td>\n      <td>323037</td>\n      <td>1.741209</td>\n    </tr>\n    <tr>\n      <th>2019</th>\n      <td>229600</td>\n      <td>3349</td>\n      <td>341712</td>\n      <td>1.458624</td>\n    </tr>\n    <tr>\n      <th>2020</th>\n      <td>209654</td>\n      <td>3081</td>\n      <td>306194</td>\n      <td>1.469564</td>\n    </tr>\n  </tbody>\n</table>\n</div>"
     },
     "execution_count": 230,
     "metadata": {},
     "output_type": "execute_result"
    }
   ],
   "source": [
    "df_result"
   ],
   "metadata": {
    "collapsed": false,
    "pycharm": {
     "name": "#%%\n"
    }
   }
  },
  {
   "cell_type": "code",
   "execution_count": 256,
   "outputs": [
    {
     "data": {
      "text/plain": "<Figure size 864x576 with 0 Axes>"
     },
     "metadata": {},
     "output_type": "display_data"
    },
    {
     "data": {
      "text/plain": "<Figure size 432x288 with 1 Axes>",
      "image/png": "[encoded data removed]"
     },
     "metadata": {},
     "output_type": "display_data"
    }
   ],
   "source": [
    "plt.figure(figsize=(12, 8))\n",
    "df_result.plot(kind='bar', y='사고건수', stacked=True, )\n",
    "plt.show()"
   ],
   "metadata": {
    "collapsed": false,
    "pycharm": {
     "name": "#%%\n"
    }
   }
  },
  {
   "cell_type": "markdown",
   "source": [
    "- 다른 나라의 사망자수, 사고건수"
   ],
   "metadata": {
    "collapsed": false,
    "pycharm": {
     "name": "#%% md\n"
    }
   }
  },
  {
   "cell_type": "markdown",
   "source": [
    "* 고속국도\n",
    "\n",
    "일반적으로 고속도로라고 일컬어집니다. 자동차 교통망의 중추부분에 속하는 중요도시를 연결하는 자동차전용의 도로로서 대통령령으로 그 노선이 지정된 것을 말합니다.\n",
    "\n",
    "\n",
    "\n",
    "* 일반국도\n",
    "\n",
    "중요도시, 지정항만, 중요한 비행장 또는 관광지 등을 연결하며 고속국도와 함께 국가 기간도로망을 이루는 도로로서 대통령령으로써 그 노선이 지정된 것을 말합니다.\n",
    "\n",
    "\n",
    "\n",
    "* 특별시도/광역시도\n",
    "\n",
    "특별시, 광역시 구역 안의 도로로서 특별시장 또는 광역시장이 그 노선을 인정한 것을 말합니다.\n",
    "\n",
    "\n",
    "\n",
    "* 지방도\n",
    "\n",
    "지방의 간선도로망을 이루는 아래에 해당하는 도로로서 관할도지사가 그 노선을 인정하는 것을 말합니다.\n",
    "\n",
    "\n",
    "\n",
    "– 도청소재지로부터 시 또는 군청 소재지에 이르는 도로\n",
    "\n",
    "– 시 또는 군청 소재지 상호간을 연결하는 도로\n",
    "\n",
    "– 도내의 비행장, 항만, 역 또는 이와 밀접한 관계가 있는 지역을 상호연락하는 도로\n",
    "\n",
    "– 도내의 비행장, 항만, 역에서 이와 밀접한 관계가 있는 고속국도, 국도 또는 지방도를\n",
    "\n",
    "– 연결하는 도로\n",
    "\n",
    "– 전 각호 이외의 도로로서 지방의 개발을 위하여 특히 중요한 도로\n",
    "\n",
    "\n",
    "\n",
    "* 시 도 : 시내의 도로로서 관할시장이 그 노선을 인정한 도로를 말합니다.\n",
    "\n",
    "* 군 도 : 군내의 도로로서 관할군수가 그 노선을 인정한 도로를 말합니다.\n",
    "\n",
    "* 구 도 : 특별시 또는 광역시 구역 안의 도로 중 특별시도/광역시도를 제외한 구안의 동간을\n",
    "\n",
    "* —— 연결하는 도로로서 구청장이 그 노선을 인정한 것을 말합니다."
   ],
   "metadata": {
    "collapsed": false,
    "pycharm": {
     "name": "#%% md\n"
    }
   }
  },
  {
   "cell_type": "code",
   "execution_count": null,
   "outputs": [],
   "source": [],
   "metadata": {
    "collapsed": false,
    "pycharm": {
     "name": "#%%\n"
    }
   }
  }
 ],
 "metadata": {
  "kernelspec": {
   "display_name": "Python 3",
   "language": "python",
   "name": "python3"
  },
  "language_info": {
   "codemirror_mode": {
    "name": "ipython",
    "version": 2
   },
   "file_extension": ".py",
   "mimetype": "text/x-python",
   "name": "python",
   "nbconvert_exporter": "python",
   "pygments_lexer": "ipython2",
   "version": "2.7.6"
  }
 },
 "nbformat": 4,
 "nbformat_minor": 0
}