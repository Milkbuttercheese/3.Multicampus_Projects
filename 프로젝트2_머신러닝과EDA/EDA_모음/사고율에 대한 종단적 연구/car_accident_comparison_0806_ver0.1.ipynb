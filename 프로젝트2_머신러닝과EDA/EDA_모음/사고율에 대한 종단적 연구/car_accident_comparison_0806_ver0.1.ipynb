{
 "cells": [
  {
   "cell_type": "code",
   "execution_count": 2,
   "metadata": {
    "collapsed": true,
    "pycharm": {
     "name": "#%%\n"
    }
   },
   "outputs": [],
   "source": [
    "import pandas as pd\n",
    "import numpy as np\n",
    "import matplotlib.pyplot as plt\n",
    "import seaborn as sns"
   ]
  },
  {
   "cell_type": "code",
   "execution_count": 46,
   "outputs": [],
   "source": [
    "plt.rcParams['font.family'] = 'NanumGothic'"
   ],
   "metadata": {
    "collapsed": false,
    "pycharm": {
     "name": "#%%\n"
    }
   }
  },
  {
   "cell_type": "markdown",
   "source": [
    "# OECD 국가들의 사고율, 사망율 비교\n",
    "- 사고 건수 등 필요값에 결측치가 있는 국가들은 제거"
   ],
   "metadata": {
    "collapsed": false,
    "pycharm": {
     "name": "#%% md\n"
    }
   }
  },
  {
   "cell_type": "code",
   "execution_count": 3,
   "outputs": [],
   "source": [
    "df = pd.read_excel('./2018_해외국가사고율비교/OECD국가교통사고비교(2018년).xls', header=1)"
   ],
   "metadata": {
    "collapsed": false,
    "pycharm": {
     "name": "#%%\n"
    }
   }
  },
  {
   "cell_type": "code",
   "execution_count": 4,
   "outputs": [
    {
     "data": {
      "text/plain": "                                                   국가     인구수(천명) 자동차등록대수(천대)  \\\n0                                                  호주   24898.153   19173.279   \n1                                                  독일   83124.413       56459   \n2                                                 그리스   10522.244        9522   \n3                                                 헝가리    9707.502    4417.848   \n4                                               아이슬란드     336.712         337   \n5                                                아일랜드    4818.694    2717.722   \n6                                                이탈리아   60627.291    54256.37   \n7                                                  일본  127202.190   91468.471   \n8                                               룩셈부르크     604.244           -   \n9                                                 멕시코  126190.782           -   \n10                                               네덜란드   17059.560   11287.017   \n11                                              오스트리아    8891.383    6771.395   \n12                                               뉴질랜드    4743.131    3975.359   \n13                                               노르웨이    5337.960    3981.143   \n14                                                폴란드   37921.585       30801   \n15                                               포르투갈   10256.192           -   \n16                                              슬로베니아    2077.836    1476.488   \n17                                               대한민국   51606.633   26990.456   \n18                                                스페인   46692.863   35663.427   \n19                                                스웨덴    9971.630    6331.378   \n20                                                스위스    8525.614    6315.058   \n21                                                벨기에   11482.180    7533.172   \n22                                                 터키   82340.090           -   \n23                                                 영국   67141.678   39365.027   \n24                                                 미국  327096.263      297043   \n25                                              에스토니아    1322.913           -   \n26                                               이스라엘    8381.507    3465.412   \n27                                                캐나다   37074.558   25060.399   \n28                                                 칠레   18729.166    5382.604   \n29                                                 체코   10665.679        7386   \n30                                                덴마크    5752.131        3231   \n31                                                핀란드    5522.585        4766   \n32                                                프랑스   64990.512   43652.609   \n33  출처 : 1) IRTAD: International Road Traffic Acci...         NaN         NaN   \n\n      사고건수 사망자수(명) 인구10만명당사망자수 자동차1만대당사망자수 자동차1만대당사망자순위  \n0        -    1136         4.6         0.6           18  \n1   308721    3275         3.9         0.6           19  \n2    10743     700         6.7         0.7           13  \n3    16951     633         6.5         1.4            2  \n4      868      18         5.3         0.5           20  \n5        -     143           3         0.5           22  \n6   172344    3325         5.5         0.6           15  \n7   430601    4166         3.3         0.5           27  \n8        -      36           6           -            -  \n9        -       -           -           -            -  \n10       -     678           4         0.6           17  \n11   36846     409         4.6         0.6           16  \n12   11690     377         7.9         0.9            6  \n13       -     108           2         0.3           29  \n14   31674    2862         7.5         0.9            7  \n15       -     675         6.6           -            -  \n16       -      91         4.4         0.6           14  \n17  217148    3781         7.3         1.4            3  \n18  102299    1806         3.9         0.5           24  \n19   14233     324         3.2         0.5           23  \n20   18033     233         2.7         0.4           28  \n21   38455     604         5.3         0.8           10  \n22  186832    6675         8.1           -            -  \n23  128207    1837         2.7         0.5           26  \n24       -   36750        11.2         1.2            4  \n25    1469      67         5.1           -            -  \n26   12557     316         3.8         0.9            8  \n27       -    1922         5.2         0.8           11  \n28       -    1955        10.4         3.6            1  \n29   21889     656         6.2         0.9            9  \n30       -     171           3         0.5           21  \n31    4288     234         4.2         0.5           25  \n32   55766    3248           5         0.7           12  \n33     NaN     NaN         NaN         NaN          NaN  ",
      "text/html": "<div>\n<style scoped>\n    .dataframe tbody tr th:only-of-type {\n        vertical-align: middle;\n    }\n\n    .dataframe tbody tr th {\n        vertical-align: top;\n    }\n\n    .dataframe thead th {\n        text-align: right;\n    }\n</style>\n<table border=\"1\" class=\"dataframe\">\n  <thead>\n    <tr style=\"text-align: right;\">\n      <th></th>\n      <th>국가</th>\n      <th>인구수(천명)</th>\n      <th>자동차등록대수(천대)</th>\n      <th>사고건수</th>\n      <th>사망자수(명)</th>\n      <th>인구10만명당사망자수</th>\n      <th>자동차1만대당사망자수</th>\n      <th>자동차1만대당사망자순위</th>\n    </tr>\n  </thead>\n  <tbody>\n    <tr>\n      <th>0</th>\n      <td>호주</td>\n      <td>24898.153</td>\n      <td>19173.279</td>\n      <td>-</td>\n      <td>1136</td>\n      <td>4.6</td>\n      <td>0.6</td>\n      <td>18</td>\n    </tr>\n    <tr>\n      <th>1</th>\n      <td>독일</td>\n      <td>83124.413</td>\n      <td>56459</td>\n      <td>308721</td>\n      <td>3275</td>\n      <td>3.9</td>\n      <td>0.6</td>\n      <td>19</td>\n    </tr>\n    <tr>\n      <th>2</th>\n      <td>그리스</td>\n      <td>10522.244</td>\n      <td>9522</td>\n      <td>10743</td>\n      <td>700</td>\n      <td>6.7</td>\n      <td>0.7</td>\n      <td>13</td>\n    </tr>\n    <tr>\n      <th>3</th>\n      <td>헝가리</td>\n      <td>9707.502</td>\n      <td>4417.848</td>\n      <td>16951</td>\n      <td>633</td>\n      <td>6.5</td>\n      <td>1.4</td>\n      <td>2</td>\n    </tr>\n    <tr>\n      <th>4</th>\n      <td>아이슬란드</td>\n      <td>336.712</td>\n      <td>337</td>\n      <td>868</td>\n      <td>18</td>\n      <td>5.3</td>\n      <td>0.5</td>\n      <td>20</td>\n    </tr>\n    <tr>\n      <th>5</th>\n      <td>아일랜드</td>\n      <td>4818.694</td>\n      <td>2717.722</td>\n      <td>-</td>\n      <td>143</td>\n      <td>3</td>\n      <td>0.5</td>\n      <td>22</td>\n    </tr>\n    <tr>\n      <th>6</th>\n      <td>이탈리아</td>\n      <td>60627.291</td>\n      <td>54256.37</td>\n      <td>172344</td>\n      <td>3325</td>\n      <td>5.5</td>\n      <td>0.6</td>\n      <td>15</td>\n    </tr>\n    <tr>\n      <th>7</th>\n      <td>일본</td>\n      <td>127202.190</td>\n      <td>91468.471</td>\n      <td>430601</td>\n      <td>4166</td>\n      <td>3.3</td>\n      <td>0.5</td>\n      <td>27</td>\n    </tr>\n    <tr>\n      <th>8</th>\n      <td>룩셈부르크</td>\n      <td>604.244</td>\n      <td>-</td>\n      <td>-</td>\n      <td>36</td>\n      <td>6</td>\n      <td>-</td>\n      <td>-</td>\n    </tr>\n    <tr>\n      <th>9</th>\n      <td>멕시코</td>\n      <td>126190.782</td>\n      <td>-</td>\n      <td>-</td>\n      <td>-</td>\n      <td>-</td>\n      <td>-</td>\n      <td>-</td>\n    </tr>\n    <tr>\n      <th>10</th>\n      <td>네덜란드</td>\n      <td>17059.560</td>\n      <td>11287.017</td>\n      <td>-</td>\n      <td>678</td>\n      <td>4</td>\n      <td>0.6</td>\n      <td>17</td>\n    </tr>\n    <tr>\n      <th>11</th>\n      <td>오스트리아</td>\n      <td>8891.383</td>\n      <td>6771.395</td>\n      <td>36846</td>\n      <td>409</td>\n      <td>4.6</td>\n      <td>0.6</td>\n      <td>16</td>\n    </tr>\n    <tr>\n      <th>12</th>\n      <td>뉴질랜드</td>\n      <td>4743.131</td>\n      <td>3975.359</td>\n      <td>11690</td>\n      <td>377</td>\n      <td>7.9</td>\n      <td>0.9</td>\n      <td>6</td>\n    </tr>\n    <tr>\n      <th>13</th>\n      <td>노르웨이</td>\n      <td>5337.960</td>\n      <td>3981.143</td>\n      <td>-</td>\n      <td>108</td>\n      <td>2</td>\n      <td>0.3</td>\n      <td>29</td>\n    </tr>\n    <tr>\n      <th>14</th>\n      <td>폴란드</td>\n      <td>37921.585</td>\n      <td>30801</td>\n      <td>31674</td>\n      <td>2862</td>\n      <td>7.5</td>\n      <td>0.9</td>\n      <td>7</td>\n    </tr>\n    <tr>\n      <th>15</th>\n      <td>포르투갈</td>\n      <td>10256.192</td>\n      <td>-</td>\n      <td>-</td>\n      <td>675</td>\n      <td>6.6</td>\n      <td>-</td>\n      <td>-</td>\n    </tr>\n    <tr>\n      <th>16</th>\n      <td>슬로베니아</td>\n      <td>2077.836</td>\n      <td>1476.488</td>\n      <td>-</td>\n      <td>91</td>\n      <td>4.4</td>\n      <td>0.6</td>\n      <td>14</td>\n    </tr>\n    <tr>\n      <th>17</th>\n      <td>대한민국</td>\n      <td>51606.633</td>\n      <td>26990.456</td>\n      <td>217148</td>\n      <td>3781</td>\n      <td>7.3</td>\n      <td>1.4</td>\n      <td>3</td>\n    </tr>\n    <tr>\n      <th>18</th>\n      <td>스페인</td>\n      <td>46692.863</td>\n      <td>35663.427</td>\n      <td>102299</td>\n      <td>1806</td>\n      <td>3.9</td>\n      <td>0.5</td>\n      <td>24</td>\n    </tr>\n    <tr>\n      <th>19</th>\n      <td>스웨덴</td>\n      <td>9971.630</td>\n      <td>6331.378</td>\n      <td>14233</td>\n      <td>324</td>\n      <td>3.2</td>\n      <td>0.5</td>\n      <td>23</td>\n    </tr>\n    <tr>\n      <th>20</th>\n      <td>스위스</td>\n      <td>8525.614</td>\n      <td>6315.058</td>\n      <td>18033</td>\n      <td>233</td>\n      <td>2.7</td>\n      <td>0.4</td>\n      <td>28</td>\n    </tr>\n    <tr>\n      <th>21</th>\n      <td>벨기에</td>\n      <td>11482.180</td>\n      <td>7533.172</td>\n      <td>38455</td>\n      <td>604</td>\n      <td>5.3</td>\n      <td>0.8</td>\n      <td>10</td>\n    </tr>\n    <tr>\n      <th>22</th>\n      <td>터키</td>\n      <td>82340.090</td>\n      <td>-</td>\n      <td>186832</td>\n      <td>6675</td>\n      <td>8.1</td>\n      <td>-</td>\n      <td>-</td>\n    </tr>\n    <tr>\n      <th>23</th>\n      <td>영국</td>\n      <td>67141.678</td>\n      <td>39365.027</td>\n      <td>128207</td>\n      <td>1837</td>\n      <td>2.7</td>\n      <td>0.5</td>\n      <td>26</td>\n    </tr>\n    <tr>\n      <th>24</th>\n      <td>미국</td>\n      <td>327096.263</td>\n      <td>297043</td>\n      <td>-</td>\n      <td>36750</td>\n      <td>11.2</td>\n      <td>1.2</td>\n      <td>4</td>\n    </tr>\n    <tr>\n      <th>25</th>\n      <td>에스토니아</td>\n      <td>1322.913</td>\n      <td>-</td>\n      <td>1469</td>\n      <td>67</td>\n      <td>5.1</td>\n      <td>-</td>\n      <td>-</td>\n    </tr>\n    <tr>\n      <th>26</th>\n      <td>이스라엘</td>\n      <td>8381.507</td>\n      <td>3465.412</td>\n      <td>12557</td>\n      <td>316</td>\n      <td>3.8</td>\n      <td>0.9</td>\n      <td>8</td>\n    </tr>\n    <tr>\n      <th>27</th>\n      <td>캐나다</td>\n      <td>37074.558</td>\n      <td>25060.399</td>\n      <td>-</td>\n      <td>1922</td>\n      <td>5.2</td>\n      <td>0.8</td>\n      <td>11</td>\n    </tr>\n    <tr>\n      <th>28</th>\n      <td>칠레</td>\n      <td>18729.166</td>\n      <td>5382.604</td>\n      <td>-</td>\n      <td>1955</td>\n      <td>10.4</td>\n      <td>3.6</td>\n      <td>1</td>\n    </tr>\n    <tr>\n      <th>29</th>\n      <td>체코</td>\n      <td>10665.679</td>\n      <td>7386</td>\n      <td>21889</td>\n      <td>656</td>\n      <td>6.2</td>\n      <td>0.9</td>\n      <td>9</td>\n    </tr>\n    <tr>\n      <th>30</th>\n      <td>덴마크</td>\n      <td>5752.131</td>\n      <td>3231</td>\n      <td>-</td>\n      <td>171</td>\n      <td>3</td>\n      <td>0.5</td>\n      <td>21</td>\n    </tr>\n    <tr>\n      <th>31</th>\n      <td>핀란드</td>\n      <td>5522.585</td>\n      <td>4766</td>\n      <td>4288</td>\n      <td>234</td>\n      <td>4.2</td>\n      <td>0.5</td>\n      <td>25</td>\n    </tr>\n    <tr>\n      <th>32</th>\n      <td>프랑스</td>\n      <td>64990.512</td>\n      <td>43652.609</td>\n      <td>55766</td>\n      <td>3248</td>\n      <td>5</td>\n      <td>0.7</td>\n      <td>12</td>\n    </tr>\n    <tr>\n      <th>33</th>\n      <td>출처 : 1) IRTAD: International Road Traffic Acci...</td>\n      <td>NaN</td>\n      <td>NaN</td>\n      <td>NaN</td>\n      <td>NaN</td>\n      <td>NaN</td>\n      <td>NaN</td>\n      <td>NaN</td>\n    </tr>\n  </tbody>\n</table>\n</div>"
     },
     "execution_count": 4,
     "metadata": {},
     "output_type": "execute_result"
    }
   ],
   "source": [
    "df"
   ],
   "metadata": {
    "collapsed": false,
    "pycharm": {
     "name": "#%%\n"
    }
   }
  },
  {
   "cell_type": "markdown",
   "source": [
    "## 데이터 전처리"
   ],
   "metadata": {
    "collapsed": false,
    "pycharm": {
     "name": "#%% md\n"
    }
   }
  },
  {
   "cell_type": "code",
   "execution_count": 5,
   "outputs": [
    {
     "name": "stdout",
     "output_type": "stream",
     "text": [
      "<class 'pandas.core.frame.DataFrame'>\n",
      "RangeIndex: 34 entries, 0 to 33\n",
      "Data columns (total 8 columns):\n",
      " #   Column        Non-Null Count  Dtype  \n",
      "---  ------        --------------  -----  \n",
      " 0   국가            34 non-null     object \n",
      " 1   인구수(천명)       33 non-null     float64\n",
      " 2   자동차등록대수(천대)   33 non-null     object \n",
      " 3   사고건수          33 non-null     object \n",
      " 4   사망자수(명)       33 non-null     object \n",
      " 5   인구10만명당사망자수   33 non-null     object \n",
      " 6   자동차1만대당사망자수   33 non-null     object \n",
      " 7   자동차1만대당사망자순위  33 non-null     object \n",
      "dtypes: float64(1), object(7)\n",
      "memory usage: 2.2+ KB\n"
     ]
    }
   ],
   "source": [
    "df.info()"
   ],
   "metadata": {
    "collapsed": false,
    "pycharm": {
     "name": "#%%\n"
    }
   }
  },
  {
   "cell_type": "code",
   "execution_count": 6,
   "outputs": [],
   "source": [
    "df['인구수'] = df['인구수(천명)'] * 1000\n",
    "df['자동차등록대수'] = df['자동차등록대수(천대)'] * 1000"
   ],
   "metadata": {
    "collapsed": false,
    "pycharm": {
     "name": "#%%\n"
    }
   }
  },
  {
   "cell_type": "code",
   "execution_count": 6,
   "outputs": [],
   "source": [],
   "metadata": {
    "collapsed": false,
    "pycharm": {
     "name": "#%%\n"
    }
   }
  },
  {
   "cell_type": "code",
   "execution_count": 7,
   "outputs": [
    {
     "name": "stdout",
     "output_type": "stream",
     "text": [
      "<class 'pandas.core.frame.DataFrame'>\n",
      "RangeIndex: 34 entries, 0 to 33\n",
      "Data columns (total 10 columns):\n",
      " #   Column        Non-Null Count  Dtype  \n",
      "---  ------        --------------  -----  \n",
      " 0   국가            34 non-null     object \n",
      " 1   인구수(천명)       33 non-null     float64\n",
      " 2   자동차등록대수(천대)   33 non-null     object \n",
      " 3   사고건수          33 non-null     object \n",
      " 4   사망자수(명)       33 non-null     object \n",
      " 5   인구10만명당사망자수   33 non-null     object \n",
      " 6   자동차1만대당사망자수   33 non-null     object \n",
      " 7   자동차1만대당사망자순위  33 non-null     object \n",
      " 8   인구수           33 non-null     float64\n",
      " 9   자동차등록대수       33 non-null     object \n",
      "dtypes: float64(2), object(8)\n",
      "memory usage: 2.8+ KB\n"
     ]
    }
   ],
   "source": [
    "df.info()"
   ],
   "metadata": {
    "collapsed": false,
    "pycharm": {
     "name": "#%%\n"
    }
   }
  },
  {
   "cell_type": "markdown",
   "source": [
    "### G20 국가만 걸러내기"
   ],
   "metadata": {
    "collapsed": false,
    "pycharm": {
     "name": "#%% md\n"
    }
   }
  },
  {
   "cell_type": "code",
   "execution_count": 8,
   "outputs": [
    {
     "name": "stdout",
     "output_type": "stream",
     "text": [
      "['캐나다', '이탈리아', '영국', '호주', '프랑스', '대한민국', '독일', '미국', '터키', '멕시코', '일본']\n"
     ]
    }
   ],
   "source": [
    "G20_list = ['미국', '캐나다', '사우디아라비아', '호주', '러시아', '인도', '터키', '남아프리카공화국', '브라질', '아르헨티나', '멕시코', '영국', '프랑스', '독일', '이탈리아', '대한민국', '일본', '중국', '인도네시아']\n",
    "OECD_list = list(df['국가'].values)\n",
    "\n",
    "# 비교국가 리스트(G20_list와 OECD_list의 교집합)\n",
    "com_nation_list = list(set(G20_list)&set(OECD_list))\n",
    "print(com_nation_list)"
   ],
   "metadata": {
    "collapsed": false,
    "pycharm": {
     "name": "#%%\n"
    }
   }
  },
  {
   "cell_type": "code",
   "execution_count": 9,
   "outputs": [],
   "source": [
    "mask = []\n",
    "for i in df['국가']:\n",
    "    mask.append(i in com_nation_list)"
   ],
   "metadata": {
    "collapsed": false,
    "pycharm": {
     "name": "#%%\n"
    }
   }
  },
  {
   "cell_type": "code",
   "execution_count": 10,
   "outputs": [
    {
     "data": {
      "text/plain": "[True,\n True,\n False,\n False,\n False,\n False,\n True,\n True,\n False,\n True,\n False,\n False,\n False,\n False,\n False,\n False,\n False,\n True,\n False,\n False,\n False,\n False,\n True,\n True,\n True,\n False,\n False,\n True,\n False,\n False,\n False,\n False,\n True,\n False]"
     },
     "execution_count": 10,
     "metadata": {},
     "output_type": "execute_result"
    }
   ],
   "source": [
    "mask"
   ],
   "metadata": {
    "collapsed": false,
    "pycharm": {
     "name": "#%%\n"
    }
   }
  },
  {
   "cell_type": "code",
   "execution_count": 11,
   "outputs": [],
   "source": [
    "df_com = df[mask]"
   ],
   "metadata": {
    "collapsed": false,
    "pycharm": {
     "name": "#%%\n"
    }
   }
  },
  {
   "cell_type": "code",
   "execution_count": 12,
   "outputs": [
    {
     "data": {
      "text/plain": "      국가     인구수(천명) 자동차등록대수(천대)    사고건수 사망자수(명) 인구10만명당사망자수 자동차1만대당사망자수  \\\n0     호주   24898.153   19173.279       -    1136         4.6         0.6   \n1     독일   83124.413       56459  308721    3275         3.9         0.6   \n6   이탈리아   60627.291    54256.37  172344    3325         5.5         0.6   \n7     일본  127202.190   91468.471  430601    4166         3.3         0.5   \n9    멕시코  126190.782           -       -       -           -           -   \n17  대한민국   51606.633   26990.456  217148    3781         7.3         1.4   \n22    터키   82340.090           -  186832    6675         8.1           -   \n23    영국   67141.678   39365.027  128207    1837         2.7         0.5   \n24    미국  327096.263      297043       -   36750        11.2         1.2   \n27   캐나다   37074.558   25060.399       -    1922         5.2         0.8   \n32   프랑스   64990.512   43652.609   55766    3248           5         0.7   \n\n   자동차1만대당사망자순위          인구수  \\\n0            18   24898153.0   \n1            19   83124413.0   \n6            15   60627291.0   \n7            27  127202190.0   \n9             -  126190782.0   \n17            3   51606633.0   \n22            -   82340090.0   \n23           26   67141678.0   \n24            4  327096263.0   \n27           11   37074558.0   \n32           12   64990512.0   \n\n                                              자동차등록대수  \n0                                          19173279.0  \n1                                            56459000  \n6                                          54256370.0  \n7                                          91468471.0  \n9   ----------------------------------------------...  \n17                                         26990456.0  \n22  ----------------------------------------------...  \n23                                         39365027.0  \n24                                          297043000  \n27                                         25060399.0  \n32                                         43652609.0  ",
      "text/html": "<div>\n<style scoped>\n    .dataframe tbody tr th:only-of-type {\n        vertical-align: middle;\n    }\n\n    .dataframe tbody tr th {\n        vertical-align: top;\n    }\n\n    .dataframe thead th {\n        text-align: right;\n    }\n</style>\n<table border=\"1\" class=\"dataframe\">\n  <thead>\n    <tr style=\"text-align: right;\">\n      <th></th>\n      <th>국가</th>\n      <th>인구수(천명)</th>\n      <th>자동차등록대수(천대)</th>\n      <th>사고건수</th>\n      <th>사망자수(명)</th>\n      <th>인구10만명당사망자수</th>\n      <th>자동차1만대당사망자수</th>\n      <th>자동차1만대당사망자순위</th>\n      <th>인구수</th>\n      <th>자동차등록대수</th>\n    </tr>\n  </thead>\n  <tbody>\n    <tr>\n      <th>0</th>\n      <td>호주</td>\n      <td>24898.153</td>\n      <td>19173.279</td>\n      <td>-</td>\n      <td>1136</td>\n      <td>4.6</td>\n      <td>0.6</td>\n      <td>18</td>\n      <td>24898153.0</td>\n      <td>19173279.0</td>\n    </tr>\n    <tr>\n      <th>1</th>\n      <td>독일</td>\n      <td>83124.413</td>\n      <td>56459</td>\n      <td>308721</td>\n      <td>3275</td>\n      <td>3.9</td>\n      <td>0.6</td>\n      <td>19</td>\n      <td>83124413.0</td>\n      <td>56459000</td>\n    </tr>\n    <tr>\n      <th>6</th>\n      <td>이탈리아</td>\n      <td>60627.291</td>\n      <td>54256.37</td>\n      <td>172344</td>\n      <td>3325</td>\n      <td>5.5</td>\n      <td>0.6</td>\n      <td>15</td>\n      <td>60627291.0</td>\n      <td>54256370.0</td>\n    </tr>\n    <tr>\n      <th>7</th>\n      <td>일본</td>\n      <td>127202.190</td>\n      <td>91468.471</td>\n      <td>430601</td>\n      <td>4166</td>\n      <td>3.3</td>\n      <td>0.5</td>\n      <td>27</td>\n      <td>127202190.0</td>\n      <td>91468471.0</td>\n    </tr>\n    <tr>\n      <th>9</th>\n      <td>멕시코</td>\n      <td>126190.782</td>\n      <td>-</td>\n      <td>-</td>\n      <td>-</td>\n      <td>-</td>\n      <td>-</td>\n      <td>-</td>\n      <td>126190782.0</td>\n      <td>----------------------------------------------...</td>\n    </tr>\n    <tr>\n      <th>17</th>\n      <td>대한민국</td>\n      <td>51606.633</td>\n      <td>26990.456</td>\n      <td>217148</td>\n      <td>3781</td>\n      <td>7.3</td>\n      <td>1.4</td>\n      <td>3</td>\n      <td>51606633.0</td>\n      <td>26990456.0</td>\n    </tr>\n    <tr>\n      <th>22</th>\n      <td>터키</td>\n      <td>82340.090</td>\n      <td>-</td>\n      <td>186832</td>\n      <td>6675</td>\n      <td>8.1</td>\n      <td>-</td>\n      <td>-</td>\n      <td>82340090.0</td>\n      <td>----------------------------------------------...</td>\n    </tr>\n    <tr>\n      <th>23</th>\n      <td>영국</td>\n      <td>67141.678</td>\n      <td>39365.027</td>\n      <td>128207</td>\n      <td>1837</td>\n      <td>2.7</td>\n      <td>0.5</td>\n      <td>26</td>\n      <td>67141678.0</td>\n      <td>39365027.0</td>\n    </tr>\n    <tr>\n      <th>24</th>\n      <td>미국</td>\n      <td>327096.263</td>\n      <td>297043</td>\n      <td>-</td>\n      <td>36750</td>\n      <td>11.2</td>\n      <td>1.2</td>\n      <td>4</td>\n      <td>327096263.0</td>\n      <td>297043000</td>\n    </tr>\n    <tr>\n      <th>27</th>\n      <td>캐나다</td>\n      <td>37074.558</td>\n      <td>25060.399</td>\n      <td>-</td>\n      <td>1922</td>\n      <td>5.2</td>\n      <td>0.8</td>\n      <td>11</td>\n      <td>37074558.0</td>\n      <td>25060399.0</td>\n    </tr>\n    <tr>\n      <th>32</th>\n      <td>프랑스</td>\n      <td>64990.512</td>\n      <td>43652.609</td>\n      <td>55766</td>\n      <td>3248</td>\n      <td>5</td>\n      <td>0.7</td>\n      <td>12</td>\n      <td>64990512.0</td>\n      <td>43652609.0</td>\n    </tr>\n  </tbody>\n</table>\n</div>"
     },
     "execution_count": 12,
     "metadata": {},
     "output_type": "execute_result"
    }
   ],
   "source": [
    "df_com"
   ],
   "metadata": {
    "collapsed": false,
    "pycharm": {
     "name": "#%%\n"
    }
   }
  },
  {
   "cell_type": "code",
   "execution_count": 13,
   "outputs": [],
   "source": [
    "# 엑셀 파일로 만들어서 유경님 드리기\n",
    "df_sample = df[df['국가']=='스웨덴']"
   ],
   "metadata": {
    "collapsed": false,
    "pycharm": {
     "name": "#%%\n"
    }
   }
  },
  {
   "cell_type": "code",
   "execution_count": 14,
   "outputs": [],
   "source": [
    "df = df.replace('-', np.nan)"
   ],
   "metadata": {
    "collapsed": false,
    "pycharm": {
     "name": "#%%\n"
    }
   }
  },
  {
   "cell_type": "code",
   "execution_count": 15,
   "outputs": [
    {
     "data": {
      "text/plain": "국가               0\n인구수(천명)          1\n자동차등록대수(천대)      6\n사고건수            13\n사망자수(명)          2\n인구10만명당사망자수      2\n자동차1만대당사망자수      6\n자동차1만대당사망자순위     6\n인구수              1\n자동차등록대수          1\ndtype: int64"
     },
     "execution_count": 15,
     "metadata": {},
     "output_type": "execute_result"
    }
   ],
   "source": [
    "df.isnull().sum()"
   ],
   "metadata": {
    "collapsed": false,
    "pycharm": {
     "name": "#%%\n"
    }
   }
  },
  {
   "cell_type": "code",
   "execution_count": 16,
   "outputs": [
    {
     "data": {
      "text/plain": "1     308721.0\n2      10743.0\n3      16951.0\n4        868.0\n6     172344.0\n7     430601.0\n11     36846.0\n12     11690.0\n14     31674.0\n17    217148.0\n18    102299.0\n19     14233.0\n20     18033.0\n21     38455.0\n22    186832.0\n23    128207.0\n25      1469.0\n26     12557.0\n29     21889.0\n31      4288.0\n32     55766.0\nName: 사고건수, dtype: float64"
     },
     "execution_count": 16,
     "metadata": {},
     "output_type": "execute_result"
    }
   ],
   "source": [
    "df['사고건수'].dropna()"
   ],
   "metadata": {
    "collapsed": false,
    "pycharm": {
     "name": "#%%\n"
    }
   }
  },
  {
   "cell_type": "code",
   "execution_count": 18,
   "outputs": [],
   "source": [
    "df = df.dropna(subset=['사고건수'])"
   ],
   "metadata": {
    "collapsed": false,
    "pycharm": {
     "name": "#%%\n"
    }
   }
  },
  {
   "cell_type": "code",
   "execution_count": 19,
   "outputs": [
    {
     "name": "stderr",
     "output_type": "stream",
     "text": [
      "C:\\Users\\82103\\AppData\\Local\\Temp\\ipykernel_8676\\3817755796.py:1: SettingWithCopyWarning: \n",
      "A value is trying to be set on a copy of a slice from a DataFrame.\n",
      "Try using .loc[row_indexer,col_indexer] = value instead\n",
      "\n",
      "See the caveats in the documentation: https://pandas.pydata.org/pandas-docs/stable/user_guide/indexing.html#returning-a-view-versus-a-copy\n",
      "  df['자동차등록대수'] = df['자동차등록대수(천대)'] * 1000\n"
     ]
    }
   ],
   "source": [
    "df['자동차등록대수'] = df['자동차등록대수(천대)'] * 1000"
   ],
   "metadata": {
    "collapsed": false,
    "pycharm": {
     "name": "#%%\n"
    }
   }
  },
  {
   "cell_type": "code",
   "execution_count": 20,
   "outputs": [],
   "source": [
    "df.reset_index(inplace = True, drop=True)"
   ],
   "metadata": {
    "collapsed": false,
    "pycharm": {
     "name": "#%%\n"
    }
   }
  },
  {
   "cell_type": "code",
   "execution_count": 22,
   "outputs": [],
   "source": [
    "df_result = df[['국가', '인구수', '자동차등록대수', '사고건수', '사망자수(명)', '인구10만명당사망자수', '자동차1만대당사망자수']]"
   ],
   "metadata": {
    "collapsed": false,
    "pycharm": {
     "name": "#%%\n"
    }
   }
  },
  {
   "cell_type": "code",
   "execution_count": 23,
   "outputs": [
    {
     "data": {
      "text/plain": "       국가          인구수     자동차등록대수      사고건수  사망자수(명)  인구10만명당사망자수  \\\n0      독일   83124413.0  56459000.0  308721.0   3275.0          3.9   \n1     그리스   10522244.0   9522000.0   10743.0    700.0          6.7   \n2     헝가리    9707502.0   4417848.0   16951.0    633.0          6.5   \n3   아이슬란드     336712.0    337000.0     868.0     18.0          5.3   \n4    이탈리아   60627291.0  54256370.0  172344.0   3325.0          5.5   \n5      일본  127202190.0  91468471.0  430601.0   4166.0          3.3   \n6   오스트리아    8891383.0   6771395.0   36846.0    409.0          4.6   \n7    뉴질랜드    4743131.0   3975359.0   11690.0    377.0          7.9   \n8     폴란드   37921585.0  30801000.0   31674.0   2862.0          7.5   \n9    대한민국   51606633.0  26990456.0  217148.0   3781.0          7.3   \n10    스페인   46692863.0  35663427.0  102299.0   1806.0          3.9   \n11    스웨덴    9971630.0   6331378.0   14233.0    324.0          3.2   \n12    스위스    8525614.0   6315058.0   18033.0    233.0          2.7   \n13    벨기에   11482180.0   7533172.0   38455.0    604.0          5.3   \n14     터키   82340090.0         NaN  186832.0   6675.0          8.1   \n15     영국   67141678.0  39365027.0  128207.0   1837.0          2.7   \n16  에스토니아    1322913.0         NaN    1469.0     67.0          5.1   \n17   이스라엘    8381507.0   3465412.0   12557.0    316.0          3.8   \n18     체코   10665679.0   7386000.0   21889.0    656.0          6.2   \n19    핀란드    5522585.0   4766000.0    4288.0    234.0          4.2   \n20    프랑스   64990512.0  43652609.0   55766.0   3248.0          5.0   \n\n    자동차1만대당사망자수  \n0           0.6  \n1           0.7  \n2           1.4  \n3           0.5  \n4           0.6  \n5           0.5  \n6           0.6  \n7           0.9  \n8           0.9  \n9           1.4  \n10          0.5  \n11          0.5  \n12          0.4  \n13          0.8  \n14          NaN  \n15          0.5  \n16          NaN  \n17          0.9  \n18          0.9  \n19          0.5  \n20          0.7  ",
      "text/html": "<div>\n<style scoped>\n    .dataframe tbody tr th:only-of-type {\n        vertical-align: middle;\n    }\n\n    .dataframe tbody tr th {\n        vertical-align: top;\n    }\n\n    .dataframe thead th {\n        text-align: right;\n    }\n</style>\n<table border=\"1\" class=\"dataframe\">\n  <thead>\n    <tr style=\"text-align: right;\">\n      <th></th>\n      <th>국가</th>\n      <th>인구수</th>\n      <th>자동차등록대수</th>\n      <th>사고건수</th>\n      <th>사망자수(명)</th>\n      <th>인구10만명당사망자수</th>\n      <th>자동차1만대당사망자수</th>\n    </tr>\n  </thead>\n  <tbody>\n    <tr>\n      <th>0</th>\n      <td>독일</td>\n      <td>83124413.0</td>\n      <td>56459000.0</td>\n      <td>308721.0</td>\n      <td>3275.0</td>\n      <td>3.9</td>\n      <td>0.6</td>\n    </tr>\n    <tr>\n      <th>1</th>\n      <td>그리스</td>\n      <td>10522244.0</td>\n      <td>9522000.0</td>\n      <td>10743.0</td>\n      <td>700.0</td>\n      <td>6.7</td>\n      <td>0.7</td>\n    </tr>\n    <tr>\n      <th>2</th>\n      <td>헝가리</td>\n      <td>9707502.0</td>\n      <td>4417848.0</td>\n      <td>16951.0</td>\n      <td>633.0</td>\n      <td>6.5</td>\n      <td>1.4</td>\n    </tr>\n    <tr>\n      <th>3</th>\n      <td>아이슬란드</td>\n      <td>336712.0</td>\n      <td>337000.0</td>\n      <td>868.0</td>\n      <td>18.0</td>\n      <td>5.3</td>\n      <td>0.5</td>\n    </tr>\n    <tr>\n      <th>4</th>\n      <td>이탈리아</td>\n      <td>60627291.0</td>\n      <td>54256370.0</td>\n      <td>172344.0</td>\n      <td>3325.0</td>\n      <td>5.5</td>\n      <td>0.6</td>\n    </tr>\n    <tr>\n      <th>5</th>\n      <td>일본</td>\n      <td>127202190.0</td>\n      <td>91468471.0</td>\n      <td>430601.0</td>\n      <td>4166.0</td>\n      <td>3.3</td>\n      <td>0.5</td>\n    </tr>\n    <tr>\n      <th>6</th>\n      <td>오스트리아</td>\n      <td>8891383.0</td>\n      <td>6771395.0</td>\n      <td>36846.0</td>\n      <td>409.0</td>\n      <td>4.6</td>\n      <td>0.6</td>\n    </tr>\n    <tr>\n      <th>7</th>\n      <td>뉴질랜드</td>\n      <td>4743131.0</td>\n      <td>3975359.0</td>\n      <td>11690.0</td>\n      <td>377.0</td>\n      <td>7.9</td>\n      <td>0.9</td>\n    </tr>\n    <tr>\n      <th>8</th>\n      <td>폴란드</td>\n      <td>37921585.0</td>\n      <td>30801000.0</td>\n      <td>31674.0</td>\n      <td>2862.0</td>\n      <td>7.5</td>\n      <td>0.9</td>\n    </tr>\n    <tr>\n      <th>9</th>\n      <td>대한민국</td>\n      <td>51606633.0</td>\n      <td>26990456.0</td>\n      <td>217148.0</td>\n      <td>3781.0</td>\n      <td>7.3</td>\n      <td>1.4</td>\n    </tr>\n    <tr>\n      <th>10</th>\n      <td>스페인</td>\n      <td>46692863.0</td>\n      <td>35663427.0</td>\n      <td>102299.0</td>\n      <td>1806.0</td>\n      <td>3.9</td>\n      <td>0.5</td>\n    </tr>\n    <tr>\n      <th>11</th>\n      <td>스웨덴</td>\n      <td>9971630.0</td>\n      <td>6331378.0</td>\n      <td>14233.0</td>\n      <td>324.0</td>\n      <td>3.2</td>\n      <td>0.5</td>\n    </tr>\n    <tr>\n      <th>12</th>\n      <td>스위스</td>\n      <td>8525614.0</td>\n      <td>6315058.0</td>\n      <td>18033.0</td>\n      <td>233.0</td>\n      <td>2.7</td>\n      <td>0.4</td>\n    </tr>\n    <tr>\n      <th>13</th>\n      <td>벨기에</td>\n      <td>11482180.0</td>\n      <td>7533172.0</td>\n      <td>38455.0</td>\n      <td>604.0</td>\n      <td>5.3</td>\n      <td>0.8</td>\n    </tr>\n    <tr>\n      <th>14</th>\n      <td>터키</td>\n      <td>82340090.0</td>\n      <td>NaN</td>\n      <td>186832.0</td>\n      <td>6675.0</td>\n      <td>8.1</td>\n      <td>NaN</td>\n    </tr>\n    <tr>\n      <th>15</th>\n      <td>영국</td>\n      <td>67141678.0</td>\n      <td>39365027.0</td>\n      <td>128207.0</td>\n      <td>1837.0</td>\n      <td>2.7</td>\n      <td>0.5</td>\n    </tr>\n    <tr>\n      <th>16</th>\n      <td>에스토니아</td>\n      <td>1322913.0</td>\n      <td>NaN</td>\n      <td>1469.0</td>\n      <td>67.0</td>\n      <td>5.1</td>\n      <td>NaN</td>\n    </tr>\n    <tr>\n      <th>17</th>\n      <td>이스라엘</td>\n      <td>8381507.0</td>\n      <td>3465412.0</td>\n      <td>12557.0</td>\n      <td>316.0</td>\n      <td>3.8</td>\n      <td>0.9</td>\n    </tr>\n    <tr>\n      <th>18</th>\n      <td>체코</td>\n      <td>10665679.0</td>\n      <td>7386000.0</td>\n      <td>21889.0</td>\n      <td>656.0</td>\n      <td>6.2</td>\n      <td>0.9</td>\n    </tr>\n    <tr>\n      <th>19</th>\n      <td>핀란드</td>\n      <td>5522585.0</td>\n      <td>4766000.0</td>\n      <td>4288.0</td>\n      <td>234.0</td>\n      <td>4.2</td>\n      <td>0.5</td>\n    </tr>\n    <tr>\n      <th>20</th>\n      <td>프랑스</td>\n      <td>64990512.0</td>\n      <td>43652609.0</td>\n      <td>55766.0</td>\n      <td>3248.0</td>\n      <td>5.0</td>\n      <td>0.7</td>\n    </tr>\n  </tbody>\n</table>\n</div>"
     },
     "execution_count": 23,
     "metadata": {},
     "output_type": "execute_result"
    }
   ],
   "source": [
    "df_result"
   ],
   "metadata": {
    "collapsed": false,
    "pycharm": {
     "name": "#%%\n"
    }
   }
  },
  {
   "cell_type": "markdown",
   "source": [
    "### 숫자형 데이터들의 형 변환"
   ],
   "metadata": {
    "collapsed": false,
    "pycharm": {
     "name": "#%% md\n"
    }
   }
  },
  {
   "cell_type": "code",
   "execution_count": 34,
   "outputs": [
    {
     "name": "stderr",
     "output_type": "stream",
     "text": [
      "C:\\Users\\82103\\AppData\\Local\\Temp\\ipykernel_8676\\3890017295.py:3: SettingWithCopyWarning: \n",
      "A value is trying to be set on a copy of a slice from a DataFrame.\n",
      "Try using .loc[row_indexer,col_indexer] = value instead\n",
      "\n",
      "See the caveats in the documentation: https://pandas.pydata.org/pandas-docs/stable/user_guide/indexing.html#returning-a-view-versus-a-copy\n",
      "  df_result[col] = df_result[col].astype('int')\n"
     ]
    }
   ],
   "source": [
    "df_list = ['인구수', '자동차등록대수', '사고건수', '사망자수(명)']\n",
    "for col in df_list:\n",
    "    df_result[col] = df_result[col].astype('int')"
   ],
   "metadata": {
    "collapsed": false,
    "pycharm": {
     "name": "#%%\n"
    }
   }
  },
  {
   "cell_type": "code",
   "execution_count": 35,
   "outputs": [],
   "source": [
    "# 결측치 행 제거\n",
    "df_result = df_result.dropna()"
   ],
   "metadata": {
    "collapsed": false,
    "pycharm": {
     "name": "#%%\n"
    }
   }
  },
  {
   "cell_type": "code",
   "execution_count": 36,
   "outputs": [],
   "source": [
    "df_result.reset_index(drop=True, inplace=True)"
   ],
   "metadata": {
    "collapsed": false,
    "pycharm": {
     "name": "#%%\n"
    }
   }
  },
  {
   "cell_type": "code",
   "execution_count": 37,
   "outputs": [
    {
     "data": {
      "text/plain": "       국가        인구수   자동차등록대수    사고건수  사망자수(명)  인구10만명당사망자수  자동차1만대당사망자수\n0      독일   83124413  56459000  308721     3275          3.9          0.6\n1     그리스   10522244   9522000   10743      700          6.7          0.7\n2     헝가리    9707502   4417848   16951      633          6.5          1.4\n3   아이슬란드     336712    337000     868       18          5.3          0.5\n4    이탈리아   60627291  54256370  172344     3325          5.5          0.6\n5      일본  127202190  91468471  430601     4166          3.3          0.5\n6   오스트리아    8891383   6771395   36846      409          4.6          0.6\n7    뉴질랜드    4743131   3975359   11690      377          7.9          0.9\n8     폴란드   37921585  30801000   31674     2862          7.5          0.9\n9    대한민국   51606633  26990456  217148     3781          7.3          1.4\n10    스페인   46692863  35663427  102299     1806          3.9          0.5\n11    스웨덴    9971630   6331378   14233      324          3.2          0.5\n12    스위스    8525614   6315058   18033      233          2.7          0.4\n13    벨기에   11482180   7533172   38455      604          5.3          0.8\n14     영국   67141678  39365027  128207     1837          2.7          0.5\n15   이스라엘    8381507   3465412   12557      316          3.8          0.9\n16     체코   10665679   7386000   21889      656          6.2          0.9\n17    핀란드    5522585   4766000    4288      234          4.2          0.5\n18    프랑스   64990512  43652609   55766     3248          5.0          0.7",
      "text/html": "<div>\n<style scoped>\n    .dataframe tbody tr th:only-of-type {\n        vertical-align: middle;\n    }\n\n    .dataframe tbody tr th {\n        vertical-align: top;\n    }\n\n    .dataframe thead th {\n        text-align: right;\n    }\n</style>\n<table border=\"1\" class=\"dataframe\">\n  <thead>\n    <tr style=\"text-align: right;\">\n      <th></th>\n      <th>국가</th>\n      <th>인구수</th>\n      <th>자동차등록대수</th>\n      <th>사고건수</th>\n      <th>사망자수(명)</th>\n      <th>인구10만명당사망자수</th>\n      <th>자동차1만대당사망자수</th>\n    </tr>\n  </thead>\n  <tbody>\n    <tr>\n      <th>0</th>\n      <td>독일</td>\n      <td>83124413</td>\n      <td>56459000</td>\n      <td>308721</td>\n      <td>3275</td>\n      <td>3.9</td>\n      <td>0.6</td>\n    </tr>\n    <tr>\n      <th>1</th>\n      <td>그리스</td>\n      <td>10522244</td>\n      <td>9522000</td>\n      <td>10743</td>\n      <td>700</td>\n      <td>6.7</td>\n      <td>0.7</td>\n    </tr>\n    <tr>\n      <th>2</th>\n      <td>헝가리</td>\n      <td>9707502</td>\n      <td>4417848</td>\n      <td>16951</td>\n      <td>633</td>\n      <td>6.5</td>\n      <td>1.4</td>\n    </tr>\n    <tr>\n      <th>3</th>\n      <td>아이슬란드</td>\n      <td>336712</td>\n      <td>337000</td>\n      <td>868</td>\n      <td>18</td>\n      <td>5.3</td>\n      <td>0.5</td>\n    </tr>\n    <tr>\n      <th>4</th>\n      <td>이탈리아</td>\n      <td>60627291</td>\n      <td>54256370</td>\n      <td>172344</td>\n      <td>3325</td>\n      <td>5.5</td>\n      <td>0.6</td>\n    </tr>\n    <tr>\n      <th>5</th>\n      <td>일본</td>\n      <td>127202190</td>\n      <td>91468471</td>\n      <td>430601</td>\n      <td>4166</td>\n      <td>3.3</td>\n      <td>0.5</td>\n    </tr>\n    <tr>\n      <th>6</th>\n      <td>오스트리아</td>\n      <td>8891383</td>\n      <td>6771395</td>\n      <td>36846</td>\n      <td>409</td>\n      <td>4.6</td>\n      <td>0.6</td>\n    </tr>\n    <tr>\n      <th>7</th>\n      <td>뉴질랜드</td>\n      <td>4743131</td>\n      <td>3975359</td>\n      <td>11690</td>\n      <td>377</td>\n      <td>7.9</td>\n      <td>0.9</td>\n    </tr>\n    <tr>\n      <th>8</th>\n      <td>폴란드</td>\n      <td>37921585</td>\n      <td>30801000</td>\n      <td>31674</td>\n      <td>2862</td>\n      <td>7.5</td>\n      <td>0.9</td>\n    </tr>\n    <tr>\n      <th>9</th>\n      <td>대한민국</td>\n      <td>51606633</td>\n      <td>26990456</td>\n      <td>217148</td>\n      <td>3781</td>\n      <td>7.3</td>\n      <td>1.4</td>\n    </tr>\n    <tr>\n      <th>10</th>\n      <td>스페인</td>\n      <td>46692863</td>\n      <td>35663427</td>\n      <td>102299</td>\n      <td>1806</td>\n      <td>3.9</td>\n      <td>0.5</td>\n    </tr>\n    <tr>\n      <th>11</th>\n      <td>스웨덴</td>\n      <td>9971630</td>\n      <td>6331378</td>\n      <td>14233</td>\n      <td>324</td>\n      <td>3.2</td>\n      <td>0.5</td>\n    </tr>\n    <tr>\n      <th>12</th>\n      <td>스위스</td>\n      <td>8525614</td>\n      <td>6315058</td>\n      <td>18033</td>\n      <td>233</td>\n      <td>2.7</td>\n      <td>0.4</td>\n    </tr>\n    <tr>\n      <th>13</th>\n      <td>벨기에</td>\n      <td>11482180</td>\n      <td>7533172</td>\n      <td>38455</td>\n      <td>604</td>\n      <td>5.3</td>\n      <td>0.8</td>\n    </tr>\n    <tr>\n      <th>14</th>\n      <td>영국</td>\n      <td>67141678</td>\n      <td>39365027</td>\n      <td>128207</td>\n      <td>1837</td>\n      <td>2.7</td>\n      <td>0.5</td>\n    </tr>\n    <tr>\n      <th>15</th>\n      <td>이스라엘</td>\n      <td>8381507</td>\n      <td>3465412</td>\n      <td>12557</td>\n      <td>316</td>\n      <td>3.8</td>\n      <td>0.9</td>\n    </tr>\n    <tr>\n      <th>16</th>\n      <td>체코</td>\n      <td>10665679</td>\n      <td>7386000</td>\n      <td>21889</td>\n      <td>656</td>\n      <td>6.2</td>\n      <td>0.9</td>\n    </tr>\n    <tr>\n      <th>17</th>\n      <td>핀란드</td>\n      <td>5522585</td>\n      <td>4766000</td>\n      <td>4288</td>\n      <td>234</td>\n      <td>4.2</td>\n      <td>0.5</td>\n    </tr>\n    <tr>\n      <th>18</th>\n      <td>프랑스</td>\n      <td>64990512</td>\n      <td>43652609</td>\n      <td>55766</td>\n      <td>3248</td>\n      <td>5.0</td>\n      <td>0.7</td>\n    </tr>\n  </tbody>\n</table>\n</div>"
     },
     "execution_count": 37,
     "metadata": {},
     "output_type": "execute_result"
    }
   ],
   "source": [
    "df_result"
   ],
   "metadata": {
    "collapsed": false,
    "pycharm": {
     "name": "#%%\n"
    }
   }
  },
  {
   "cell_type": "code",
   "execution_count": 38,
   "outputs": [],
   "source": [
    "df_ = df_result.sort_values(by='인구10만명당사망자수')"
   ],
   "metadata": {
    "collapsed": false,
    "pycharm": {
     "name": "#%%\n"
    }
   }
  },
  {
   "cell_type": "markdown",
   "source": [
    "단순 사고 건수 비교"
   ],
   "metadata": {
    "collapsed": false,
    "pycharm": {
     "name": "#%% md\n"
    }
   }
  },
  {
   "cell_type": "code",
   "execution_count": 53,
   "outputs": [
    {
     "data": {
      "text/plain": "<Figure size 864x576 with 1 Axes>",
      "image/png": "[encoded data removed]"
     },
     "metadata": {},
     "output_type": "display_data"
    }
   ],
   "source": [
    "plt.figure(figsize=(12,8))\n",
    "sns.regplot(x='인구수', y='사고건수', data=df_result)\n",
    "for n in range(len(df_result)):\n",
    "    if df_result['인구수'][n] > 20000000:\n",
    "        if df_result['국가'][n] == '대한민국':\n",
    "            plt.text(df_result['인구수'][n]*1.02, df_result['사고건수'][n]*0.98,\n",
    "                     df_result['국가'][n], fontsize=13, color='red')\n",
    "        else:\n",
    "            plt.text(df_result['인구수'][n]*1.02, df_result['사고건수'][n]*0.98,\n",
    "                 df_result['국가'][n], fontsize=10)\n",
    "plt.show()"
   ],
   "metadata": {
    "collapsed": false,
    "pycharm": {
     "name": "#%%\n"
    }
   }
  },
  {
   "cell_type": "markdown",
   "source": [
    "### 분석결과 : 인구수와 사고건수는 상관 관계를 가진다,\n",
    "- 대한민국은 그 상관관계를 넘어서는 수준의 인구수 대비 사고 건수가 나타난다."
   ],
   "metadata": {
    "collapsed": false,
    "pycharm": {
     "name": "#%% md\n"
    }
   }
  },
  {
   "cell_type": "code",
   "execution_count": null,
   "outputs": [],
   "source": [],
   "metadata": {
    "collapsed": false,
    "pycharm": {
     "name": "#%%\n"
    }
   }
  }
 ],
 "metadata": {
  "kernelspec": {
   "display_name": "Python 3",
   "language": "python",
   "name": "python3"
  },
  "language_info": {
   "codemirror_mode": {
    "name": "ipython",
    "version": 2
   },
   "file_extension": ".py",
   "mimetype": "text/x-python",
   "name": "python",
   "nbconvert_exporter": "python",
   "pygments_lexer": "ipython2",
   "version": "2.7.6"
  }
 },
 "nbformat": 4,
 "nbformat_minor": 0
}