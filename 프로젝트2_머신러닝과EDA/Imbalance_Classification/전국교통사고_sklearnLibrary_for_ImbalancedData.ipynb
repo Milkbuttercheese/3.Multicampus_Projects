{
 "cells": [
  {
   "cell_type": "markdown",
   "source": [
    "## Imbalanced classification-사고 주변환경정보를 활용하여 사망사고 예측\n",
    "1. 머신러닝 목표 :\n",
    "2. 모델 Features and Target\n",
    "3. 적용할 모델"
   ],
   "metadata": {
    "collapsed": false,
    "pycharm": {
     "name": "#%% md\n"
    }
   }
  },
  {
   "cell_type": "code",
   "execution_count": 15,
   "outputs": [],
   "source": [
    "#데이터 핸들링 라이브러리\n",
    "import pandas as pd\n",
    "import numpy as np\n",
    "#데이터 시각화 라이브러리\n",
    "import seaborn as sns\n",
    "import matplotlib.pyplot as plt\n",
    "import matplotlib as mpl\n",
    "plt.rcParams.update({'font.family':'AppleGothic'})\n",
    "mpl.rc('axes', unicode_minus=False)\n",
    "%config InlineBackend.figure_format = 'retina'\n"
   ],
   "metadata": {
    "collapsed": false,
    "pycharm": {
     "name": "#%%\n"
    }
   }
  },
  {
   "cell_type": "markdown",
   "source": [
    "## 용어 정리\n",
    "- Imbalance 정도\n",
    "    - Slight Imbalance: An imbalanced classification problem where the distribution of examples is uneven by a small\n",
    "    amount in the training dataset (e.g. 4:6)\n",
    "    - Severe Imbalance: An imbalanced classification problem where the distribution of examples is uneven by a large\n",
    "    amount in the training dataset (e.g. 1:100 or more)\n",
    "- class의 분류\n",
    "    - Majority Class: The class (or classes) in an imbalanced classification predictive modeling problem that has\n",
    "    many examples. (여기선 사망하지 않음(0))\n",
    "    - Minority Class: The class in an imbalanced classification predictive modeling problem that has few examples.\n",
    "    (여기선 사망함(1))\n",
    "\n",
    "- Imbalance Classification 예\n",
    "    - Fraud Detection.\n",
    "    - Claim Prediction\n",
    "    - Default Prediction.\n",
    "    - Churn Prediction.\n",
    "    - Spam Detection.\n",
    "    - Anomaly Detection.\n",
    "    - Outlier Detection.\n",
    "    - Intrusion Detection\n",
    "    - Conversion Prediction.\n",
    "\n",
    "### Imbalance Classification에서 정확도accuracy가 좋은 척도일까?\n",
    "- 아님!\n",
    "- 만약 1000명중 한 명이 걸리는 회귀병이 있는데 잠복기동안 아무 증상이 없다 갑자기 죽는 병이라 하자.\n",
    "    - 이 병을 밝힐 수 있는 장치는 진단기 A밖에 없다. 고 하자 이 진단기 A가 어느날 고장이 나서 무조건 음성판정만을 내렸다고 하자.\n",
    "    - 그리고 이 고장난 사실을 아무도 모른채 계속 사용되었다고 하자. 이 기계는 999/1000의 높은 정확도를 가진 기계였지만, 회귀병을 탐지한다는 기계 본래의 목적에는 전혀 부합하지 못한 고철덩어리에 불과했던 것이다 (비유 출처: 본인)\n",
    "    - 양성인 사실을 놓치는 것이 심각한 생명,신체상의 손해를 끼칠수 있는 경우 정확도accuracy가 높은것 보다도 재현율recall(실제 양성인 경우에서 양성이라 판정되는 비율)이 더 중요하다 볼수 있다\n",
    "    - [참고](https://en.wikipedia.org/wiki/Accuracy_paradox)\n",
    "### 레퍼런스\n",
    "- [imbalanced classification](https://machinelearningmastery.com/what-is-imbalanced-classification/)"
   ],
   "metadata": {
    "collapsed": false,
    "pycharm": {
     "name": "#%% md\n"
    }
   }
  },
  {
   "cell_type": "markdown",
   "source": [
    "## 데이터 전처리 계획\n",
    "1. 데이터 불러오기, 결측치 처리하기\n",
    "2. 상대적으로 중요성이 떨어져보이는 피처 삭제, 필요하면 피처명을 직관적으로 다시 네이밍하기\n",
    "3. 비숫자-문자열 독립변수 인코딩하기\n",
    "4. 데이터 정규화\n",
    "5. 훈련-테스트셋 분리\n",
    "\n",
    "## 모델 학습 계획\n",
    "1. 모델 생성\n",
    "2. Cross_validation을 통한 모델학습\n",
    "3. Accuracy, Precision,Recall, ROC 4개의 지표로 분류모델의 정확도 평가하기"
   ],
   "metadata": {
    "collapsed": false,
    "pycharm": {
     "name": "#%% md\n"
    }
   }
  },
  {
   "cell_type": "code",
   "execution_count": 16,
   "outputs": [
    {
     "name": "stdout",
     "output_type": "stream",
     "text": [
      "데이터 불러오기 및 통합에 걸린 시간은 62.96861290931702 입니다\n"
     ]
    },
    {
     "data": {
      "text/plain": "                    사고번호               사고일시   요일             시군구  사고내용  사망자수  \\\n0       2020010100100011    2020년 1월 1일 00시  수요일   대구광역시 달서구 죽전동  중상사고     0   \n1       2020010100100048    2020년 1월 1일 02시  수요일   대구광역시 달서구 송현동  경상사고     0   \n2       2020010100100071    2020년 1월 1일 05시  수요일    대구광역시 북구 대현동  경상사고     0   \n3       2020010100100072    2020년 1월 1일 05시  수요일  대구광역시 중구 삼덕동1가  경상사고     0   \n4       2020010100100087    2020년 1월 1일 06시  수요일   대구광역시 수성구 두산동  경상사고     0   \n...                  ...                ...  ...             ...   ...   ...   \n412779  2021123100100475  2021년 12월 31일 18시  금요일    울산광역시 북구 호계동  중상사고     0   \n412780  2021123100100476  2021년 12월 31일 18시  금요일    울산광역시 북구 중산동  경상사고     0   \n412781  2021123100100477  2021년 12월 31일 18시  금요일    울산광역시 북구 진장동  경상사고     0   \n412782  2021123100100593  2021년 12월 31일 21시  금요일    울산광역시 남구 야음동  경상사고     0   \n412783  2021123100100620  2021년 12월 31일 22시  금요일    울산광역시 중구 유곡동  중상사고     0   \n\n        중상자수  경상자수  부상신고자수               사고유형  ... 기상상태            도로형태  \\\n0          1     0       0         차대차 - 측면충돌  ...   맑음        단일로 - 기타   \n1          0     1       0         차대차 - 측면충돌  ...   맑음      교차로 - 교차로안   \n2          0     1       0           차대차 - 기타  ...   맑음     교차로 - 교차로부근   \n3          0     1       0  차대사람 - 길가장자리구역통행중  ...   맑음        단일로 - 기타   \n4          0     1       0           차대차 - 기타  ...   맑음        단일로 - 기타   \n...      ...   ...     ...                ...  ...  ...             ...   \n412779     1     0       0         차대사람 - 횡단중  ...   맑음  교차로 - 교차로횡단보도내   \n412780     0     1       0           차대차 - 추돌  ...   맑음        단일로 - 기타   \n412781     0     1       0         차대차 - 측면충돌  ...   맑음        단일로 - 기타   \n412782     0     1       0        차대차 - 후진중충돌  ...   맑음        단일로 - 기타   \n412783     1     2       0           차대차 - 기타  ...   맑음        단일로 - 기타   \n\n       가해운전자 차종 가해운전자 성별 가해운전자 연령 가해운전자 상해정도 피해운전자 차종 피해운전자 성별 피해운전자 연령  \\\n0            승용        남      70세       상해없음       이륜        남      18세   \n1           원동기        남      50세       상해없음       승용        남      26세   \n2          기타불명     기타불명      미분류       기타불명       승용        남      37세   \n3            승용        남      18세       상해없음      보행자        남      21세   \n4            승용        남      45세       상해없음       승용        남      26세   \n...         ...      ...      ...        ...      ...      ...      ...   \n412779       승용        남      33세       상해없음      보행자        남      65세   \n412780       승용        남      38세       상해없음       승용        남      32세   \n412781       승용        남      71세       상해없음       승용        여      30세   \n412782       승용        남      28세       상해없음       이륜        남      17세   \n412783       승용        여      34세       상해없음       승용        여      60세   \n\n       피해운전자 상해정도  \n0              중상  \n1              경상  \n2              경상  \n3              경상  \n4              경상  \n...           ...  \n412779         중상  \n412780         경상  \n412781         경상  \n412782         경상  \n412783         중상  \n\n[412784 rows x 22 columns]",
      "text/html": "<div>\n<style scoped>\n    .dataframe tbody tr th:only-of-type {\n        vertical-align: middle;\n    }\n\n    .dataframe tbody tr th {\n        vertical-align: top;\n    }\n\n    .dataframe thead th {\n        text-align: right;\n    }\n</style>\n<table border=\"1\" class=\"dataframe\">\n  <thead>\n    <tr style=\"text-align: right;\">\n      <th></th>\n      <th>사고번호</th>\n      <th>사고일시</th>\n      <th>요일</th>\n      <th>시군구</th>\n      <th>사고내용</th>\n      <th>사망자수</th>\n      <th>중상자수</th>\n      <th>경상자수</th>\n      <th>부상신고자수</th>\n      <th>사고유형</th>\n      <th>...</th>\n      <th>기상상태</th>\n      <th>도로형태</th>\n      <th>가해운전자 차종</th>\n      <th>가해운전자 성별</th>\n      <th>가해운전자 연령</th>\n      <th>가해운전자 상해정도</th>\n      <th>피해운전자 차종</th>\n      <th>피해운전자 성별</th>\n      <th>피해운전자 연령</th>\n      <th>피해운전자 상해정도</th>\n    </tr>\n  </thead>\n  <tbody>\n    <tr>\n      <th>0</th>\n      <td>2020010100100011</td>\n      <td>2020년 1월 1일 00시</td>\n      <td>수요일</td>\n      <td>대구광역시 달서구 죽전동</td>\n      <td>중상사고</td>\n      <td>0</td>\n      <td>1</td>\n      <td>0</td>\n      <td>0</td>\n      <td>차대차 - 측면충돌</td>\n      <td>...</td>\n      <td>맑음</td>\n      <td>단일로 - 기타</td>\n      <td>승용</td>\n      <td>남</td>\n      <td>70세</td>\n      <td>상해없음</td>\n      <td>이륜</td>\n      <td>남</td>\n      <td>18세</td>\n      <td>중상</td>\n    </tr>\n    <tr>\n      <th>1</th>\n      <td>2020010100100048</td>\n      <td>2020년 1월 1일 02시</td>\n      <td>수요일</td>\n      <td>대구광역시 달서구 송현동</td>\n      <td>경상사고</td>\n      <td>0</td>\n      <td>0</td>\n      <td>1</td>\n      <td>0</td>\n      <td>차대차 - 측면충돌</td>\n      <td>...</td>\n      <td>맑음</td>\n      <td>교차로 - 교차로안</td>\n      <td>원동기</td>\n      <td>남</td>\n      <td>50세</td>\n      <td>상해없음</td>\n      <td>승용</td>\n      <td>남</td>\n      <td>26세</td>\n      <td>경상</td>\n    </tr>\n    <tr>\n      <th>2</th>\n      <td>2020010100100071</td>\n      <td>2020년 1월 1일 05시</td>\n      <td>수요일</td>\n      <td>대구광역시 북구 대현동</td>\n      <td>경상사고</td>\n      <td>0</td>\n      <td>0</td>\n      <td>1</td>\n      <td>0</td>\n      <td>차대차 - 기타</td>\n      <td>...</td>\n      <td>맑음</td>\n      <td>교차로 - 교차로부근</td>\n      <td>기타불명</td>\n      <td>기타불명</td>\n      <td>미분류</td>\n      <td>기타불명</td>\n      <td>승용</td>\n      <td>남</td>\n      <td>37세</td>\n      <td>경상</td>\n    </tr>\n    <tr>\n      <th>3</th>\n      <td>2020010100100072</td>\n      <td>2020년 1월 1일 05시</td>\n      <td>수요일</td>\n      <td>대구광역시 중구 삼덕동1가</td>\n      <td>경상사고</td>\n      <td>0</td>\n      <td>0</td>\n      <td>1</td>\n      <td>0</td>\n      <td>차대사람 - 길가장자리구역통행중</td>\n      <td>...</td>\n      <td>맑음</td>\n      <td>단일로 - 기타</td>\n      <td>승용</td>\n      <td>남</td>\n      <td>18세</td>\n      <td>상해없음</td>\n      <td>보행자</td>\n      <td>남</td>\n      <td>21세</td>\n      <td>경상</td>\n    </tr>\n    <tr>\n      <th>4</th>\n      <td>2020010100100087</td>\n      <td>2020년 1월 1일 06시</td>\n      <td>수요일</td>\n      <td>대구광역시 수성구 두산동</td>\n      <td>경상사고</td>\n      <td>0</td>\n      <td>0</td>\n      <td>1</td>\n      <td>0</td>\n      <td>차대차 - 기타</td>\n      <td>...</td>\n      <td>맑음</td>\n      <td>단일로 - 기타</td>\n      <td>승용</td>\n      <td>남</td>\n      <td>45세</td>\n      <td>상해없음</td>\n      <td>승용</td>\n      <td>남</td>\n      <td>26세</td>\n      <td>경상</td>\n    </tr>\n    <tr>\n      <th>...</th>\n      <td>...</td>\n      <td>...</td>\n      <td>...</td>\n      <td>...</td>\n      <td>...</td>\n      <td>...</td>\n      <td>...</td>\n      <td>...</td>\n      <td>...</td>\n      <td>...</td>\n      <td>...</td>\n      <td>...</td>\n      <td>...</td>\n      <td>...</td>\n      <td>...</td>\n      <td>...</td>\n      <td>...</td>\n      <td>...</td>\n      <td>...</td>\n      <td>...</td>\n      <td>...</td>\n    </tr>\n    <tr>\n      <th>412779</th>\n      <td>2021123100100475</td>\n      <td>2021년 12월 31일 18시</td>\n      <td>금요일</td>\n      <td>울산광역시 북구 호계동</td>\n      <td>중상사고</td>\n      <td>0</td>\n      <td>1</td>\n      <td>0</td>\n      <td>0</td>\n      <td>차대사람 - 횡단중</td>\n      <td>...</td>\n      <td>맑음</td>\n      <td>교차로 - 교차로횡단보도내</td>\n      <td>승용</td>\n      <td>남</td>\n      <td>33세</td>\n      <td>상해없음</td>\n      <td>보행자</td>\n      <td>남</td>\n      <td>65세</td>\n      <td>중상</td>\n    </tr>\n    <tr>\n      <th>412780</th>\n      <td>2021123100100476</td>\n      <td>2021년 12월 31일 18시</td>\n      <td>금요일</td>\n      <td>울산광역시 북구 중산동</td>\n      <td>경상사고</td>\n      <td>0</td>\n      <td>0</td>\n      <td>1</td>\n      <td>0</td>\n      <td>차대차 - 추돌</td>\n      <td>...</td>\n      <td>맑음</td>\n      <td>단일로 - 기타</td>\n      <td>승용</td>\n      <td>남</td>\n      <td>38세</td>\n      <td>상해없음</td>\n      <td>승용</td>\n      <td>남</td>\n      <td>32세</td>\n      <td>경상</td>\n    </tr>\n    <tr>\n      <th>412781</th>\n      <td>2021123100100477</td>\n      <td>2021년 12월 31일 18시</td>\n      <td>금요일</td>\n      <td>울산광역시 북구 진장동</td>\n      <td>경상사고</td>\n      <td>0</td>\n      <td>0</td>\n      <td>1</td>\n      <td>0</td>\n      <td>차대차 - 측면충돌</td>\n      <td>...</td>\n      <td>맑음</td>\n      <td>단일로 - 기타</td>\n      <td>승용</td>\n      <td>남</td>\n      <td>71세</td>\n      <td>상해없음</td>\n      <td>승용</td>\n      <td>여</td>\n      <td>30세</td>\n      <td>경상</td>\n    </tr>\n    <tr>\n      <th>412782</th>\n      <td>2021123100100593</td>\n      <td>2021년 12월 31일 21시</td>\n      <td>금요일</td>\n      <td>울산광역시 남구 야음동</td>\n      <td>경상사고</td>\n      <td>0</td>\n      <td>0</td>\n      <td>1</td>\n      <td>0</td>\n      <td>차대차 - 후진중충돌</td>\n      <td>...</td>\n      <td>맑음</td>\n      <td>단일로 - 기타</td>\n      <td>승용</td>\n      <td>남</td>\n      <td>28세</td>\n      <td>상해없음</td>\n      <td>이륜</td>\n      <td>남</td>\n      <td>17세</td>\n      <td>경상</td>\n    </tr>\n    <tr>\n      <th>412783</th>\n      <td>2021123100100620</td>\n      <td>2021년 12월 31일 22시</td>\n      <td>금요일</td>\n      <td>울산광역시 중구 유곡동</td>\n      <td>중상사고</td>\n      <td>0</td>\n      <td>1</td>\n      <td>2</td>\n      <td>0</td>\n      <td>차대차 - 기타</td>\n      <td>...</td>\n      <td>맑음</td>\n      <td>단일로 - 기타</td>\n      <td>승용</td>\n      <td>여</td>\n      <td>34세</td>\n      <td>상해없음</td>\n      <td>승용</td>\n      <td>여</td>\n      <td>60세</td>\n      <td>중상</td>\n    </tr>\n  </tbody>\n</table>\n<p>412784 rows × 22 columns</p>\n</div>"
     },
     "execution_count": 16,
     "metadata": {},
     "output_type": "execute_result"
    }
   ],
   "source": [
    "from preprocessing_data_for_unsupervised import f1_read\n",
    "df= f1_read()\n",
    "df"
   ],
   "metadata": {
    "collapsed": false,
    "pycharm": {
     "name": "#%%\n"
    }
   }
  },
  {
   "cell_type": "code",
   "execution_count": 17,
   "outputs": [
    {
     "name": "stdout",
     "output_type": "stream",
     "text": [
      "사고번호              0\n",
      "사고일시              0\n",
      "요일                0\n",
      "시군구               0\n",
      "사고내용              0\n",
      "사망자수              0\n",
      "중상자수              0\n",
      "경상자수              0\n",
      "부상신고자수            0\n",
      "사고유형              0\n",
      "법규위반              0\n",
      "노면상태              0\n",
      "기상상태              0\n",
      "도로형태              0\n",
      "가해운전자 차종          0\n",
      "가해운전자 성별          0\n",
      "가해운전자 연령          0\n",
      "가해운전자 상해정도        0\n",
      "피해운전자 차종      16704\n",
      "피해운전자 성별      16706\n",
      "피해운전자 연령      16704\n",
      "피해운전자 상해정도    16706\n",
      "dtype: int64\n"
     ]
    },
    {
     "data": {
      "text/plain": "                    사고번호               사고일시   요일             시군구  사고내용  사망자수  \\\n0       2020010100100011    2020년 1월 1일 00시  수요일   대구광역시 달서구 죽전동  중상사고     0   \n1       2020010100100048    2020년 1월 1일 02시  수요일   대구광역시 달서구 송현동  경상사고     0   \n2       2020010100100071    2020년 1월 1일 05시  수요일    대구광역시 북구 대현동  경상사고     0   \n3       2020010100100072    2020년 1월 1일 05시  수요일  대구광역시 중구 삼덕동1가  경상사고     0   \n4       2020010100100087    2020년 1월 1일 06시  수요일   대구광역시 수성구 두산동  경상사고     0   \n...                  ...                ...  ...             ...   ...   ...   \n412779  2021123100100475  2021년 12월 31일 18시  금요일    울산광역시 북구 호계동  중상사고     0   \n412780  2021123100100476  2021년 12월 31일 18시  금요일    울산광역시 북구 중산동  경상사고     0   \n412781  2021123100100477  2021년 12월 31일 18시  금요일    울산광역시 북구 진장동  경상사고     0   \n412782  2021123100100593  2021년 12월 31일 21시  금요일    울산광역시 남구 야음동  경상사고     0   \n412783  2021123100100620  2021년 12월 31일 22시  금요일    울산광역시 중구 유곡동  중상사고     0   \n\n        중상자수  경상자수  부상신고자수               사고유형  ... 기상상태            도로형태  \\\n0          1     0       0         차대차 - 측면충돌  ...   맑음        단일로 - 기타   \n1          0     1       0         차대차 - 측면충돌  ...   맑음      교차로 - 교차로안   \n2          0     1       0           차대차 - 기타  ...   맑음     교차로 - 교차로부근   \n3          0     1       0  차대사람 - 길가장자리구역통행중  ...   맑음        단일로 - 기타   \n4          0     1       0           차대차 - 기타  ...   맑음        단일로 - 기타   \n...      ...   ...     ...                ...  ...  ...             ...   \n412779     1     0       0         차대사람 - 횡단중  ...   맑음  교차로 - 교차로횡단보도내   \n412780     0     1       0           차대차 - 추돌  ...   맑음        단일로 - 기타   \n412781     0     1       0         차대차 - 측면충돌  ...   맑음        단일로 - 기타   \n412782     0     1       0        차대차 - 후진중충돌  ...   맑음        단일로 - 기타   \n412783     1     2       0           차대차 - 기타  ...   맑음        단일로 - 기타   \n\n       가해운전자 차종 가해운전자 성별 가해운전자 연령 가해운전자 상해정도 피해운전자 차종 피해운전자 성별 피해운전자 연령  \\\n0            승용        남      70세       상해없음       이륜        남      18세   \n1           원동기        남      50세       상해없음       승용        남      26세   \n2          기타불명     기타불명      미분류       기타불명       승용        남      37세   \n3            승용        남      18세       상해없음      보행자        남      21세   \n4            승용        남      45세       상해없음       승용        남      26세   \n...         ...      ...      ...        ...      ...      ...      ...   \n412779       승용        남      33세       상해없음      보행자        남      65세   \n412780       승용        남      38세       상해없음       승용        남      32세   \n412781       승용        남      71세       상해없음       승용        여      30세   \n412782       승용        남      28세       상해없음       이륜        남      17세   \n412783       승용        여      34세       상해없음       승용        여      60세   \n\n       피해운전자 상해정도  \n0              중상  \n1              경상  \n2              경상  \n3              경상  \n4              경상  \n...           ...  \n412779         중상  \n412780         경상  \n412781         경상  \n412782         경상  \n412783         중상  \n\n[396078 rows x 22 columns]",
      "text/html": "<div>\n<style scoped>\n    .dataframe tbody tr th:only-of-type {\n        vertical-align: middle;\n    }\n\n    .dataframe tbody tr th {\n        vertical-align: top;\n    }\n\n    .dataframe thead th {\n        text-align: right;\n    }\n</style>\n<table border=\"1\" class=\"dataframe\">\n  <thead>\n    <tr style=\"text-align: right;\">\n      <th></th>\n      <th>사고번호</th>\n      <th>사고일시</th>\n      <th>요일</th>\n      <th>시군구</th>\n      <th>사고내용</th>\n      <th>사망자수</th>\n      <th>중상자수</th>\n      <th>경상자수</th>\n      <th>부상신고자수</th>\n      <th>사고유형</th>\n      <th>...</th>\n      <th>기상상태</th>\n      <th>도로형태</th>\n      <th>가해운전자 차종</th>\n      <th>가해운전자 성별</th>\n      <th>가해운전자 연령</th>\n      <th>가해운전자 상해정도</th>\n      <th>피해운전자 차종</th>\n      <th>피해운전자 성별</th>\n      <th>피해운전자 연령</th>\n      <th>피해운전자 상해정도</th>\n    </tr>\n  </thead>\n  <tbody>\n    <tr>\n      <th>0</th>\n      <td>2020010100100011</td>\n      <td>2020년 1월 1일 00시</td>\n      <td>수요일</td>\n      <td>대구광역시 달서구 죽전동</td>\n      <td>중상사고</td>\n      <td>0</td>\n      <td>1</td>\n      <td>0</td>\n      <td>0</td>\n      <td>차대차 - 측면충돌</td>\n      <td>...</td>\n      <td>맑음</td>\n      <td>단일로 - 기타</td>\n      <td>승용</td>\n      <td>남</td>\n      <td>70세</td>\n      <td>상해없음</td>\n      <td>이륜</td>\n      <td>남</td>\n      <td>18세</td>\n      <td>중상</td>\n    </tr>\n    <tr>\n      <th>1</th>\n      <td>2020010100100048</td>\n      <td>2020년 1월 1일 02시</td>\n      <td>수요일</td>\n      <td>대구광역시 달서구 송현동</td>\n      <td>경상사고</td>\n      <td>0</td>\n      <td>0</td>\n      <td>1</td>\n      <td>0</td>\n      <td>차대차 - 측면충돌</td>\n      <td>...</td>\n      <td>맑음</td>\n      <td>교차로 - 교차로안</td>\n      <td>원동기</td>\n      <td>남</td>\n      <td>50세</td>\n      <td>상해없음</td>\n      <td>승용</td>\n      <td>남</td>\n      <td>26세</td>\n      <td>경상</td>\n    </tr>\n    <tr>\n      <th>2</th>\n      <td>2020010100100071</td>\n      <td>2020년 1월 1일 05시</td>\n      <td>수요일</td>\n      <td>대구광역시 북구 대현동</td>\n      <td>경상사고</td>\n      <td>0</td>\n      <td>0</td>\n      <td>1</td>\n      <td>0</td>\n      <td>차대차 - 기타</td>\n      <td>...</td>\n      <td>맑음</td>\n      <td>교차로 - 교차로부근</td>\n      <td>기타불명</td>\n      <td>기타불명</td>\n      <td>미분류</td>\n      <td>기타불명</td>\n      <td>승용</td>\n      <td>남</td>\n      <td>37세</td>\n      <td>경상</td>\n    </tr>\n    <tr>\n      <th>3</th>\n      <td>2020010100100072</td>\n      <td>2020년 1월 1일 05시</td>\n      <td>수요일</td>\n      <td>대구광역시 중구 삼덕동1가</td>\n      <td>경상사고</td>\n      <td>0</td>\n      <td>0</td>\n      <td>1</td>\n      <td>0</td>\n      <td>차대사람 - 길가장자리구역통행중</td>\n      <td>...</td>\n      <td>맑음</td>\n      <td>단일로 - 기타</td>\n      <td>승용</td>\n      <td>남</td>\n      <td>18세</td>\n      <td>상해없음</td>\n      <td>보행자</td>\n      <td>남</td>\n      <td>21세</td>\n      <td>경상</td>\n    </tr>\n    <tr>\n      <th>4</th>\n      <td>2020010100100087</td>\n      <td>2020년 1월 1일 06시</td>\n      <td>수요일</td>\n      <td>대구광역시 수성구 두산동</td>\n      <td>경상사고</td>\n      <td>0</td>\n      <td>0</td>\n      <td>1</td>\n      <td>0</td>\n      <td>차대차 - 기타</td>\n      <td>...</td>\n      <td>맑음</td>\n      <td>단일로 - 기타</td>\n      <td>승용</td>\n      <td>남</td>\n      <td>45세</td>\n      <td>상해없음</td>\n      <td>승용</td>\n      <td>남</td>\n      <td>26세</td>\n      <td>경상</td>\n    </tr>\n    <tr>\n      <th>...</th>\n      <td>...</td>\n      <td>...</td>\n      <td>...</td>\n      <td>...</td>\n      <td>...</td>\n      <td>...</td>\n      <td>...</td>\n      <td>...</td>\n      <td>...</td>\n      <td>...</td>\n      <td>...</td>\n      <td>...</td>\n      <td>...</td>\n      <td>...</td>\n      <td>...</td>\n      <td>...</td>\n      <td>...</td>\n      <td>...</td>\n      <td>...</td>\n      <td>...</td>\n      <td>...</td>\n    </tr>\n    <tr>\n      <th>412779</th>\n      <td>2021123100100475</td>\n      <td>2021년 12월 31일 18시</td>\n      <td>금요일</td>\n      <td>울산광역시 북구 호계동</td>\n      <td>중상사고</td>\n      <td>0</td>\n      <td>1</td>\n      <td>0</td>\n      <td>0</td>\n      <td>차대사람 - 횡단중</td>\n      <td>...</td>\n      <td>맑음</td>\n      <td>교차로 - 교차로횡단보도내</td>\n      <td>승용</td>\n      <td>남</td>\n      <td>33세</td>\n      <td>상해없음</td>\n      <td>보행자</td>\n      <td>남</td>\n      <td>65세</td>\n      <td>중상</td>\n    </tr>\n    <tr>\n      <th>412780</th>\n      <td>2021123100100476</td>\n      <td>2021년 12월 31일 18시</td>\n      <td>금요일</td>\n      <td>울산광역시 북구 중산동</td>\n      <td>경상사고</td>\n      <td>0</td>\n      <td>0</td>\n      <td>1</td>\n      <td>0</td>\n      <td>차대차 - 추돌</td>\n      <td>...</td>\n      <td>맑음</td>\n      <td>단일로 - 기타</td>\n      <td>승용</td>\n      <td>남</td>\n      <td>38세</td>\n      <td>상해없음</td>\n      <td>승용</td>\n      <td>남</td>\n      <td>32세</td>\n      <td>경상</td>\n    </tr>\n    <tr>\n      <th>412781</th>\n      <td>2021123100100477</td>\n      <td>2021년 12월 31일 18시</td>\n      <td>금요일</td>\n      <td>울산광역시 북구 진장동</td>\n      <td>경상사고</td>\n      <td>0</td>\n      <td>0</td>\n      <td>1</td>\n      <td>0</td>\n      <td>차대차 - 측면충돌</td>\n      <td>...</td>\n      <td>맑음</td>\n      <td>단일로 - 기타</td>\n      <td>승용</td>\n      <td>남</td>\n      <td>71세</td>\n      <td>상해없음</td>\n      <td>승용</td>\n      <td>여</td>\n      <td>30세</td>\n      <td>경상</td>\n    </tr>\n    <tr>\n      <th>412782</th>\n      <td>2021123100100593</td>\n      <td>2021년 12월 31일 21시</td>\n      <td>금요일</td>\n      <td>울산광역시 남구 야음동</td>\n      <td>경상사고</td>\n      <td>0</td>\n      <td>0</td>\n      <td>1</td>\n      <td>0</td>\n      <td>차대차 - 후진중충돌</td>\n      <td>...</td>\n      <td>맑음</td>\n      <td>단일로 - 기타</td>\n      <td>승용</td>\n      <td>남</td>\n      <td>28세</td>\n      <td>상해없음</td>\n      <td>이륜</td>\n      <td>남</td>\n      <td>17세</td>\n      <td>경상</td>\n    </tr>\n    <tr>\n      <th>412783</th>\n      <td>2021123100100620</td>\n      <td>2021년 12월 31일 22시</td>\n      <td>금요일</td>\n      <td>울산광역시 중구 유곡동</td>\n      <td>중상사고</td>\n      <td>0</td>\n      <td>1</td>\n      <td>2</td>\n      <td>0</td>\n      <td>차대차 - 기타</td>\n      <td>...</td>\n      <td>맑음</td>\n      <td>단일로 - 기타</td>\n      <td>승용</td>\n      <td>여</td>\n      <td>34세</td>\n      <td>상해없음</td>\n      <td>승용</td>\n      <td>여</td>\n      <td>60세</td>\n      <td>중상</td>\n    </tr>\n  </tbody>\n</table>\n<p>396078 rows × 22 columns</p>\n</div>"
     },
     "execution_count": 17,
     "metadata": {},
     "output_type": "execute_result"
    }
   ],
   "source": [
    "\"\"\"\n",
    "결측치 확인하기 => 피해운전자의 차종,성별,연령,상해정도를 파악하지 못하는 데이터가 16704건이 존재함\n",
    "원본데이터 412784에 비하면 삭제해도 학습에 영향력을 크게 미치지 못할 뿐더러, 이러한 데이터들이\n",
    "특정 편향성을 갖고 존재할 것이라 보기 어렵다(아마도 기록 누락에 의해 이러한 데이터가 존재할 것이기 때문)\n",
    "그렇기 때문에 데이터를 제거해도 될것이라 판단하였음\n",
    "\"\"\"\n",
    "from preprocessing_data_for_unsupervised import f2_removeNaN\n",
    "df= f2_removeNaN(df)\n",
    "df"
   ],
   "metadata": {
    "collapsed": false,
    "pycharm": {
     "name": "#%%\n"
    }
   }
  },
  {
   "cell_type": "code",
   "execution_count": 18,
   "outputs": [
    {
     "name": "stdout",
     "output_type": "stream",
     "text": [
      "<class 'pandas.core.frame.DataFrame'>\n",
      "Int64Index: 396078 entries, 0 to 412783\n",
      "Data columns (total 22 columns):\n",
      " #   Column      Non-Null Count   Dtype \n",
      "---  ------      --------------   ----- \n",
      " 0   사고번호        396078 non-null  int64 \n",
      " 1   사고일시        396078 non-null  object\n",
      " 2   요일          396078 non-null  object\n",
      " 3   시군구         396078 non-null  object\n",
      " 4   사고내용        396078 non-null  object\n",
      " 5   사망자수        396078 non-null  int64 \n",
      " 6   중상자수        396078 non-null  int64 \n",
      " 7   경상자수        396078 non-null  int64 \n",
      " 8   부상신고자수      396078 non-null  int64 \n",
      " 9   사고유형        396078 non-null  object\n",
      " 10  법규위반        396078 non-null  object\n",
      " 11  노면상태        396078 non-null  object\n",
      " 12  기상상태        396078 non-null  object\n",
      " 13  도로형태        396078 non-null  object\n",
      " 14  가해운전자 차종    396078 non-null  object\n",
      " 15  가해운전자 성별    396078 non-null  object\n",
      " 16  가해운전자 연령    396078 non-null  object\n",
      " 17  가해운전자 상해정도  396078 non-null  object\n",
      " 18  피해운전자 차종    396078 non-null  object\n",
      " 19  피해운전자 성별    396078 non-null  object\n",
      " 20  피해운전자 연령    396078 non-null  object\n",
      " 21  피해운전자 상해정도  396078 non-null  object\n",
      "dtypes: int64(5), object(17)\n",
      "memory usage: 69.5+ MB\n",
      "None\n"
     ]
    },
    {
     "data": {
      "text/plain": "               사고번호             사고일시   요일             시군구  사고내용  사망자수  중상자수  \\\n0  2020010100100011  2020년 1월 1일 00시  수요일   대구광역시 달서구 죽전동  중상사고     0     1   \n1  2020010100100048  2020년 1월 1일 02시  수요일   대구광역시 달서구 송현동  경상사고     0     0   \n2  2020010100100071  2020년 1월 1일 05시  수요일    대구광역시 북구 대현동  경상사고     0     0   \n3  2020010100100072  2020년 1월 1일 05시  수요일  대구광역시 중구 삼덕동1가  경상사고     0     0   \n4  2020010100100087  2020년 1월 1일 06시  수요일   대구광역시 수성구 두산동  경상사고     0     0   \n\n   경상자수  부상신고자수               사고유형  ... 기상상태         도로형태 가해운전자 차종 가해운전자 성별  \\\n0     0       0         차대차 - 측면충돌  ...   맑음     단일로 - 기타       승용        남   \n1     1       0         차대차 - 측면충돌  ...   맑음   교차로 - 교차로안      원동기        남   \n2     1       0           차대차 - 기타  ...   맑음  교차로 - 교차로부근     기타불명     기타불명   \n3     1       0  차대사람 - 길가장자리구역통행중  ...   맑음     단일로 - 기타       승용        남   \n4     1       0           차대차 - 기타  ...   맑음     단일로 - 기타       승용        남   \n\n  가해운전자 연령 가해운전자 상해정도 피해운전자 차종 피해운전자 성별 피해운전자 연령 피해운전자 상해정도  \n0      70세       상해없음       이륜        남      18세         중상  \n1      50세       상해없음       승용        남      26세         경상  \n2      미분류       기타불명       승용        남      37세         경상  \n3      18세       상해없음      보행자        남      21세         경상  \n4      45세       상해없음       승용        남      26세         경상  \n\n[5 rows x 22 columns]",
      "text/html": "<div>\n<style scoped>\n    .dataframe tbody tr th:only-of-type {\n        vertical-align: middle;\n    }\n\n    .dataframe tbody tr th {\n        vertical-align: top;\n    }\n\n    .dataframe thead th {\n        text-align: right;\n    }\n</style>\n<table border=\"1\" class=\"dataframe\">\n  <thead>\n    <tr style=\"text-align: right;\">\n      <th></th>\n      <th>사고번호</th>\n      <th>사고일시</th>\n      <th>요일</th>\n      <th>시군구</th>\n      <th>사고내용</th>\n      <th>사망자수</th>\n      <th>중상자수</th>\n      <th>경상자수</th>\n      <th>부상신고자수</th>\n      <th>사고유형</th>\n      <th>...</th>\n      <th>기상상태</th>\n      <th>도로형태</th>\n      <th>가해운전자 차종</th>\n      <th>가해운전자 성별</th>\n      <th>가해운전자 연령</th>\n      <th>가해운전자 상해정도</th>\n      <th>피해운전자 차종</th>\n      <th>피해운전자 성별</th>\n      <th>피해운전자 연령</th>\n      <th>피해운전자 상해정도</th>\n    </tr>\n  </thead>\n  <tbody>\n    <tr>\n      <th>0</th>\n      <td>2020010100100011</td>\n      <td>2020년 1월 1일 00시</td>\n      <td>수요일</td>\n      <td>대구광역시 달서구 죽전동</td>\n      <td>중상사고</td>\n      <td>0</td>\n      <td>1</td>\n      <td>0</td>\n      <td>0</td>\n      <td>차대차 - 측면충돌</td>\n      <td>...</td>\n      <td>맑음</td>\n      <td>단일로 - 기타</td>\n      <td>승용</td>\n      <td>남</td>\n      <td>70세</td>\n      <td>상해없음</td>\n      <td>이륜</td>\n      <td>남</td>\n      <td>18세</td>\n      <td>중상</td>\n    </tr>\n    <tr>\n      <th>1</th>\n      <td>2020010100100048</td>\n      <td>2020년 1월 1일 02시</td>\n      <td>수요일</td>\n      <td>대구광역시 달서구 송현동</td>\n      <td>경상사고</td>\n      <td>0</td>\n      <td>0</td>\n      <td>1</td>\n      <td>0</td>\n      <td>차대차 - 측면충돌</td>\n      <td>...</td>\n      <td>맑음</td>\n      <td>교차로 - 교차로안</td>\n      <td>원동기</td>\n      <td>남</td>\n      <td>50세</td>\n      <td>상해없음</td>\n      <td>승용</td>\n      <td>남</td>\n      <td>26세</td>\n      <td>경상</td>\n    </tr>\n    <tr>\n      <th>2</th>\n      <td>2020010100100071</td>\n      <td>2020년 1월 1일 05시</td>\n      <td>수요일</td>\n      <td>대구광역시 북구 대현동</td>\n      <td>경상사고</td>\n      <td>0</td>\n      <td>0</td>\n      <td>1</td>\n      <td>0</td>\n      <td>차대차 - 기타</td>\n      <td>...</td>\n      <td>맑음</td>\n      <td>교차로 - 교차로부근</td>\n      <td>기타불명</td>\n      <td>기타불명</td>\n      <td>미분류</td>\n      <td>기타불명</td>\n      <td>승용</td>\n      <td>남</td>\n      <td>37세</td>\n      <td>경상</td>\n    </tr>\n    <tr>\n      <th>3</th>\n      <td>2020010100100072</td>\n      <td>2020년 1월 1일 05시</td>\n      <td>수요일</td>\n      <td>대구광역시 중구 삼덕동1가</td>\n      <td>경상사고</td>\n      <td>0</td>\n      <td>0</td>\n      <td>1</td>\n      <td>0</td>\n      <td>차대사람 - 길가장자리구역통행중</td>\n      <td>...</td>\n      <td>맑음</td>\n      <td>단일로 - 기타</td>\n      <td>승용</td>\n      <td>남</td>\n      <td>18세</td>\n      <td>상해없음</td>\n      <td>보행자</td>\n      <td>남</td>\n      <td>21세</td>\n      <td>경상</td>\n    </tr>\n    <tr>\n      <th>4</th>\n      <td>2020010100100087</td>\n      <td>2020년 1월 1일 06시</td>\n      <td>수요일</td>\n      <td>대구광역시 수성구 두산동</td>\n      <td>경상사고</td>\n      <td>0</td>\n      <td>0</td>\n      <td>1</td>\n      <td>0</td>\n      <td>차대차 - 기타</td>\n      <td>...</td>\n      <td>맑음</td>\n      <td>단일로 - 기타</td>\n      <td>승용</td>\n      <td>남</td>\n      <td>45세</td>\n      <td>상해없음</td>\n      <td>승용</td>\n      <td>남</td>\n      <td>26세</td>\n      <td>경상</td>\n    </tr>\n  </tbody>\n</table>\n<p>5 rows × 22 columns</p>\n</div>"
     },
     "execution_count": 18,
     "metadata": {},
     "output_type": "execute_result"
    }
   ],
   "source": [
    "#데이터 데이터타입, 데이터갯수 확인하기\n",
    "print(df.info())\n",
    "df.head()"
   ],
   "metadata": {
    "collapsed": false,
    "pycharm": {
     "name": "#%%\n"
    }
   }
  },
  {
   "cell_type": "markdown",
   "source": [
    "## 전체사고 중 사망사고 비율 확인하기"
   ],
   "metadata": {
    "collapsed": false,
    "pycharm": {
     "name": "#%% md\n"
    }
   }
  },
  {
   "cell_type": "code",
   "execution_count": 19,
   "outputs": [
    {
     "name": "stdout",
     "output_type": "stream",
     "text": [
      "경상사고      276736\n",
      "중상사고       97602\n",
      "부상신고사고     17285\n",
      "사망사고        4455\n",
      "Name: 사고내용, dtype: int64\n",
      "전체 사고중 사망사고의 비율은 1.124778452729008% 입니다\n"
     ]
    }
   ],
   "source": [
    "from preprocessing_data_for_unsupervised import f3_ratio\n",
    "f3_ratio(df)"
   ],
   "metadata": {
    "collapsed": false,
    "pycharm": {
     "name": "#%%\n"
    }
   }
  },
  {
   "cell_type": "markdown",
   "source": [
    "## 컬럼 전처리하기\n",
    "- 불필요해보이는 컬럼 제거하기\n",
    "    1. 사고번호는 각 사고에 대해 일대일 대응되는 key값으로 나중에 데이터를 결합시키는데 사용될 수 있어 보이나, 일단\n",
    "    지금 당장 사용되지 않으므로 삭제한다\n",
    "    2. 사망자수,중상자수,경상자수,부상신고자는 '사고내용'에 필요한 정보가 담겨있으므로 삭제한다\n",
    "    3.차대차인지 차대사람인지에 대한 정보가 사고유형에 담기므로 가해운전자 차종과 피해운전자 차종에서 삭제하였다\n",
    "    3. 위치정보는 사용하지 않으므로 시군구도 삭제한다\n",
    "- 이진분류로 단순화하기\n",
    "    - 종속변수 '사고내용'에서 사망자를 1, 중상,경상을 0으로 하는 새로운 종속변수 열 '사망사고여부' 을 만들기\n",
    "    - 발생년월시에서 시간만 떼어내고, 정수형으로 데이터 변환하고, 22~06시를 야간, 그외 시간을 주간으로 분류하는 독립변수 열 '야간여부' 만들기\n",
    "    - '야간여부'와 '사망사고여부'를 정수로 데이터변환하기\n",
    "    - 요일은 주말과 평일로 통합하기\n",
    "- 피해운전자, 가해운전자 연령에서 '세' 단위 떼어내고 정수형으로 데이터 변환하기"
   ],
   "metadata": {
    "collapsed": false,
    "pycharm": {
     "name": "#%% md\n"
    }
   }
  },
  {
   "cell_type": "code",
   "execution_count": 20,
   "outputs": [
    {
     "data": {
      "text/plain": "        주말여부  야간여부               사고유형       법규위반 기상상태            도로형태  \\\n0          0     0         차대차 - 측면충돌    안전운전불이행   맑음        단일로 - 기타   \n1          0     0         차대차 - 측면충돌  교차로운행방법위반   맑음      교차로 - 교차로안   \n3          0     0  차대사람 - 길가장자리구역통행중    안전운전불이행   맑음        단일로 - 기타   \n4          0     0           차대차 - 기타    안전운전불이행   맑음        단일로 - 기타   \n5          0     0           차대차 - 기타       불법유턴   맑음        단일로 - 기타   \n...      ...   ...                ...        ...  ...             ...   \n412779     0     0         차대사람 - 횡단중  보행자보호의무위반   맑음  교차로 - 교차로횡단보도내   \n412780     0     0           차대차 - 추돌    안전운전불이행   맑음        단일로 - 기타   \n412781     0     0         차대차 - 측면충돌       차로위반   맑음        단일로 - 기타   \n412782     0     0        차대차 - 후진중충돌    안전운전불이행   맑음        단일로 - 기타   \n412783     1     1           차대차 - 기타    안전운전불이행   맑음        단일로 - 기타   \n\n        가해운전자 성별- 여성0 남성1  가해운전자 연령(정규화 됨)  피해운전자 성별- 여성0 남성1  \\\n0                       1         1.384428                  1   \n1                       1         0.117883                  1   \n3                       1        -1.908588                  1   \n4                       1        -0.198753                  1   \n5                       1         1.511082                  1   \n...                   ...              ...                ...   \n412779                  1        -0.958679                  1   \n412780                  1        -0.642043                  1   \n412781                  1         1.447755                  0   \n412782                  1        -1.275315                  1   \n412783                  0        -0.895352                  0   \n\n        피해운전자 연령(정규화 됨)  사망사고여부  \n0             -1.676547       0  \n1             -1.192179       0  \n3             -1.494909       0  \n4             -1.192179       0  \n5              0.442566       0  \n...                 ...     ...  \n412779         1.169119       0  \n412780        -0.828902       0  \n412781        -0.949994       0  \n412782        -1.737093       0  \n412783         0.866388       0  \n\n[389080 rows x 11 columns]",
      "text/html": "<div>\n<style scoped>\n    .dataframe tbody tr th:only-of-type {\n        vertical-align: middle;\n    }\n\n    .dataframe tbody tr th {\n        vertical-align: top;\n    }\n\n    .dataframe thead th {\n        text-align: right;\n    }\n</style>\n<table border=\"1\" class=\"dataframe\">\n  <thead>\n    <tr style=\"text-align: right;\">\n      <th></th>\n      <th>주말여부</th>\n      <th>야간여부</th>\n      <th>사고유형</th>\n      <th>법규위반</th>\n      <th>기상상태</th>\n      <th>도로형태</th>\n      <th>가해운전자 성별- 여성0 남성1</th>\n      <th>가해운전자 연령(정규화 됨)</th>\n      <th>피해운전자 성별- 여성0 남성1</th>\n      <th>피해운전자 연령(정규화 됨)</th>\n      <th>사망사고여부</th>\n    </tr>\n  </thead>\n  <tbody>\n    <tr>\n      <th>0</th>\n      <td>0</td>\n      <td>0</td>\n      <td>차대차 - 측면충돌</td>\n      <td>안전운전불이행</td>\n      <td>맑음</td>\n      <td>단일로 - 기타</td>\n      <td>1</td>\n      <td>1.384428</td>\n      <td>1</td>\n      <td>-1.676547</td>\n      <td>0</td>\n    </tr>\n    <tr>\n      <th>1</th>\n      <td>0</td>\n      <td>0</td>\n      <td>차대차 - 측면충돌</td>\n      <td>교차로운행방법위반</td>\n      <td>맑음</td>\n      <td>교차로 - 교차로안</td>\n      <td>1</td>\n      <td>0.117883</td>\n      <td>1</td>\n      <td>-1.192179</td>\n      <td>0</td>\n    </tr>\n    <tr>\n      <th>3</th>\n      <td>0</td>\n      <td>0</td>\n      <td>차대사람 - 길가장자리구역통행중</td>\n      <td>안전운전불이행</td>\n      <td>맑음</td>\n      <td>단일로 - 기타</td>\n      <td>1</td>\n      <td>-1.908588</td>\n      <td>1</td>\n      <td>-1.494909</td>\n      <td>0</td>\n    </tr>\n    <tr>\n      <th>4</th>\n      <td>0</td>\n      <td>0</td>\n      <td>차대차 - 기타</td>\n      <td>안전운전불이행</td>\n      <td>맑음</td>\n      <td>단일로 - 기타</td>\n      <td>1</td>\n      <td>-0.198753</td>\n      <td>1</td>\n      <td>-1.192179</td>\n      <td>0</td>\n    </tr>\n    <tr>\n      <th>5</th>\n      <td>0</td>\n      <td>0</td>\n      <td>차대차 - 기타</td>\n      <td>불법유턴</td>\n      <td>맑음</td>\n      <td>단일로 - 기타</td>\n      <td>1</td>\n      <td>1.511082</td>\n      <td>1</td>\n      <td>0.442566</td>\n      <td>0</td>\n    </tr>\n    <tr>\n      <th>...</th>\n      <td>...</td>\n      <td>...</td>\n      <td>...</td>\n      <td>...</td>\n      <td>...</td>\n      <td>...</td>\n      <td>...</td>\n      <td>...</td>\n      <td>...</td>\n      <td>...</td>\n      <td>...</td>\n    </tr>\n    <tr>\n      <th>412779</th>\n      <td>0</td>\n      <td>0</td>\n      <td>차대사람 - 횡단중</td>\n      <td>보행자보호의무위반</td>\n      <td>맑음</td>\n      <td>교차로 - 교차로횡단보도내</td>\n      <td>1</td>\n      <td>-0.958679</td>\n      <td>1</td>\n      <td>1.169119</td>\n      <td>0</td>\n    </tr>\n    <tr>\n      <th>412780</th>\n      <td>0</td>\n      <td>0</td>\n      <td>차대차 - 추돌</td>\n      <td>안전운전불이행</td>\n      <td>맑음</td>\n      <td>단일로 - 기타</td>\n      <td>1</td>\n      <td>-0.642043</td>\n      <td>1</td>\n      <td>-0.828902</td>\n      <td>0</td>\n    </tr>\n    <tr>\n      <th>412781</th>\n      <td>0</td>\n      <td>0</td>\n      <td>차대차 - 측면충돌</td>\n      <td>차로위반</td>\n      <td>맑음</td>\n      <td>단일로 - 기타</td>\n      <td>1</td>\n      <td>1.447755</td>\n      <td>0</td>\n      <td>-0.949994</td>\n      <td>0</td>\n    </tr>\n    <tr>\n      <th>412782</th>\n      <td>0</td>\n      <td>0</td>\n      <td>차대차 - 후진중충돌</td>\n      <td>안전운전불이행</td>\n      <td>맑음</td>\n      <td>단일로 - 기타</td>\n      <td>1</td>\n      <td>-1.275315</td>\n      <td>1</td>\n      <td>-1.737093</td>\n      <td>0</td>\n    </tr>\n    <tr>\n      <th>412783</th>\n      <td>1</td>\n      <td>1</td>\n      <td>차대차 - 기타</td>\n      <td>안전운전불이행</td>\n      <td>맑음</td>\n      <td>단일로 - 기타</td>\n      <td>0</td>\n      <td>-0.895352</td>\n      <td>0</td>\n      <td>0.866388</td>\n      <td>0</td>\n    </tr>\n  </tbody>\n</table>\n<p>389080 rows × 11 columns</p>\n</div>"
     },
     "execution_count": 20,
     "metadata": {},
     "output_type": "execute_result"
    }
   ],
   "source": [
    "from preprocessing_data_for_unsupervised import f4_preprocess\n",
    "df= f4_preprocess(df)\n",
    "df"
   ],
   "metadata": {
    "collapsed": false,
    "pycharm": {
     "name": "#%%\n"
    }
   }
  },
  {
   "cell_type": "markdown",
   "source": [
    "## 범주형 변수 인코딩하기\n",
    "- 랜덤 포레스트나 트리 기반 알고리즘의 경우 LabelEncdoer를 활용한 인코딩을 하여도 되나, 그 외의 경우 One-Hot Encoding을 하여야 한다\n",
    "- One-Hot Encoding으로 sklearn에도 모듈이 있지만 pd.get_dummies가 사용편의성이 좋은듯\n",
    "- [아 졸려](https://blog.roboflow.com/precision-and-recall/#precision-and-recall-examples)"
   ],
   "metadata": {
    "collapsed": false,
    "pycharm": {
     "name": "#%% md\n"
    }
   }
  },
  {
   "cell_type": "code",
   "execution_count": 21,
   "outputs": [
    {
     "data": {
      "text/plain": "        주말여부  야간여부  가해운전자 성별- 여성0 남성1  가해운전자 연령(정규화 됨)  피해운전자 성별- 여성0 남성1  \\\n0          0     0                  1         1.384428                  1   \n1          0     0                  1         0.117883                  1   \n3          0     0                  1        -1.908588                  1   \n4          0     0                  1        -0.198753                  1   \n5          0     0                  1         1.511082                  1   \n...      ...   ...                ...              ...                ...   \n412779     0     0                  1        -0.958679                  1   \n412780     0     0                  1        -0.642043                  1   \n412781     0     0                  1         1.447755                  0   \n412782     0     0                  1        -1.275315                  1   \n412783     1     1                  0        -0.895352                  0   \n\n        피해운전자 연령(정규화 됨)  사망사고여부  사고유형_차대사람 - 기타  사고유형_차대사람 - 길가장자리구역통행중  \\\n0             -1.676547       0               0                       0   \n1             -1.192179       0               0                       0   \n3             -1.494909       0               0                       1   \n4             -1.192179       0               0                       0   \n5              0.442566       0               0                       0   \n...                 ...     ...             ...                     ...   \n412779         1.169119       0               0                       0   \n412780        -0.828902       0               0                       0   \n412781        -0.949994       0               0                       0   \n412782        -1.737093       0               0                       0   \n412783         0.866388       0               0                       0   \n\n        사고유형_차대사람 - 보도통행중  ...  도로형태_교차로 - 교차로횡단보도내  도로형태_기타 - 기타  \\\n0                       0  ...                    0             0   \n1                       0  ...                    0             0   \n3                       0  ...                    0             0   \n4                       0  ...                    0             0   \n5                       0  ...                    0             0   \n...                   ...  ...                  ...           ...   \n412779                  0  ...                    1             0   \n412780                  0  ...                    0             0   \n412781                  0  ...                    0             0   \n412782                  0  ...                    0             0   \n412783                  0  ...                    0             0   \n\n        도로형태_단일로 - 고가도로위  도로형태_단일로 - 교량  도로형태_단일로 - 기타  도로형태_단일로 - 지하차도(도로)내  \\\n0                      0              0              1                     0   \n1                      0              0              0                     0   \n3                      0              0              1                     0   \n4                      0              0              1                     0   \n5                      0              0              1                     0   \n...                  ...            ...            ...                   ...   \n412779                 0              0              0                     0   \n412780                 0              0              1                     0   \n412781                 0              0              1                     0   \n412782                 0              0              1                     0   \n412783                 0              0              1                     0   \n\n        도로형태_단일로 - 철길건널목  도로형태_단일로 - 터널  도로형태_미분류 - 미분류  도로형태_주차장 - 주차장  \n0                      0              0               0               0  \n1                      0              0               0               0  \n3                      0              0               0               0  \n4                      0              0               0               0  \n5                      0              0               0               0  \n...                  ...            ...             ...             ...  \n412779                 0              0               0               0  \n412780                 0              0               0               0  \n412781                 0              0               0               0  \n412782                 0              0               0               0  \n412783                 0              0               0               0  \n\n[389080 rows x 47 columns]",
      "text/html": "<div>\n<style scoped>\n    .dataframe tbody tr th:only-of-type {\n        vertical-align: middle;\n    }\n\n    .dataframe tbody tr th {\n        vertical-align: top;\n    }\n\n    .dataframe thead th {\n        text-align: right;\n    }\n</style>\n<table border=\"1\" class=\"dataframe\">\n  <thead>\n    <tr style=\"text-align: right;\">\n      <th></th>\n      <th>주말여부</th>\n      <th>야간여부</th>\n      <th>가해운전자 성별- 여성0 남성1</th>\n      <th>가해운전자 연령(정규화 됨)</th>\n      <th>피해운전자 성별- 여성0 남성1</th>\n      <th>피해운전자 연령(정규화 됨)</th>\n      <th>사망사고여부</th>\n      <th>사고유형_차대사람 - 기타</th>\n      <th>사고유형_차대사람 - 길가장자리구역통행중</th>\n      <th>사고유형_차대사람 - 보도통행중</th>\n      <th>...</th>\n      <th>도로형태_교차로 - 교차로횡단보도내</th>\n      <th>도로형태_기타 - 기타</th>\n      <th>도로형태_단일로 - 고가도로위</th>\n      <th>도로형태_단일로 - 교량</th>\n      <th>도로형태_단일로 - 기타</th>\n      <th>도로형태_단일로 - 지하차도(도로)내</th>\n      <th>도로형태_단일로 - 철길건널목</th>\n      <th>도로형태_단일로 - 터널</th>\n      <th>도로형태_미분류 - 미분류</th>\n      <th>도로형태_주차장 - 주차장</th>\n    </tr>\n  </thead>\n  <tbody>\n    <tr>\n      <th>0</th>\n      <td>0</td>\n      <td>0</td>\n      <td>1</td>\n      <td>1.384428</td>\n      <td>1</td>\n      <td>-1.676547</td>\n      <td>0</td>\n      <td>0</td>\n      <td>0</td>\n      <td>0</td>\n      <td>...</td>\n      <td>0</td>\n      <td>0</td>\n      <td>0</td>\n      <td>0</td>\n      <td>1</td>\n      <td>0</td>\n      <td>0</td>\n      <td>0</td>\n      <td>0</td>\n      <td>0</td>\n    </tr>\n    <tr>\n      <th>1</th>\n      <td>0</td>\n      <td>0</td>\n      <td>1</td>\n      <td>0.117883</td>\n      <td>1</td>\n      <td>-1.192179</td>\n      <td>0</td>\n      <td>0</td>\n      <td>0</td>\n      <td>0</td>\n      <td>...</td>\n      <td>0</td>\n      <td>0</td>\n      <td>0</td>\n      <td>0</td>\n      <td>0</td>\n      <td>0</td>\n      <td>0</td>\n      <td>0</td>\n      <td>0</td>\n      <td>0</td>\n    </tr>\n    <tr>\n      <th>3</th>\n      <td>0</td>\n      <td>0</td>\n      <td>1</td>\n      <td>-1.908588</td>\n      <td>1</td>\n      <td>-1.494909</td>\n      <td>0</td>\n      <td>0</td>\n      <td>1</td>\n      <td>0</td>\n      <td>...</td>\n      <td>0</td>\n      <td>0</td>\n      <td>0</td>\n      <td>0</td>\n      <td>1</td>\n      <td>0</td>\n      <td>0</td>\n      <td>0</td>\n      <td>0</td>\n      <td>0</td>\n    </tr>\n    <tr>\n      <th>4</th>\n      <td>0</td>\n      <td>0</td>\n      <td>1</td>\n      <td>-0.198753</td>\n      <td>1</td>\n      <td>-1.192179</td>\n      <td>0</td>\n      <td>0</td>\n      <td>0</td>\n      <td>0</td>\n      <td>...</td>\n      <td>0</td>\n      <td>0</td>\n      <td>0</td>\n      <td>0</td>\n      <td>1</td>\n      <td>0</td>\n      <td>0</td>\n      <td>0</td>\n      <td>0</td>\n      <td>0</td>\n    </tr>\n    <tr>\n      <th>5</th>\n      <td>0</td>\n      <td>0</td>\n      <td>1</td>\n      <td>1.511082</td>\n      <td>1</td>\n      <td>0.442566</td>\n      <td>0</td>\n      <td>0</td>\n      <td>0</td>\n      <td>0</td>\n      <td>...</td>\n      <td>0</td>\n      <td>0</td>\n      <td>0</td>\n      <td>0</td>\n      <td>1</td>\n      <td>0</td>\n      <td>0</td>\n      <td>0</td>\n      <td>0</td>\n      <td>0</td>\n    </tr>\n    <tr>\n      <th>...</th>\n      <td>...</td>\n      <td>...</td>\n      <td>...</td>\n      <td>...</td>\n      <td>...</td>\n      <td>...</td>\n      <td>...</td>\n      <td>...</td>\n      <td>...</td>\n      <td>...</td>\n      <td>...</td>\n      <td>...</td>\n      <td>...</td>\n      <td>...</td>\n      <td>...</td>\n      <td>...</td>\n      <td>...</td>\n      <td>...</td>\n      <td>...</td>\n      <td>...</td>\n      <td>...</td>\n    </tr>\n    <tr>\n      <th>412779</th>\n      <td>0</td>\n      <td>0</td>\n      <td>1</td>\n      <td>-0.958679</td>\n      <td>1</td>\n      <td>1.169119</td>\n      <td>0</td>\n      <td>0</td>\n      <td>0</td>\n      <td>0</td>\n      <td>...</td>\n      <td>1</td>\n      <td>0</td>\n      <td>0</td>\n      <td>0</td>\n      <td>0</td>\n      <td>0</td>\n      <td>0</td>\n      <td>0</td>\n      <td>0</td>\n      <td>0</td>\n    </tr>\n    <tr>\n      <th>412780</th>\n      <td>0</td>\n      <td>0</td>\n      <td>1</td>\n      <td>-0.642043</td>\n      <td>1</td>\n      <td>-0.828902</td>\n      <td>0</td>\n      <td>0</td>\n      <td>0</td>\n      <td>0</td>\n      <td>...</td>\n      <td>0</td>\n      <td>0</td>\n      <td>0</td>\n      <td>0</td>\n      <td>1</td>\n      <td>0</td>\n      <td>0</td>\n      <td>0</td>\n      <td>0</td>\n      <td>0</td>\n    </tr>\n    <tr>\n      <th>412781</th>\n      <td>0</td>\n      <td>0</td>\n      <td>1</td>\n      <td>1.447755</td>\n      <td>0</td>\n      <td>-0.949994</td>\n      <td>0</td>\n      <td>0</td>\n      <td>0</td>\n      <td>0</td>\n      <td>...</td>\n      <td>0</td>\n      <td>0</td>\n      <td>0</td>\n      <td>0</td>\n      <td>1</td>\n      <td>0</td>\n      <td>0</td>\n      <td>0</td>\n      <td>0</td>\n      <td>0</td>\n    </tr>\n    <tr>\n      <th>412782</th>\n      <td>0</td>\n      <td>0</td>\n      <td>1</td>\n      <td>-1.275315</td>\n      <td>1</td>\n      <td>-1.737093</td>\n      <td>0</td>\n      <td>0</td>\n      <td>0</td>\n      <td>0</td>\n      <td>...</td>\n      <td>0</td>\n      <td>0</td>\n      <td>0</td>\n      <td>0</td>\n      <td>1</td>\n      <td>0</td>\n      <td>0</td>\n      <td>0</td>\n      <td>0</td>\n      <td>0</td>\n    </tr>\n    <tr>\n      <th>412783</th>\n      <td>1</td>\n      <td>1</td>\n      <td>0</td>\n      <td>-0.895352</td>\n      <td>0</td>\n      <td>0.866388</td>\n      <td>0</td>\n      <td>0</td>\n      <td>0</td>\n      <td>0</td>\n      <td>...</td>\n      <td>0</td>\n      <td>0</td>\n      <td>0</td>\n      <td>0</td>\n      <td>1</td>\n      <td>0</td>\n      <td>0</td>\n      <td>0</td>\n      <td>0</td>\n      <td>0</td>\n    </tr>\n  </tbody>\n</table>\n<p>389080 rows × 47 columns</p>\n</div>"
     },
     "execution_count": 21,
     "metadata": {},
     "output_type": "execute_result"
    }
   ],
   "source": [
    "from preprocessing_data_for_unsupervised import f5_encdoding_OneHot\n",
    "df= f5_encdoding_OneHot(df)\n",
    "df"
   ],
   "metadata": {
    "collapsed": false,
    "pycharm": {
     "name": "#%%\n"
    }
   }
  },
  {
   "cell_type": "markdown",
   "source": [
    "## 이상치 데이터 제거하기\n",
    "- 데이터를 작은값부터 큰값으로 나열한다고 하자 이러한 데이터의 크기순서를 0%~100%로 표기한다\n",
    "- 25~75%구간을 IQR(Inter Quantile Range)이라 정의한다\n",
    "- 이상치는 임의로 정의하는데 보통 사용하는 방법은 최솟값에서 1.5IQR를 뺀값을, 최댓값에서 1.5IQR을 더한값을 경계로 하여 그 경계 바깥에 있는 데이터값을 이상치로 간주하는 것이다"
   ],
   "metadata": {
    "collapsed": false,
    "pycharm": {
     "name": "#%% md\n"
    }
   }
  },
  {
   "cell_type": "code",
   "execution_count": 22,
   "outputs": [
    {
     "data": {
      "text/plain": "        주말여부  야간여부  가해운전자 성별- 여성0 남성1  가해운전자 연령(정규화 됨)  피해운전자 성별- 여성0 남성1  \\\n0          0     0                  1         1.384428                  1   \n1          0     0                  1         0.117883                  1   \n3          0     0                  1        -1.908588                  1   \n4          0     0                  1        -0.198753                  1   \n5          0     0                  1         1.511082                  1   \n...      ...   ...                ...              ...                ...   \n412779     0     0                  1        -0.958679                  1   \n412780     0     0                  1        -0.642043                  1   \n412781     0     0                  1         1.447755                  0   \n412782     0     0                  1        -1.275315                  1   \n412783     1     1                  0        -0.895352                  0   \n\n        피해운전자 연령(정규화 됨)  사망사고여부  사고유형_차대사람 - 기타  사고유형_차대사람 - 길가장자리구역통행중  \\\n0             -1.676547       0               0                       0   \n1             -1.192179       0               0                       0   \n3             -1.494909       0               0                       1   \n4             -1.192179       0               0                       0   \n5              0.442566       0               0                       0   \n...                 ...     ...             ...                     ...   \n412779         1.169119       0               0                       0   \n412780        -0.828902       0               0                       0   \n412781        -0.949994       0               0                       0   \n412782        -1.737093       0               0                       0   \n412783         0.866388       0               0                       0   \n\n        사고유형_차대사람 - 보도통행중  ...  도로형태_교차로 - 교차로횡단보도내  도로형태_기타 - 기타  \\\n0                       0  ...                    0             0   \n1                       0  ...                    0             0   \n3                       0  ...                    0             0   \n4                       0  ...                    0             0   \n5                       0  ...                    0             0   \n...                   ...  ...                  ...           ...   \n412779                  0  ...                    1             0   \n412780                  0  ...                    0             0   \n412781                  0  ...                    0             0   \n412782                  0  ...                    0             0   \n412783                  0  ...                    0             0   \n\n        도로형태_단일로 - 고가도로위  도로형태_단일로 - 교량  도로형태_단일로 - 기타  도로형태_단일로 - 지하차도(도로)내  \\\n0                      0              0              1                     0   \n1                      0              0              0                     0   \n3                      0              0              1                     0   \n4                      0              0              1                     0   \n5                      0              0              1                     0   \n...                  ...            ...            ...                   ...   \n412779                 0              0              0                     0   \n412780                 0              0              1                     0   \n412781                 0              0              1                     0   \n412782                 0              0              1                     0   \n412783                 0              0              1                     0   \n\n        도로형태_단일로 - 철길건널목  도로형태_단일로 - 터널  도로형태_미분류 - 미분류  도로형태_주차장 - 주차장  \n0                      0              0               0               0  \n1                      0              0               0               0  \n3                      0              0               0               0  \n4                      0              0               0               0  \n5                      0              0               0               0  \n...                  ...            ...             ...             ...  \n412779                 0              0               0               0  \n412780                 0              0               0               0  \n412781                 0              0               0               0  \n412782                 0              0               0               0  \n412783                 0              0               0               0  \n\n[388816 rows x 47 columns]",
      "text/html": "<div>\n<style scoped>\n    .dataframe tbody tr th:only-of-type {\n        vertical-align: middle;\n    }\n\n    .dataframe tbody tr th {\n        vertical-align: top;\n    }\n\n    .dataframe thead th {\n        text-align: right;\n    }\n</style>\n<table border=\"1\" class=\"dataframe\">\n  <thead>\n    <tr style=\"text-align: right;\">\n      <th></th>\n      <th>주말여부</th>\n      <th>야간여부</th>\n      <th>가해운전자 성별- 여성0 남성1</th>\n      <th>가해운전자 연령(정규화 됨)</th>\n      <th>피해운전자 성별- 여성0 남성1</th>\n      <th>피해운전자 연령(정규화 됨)</th>\n      <th>사망사고여부</th>\n      <th>사고유형_차대사람 - 기타</th>\n      <th>사고유형_차대사람 - 길가장자리구역통행중</th>\n      <th>사고유형_차대사람 - 보도통행중</th>\n      <th>...</th>\n      <th>도로형태_교차로 - 교차로횡단보도내</th>\n      <th>도로형태_기타 - 기타</th>\n      <th>도로형태_단일로 - 고가도로위</th>\n      <th>도로형태_단일로 - 교량</th>\n      <th>도로형태_단일로 - 기타</th>\n      <th>도로형태_단일로 - 지하차도(도로)내</th>\n      <th>도로형태_단일로 - 철길건널목</th>\n      <th>도로형태_단일로 - 터널</th>\n      <th>도로형태_미분류 - 미분류</th>\n      <th>도로형태_주차장 - 주차장</th>\n    </tr>\n  </thead>\n  <tbody>\n    <tr>\n      <th>0</th>\n      <td>0</td>\n      <td>0</td>\n      <td>1</td>\n      <td>1.384428</td>\n      <td>1</td>\n      <td>-1.676547</td>\n      <td>0</td>\n      <td>0</td>\n      <td>0</td>\n      <td>0</td>\n      <td>...</td>\n      <td>0</td>\n      <td>0</td>\n      <td>0</td>\n      <td>0</td>\n      <td>1</td>\n      <td>0</td>\n      <td>0</td>\n      <td>0</td>\n      <td>0</td>\n      <td>0</td>\n    </tr>\n    <tr>\n      <th>1</th>\n      <td>0</td>\n      <td>0</td>\n      <td>1</td>\n      <td>0.117883</td>\n      <td>1</td>\n      <td>-1.192179</td>\n      <td>0</td>\n      <td>0</td>\n      <td>0</td>\n      <td>0</td>\n      <td>...</td>\n      <td>0</td>\n      <td>0</td>\n      <td>0</td>\n      <td>0</td>\n      <td>0</td>\n      <td>0</td>\n      <td>0</td>\n      <td>0</td>\n      <td>0</td>\n      <td>0</td>\n    </tr>\n    <tr>\n      <th>3</th>\n      <td>0</td>\n      <td>0</td>\n      <td>1</td>\n      <td>-1.908588</td>\n      <td>1</td>\n      <td>-1.494909</td>\n      <td>0</td>\n      <td>0</td>\n      <td>1</td>\n      <td>0</td>\n      <td>...</td>\n      <td>0</td>\n      <td>0</td>\n      <td>0</td>\n      <td>0</td>\n      <td>1</td>\n      <td>0</td>\n      <td>0</td>\n      <td>0</td>\n      <td>0</td>\n      <td>0</td>\n    </tr>\n    <tr>\n      <th>4</th>\n      <td>0</td>\n      <td>0</td>\n      <td>1</td>\n      <td>-0.198753</td>\n      <td>1</td>\n      <td>-1.192179</td>\n      <td>0</td>\n      <td>0</td>\n      <td>0</td>\n      <td>0</td>\n      <td>...</td>\n      <td>0</td>\n      <td>0</td>\n      <td>0</td>\n      <td>0</td>\n      <td>1</td>\n      <td>0</td>\n      <td>0</td>\n      <td>0</td>\n      <td>0</td>\n      <td>0</td>\n    </tr>\n    <tr>\n      <th>5</th>\n      <td>0</td>\n      <td>0</td>\n      <td>1</td>\n      <td>1.511082</td>\n      <td>1</td>\n      <td>0.442566</td>\n      <td>0</td>\n      <td>0</td>\n      <td>0</td>\n      <td>0</td>\n      <td>...</td>\n      <td>0</td>\n      <td>0</td>\n      <td>0</td>\n      <td>0</td>\n      <td>1</td>\n      <td>0</td>\n      <td>0</td>\n      <td>0</td>\n      <td>0</td>\n      <td>0</td>\n    </tr>\n    <tr>\n      <th>...</th>\n      <td>...</td>\n      <td>...</td>\n      <td>...</td>\n      <td>...</td>\n      <td>...</td>\n      <td>...</td>\n      <td>...</td>\n      <td>...</td>\n      <td>...</td>\n      <td>...</td>\n      <td>...</td>\n      <td>...</td>\n      <td>...</td>\n      <td>...</td>\n      <td>...</td>\n      <td>...</td>\n      <td>...</td>\n      <td>...</td>\n      <td>...</td>\n      <td>...</td>\n      <td>...</td>\n    </tr>\n    <tr>\n      <th>412779</th>\n      <td>0</td>\n      <td>0</td>\n      <td>1</td>\n      <td>-0.958679</td>\n      <td>1</td>\n      <td>1.169119</td>\n      <td>0</td>\n      <td>0</td>\n      <td>0</td>\n      <td>0</td>\n      <td>...</td>\n      <td>1</td>\n      <td>0</td>\n      <td>0</td>\n      <td>0</td>\n      <td>0</td>\n      <td>0</td>\n      <td>0</td>\n      <td>0</td>\n      <td>0</td>\n      <td>0</td>\n    </tr>\n    <tr>\n      <th>412780</th>\n      <td>0</td>\n      <td>0</td>\n      <td>1</td>\n      <td>-0.642043</td>\n      <td>1</td>\n      <td>-0.828902</td>\n      <td>0</td>\n      <td>0</td>\n      <td>0</td>\n      <td>0</td>\n      <td>...</td>\n      <td>0</td>\n      <td>0</td>\n      <td>0</td>\n      <td>0</td>\n      <td>1</td>\n      <td>0</td>\n      <td>0</td>\n      <td>0</td>\n      <td>0</td>\n      <td>0</td>\n    </tr>\n    <tr>\n      <th>412781</th>\n      <td>0</td>\n      <td>0</td>\n      <td>1</td>\n      <td>1.447755</td>\n      <td>0</td>\n      <td>-0.949994</td>\n      <td>0</td>\n      <td>0</td>\n      <td>0</td>\n      <td>0</td>\n      <td>...</td>\n      <td>0</td>\n      <td>0</td>\n      <td>0</td>\n      <td>0</td>\n      <td>1</td>\n      <td>0</td>\n      <td>0</td>\n      <td>0</td>\n      <td>0</td>\n      <td>0</td>\n    </tr>\n    <tr>\n      <th>412782</th>\n      <td>0</td>\n      <td>0</td>\n      <td>1</td>\n      <td>-1.275315</td>\n      <td>1</td>\n      <td>-1.737093</td>\n      <td>0</td>\n      <td>0</td>\n      <td>0</td>\n      <td>0</td>\n      <td>...</td>\n      <td>0</td>\n      <td>0</td>\n      <td>0</td>\n      <td>0</td>\n      <td>1</td>\n      <td>0</td>\n      <td>0</td>\n      <td>0</td>\n      <td>0</td>\n      <td>0</td>\n    </tr>\n    <tr>\n      <th>412783</th>\n      <td>1</td>\n      <td>1</td>\n      <td>0</td>\n      <td>-0.895352</td>\n      <td>0</td>\n      <td>0.866388</td>\n      <td>0</td>\n      <td>0</td>\n      <td>0</td>\n      <td>0</td>\n      <td>...</td>\n      <td>0</td>\n      <td>0</td>\n      <td>0</td>\n      <td>0</td>\n      <td>1</td>\n      <td>0</td>\n      <td>0</td>\n      <td>0</td>\n      <td>0</td>\n      <td>0</td>\n    </tr>\n  </tbody>\n</table>\n<p>388816 rows × 47 columns</p>\n</div>"
     },
     "execution_count": 22,
     "metadata": {},
     "output_type": "execute_result"
    }
   ],
   "source": [
    "from preprocessing_data_for_unsupervised import f6_drop_outlier\n",
    "df= f6_drop_outlier(df)\n",
    "df"
   ],
   "metadata": {
    "collapsed": false,
    "pycharm": {
     "name": "#%%\n"
    }
   }
  },
  {
   "cell_type": "code",
   "execution_count": 23,
   "outputs": [
    {
     "data": {
      "text/plain": "        주말여부  야간여부  가해운전자 성별- 여성0 남성1  가해운전자 연령(정규화 됨)  피해운전자 성별- 여성0 남성1  \\\n0          0     0                  1         1.384428                  1   \n1          0     0                  1         0.117883                  1   \n3          0     0                  1        -1.908588                  1   \n4          0     0                  1        -0.198753                  1   \n5          0     0                  1         1.511082                  1   \n...      ...   ...                ...              ...                ...   \n412779     0     0                  1        -0.958679                  1   \n412780     0     0                  1        -0.642043                  1   \n412781     0     0                  1         1.447755                  0   \n412782     0     0                  1        -1.275315                  1   \n412783     1     1                  0        -0.895352                  0   \n\n        피해운전자 연령(정규화 됨)  사망사고여부  사고유형_차대사람 - 기타  사고유형_차대사람 - 길가장자리구역통행중  \\\n0             -1.676547       0               0                       0   \n1             -1.192179       0               0                       0   \n3             -1.494909       0               0                       1   \n4             -1.192179       0               0                       0   \n5              0.442566       0               0                       0   \n...                 ...     ...             ...                     ...   \n412779         1.169119       0               0                       0   \n412780        -0.828902       0               0                       0   \n412781        -0.949994       0               0                       0   \n412782        -1.737093       0               0                       0   \n412783         0.866388       0               0                       0   \n\n        사고유형_차대사람 - 보도통행중  ...  도로형태_교차로 - 교차로횡단보도내  도로형태_기타 - 기타  \\\n0                       0  ...                    0             0   \n1                       0  ...                    0             0   \n3                       0  ...                    0             0   \n4                       0  ...                    0             0   \n5                       0  ...                    0             0   \n...                   ...  ...                  ...           ...   \n412779                  0  ...                    1             0   \n412780                  0  ...                    0             0   \n412781                  0  ...                    0             0   \n412782                  0  ...                    0             0   \n412783                  0  ...                    0             0   \n\n        도로형태_단일로 - 고가도로위  도로형태_단일로 - 교량  도로형태_단일로 - 기타  도로형태_단일로 - 지하차도(도로)내  \\\n0                      0              0              1                     0   \n1                      0              0              0                     0   \n3                      0              0              1                     0   \n4                      0              0              1                     0   \n5                      0              0              1                     0   \n...                  ...            ...            ...                   ...   \n412779                 0              0              0                     0   \n412780                 0              0              1                     0   \n412781                 0              0              1                     0   \n412782                 0              0              1                     0   \n412783                 0              0              1                     0   \n\n        도로형태_단일로 - 철길건널목  도로형태_단일로 - 터널  도로형태_미분류 - 미분류  도로형태_주차장 - 주차장  \n0                      0              0               0               0  \n1                      0              0               0               0  \n3                      0              0               0               0  \n4                      0              0               0               0  \n5                      0              0               0               0  \n...                  ...            ...             ...             ...  \n412779                 0              0               0               0  \n412780                 0              0               0               0  \n412781                 0              0               0               0  \n412782                 0              0               0               0  \n412783                 0              0               0               0  \n\n[384643 rows x 47 columns]",
      "text/html": "<div>\n<style scoped>\n    .dataframe tbody tr th:only-of-type {\n        vertical-align: middle;\n    }\n\n    .dataframe tbody tr th {\n        vertical-align: top;\n    }\n\n    .dataframe thead th {\n        text-align: right;\n    }\n</style>\n<table border=\"1\" class=\"dataframe\">\n  <thead>\n    <tr style=\"text-align: right;\">\n      <th></th>\n      <th>주말여부</th>\n      <th>야간여부</th>\n      <th>가해운전자 성별- 여성0 남성1</th>\n      <th>가해운전자 연령(정규화 됨)</th>\n      <th>피해운전자 성별- 여성0 남성1</th>\n      <th>피해운전자 연령(정규화 됨)</th>\n      <th>사망사고여부</th>\n      <th>사고유형_차대사람 - 기타</th>\n      <th>사고유형_차대사람 - 길가장자리구역통행중</th>\n      <th>사고유형_차대사람 - 보도통행중</th>\n      <th>...</th>\n      <th>도로형태_교차로 - 교차로횡단보도내</th>\n      <th>도로형태_기타 - 기타</th>\n      <th>도로형태_단일로 - 고가도로위</th>\n      <th>도로형태_단일로 - 교량</th>\n      <th>도로형태_단일로 - 기타</th>\n      <th>도로형태_단일로 - 지하차도(도로)내</th>\n      <th>도로형태_단일로 - 철길건널목</th>\n      <th>도로형태_단일로 - 터널</th>\n      <th>도로형태_미분류 - 미분류</th>\n      <th>도로형태_주차장 - 주차장</th>\n    </tr>\n  </thead>\n  <tbody>\n    <tr>\n      <th>0</th>\n      <td>0</td>\n      <td>0</td>\n      <td>1</td>\n      <td>1.384428</td>\n      <td>1</td>\n      <td>-1.676547</td>\n      <td>0</td>\n      <td>0</td>\n      <td>0</td>\n      <td>0</td>\n      <td>...</td>\n      <td>0</td>\n      <td>0</td>\n      <td>0</td>\n      <td>0</td>\n      <td>1</td>\n      <td>0</td>\n      <td>0</td>\n      <td>0</td>\n      <td>0</td>\n      <td>0</td>\n    </tr>\n    <tr>\n      <th>1</th>\n      <td>0</td>\n      <td>0</td>\n      <td>1</td>\n      <td>0.117883</td>\n      <td>1</td>\n      <td>-1.192179</td>\n      <td>0</td>\n      <td>0</td>\n      <td>0</td>\n      <td>0</td>\n      <td>...</td>\n      <td>0</td>\n      <td>0</td>\n      <td>0</td>\n      <td>0</td>\n      <td>0</td>\n      <td>0</td>\n      <td>0</td>\n      <td>0</td>\n      <td>0</td>\n      <td>0</td>\n    </tr>\n    <tr>\n      <th>3</th>\n      <td>0</td>\n      <td>0</td>\n      <td>1</td>\n      <td>-1.908588</td>\n      <td>1</td>\n      <td>-1.494909</td>\n      <td>0</td>\n      <td>0</td>\n      <td>1</td>\n      <td>0</td>\n      <td>...</td>\n      <td>0</td>\n      <td>0</td>\n      <td>0</td>\n      <td>0</td>\n      <td>1</td>\n      <td>0</td>\n      <td>0</td>\n      <td>0</td>\n      <td>0</td>\n      <td>0</td>\n    </tr>\n    <tr>\n      <th>4</th>\n      <td>0</td>\n      <td>0</td>\n      <td>1</td>\n      <td>-0.198753</td>\n      <td>1</td>\n      <td>-1.192179</td>\n      <td>0</td>\n      <td>0</td>\n      <td>0</td>\n      <td>0</td>\n      <td>...</td>\n      <td>0</td>\n      <td>0</td>\n      <td>0</td>\n      <td>0</td>\n      <td>1</td>\n      <td>0</td>\n      <td>0</td>\n      <td>0</td>\n      <td>0</td>\n      <td>0</td>\n    </tr>\n    <tr>\n      <th>5</th>\n      <td>0</td>\n      <td>0</td>\n      <td>1</td>\n      <td>1.511082</td>\n      <td>1</td>\n      <td>0.442566</td>\n      <td>0</td>\n      <td>0</td>\n      <td>0</td>\n      <td>0</td>\n      <td>...</td>\n      <td>0</td>\n      <td>0</td>\n      <td>0</td>\n      <td>0</td>\n      <td>1</td>\n      <td>0</td>\n      <td>0</td>\n      <td>0</td>\n      <td>0</td>\n      <td>0</td>\n    </tr>\n    <tr>\n      <th>...</th>\n      <td>...</td>\n      <td>...</td>\n      <td>...</td>\n      <td>...</td>\n      <td>...</td>\n      <td>...</td>\n      <td>...</td>\n      <td>...</td>\n      <td>...</td>\n      <td>...</td>\n      <td>...</td>\n      <td>...</td>\n      <td>...</td>\n      <td>...</td>\n      <td>...</td>\n      <td>...</td>\n      <td>...</td>\n      <td>...</td>\n      <td>...</td>\n      <td>...</td>\n      <td>...</td>\n    </tr>\n    <tr>\n      <th>412779</th>\n      <td>0</td>\n      <td>0</td>\n      <td>1</td>\n      <td>-0.958679</td>\n      <td>1</td>\n      <td>1.169119</td>\n      <td>0</td>\n      <td>0</td>\n      <td>0</td>\n      <td>0</td>\n      <td>...</td>\n      <td>1</td>\n      <td>0</td>\n      <td>0</td>\n      <td>0</td>\n      <td>0</td>\n      <td>0</td>\n      <td>0</td>\n      <td>0</td>\n      <td>0</td>\n      <td>0</td>\n    </tr>\n    <tr>\n      <th>412780</th>\n      <td>0</td>\n      <td>0</td>\n      <td>1</td>\n      <td>-0.642043</td>\n      <td>1</td>\n      <td>-0.828902</td>\n      <td>0</td>\n      <td>0</td>\n      <td>0</td>\n      <td>0</td>\n      <td>...</td>\n      <td>0</td>\n      <td>0</td>\n      <td>0</td>\n      <td>0</td>\n      <td>1</td>\n      <td>0</td>\n      <td>0</td>\n      <td>0</td>\n      <td>0</td>\n      <td>0</td>\n    </tr>\n    <tr>\n      <th>412781</th>\n      <td>0</td>\n      <td>0</td>\n      <td>1</td>\n      <td>1.447755</td>\n      <td>0</td>\n      <td>-0.949994</td>\n      <td>0</td>\n      <td>0</td>\n      <td>0</td>\n      <td>0</td>\n      <td>...</td>\n      <td>0</td>\n      <td>0</td>\n      <td>0</td>\n      <td>0</td>\n      <td>1</td>\n      <td>0</td>\n      <td>0</td>\n      <td>0</td>\n      <td>0</td>\n      <td>0</td>\n    </tr>\n    <tr>\n      <th>412782</th>\n      <td>0</td>\n      <td>0</td>\n      <td>1</td>\n      <td>-1.275315</td>\n      <td>1</td>\n      <td>-1.737093</td>\n      <td>0</td>\n      <td>0</td>\n      <td>0</td>\n      <td>0</td>\n      <td>...</td>\n      <td>0</td>\n      <td>0</td>\n      <td>0</td>\n      <td>0</td>\n      <td>1</td>\n      <td>0</td>\n      <td>0</td>\n      <td>0</td>\n      <td>0</td>\n      <td>0</td>\n    </tr>\n    <tr>\n      <th>412783</th>\n      <td>1</td>\n      <td>1</td>\n      <td>0</td>\n      <td>-0.895352</td>\n      <td>0</td>\n      <td>0.866388</td>\n      <td>0</td>\n      <td>0</td>\n      <td>0</td>\n      <td>0</td>\n      <td>...</td>\n      <td>0</td>\n      <td>0</td>\n      <td>0</td>\n      <td>0</td>\n      <td>1</td>\n      <td>0</td>\n      <td>0</td>\n      <td>0</td>\n      <td>0</td>\n      <td>0</td>\n    </tr>\n  </tbody>\n</table>\n<p>384643 rows × 47 columns</p>\n</div>"
     },
     "execution_count": 23,
     "metadata": {},
     "output_type": "execute_result"
    }
   ],
   "source": [
    "df[df['사망사고여부']==0]"
   ],
   "metadata": {
    "collapsed": false,
    "pycharm": {
     "name": "#%%\n"
    }
   }
  },
  {
   "cell_type": "markdown",
   "source": [
    " # 데이터 쪼개기"
   ],
   "metadata": {
    "collapsed": false,
    "pycharm": {
     "name": "#%% md\n"
    }
   }
  },
  {
   "cell_type": "code",
   "execution_count": 24,
   "outputs": [
    {
     "name": "stdout",
     "output_type": "stream",
     "text": [
      "X_neg_train의 크기는 307714, y의 크기는 307714\n",
      "X_test의 크기는 77764, y의 크기는 77764\n"
     ]
    }
   ],
   "source": [
    "from preprocessing_data_for_unsupervised import f7_divide_dataset_for_oneSVM\n",
    "X_neg_train,X_test,y_test= f7_divide_dataset_for_oneSVM(df)"
   ],
   "metadata": {
    "collapsed": false,
    "pycharm": {
     "name": "#%%\n"
    }
   }
  },
  {
   "cell_type": "code",
   "execution_count": 25,
   "outputs": [
    {
     "data": {
      "text/plain": "835"
     },
     "execution_count": 25,
     "metadata": {},
     "output_type": "execute_result"
    }
   ],
   "source": [
    "y_test.sum()"
   ],
   "metadata": {
    "collapsed": false,
    "pycharm": {
     "name": "#%%\n"
    }
   }
  },
  {
   "cell_type": "markdown",
   "source": [
    "## 머신러닝 모듈 정리해두기"
   ],
   "metadata": {
    "collapsed": false,
    "pycharm": {
     "name": "#%% md\n"
    }
   }
  },
  {
   "cell_type": "code",
   "execution_count": 26,
   "outputs": [],
   "source": [
    "\"\"\"\"Binarizer: 문턱값(threshold)를 설정하여 그 이상값을 입력받으면 1을, 아니면 0을 반환하는 함수.\n",
    "보통 pred_proba란 함수가 특정 카테고리에 대한 확률값을 제공하는 함수인데, 지금 이 예제와 같이 y의 0과 1의 비율이 크게 차이가\n",
    "나는 경우 1에 대한 예측 확률이 크게 작다. 원래는 1에 대한 pred_proba 예측이 0.5이상 일때 1을 예측하는데, Binarizer를 통해\n",
    "1을 예측하기 위한 확률 문턱값을 낮출수 있고, 그를 통해 재현율(실제 1일일때 1을 예측하는 비율)을 높일 수 있다\"\"\"\n",
    "from sklearn.preprocessing import Binarizer\n",
    "\n",
    "#GridSearchCV 라이브러리(HyperParameter를 일일히 대입하여 최적의 파라미터를 찾는 알고리즘)\n",
    "from sklearn.model_selection import GridSearchCV\n",
    "\n",
    "#머신러닝 성능 지표 관련 라이브러리\n",
    "from sklearn.metrics import accuracy_score,precision_score,roc_auc_score,recall_score\n",
    "\n",
    "#피처 중요도를 순위메기기 위해 사용하는 모듈\n",
    "from sklearn.inspection import permutation_importance\n",
    "from sklearn.metrics import make_scorer\n",
    "\n",
    "#SVM 라이브러리\n",
    "from sklearn import svm\n",
    "from sklearn.svm import OneClassSVM\n",
    "from sklearn.linear_model import SGDOneClassSVM\n",
    "from sklearn.kernel_approximation import Nystroem\n",
    "from sklearn.pipeline import make_pipeline\n",
    "from sklearn import linear_model\n",
    "\n",
    "#Isolation Forest\n",
    "from sklearn.ensemble import IsolationForest"
   ],
   "metadata": {
    "collapsed": false,
    "pycharm": {
     "name": "#%%\n"
    }
   }
  },
  {
   "cell_type": "markdown",
   "source": [
    "## SGD One-class SVM"
   ],
   "metadata": {
    "collapsed": false,
    "pycharm": {
     "name": "#%% md\n"
    }
   }
  },
  {
   "cell_type": "code",
   "execution_count": 27,
   "outputs": [
    {
     "name": "stdout",
     "output_type": "stream",
     "text": [
      "-- Epoch 1\n",
      "Norm: 1.60, NNZs: 46, Bias: -0.420456, T: 307714, Avg. loss: 0.001380\n",
      "Total training time: 0.05 seconds.\n",
      "-- Epoch 2\n",
      "Norm: 1.61, NNZs: 46, Bias: -0.429745, T: 615428, Avg. loss: 0.001402\n",
      "Total training time: 0.10 seconds.\n",
      "-- Epoch 3\n",
      "Norm: 1.62, NNZs: 46, Bias: -0.433790, T: 923142, Avg. loss: 0.001391\n",
      "Total training time: 0.16 seconds.\n",
      "-- Epoch 4\n",
      "Norm: 1.62, NNZs: 46, Bias: -0.436607, T: 1230856, Avg. loss: 0.001420\n",
      "Total training time: 0.21 seconds.\n",
      "-- Epoch 5\n",
      "Norm: 1.62, NNZs: 46, Bias: -0.438992, T: 1538570, Avg. loss: 0.001412\n",
      "Total training time: 0.25 seconds.\n",
      "-- Epoch 6\n",
      "Norm: 1.62, NNZs: 46, Bias: -0.439952, T: 1846284, Avg. loss: 0.001406\n",
      "Total training time: 0.30 seconds.\n",
      "Convergence after 6 epochs took 0.30 seconds\n",
      "precision은 0.010824049932843485 입니다\n",
      "recall은 0.9844311377245509 입니다\n"
     ]
    }
   ],
   "source": [
    "# One-class- SVM hyperparameters\n",
    "nu = 0.0125\n",
    "gamma = 'auto'\n",
    "\n",
    "# Fit the SGD One-Class SVM\n",
    "OCSVM_clf = linear_model.SGDOneClassSVM(nu=nu,verbose=True)\n",
    "OCSVM_clf.fit(X_neg_train)\n",
    "y_pred = OCSVM_clf.predict(X_test)\n",
    "\n",
    "\n",
    "#예측과 실제 데이터값 비교\n",
    "T_F_lst=[]\n",
    "for i in range(len(y_pred)):\n",
    "    T_F_lst.append(y_test.values[i]== y_pred[i])\n",
    "\n",
    "#precision값 측정하기\n",
    "print(f'precision은 {np.array(T_F_lst).sum()/np.array(y_pred).sum()} 입니다')\n",
    "\n",
    "#recall 값 측정하기\n",
    "N_positive=(y_test.values).sum()\n",
    "print(f'recall은 {np.array(T_F_lst).sum()/N_positive} 입니다')\n"
   ],
   "metadata": {
    "collapsed": false,
    "pycharm": {
     "name": "#%%\n"
    }
   }
  },
  {
   "cell_type": "markdown",
   "source": [
    "## Isolation Forest"
   ],
   "metadata": {
    "collapsed": false,
    "pycharm": {
     "name": "#%% md\n"
    }
   }
  },
  {
   "cell_type": "code",
   "execution_count": 28,
   "outputs": [
    {
     "name": "stderr",
     "output_type": "stream",
     "text": [
      "[Parallel(n_jobs=1)]: Using backend SequentialBackend with 1 concurrent workers.\n",
      "[Parallel(n_jobs=1)]: Done   1 out of   1 | elapsed:    1.8s finished\n"
     ]
    },
    {
     "name": "stdout",
     "output_type": "stream",
     "text": [
      "precision은 0.010970317188169739 입니다\n",
      "recall은 0.9808383233532935 입니다\n"
     ]
    }
   ],
   "source": [
    "Isolation_Forest = IsolationForest(verbose=True)\n",
    "Isolation_Forest.fit(X_neg_train)\n",
    "y_pred = Isolation_Forest.predict(X_test)\n",
    "\n",
    "\n",
    "#예측과 실제 데이터값 비교\n",
    "T_F_lst=[]\n",
    "for i in range(len(y_pred)):\n",
    "    T_F_lst.append(y_test.values[i]== y_pred[i])\n",
    "\n",
    "#precision값 측정하기\n",
    "print(f'precision은 {np.array(T_F_lst).sum()/np.array(y_pred).sum()} 입니다')\n",
    "\n",
    "#recall 값 측정하기\n",
    "N_positive=(y_test.values).sum()\n",
    "print(f'recall은 {np.array(T_F_lst).sum()/N_positive} 입니다')"
   ],
   "metadata": {
    "collapsed": false,
    "pycharm": {
     "name": "#%%\n"
    }
   }
  },
  {
   "cell_type": "markdown",
   "source": [],
   "metadata": {
    "collapsed": false,
    "pycharm": {
     "name": "#%% md\n"
    }
   }
  },
  {
   "cell_type": "code",
   "execution_count": 28,
   "outputs": [],
   "source": [],
   "metadata": {
    "collapsed": false,
    "pycharm": {
     "name": "#%%\n"
    }
   }
  }
 ],
 "metadata": {
  "kernelspec": {
   "display_name": "Python 3",
   "language": "python",
   "name": "python3"
  },
  "language_info": {
   "codemirror_mode": {
    "name": "ipython",
    "version": 2
   },
   "file_extension": ".py",
   "mimetype": "text/x-python",
   "name": "python",
   "nbconvert_exporter": "python",
   "pygments_lexer": "ipython2",
   "version": "2.7.6"
  }
 },
 "nbformat": 4,
 "nbformat_minor": 0
}